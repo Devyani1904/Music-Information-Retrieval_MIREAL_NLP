{
 "cells": [
  {
   "cell_type": "code",
   "execution_count": 2,
   "metadata": {},
   "outputs": [],
   "source": [
    "import numpy as np\n",
    "import pandas as pd\n",
    "import os \n",
    "import warnings\n",
    "warnings.filterwarnings('ignore') # to hide warnings such as 'Gensims: detected Windows', and to hide deprecation warnings for TF's random seed\n",
    "\n",
    "from IPython.display import display # to display DataFrames\n",
    "import matplotlib.pyplot as plt\n",
    "%matplotlib inline\n",
    "\n",
    "import data_utils\n",
    "import text_utils\n",
    "import display_utils\n",
    "\n",
    "from time import time as now"
   ]
  },
  {
   "cell_type": "code",
   "execution_count": 3,
   "metadata": {},
   "outputs": [
    {
     "name": "stderr",
     "output_type": "stream",
     "text": [
      "[nltk_data] Downloading package stopwords to\n",
      "[nltk_data]     /Users/huzefaraja/nltk_data...\n",
      "[nltk_data]   Package stopwords is already up-to-date!\n",
      "[nltk_data] Downloading package averaged_perceptron_tagger to\n",
      "[nltk_data]     /Users/huzefaraja/nltk_data...\n",
      "[nltk_data]   Package averaged_perceptron_tagger is already up-to-\n",
      "[nltk_data]       date!\n"
     ]
    },
    {
     "data": {
      "text/plain": [
       "True"
      ]
     },
     "execution_count": 3,
     "metadata": {},
     "output_type": "execute_result"
    }
   ],
   "source": [
    "import nltk\n",
    "import ssl\n",
    "\n",
    "try:\n",
    "    _create_unverified_https_context = ssl._create_unverified_context\n",
    "except AttributeError:\n",
    "    pass\n",
    "else:\n",
    "    ssl._create_default_https_context = _create_unverified_https_context\n",
    "\n",
    "nltk.download('stopwords')\n",
    "nltk.download('averaged_perceptron_tagger')"
   ]
  },
  {
   "cell_type": "code",
   "execution_count": 4,
   "metadata": {},
   "outputs": [
    {
     "name": "stdout",
     "output_type": "stream",
     "text": [
      "Number of songs in the CSV: 57650\n",
      "Number of songs in the CSV after removing missing data: 57650\n"
     ]
    }
   ],
   "source": [
    "all_data = pd.read_csv(\"songdata.csv\")\n",
    "print(\"Number of songs in the CSV: \" + str(len(all_data)))\n",
    "\n",
    "all_data = all_data.dropna(axis=0, how='any')[['artist', 'song', 'link', 'text']].reset_index(drop=True)\n",
    "print(\"Number of songs in the CSV after removing missing data: \" + str(len(all_data)))"
   ]
  },
  {
   "cell_type": "markdown",
   "metadata": {},
   "source": [
    "Data Preprocessing\n",
    "\n",
    "Below, we remove songs by a few of the artists, and then take the top 500 artists from the remainder of the dataset. Duplicate songs by the same artists are dropped, and songs that have identical lyrics are only kept once."
   ]
  },
  {
   "cell_type": "code",
   "execution_count": 4,
   "metadata": {},
   "outputs": [
    {
     "name": "stdout",
     "output_type": "stream",
     "text": [
      "Number of songs: 54837\n",
      "Number of songs after dropping duplicates: 54685\n",
      "Sample Data: \n"
     ]
    },
    {
     "data": {
      "text/html": [
       "<div>\n",
       "<style scoped>\n",
       "    .dataframe tbody tr th:only-of-type {\n",
       "        vertical-align: middle;\n",
       "    }\n",
       "\n",
       "    .dataframe tbody tr th {\n",
       "        vertical-align: top;\n",
       "    }\n",
       "\n",
       "    .dataframe thead th {\n",
       "        text-align: right;\n",
       "    }\n",
       "</style>\n",
       "<table border=\"1\" class=\"dataframe\">\n",
       "  <thead>\n",
       "    <tr style=\"text-align: right;\">\n",
       "      <th></th>\n",
       "      <th>artist</th>\n",
       "      <th>song</th>\n",
       "      <th>link</th>\n",
       "      <th>text</th>\n",
       "    </tr>\n",
       "  </thead>\n",
       "  <tbody>\n",
       "    <tr>\n",
       "      <td>4989</td>\n",
       "      <td>Emmylou Harris</td>\n",
       "      <td>If I Could Be There</td>\n",
       "      <td>/e/emmylou+harris/if+i+could+be+there_20050022...</td>\n",
       "      <td>If I could be there I'd be there tonight comfo...</td>\n",
       "    </tr>\n",
       "    <tr>\n",
       "      <td>33162</td>\n",
       "      <td>Gucci Mane</td>\n",
       "      <td>My Chain</td>\n",
       "      <td>/g/gucci+mane/my+chain_20762486.html</td>\n",
       "      <td>My Chain My Chain don't You Like My Chain Mane...</td>\n",
       "    </tr>\n",
       "    <tr>\n",
       "      <td>42445</td>\n",
       "      <td>Moody Blues</td>\n",
       "      <td>The Voice</td>\n",
       "      <td>/m/moody+blues/the+voice_20095807.html</td>\n",
       "      <td>Won't you take me back to school?  \\nI need to...</td>\n",
       "    </tr>\n",
       "    <tr>\n",
       "      <td>43642</td>\n",
       "      <td>Nicki Minaj</td>\n",
       "      <td>Hell Yeah</td>\n",
       "      <td>/n/nicki+minaj/hell+yeah_21049867.html</td>\n",
       "      <td>Swear to god I aint see you in the stores yet ...</td>\n",
       "    </tr>\n",
       "    <tr>\n",
       "      <td>31619</td>\n",
       "      <td>Garth Brooks</td>\n",
       "      <td>The Gift</td>\n",
       "      <td>/g/garth+brooks/the+gift_20057970.html</td>\n",
       "      <td>A poor orphan girl named Maria  \\nWas walking ...</td>\n",
       "    </tr>\n",
       "  </tbody>\n",
       "</table>\n",
       "</div>"
      ],
      "text/plain": [
       "               artist                 song  \\\n",
       "4989   Emmylou Harris  If I Could Be There   \n",
       "33162      Gucci Mane             My Chain   \n",
       "42445     Moody Blues            The Voice   \n",
       "43642     Nicki Minaj            Hell Yeah   \n",
       "31619    Garth Brooks             The Gift   \n",
       "\n",
       "                                                    link  \\\n",
       "4989   /e/emmylou+harris/if+i+could+be+there_20050022...   \n",
       "33162               /g/gucci+mane/my+chain_20762486.html   \n",
       "42445             /m/moody+blues/the+voice_20095807.html   \n",
       "43642             /n/nicki+minaj/hell+yeah_21049867.html   \n",
       "31619             /g/garth+brooks/the+gift_20057970.html   \n",
       "\n",
       "                                                    text  \n",
       "4989   If I could be there I'd be there tonight comfo...  \n",
       "33162  My Chain My Chain don't You Like My Chain Mane...  \n",
       "42445  Won't you take me back to school?  \\nI need to...  \n",
       "43642  Swear to god I aint see you in the stores yet ...  \n",
       "31619  A poor orphan girl named Maria  \\nWas walking ...  "
      ]
     },
     "metadata": {},
     "output_type": "display_data"
    }
   ],
   "source": [
    "data_to_use = all_data[~all_data['artist'].isin(set(['chris-brown','american-idol', 'chumbawamba', \n",
    "                                                     'celine-dion', '50-cent', 'chamillionaire', '2pac',\n",
    "                                                     'frank-zappa','2-chainz','beenie-man', 'akon','ace-hood']))]\n",
    "\n",
    "n_artists = 500\n",
    "artists = set(data_to_use['artist'].value_counts()[:n_artists].keys())\n",
    "\n",
    "data_to_use = data_to_use[data_to_use['artist'].isin(artists)]\n",
    "print('Number of songs: {0}'.format(len(data_to_use)))\n",
    "\n",
    "data_to_use = data_to_use.drop_duplicates(subset=['artist', 'song']) # same song from same artist\n",
    "data_to_use = data_to_use.drop_duplicates(subset=['text']).reset_index(drop=True) # songs with identical lyricss\n",
    "print('Number of songs after dropping duplicates: {0}'.format(len(data_to_use)))\n",
    "\n",
    "print(\"Sample Data: \")\n",
    "display(data_to_use.sample(5, random_state = 1))"
   ]
  },
  {
   "cell_type": "code",
   "execution_count": 5,
   "metadata": {
    "scrolled": false
   },
   "outputs": [
    {
     "name": "stdout",
     "output_type": "stream",
     "text": [
      "before:   artist                   song                                        link  \\\n",
      "0   ABBA  Ahe's My Kind Of Girl  /a/abba/ahes+my+kind+of+girl_20598417.html   \n",
      "1   ABBA       Andante, Andante       /a/abba/andante+andante_20002708.html   \n",
      "2   ABBA         As Good As New        /a/abba/as+good+as+new_20003033.html   \n",
      "3   ABBA                   Bang                  /a/abba/bang_20598415.html   \n",
      "4   ABBA       Bang-A-Boomerang      /a/abba/bang+a+boomerang_20002668.html   \n",
      "\n",
      "                                                text  \n",
      "0  Look at her face, it's a wonderful face  \\nAnd...  \n",
      "1  Take it easy with me, please  \\nTouch me gentl...  \n",
      "2  I'll never know why I had to go  \\nWhy I had t...  \n",
      "3  Making somebody happy is a question of give an...  \n",
      "4  Making somebody happy is a question of give an...  \n",
      "Cleaning lyrics, counting words and detecing language. This may take some time ... 12m 23s 709ms\n",
      "after:   artist                   song                                        link  \\\n",
      "0   ABBA  Ahe's My Kind Of Girl  /a/abba/ahes+my+kind+of+girl_20598417.html   \n",
      "1   ABBA       Andante, Andante       /a/abba/andante+andante_20002708.html   \n",
      "2   ABBA         As Good As New        /a/abba/as+good+as+new_20003033.html   \n",
      "3   ABBA                   Bang                  /a/abba/bang_20598415.html   \n",
      "4   ABBA       Bang-A-Boomerang      /a/abba/bang+a+boomerang_20002668.html   \n",
      "\n",
      "                                                text  \\\n",
      "0  Look at her face, it's a wonderful face  \\nAnd...   \n",
      "1  Take it easy with me, please  \\nTouch me gentl...   \n",
      "2  I'll never know why I had to go  \\nWhy I had t...   \n",
      "3  Making somebody happy is a question of give an...   \n",
      "4  Making somebody happy is a question of give an...   \n",
      "\n",
      "                                      cleaned_lyrics  old_word_count  \\\n",
      "0  face wonderful face special smiles sees lucky ...             153   \n",
      "1  easy gently summer evening breeze time slow fe...             260   \n",
      "2  lousy rotten show tough packing stuff don stan...             312   \n",
      "3  making happy question learn show break smile t...             200   \n",
      "4  making happy question learn show break smile t...             198   \n",
      "\n",
      "   new_word_count  \n",
      "0              38  \n",
      "1              68  \n",
      "2              61  \n",
      "3              94  \n",
      "4              94  \n",
      "Saving processed data ... CPU times: user 2 s, sys: 92.7 ms, total: 2.1 s\n",
      "Wall time: 2.14 s\n"
     ]
    }
   ],
   "source": [
    "data = data_utils.process_data(data_to_use)\n",
    "print('Saving processed data ... ', end='')\n",
    "%time data.to_csv('processed_data.csv',encoding='utf-8', index=False)"
   ]
  },
  {
   "cell_type": "markdown",
   "metadata": {},
   "source": [
    "# Data Preprocessing Checkpoint"
   ]
  },
  {
   "cell_type": "markdown",
   "metadata": {},
   "source": [
    "The preprocessing above is a time consuming process. If it has already been performed, \n",
    "the next cell can be executed without repeating it (thought the earlier imports are still necessary)."
   ]
  },
  {
   "cell_type": "code",
   "execution_count": 5,
   "metadata": {},
   "outputs": [
    {
     "name": "stdout",
     "output_type": "stream",
     "text": [
      "Loading processed data ... 805ms\n",
      "Number of processed songs: 54685\n"
     ]
    }
   ],
   "source": [
    "print(\"Loading processed data ... \", end='')\n",
    "last = now()\n",
    "data = pd.read_csv('processed_data.csv')\n",
    "data = data[['artist', 'song', 'old_word_count', 'cleaned_lyrics', 'new_word_count']]\n",
    "display_utils.print_time(now() - last)\n",
    "print(\"Number of processed songs: %d\" % len(data))"
   ]
  },
  {
   "cell_type": "code",
   "execution_count": 6,
   "metadata": {},
   "outputs": [
    {
     "name": "stdout",
     "output_type": "stream",
     "text": [
      "Removing songs with word count less than 100 ... 4ms\n",
      "Number of songs remaining: 6156 \n"
     ]
    }
   ],
   "source": [
    "df_orig = data_utils.get_songs_with_min_length(data, 100)\n",
    "print(\"Number of songs remaining: %d \" % len(df_orig))"
   ]
  },
  {
   "cell_type": "code",
   "execution_count": 7,
   "metadata": {},
   "outputs": [
    {
     "name": "stdout",
     "output_type": "stream",
     "text": [
      "A sample of the number of songs by different artists: \n"
     ]
    },
    {
     "data": {
      "text/plain": [
       "NOFX                5\n",
       "Rammstein           4\n",
       "Ofra Haza           8\n",
       "Neil Young          7\n",
       "Luther Vandross    18\n",
       "Name: artist, dtype: int64"
      ]
     },
     "metadata": {},
     "output_type": "display_data"
    }
   ],
   "source": [
    "print(\"A sample of the number of songs by different artists: \")\n",
    "display(df_orig.artist.value_counts().sample(5, random_state=23))"
   ]
  },
  {
   "cell_type": "markdown",
   "metadata": {},
   "source": [
    "\n",
    "# EmoLex"
   ]
  },
  {
   "cell_type": "code",
   "execution_count": 8,
   "metadata": {},
   "outputs": [
    {
     "name": "stdout",
     "output_type": "stream",
     "text": [
      "            artist                                      song  old_word_count  \\\n",
      "0             ABBA                                 Cassandra             361   \n",
      "1             ABBA                     Fernando (In Spanish)             248   \n",
      "2             ABBA  From A Twinkling Star To A Passing Angel             368   \n",
      "3             ABBA                           Head Over Heels             305   \n",
      "4             ABBA                         Hole In Your Soul             356   \n",
      "...            ...                                       ...             ...   \n",
      "6151     Zebrahead                                 I'm Money             398   \n",
      "6152     Zebrahead                              Just The Tip             492   \n",
      "6153     Zebrahead                                 Let Me Go             435   \n",
      "6154     Zebrahead                             Mental Health             388   \n",
      "6155  Ziggy Marley                             Hand To Mouth             579   \n",
      "\n",
      "                                         cleaned_lyrics  new_word_count  \n",
      "0     street singing shouting staying alive city dea...             117  \n",
      "1     puedes escuchar recuerda tiempo atras una noch...             140  \n",
      "2     star wonder diamond glitt ring sky shine light...             136  \n",
      "3     good friend kind girl likes follow trend perso...             100  \n",
      "4     feel bad blues life burden weighed shoes bad w...             123  \n",
      "...                                                 ...             ...  \n",
      "6151  user schmoozer big dollar loser don matter fri...             110  \n",
      "6152  bruised wrists kick flips sending invasion loo...             115  \n",
      "6153  well wear feelings sleeve feel inside notice s...             121  \n",
      "6154  lights type guy left night observation permane...             114  \n",
      "6155  power workers power workers power workers powe...             203  \n",
      "\n",
      "[6156 rows x 5 columns]\n"
     ]
    }
   ],
   "source": [
    "print(df_orig)"
   ]
  },
  {
   "cell_type": "code",
   "execution_count": 20,
   "metadata": {},
   "outputs": [],
   "source": [
    "nrc = pd.read_csv('NRC-Emotion-Lexicon-Wordlevel-v0.92.txt', delimiter='\\t')\n",
    "nrc.columns = [\"word\", \"emotion\", \"active\"]\n",
    "def word_to_emotion(row):\n",
    "    global df_w2e\n",
    "    w2e = {}\n",
    "    w2e = {'word':row['word'][row['word'].index[0]]}\n",
    "    s = 0\n",
    "    for index, value in row['emotion'].iteritems():\n",
    "        is_active = row['active'][index]\n",
    "        w2e[value] = is_active\n",
    "        s += is_active\n",
    "    df_w2e = df_w2e.append(w2e, ignore_index=True)\n",
    "    \n",
    "df_w2e = pd.DataFrame(columns=['word', \n",
    "                               'anger', 'anticipation', \n",
    "                               'disgust', 'fear', \n",
    "                               'joy', 'sadness', \n",
    "                               'surprise', 'trust', \n",
    "                               'sum'])\n",
    "nrc.groupby(by=['word']).apply(word_to_emotion)\n",
    "df_w2e['sum'] = df_w2e.anger + df_w2e.anticipation + df_w2e.disgust + df_w2e.fear + df_w2e.joy + df_w2e.sadness + df_w2e.surprise + df_w2e.trust\n",
    "df_w2e.to_csv('word_to_emotion.csv', encoding='utf-8', index=False)"
   ]
  },
  {
   "cell_type": "code",
   "execution_count": 90,
   "metadata": {},
   "outputs": [
    {
     "name": "stdout",
     "output_type": "stream",
     "text": [
      "         word       emotion  active\n",
      "0       aback  anticipation       0\n",
      "1       aback       disgust       0\n",
      "2       aback          fear       0\n",
      "3       aback           joy       0\n",
      "4       aback      negative       0\n",
      "...       ...           ...     ...\n",
      "141814   zoom      negative       0\n",
      "141815   zoom      positive       0\n",
      "141816   zoom       sadness       0\n",
      "141817   zoom      surprise       0\n",
      "141818   zoom         trust       0\n",
      "\n",
      "[141819 rows x 3 columns]\n"
     ]
    }
   ],
   "source": [
    "print(nrc)"
   ]
  },
  {
   "cell_type": "markdown",
   "metadata": {},
   "source": [
    "# Another Data Checkpoint\n",
    "We can continue from below (after loading the previous checkpoint CSV), if the second dataset has already been parsed."
   ]
  },
  {
   "cell_type": "code",
   "execution_count": 22,
   "metadata": {},
   "outputs": [],
   "source": [
    "df_w2e = pd.read_csv('word_to_emotion.csv')\n",
    "df_w2e = df_w2e[df_w2e['sum'] != 0]\n",
    "words_w2e = [value for idx, value in df_w2e['word'].iteritems()]"
   ]
  },
  {
   "cell_type": "markdown",
   "metadata": {},
   "source": [
    "# Vectorization"
   ]
  },
  {
   "cell_type": "markdown",
   "metadata": {},
   "source": [
    "# Creating the Word2Vec model"
   ]
  },
  {
   "cell_type": "markdown",
   "metadata": {},
   "source": [
    "The cell below will split the lyrics into lists of words, which will then be used to create a Word2Vec Model."
   ]
  },
  {
   "cell_type": "code",
   "execution_count": 23,
   "metadata": {},
   "outputs": [],
   "source": [
    "lyrics_raw_orig = df_orig.cleaned_lyrics.values\n",
    "lyrics_raw_words_orig = [lines.split() for lines in lyrics_raw_orig]"
   ]
  },
  {
   "cell_type": "code",
   "execution_count": 24,
   "metadata": {},
   "outputs": [],
   "source": [
    "from gensim.models.word2vec import Word2Vec\n",
    "w2v_model = Word2Vec(lyrics_raw_words_orig, \n",
    "                     workers=1, # to ensure that the model is deterministic\n",
    "                     size=200, min_count=50, \n",
    "                     window=10, sample=1e-3)\n"
   ]
  },
  {
   "cell_type": "markdown",
   "metadata": {},
   "source": [
    "Let's see how well the model performs:"
   ]
  },
  {
   "cell_type": "code",
   "execution_count": 25,
   "metadata": {},
   "outputs": [
    {
     "data": {
      "text/plain": [
       "{'daddy', 'mother', 'son'}"
      ]
     },
     "execution_count": 25,
     "metadata": {},
     "output_type": "execute_result"
    }
   ],
   "source": [
    "data_utils.get_similar_words(w2v_model, 'father', min_relevance=.6)"
   ]
  },
  {
   "cell_type": "markdown",
   "metadata": {},
   "source": [
    "That seems to be good. The vocabulary of this model will now be combined with emotion carrying \n",
    "words from the Emotion-Lexicon database. This will tell us the number of allowed words:"
   ]
  },
  {
   "cell_type": "code",
   "execution_count": 26,
   "metadata": {},
   "outputs": [
    {
     "name": "stdout",
     "output_type": "stream",
     "text": [
      "Number of words allowed: 6340\n"
     ]
    }
   ],
   "source": [
    "words_w2v = set(w2v_model.wv.vocab.keys())\n",
    "words_w2v.update(words_w2e)\n",
    "#words_w2v.remove('don')\n",
    "print(\"Number of words allowed: %d\" % (len(words_w2v)))"
   ]
  },
  {
   "cell_type": "markdown",
   "metadata": {},
   "source": [
    "The two cells below will remove words that are not allowed and update the dataset:"
   ]
  },
  {
   "cell_type": "code",
   "execution_count": 27,
   "metadata": {},
   "outputs": [],
   "source": [
    "lyrics_raw_words = lyrics_raw_words_orig\n",
    "lyrics_raw = []\n",
    "for lyrics in lyrics_raw_words:\n",
    "    lyrics_raw.append(' '.join([word for word in lyrics if word in words_w2v]))"
   ]
  },
  {
   "cell_type": "code",
   "execution_count": 28,
   "metadata": {},
   "outputs": [],
   "source": [
    "df_temp = df_orig\n",
    "df_temp['constrained_lyrics'] = lyrics_raw\n",
    "df_temp['constrained_word_count'] = df_temp['constrained_lyrics'].apply(lambda x: len(x.split()))\n",
    "df_temp = df_temp[df_temp.constrained_word_count>=90]\n",
    "df_temp = df_temp.dropna(how='any')\n",
    "df = df_temp.reset_index(drop=True)\n",
    "lyrics_raw = df.constrained_lyrics.values"
   ]
  },
  {
   "cell_type": "markdown",
   "metadata": {},
   "source": [
    "# CountVectorizer"
   ]
  },
  {
   "cell_type": "code",
   "execution_count": 29,
   "metadata": {},
   "outputs": [
    {
     "name": "stdout",
     "output_type": "stream",
     "text": [
      "Number of documents: 4749, number of words: 2808\n"
     ]
    }
   ],
   "source": [
    "from sklearn.feature_extraction.text import CountVectorizer, TfidfVectorizer\n",
    "\n",
    "vectorizer = CountVectorizer(strip_accents = 'unicode',\n",
    "                                lowercase = True,\n",
    "                                stop_words = 'english',\n",
    "                                token_pattern = r'\\b[a-zA-Z]{3,}\\b',\n",
    "                                max_df = 0.5, \n",
    "                                min_df = 10)\n",
    "lyrics_vectorized = vectorizer.fit_transform(lyrics_raw)\n",
    "print(\"Number of documents: {0}, number of words: {1}\".format(lyrics_vectorized.shape[0], lyrics_vectorized.shape[1]))"
   ]
  },
  {
   "cell_type": "markdown",
   "metadata": {},
   "source": [
    "# Topic Modeling"
   ]
  },
  {
   "cell_type": "code",
   "execution_count": 39,
   "metadata": {},
   "outputs": [
    {
     "name": "stdout",
     "output_type": "stream",
     "text": [
      "Creating Topic Model using LDA with 30 iterations ... CPU times: user 3min 2s, sys: 17.7 s, total: 3min 20s\n",
      "Wall time: 1min 15s\n"
     ]
    },
    {
     "data": {
      "text/plain": [
       "LatentDirichletAllocation(batch_size=128, doc_topic_prior=None,\n",
       "                          evaluate_every=-1, learning_decay=0.7,\n",
       "                          learning_method='online', learning_offset=10.0,\n",
       "                          max_doc_update_iter=100, max_iter=30,\n",
       "                          mean_change_tol=0.001, n_components=70, n_jobs=None,\n",
       "                          perp_tol=0.1, random_state=8, topic_word_prior=None,\n",
       "                          total_samples=1000000.0, verbose=0)"
      ]
     },
     "execution_count": 39,
     "metadata": {},
     "output_type": "execute_result"
    }
   ],
   "source": [
    "from sklearn.decomposition import LatentDirichletAllocation\n",
    "n_topics = 70 # number of topics\n",
    "\n",
    "topic_model = LatentDirichletAllocation(n_components=n_topics, random_state=8, learning_method='online', max_iter=30)\n",
    "print(\"Creating Topic Model using LDA with {} iterations ... \".format(topic_model.max_iter), end='')\n",
    "%time topic_model.fit(lyrics_vectorized)"
   ]
  },
  {
   "cell_type": "code",
   "execution_count": 40,
   "metadata": {
    "scrolled": false
   },
   "outputs": [
    {
     "data": {
      "text/html": [
       "\n",
       "<link rel=\"stylesheet\" type=\"text/css\" href=\"https://cdn.rawgit.com/bmabey/pyLDAvis/files/ldavis.v1.0.0.css\">\n",
       "\n",
       "\n",
       "<div id=\"ldavis_el1658052925410089440173675\"></div>\n",
       "<script type=\"text/javascript\">\n",
       "\n",
       "var ldavis_el1658052925410089440173675_data = {\"mdsDat\": {\"x\": [-0.04178042960285775, 0.07024824830351381, -0.17236322018130326, 0.04558206449632742, 0.09068657279302887, -0.025769819028688763, 0.48023865218282435, 0.14265089426495015, -0.4184282741213302, 0.34564566277546943, 0.3867126128816597, -0.017035080111052137, -0.11882328932803843, -0.3644043372618575, 0.24089448663164556, 0.3589602259180835, -0.4285804996499023, 0.3824706331458362, -0.2639192876283686, 0.47527409048257496, -0.28846568950736784, -0.40258769838792985, -0.46635626332268754, 0.17164842640786965, -0.38616315955485236, -0.2613039555430051, -0.33572668664274175, 0.12860579434209052, -0.5331955986127872, 0.293056129389441, -0.14223085371711214, 0.04355497261327436, 0.21654105754919228, 0.28350663528092124, 0.15654030604631103, 0.12302199994399397, -0.15651562756298185, 0.02135632361237378, -0.21025772380236676, -0.027399819823875855, -0.1740865140001028, 0.045581355443561275, 0.3948421024683723, 0.3074914385007634, 0.2977317790445003, 0.513209304624586, 0.04558173892818848, 0.08751093172400581, 0.2525148473550066, 0.043726641645220894, 0.23911866206587068, 0.4659512311922513, 0.2996683253401828, 0.45634725427351613, 0.46502349776672386, -0.5154362003834302, -0.128088026456948, -0.24425302193832715, -0.4747467738083359, -0.3043727784819324, -0.08483368439197982, -0.33744339922979505, 0.5153954064173123, -0.29824269771694567, -0.042454738518995706, 0.001226046252247162, -0.47604753780776726, -0.10860769731188022, -0.16637544822053768, -0.4718205204456062], \"y\": [0.3943172470792526, -0.5127704437423348, -0.07943274349412513, 0.0022347249433567738, 0.5227877050031635, -0.359501800331366, -0.17365126423828312, -0.46556920568274596, 0.32982043891201485, 0.33068218847057157, 0.2715976604759508, -0.5005864006432993, -0.43897892859959364, -0.3661751439859677, -0.47678525959268825, -0.3807782271469522, -0.29064804986099796, -0.2352708743090587, 0.4338440519472424, 0.24744381093998585, -0.4149249090885244, -0.13707658213535445, 0.23976881523915772, 0.33499999825511856, 0.045961816697240185, 0.17699123484230458, 0.14761898488171615, 0.18456992177131176, -0.05267311737684609, -0.1799341262878229, -0.5233255913672062, -0.3048258608699287, -0.37762974832194235, -0.32418948794736674, 0.45228111541549776, -0.2288229154499412, 0.31591141234432063, 0.18852406934739843, -0.4179807570454174, 0.5302563958758663, 0.42053751148743174, 0.00223410632045638, 0.059053424667097294, -0.0344262405482272, 0.172211363669482, -0.03430905013754547, 0.002234470343464474, -0.03243260421297956, 0.46101359989461554, 0.40642432077134716, 0.060027587995729915, 0.15372960024209695, 0.3955563043357221, -0.28838003022606723, -0.10315497004472465, 0.06374559927777783, 0.48826354671635047, 0.24647620390619226, -0.054383595668989974, -0.14119587081113688, 0.12531406052541094, 0.3927601212950135, 0.06493092054069034, -0.28070258517093566, -0.18625461939955307, 0.009992942194326273, -0.2026565140277137, 0.015386160739607004, -0.23600197232904985, 0.14592605273040268], \"topics\": [1, 2, 3, 4, 5, 6, 7, 8, 9, 10, 11, 12, 13, 14, 15, 16, 17, 18, 19, 20, 21, 22, 23, 24, 25, 26, 27, 28, 29, 30, 31, 32, 33, 34, 35, 36, 37, 38, 39, 40, 41, 42, 43, 44, 45, 46, 47, 48, 49, 50, 51, 52, 53, 54, 55, 56, 57, 58, 59, 60, 61, 62, 63, 64, 65, 66, 67, 68, 69, 70], \"cluster\": [1, 1, 1, 1, 1, 1, 1, 1, 1, 1, 1, 1, 1, 1, 1, 1, 1, 1, 1, 1, 1, 1, 1, 1, 1, 1, 1, 1, 1, 1, 1, 1, 1, 1, 1, 1, 1, 1, 1, 1, 1, 1, 1, 1, 1, 1, 1, 1, 1, 1, 1, 1, 1, 1, 1, 1, 1, 1, 1, 1, 1, 1, 1, 1, 1, 1, 1, 1, 1, 1], \"Freq\": [2.566100932966165, 0.6783081335587001, 2.703727356112537, 0.012891451072379557, 0.6143421993704237, 2.3374460385421907, 0.7526247480931779, 0.8123931345629849, 0.8945366556658418, 0.16888206373864614, 0.9657168598474406, 0.19456172583583867, 1.0789022836078683, 0.2799945114516487, 0.7847247900209553, 0.49166479291230847, 0.685348383471956, 0.1458670266068194, 0.9161804198767397, 0.4804419614263376, 0.214900468443548, 1.303663041838939, 0.8950349600482946, 1.7015494208113695, 1.73148314271315, 1.4503023208790833, 1.8999828988055165, 3.725880233697894, 1.1606709421299222, 3.175575886553792, 0.5643082802220376, 2.8228104503330678, 1.8964619485865248, 0.813538342016266, 0.9652620406873775, 2.9614122979928874, 1.5104775239629689, 9.644225823080893, 1.0135756341727788, 0.8983517379496273, 1.2083315212315757, 0.012891451072379557, 1.366613042798399, 0.06841536396315845, 0.07072961953528681, 1.286322629291974, 0.012891451072379557, 0.018596075362591523, 0.21640044353831736, 1.288908596738908, 0.05072692724680618, 1.1068683384171951, 1.751632783371521, 1.5168022247462312, 0.6975447937234804, 0.42351349515079034, 1.2692630713618305, 2.196458210702901, 0.4069969933097262, 1.1696226076317937, 7.8781917242219075, 0.779668310214062, 0.7180986875938751, 1.2596415656120483, 3.573991738338912, 0.022602045101467187, 0.7515261929558966, 8.298485687582005, 1.8640075490588695, 0.8001339953868042]}, \"tinfo\": {\"Category\": [\"Default\", \"Default\", \"Default\", \"Default\", \"Default\", \"Default\", \"Default\", \"Default\", \"Default\", \"Default\", \"Default\", \"Default\", \"Default\", \"Default\", \"Default\", \"Default\", \"Default\", \"Default\", \"Default\", \"Default\", \"Default\", \"Default\", \"Default\", \"Default\", \"Default\", \"Default\", \"Default\", \"Default\", \"Default\", \"Default\", \"Topic1\", \"Topic1\", \"Topic1\", \"Topic1\", \"Topic1\", \"Topic1\", \"Topic1\", \"Topic1\", \"Topic1\", \"Topic1\", \"Topic1\", \"Topic1\", \"Topic1\", \"Topic1\", \"Topic1\", \"Topic1\", \"Topic1\", \"Topic1\", \"Topic1\", \"Topic1\", \"Topic1\", \"Topic1\", \"Topic1\", \"Topic1\", \"Topic1\", \"Topic1\", \"Topic1\", \"Topic1\", \"Topic1\", \"Topic1\", \"Topic1\", \"Topic1\", \"Topic1\", \"Topic1\", \"Topic1\", \"Topic1\", \"Topic1\", \"Topic1\", \"Topic1\", \"Topic1\", \"Topic1\", \"Topic1\", \"Topic1\", \"Topic1\", \"Topic1\", \"Topic1\", \"Topic1\", \"Topic1\", \"Topic1\", \"Topic1\", \"Topic2\", \"Topic2\", \"Topic2\", \"Topic2\", \"Topic2\", \"Topic2\", \"Topic2\", \"Topic2\", \"Topic2\", \"Topic2\", \"Topic2\", \"Topic2\", \"Topic2\", \"Topic2\", \"Topic2\", \"Topic2\", \"Topic2\", \"Topic2\", \"Topic2\", \"Topic2\", \"Topic2\", \"Topic2\", \"Topic2\", \"Topic2\", \"Topic2\", \"Topic2\", \"Topic2\", \"Topic2\", \"Topic2\", \"Topic2\", \"Topic2\", \"Topic2\", \"Topic2\", \"Topic2\", \"Topic3\", \"Topic3\", \"Topic3\", \"Topic3\", \"Topic3\", \"Topic3\", \"Topic3\", \"Topic3\", \"Topic3\", \"Topic3\", \"Topic3\", \"Topic3\", \"Topic3\", \"Topic3\", \"Topic3\", \"Topic3\", \"Topic3\", \"Topic3\", \"Topic3\", \"Topic3\", \"Topic3\", \"Topic3\", \"Topic3\", \"Topic3\", \"Topic3\", \"Topic3\", \"Topic3\", \"Topic3\", \"Topic3\", \"Topic3\", \"Topic3\", \"Topic3\", \"Topic3\", \"Topic3\", \"Topic3\", \"Topic3\", \"Topic3\", \"Topic3\", \"Topic3\", \"Topic3\", \"Topic3\", \"Topic3\", \"Topic3\", \"Topic3\", \"Topic3\", \"Topic3\", \"Topic3\", \"Topic3\", \"Topic3\", \"Topic3\", \"Topic3\", \"Topic3\", \"Topic3\", \"Topic3\", \"Topic3\", \"Topic3\", \"Topic3\", \"Topic3\", \"Topic3\", \"Topic4\", \"Topic4\", \"Topic4\", \"Topic4\", \"Topic4\", \"Topic4\", \"Topic4\", \"Topic4\", \"Topic4\", \"Topic4\", \"Topic4\", \"Topic4\", \"Topic4\", \"Topic4\", \"Topic4\", \"Topic4\", \"Topic4\", \"Topic4\", \"Topic4\", \"Topic4\", \"Topic4\", \"Topic4\", \"Topic4\", \"Topic4\", \"Topic4\", \"Topic4\", \"Topic4\", \"Topic4\", \"Topic4\", \"Topic4\", \"Topic4\", \"Topic4\", \"Topic4\", \"Topic4\", \"Topic4\", \"Topic4\", \"Topic4\", \"Topic4\", \"Topic4\", \"Topic4\", \"Topic4\", \"Topic4\", \"Topic4\", \"Topic4\", \"Topic4\", \"Topic4\", \"Topic4\", \"Topic4\", \"Topic4\", \"Topic4\", \"Topic4\", \"Topic4\", \"Topic4\", \"Topic4\", \"Topic4\", \"Topic4\", \"Topic4\", \"Topic4\", \"Topic4\", \"Topic4\", \"Topic5\", \"Topic5\", \"Topic5\", \"Topic5\", \"Topic5\", \"Topic5\", \"Topic5\", \"Topic5\", \"Topic5\", \"Topic5\", \"Topic5\", \"Topic5\", \"Topic5\", \"Topic5\", \"Topic5\", \"Topic5\", \"Topic5\", \"Topic5\", \"Topic5\", \"Topic5\", \"Topic5\", \"Topic5\", \"Topic5\", \"Topic5\", \"Topic5\", \"Topic5\", \"Topic5\", \"Topic5\", \"Topic5\", \"Topic5\", \"Topic5\", \"Topic5\", \"Topic5\", \"Topic5\", \"Topic5\", \"Topic6\", \"Topic6\", \"Topic6\", \"Topic6\", \"Topic6\", \"Topic6\", \"Topic6\", \"Topic6\", \"Topic6\", \"Topic6\", \"Topic6\", \"Topic6\", \"Topic6\", \"Topic6\", \"Topic6\", \"Topic6\", \"Topic6\", \"Topic6\", \"Topic6\", \"Topic6\", \"Topic6\", \"Topic6\", \"Topic6\", \"Topic6\", \"Topic6\", \"Topic6\", \"Topic6\", \"Topic6\", \"Topic6\", \"Topic6\", \"Topic6\", \"Topic6\", \"Topic6\", \"Topic6\", \"Topic6\", \"Topic6\", \"Topic6\", \"Topic6\", \"Topic6\", \"Topic6\", \"Topic6\", \"Topic6\", \"Topic6\", \"Topic6\", \"Topic6\", \"Topic6\", \"Topic6\", \"Topic6\", \"Topic6\", \"Topic6\", \"Topic6\", \"Topic6\", \"Topic6\", \"Topic6\", \"Topic7\", \"Topic7\", \"Topic7\", \"Topic7\", \"Topic7\", \"Topic7\", \"Topic7\", \"Topic7\", \"Topic7\", \"Topic7\", \"Topic7\", \"Topic7\", \"Topic7\", \"Topic7\", \"Topic7\", \"Topic7\", \"Topic7\", \"Topic7\", \"Topic7\", \"Topic7\", \"Topic7\", \"Topic7\", \"Topic7\", \"Topic7\", \"Topic7\", \"Topic7\", \"Topic7\", \"Topic7\", \"Topic7\", \"Topic7\", \"Topic7\", \"Topic7\", \"Topic7\", \"Topic7\", \"Topic7\", \"Topic7\", \"Topic7\", \"Topic7\", \"Topic7\", \"Topic7\", \"Topic8\", \"Topic8\", \"Topic8\", \"Topic8\", \"Topic8\", \"Topic8\", \"Topic8\", \"Topic8\", \"Topic8\", \"Topic8\", \"Topic8\", \"Topic8\", \"Topic8\", \"Topic8\", \"Topic8\", \"Topic8\", \"Topic8\", \"Topic8\", \"Topic8\", \"Topic8\", \"Topic8\", \"Topic8\", \"Topic8\", \"Topic8\", \"Topic8\", \"Topic8\", \"Topic8\", \"Topic8\", \"Topic8\", \"Topic8\", \"Topic8\", \"Topic8\", \"Topic8\", \"Topic8\", \"Topic8\", \"Topic8\", \"Topic8\", \"Topic9\", \"Topic9\", \"Topic9\", \"Topic9\", \"Topic9\", \"Topic9\", \"Topic9\", \"Topic9\", \"Topic9\", \"Topic9\", \"Topic9\", \"Topic9\", \"Topic9\", \"Topic9\", \"Topic9\", \"Topic9\", \"Topic9\", \"Topic9\", \"Topic9\", \"Topic9\", \"Topic9\", \"Topic9\", \"Topic9\", \"Topic9\", \"Topic9\", \"Topic9\", \"Topic9\", \"Topic9\", \"Topic9\", \"Topic9\", \"Topic9\", \"Topic9\", \"Topic10\", \"Topic10\", \"Topic10\", \"Topic10\", \"Topic10\", \"Topic10\", \"Topic10\", \"Topic10\", \"Topic10\", \"Topic10\", \"Topic10\", \"Topic10\", \"Topic10\", \"Topic10\", \"Topic10\", \"Topic10\", \"Topic10\", \"Topic10\", \"Topic10\", \"Topic10\", \"Topic10\", \"Topic10\", \"Topic10\", \"Topic10\", \"Topic10\", \"Topic10\", \"Topic10\", \"Topic10\", \"Topic10\", \"Topic10\", \"Topic10\", \"Topic10\", \"Topic10\", \"Topic10\", \"Topic10\", \"Topic10\", \"Topic10\", \"Topic10\", \"Topic10\", \"Topic10\", \"Topic10\", \"Topic10\", \"Topic10\", \"Topic11\", \"Topic11\", \"Topic11\", \"Topic11\", \"Topic11\", \"Topic11\", \"Topic11\", \"Topic11\", \"Topic11\", \"Topic11\", \"Topic11\", \"Topic11\", \"Topic11\", \"Topic11\", \"Topic11\", \"Topic11\", \"Topic11\", \"Topic11\", \"Topic11\", \"Topic11\", \"Topic11\", \"Topic11\", \"Topic11\", \"Topic11\", \"Topic11\", \"Topic11\", \"Topic11\", \"Topic11\", \"Topic11\", \"Topic11\", \"Topic11\", \"Topic11\", \"Topic11\", \"Topic11\", \"Topic11\", \"Topic11\", \"Topic11\", \"Topic11\", \"Topic12\", \"Topic12\", \"Topic12\", \"Topic12\", \"Topic12\", \"Topic12\", \"Topic12\", \"Topic12\", \"Topic12\", \"Topic12\", \"Topic12\", \"Topic12\", \"Topic12\", \"Topic12\", \"Topic12\", \"Topic12\", \"Topic12\", \"Topic12\", \"Topic12\", \"Topic12\", \"Topic12\", \"Topic12\", \"Topic12\", \"Topic12\", \"Topic12\", \"Topic12\", \"Topic12\", \"Topic12\", \"Topic12\", \"Topic12\", \"Topic12\", \"Topic12\", \"Topic12\", \"Topic12\", \"Topic12\", \"Topic12\", \"Topic12\", \"Topic12\", \"Topic12\", \"Topic12\", \"Topic12\", \"Topic12\", \"Topic12\", \"Topic12\", \"Topic12\", \"Topic12\", \"Topic12\", \"Topic12\", \"Topic12\", \"Topic12\", \"Topic12\", \"Topic13\", \"Topic13\", \"Topic13\", \"Topic13\", \"Topic13\", \"Topic13\", \"Topic13\", \"Topic13\", \"Topic13\", \"Topic13\", \"Topic13\", \"Topic13\", \"Topic13\", \"Topic13\", \"Topic13\", \"Topic13\", \"Topic13\", \"Topic13\", \"Topic13\", \"Topic13\", \"Topic13\", \"Topic13\", \"Topic13\", \"Topic13\", \"Topic13\", \"Topic13\", \"Topic13\", \"Topic13\", \"Topic13\", \"Topic13\", \"Topic13\", \"Topic13\", \"Topic13\", \"Topic13\", \"Topic13\", \"Topic13\", \"Topic13\", \"Topic14\", \"Topic14\", \"Topic14\", \"Topic14\", \"Topic14\", \"Topic14\", \"Topic14\", \"Topic14\", \"Topic14\", \"Topic14\", \"Topic14\", \"Topic14\", \"Topic14\", \"Topic14\", \"Topic14\", \"Topic14\", \"Topic14\", \"Topic14\", \"Topic14\", \"Topic14\", \"Topic14\", \"Topic14\", \"Topic14\", \"Topic14\", \"Topic14\", \"Topic14\", \"Topic14\", \"Topic14\", \"Topic14\", \"Topic14\", \"Topic15\", \"Topic15\", \"Topic15\", \"Topic15\", \"Topic15\", \"Topic15\", \"Topic15\", \"Topic15\", \"Topic15\", \"Topic15\", \"Topic15\", \"Topic15\", \"Topic15\", \"Topic15\", \"Topic15\", \"Topic15\", \"Topic15\", \"Topic15\", \"Topic15\", \"Topic15\", \"Topic15\", \"Topic15\", \"Topic15\", \"Topic15\", \"Topic15\", \"Topic15\", \"Topic15\", \"Topic15\", \"Topic15\", \"Topic15\", \"Topic15\", \"Topic15\", \"Topic15\", \"Topic15\", \"Topic15\", \"Topic15\", \"Topic16\", \"Topic16\", \"Topic16\", \"Topic16\", \"Topic16\", \"Topic16\", \"Topic16\", \"Topic16\", \"Topic16\", \"Topic16\", \"Topic16\", \"Topic16\", \"Topic16\", \"Topic16\", \"Topic16\", \"Topic16\", \"Topic16\", \"Topic16\", \"Topic16\", \"Topic16\", \"Topic16\", \"Topic16\", \"Topic16\", \"Topic16\", \"Topic16\", \"Topic16\", \"Topic16\", \"Topic16\", \"Topic16\", \"Topic16\", \"Topic16\", \"Topic16\", \"Topic16\", \"Topic17\", \"Topic17\", \"Topic17\", \"Topic17\", \"Topic17\", \"Topic17\", \"Topic17\", \"Topic17\", \"Topic17\", \"Topic17\", \"Topic17\", \"Topic17\", \"Topic17\", \"Topic17\", \"Topic17\", \"Topic17\", \"Topic17\", \"Topic17\", \"Topic17\", \"Topic17\", \"Topic17\", \"Topic17\", \"Topic17\", \"Topic17\", \"Topic17\", \"Topic17\", \"Topic17\", \"Topic17\", \"Topic17\", \"Topic17\", \"Topic17\", \"Topic17\", \"Topic17\", \"Topic17\", \"Topic17\", \"Topic17\", \"Topic18\", \"Topic18\", \"Topic18\", \"Topic18\", \"Topic18\", \"Topic18\", \"Topic18\", \"Topic18\", \"Topic18\", \"Topic18\", \"Topic18\", \"Topic18\", \"Topic18\", \"Topic18\", \"Topic18\", \"Topic18\", \"Topic18\", \"Topic18\", \"Topic18\", \"Topic18\", \"Topic18\", \"Topic18\", \"Topic18\", \"Topic18\", \"Topic18\", \"Topic18\", \"Topic18\", \"Topic18\", \"Topic18\", \"Topic18\", \"Topic18\", \"Topic18\", \"Topic18\", \"Topic18\", \"Topic18\", \"Topic18\", \"Topic18\", \"Topic18\", \"Topic18\", \"Topic18\", \"Topic18\", \"Topic18\", \"Topic18\", \"Topic18\", \"Topic18\", \"Topic18\", \"Topic18\", \"Topic18\", \"Topic18\", \"Topic18\", \"Topic18\", \"Topic19\", \"Topic19\", \"Topic19\", \"Topic19\", \"Topic19\", \"Topic19\", \"Topic19\", \"Topic19\", \"Topic19\", \"Topic19\", \"Topic19\", \"Topic19\", \"Topic19\", \"Topic19\", \"Topic19\", \"Topic19\", \"Topic19\", \"Topic19\", \"Topic19\", \"Topic19\", \"Topic19\", \"Topic19\", \"Topic19\", \"Topic19\", \"Topic19\", \"Topic19\", \"Topic19\", \"Topic19\", \"Topic19\", \"Topic19\", \"Topic19\", \"Topic19\", \"Topic19\", \"Topic19\", \"Topic19\", \"Topic19\", \"Topic20\", \"Topic20\", \"Topic20\", \"Topic20\", \"Topic20\", \"Topic20\", \"Topic20\", \"Topic20\", \"Topic20\", \"Topic20\", \"Topic20\", \"Topic20\", \"Topic20\", \"Topic20\", \"Topic20\", \"Topic20\", \"Topic20\", \"Topic20\", \"Topic20\", \"Topic20\", \"Topic20\", \"Topic20\", \"Topic20\", \"Topic20\", \"Topic20\", \"Topic20\", \"Topic20\", \"Topic20\", \"Topic20\", \"Topic20\", \"Topic20\", \"Topic20\", \"Topic21\", \"Topic21\", \"Topic21\", \"Topic21\", \"Topic21\", \"Topic21\", \"Topic21\", \"Topic21\", \"Topic21\", \"Topic21\", \"Topic21\", \"Topic21\", \"Topic21\", \"Topic21\", \"Topic21\", \"Topic21\", \"Topic21\", \"Topic21\", \"Topic21\", \"Topic21\", \"Topic21\", \"Topic21\", \"Topic21\", \"Topic21\", \"Topic21\", \"Topic21\", \"Topic21\", \"Topic21\", \"Topic21\", \"Topic21\", \"Topic21\", \"Topic21\", \"Topic21\", \"Topic21\", \"Topic21\", \"Topic21\", \"Topic21\", \"Topic21\", \"Topic21\", \"Topic21\", \"Topic21\", \"Topic22\", \"Topic22\", \"Topic22\", \"Topic22\", \"Topic22\", \"Topic22\", \"Topic22\", \"Topic22\", \"Topic22\", \"Topic22\", \"Topic22\", \"Topic22\", \"Topic22\", \"Topic22\", \"Topic22\", \"Topic22\", \"Topic22\", \"Topic22\", \"Topic22\", \"Topic22\", \"Topic22\", \"Topic22\", \"Topic22\", \"Topic22\", \"Topic22\", \"Topic22\", \"Topic22\", \"Topic22\", \"Topic22\", \"Topic22\", \"Topic22\", \"Topic22\", \"Topic22\", \"Topic22\", \"Topic22\", \"Topic22\", \"Topic22\", \"Topic22\", \"Topic22\", \"Topic22\", \"Topic23\", \"Topic23\", \"Topic23\", \"Topic23\", \"Topic23\", \"Topic23\", \"Topic23\", \"Topic23\", \"Topic23\", \"Topic23\", \"Topic23\", \"Topic23\", \"Topic23\", \"Topic23\", \"Topic23\", \"Topic23\", \"Topic23\", \"Topic23\", \"Topic23\", \"Topic23\", \"Topic23\", \"Topic23\", \"Topic23\", \"Topic23\", \"Topic23\", \"Topic23\", \"Topic23\", \"Topic23\", \"Topic23\", \"Topic23\", \"Topic23\", \"Topic23\", \"Topic23\", \"Topic24\", \"Topic24\", \"Topic24\", \"Topic24\", \"Topic24\", \"Topic24\", \"Topic24\", \"Topic24\", \"Topic24\", \"Topic24\", \"Topic24\", \"Topic24\", \"Topic24\", \"Topic24\", \"Topic24\", \"Topic24\", \"Topic24\", \"Topic24\", \"Topic24\", \"Topic24\", \"Topic24\", \"Topic24\", \"Topic24\", \"Topic24\", \"Topic24\", \"Topic24\", \"Topic24\", \"Topic24\", \"Topic24\", \"Topic24\", \"Topic24\", \"Topic24\", \"Topic24\", \"Topic24\", \"Topic24\", \"Topic24\", \"Topic24\", \"Topic24\", \"Topic24\", \"Topic24\", \"Topic24\", \"Topic24\", \"Topic24\", \"Topic25\", \"Topic25\", \"Topic25\", \"Topic25\", \"Topic25\", \"Topic25\", \"Topic25\", \"Topic25\", \"Topic25\", \"Topic25\", \"Topic25\", \"Topic25\", \"Topic25\", \"Topic25\", \"Topic25\", \"Topic25\", \"Topic25\", \"Topic25\", \"Topic25\", \"Topic25\", \"Topic25\", \"Topic25\", \"Topic25\", \"Topic25\", \"Topic25\", \"Topic25\", \"Topic25\", \"Topic25\", \"Topic25\", \"Topic25\", \"Topic25\", \"Topic25\", \"Topic25\", \"Topic25\", \"Topic25\", \"Topic25\", \"Topic25\", \"Topic25\", \"Topic25\", \"Topic25\", \"Topic25\", \"Topic25\", \"Topic25\", \"Topic25\", \"Topic25\", \"Topic25\", \"Topic25\", \"Topic25\", \"Topic25\", \"Topic25\", \"Topic25\", \"Topic25\", \"Topic26\", \"Topic26\", \"Topic26\", \"Topic26\", \"Topic26\", \"Topic26\", \"Topic26\", \"Topic26\", \"Topic26\", \"Topic26\", \"Topic26\", \"Topic26\", \"Topic26\", \"Topic26\", \"Topic26\", \"Topic26\", \"Topic26\", \"Topic26\", \"Topic26\", \"Topic26\", \"Topic26\", \"Topic26\", \"Topic26\", \"Topic26\", \"Topic26\", \"Topic26\", \"Topic26\", \"Topic26\", \"Topic26\", \"Topic26\", \"Topic26\", \"Topic26\", \"Topic26\", \"Topic26\", \"Topic26\", \"Topic26\", \"Topic26\", \"Topic26\", \"Topic26\", \"Topic26\", \"Topic26\", \"Topic27\", \"Topic27\", \"Topic27\", \"Topic27\", \"Topic27\", \"Topic27\", \"Topic27\", \"Topic27\", \"Topic27\", \"Topic27\", \"Topic27\", \"Topic27\", \"Topic27\", \"Topic27\", \"Topic27\", \"Topic27\", \"Topic27\", \"Topic27\", \"Topic27\", \"Topic27\", \"Topic27\", \"Topic27\", \"Topic27\", \"Topic27\", \"Topic27\", \"Topic27\", \"Topic27\", \"Topic27\", \"Topic27\", \"Topic27\", \"Topic27\", \"Topic27\", \"Topic27\", \"Topic27\", \"Topic27\", \"Topic27\", \"Topic27\", \"Topic27\", \"Topic27\", \"Topic27\", \"Topic27\", \"Topic27\", \"Topic27\", \"Topic27\", \"Topic27\", \"Topic27\", \"Topic27\", \"Topic27\", \"Topic28\", \"Topic28\", \"Topic28\", \"Topic28\", \"Topic28\", \"Topic28\", \"Topic28\", \"Topic28\", \"Topic28\", \"Topic28\", \"Topic28\", \"Topic28\", \"Topic28\", \"Topic28\", \"Topic28\", \"Topic28\", \"Topic28\", \"Topic28\", \"Topic28\", \"Topic28\", \"Topic28\", \"Topic28\", \"Topic28\", \"Topic28\", \"Topic28\", \"Topic28\", \"Topic28\", \"Topic28\", \"Topic28\", \"Topic28\", \"Topic28\", \"Topic28\", \"Topic28\", \"Topic28\", \"Topic28\", \"Topic28\", \"Topic28\", \"Topic28\", \"Topic28\", \"Topic28\", \"Topic28\", \"Topic28\", \"Topic28\", \"Topic28\", \"Topic28\", \"Topic28\", \"Topic28\", \"Topic28\", \"Topic28\", \"Topic28\", \"Topic28\", \"Topic28\", \"Topic28\", \"Topic28\", \"Topic28\", \"Topic28\", \"Topic28\", \"Topic28\", \"Topic28\", \"Topic28\", \"Topic28\", \"Topic28\", \"Topic28\", \"Topic28\", \"Topic28\", \"Topic28\", \"Topic28\", \"Topic28\", \"Topic28\", \"Topic28\", \"Topic28\", \"Topic29\", \"Topic29\", \"Topic29\", \"Topic29\", \"Topic29\", \"Topic29\", \"Topic29\", \"Topic29\", \"Topic29\", \"Topic29\", \"Topic29\", \"Topic29\", \"Topic29\", \"Topic29\", \"Topic29\", \"Topic29\", \"Topic29\", \"Topic29\", \"Topic29\", \"Topic29\", \"Topic29\", \"Topic29\", \"Topic29\", \"Topic29\", \"Topic29\", \"Topic29\", \"Topic29\", \"Topic29\", \"Topic29\", \"Topic29\", \"Topic29\", \"Topic29\", \"Topic29\", \"Topic29\", \"Topic29\", \"Topic29\", \"Topic29\", \"Topic29\", \"Topic30\", \"Topic30\", \"Topic30\", \"Topic30\", \"Topic30\", \"Topic30\", \"Topic30\", \"Topic30\", \"Topic30\", \"Topic30\", \"Topic30\", \"Topic30\", \"Topic30\", \"Topic30\", \"Topic30\", \"Topic30\", \"Topic30\", \"Topic30\", \"Topic30\", \"Topic30\", \"Topic30\", \"Topic30\", \"Topic30\", \"Topic30\", \"Topic30\", \"Topic30\", \"Topic30\", \"Topic30\", \"Topic30\", \"Topic30\", \"Topic30\", \"Topic30\", \"Topic30\", \"Topic30\", \"Topic30\", \"Topic30\", \"Topic30\", \"Topic30\", \"Topic30\", \"Topic30\", \"Topic30\", \"Topic30\", \"Topic30\", \"Topic30\", \"Topic30\", \"Topic30\", \"Topic30\", \"Topic30\", \"Topic30\", \"Topic31\", \"Topic31\", \"Topic31\", \"Topic31\", \"Topic31\", \"Topic31\", \"Topic31\", \"Topic31\", \"Topic31\", \"Topic31\", \"Topic31\", \"Topic31\", \"Topic31\", \"Topic31\", \"Topic31\", \"Topic31\", \"Topic31\", \"Topic31\", \"Topic31\", \"Topic31\", \"Topic31\", \"Topic31\", \"Topic31\", \"Topic31\", \"Topic31\", \"Topic31\", \"Topic31\", \"Topic31\", \"Topic31\", \"Topic31\", \"Topic31\", \"Topic32\", \"Topic32\", \"Topic32\", \"Topic32\", \"Topic32\", \"Topic32\", \"Topic32\", \"Topic32\", \"Topic32\", \"Topic32\", \"Topic32\", \"Topic32\", \"Topic32\", \"Topic32\", \"Topic32\", \"Topic32\", \"Topic32\", \"Topic32\", \"Topic32\", \"Topic32\", \"Topic32\", \"Topic32\", \"Topic32\", \"Topic32\", \"Topic32\", \"Topic32\", \"Topic32\", \"Topic32\", \"Topic32\", \"Topic32\", \"Topic32\", \"Topic32\", \"Topic32\", \"Topic32\", \"Topic32\", \"Topic32\", \"Topic32\", \"Topic32\", \"Topic32\", \"Topic32\", \"Topic32\", \"Topic32\", \"Topic32\", \"Topic32\", \"Topic32\", \"Topic32\", \"Topic33\", \"Topic33\", \"Topic33\", \"Topic33\", \"Topic33\", \"Topic33\", \"Topic33\", \"Topic33\", \"Topic33\", \"Topic33\", \"Topic33\", \"Topic33\", \"Topic33\", \"Topic33\", \"Topic33\", \"Topic33\", \"Topic33\", \"Topic33\", \"Topic33\", \"Topic33\", \"Topic33\", \"Topic33\", \"Topic33\", \"Topic33\", \"Topic33\", \"Topic33\", \"Topic33\", \"Topic33\", \"Topic33\", \"Topic33\", \"Topic33\", \"Topic33\", \"Topic33\", \"Topic33\", \"Topic33\", \"Topic33\", \"Topic33\", \"Topic33\", \"Topic33\", \"Topic33\", \"Topic33\", \"Topic33\", \"Topic33\", \"Topic33\", \"Topic33\", \"Topic33\", \"Topic33\", \"Topic33\", \"Topic34\", \"Topic34\", \"Topic34\", \"Topic34\", \"Topic34\", \"Topic34\", \"Topic34\", \"Topic34\", \"Topic34\", \"Topic34\", \"Topic34\", \"Topic34\", \"Topic34\", \"Topic34\", \"Topic34\", \"Topic34\", \"Topic34\", \"Topic34\", \"Topic34\", \"Topic34\", \"Topic34\", \"Topic34\", \"Topic34\", \"Topic34\", \"Topic34\", \"Topic34\", \"Topic34\", \"Topic34\", \"Topic34\", \"Topic34\", \"Topic34\", \"Topic34\", \"Topic34\", \"Topic34\", \"Topic34\", \"Topic34\", \"Topic34\", \"Topic34\", \"Topic34\", \"Topic35\", \"Topic35\", \"Topic35\", \"Topic35\", \"Topic35\", \"Topic35\", \"Topic35\", \"Topic35\", \"Topic35\", \"Topic35\", \"Topic35\", \"Topic35\", \"Topic35\", \"Topic35\", \"Topic35\", \"Topic35\", \"Topic35\", \"Topic35\", \"Topic35\", \"Topic35\", \"Topic35\", \"Topic35\", \"Topic35\", \"Topic35\", \"Topic35\", \"Topic35\", \"Topic35\", \"Topic35\", \"Topic35\", \"Topic35\", \"Topic35\", \"Topic35\", \"Topic35\", \"Topic35\", \"Topic35\", \"Topic35\", \"Topic35\", \"Topic36\", \"Topic36\", \"Topic36\", \"Topic36\", \"Topic36\", \"Topic36\", \"Topic36\", \"Topic36\", \"Topic36\", \"Topic36\", \"Topic36\", \"Topic36\", \"Topic36\", \"Topic36\", \"Topic36\", \"Topic36\", \"Topic36\", \"Topic36\", \"Topic36\", \"Topic36\", \"Topic36\", \"Topic36\", \"Topic36\", \"Topic36\", \"Topic36\", \"Topic36\", \"Topic36\", \"Topic36\", \"Topic36\", \"Topic36\", \"Topic36\", \"Topic36\", \"Topic36\", \"Topic36\", \"Topic36\", \"Topic36\", \"Topic36\", \"Topic36\", \"Topic36\", \"Topic36\", \"Topic36\", \"Topic36\", \"Topic36\", \"Topic36\", \"Topic36\", \"Topic36\", \"Topic36\", \"Topic36\", \"Topic36\", \"Topic36\", \"Topic36\", \"Topic36\", \"Topic36\", \"Topic37\", \"Topic37\", \"Topic37\", \"Topic37\", \"Topic37\", \"Topic37\", \"Topic37\", \"Topic37\", \"Topic37\", \"Topic37\", \"Topic37\", \"Topic37\", \"Topic37\", \"Topic37\", \"Topic37\", \"Topic37\", \"Topic37\", \"Topic37\", \"Topic37\", \"Topic37\", \"Topic37\", \"Topic37\", \"Topic37\", \"Topic37\", \"Topic37\", \"Topic37\", \"Topic37\", \"Topic37\", \"Topic37\", \"Topic37\", \"Topic37\", \"Topic37\", \"Topic37\", \"Topic37\", \"Topic37\", \"Topic37\", \"Topic37\", \"Topic37\", \"Topic37\", \"Topic37\", \"Topic37\", \"Topic37\", \"Topic37\", \"Topic37\", \"Topic37\", \"Topic37\", \"Topic37\", \"Topic37\", \"Topic37\", \"Topic37\", \"Topic38\", \"Topic38\", \"Topic38\", \"Topic38\", \"Topic38\", \"Topic38\", \"Topic38\", \"Topic38\", \"Topic38\", \"Topic38\", \"Topic38\", \"Topic38\", \"Topic38\", \"Topic38\", \"Topic38\", \"Topic38\", \"Topic38\", \"Topic38\", \"Topic38\", \"Topic38\", \"Topic38\", \"Topic38\", \"Topic38\", \"Topic38\", \"Topic38\", \"Topic38\", \"Topic38\", \"Topic38\", \"Topic38\", \"Topic38\", \"Topic38\", \"Topic38\", \"Topic38\", \"Topic38\", \"Topic38\", \"Topic38\", \"Topic38\", \"Topic38\", \"Topic38\", \"Topic38\", \"Topic38\", \"Topic38\", \"Topic38\", \"Topic38\", \"Topic38\", \"Topic38\", \"Topic38\", \"Topic38\", \"Topic38\", \"Topic38\", \"Topic38\", \"Topic38\", \"Topic38\", \"Topic38\", \"Topic38\", \"Topic38\", \"Topic38\", \"Topic38\", \"Topic38\", \"Topic38\", \"Topic38\", \"Topic38\", \"Topic38\", \"Topic38\", \"Topic38\", \"Topic39\", \"Topic39\", \"Topic39\", \"Topic39\", \"Topic39\", \"Topic39\", \"Topic39\", \"Topic39\", \"Topic39\", \"Topic39\", \"Topic39\", \"Topic39\", \"Topic39\", \"Topic39\", \"Topic39\", \"Topic39\", \"Topic39\", \"Topic39\", \"Topic39\", \"Topic39\", \"Topic39\", \"Topic39\", \"Topic39\", \"Topic39\", \"Topic39\", \"Topic39\", \"Topic39\", \"Topic39\", \"Topic39\", \"Topic39\", \"Topic39\", \"Topic39\", \"Topic39\", \"Topic39\", \"Topic39\", \"Topic39\", \"Topic39\", \"Topic39\", \"Topic39\", \"Topic39\", \"Topic39\", \"Topic39\", \"Topic39\", \"Topic39\", \"Topic39\", \"Topic39\", \"Topic39\", \"Topic40\", \"Topic40\", \"Topic40\", \"Topic40\", \"Topic40\", \"Topic40\", \"Topic40\", \"Topic40\", \"Topic40\", \"Topic40\", \"Topic40\", \"Topic40\", \"Topic40\", \"Topic40\", \"Topic40\", \"Topic40\", \"Topic40\", \"Topic40\", \"Topic40\", \"Topic40\", \"Topic40\", \"Topic40\", \"Topic40\", \"Topic40\", \"Topic40\", \"Topic40\", \"Topic40\", \"Topic40\", \"Topic40\", \"Topic40\", \"Topic40\", \"Topic40\", \"Topic40\", \"Topic40\", \"Topic40\", \"Topic40\", \"Topic40\", \"Topic40\", \"Topic40\", \"Topic41\", \"Topic41\", \"Topic41\", \"Topic41\", \"Topic41\", \"Topic41\", \"Topic41\", \"Topic41\", \"Topic41\", \"Topic41\", \"Topic41\", \"Topic41\", \"Topic41\", \"Topic41\", \"Topic41\", \"Topic41\", \"Topic41\", \"Topic41\", \"Topic41\", \"Topic41\", \"Topic41\", \"Topic41\", \"Topic41\", \"Topic41\", \"Topic41\", \"Topic41\", \"Topic41\", \"Topic41\", \"Topic41\", \"Topic41\", \"Topic41\", \"Topic41\", \"Topic41\", \"Topic41\", \"Topic41\", \"Topic41\", \"Topic41\", \"Topic41\", \"Topic41\", \"Topic41\", \"Topic42\", \"Topic42\", \"Topic42\", \"Topic42\", \"Topic42\", \"Topic42\", \"Topic42\", \"Topic42\", \"Topic42\", \"Topic42\", \"Topic42\", \"Topic42\", \"Topic42\", \"Topic42\", \"Topic42\", \"Topic42\", \"Topic42\", \"Topic42\", \"Topic42\", \"Topic42\", \"Topic42\", \"Topic42\", \"Topic42\", \"Topic42\", \"Topic42\", \"Topic42\", \"Topic42\", \"Topic42\", \"Topic42\", \"Topic42\", \"Topic42\", \"Topic42\", \"Topic42\", \"Topic42\", \"Topic42\", \"Topic42\", \"Topic42\", \"Topic42\", \"Topic42\", \"Topic42\", \"Topic42\", \"Topic42\", \"Topic42\", \"Topic42\", \"Topic42\", \"Topic42\", \"Topic42\", \"Topic42\", \"Topic42\", \"Topic42\", \"Topic42\", \"Topic42\", \"Topic42\", \"Topic42\", \"Topic42\", \"Topic42\", \"Topic42\", \"Topic42\", \"Topic42\", \"Topic42\", \"Topic43\", \"Topic43\", \"Topic43\", \"Topic43\", \"Topic43\", \"Topic43\", \"Topic43\", \"Topic43\", \"Topic43\", \"Topic43\", \"Topic43\", \"Topic43\", \"Topic43\", \"Topic43\", \"Topic43\", \"Topic43\", \"Topic43\", \"Topic43\", \"Topic43\", \"Topic43\", \"Topic43\", \"Topic43\", \"Topic43\", \"Topic43\", \"Topic43\", \"Topic43\", \"Topic43\", \"Topic43\", \"Topic43\", \"Topic43\", \"Topic43\", \"Topic43\", \"Topic43\", \"Topic43\", \"Topic43\", \"Topic43\", \"Topic43\", \"Topic43\", \"Topic43\", \"Topic43\", \"Topic43\", \"Topic43\", \"Topic43\", \"Topic43\", \"Topic44\", \"Topic44\", \"Topic44\", \"Topic44\", \"Topic44\", \"Topic44\", \"Topic44\", \"Topic44\", \"Topic44\", \"Topic44\", \"Topic44\", \"Topic44\", \"Topic44\", \"Topic44\", \"Topic44\", \"Topic44\", \"Topic44\", \"Topic44\", \"Topic44\", \"Topic44\", \"Topic44\", \"Topic44\", \"Topic44\", \"Topic44\", \"Topic44\", \"Topic44\", \"Topic44\", \"Topic44\", \"Topic44\", \"Topic44\", \"Topic44\", \"Topic44\", \"Topic44\", \"Topic44\", \"Topic44\", \"Topic44\", \"Topic44\", \"Topic44\", \"Topic44\", \"Topic44\", \"Topic44\", \"Topic44\", \"Topic44\", \"Topic44\", \"Topic44\", \"Topic44\", \"Topic44\", \"Topic44\", \"Topic44\", \"Topic44\", \"Topic44\", \"Topic44\", \"Topic44\", \"Topic44\", \"Topic44\", \"Topic44\", \"Topic45\", \"Topic45\", \"Topic45\", \"Topic45\", \"Topic45\", \"Topic45\", \"Topic45\", \"Topic45\", \"Topic45\", \"Topic45\", \"Topic45\", \"Topic45\", \"Topic45\", \"Topic45\", \"Topic45\", \"Topic45\", \"Topic45\", \"Topic45\", \"Topic45\", \"Topic45\", \"Topic45\", \"Topic45\", \"Topic45\", \"Topic45\", \"Topic45\", \"Topic45\", \"Topic45\", \"Topic45\", \"Topic45\", \"Topic45\", \"Topic45\", \"Topic45\", \"Topic45\", \"Topic45\", \"Topic45\", \"Topic45\", \"Topic45\", \"Topic45\", \"Topic45\", \"Topic45\", \"Topic45\", \"Topic45\", \"Topic45\", \"Topic45\", \"Topic45\", \"Topic45\", \"Topic45\", \"Topic45\", \"Topic45\", \"Topic45\", \"Topic45\", \"Topic45\", \"Topic45\", \"Topic45\", \"Topic45\", \"Topic45\", \"Topic45\", \"Topic45\", \"Topic46\", \"Topic46\", \"Topic46\", \"Topic46\", \"Topic46\", \"Topic46\", \"Topic46\", \"Topic46\", \"Topic46\", \"Topic46\", \"Topic46\", \"Topic46\", \"Topic46\", \"Topic46\", \"Topic46\", \"Topic46\", \"Topic46\", \"Topic46\", \"Topic46\", \"Topic46\", \"Topic46\", \"Topic46\", \"Topic46\", \"Topic46\", \"Topic46\", \"Topic46\", \"Topic46\", \"Topic46\", \"Topic46\", \"Topic46\", \"Topic46\", \"Topic46\", \"Topic46\", \"Topic46\", \"Topic46\", \"Topic46\", \"Topic47\", \"Topic47\", \"Topic47\", \"Topic47\", \"Topic47\", \"Topic47\", \"Topic47\", \"Topic47\", \"Topic47\", \"Topic47\", \"Topic47\", \"Topic47\", \"Topic47\", \"Topic47\", \"Topic47\", \"Topic47\", \"Topic47\", \"Topic47\", \"Topic47\", \"Topic47\", \"Topic47\", \"Topic47\", \"Topic47\", \"Topic47\", \"Topic47\", \"Topic47\", \"Topic47\", \"Topic47\", \"Topic47\", \"Topic47\", \"Topic47\", \"Topic47\", \"Topic47\", \"Topic47\", \"Topic47\", \"Topic47\", \"Topic47\", \"Topic47\", \"Topic47\", \"Topic47\", \"Topic47\", \"Topic47\", \"Topic47\", \"Topic47\", \"Topic47\", \"Topic47\", \"Topic47\", \"Topic47\", \"Topic47\", \"Topic47\", \"Topic47\", \"Topic47\", \"Topic47\", \"Topic47\", \"Topic47\", \"Topic47\", \"Topic47\", \"Topic47\", \"Topic47\", \"Topic47\", \"Topic48\", \"Topic48\", \"Topic48\", \"Topic48\", \"Topic48\", \"Topic48\", \"Topic48\", \"Topic48\", \"Topic48\", \"Topic48\", \"Topic48\", \"Topic48\", \"Topic48\", \"Topic48\", \"Topic48\", \"Topic48\", \"Topic48\", \"Topic48\", \"Topic48\", \"Topic48\", \"Topic48\", \"Topic48\", \"Topic48\", \"Topic48\", \"Topic48\", \"Topic48\", \"Topic48\", \"Topic48\", \"Topic48\", \"Topic48\", \"Topic48\", \"Topic48\", \"Topic48\", \"Topic48\", \"Topic48\", \"Topic48\", \"Topic48\", \"Topic48\", \"Topic48\", \"Topic48\", \"Topic48\", \"Topic48\", \"Topic48\", \"Topic48\", \"Topic48\", \"Topic48\", \"Topic48\", \"Topic48\", \"Topic48\", \"Topic48\", \"Topic48\", \"Topic48\", \"Topic48\", \"Topic48\", \"Topic48\", \"Topic48\", \"Topic48\", \"Topic48\", \"Topic48\", \"Topic49\", \"Topic49\", \"Topic49\", \"Topic49\", \"Topic49\", \"Topic49\", \"Topic49\", \"Topic49\", \"Topic49\", \"Topic49\", \"Topic49\", \"Topic49\", \"Topic49\", \"Topic49\", \"Topic49\", \"Topic49\", \"Topic49\", \"Topic49\", \"Topic49\", \"Topic49\", \"Topic49\", \"Topic49\", \"Topic49\", \"Topic49\", \"Topic49\", \"Topic49\", \"Topic49\", \"Topic49\", \"Topic49\", \"Topic49\", \"Topic49\", \"Topic49\", \"Topic49\", \"Topic49\", \"Topic49\", \"Topic49\", \"Topic49\", \"Topic49\", \"Topic49\", \"Topic49\", \"Topic49\", \"Topic49\", \"Topic49\", \"Topic49\", \"Topic49\", \"Topic49\", \"Topic49\", \"Topic49\", \"Topic49\", \"Topic49\", \"Topic49\", \"Topic49\", \"Topic49\", \"Topic49\", \"Topic49\", \"Topic50\", \"Topic50\", \"Topic50\", \"Topic50\", \"Topic50\", \"Topic50\", \"Topic50\", \"Topic50\", \"Topic50\", \"Topic50\", \"Topic50\", \"Topic50\", \"Topic50\", \"Topic50\", \"Topic50\", \"Topic50\", \"Topic50\", \"Topic50\", \"Topic50\", \"Topic50\", \"Topic50\", \"Topic50\", \"Topic50\", \"Topic50\", \"Topic50\", \"Topic50\", \"Topic50\", \"Topic50\", \"Topic50\", \"Topic50\", \"Topic50\", \"Topic50\", \"Topic50\", \"Topic50\", \"Topic50\", \"Topic50\", \"Topic50\", \"Topic50\", \"Topic50\", \"Topic50\", \"Topic51\", \"Topic51\", \"Topic51\", \"Topic51\", \"Topic51\", \"Topic51\", \"Topic51\", \"Topic51\", \"Topic51\", \"Topic51\", \"Topic51\", \"Topic51\", \"Topic51\", \"Topic51\", \"Topic51\", \"Topic51\", \"Topic51\", \"Topic51\", \"Topic51\", \"Topic51\", \"Topic51\", \"Topic51\", \"Topic51\", \"Topic51\", \"Topic51\", \"Topic51\", \"Topic51\", \"Topic51\", \"Topic51\", \"Topic51\", \"Topic51\", \"Topic51\", \"Topic51\", \"Topic51\", \"Topic51\", \"Topic51\", \"Topic51\", \"Topic51\", \"Topic51\", \"Topic51\", \"Topic51\", \"Topic51\", \"Topic51\", \"Topic51\", \"Topic51\", \"Topic51\", \"Topic51\", \"Topic51\", \"Topic51\", \"Topic51\", \"Topic51\", \"Topic51\", \"Topic51\", \"Topic51\", \"Topic51\", \"Topic51\", \"Topic51\", \"Topic51\", \"Topic52\", \"Topic52\", \"Topic52\", \"Topic52\", \"Topic52\", \"Topic52\", \"Topic52\", \"Topic52\", \"Topic52\", \"Topic52\", \"Topic52\", \"Topic52\", \"Topic52\", \"Topic52\", \"Topic52\", \"Topic52\", \"Topic52\", \"Topic52\", \"Topic52\", \"Topic52\", \"Topic52\", \"Topic52\", \"Topic52\", \"Topic52\", \"Topic52\", \"Topic52\", \"Topic52\", \"Topic52\", \"Topic52\", \"Topic52\", \"Topic52\", \"Topic52\", \"Topic52\", \"Topic52\", \"Topic52\", \"Topic52\", \"Topic52\", \"Topic53\", \"Topic53\", \"Topic53\", \"Topic53\", \"Topic53\", \"Topic53\", \"Topic53\", \"Topic53\", \"Topic53\", \"Topic53\", \"Topic53\", \"Topic53\", \"Topic53\", \"Topic53\", \"Topic53\", \"Topic53\", \"Topic53\", \"Topic53\", \"Topic53\", \"Topic53\", \"Topic53\", \"Topic53\", \"Topic53\", \"Topic53\", \"Topic53\", \"Topic53\", \"Topic53\", \"Topic53\", \"Topic53\", \"Topic53\", \"Topic53\", \"Topic53\", \"Topic53\", \"Topic53\", \"Topic53\", \"Topic53\", \"Topic53\", \"Topic53\", \"Topic53\", \"Topic53\", \"Topic53\", \"Topic53\", \"Topic54\", \"Topic54\", \"Topic54\", \"Topic54\", \"Topic54\", \"Topic54\", \"Topic54\", \"Topic54\", \"Topic54\", \"Topic54\", \"Topic54\", \"Topic54\", \"Topic54\", \"Topic54\", \"Topic54\", \"Topic54\", \"Topic54\", \"Topic54\", \"Topic54\", \"Topic54\", \"Topic54\", \"Topic54\", \"Topic54\", \"Topic54\", \"Topic54\", \"Topic54\", \"Topic54\", \"Topic54\", \"Topic54\", \"Topic54\", \"Topic54\", \"Topic54\", \"Topic54\", \"Topic54\", \"Topic54\", \"Topic54\", \"Topic54\", \"Topic54\", \"Topic54\", \"Topic54\", \"Topic54\", \"Topic54\", \"Topic55\", \"Topic55\", \"Topic55\", \"Topic55\", \"Topic55\", \"Topic55\", \"Topic55\", \"Topic55\", \"Topic55\", \"Topic55\", \"Topic55\", \"Topic55\", \"Topic55\", \"Topic55\", \"Topic55\", \"Topic55\", \"Topic55\", \"Topic55\", \"Topic55\", \"Topic55\", \"Topic55\", \"Topic55\", \"Topic55\", \"Topic55\", \"Topic55\", \"Topic55\", \"Topic55\", \"Topic55\", \"Topic55\", \"Topic55\", \"Topic55\", \"Topic55\", \"Topic55\", \"Topic55\", \"Topic55\", \"Topic55\", \"Topic55\", \"Topic55\", \"Topic56\", \"Topic56\", \"Topic56\", \"Topic56\", \"Topic56\", \"Topic56\", \"Topic56\", \"Topic56\", \"Topic56\", \"Topic56\", \"Topic56\", \"Topic56\", \"Topic56\", \"Topic56\", \"Topic56\", \"Topic56\", \"Topic56\", \"Topic56\", \"Topic56\", \"Topic56\", \"Topic56\", \"Topic56\", \"Topic56\", \"Topic56\", \"Topic56\", \"Topic56\", \"Topic56\", \"Topic56\", \"Topic56\", \"Topic56\", \"Topic56\", \"Topic56\", \"Topic57\", \"Topic57\", \"Topic57\", \"Topic57\", \"Topic57\", \"Topic57\", \"Topic57\", \"Topic57\", \"Topic57\", \"Topic57\", \"Topic57\", \"Topic57\", \"Topic57\", \"Topic57\", \"Topic57\", \"Topic57\", \"Topic57\", \"Topic57\", \"Topic57\", \"Topic57\", \"Topic57\", \"Topic57\", \"Topic57\", \"Topic57\", \"Topic57\", \"Topic57\", \"Topic57\", \"Topic57\", \"Topic57\", \"Topic57\", \"Topic57\", \"Topic57\", \"Topic57\", \"Topic57\", \"Topic57\", \"Topic57\", \"Topic57\", \"Topic57\", \"Topic57\", \"Topic57\", \"Topic57\", \"Topic57\", \"Topic57\", \"Topic57\", \"Topic58\", \"Topic58\", \"Topic58\", \"Topic58\", \"Topic58\", \"Topic58\", \"Topic58\", \"Topic58\", \"Topic58\", \"Topic58\", \"Topic58\", \"Topic58\", \"Topic58\", \"Topic58\", \"Topic58\", \"Topic58\", \"Topic58\", \"Topic58\", \"Topic58\", \"Topic58\", \"Topic58\", \"Topic58\", \"Topic58\", \"Topic58\", \"Topic58\", \"Topic58\", \"Topic58\", \"Topic58\", \"Topic58\", \"Topic58\", \"Topic58\", \"Topic58\", \"Topic58\", \"Topic58\", \"Topic58\", \"Topic58\", \"Topic58\", \"Topic58\", \"Topic58\", \"Topic58\", \"Topic58\", \"Topic58\", \"Topic58\", \"Topic58\", \"Topic58\", \"Topic58\", \"Topic58\", \"Topic58\", \"Topic58\", \"Topic58\", \"Topic58\", \"Topic59\", \"Topic59\", \"Topic59\", \"Topic59\", \"Topic59\", \"Topic59\", \"Topic59\", \"Topic59\", \"Topic59\", \"Topic59\", \"Topic59\", \"Topic59\", \"Topic59\", \"Topic59\", \"Topic59\", \"Topic59\", \"Topic59\", \"Topic59\", \"Topic59\", \"Topic59\", \"Topic59\", \"Topic59\", \"Topic59\", \"Topic59\", \"Topic59\", \"Topic59\", \"Topic59\", \"Topic59\", \"Topic59\", \"Topic59\", \"Topic59\", \"Topic59\", \"Topic59\", \"Topic59\", \"Topic59\", \"Topic60\", \"Topic60\", \"Topic60\", \"Topic60\", \"Topic60\", \"Topic60\", \"Topic60\", \"Topic60\", \"Topic60\", \"Topic60\", \"Topic60\", \"Topic60\", \"Topic60\", \"Topic60\", \"Topic60\", \"Topic60\", \"Topic60\", \"Topic60\", \"Topic60\", \"Topic60\", \"Topic60\", \"Topic60\", \"Topic60\", \"Topic60\", \"Topic60\", \"Topic60\", \"Topic60\", \"Topic60\", \"Topic60\", \"Topic60\", \"Topic60\", \"Topic60\", \"Topic60\", \"Topic60\", \"Topic60\", \"Topic60\", \"Topic60\", \"Topic60\", \"Topic60\", \"Topic60\", \"Topic60\", \"Topic60\", \"Topic60\", \"Topic60\", \"Topic60\", \"Topic60\", \"Topic61\", \"Topic61\", \"Topic61\", \"Topic61\", \"Topic61\", \"Topic61\", \"Topic61\", \"Topic61\", \"Topic61\", \"Topic61\", \"Topic61\", \"Topic61\", \"Topic61\", \"Topic61\", \"Topic61\", \"Topic61\", \"Topic61\", \"Topic61\", \"Topic61\", \"Topic61\", \"Topic61\", \"Topic61\", \"Topic61\", \"Topic61\", \"Topic61\", \"Topic61\", \"Topic61\", \"Topic61\", \"Topic61\", \"Topic61\", \"Topic61\", \"Topic61\", \"Topic61\", \"Topic61\", \"Topic61\", \"Topic61\", \"Topic61\", \"Topic61\", \"Topic61\", \"Topic61\", \"Topic61\", \"Topic61\", \"Topic61\", \"Topic61\", \"Topic61\", \"Topic61\", \"Topic61\", \"Topic61\", \"Topic61\", \"Topic61\", \"Topic61\", \"Topic61\", \"Topic61\", \"Topic61\", \"Topic61\", \"Topic61\", \"Topic61\", \"Topic61\", \"Topic61\", \"Topic61\", \"Topic61\", \"Topic61\", \"Topic61\", \"Topic61\", \"Topic61\", \"Topic61\", \"Topic61\", \"Topic61\", \"Topic61\", \"Topic61\", \"Topic61\", \"Topic61\", \"Topic62\", \"Topic62\", \"Topic62\", \"Topic62\", \"Topic62\", \"Topic62\", \"Topic62\", \"Topic62\", \"Topic62\", \"Topic62\", \"Topic62\", \"Topic62\", \"Topic62\", \"Topic62\", \"Topic62\", \"Topic62\", \"Topic62\", \"Topic62\", \"Topic62\", \"Topic62\", \"Topic62\", \"Topic62\", \"Topic62\", \"Topic62\", \"Topic62\", \"Topic62\", \"Topic62\", \"Topic62\", \"Topic62\", \"Topic62\", \"Topic62\", \"Topic62\", \"Topic62\", \"Topic62\", \"Topic62\", \"Topic62\", \"Topic63\", \"Topic63\", \"Topic63\", \"Topic63\", \"Topic63\", \"Topic63\", \"Topic63\", \"Topic63\", \"Topic63\", \"Topic63\", \"Topic63\", \"Topic63\", \"Topic63\", \"Topic63\", \"Topic63\", \"Topic63\", \"Topic63\", \"Topic63\", \"Topic63\", \"Topic63\", \"Topic63\", \"Topic63\", \"Topic63\", \"Topic63\", \"Topic63\", \"Topic63\", \"Topic63\", \"Topic63\", \"Topic63\", \"Topic63\", \"Topic63\", \"Topic63\", \"Topic63\", \"Topic63\", \"Topic63\", \"Topic63\", \"Topic63\", \"Topic64\", \"Topic64\", \"Topic64\", \"Topic64\", \"Topic64\", \"Topic64\", \"Topic64\", \"Topic64\", \"Topic64\", \"Topic64\", \"Topic64\", \"Topic64\", \"Topic64\", \"Topic64\", \"Topic64\", \"Topic64\", \"Topic64\", \"Topic64\", \"Topic64\", \"Topic64\", \"Topic64\", \"Topic64\", \"Topic64\", \"Topic64\", \"Topic64\", \"Topic64\", \"Topic64\", \"Topic64\", \"Topic64\", \"Topic64\", \"Topic64\", \"Topic64\", \"Topic64\", \"Topic64\", \"Topic64\", \"Topic64\", \"Topic64\", \"Topic64\", \"Topic64\", \"Topic64\", \"Topic64\", \"Topic64\", \"Topic64\", \"Topic64\", \"Topic64\", \"Topic64\", \"Topic64\", \"Topic64\", \"Topic65\", \"Topic65\", \"Topic65\", \"Topic65\", \"Topic65\", \"Topic65\", \"Topic65\", \"Topic65\", \"Topic65\", \"Topic65\", \"Topic65\", \"Topic65\", \"Topic65\", \"Topic65\", \"Topic65\", \"Topic65\", \"Topic65\", \"Topic65\", \"Topic65\", \"Topic65\", \"Topic65\", \"Topic65\", \"Topic65\", \"Topic65\", \"Topic65\", \"Topic65\", \"Topic65\", \"Topic65\", \"Topic65\", \"Topic65\", \"Topic65\", \"Topic65\", \"Topic65\", \"Topic65\", \"Topic65\", \"Topic65\", \"Topic65\", \"Topic65\", \"Topic65\", \"Topic65\", \"Topic65\", \"Topic65\", \"Topic65\", \"Topic65\", \"Topic65\", \"Topic65\", \"Topic65\", \"Topic65\", \"Topic65\", \"Topic65\", \"Topic65\", \"Topic65\", \"Topic65\", \"Topic65\", \"Topic65\", \"Topic65\", \"Topic65\", \"Topic65\", \"Topic65\", \"Topic65\", \"Topic65\", \"Topic65\", \"Topic66\", \"Topic66\", \"Topic66\", \"Topic66\", \"Topic66\", \"Topic66\", \"Topic66\", \"Topic66\", \"Topic66\", \"Topic66\", \"Topic66\", \"Topic66\", \"Topic66\", \"Topic66\", \"Topic66\", \"Topic66\", \"Topic66\", \"Topic66\", \"Topic66\", \"Topic66\", \"Topic66\", \"Topic66\", \"Topic66\", \"Topic66\", \"Topic66\", \"Topic66\", \"Topic66\", \"Topic66\", \"Topic66\", \"Topic66\", \"Topic66\", \"Topic66\", \"Topic66\", \"Topic66\", \"Topic66\", \"Topic66\", \"Topic66\", \"Topic66\", \"Topic66\", \"Topic66\", \"Topic66\", \"Topic66\", \"Topic66\", \"Topic66\", \"Topic66\", \"Topic66\", \"Topic66\", \"Topic66\", \"Topic66\", \"Topic66\", \"Topic66\", \"Topic66\", \"Topic66\", \"Topic66\", \"Topic66\", \"Topic66\", \"Topic66\", \"Topic66\", \"Topic66\", \"Topic67\", \"Topic67\", \"Topic67\", \"Topic67\", \"Topic67\", \"Topic67\", \"Topic67\", \"Topic67\", \"Topic67\", \"Topic67\", \"Topic67\", \"Topic67\", \"Topic67\", \"Topic67\", \"Topic67\", \"Topic67\", \"Topic67\", \"Topic67\", \"Topic67\", \"Topic67\", \"Topic67\", \"Topic67\", \"Topic67\", \"Topic67\", \"Topic67\", \"Topic67\", \"Topic67\", \"Topic67\", \"Topic67\", \"Topic67\", \"Topic67\", \"Topic67\", \"Topic67\", \"Topic67\", \"Topic67\", \"Topic67\", \"Topic68\", \"Topic68\", \"Topic68\", \"Topic68\", \"Topic68\", \"Topic68\", \"Topic68\", \"Topic68\", \"Topic68\", \"Topic68\", \"Topic68\", \"Topic68\", \"Topic68\", \"Topic68\", \"Topic68\", \"Topic68\", \"Topic68\", \"Topic68\", \"Topic68\", \"Topic68\", \"Topic68\", \"Topic68\", \"Topic68\", \"Topic68\", \"Topic68\", \"Topic68\", \"Topic68\", \"Topic68\", \"Topic68\", \"Topic68\", \"Topic68\", \"Topic68\", \"Topic68\", \"Topic68\", \"Topic68\", \"Topic68\", \"Topic68\", \"Topic68\", \"Topic68\", \"Topic68\", \"Topic68\", \"Topic68\", \"Topic68\", \"Topic68\", \"Topic68\", \"Topic68\", \"Topic68\", \"Topic68\", \"Topic68\", \"Topic68\", \"Topic68\", \"Topic68\", \"Topic68\", \"Topic68\", \"Topic68\", \"Topic68\", \"Topic68\", \"Topic68\", \"Topic68\", \"Topic68\", \"Topic68\", \"Topic68\", \"Topic68\", \"Topic68\", \"Topic68\", \"Topic68\", \"Topic68\", \"Topic68\", \"Topic68\", \"Topic68\", \"Topic68\", \"Topic68\", \"Topic68\", \"Topic68\", \"Topic69\", \"Topic69\", \"Topic69\", \"Topic69\", \"Topic69\", \"Topic69\", \"Topic69\", \"Topic69\", \"Topic69\", \"Topic69\", \"Topic69\", \"Topic69\", \"Topic69\", \"Topic69\", \"Topic69\", \"Topic69\", \"Topic69\", \"Topic69\", \"Topic69\", \"Topic69\", \"Topic69\", \"Topic69\", \"Topic69\", \"Topic69\", \"Topic69\", \"Topic69\", \"Topic69\", \"Topic69\", \"Topic69\", \"Topic69\", \"Topic69\", \"Topic69\", \"Topic69\", \"Topic69\", \"Topic69\", \"Topic69\", \"Topic69\", \"Topic69\", \"Topic69\", \"Topic69\", \"Topic69\", \"Topic69\", \"Topic69\", \"Topic69\", \"Topic69\", \"Topic69\", \"Topic69\", \"Topic69\", \"Topic69\", \"Topic69\", \"Topic69\", \"Topic69\", \"Topic69\", \"Topic70\", \"Topic70\", \"Topic70\", \"Topic70\", \"Topic70\", \"Topic70\", \"Topic70\", \"Topic70\", \"Topic70\", \"Topic70\", \"Topic70\", \"Topic70\", \"Topic70\", \"Topic70\", \"Topic70\", \"Topic70\", \"Topic70\", \"Topic70\", \"Topic70\", \"Topic70\", \"Topic70\", \"Topic70\", \"Topic70\", \"Topic70\", \"Topic70\", \"Topic70\", \"Topic70\", \"Topic70\", \"Topic70\", \"Topic70\", \"Topic70\", \"Topic70\", \"Topic70\", \"Topic70\", \"Topic70\", \"Topic70\", \"Topic70\", \"Topic70\", \"Topic70\"], \"Freq\": [12272.0, 6583.0, 4028.0, 3383.0, 3749.0, 4658.0, 4631.0, 2129.0, 3693.0, 3596.0, 1984.0, 3028.0, 6001.0, 1895.0, 2051.0, 1578.0, 2029.0, 1777.0, 1520.0, 1451.0, 1392.0, 1771.0, 2203.0, 1548.0, 1375.0, 1536.0, 2572.0, 1118.0, 1210.0, 1031.0, 74.47003674162391, 152.53354181743265, 513.6161782040762, 20.34184860427674, 18.653658022390232, 18.08494053347845, 30.58752778108711, 46.579204164732396, 313.9160774686777, 80.56272493607335, 51.956799312449284, 1085.8234138689302, 143.99230379315378, 30.679047730753624, 36.417395117177044, 105.74365132594606, 45.426976138605895, 435.79866626796746, 28.095826945558176, 27.731430266422336, 60.52569619593625, 485.36958246473876, 280.27795068074124, 14.992299478048462, 62.814564268692045, 37.55957438677753, 46.09772572624717, 20.287378368086618, 1888.4381112638894, 11.341787610940942, 381.2061875193021, 271.0269930206236, 221.38482131021905, 325.0004643848154, 363.1520630774761, 196.0171137681923, 883.7471556144807, 217.9650131441486, 138.27449169730187, 376.802567328205, 337.8695395547627, 182.01166240843003, 67.36687883477347, 63.542522939727284, 71.85575560377065, 122.09082643184406, 138.30763825285038, 112.45093986692066, 111.60451335347905, 119.96232516592606, 712.175539641124, 613.4639631809118, 119.39813265863785, 40.64423328898721, 40.58185782913687, 26.679981641824103, 14.99683930306408, 14.203428766622649, 11.904099900500489, 149.08709019537872, 25.3318942367369, 441.6914188041667, 145.13261906210641, 34.52653235200184, 33.85058534292365, 13.209636914188861, 79.94279858404713, 21.116646951357755, 98.59583253369475, 10.455189035350914, 50.92758374223001, 55.54930267848419, 58.39435381479171, 51.533087995887904, 101.81656248715518, 26.012198582047944, 13.64591731058425, 70.54056632202762, 45.02406917090548, 15.2723746620192, 33.845525625215764, 16.10724540986374, 14.283903682071319, 14.772365054552505, 300.50089068802515, 66.63425628778191, 59.19683851945482, 53.68264959413869, 53.14263104283587, 53.116004406389976, 39.07922141323109, 47.284935219957205, 20.501646036768992, 17.085502628092193, 65.95846415320571, 15.824228851236569, 14.38378653924024, 14.136384880169501, 12.778176794403626, 26.77305806906107, 9.790610516434906, 78.2622047865482, 293.6237801930495, 133.7435402243323, 259.0582981955585, 74.67804292149223, 16.522641410695446, 14.811425922234259, 15.505529660723823, 18.827340439859505, 61.0548288940314, 44.69854560326342, 81.40624525483703, 51.1372056353184, 95.9449315862417, 504.6939698476122, 72.19128340954875, 297.73478560569987, 110.5560300882528, 41.56848368464892, 137.14007232134864, 133.70774465084799, 568.8473805680679, 84.89365174106527, 73.86409039031774, 92.73336801329556, 172.86445918202477, 325.2204491377376, 297.4333034964415, 124.7655848014116, 394.6643654360932, 94.30817364084741, 99.88685583544148, 98.20336476343653, 75.49273248886692, 139.69124428299546, 95.67576560693007, 143.42522205805983, 173.11989617361027, 92.49008440294271, 101.46277696566199, 78.01554361405984, 79.67658431743554, 0.02392328264770747, 0.023923282769975504, 0.023923282594138784, 0.02392328266183276, 0.02392328275260577, 0.023923282787196756, 0.023923282725795324, 0.023923282536302652, 0.023923282653014834, 0.02392328272050857, 0.02392328270345452, 0.023923282680955036, 0.023923282761658955, 0.02392328278601337, 0.02392328263013107, 0.023923282839690033, 0.02392328261302504, 0.023923282739877174, 0.02392328264354785, 0.023923282693352223, 0.02392328273720832, 0.02392328267810089, 0.02392328259954448, 0.023923282677240754, 0.023923282799009356, 0.023923282606485647, 0.023923282853099578, 0.023923282718205204, 0.023923282786528947, 0.023923282697565173, 0.02392329918750202, 0.023923295433918152, 0.023923291843369787, 0.023923290117363757, 0.023923289794252754, 0.023923287691083626, 0.023923287361873487, 0.02392328691171992, 0.02392328663974296, 0.023923286037737395, 0.023923285982771214, 0.023923285824520822, 0.023923285440076228, 0.023923285042450684, 0.023923285000379282, 0.023923284974826212, 0.02392328495160207, 0.023923284945621178, 0.02392328489532325, 0.023923284856833395, 0.02392328483185897, 0.023923284776328997, 0.023923284720867955, 0.0239232845992127, 0.023923284596297268, 0.02392328459292797, 0.023923284580101078, 0.02392328452732656, 0.02392328449614195, 0.023923284455540622, 1029.0166606029022, 342.3352596301512, 337.22030359690143, 150.49940603315343, 82.14083206335192, 62.928743109437534, 41.473786757103014, 55.101605279137495, 48.357161089952996, 109.69076032353931, 31.607629091974076, 29.340068185303036, 6.535609361838446, 115.75839763463411, 10.558405447393369, 70.7988817773379, 307.268607264957, 17.601249869153534, 6.080949227962716, 8.988769420512796, 9.073762490114065, 51.23409688103627, 44.57796315959127, 32.757762065858714, 11.068648300954775, 5.118944786682028, 30.584749900439107, 12.281568852029823, 7.432503052910226, 3.0522229804757144, 6.56094061912253, 13.280885096526, 15.079556298966466, 8.039392914463267, 7.27094969325461, 279.95855293912723, 82.83076838632975, 73.46712888588563, 63.576700318072255, 51.98735473617402, 51.46030282974574, 50.82763711988423, 39.72698543323879, 34.04212713734244, 19.17200019373944, 28.02894122259151, 14.243403078556033, 218.1437055601344, 285.5532396260758, 20.139986779229925, 784.3768788234365, 45.067181581193296, 90.1225850528654, 41.742439093947674, 16.11733401348873, 30.797927728263964, 12.06521944295695, 34.82019854949128, 121.19340468123102, 64.97245265560666, 1625.2830885788344, 35.44723552795181, 58.88564307700834, 20.556180353980107, 961.2306555666408, 953.7283338542443, 311.440107333433, 77.45895063736904, 85.62822128403333, 242.9979639156691, 74.00099440456138, 45.25615443429911, 319.6389471231831, 150.89930173474698, 86.5607922842822, 232.40216505182622, 71.64418905261056, 81.99262635257297, 128.65235946259241, 79.23557200370529, 232.224551852921, 112.89897906441792, 90.57328616784429, 96.85197364660335, 115.51899573675848, 77.6008677443456, 78.90171757065092, 81.69743231806267, 74.1073996254393, 1117.8151198075327, 135.58655845516702, 68.76293018112116, 65.95291958256777, 763.1948572540664, 523.7310668190313, 101.73755567911296, 77.76810517154249, 425.6961653888781, 36.28274798139257, 10.288599330070339, 18.25517862742095, 39.56529196283984, 15.572829013290137, 8.461155170821957, 4.931639706631206, 18.951257605706175, 39.94352932972815, 16.841566067215037, 11.292622922891209, 7.186887181211818, 3.9921347606305924, 11.504951755321624, 10.446072828248486, 3.540134943709439, 7.165224266937017, 6.574700469823578, 6.022281298704487, 2.9290325647794404, 6.39974489944632, 31.904547190711416, 53.73381622589492, 30.345462306199046, 54.52478597791851, 28.42490113852339, 10.031869849051365, 12.382344973227429, 12.24261057656592, 11.219075675699647, 10.879543337663575, 174.74362714787512, 158.70135519115024, 105.15674270477872, 98.6514252884164, 90.43557760618532, 55.36961282579284, 54.3400183621528, 43.24223623948268, 17.239990219982733, 53.243846578288014, 68.1521619557151, 13.13804943360452, 12.728098155736848, 64.10837925370456, 1259.7792062931492, 83.53046943063623, 94.65829315162932, 68.31884627750308, 13.569969687766937, 100.97989603083941, 48.009191566266104, 324.3873540288181, 37.58756381677923, 21.98343951149716, 246.9239547794673, 15.524978687877717, 11.41230037973173, 5.536513718643469, 25.294918831120395, 55.53549012375895, 81.87983421054528, 24.110282426961287, 66.97899980870783, 57.979620192271156, 56.88599208663436, 67.43379152134018, 27.50503181259274, 198.93418982315964, 682.5051978263083, 64.95396175418078, 2916.303587437652, 193.72544741718778, 58.24444041346303, 40.03551260598245, 62.92613501192603, 223.98921299224065, 2.7408613000057502, 10.316964655581536, 10.360251468644602, 8.834423851006441, 18.8166384995697, 9.358046113072893, 5.505274706037069, 3.495085905661995, 2.864686419063663, 2.2185760450413055, 7.859655268562015, 1.7817991927599206, 18.46168121254298, 4.209737465464271, 1.0821078832341955, 13.007988474358191, 25.2845776975468, 0.7511060088500224, 4.939929539625874, 2.417986458256512, 7.274335184216207, 15.346087182419339, 1.5824175821948188, 169.27302975000754, 111.93683639641391, 100.25146000398176, 90.73774731708026, 88.2272538602614, 86.22860520719306, 51.57843485401862, 31.90997134264899, 67.5401521120396, 6.86954930246992, 4.549570295738151, 2.0907718279185596, 3.7231916570438264, 1.4778766773338847, 7.956824066999744, 11.177715683139338, 1.5033842536576165, 0.015407354212754892, 0.015407354171211907, 0.015407354351251713, 0.015407354276642787, 0.015407354146228869, 0.015407354302554292, 0.015407354216865548, 0.015407354186425514, 0.015407354246687372, 0.015407354237386721, 0.015407354187845713, 0.01540735416063461, 0.015407354190570068, 0.01540750764991925, 0.01540743657999353, 0.015407425157979996, 0.015407391185509583, 0.015407381856818126, 0.015407381379779605, 0.015407381330794275, 0.015407379498009273, 0.015407377383257908, 0.015407374741008091, 0.01540736966719038, 0.015407369580624216, 0.015407368244264905, 86.62761071933222, 85.89522978553882, 58.33356413841728, 56.36547955908064, 50.85248176356451, 25.310676488523644, 72.80057991655237, 63.6487113310884, 1059.8636448973523, 55.7742048770756, 484.87202005744393, 57.788789510536326, 197.72955567239134, 94.79705698645783, 219.6570846714674, 104.77059235095105, 6.923334568174405, 10.849192856989493, 35.95413349853785, 279.1565761360877, 312.5701475027639, 21.09649245914468, 197.91572201765763, 22.040945205695575, 166.0982844910999, 51.06378956799169, 41.21048780128628, 20.947591002983174, 23.648324210120904, 12.52959533805589, 14.366412330599703, 49.00614651433379, 132.06760853335598, 64.74748289517426, 49.23648593674847, 33.96543319706563, 34.7988064066708, 27.557176844676494, 205.36879686505605, 158.6817563550607, 117.20706983923695, 80.95382948012295, 68.21862708791933, 44.52305738581502, 20.511166136095017, 13.260917444882823, 259.8797428951069, 0.016163600008826107, 0.016163599811804246, 0.016163599801565173, 0.016163599820454715, 0.0161635997284682, 0.016163599773925442, 0.016163599849466605, 0.01616359972367719, 0.01616359977085971, 0.01616359977108876, 0.01616359972113284, 0.016163599840382976, 0.01616359988129275, 0.01616359983450677, 0.01616359987782245, 0.01616359983262901, 0.016163599726326975, 0.016163599833255538, 0.01616359971032744, 0.01616359995879746, 0.01616359965905974, 0.01876101269251142, 0.016165579644880024, 0.016163909194240583, 0.016163687693619814, 0.01616362590099087, 0.016163614791578577, 0.01616361405805008, 0.016163613395531122, 0.01616361325420815, 0.016163612543584262, 0.01616361181834385, 0.016163611297674137, 0.016163610305269548, 0.01616360858265768, 0.01616360834241007, 0.016163607929613785, 0.01616360791837723, 0.0161636076185206, 0.01616360657658285, 0.016163606122651775, 0.016163605959174522, 260.871085426387, 1964.7415938093573, 89.02325205136967, 73.4749251824987, 70.61663299392492, 70.55889607386051, 61.54796338470453, 51.955013800083634, 36.22299822928947, 26.844796286143342, 25.460173658623646, 15.84053656384219, 13.342013038145874, 42.97603923774767, 12.160372597329625, 268.36066007491985, 10.329998727958099, 57.5780214365064, 56.05594867813185, 227.92523528980084, 13.507481779175222, 128.18411541095088, 16.5763397289721, 299.03052927684786, 291.9117348736359, 55.700790085367956, 473.0754050016125, 9.441195772114131, 24.02110996459879, 57.90983130806684, 32.9026486609843, 131.73370634533975, 58.18862601489479, 41.0101891189303, 42.523780835202466, 24.710016588628562, 19.595689645632756, 262.24469963652217, 161.82508149528792, 133.86712934648742, 108.84840898494807, 62.69709458136703, 61.344911430904034, 113.70923553069464, 59.37946988666721, 55.439126191940574, 46.63737173100009, 41.28290736451417, 32.57646471476115, 32.23191011280074, 54.75569011436301, 21.725671004902352, 26.036455910031812, 37.200035461862576, 16.572354600212957, 29.77487669383172, 5.251256255188248, 6.697618406216904, 5.544834325133743, 21.690521079460257, 1.7858910760501945, 1.6976603438206512, 4.566154807370239, 3.464250848287314, 1.8108078937477912, 2.1211776257811032, 5.146302591577939, 206.93930597717434, 133.9270993973865, 131.1939938730666, 143.6044678133604, 106.82503064626695, 40.21601048530655, 34.891621520369476, 496.30382842335325, 18.455516933058227, 241.4404615384253, 118.87307325379358, 51.94008529191128, 67.02405335671683, 76.19832345084201, 656.1687348001844, 528.7745723134018, 16.57209461247033, 70.50094098828221, 27.982932669944372, 21.79728874598676, 7.941923278076242, 123.21202710887334, 288.4107033521559, 9.200716143873345, 20.630300645172106, 42.69461701759452, 34.487332897896906, 4.518401311428122, 11.113004384811564, 8.689155689382874, 10.026377931833055, 23.82277604027526, 44.05058221494236, 38.00811278303204, 35.560209962607786, 17.785130314932662, 310.98157025704654, 130.5591066510286, 117.41271111968287, 86.65629936029474, 216.06375677518716, 55.825392820650116, 55.05379820355428, 45.237470628007465, 38.95398806928688, 38.60546607431141, 35.39024365617264, 27.81154937152884, 18.367678029689692, 150.52451791013235, 47.48565788275334, 112.27770782470085, 83.95557169522054, 29.604260526118615, 33.37421808985998, 34.57047758508705, 30.660422563088748, 23.755286792607777, 75.52842886402325, 12.076418857193161, 23.952788040830168, 181.98447842696982, 69.92207469472586, 120.43285237287498, 136.84658595947593, 12.854193994050908, 23.115306527867443, 37.30945358610523, 25.317571151965886, 702.1926415074211, 214.01006389641773, 209.8127395888033, 151.12078493422547, 81.30913439243963, 59.98854484417758, 58.43941633785423, 107.77140531369933, 61.257369440190274, 143.57221753661202, 42.73825392629219, 36.250483806702036, 367.08415468847426, 51.644826748017266, 24.585900044820857, 48.00059721544014, 13.89397097303606, 57.52846612285342, 14.715173669580592, 27.8178742696989, 400.50009130551257, 26.956019788194908, 44.16482149997936, 4.57362065851519, 37.66733263103995, 12.267549981223521, 41.241089442100844, 25.311108547380474, 51.99572652990339, 7.401202623743024, 41.78948171757795, 15.669443808107017, 18.53060115753291, 19.94671920265386, 50.18078712988679, 22.77688241951685, 157.54903941508286, 110.59132467195964, 101.31673620508461, 93.10100002381571, 86.77793637842494, 81.39086443689921, 44.383490082574625, 28.222105478847023, 14.358557275245667, 0.015153007911999212, 0.015153007986444247, 0.015153007807121813, 0.015153007891230084, 0.015153007966840723, 0.015153007956446234, 0.015153007905718007, 0.015153007839990082, 0.015153007886434923, 0.01515300793243986, 0.015153007940176525, 0.015153007869505, 0.015153007953251413, 0.015153007946653953, 0.01515300797513742, 0.015153007924768966, 0.015153007974552487, 0.015153008054648223, 0.01515300806450441, 0.01515300781444152, 0.015153007980258405, 0.015153064674447679, 0.015153026613975794, 0.015153022479538444, 0.015153020883058959, 0.015153020730752762, 0.015153019334833217, 0.015153016420770724, 0.015153015598896563, 0.015153015359422498, 0.015153015055300187, 0.01515301472451343, 0.01515301457299508, 0.015153014308503607, 0.015153013617653246, 0.015153013447561314, 0.015153013270653645, 0.015153012894272167, 0.015153012633532803, 0.015153012581153834, 0.015153012053188105, 0.015153011830908286, 555.7440549057694, 275.7854802680242, 171.1011603021319, 131.8498981314089, 111.74831250316456, 401.92405723163813, 77.8332567418611, 70.8790660188524, 54.68258410178177, 50.97351618280297, 49.189978517972044, 48.30739241503655, 28.11550674096235, 55.07962683009772, 87.40242176678191, 50.382190533306634, 47.62201833640126, 191.66875544607376, 187.9901611652031, 30.846973835222165, 38.55416859867559, 319.2448234157543, 18.65559316978196, 31.676463533498637, 76.52159056821519, 124.61528615830507, 121.59027739259766, 24.61019993336299, 122.14270840993228, 41.76900011221198, 187.27662285637672, 198.70682685229002, 93.65785037913828, 39.92587615986853, 33.29491893222413, 34.05819137912299, 211.5457584189268, 185.96072247244373, 182.2554875822859, 156.04074793166566, 101.89382027300984, 80.75109244371049, 250.91770640633555, 62.34845720503047, 44.46844092854919, 44.44831395791298, 41.44032858257304, 35.832407137055014, 31.62341716870337, 127.37854457048698, 419.59999442991466, 37.964265560230096, 92.99802692403905, 109.61843863033315, 56.46904821696882, 14.243426212367881, 77.65000476980428, 10.364174680428317, 15.493934943812727, 18.562654092072265, 5.081672921992579, 10.06070891206473, 2.4821306745794294, 3.8346624963696394, 9.953428362522882, 1.9939164151495865, 5.402164736571785, 4.200519879413297, 275.69191964903933, 132.19630089246357, 101.12877450831712, 94.42158815322377, 90.50873218252222, 67.20650332886375, 62.12211009504236, 54.640944966202554, 45.36049213407726, 44.58223680256769, 13.757497147826738, 44.67740215366093, 2.342144766627839, 20.91072546606847, 6.328285374873603, 13.432114558306676, 3.251231531297073, 5.403326163830597, 1.1402509486581476, 0.014604109248761874, 0.014604109268368104, 0.01460410935540814, 0.014604109349266002, 0.014604109231244222, 0.014604109352556302, 0.014604109315948747, 0.014604109259722673, 0.01460410938658374, 0.014604109270160022, 0.014604109303047626, 0.014606267735413717, 0.01460534522063352, 0.01460489807823536, 0.014604344708324106, 0.014604299445665986, 0.014604210008701799, 0.014604186226354681, 0.014604177826672695, 0.014604152479564434, 0.014604144778772738, 0.014604140316227301, 1519.680547283465, 119.64508357887989, 478.97119643702354, 63.23549503840785, 24.836914671268993, 22.510959026433643, 22.13029820976355, 11.708512797807568, 16.667314579766735, 222.9217535811542, 94.32666481552215, 116.5315718386959, 52.49832121033388, 153.96774196213323, 26.939251022009852, 30.02554423449261, 9.364692585749498, 546.3327618759666, 63.83781606846368, 87.73258652500563, 99.84878825697167, 720.913530193418, 34.52819416601152, 54.299314145369266, 22.92853461360205, 37.598233760290285, 25.775647473739024, 88.93140767371946, 140.94135185097812, 241.8400439695331, 207.2292543481799, 64.82065825385246, 52.297827523730284, 37.94847175305952, 51.02191084980175, 34.02727405048631, 28.284796272141573, 40.034988793893206, 34.95251530923653, 30.36757750129309, 421.5816350096519, 1062.9203583501742, 211.54550371177922, 129.8500211043859, 128.81917296006569, 102.64358424933117, 34.56351073864966, 28.619988554443808, 17.603445058736778, 691.041709193747, 618.0830761186763, 29.34009517658848, 31.45408769869807, 339.6349157726565, 49.60207107165559, 47.61820174631022, 27.661615349391894, 23.536596532271346, 29.945530387910086, 5.467670283933175, 44.660086026060036, 29.34432213074375, 30.68241421385413, 15.320841205906868, 14.136506102135145, 102.38912651137753, 23.965391523995432, 12.955856197047144, 18.462611293768685, 12.79741634697522, 57.05988298771423, 14.109687284807343, 13.914602720086185, 247.6981689591597, 723.8156170248386, 509.60375303711174, 55.013990513496566, 121.49292063699174, 33.607991298823215, 128.24872169775225, 33.377111950749914, 13.204973725084253, 11.900726901581981, 23.746656350745994, 71.89230982949208, 27.321826568727364, 32.68902266827881, 60.89152548243255, 34.465266450816785, 200.18675600281196, 94.31131798934202, 42.01768384500431, 1046.6530079405832, 514.648879397199, 130.76890004851563, 640.9656920038677, 78.74212887311421, 225.53208201104738, 17.7350307403552, 49.553184619774015, 465.87185640177415, 30.294179936916727, 14.61615248531768, 345.10185340148865, 113.54709599181058, 60.15915064292618, 226.51327059844738, 239.58394659632071, 111.93245778715742, 48.46606192455009, 72.89559053900203, 81.33125302386846, 72.27396887660775, 57.54892745090669, 53.683150639556686, 53.377177978961846, 83.17582313652602, 56.5777278371063, 56.10791740573861, 37.69562922159285, 34.803701267136674, 979.3397741602337, 25.269446929573018, 41.7519843540721, 18.29163078027097, 85.07299531082757, 16.308709917607313, 15.947956890868522, 12.276003401415853, 55.54323531495724, 44.95281538759672, 9.349024893802587, 63.81160385934762, 48.872450283035505, 66.34615923361952, 71.9536542629198, 26.043000572354295, 48.22136576172179, 11.932692213990618, 109.59292811313298, 410.02730950064637, 64.27957995411647, 44.47181750127312, 42.787890452196265, 59.73746095664168, 12.023145314353123, 106.76031299657281, 294.52037227442446, 321.69683015521105, 395.1658372782752, 196.38602516870972, 110.68772237339742, 188.84122673017797, 467.3916851554391, 243.7721224820742, 75.88612326910102, 200.63139920026816, 302.1335165298419, 348.61334127493365, 205.49264121315514, 67.93363247794612, 177.13526721149822, 127.29524359275598, 116.54776827563182, 158.6396542492199, 104.63051881292698, 63.65129072539532, 68.72380882822479, 162.12052228304444, 125.87775977879642, 109.12052435768878, 70.81571438847489, 60.64555492984859, 55.14123357098089, 45.723657728975425, 222.95979208885964, 16.20939576421043, 105.44579359808073, 12.567907113758688, 103.85865849454953, 69.92265890605086, 94.62590729685505, 38.77622387108285, 14.182102608350066, 1550.9213908799172, 217.31220702541722, 36.5834644433198, 314.9925700166816, 42.23057492138103, 34.58653183049886, 39.366653666061666, 180.43081425084296, 146.0910734739632, 13.14823126505956, 94.35798330472167, 61.63587258416337, 39.232984495646555, 121.5744217629373, 450.6452394243471, 121.07567273699097, 177.37316263606138, 91.243059064303, 50.516570189462676, 57.64416832672837, 69.00751387759641, 67.29458925998672, 61.457776344517555, 56.739800556196066, 56.60346706859572, 589.0220532237605, 53.047032974553474, 48.97977792280863, 44.42073659536858, 112.12395308871265, 23.218494863963503, 21.398540459559424, 17.507944560125118, 13.965982086979404, 13.266901667843403, 123.4880242116285, 323.79949796741107, 23.42185823434868, 68.28126268436687, 198.0995961715171, 82.01954827333417, 47.453414882775796, 89.62155130773142, 879.7940998670791, 8.745382443543967, 20.525134249831172, 61.827958726767704, 9.512639341656064, 32.80031915043626, 391.10544052672833, 34.63222324407959, 37.06543666316484, 12.702292016789187, 330.7626700044024, 143.64626565360928, 886.7870629135675, 1058.2133243559012, 301.17504303085394, 186.50863747604728, 220.5048254502846, 104.26150808696732, 107.95418143492992, 45.610409800596585, 133.24530486059993, 145.1353299241609, 79.96787657427355, 131.90896896060787, 55.052553776547384, 54.39562278371819, 69.19173843941542, 63.51466286068672, 60.25952737260297, 55.887241984516365, 140.9773982641372, 82.59529706665283, 75.64893111423682, 62.17039282643341, 59.20874358126219, 59.196866401589865, 425.2430422797195, 47.15950000853626, 45.96635943637578, 45.55677807391007, 39.56881297798279, 38.62889561384924, 37.92447916639386, 49.361610407386614, 34.517243440165345, 33.51255587361204, 28.295168068210522, 26.063337910935825, 23.347732755165076, 21.603728613113418, 17.54840987455983, 15.523216790719939, 15.154604548998625, 14.260204863980515, 13.957461685069347, 14.531620583077599, 11.779436011867418, 44.068139642769, 10.599118393814447, 12.040605685599148, 355.04887053420504, 35.07709021915827, 148.14863242007854, 132.7394741761999, 76.95837108003968, 422.91495631592306, 61.97522355598915, 486.5334659584529, 55.267087798857574, 448.1612001418347, 110.35751400069634, 56.355443681098414, 88.6194176175, 255.36970370930038, 131.4999502282735, 60.91796440150346, 185.86984889463977, 296.2870476787375, 260.8747595508332, 86.02712358284089, 131.8491552042397, 90.57929583515885, 91.15928658599319, 138.90645549801008, 363.27247872743766, 117.98636345550588, 103.47135994167598, 118.0569613141309, 197.98323350352743, 157.34284083924805, 211.0771452396387, 172.380649281431, 135.55289814146235, 156.28404868883086, 122.77035742156119, 123.26875610687624, 112.27534399456596, 105.82449542763145, 111.9062408633515, 113.77186856011313, 111.02413780128157, 1450.4651624989465, 55.85863476182914, 42.0653261270879, 112.57588720547992, 48.385561435238195, 958.1418157331701, 855.4176935205473, 25.326358858307632, 50.68358714501655, 249.3475566055553, 423.61879697039814, 27.263477832457305, 39.043963749113864, 61.90434750201862, 180.12324696028043, 616.663527930371, 91.05976890481861, 10.441021676159806, 284.3364607274283, 13.806120617008162, 17.967831747804098, 48.130303648211104, 8.863470676844068, 3.70238414728271, 9.593282382215662, 7.481729524204349, 24.67949650919354, 5.401194433014666, 6.253037377815595, 7.511029947432778, 42.402348094685344, 28.445240917352685, 8.459252211215498, 22.217767585655473, 24.104434805021878, 20.110453664037646, 16.404393660007415, 17.548362440206848, 11953.720320915314, 40.59281960274658, 55.163811735044675, 48.09292905956929, 35.49183347306965, 41.39197704038507, 14.437486821387578, 70.17159701651022, 9.992868693564521, 29.64966987304043, 164.98756628407196, 10.860986307376102, 49.33443776091134, 31.945299600274346, 258.05433118394694, 20.175499386856274, 18.509096532871048, 89.57779600344641, 7.685652403032229, 91.29186451040022, 11.333501477585726, 46.887134931128266, 10.702033618897135, 44.006030851895765, 8.648607082398001, 9.999269999162902, 11.508176359012827, 8.874169706938245, 102.8923337747015, 22.950530805012843, 40.46013601256335, 44.040401852208966, 84.37635646637477, 80.17093844409212, 233.43163786960778, 57.94793417321079, 39.350961238618346, 111.9883361332295, 178.48115122611387, 58.32376530484198, 85.65142024811436, 33.94201318805212, 62.170078774368704, 35.66104901408534, 40.8380261833566, 67.3315186662075, 43.36260304670243, 44.98804919881499, 41.10658575782881, 342.32783421811547, 168.5237731157938, 109.49755815214417, 56.61436103161651, 48.1941275213662, 45.58277413028621, 43.76059679020813, 43.47252479539048, 36.58514994219906, 34.625684359875095, 32.99060519155686, 29.41450548426108, 18.609053762021926, 15.805532827950497, 196.9891648938238, 153.8125950445037, 14.405520018826525, 845.6890228967163, 59.26784158354228, 506.0602128490031, 7.2625771970193, 13.695493799099253, 5.85435906988671, 6.127036969586958, 8.911082538585338, 27.64329326704983, 9.308918683541997, 2.149426997242048, 3.562315449564614, 6.118432137270884, 7.3080336901156775, 161.36736895193079, 124.26233645054884, 71.455579039142, 54.5628375049442, 46.042603526499505, 909.1303533543783, 60.88725887434199, 15.527060458501298, 112.16260719995216, 69.38082348594773, 754.1251552842447, 85.29643317032041, 2957.6470989683107, 76.92967750443259, 253.33319467027025, 48.45704449894051, 41.69972774008766, 49.2895629569692, 380.32708745004555, 39.01955201669025, 11.919950217001759, 556.203775958592, 37.519084436000604, 14.485293032032892, 35.96995520557408, 32.58547233176636, 569.8582979726257, 59.367503049542236, 11.380037543686868, 93.43382751584693, 243.89221216544146, 581.9497242752832, 1734.0189772490796, 197.858556635644, 72.04121074710096, 204.6486086387308, 90.25860268238948, 195.10391396633958, 112.02652800645194, 69.31917574309406, 121.7402035423077, 116.25911621341197, 106.35617752621584, 92.75608323785869, 91.54116692029947, 72.89781281716863, 4027.7357217206295, 1752.0875732095526, 65.54894403842245, 175.38403905353383, 13.474633710938638, 31.552984248527956, 10.957447365526757, 9.709724972097058, 88.37909519148053, 15.861819221504158, 102.88491280468071, 66.89721045749455, 73.08002196483547, 5.5157308779235095, 122.75754346411816, 44.09909712921255, 12.941500712113308, 92.08108070063153, 16.086766276414313, 53.85417652228421, 153.97922233024545, 25.829162514199005, 22.67043057773651, 35.448011997063546, 119.62999782043117, 16.984134012452316, 32.0546930142648, 62.3965693462591, 35.93994162750914, 22.01079458446644, 130.55259611407135, 46.71153547342587, 75.16455606343496, 42.77079366876622, 134.51196337235828, 81.41459067824822, 67.01081702954878, 66.69810735733728, 48.88725829920645, 78.10816033448697, 45.365921607136514, 41.376823025467836, 55.23211875167701, 58.68565949401226, 49.48838053871234, 45.29268639551851, 44.74212460171692, 44.36490744361966, 288.2577065067587, 217.6420751047802, 170.38575732938557, 92.4879875792761, 53.597413688205684, 49.38893603661409, 34.208403242864996, 160.53639494229705, 24.603089179405004, 22.264810028418946, 21.317918452415448, 204.85072125524408, 763.1258974643291, 33.75585091548548, 175.76368862894574, 29.510995273724546, 102.1928320327162, 50.25717106961107, 109.76422691730671, 30.32661227821046, 12.090259665247862, 46.434005759498355, 243.63430565813923, 43.36768974333021, 19.515185851861787, 12.96316859421301, 52.13731887286838, 26.669892157660748, 38.041422954779705, 35.25034389622646, 219.57639451054868, 49.12461060942415, 84.11056167696334, 62.503886949107375, 72.62060443986705, 30.23071991634708, 39.05474627058968, 36.73915529534256, 31.60573014098245, 553.7590494023372, 580.2837794571398, 145.485368853439, 136.09146690125277, 77.59465665985672, 59.15173343782656, 56.95022699178805, 41.363461732341094, 9.89293405743631, 328.7679365355131, 32.08691517567358, 550.9950770354208, 15.024133741098693, 405.95201056766706, 113.49670013677587, 83.63432354413621, 151.64178766823656, 50.64287999489602, 75.44675270576984, 172.38389700949247, 47.39452141272694, 44.9235203169851, 24.258410687035383, 12.247708572056647, 34.652676830388806, 106.53613338992999, 16.413587760739183, 32.89917307176046, 5.116615584505786, 32.6199803474656, 48.783007251625875, 48.34550974732293, 49.06907509850869, 23.71574602629177, 45.74856482348012, 31.380979669485335, 43.264260990145566, 151.2121373802164, 133.6933530921093, 88.72263960013417, 75.93113155676771, 66.84523983319477, 60.29712837994389, 47.911925908320626, 41.69183129484934, 30.800967277722805, 192.96840713336246, 22.60725382252229, 20.07659550696293, 19.505050696377424, 18.93894460808637, 59.535012592117425, 12.359046018684841, 12.246378913525907, 11.253200871087905, 361.54354019211183, 12.271042897071778, 46.029094369837146, 1328.7168635380178, 34.810490831113675, 68.28081299978489, 2910.875728265331, 85.27033883670015, 11.242902348389485, 39.184543318637616, 35.80454993013577, 123.84282661481656, 452.5103535355245, 92.88396095895963, 152.30571987243658, 172.1247319681585, 90.07286588495911, 202.12953076283586, 309.9065829062111, 56.62396558591577, 138.4592367857608, 119.2318996090231, 126.31535789334299, 109.92519736747559, 163.99449886307568, 116.5480468957059, 161.74055307606105, 183.27140905463955, 175.26238483956237, 226.2598573289497, 106.89478320323708, 144.2148466375724, 126.93306342460662, 97.70532116754676, 120.42242862610979, 52.11447796678929, 49.60650856054369, 49.048134647314775, 44.00214405416723, 43.63090459762946, 20.248032218216167, 18.472692979016635, 15.946018025692817, 15.844160722703107, 11.0800604389557, 1089.1203319581548, 14.908305971044436, 84.06968782377344, 32.08292375811329, 661.989125579008, 107.75422420323919, 30.248202304137934, 949.4567567782161, 125.33598424706446, 53.887348571147896, 14.034120763287829, 752.1922066907896, 143.08325779588938, 60.54116554264771, 31.176212249759725, 109.21538980852438, 8.977165083946153, 24.604685769583487, 22.845301300766497, 77.79967825306362, 297.5698478324803, 259.68636140738704, 80.79486370353962, 86.26758399612116, 212.0900392663225, 65.47251586371713, 120.10709155139747, 122.67996226886434, 115.76877861254563, 72.0091208056077, 43.6487743586784, 78.75907910605224, 59.04275272577325, 93.90077083788796, 81.38957253616367, 130.4456935978547, 56.293485230980046, 61.62541244912444, 56.15373020691972, 54.90555717958494, 4629.337912513326, 709.2002454283839, 566.3898342467903, 260.9226483145016, 217.76624855856832, 273.67699108502916, 124.54586098818534, 100.24557445728576, 86.94711818770004, 82.28264492103696, 347.7526969396157, 72.12989604009881, 67.28676454125487, 66.67811896551903, 64.83385806917745, 64.45029059231669, 63.127916980668665, 62.03835601887767, 61.47805568659235, 60.0581134066353, 53.7998382611079, 52.88508560974128, 48.23294649143058, 46.57860061731601, 46.48038277236339, 45.73207009644971, 45.548879018055956, 45.12165235496713, 45.11451973847457, 63.27699122406807, 154.95931122204283, 322.51546254464967, 1526.565629870968, 121.36051125175487, 415.60308965678485, 84.95010415086259, 2012.3089351303258, 109.6918894643272, 416.1793390109622, 107.21299140035727, 164.67185193398365, 1350.6209545570298, 253.88067377347232, 793.7371495812764, 106.77791011057596, 253.1328946185518, 170.47744468388245, 134.362292384414, 165.98384322111983, 573.6467373897063, 204.00571449428284, 243.15554413420847, 245.71997716042915, 318.96032766965607, 453.0743563698892, 225.35081314456005, 392.7364653689323, 363.3529251792536, 253.56271305751218, 253.02980892377659, 220.90729495412072, 299.2836482599045, 218.79342200041754, 251.7045766880394, 222.69579765030605, 591.3194249404478, 229.10532954411454, 180.83537760840488, 111.53350934083649, 109.3821727278831, 77.93945698411656, 76.73244517809468, 69.62561144372911, 61.20065379794934, 39.7358245877955, 78.05158123681385, 135.10594671547068, 14.877052289569534, 13.436242659641225, 13.31365888081672, 11.442417515584774, 217.30403340892494, 104.41257396454391, 13.73816175067122, 32.964848665023204, 41.045438628942826, 127.78420212150418, 76.6750375189086, 23.137040870032354, 26.793638767345396, 52.20963693610528, 354.0280945256897, 35.492889892586625, 27.84483365235822, 20.31627703169532, 53.21433779983613, 54.10404335622685, 161.92031419048197, 37.63696360810181, 36.125059034686664, 76.82596053111126, 40.953216178074, 89.35123756088103, 120.77248002246166, 69.40473449013905, 106.56905063187978, 45.968759506731466, 46.35943047056098, 54.891809104480124, 51.80901437823221, 44.68458895237582, 45.82447936810404, 440.92118160289493, 156.13530625011097, 124.01380075796807, 63.11407424483237, 2076.4395989261707, 13.998613885653251, 105.07060181514302, 59.613070617277884, 575.6659648000882, 104.8148296932045, 170.76986012854215, 148.93021839157916, 70.63654025167801, 34.33236922616231, 13.352029208384492, 38.50351625551052, 8.40952109805038, 15.740620572193318, 49.138841171381884, 17.025333432562274, 1.7082750621290614, 9.183923865647905, 7.55655574514059, 7.853489767085234, 39.363701728791, 26.683401311178805, 11.385319720401737, 5.803272741686296, 6.512112611861301, 10.074711140810464, 20.87828806816561, 9.636331623479695, 17.879762689408185, 13.400059228206619, 12.052526406829566, 18.766693847511817, 12.960456978492607, 10.843692539305588, 11.235287304346738, 261.2991730687485, 89.93022745103158, 34.00419144903537, 30.786873269809227, 53.20301067248484, 47.09874914248166, 12.05364967799404, 11.560997939706622, 53.423381964254446, 263.90074670712795, 109.62963712253124, 63.936603057843875, 85.958020412128, 41.024592837586134, 40.47858910860482, 70.49621412533084, 36.10427008935912, 95.87043114511701, 779.6043043431804, 110.4917665658014, 39.61596501758981, 37.36785504869713, 254.74059568568973, 233.8702794979753, 72.733787691364, 124.18164381763873, 44.75062083256878, 302.2703278384753, 158.55971461918395, 112.0489419970464, 481.4703204426905, 252.63726810100388, 69.84270128598814, 100.11364790832357, 97.29742533909823, 42.10935465496101, 59.901659549922556, 46.69541416682811, 44.82147702601312, 47.866914082178354, 0.023923282952067394, 0.023923282939254057, 0.02392328277774909, 0.02392328277763494, 0.023923282783435917, 0.023923282913779823, 0.023923282934671004, 0.0239232828550337, 0.023923282729315657, 0.02392328267219159, 0.023923282787060615, 0.0239232825831616, 0.023923282594823226, 0.023923282632168218, 0.023923282788220444, 0.02392328278576937, 0.023923282812204922, 0.023923282629459502, 0.023923282776189624, 0.023923282753836466, 0.023923282715288218, 0.0239232828443979, 0.02392328283781758, 0.023923282658586894, 0.023923282765715585, 0.0239232827912679, 0.023923282810536118, 0.023923282717821348, 0.023923282847401046, 0.02392328273290354, 0.02392328319247675, 0.023923283104420864, 0.02392328307188279, 0.023923283060489076, 0.023923283060295248, 0.02392328305956345, 0.023923283054363653, 0.02392328305196706, 0.02392328304930563, 0.02392328304767956, 0.02392328304742073, 0.02392328304134763, 0.02392328304104732, 0.02392328304086887, 0.02392328304051936, 0.023923283038475622, 0.023923283037900554, 0.023923283034050623, 0.023923283032997036, 0.023923283031741724, 0.023923283030461342, 0.023923283025554784, 0.023923283025429388, 0.023923283024455247, 0.02392328302442988, 0.02392328302261701, 0.023923283020425564, 0.0239232830196645, 0.02392328301893112, 0.023923283015654242, 888.9568574956903, 122.59511971390694, 110.63949933693324, 109.8283653597545, 67.71696913053408, 60.01837857389438, 53.79805219267823, 45.480588358612565, 39.779660058384344, 35.861191906302615, 30.568822482338586, 21.23348455090826, 16.246785188137757, 58.931350786486306, 40.37493731329381, 31.402582172906712, 258.80347699381537, 106.04690690353804, 93.99557266920205, 8.953209368288372, 1163.760917582052, 15.421275043238529, 28.129955980768948, 29.878862668656343, 10.628004845153303, 100.86790034402988, 38.03347777001587, 242.25721055278672, 154.44008737048338, 219.81484699807996, 51.25694819724287, 205.68768475692968, 56.025371052761514, 85.11250264892129, 188.04281882528485, 38.557502559003076, 56.15150483953952, 91.38626364375855, 64.84333438262874, 61.059201151890136, 51.15419758090463, 48.50876176163665, 52.211014322289984, 41.955739994719956, 62.6660867239403, 52.776078482534224, 185.05729699538063, 11.799283328124092, 0.015766623008403705, 0.01576662308471849, 0.01576662298855402, 0.015766622965697148, 0.01576662303207663, 0.015766623066434223, 0.015766623089019167, 0.015766623029547906, 0.015766623082246634, 0.015766623005811116, 0.01576662307296685, 0.01576662292573361, 0.015766622952429823, 0.01576662308046055, 0.01576662301639386, 0.01576662309418422, 0.015766623014667216, 0.01576662305524669, 0.01576662306757333, 0.01576662298065707, 0.01576662307975267, 0.015766623069196573, 0.015766623012054753, 0.015766623114472182, 0.015766623182389947, 0.015766623142778945, 0.015766634281101647, 0.015766632232092816, 0.015766629572247694, 0.01576662953049469, 0.015766628144397866, 0.015766627890538006, 0.01576662784029741, 0.015766627672609907, 0.015766627608136036, 0.015766627375828946, 0.015766627099086324, 0.01576662705350483, 0.01576662669360838, 0.01576662640873567, 0.015766626275622544, 0.015766626013768936, 0.015766625756500174, 0.015766625704674058, 0.015766625507247854, 0.015766625490635913, 0.015766625457607916, 0.01576662542041259, 0.015766625406850785, 0.01576662529687699, 0.015766625251752975, 0.01576662515625162, 271.7847643804425, 51.630867660945455, 0.016091294128881443, 0.01609129405138434, 0.016091294168130463, 0.016091294122150972, 0.016091294086254152, 0.01609129408146758, 0.016091294268919625, 0.01609129410524031, 0.016091294145794743, 0.01609129408670219, 0.016091294161457884, 0.016091294105847705, 0.016091294088486266, 0.016091294052003057, 0.01609129411254114, 0.016091294141262855, 0.0160912941425729, 0.016091294076750078, 0.016091294060651098, 0.016091294050251972, 0.016091294091015368, 0.016091294217188537, 0.01609129414960043, 0.0160912940830981, 0.01609129415979758, 0.016091294141779438, 0.01609129409575994, 0.01609129417107335, 0.016091357904802914, 0.016091339856588203, 0.01609132216477797, 0.016091320197460814, 0.016091299170993736, 0.016091297973460837, 0.016091297179540286, 0.01609129691651526, 0.016091296870788235, 0.01609129684125832, 0.0160912964992111, 0.016091296408046834, 0.016091296313103156, 0.016091296231630123, 0.016091296144030216, 0.016091296055446923, 0.016091295860787003, 0.01609129565039685, 0.016091295614172683, 0.016091295567973833, 0.01609129556745313, 0.016091295503225595, 0.016091295393021402, 0.016091295388225717, 0.016091295326681417, 0.016091295319047703, 0.01609129530808036, 0.016091295306448403, 106.0437156373538, 74.41491251136434, 64.00340051484582, 1088.0107696817138, 45.68282824448723, 43.12502377837247, 37.02000849780449, 33.943232757222255, 25.241869416989882, 20.326663993815313, 630.9785180840611, 40.56110034314283, 1545.307247409938, 337.15276573889497, 23.902380729542358, 36.31800739604208, 129.69996788392052, 7.025888425915905, 35.07204178223241, 44.364881444243046, 48.76931234500194, 1063.941413574927, 37.11834290124971, 23.681740816343268, 57.425067990130614, 54.78809633512007, 165.9552736526894, 20.449295681116975, 50.64467609019718, 40.695839464213094, 67.29267586504231, 67.57185941616228, 36.49015382868307, 29.29343445076529, 25.451889209230508, 26.750700944344178, 0.02392328274160064, 0.02392328267719051, 0.023923282794535157, 0.02392328265318183, 0.02392328267694373, 0.02392328260679072, 0.02392328257316366, 0.023923282856131153, 0.023923282663565828, 0.02392328275365286, 0.023923282657769506, 0.023923282742244076, 0.023923282632565816, 0.023923282725528478, 0.023923282728650314, 0.023923282881543485, 0.02392328280178204, 0.023923282656072034, 0.023923282890561517, 0.023923282791666226, 0.023923282823127775, 0.02392328270984214, 0.023923282578103566, 0.023923282895387282, 0.023923282729344863, 0.02392328283105217, 0.023923282753788216, 0.02392328278135781, 0.023923282665586243, 0.023923282699210027, 0.02392330327347749, 0.023923290738636145, 0.023923289488770195, 0.023923289070098303, 0.023923288326636157, 0.023923287435958257, 0.023923286005455794, 0.02392328552193008, 0.023923285289512684, 0.023923284959881455, 0.023923284936911086, 0.023923284595081473, 0.023923284505313877, 0.02392328448607207, 0.023923284266101297, 0.023923284122079176, 0.023923284118445336, 0.023923284099284535, 0.02392328402333972, 0.02392328394914334, 0.02392328393366522, 0.023923283874545554, 0.023923283851921624, 0.023923283833075473, 0.02392328380211136, 0.023923283793226186, 0.023923283769425194, 0.023923283766558483, 0.023923283736109118, 0.023923283729405578, 41.09726609851172, 0.01988092874844286, 0.019880928754539333, 0.019880928559014452, 0.019880928723033306, 0.019880928749853012, 0.01988092861930313, 0.01988092867453134, 0.019880928711580863, 0.01988092879624776, 0.01988092872344987, 0.019880928589213323, 0.01988092871019978, 0.019880928704203934, 0.01988092857701875, 0.01988092863301335, 0.01988092856681453, 0.019880928738128585, 0.01988092871515325, 0.019880928626324713, 0.019880928662234634, 0.019880928596183973, 0.0198809285897399, 0.019880928657502208, 0.019880928637708153, 0.019880928779126946, 0.01988092884185491, 0.019880928796409982, 0.019880928585186915, 0.01988092869736599, 0.019880929001227187, 0.019880928995239106, 0.019880928991112982, 0.019880928978593213, 0.019880928943131992, 0.01988092893883602, 0.0198809289353034, 0.019880928930205384, 0.019880928928668874, 0.01988092892394094, 0.019880928923673675, 0.01988092892357067, 0.019880928918801978, 0.019880928916292572, 0.019880928914354452, 0.019880928914337084, 0.019880928912235966, 0.019880928911485605, 0.019880928907371254, 0.019880928906664132, 0.01988092890630458, 0.01988092890464756, 0.01988092890133736, 0.01988092890046075, 0.019880928898188467, 0.01988092889815976, 0.019880928897155647, 0.019880928894352695, 0.01988092889025925, 336.1112927236499, 122.5403004723353, 32.7414381106028, 513.6314889341486, 82.62559099885873, 0.014270262184531228, 0.01427026226747142, 0.01427026229055404, 0.014270262210159491, 0.0142702622511714, 0.014270262173997917, 0.014270262199462454, 0.014270262130265474, 0.014270262223903511, 0.014270262191447542, 0.014270262235910817, 0.014270262249226803, 0.014270262226239536, 0.014270262215833208, 0.014270262200521308, 0.014270262187647839, 0.014270262302694873, 0.014270262234955866, 0.014270262229445631, 0.014270262252895906, 0.014270262248840393, 0.014270262177997694, 0.014270262206540955, 0.014270262169621439, 0.01427026223310607, 0.014340525611584925, 0.014270357845281974, 0.01427035134907122, 0.014270348805247898, 0.01427034805162012, 0.01427032136920823, 0.014270300993490692, 0.014270289779367751, 0.01427028040302146, 0.014270280006017726, 0.01427027986095962, 0.014270275985923862, 0.014270275010184599, 0.014270274504953046, 0.014270273797775552, 0.014270273174408085, 0.014270270046991964, 0.01427026920537426, 0.01427026847999464, 0.014270268076017875, 0.014270267746288659, 0.014270267065835297, 0.014270266924373363, 0.01427026672515643, 0.014270265991974536, 280.49765244979864, 112.40466349673149, 821.4046260790243, 50.627659222911745, 43.05013273278606, 31.70607442031211, 42.18374415793381, 193.37844791544745, 14.450345343490362, 106.80317949610867, 65.25770393545926, 44.20083229295904, 440.83582729308625, 98.19499445915086, 20.36710661045165, 1084.0037806397625, 153.3317797669003, 21.446798646495548, 187.1919613094682, 125.09354190105897, 32.506839969012084, 87.20616027420134, 106.65499345051184, 66.24760299567988, 15.742386900696337, 24.65287808192999, 173.53993116081153, 6.831298263053252, 72.94713721683283, 30.028595549299702, 170.29615839843885, 235.60834962563325, 93.41059041386652, 61.06004202469485, 80.49440528613438, 54.10181480433478, 68.56750404997008, 91.27018964070051, 54.162373271708155, 59.25279021116579, 115.65366063506563, 103.17690761729268, 0.016216823134732054, 0.016216823145070888, 0.01621682312563882, 0.016216823123077883, 0.016216823133226383, 0.01621682395052882, 0.016216823189986528, 0.016216823148333007, 0.01621682314732189, 0.016216823158987856, 0.016216823741035502, 0.01621682319788985, 0.016216823150501863, 0.01621682316922876, 0.016216823238412916, 0.016216823147465805, 0.01621682311214464, 0.016216823141118726, 0.01621682312750973, 0.016216823232586972, 0.01621682325711147, 0.0162168231090894, 0.016216823198277677, 0.016216823253335764, 0.01621682315401957, 0.0162168232285111, 0.016216823095858052, 0.0162168231925854, 0.01621684360793069, 0.01621684076137437, 0.01621683553357404, 0.016216832291625415, 0.01621683095864898, 0.016216829324679695, 0.016216829264393044, 0.016216829021289052, 0.01621682882984686, 0.016216828171174383, 0.01621682784828137, 0.01621682743048299, 0.01621682727387717, 0.016216827020912063, 0.016216826976987894, 0.016216826889036515, 0.01621682688325394, 0.016216826788232053, 0.01621682646266587, 0.016216826111853898, 0.016216826016585997, 0.01621682599114187, 0.01621682576139989, 0.016216825575535655, 0.016216825382705316, 0.016216825295803167, 0.016216825137823732, 0.01621682512608202, 373.3288639235371, 362.97767600040953, 46.507337989910894, 44.144749330647706, 37.10013736044919, 23.849628209139677, 23.317461746467995, 36.98662468880408, 17.45084321290085, 108.640467141766, 9.829945671896219, 666.5186047142591, 45.3829064884393, 69.5949266279325, 87.16065720256582, 872.0620272094201, 46.17158525838336, 82.44706533563584, 46.445035305227215, 470.339866554193, 38.72208484532931, 102.14288268249828, 24.70858843132764, 276.552263928927, 4.979644897211985, 63.56351128064376, 124.72899308227423, 45.149508011262085, 121.48126557917423, 32.163471938304575, 91.07516125642388, 80.27970463128402, 159.0742417002711, 53.3030551691348, 67.75313102865402, 58.95484929294599, 34.748318087681156, 73.80234763883588, 46.403503421167024, 33.78853382192278, 27.014879136420742, 13.401422270378367, 13.391463356095596, 12.31042801964668, 9.956805203995104, 3373.6936289130203, 66.87603883507988, 11.556418224036557, 895.2132777957902, 55.32042695043055, 172.00348246311992, 528.285673660746, 38.95384157785022, 770.8669902488158, 18.32456150264513, 39.57220947347252, 797.4692144629465, 68.17201825558693, 79.90420494192018, 51.102256845265615, 17.810510854691746, 20.83239076290551, 48.15199297587191, 299.8362776974907, 30.440210656031983, 15.909705176096148, 22.97542066160414, 88.14470085962394, 64.38834709860035, 68.29685016532328, 51.64453728340011, 66.87568995775848, 33.917614460776655, 35.46989980949802, 40.782082149553055, 46.763603543489005, 34.39274910137491, 45.9582481114031, 47.921132956561124, 6582.412397648054, 81.68053096736392, 16.653291054183075, 14.148539112026926, 83.75657906574746, 51.070075031923636, 28.984893566865047, 37.59230059693928, 17.110120082649598, 26.59477528077815, 50.834733709608734, 53.18746138631161, 25.977182500575285, 20.471233391116883, 10.904621020487166, 32.93604390886053, 9.580540842257161, 64.72923721954156, 3.892979154265491, 4.756066304612616, 11.472885523803425, 21.773232225009934, 5.515074700013127, 10.39092484239939, 7.032453008166332, 14.575692800596801, 4.886235809063198, 12.003640641486173, 4.8022558605663415, 11.82492270340336, 15.50757937704754, 56.60172870161549, 52.76127389658815, 54.36105257303732, 20.079166867821414, 37.04366491888939, 33.81561351802022, 21.316864545345453, 34.41513693811996, 22.112229885984927, 13.062845096733444, 12.803508001136311, 730.1470290532122, 499.42754412784325, 266.95262580616503, 228.22102393908017, 111.87823484231902, 46.56455971012879, 50.20218259048113, 78.0726369395707, 770.8119581741997, 53.41325338573133, 46.11615461177402, 39.1246171256714, 38.62783172323255, 40.87422192005127, 20.075128791119127, 27.89190149792634, 28.11171304006515, 55.705732083762875, 13.143727049085479, 3.002402236746972, 5.432559587329589, 10.391291793930744, 36.69792798256956, 20.144395823899064, 27.52815539031686, 12.539073569110567, 12.854493562443624, 18.559193615843117, 55.711475799280635, 1.2358615153280466, 3.776825998477363, 23.539242546840246, 42.82059368361532, 25.490861236056986, 21.296338020961013, 21.429347942736186, 33.793588932853815, 15.703185203200364, 319.06198408415554, 293.5036180612739, 210.67962888199096, 174.4866909524219, 113.69986957403337, 91.56366338333117, 57.64512618779133, 51.67142637899856, 46.45962437319197, 11.253583569830447, 18.432610887777233, 176.077296013464, 145.233728401057, 30.328260579097044, 193.68208022706796, 34.98164995594588, 28.32081357621052, 19.397867746730533, 7.253745430355695, 12.821599702049228, 18.006168150378503, 6.036139146775957, 30.433227014370733, 6.223477852572833, 3.833341820086001, 8.893995803385003, 5.510539229134999, 3.9934114643600704, 2.3419911753171094, 9.375103564808144, 13.57107707032927, 5.343473161172191, 76.84156435659068, 61.28122736791411, 54.41836588914919, 42.32331678488429, 40.39017719232676, 40.08534269048309, 33.36943621550965, 29.836234218916896, 27.714266044772653, 17.826212018545945, 17.041215140781173, 199.83363054187078, 13.18794581864326, 67.47289604891573, 16.1507338516419, 207.32654974706045, 53.64414096210711, 38.457840853571646, 122.60077977408177, 69.48165622352727, 28.34885492708367, 136.90339113466123, 46.591880816182716, 981.8481298338905, 106.72748298612036, 58.524539313537495, 101.69858690998713, 168.6862018708154, 111.95541863108156, 79.0526503093739, 253.2303205557903, 670.1867667082051, 99.38670690926904, 56.58696462475525, 71.70848752640806, 93.95838527484288, 203.10104774991876, 208.20825117390854, 75.43761475802113, 157.43413611255448, 84.68389408493869, 86.88497674454108, 60.33529427972668, 59.57215170281494, 77.34362024436373, 42.951610799237294, 39.47762224687303, 34.69441777019325, 34.29455722947687, 33.43255250963745, 110.16309960240922, 256.6678323969633, 67.59801293104859, 59.113565407580744, 89.78747681336245, 46.44344366160367, 131.90974380307495, 176.31958591647071, 361.21000914979794, 74.53766682253492, 70.32561727354643, 536.1318352949437, 192.01879448336618, 365.55091480186087, 50.6844861648043, 672.1336942113386, 9.639449006233741, 1174.4724262448137, 23.993254308318647, 48.265999622737375, 116.78411824719176, 10.863552006676045, 7.639824636565348, 53.58913672108078, 35.110717620767765, 52.66128772058291, 192.36907164466737, 84.43727663291256, 339.2151045346127, 107.54288977606964, 205.6802411223981, 1062.810742850481, 196.06585784400983, 217.4648888113614, 102.74507137123942, 88.48313566528837, 75.40683701825304, 110.08601776193903, 181.61485978709712, 148.3666641988356, 90.32427498970395, 85.62303684596175, 90.6908685003421, 89.68365625959837, 77.5189369237283, 294.9320658679567, 151.47826745217412, 64.55880487430827, 398.0297719405565, 837.2761395557174, 49.182459165749236, 43.67739055846231, 53.69845193507305, 9.833237675496328, 8.459779076216211, 31.800736788630726, 32.35367188456087, 5.490394319977544, 17.235795868870216, 17.14281805148975, 15.22870069017122, 10.563957322381759, 5.191106095675981, 3.7056566246218914, 5.620203822734511, 4.9148158231016374, 3.3008152857140955, 6.622995073066968, 6.196169278344604, 3.623466510611173, 0.014579165294526195, 0.014579164508181664, 0.01457916458590813, 0.014579164499782988, 0.014579164460207558, 0.15978135161521842, 0.014794111482308516, 0.01458299704874082, 0.014580030911118971, 0.014579757214581001, 234.3517852273547, 172.69369150356434, 77.71371089747814, 73.68711148388974, 142.92057834131452, 63.14894610716255, 54.28430170201881, 46.717358372643034, 41.91352149727013, 69.02240708789485, 30.23931219179301, 22.30274712275908, 21.52793682366642, 20.04458250416003, 17.732186792496936, 19.29522185553364, 12.162513785574374, 28.651146998608887, 11.409235840097493, 123.22248362256185, 13.614570609794669, 37.8578719862095, 57.8658104996789, 667.9211140608692, 64.11311316208737, 130.04568049461827, 13.76948007528344, 13.9564558305051, 87.23709039871216, 12.115691972708522, 174.65067982465487, 563.2199224106799, 93.02458442346784, 318.0367467072089, 87.70685820041669, 91.41544934117131, 57.03549863646442, 58.01170687809949, 57.21576344188253, 60.49345068004465, 40.589983238141016, 51.470746772744036, 78.36926962430198, 60.12157971787812, 45.41820943026471, 46.668390939077256, 84.94482042706686, 70.11495931064162, 68.75503090226641, 53.89374512116983, 43.82383622009908, 43.32873478051843, 96.29005905871853, 39.63451659529233, 28.244128719186914, 63.70890029046154, 22.653905512434797, 20.695069206366526, 21.49621068662816, 19.461978380049633, 38.52425035252955, 13.6167595318272, 19.419477110735023, 11.94492165716412, 11.650826716456356, 11.640536265747906, 43.4834445877005, 32.41482973320208, 30.626977308652947, 45.98236635951645, 25.35790986467337, 17.075329776281517, 46.6982551391291, 39.37093973660925, 593.3093529788923, 60.92819185053684, 685.6042897725386, 1191.415688430008, 2564.3299220895665, 549.7593463036065, 403.67259544251556, 93.5425033160243, 723.9115416149114, 158.2759687414403, 121.60548029002443, 854.0450186300826, 57.260131278211226, 192.53144682628044, 182.78472449471764, 153.57172350143398, 419.0944743865344, 297.909691296791, 1564.5348584163273, 174.44670107073503, 218.49399548274823, 861.9681253986416, 348.9330807980949, 242.0146376165949, 345.50896397121136, 109.3274838799339, 292.19250274330204, 155.65842902649877, 359.00147467672286, 276.1926748350051, 308.0239843699539, 213.24548425911155, 358.12118917417223, 296.2202842860464, 254.97689146168085, 266.3335012458395, 309.1618310654811, 262.9134504620304, 275.99842497291894, 237.09737988420562, 238.54476703718646, 256.5336674589113, 271.1209246313233, 239.57688998300978, 509.2401319644909, 175.05623436320698, 69.77766598656306, 55.70921614791556, 40.50747088319841, 25.68496258534996, 741.7157162276131, 11.42636134856667, 706.1138044952484, 60.76437789369886, 57.287842454407155, 97.15556217071968, 113.11572910767087, 66.43142607066308, 10.520799049583967, 219.336447362639, 218.18553987513218, 109.38358283724968, 10.998098546149468, 28.38290557463307, 29.26213406974292, 4.386570144623461, 16.98775681594172, 9.450019400915684, 24.131294977877154, 6.471079098024596, 5.865544440197783, 312.4423596245407, 15.555448565442646, 23.263369196820726, 20.352516276843566, 34.40760663300277, 26.36234094653228, 13.841753652485956, 17.328400498279333, 13.186534893959553, 262.53771938570077, 258.9645714311999, 181.27456826409718, 140.62887522934494, 132.27777349057845, 98.48483828486249, 87.31729828640435, 84.69259010168994, 58.75242839833106, 54.307803147075916, 16.572663029487604, 98.0717952278119, 12.204351139241274, 29.90307207481795, 27.691929653895258, 40.110051847800015, 369.2755732170753, 52.00746169246613, 28.337302603827954, 323.51160389994556, 107.86445561175474, 39.1366637858299, 23.153596913934443, 36.53234323269071, 307.06788170241543, 134.67535076808397, 28.19543192849663, 13.17048966598278, 24.289619344628786, 22.381599274801104, 76.64228196859402, 90.98087477039151, 36.9600177108163, 31.1940617476145, 31.665583137186108, 28.32806088444364, 28.53855715317976, 522.505022721256, 344.05246852642387, 130.31229693622114, 56.17658457218852, 108.91072798985499, 40.77478491607918, 34.518432997526126, 30.95019462441141, 123.93969634078854, 16.510374680325828, 15.541826244157662, 14.913413683440915, 26.847367448566732, 50.67781169855612, 9.980846053066307, 32.367778183815524, 79.39979006591422, 642.7154681232483, 30.53184871709094, 40.0278893299945, 72.33286803110857, 47.64406127676445, 207.50045559168717, 67.36701823148559, 37.83042295627585, 55.34650531701638, 28.03566520266408, 211.72458062181104, 10.199850837956264, 79.78990046793774, 48.68559933001079, 161.4063315148786, 472.92737568024427, 198.08288751381454, 71.59048857733411, 79.19592495631356, 89.99861728360983, 71.98941935202947, 89.06043029553575, 51.1889923505166, 44.544011407623785, 108.57161591940972, 57.425411587828975, 53.2227729475506, 66.22731008543457, 60.82527708548971, 53.29566201389051, 50.691443448176955, 156.86534816463558, 102.29943255298024, 74.68844422317898, 63.10907476371017, 61.429983092942045, 60.89637345992362, 56.92986791704609, 56.56100825106353, 55.42502181449345, 50.91371598747736, 38.505409499171925, 38.18300838654004, 31.16766165651146, 22.63161602721552, 17.55726178774855, 16.38562993808325, 15.057188438893958, 13.059114942082347, 12.79535425470034, 10.871650913425634, 103.57995106007667, 38.49336576041484, 86.7708414042616, 37.622583468696405, 205.3149542588635, 96.1093095998144, 3699.914800214239, 27.900121982779982, 71.37431980348168, 83.57784757488676, 424.0672955094955, 233.8425126968209, 214.55904034255082, 79.72906719892696, 70.43438601075316, 79.23067595294489, 138.34183758039242, 55.80550226860282, 259.5073978260983, 249.4065508260674, 85.88057473811249, 262.33846068209294, 94.61711620264123, 92.08532321797887, 100.23347624754803, 172.57031861838104, 216.87310105073053, 131.9300867217099, 167.69676799885102, 113.99647603788993, 170.52395727166325, 277.55193757963644, 137.6714113636193, 125.9045861428731, 147.70689722638284, 115.79577532766484, 120.1455088298483, 103.33383537780313, 108.39259961150873, 98.21651289456938, 116.70372586656599, 97.6786413955381, 63.751498936880964, 0.019247025945172358, 0.019247025964912273, 0.019247025984340246, 0.019247025828753726, 0.019247026000128564, 0.019247025939060396, 0.019247025979912073, 0.019247025965748444, 0.0192470259386119, 0.019247025822489473, 0.019247025938446415, 0.01924702582179023, 0.019247025966436904, 0.019247025890556355, 0.01924702589557747, 0.01924702581046456, 0.019247025984664223, 0.01924702588576501, 0.01924702592472612, 0.019247025811104625, 0.019247025911738904, 0.019247025911867895, 0.019247025996879417, 0.019247026051062713, 0.019247025928460174, 0.019247025950431856, 0.01924702583271465, 0.019247025912078795, 0.019247026043116667, 0.019247043381982142, 0.01924703733114977, 0.019247034288735136, 0.019247033462238262, 0.01924703226106936, 0.019247031611038374, 0.01924703056811295, 0.01924702972042725, 0.01924702948018125, 0.019247029268786065, 0.019247028927821066, 0.019247028799070278, 0.019247028684792042, 0.01924702858115896, 0.0192470283857751, 0.019247028363112338, 0.019247028265837355, 0.019247028115170393, 0.019247028084252146, 0.019247028031174736, 0.01924702799488155, 0.019247027867089872, 0.019247027832196357, 0.019247027720473438, 0.0192470277061338, 0.019247027647055895, 0.019247027622542847, 0.01924702755692089, 0.01924702753699376, 840.7090469727443, 884.6217697335038, 215.90832262619062, 125.27965155211885, 46.929972000781966, 62.046647283469966, 28.943006728006097, 13.814726678085174, 499.5633903623234, 83.41419192945416, 98.55544219811604, 35.09682063838617, 46.12986775715165, 71.8527275470942, 161.02191104666028, 58.93405700965434, 16.760690279381766, 10.192259866435267, 176.8814753551541, 5.0748098003187385, 11.72920215749057, 10.524649913778283, 2.499637764545742, 52.38710874434408, 36.054461979923154, 5.335397200980596, 7.540008452192552, 7.873961314824607, 3.1987323362332685, 3.716720472068168, 21.873834830893085, 20.33498364310037, 66.42754530410791, 16.519353948173965, 17.631383855922678, 14.119548936220106, 388.42075974482486, 151.13332537424256, 147.3637136679698, 105.27820939431437, 92.39853112762952, 88.40653528241731, 83.43854666883271, 68.50148726429407, 56.87562163752956, 49.95753344847772, 47.83884723369343, 47.252662989715034, 47.054222805416444, 43.98616396485754, 40.46130431529735, 59.03297024973339, 35.33293259724074, 95.68130436945296, 27.894118863523047, 62.0552036763564, 106.60192078321616, 77.19789981716521, 57.19896625697527, 23.067894553394844, 21.37503676826908, 21.278952774019185, 20.53318411557268, 91.44683547079546, 18.823173485178103, 18.363520731121444, 122.40782173395007, 47.67435691761064, 374.1556921731021, 40.22041687027171, 1895.94735165403, 107.03468048395213, 427.33580135792954, 82.44258886420674, 111.02097377353262, 187.78372417586118, 150.54583605472592, 100.84120487494638, 169.3543901613787, 192.4468179409453, 398.97643815166674, 150.1217699470753, 159.42873817375317, 513.9296061770059, 344.76923646618565, 107.54516293510203, 182.3177558203039, 136.79368054720692, 225.92714884377656, 181.47392989690874, 156.06055322457016, 233.79681758998868, 439.87458527422245, 378.18127799594475, 262.9885434587966, 174.71797514853944, 205.80239562750245, 281.061794199375, 381.0691739972702, 325.16224495898814, 198.66440651330083, 244.65546840968543, 235.5301984390391, 200.01528395791178, 187.3199452782835, 218.15187485262513, 240.17158110513975, 191.9549153353575, 190.44726605349166, 185.80047546883577, 442.9718873698606, 153.80924062831178, 101.92423185965663, 93.73850924470045, 90.95898492001868, 70.47175937722812, 64.86971250858747, 200.22228290481652, 52.86330461728563, 51.25682784201723, 84.03085711373576, 33.56656712985674, 24.11466048844219, 16.946459730343804, 16.86059443992354, 16.315232394926113, 94.62778072242939, 70.41102633698823, 39.85049889666215, 259.65849327564575, 44.15352732775173, 516.4573538714036, 41.009830932362405, 27.143296433196, 16.845517449537258, 45.244605382667885, 195.90529604843886, 25.241063049164556, 26.332753407488962, 14.417578016055208, 20.072283476509483, 124.23347600128118, 369.79140822628807, 268.40013687235466, 54.37869170393377, 228.46354927684425, 93.92137579021009, 248.85546589638767, 70.94437090110821, 102.42768549715547, 243.20094345862873, 64.81195608521038, 201.4224275825719, 96.64506450165625, 130.04894645458947, 149.46299648056421, 85.29277395978941, 70.37991223895784, 86.32260498372425, 79.83299225360206, 76.37974164769523, 73.52516819154664, 70.86524296025435, 323.46553986230174, 238.99852305255982, 173.02495573997098, 96.58445361824705, 105.95167559846178, 110.10941992543341, 869.586342967364, 90.8629065941489, 34.08174062374448, 763.3243152431859, 31.275670253482176, 53.64621520037195, 21.424810100079245, 15.057441261942058, 174.34130565833496, 177.15656011411912, 49.06277438492512, 5.8457108608791515, 97.33461664086842, 13.721528791505238, 16.93513632558248, 116.5597327880313, 23.729678977103504, 15.96767102262591, 69.49503336351647, 30.819108352948923, 8.39364807269781, 5.475641452629637, 6.424849150682302, 19.045740038481142, 12.653109182946178, 12.540834051991455, 32.04986672088402, 12.665476918353455, 15.908070738834477, 18.254658970459303, 16.296158371686367, 14.791865917293311, 14.85223571695134], \"Term\": [\"love\", \"baby\", \"girl\", \"good\", \"feel\", \"man\", \"nigga\", \"better\", \"day\", \"night\", \"boy\", \"heart\", \"time\", \"bad\", \"hear\", \"people\", \"fuck\", \"tonight\", \"dance\", \"rock\", \"play\", \"hard\", \"long\", \"hold\", \"fucking\", \"turn\", \"shit\", \"round\", \"father\", \"days\", \"denied\", \"heartbeat\", \"falling\", \"loneliness\", \"forsaken\", \"blessings\", \"helpless\", \"fallen\", \"apart\", \"cries\", \"total\", \"fall\", \"growing\", \"prayers\", \"everlasting\", \"saved\", \"wound\", \"calling\", \"innocence\", \"shelter\", \"faster\", \"forever\", \"child\", \"raging\", \"beating\", \"remain\", \"hatred\", \"noose\", \"heart\", \"senseless\", \"dark\", \"broken\", \"arms\", \"tears\", \"deep\", \"bright\", \"eyes\", \"stars\", \"goodbye\", \"inside\", \"pain\", \"bit\", \"stronger\", \"grace\", \"realize\", \"sound\", \"stay\", \"start\", \"hear\", \"life\", \"burn\", \"road\", \"join\", \"false\", \"manager\", \"heartbreak\", \"servant\", \"shack\", \"ghostly\", \"human\", \"culture\", \"war\", \"race\", \"leading\", \"art\", \"invade\", \"burned\", \"continue\", \"history\", \"hunter\", \"valley\", \"load\", \"mistake\", \"path\", \"push\", \"reaching\", \"president\", \"waste\", \"roof\", \"explode\", \"bright\", \"breathing\", \"fate\", \"calling\", \"nah\", \"gangstas\", \"dis\", \"xzibit\", \"movin\", \"haffi\", \"squad\", \"diss\", \"official\", \"passenger\", \"chickens\", \"esteem\", \"inspiration\", \"manage\", \"fraud\", \"representing\", \"interior\", \"freaks\", \"fat\", \"shawty\", \"gangsta\", \"greedy\", \"stink\", \"sloppy\", \"thump\", \"slay\", \"role\", \"cum\", \"lap\", \"tastes\", \"booty\", \"check\", \"boo\", \"rolling\", \"grip\", \"uptown\", \"chick\", \"crew\", \"best\", \"nasty\", \"pump\", \"test\", \"style\", \"hit\", \"ass\", \"pussy\", \"shit\", \"fake\", \"fact\", \"hang\", \"dime\", \"talking\", \"sex\", \"big\", \"time\", \"fool\", \"break\", \"bust\", \"cool\", \"committed\", \"opera\", \"hypocrite\", \"anxious\", \"eager\", \"disagree\", \"battery\", \"moral\", \"interior\", \"production\", \"horrible\", \"destroying\", \"murderous\", \"deceit\", \"outcast\", \"scandalous\", \"vomit\", \"fragile\", \"pneumonia\", \"battered\", \"assault\", \"haste\", \"tackle\", \"advance\", \"suspect\", \"excite\", \"challenge\", \"fitting\", \"divorce\", \"shiver\", \"love\", \"life\", \"living\", \"protection\", \"excited\", \"heart\", \"pain\", \"sorrow\", \"live\", \"feel\", \"command\", \"wish\", \"save\", \"inside\", \"strangers\", \"things\", \"dies\", \"die\", \"telling\", \"till\", \"putting\", \"turn\", \"signs\", \"sensation\", \"flower\", \"belong\", \"lose\", \"making\", \"night\", \"rain\", \"days\", \"freak\", \"knock\", \"freaky\", \"heavens\", \"rounds\", \"saints\", \"satisfy\", \"wipe\", \"thunder\", \"explode\", \"skip\", \"picnic\", \"business\", \"sneak\", \"secret\", \"door\", \"bathroom\", \"porn\", \"measure\", \"den\", \"hanging\", \"short\", \"problem\", \"lightning\", \"horses\", \"knees\", \"explain\", \"cloud\", \"vicious\", \"bricks\", \"brother\", \"morning\", \"eyes\", \"lot\", \"edge\", \"sail\", \"final\", \"prize\", \"lions\", \"prey\", \"blade\", \"drawn\", \"decay\", \"parade\", \"horizon\", \"scum\", \"ago\", \"sea\", \"sympathy\", \"sky\", \"distant\", \"dangerous\", \"allow\", \"weary\", \"leads\", \"achieve\", \"restless\", \"memory\", \"cloud\", \"long\", \"hurricane\", \"circle\", \"arrive\", \"coming\", \"high\", \"eye\", \"ship\", \"flame\", \"standing\", \"clouds\", \"remains\", \"left\", \"moon\", \"dry\", \"sun\", \"lines\", \"dawn\", \"wind\", \"wide\", \"time\", \"lost\", \"smoke\", \"sleep\", \"eyes\", \"breaking\", \"remember\", \"night\", \"blue\", \"round\", \"sword\", \"merry\", \"tick\", \"town\", \"cool\", \"spin\", \"bloody\", \"late\", \"crown\", \"friendly\", \"circles\", \"hip\", \"fools\", \"rolls\", \"noose\", \"legs\", \"corner\", \"pound\", \"cards\", \"trade\", \"saint\", \"slip\", \"laid\", \"prayed\", \"missed\", \"folks\", \"bread\", \"tape\", \"fingers\", \"hands\", \"night\", \"real\", \"time\", \"head\", \"fool\", \"making\", \"till\", \"place\", \"leave\", \"lord\", \"dear\", \"kissed\", \"holiday\", \"teacher\", \"worship\", \"temple\", \"puppy\", \"unity\", \"modern\", \"liar\", \"obey\", \"spoil\", \"crawl\", \"people\", \"proof\", \"vision\", \"buddy\", \"porn\", \"build\", \"crush\", \"truth\", \"offer\", \"drums\", \"school\", \"ruin\", \"grief\", \"suspect\", \"meat\", \"teach\", \"worth\", \"hug\", \"stars\", \"follow\", \"thought\", \"life\", \"help\", \"bop\", \"loving\", \"overnight\", \"good\", \"law\", \"hooked\", \"dial\", \"fought\", \"feels\", \"moral\", \"breakfast\", \"checking\", \"sensation\", \"dime\", \"picking\", \"happening\", \"messing\", \"gentle\", \"fancy\", \"blues\", \"sunlight\", \"kind\", \"weekend\", \"perfume\", \"smile\", \"best\", \"patient\", \"clothes\", \"rocks\", \"understand\", \"time\", \"closer\", \"beats\", \"slave\", \"cherry\", \"coupe\", \"deck\", \"generation\", \"sparks\", \"seats\", \"hood\", \"starts\", \"turns\", \"rims\", \"underneath\", \"mile\", \"room\", \"coming\", \"seat\", \"committed\", \"opera\", \"hypocrite\", \"anxious\", \"eager\", \"disagree\", \"battery\", \"moral\", \"interior\", \"production\", \"horrible\", \"destroying\", \"murderous\", \"kind\", \"good\", \"open\", \"barely\", \"buddy\", \"tonight\", \"quarter\", \"danced\", \"guard\", \"cheek\", \"roll\", \"nose\", \"town\", \"walks\", \"wee\", \"ace\", \"whistle\", \"blonde\", \"wears\", \"learning\", \"tea\", \"father\", \"loss\", \"fun\", \"lied\", \"rocking\", \"steady\", \"takes\", \"guys\", \"haste\", \"jab\", \"biggest\", \"word\", \"help\", \"trace\", \"wanted\", \"plays\", \"fast\", \"figure\", \"sucker\", \"smart\", \"expect\", \"skirt\", \"drives\", \"bar\", \"sound\", \"blow\", \"told\", \"school\", \"mother\", \"car\", \"trees\", \"leaves\", \"wood\", \"burns\", \"blinded\", \"seasons\", \"avoid\", \"pine\", \"men\", \"committed\", \"opera\", \"hypocrite\", \"anxious\", \"eager\", \"disagree\", \"battery\", \"moral\", \"interior\", \"production\", \"horrible\", \"destroying\", \"murderous\", \"deceit\", \"outcast\", \"scandalous\", \"vomit\", \"fragile\", \"pneumonia\", \"battered\", \"assault\", \"expect\", \"dreams\", \"lot\", \"times\", \"surely\", \"town\", \"endless\", \"days\", \"fear\", \"kind\", \"lose\", \"catch\", \"hopes\", \"lightning\", \"ring\", \"good\", \"hard\", \"wind\", \"faith\", \"left\", \"keeping\", \"space\", \"boy\", \"damned\", \"hooker\", \"banana\", \"marching\", \"roses\", \"movies\", \"piano\", \"mum\", \"dungeon\", \"ransom\", \"content\", \"toy\", \"groan\", \"king\", \"obscene\", \"precious\", \"stops\", \"wake\", \"tension\", \"band\", \"sweetheart\", \"lay\", \"land\", \"whisper\", \"lost\", \"villain\", \"buried\", \"acting\", \"saved\", \"place\", \"ground\", \"bed\", \"things\", \"sleep\", \"ship\", \"ways\", \"forgive\", \"haven\", \"ashes\", \"spoken\", \"rains\", \"beast\", \"driver\", \"sake\", \"homeless\", \"moments\", \"worm\", \"priest\", \"books\", \"riot\", \"rot\", \"rider\", \"hopeless\", \"gain\", \"amaze\", \"stones\", \"winter\", \"broken\", \"bold\", \"promises\", \"write\", \"clean\", \"drinking\", \"waste\", \"cold\", \"bump\", \"bass\", \"sunshine\", \"note\", \"pity\", \"reaction\", \"repent\", \"born\", \"sneaking\", \"raise\", \"crash\", \"rag\", \"american\", \"imagine\", \"stand\", \"hell\", \"chaos\", \"microphone\", \"flew\", \"snakes\", \"loyalty\", \"poor\", \"drop\", \"lethal\", \"grey\", \"grind\", \"bones\", \"attempt\", \"bold\", \"kingdom\", \"yell\", \"flesh\", \"taste\", \"kick\", \"live\", \"flow\", \"train\", \"disco\", \"station\", \"dies\", \"sleeping\", \"exit\", \"knight\", \"creatures\", \"choir\", \"planned\", \"rushing\", \"destination\", \"stormy\", \"hours\", \"slept\", \"midnight\", \"ticket\", \"engine\", \"flower\", \"traffic\", \"cryin\", \"clearly\", \"west\", \"ambulance\", \"heading\", \"meet\", \"smell\", \"nights\", \"pass\", \"sailor\", \"sat\", \"left\", \"bring\", \"matter\", \"mirror\", \"dirt\", \"likes\", \"dancer\", \"scars\", \"rear\", \"clap\", \"angry\", \"view\", \"traveling\", \"jealousy\", \"wall\", \"climbing\", \"boring\", \"glasses\", \"outrageous\", \"bend\", \"prefer\", \"comfort\", \"young\", \"bury\", \"dudes\", \"production\", \"dude\", \"fence\", \"age\", \"brick\", \"lock\", \"stall\", \"pretend\", \"winner\", \"crown\", \"pure\", \"bring\", \"times\", \"killer\", \"pool\", \"swimming\", \"strike\", \"ggas\", \"gga\", \"shark\", \"yearning\", \"fed\", \"committed\", \"opera\", \"hypocrite\", \"anxious\", \"eager\", \"disagree\", \"battery\", \"moral\", \"interior\", \"production\", \"horrible\", \"destroying\", \"murderous\", \"deceit\", \"outcast\", \"scandalous\", \"vomit\", \"fragile\", \"pneumonia\", \"battered\", \"assault\", \"tree\", \"ocean\", \"john\", \"park\", \"head\", \"fight\", \"sight\", \"hope\", \"clean\", \"react\", \"extra\", \"plan\", \"trembling\", \"time\", \"blessings\", \"jump\", \"dead\", \"day\", \"yeh\", \"picked\", \"bucks\", \"power\", \"magic\", \"brothers\", \"hiding\", \"hero\", \"radio\", \"miracles\", \"dreamed\", \"runaway\", \"sisters\", \"suffer\", \"sailing\", \"opportunity\", \"hidden\", \"warning\", \"listened\", \"eternity\", \"shame\", \"sister\", \"kingdom\", \"prince\", \"brother\", \"torture\", \"tiny\", \"fate\", \"blame\", \"hour\", \"blazing\", \"loud\", \"main\", \"listen\", \"heard\", \"music\", \"sound\", \"fame\", \"hear\", \"mountain\", \"guitar\", \"keeping\", \"machine\", \"rocket\", \"justice\", \"food\", \"wore\", \"century\", \"forces\", \"ole\", \"complain\", \"decided\", \"miles\", \"air\", \"equal\", \"super\", \"cop\", \"worst\", \"flood\", \"fresh\", \"uncle\", \"pair\", \"sat\", \"protect\", \"write\", \"drives\", \"boots\", \"bought\", \"tough\", \"set\", \"sing\", \"darling\", \"ill\", \"swallow\", \"marry\", \"shy\", \"wedding\", \"bombs\", \"sexual\", \"laughed\", \"lipstick\", \"worrying\", \"pen\", \"plea\", \"guy\", \"dress\", \"smile\", \"walked\", \"young\", \"loved\", \"committed\", \"opera\", \"hypocrite\", \"anxious\", \"eager\", \"disagree\", \"battery\", \"moral\", \"interior\", \"production\", \"horrible\", \"hollow\", \"bride\", \"years\", \"face\", \"hear\", \"soldier\", \"long\", \"boy\", \"baby\", \"ggas\", \"answer\", \"dance\", \"runway\", \"lover\", \"fishing\", \"shady\", \"ambition\", \"jazz\", \"dull\", \"rod\", \"devil\", \"jungle\", \"twist\", \"inch\", \"yellow\", \"risk\", \"desperate\", \"cemetery\", \"white\", \"noise\", \"stopped\", \"teeth\", \"big\", \"dedicated\", \"busy\", \"trapped\", \"stones\", \"bathroom\", \"key\", \"holding\", \"floor\", \"room\", \"mess\", \"paper\", \"sin\", \"learn\", \"sign\", \"prove\", \"hands\", \"left\", \"man\", \"summer\", \"girls\", \"angel\", \"passing\", \"jumping\", \"raining\", \"teenage\", \"football\", \"versus\", \"shine\", \"alive\", \"science\", \"haze\", \"star\", \"shines\", \"windows\", \"fantasy\", \"brighter\", \"runs\", \"deceased\", \"chase\", \"diamond\", \"gang\", \"breeze\", \"waist\", \"boys\", \"sand\", \"beach\", \"sweat\", \"rising\", \"sun\", \"ball\", \"dreams\", \"sugar\", \"sweet\", \"easy\", \"seeds\", \"nature\", \"hunting\", \"candy\", \"cane\", \"collision\", \"verdict\", \"concerned\", \"motion\", \"hail\", \"spanish\", \"mystery\", \"sensation\", \"wine\", \"coast\", \"sees\", \"live\", \"care\", \"luck\", \"die\", \"tough\", \"reason\", \"tease\", \"wanting\", \"talking\", \"string\", \"stain\", \"friend\", \"glass\", \"highway\", \"thinking\", \"forever\", \"grow\", \"bitter\", \"piece\", \"kids\", \"high\", \"pretty\", \"things\", \"time\", \"led\", \"birth\", \"saving\", \"demons\", \"sting\", \"dream\", \"authority\", \"confusion\", \"possessed\", \"lust\", \"humanity\", \"possess\", \"exhausted\", \"ghosts\", \"illusion\", \"anxious\", \"material\", \"nightmare\", \"hopes\", \"happiness\", \"astray\", \"daylight\", \"despise\", \"escape\", \"save\", \"poison\", \"pet\", \"fires\", \"sins\", \"sickness\", \"silent\", \"god\", \"control\", \"dreams\", \"tomorrow\", \"angels\", \"earth\", \"fight\", \"lies\", \"slipping\", \"lives\", \"true\", \"soul\", \"set\", \"sorrow\", \"pay\", \"caught\", \"hide\", \"life\", \"inside\", \"shadows\", \"telling\", \"paint\", \"boat\", \"cheap\", \"pink\", \"physical\", \"sale\", \"pole\", \"blues\", \"difficult\", \"underground\", \"routine\", \"champagne\", \"works\", \"fish\", \"cocky\", \"harbor\", \"hear\", \"scream\", \"code\", \"pop\", \"swim\", \"lazy\", \"animal\", \"track\", \"trouble\", \"disaster\", \"cover\", \"wheel\", \"mark\", \"loose\", \"watch\", \"green\", \"sound\", \"clear\", \"order\", \"flip\", \"number\", \"sitting\", \"ring\", \"blow\", \"running\", \"beautiful\", \"troubles\", \"rockin\", \"electric\", \"sir\", \"coffin\", \"haunt\", \"perfection\", \"explore\", \"happily\", \"shook\", \"dirty\", \"unfold\", \"remind\", \"songs\", \"mood\", \"spoon\", \"hurry\", \"hands\", \"advance\", \"trembling\", \"sang\", \"professional\", \"harm\", \"blue\", \"gentle\", \"bare\", \"attempt\", \"forget\", \"played\", \"mother\", \"head\", \"shot\", \"shoes\", \"sick\", \"dress\", \"pride\", \"stepping\", \"cut\", \"strong\", \"died\", \"today\", \"laid\", \"jeans\", \"song\", \"wish\", \"heard\", \"smile\", \"speed\", \"animals\", \"trail\", \"lifted\", \"forest\", \"heroes\", \"shout\", \"square\", \"rode\", \"waters\", \"fathers\", \"captain\", \"saddle\", \"march\", \"tomb\", \"roads\", \"clash\", \"pledge\", \"frightened\", \"mourn\", \"warrior\", \"punishment\", \"allegiance\", \"muddy\", \"stripped\", \"compassion\", \"larger\", \"rivers\", \"fragile\", \"poisoned\", \"peace\", \"tower\", \"dust\", \"grave\", \"anger\", \"death\", \"soldiers\", \"ground\", \"greed\", \"gun\", \"bullet\", \"kings\", \"enemy\", \"fear\", \"survive\", \"brave\", \"killing\", \"low\", \"red\", \"beneath\", \"guns\", \"rising\", \"stood\", \"cross\", \"die\", \"stone\", \"crowd\", \"dying\", \"blood\", \"land\", \"face\", \"place\", \"lay\", \"light\", \"kill\", \"heard\", \"men\", \"lives\", \"bring\", \"hands\", \"black\", \"rock\", \"mornin\", \"musical\", \"feelin\", \"drift\", \"beat\", \"roll\", \"defeated\", \"agree\", \"wants\", \"boys\", \"weapons\", \"harmony\", \"bitter\", \"hearts\", \"soul\", \"rhyme\", \"lower\", \"hate\", \"toys\", \"barely\", \"band\", \"wasting\", \"fruit\", \"disappear\", \"confused\", \"heat\", \"local\", \"melody\", \"picking\", \"strong\", \"song\", \"favorite\", \"high\", \"mind\", \"feeling\", \"friends\", \"coming\", \"love\", \"adore\", \"remix\", \"affection\", \"affair\", \"hug\", \"deceive\", \"sucker\", \"argue\", \"embrace\", \"trust\", \"faithful\", \"laying\", \"amazing\", \"true\", \"travel\", \"tender\", \"loved\", \"erase\", \"learn\", \"messed\", \"spent\", \"ohhh\", \"needed\", \"blessing\", \"everlasting\", \"preacher\", \"clearly\", \"kind\", \"kissing\", \"promise\", \"loves\", \"kiss\", \"lot\", \"heart\", \"strong\", \"perfect\", \"long\", \"time\", \"touch\", \"real\", \"minute\", \"face\", \"spend\", \"straight\", \"life\", \"care\", \"day\", \"eyes\", \"win\", \"heads\", \"silly\", \"belongs\", \"county\", \"savior\", \"prisoner\", \"amen\", \"suffering\", \"salvation\", \"thankful\", \"powerful\", \"politics\", \"progress\", \"bang\", \"drum\", \"seize\", \"play\", \"claim\", \"game\", \"wounds\", \"rose\", \"victory\", \"innocence\", \"fortune\", \"promise\", \"soft\", \"preacher\", \"twist\", \"dancing\", \"feet\", \"woo\", \"praise\", \"add\", \"fades\", \"doom\", \"sing\", \"meaning\", \"expecting\", \"groove\", \"melody\", \"music\", \"wont\", \"day\", \"smiling\", \"singing\", \"spring\", \"awhile\", \"tune\", \"smile\", \"solo\", \"weigh\", \"song\", \"ringing\", \"prepare\", \"impossible\", \"sings\", \"sun\", \"winter\", \"argue\", \"dreaming\", \"slow\", \"leave\", \"time\", \"today\", \"longer\", \"place\", \"takes\", \"face\", \"morning\", \"short\", \"hear\", \"long\", \"things\", \"stay\", \"play\", \"life\", \"girl\", \"tonight\", \"papi\", \"sexy\", \"prowl\", \"mami\", \"hobby\", \"craving\", \"deserve\", \"stroke\", \"special\", \"toes\", \"favorite\", \"suspect\", \"kinda\", \"spending\", \"sweetheart\", \"promise\", \"limit\", \"handle\", \"phone\", \"hips\", \"conversation\", \"pour\", \"number\", \"cute\", \"attention\", \"dress\", \"girlfriend\", \"swag\", \"throw\", \"jeans\", \"met\", \"movie\", \"leave\", \"damn\", \"guess\", \"fine\", \"pick\", \"stay\", \"perfect\", \"type\", \"hands\", \"night\", \"best\", \"floor\", \"walk\", \"start\", \"country\", \"wings\", \"golden\", \"rule\", \"downtown\", \"steam\", \"butcher\", \"spread\", \"rack\", \"maniac\", \"bully\", \"bird\", \"fly\", \"humming\", \"flying\", \"eagle\", \"knife\", \"butter\", \"games\", \"journey\", \"kite\", \"miracle\", \"voice\", \"shore\", \"busted\", \"fright\", \"trunk\", \"hills\", \"wrapped\", \"jet\", \"catch\", \"wet\", \"sky\", \"playing\", \"life\", \"flowers\", \"feet\", \"word\", \"blue\", \"wild\", \"drink\", \"serve\", \"planet\", \"satisfied\", \"corn\", \"sunset\", \"rescue\", \"destroying\", \"future\", \"chief\", \"lie\", \"cracked\", \"chance\", \"cup\", \"bottles\", \"afraid\", \"champion\", \"starting\", \"blind\", \"hater\", \"thinks\", \"covered\", \"obvious\", \"packed\", \"tired\", \"rolls\", \"drinks\", \"swine\", \"liquor\", \"drunk\", \"couple\", \"devil\", \"pretend\", \"care\", \"women\", \"live\", \"ignite\", \"superstar\", \"echo\", \"flashing\", \"resist\", \"sunrise\", \"mystic\", \"constantly\", \"personal\", \"freedom\", \"usual\", \"receiving\", \"destined\", \"agreed\", \"recall\", \"rags\", \"passionate\", \"flirt\", \"dancing\", \"convince\", \"ordinary\", \"light\", \"noon\", \"camera\", \"night\", \"passion\", \"linger\", \"stairs\", \"ohhh\", \"shaking\", \"morning\", \"evening\", \"faith\", \"shining\", \"slowly\", \"moon\", \"hope\", \"begun\", \"chain\", \"sight\", \"screaming\", \"lying\", \"tight\", \"sex\", \"dark\", \"bring\", \"making\", \"believe\", \"window\", \"place\", \"fight\", \"floor\", \"time\", \"yeh\", \"driven\", \"roots\", \"whoo\", \"outlaw\", \"fearing\", \"earthquake\", \"therapy\", \"spite\", \"challenge\", \"free\", \"glitter\", \"bell\", \"motor\", \"running\", \"kicking\", \"sirens\", \"living\", \"bounce\", \"stealing\", \"strife\", \"dead\", \"bomb\", \"nation\", \"stressed\", \"dig\", \"possession\", \"stream\", \"shelf\", \"taught\", \"feet\", \"sleep\", \"simple\", \"needed\", \"lot\", \"foot\", \"working\", \"rest\", \"family\", \"dreaming\", \"picking\", \"drive\", \"week\", \"kind\", \"bed\", \"time\", \"small\", \"head\", \"life\", \"live\", \"nigga\", \"bitches\", \"hoes\", \"haters\", \"motherfuckers\", \"hoe\", \"ballin\", \"raw\", \"tat\", \"gat\", \"weed\", \"bail\", \"glock\", \"strapped\", \"gucci\", \"ling\", \"hype\", \"pimping\", \"dip\", \"homey\", \"dro\", \"mane\", \"marijuana\", \"thangs\", \"gangster\", \"pro\", \"titties\", \"feds\", \"bling\", \"blunt\", \"thug\", \"rap\", \"bitch\", \"pimp\", \"block\", \"click\", \"shit\", \"homies\", \"hood\", \"bricks\", \"dope\", \"fuck\", \"motherfucking\", \"ass\", \"balling\", \"double\", \"homie\", \"hook\", \"hop\", \"game\", \"motherfucker\", \"dick\", \"smoke\", \"damn\", \"real\", \"flow\", \"fucking\", \"hit\", \"drop\", \"blow\", \"straight\", \"money\", \"talking\", \"man\", \"big\", \"heaven\", \"brand\", \"fever\", \"bear\", \"seek\", \"cheek\", \"healing\", \"buzz\", \"liberty\", \"autumn\", \"gates\", \"awake\", \"escaped\", \"vanish\", \"plague\", \"vengeance\", \"tear\", \"souls\", \"rail\", \"deliver\", \"enter\", \"fair\", \"beg\", \"riddle\", \"demon\", \"surrender\", \"walking\", \"fuse\", \"meets\", \"soil\", \"thrill\", \"hearing\", \"speak\", \"gate\", \"painted\", \"fade\", \"rubber\", \"crack\", \"flow\", \"darkness\", \"place\", \"chair\", \"forgot\", \"laugh\", \"half\", \"joy\", \"air\", \"jump\", \"shoulder\", \"dum\", \"spray\", \"better\", \"bait\", \"lucky\", \"freeze\", \"cold\", \"answer\", \"skin\", \"nice\", \"warm\", \"dropped\", \"crooked\", \"closer\", \"vicious\", \"conversation\", \"ahead\", \"spell\", \"pneumonia\", \"questions\", \"cast\", \"dice\", \"caught\", \"ice\", \"hoping\", \"drag\", \"sees\", \"praying\", \"worth\", \"diamond\", \"window\", \"shining\", \"hang\", \"father\", \"watch\", \"listen\", \"face\", \"funk\", \"pie\", \"create\", \"appeal\", \"french\", \"catching\", \"grim\", \"depression\", \"winning\", \"ladies\", \"rings\", \"wonderful\", \"hello\", \"ticking\", \"goddamn\", \"drown\", \"cow\", \"trigger\", \"ride\", \"lovely\", \"rewind\", \"crystal\", \"ball\", \"shoot\", \"aim\", \"seat\", \"enjoy\", \"pull\", \"riding\", \"steal\", \"hit\", \"car\", \"birds\", \"picture\", \"nice\", \"strip\", \"check\", \"till\", \"feet\", \"time\", \"committed\", \"opera\", \"hypocrite\", \"anxious\", \"eager\", \"disagree\", \"battery\", \"moral\", \"interior\", \"production\", \"horrible\", \"destroying\", \"murderous\", \"deceit\", \"outcast\", \"scandalous\", \"vomit\", \"fragile\", \"pneumonia\", \"battered\", \"assault\", \"haste\", \"tackle\", \"advance\", \"suspect\", \"excite\", \"challenge\", \"fitting\", \"divorce\", \"shiver\", \"weeks\", \"idiot\", \"older\", \"rob\", \"squeeze\", \"fancy\", \"double\", \"abandoned\", \"fiend\", \"knees\", \"guess\", \"plate\", \"drift\", \"solid\", \"grind\", \"saloon\", \"haven\", \"rapper\", \"talkin\", \"forced\", \"cat\", \"sentence\", \"happiness\", \"share\", \"convince\", \"sex\", \"brains\", \"action\", \"murder\", \"funny\", \"lights\", \"dee\", \"wow\", \"seh\", \"bee\", \"senses\", \"release\", \"thee\", \"delicious\", \"surround\", \"swell\", \"coma\", \"fulfill\", \"believer\", \"lend\", \"general\", \"worry\", \"pleasure\", \"cruel\", \"pneumonia\", \"hold\", \"suspicious\", \"waits\", \"worlds\", \"aunt\", \"harder\", \"holds\", \"follow\", \"shut\", \"lips\", \"tied\", \"tight\", \"bound\", \"lead\", \"hand\", \"vain\", \"count\", \"stay\", \"kiss\", \"close\", \"bright\", \"floor\", \"long\", \"rocks\", \"players\", \"basketball\", \"moves\", \"draft\", \"committed\", \"opera\", \"hypocrite\", \"anxious\", \"eager\", \"disagree\", \"battery\", \"moral\", \"interior\", \"production\", \"horrible\", \"destroying\", \"murderous\", \"deceit\", \"outcast\", \"scandalous\", \"vomit\", \"fragile\", \"pneumonia\", \"battered\", \"assault\", \"haste\", \"tackle\", \"advance\", \"suspect\", \"excite\", \"lotta\", \"suit\", \"joint\", \"arm\", \"favorite\", \"shoot\", \"court\", \"slam\", \"shooting\", \"blast\", \"throwing\", \"defense\", \"tall\", \"fake\", \"slow\", \"stuck\", \"microphone\", \"shook\", \"position\", \"pick\", \"style\", \"alley\", \"usually\", \"miles\", \"fresh\", \"step\", \"bottle\", \"booze\", \"committed\", \"opera\", \"hypocrite\", \"anxious\", \"eager\", \"disagree\", \"battery\", \"moral\", \"interior\", \"production\", \"horrible\", \"destroying\", \"murderous\", \"deceit\", \"outcast\", \"scandalous\", \"vomit\", \"fragile\", \"pneumonia\", \"battered\", \"assault\", \"haste\", \"tackle\", \"advance\", \"suspect\", \"excite\", \"challenge\", \"fitting\", \"bitches\", \"buy\", \"nigga\", \"border\", \"pussy\", \"pour\", \"dick\", \"shit\", \"bitch\", \"playing\", \"sad\", \"fucking\", \"shut\", \"hoes\", \"blunt\", \"fuck\", \"club\", \"broke\", \"chrome\", \"shawty\", \"stab\", \"bought\", \"party\", \"face\", \"bottles\", \"bars\", \"cut\", \"worth\", \"monkey\", \"medicine\", \"kidding\", \"ready\", \"tin\", \"kitty\", \"nurse\", \"tramp\", \"sheriff\", \"warned\", \"shake\", \"doll\", \"bad\", \"moving\", \"idiot\", \"papers\", \"hurts\", \"moral\", \"drives\", \"makin\", \"pill\", \"hard\", \"disease\", \"aching\", \"letter\", \"attack\", \"leaving\", \"needle\", \"doctor\", \"nasty\", \"sad\", \"till\", \"wait\", \"grab\", \"working\", \"time\", \"committed\", \"opera\", \"hypocrite\", \"anxious\", \"eager\", \"disagree\", \"battery\", \"moral\", \"interior\", \"production\", \"horrible\", \"destroying\", \"murderous\", \"deceit\", \"outcast\", \"scandalous\", \"vomit\", \"fragile\", \"pneumonia\", \"battered\", \"assault\", \"haste\", \"tackle\", \"advance\", \"suspect\", \"excite\", \"challenge\", \"fitting\", \"divorce\", \"shiver\", \"funky\", \"pretty\", \"birthday\", \"happy\", \"lady\", \"remember\", \"ooo\", \"rules\", \"time\", \"dance\", \"loves\", \"gold\", \"stupid\", \"year\", \"stars\", \"gay\", \"hours\", \"life\", \"live\", \"wine\", \"glow\", \"sea\", \"day\", \"flows\", \"bold\", \"night\", \"celebrate\", \"romance\", \"paper\", \"wish\", \"buss\", \"committed\", \"opera\", \"hypocrite\", \"anxious\", \"eager\", \"disagree\", \"battery\", \"moral\", \"interior\", \"production\", \"horrible\", \"destroying\", \"murderous\", \"deceit\", \"outcast\", \"scandalous\", \"vomit\", \"fragile\", \"pneumonia\", \"battered\", \"assault\", \"haste\", \"tackle\", \"advance\", \"suspect\", \"excite\", \"challenge\", \"fitting\", \"divorce\", \"slug\", \"content\", \"convince\", \"speed\", \"nails\", \"prince\", \"needed\", \"spitting\", \"female\", \"ole\", \"blanket\", \"constant\", \"lions\", \"roof\", \"salute\", \"mention\", \"faithful\", \"worthy\", \"killers\", \"signs\", \"represent\", \"bath\", \"believer\", \"expecting\", \"protected\", \"strangers\", \"sell\", \"crown\", \"drama\", \"watching\", \"sipping\", \"fits\", \"club\", \"beach\", \"committed\", \"opera\", \"hypocrite\", \"anxious\", \"eager\", \"disagree\", \"battery\", \"moral\", \"interior\", \"production\", \"horrible\", \"destroying\", \"murderous\", \"deceit\", \"outcast\", \"scandalous\", \"vomit\", \"fragile\", \"pneumonia\", \"battered\", \"assault\", \"haste\", \"tackle\", \"advance\", \"suspect\", \"stuck\", \"sunshine\", \"time\", \"day\", \"night\", \"taste\", \"good\", \"living\", \"life\", \"holding\", \"flow\", \"beautiful\", \"mall\", \"hand\", \"blow\", \"party\", \"crash\", \"shore\", \"ace\", \"stay\", \"waves\", \"mind\", \"sand\", \"hell\", \"kiss\", \"fighting\", \"revolution\", \"rain\", \"rainy\", \"fireworks\", \"sentence\", \"butterfly\", \"mighty\", \"virtue\", \"prison\", \"blows\", \"rights\", \"wind\", \"wishing\", \"remorse\", \"turn\", \"carry\", \"worn\", \"news\", \"chains\", \"criminal\", \"letting\", \"cried\", \"memories\", \"longing\", \"pan\", \"crying\", \"haunted\", \"weather\", \"flowing\", \"felt\", \"years\", \"stone\", \"battle\", \"turning\", \"distance\", \"walls\", \"tears\", \"strong\", \"face\", \"tracks\", \"plain\", \"committed\", \"opera\", \"hypocrite\", \"anxious\", \"eager\", \"disagree\", \"battery\", \"moral\", \"interior\", \"production\", \"horrible\", \"destroying\", \"murderous\", \"deceit\", \"outcast\", \"scandalous\", \"vomit\", \"fragile\", \"pneumonia\", \"battered\", \"assault\", \"haste\", \"tackle\", \"advance\", \"suspect\", \"excite\", \"challenge\", \"fitting\", \"smell\", \"chance\", \"train\", \"smoke\", \"coming\", \"bring\", \"meet\", \"station\", \"broken\", \"left\", \"flower\", \"tonight\", \"cost\", \"horizon\", \"leave\", \"gospel\", \"forest\", \"destination\", \"laugh\", \"troubles\", \"eating\", \"hearts\", \"forget\", \"sitting\", \"dawn\", \"walk\", \"begun\", \"moon\", \"middle\", \"rhythm\", \"crowded\", \"neon\", \"language\", \"constant\", \"prophet\", \"cities\", \"coward\", \"danger\", \"horrible\", \"city\", \"center\", \"famous\", \"prayer\", \"walk\", \"circles\", \"dare\", \"vibe\", \"street\", \"fashion\", \"finger\", \"woods\", \"streets\", \"disagree\", \"grass\", \"corner\", \"bars\", \"wear\", \"steps\", \"ahead\", \"cars\", \"feet\", \"strange\", \"hide\", \"stars\", \"wheels\", \"reckless\", \"glove\", \"applause\", \"disgrace\", \"protecting\", \"combat\", \"rotting\", \"murderous\", \"feel\", \"touching\", \"bruise\", \"body\", \"melt\", \"happen\", \"touch\", \"complete\", \"feeling\", \"kinds\", \"direction\", \"real\", \"searching\", \"safe\", \"explain\", \"journey\", \"sweating\", \"bodies\", \"inside\", \"heal\", \"violence\", \"recognize\", \"slow\", \"control\", \"close\", \"bit\", \"pain\", \"warm\", \"deal\", \"feels\", \"low\", \"scene\", \"place\", \"head\", \"baby\", \"ruff\", \"playground\", \"gospel\", \"oooh\", \"queens\", \"appetite\", \"automatic\", \"mamma\", \"rub\", \"message\", \"player\", \"sheets\", \"shorty\", \"shades\", \"closer\", \"ecstasy\", \"drive\", \"feat\", \"jelly\", \"coat\", \"grown\", \"destroy\", \"playa\", \"biggest\", \"ear\", \"struck\", \"spin\", \"skip\", \"quit\", \"secret\", \"making\", \"touch\", \"crazy\", \"rocking\", \"lose\", \"care\", \"feels\", \"mind\", \"talk\", \"choose\", \"taste\", \"pum\", \"babe\", \"tree\", \"rum\", \"lamb\", \"gifts\", \"finding\", \"cure\", \"change\", \"telephone\", \"smiled\", \"common\", \"honor\", \"sending\", \"finest\", \"gift\", \"cards\", \"drum\", \"laws\", \"title\", \"toilet\", \"months\", \"played\", \"fit\", \"missing\", \"bills\", \"birds\", \"poor\", \"bring\", \"tribe\", \"parking\", \"lay\", \"best\", \"play\", \"pain\", \"told\", \"time\", \"boy\", \"higher\", \"bow\", \"desire\", \"paradise\", \"ooo\", \"promised\", \"bon\", \"est\", \"regrets\", \"shiver\", \"pirate\", \"supposed\", \"early\", \"decision\", \"breath\", \"island\", \"pushing\", \"form\", \"advice\", \"motion\", \"question\", \"exist\", \"scene\", \"offer\", \"awful\", \"return\", \"nation\", \"suddenly\", \"sacrifice\", \"nice\", \"dreams\", \"kiss\", \"dogg\", \"ridiculous\", \"bangin\", \"sheep\", \"cable\", \"warn\", \"vampire\", \"joker\", \"revolver\", \"quest\", \"slut\", \"wicked\", \"exchange\", \"fucker\", \"sewer\", \"ghetto\", \"whack\", \"foul\", \"clown\", \"cock\", \"neighbor\", \"nuts\", \"drops\", \"fucking\", \"suck\", \"metal\", \"lean\", \"stuck\", \"stupid\", \"chicken\", \"eat\", \"fuck\", \"fucked\", \"admit\", \"record\", \"neck\", \"mother\", \"bitch\", \"motherfucker\", \"shit\", \"hate\", \"dead\", \"motherfucking\", \"face\", \"sadness\", \"choices\", \"reel\", \"bliss\", \"cursed\", \"childhood\", \"pouring\", \"finally\", \"legend\", \"youth\", \"kisses\", \"southern\", \"slide\", \"losing\", \"burning\", \"curse\", \"begging\", \"kiss\", \"hole\", \"fine\", \"settle\", \"wrong\", \"spider\", \"mind\", \"apologize\", \"boyfriend\", \"dumb\", \"sag\", \"deceased\", \"touched\", \"decide\", \"picked\", \"gold\", \"brown\", \"thought\", \"turning\", \"words\", \"time\", \"close\", \"song\", \"second\", \"sign\", \"thoughts\", \"turned\", \"eyes\", \"feeling\", \"learn\", \"point\", \"making\", \"soul\", \"knees\", \"glory\", \"jam\", \"drip\", \"story\", \"house\", \"crossed\", \"fancy\", \"trash\", \"ignorant\", \"rejoice\", \"sailor\", \"jumped\", \"razor\", \"plane\", \"build\", \"master\", \"pleasure\", \"fed\", \"drove\", \"silver\", \"threw\", \"flames\", \"answer\", \"children\", \"land\", \"committed\", \"opera\", \"hypocrite\", \"anxious\", \"eager\", \"hanging\", \"lion\", \"kill\", \"toy\", \"boy\", \"holy\", \"evil\", \"killa\", \"ships\", \"spirit\", \"solid\", \"foreign\", \"yay\", \"seal\", \"mail\", \"emergency\", \"badge\", \"pleased\", \"ultimate\", \"accident\", \"savage\", \"congregation\", \"worthy\", \"compass\", \"attitude\", \"witch\", \"wisdom\", \"softly\", \"wait\", \"bay\", \"proud\", \"lonesome\", \"worthless\", \"opened\", \"unable\", \"murder\", \"black\", \"master\", \"woman\", \"chill\", \"stuff\", \"charge\", \"card\", \"balls\", \"soldier\", \"gray\", \"spinning\", \"words\", \"taste\", \"bank\", \"tongue\", \"changes\", \"loser\", \"sinner\", \"coin\", \"ignore\", \"vow\", \"regret\", \"boulevard\", \"dragon\", \"pretending\", \"sadly\", \"badly\", \"velvet\", \"heartless\", \"closing\", \"miserable\", \"goodness\", \"honesty\", \"ruined\", \"inspired\", \"decisions\", \"prepared\", \"humble\", \"willing\", \"heartache\", \"expose\", \"tattoo\", \"tales\", \"lose\", \"cage\", \"wish\", \"believe\", \"life\", \"times\", \"hurt\", \"witness\", \"break\", \"meant\", \"share\", \"things\", \"reasons\", \"perfect\", \"pray\", \"breaking\", \"pain\", \"understand\", \"time\", \"loved\", \"step\", \"heart\", \"start\", \"guess\", \"thought\", \"choose\", \"hope\", \"reach\", \"face\", \"told\", \"left\", \"words\", \"eyes\", \"leave\", \"lost\", \"best\", \"mind\", \"stay\", \"live\", \"wrong\", \"change\", \"hard\", \"love\", \"feel\", \"honey\", \"monster\", \"panic\", \"mellow\", \"border\", \"gentleman\", \"waiting\", \"successful\", \"crazy\", \"mash\", \"foolish\", \"building\", \"voices\", \"surprise\", \"alarm\", \"great\", \"buy\", \"treat\", \"fright\", \"suddenly\", \"waist\", \"invitation\", \"smash\", \"thief\", \"breaks\", \"trembling\", \"fruit\", \"things\", \"flash\", \"filled\", \"joy\", \"kind\", \"moving\", \"table\", \"face\", \"shining\", \"bells\", \"snow\", \"horse\", \"boogie\", \"jokes\", \"jingle\", \"sleigh\", \"ding\", \"matters\", \"spirits\", \"magical\", \"lift\", \"noble\", \"sunny\", \"cheer\", \"smiles\", \"ring\", \"fellas\", \"jar\", \"broke\", \"laughing\", \"tail\", \"pilot\", \"fields\", \"open\", \"read\", \"signs\", \"ringing\", \"asleep\", \"letter\", \"fun\", \"ride\", \"bright\", \"funny\", \"sing\", \"smile\", \"lot\", \"water\", \"river\", \"louder\", \"lone\", \"mile\", \"serial\", \"disgusting\", \"slaughter\", \"deeper\", \"crippled\", \"wilderness\", \"horror\", \"painful\", \"lake\", \"deceit\", \"sleeve\", \"army\", \"blood\", \"screams\", \"roar\", \"babies\", \"shotgun\", \"send\", \"guilty\", \"floating\", \"flows\", \"prayed\", \"brain\", \"jaws\", \"south\", \"watched\", \"children\", \"hand\", \"mouth\", \"ocean\", \"pocket\", \"walked\", \"dry\", \"skin\", \"mountains\", \"bleeding\", \"dead\", \"breathe\", \"shots\", \"friend\", \"eyes\", \"looked\", \"blowing\", \"mental\", \"pon\", \"handsome\", \"sixteen\", \"afternoon\", \"gorgeous\", \"tan\", \"salt\", \"mask\", \"blooded\", \"jerk\", \"rang\", \"wing\", \"insecure\", \"mobile\", \"wizard\", \"spike\", \"saloon\", \"prick\", \"assault\", \"married\", \"husband\", \"worked\", \"van\", \"driving\", \"built\", \"man\", \"john\", \"honest\", \"eyed\", \"son\", \"women\", \"wife\", \"judge\", \"hung\", \"bless\", \"tall\", \"company\", \"woman\", \"understand\", \"cost\", \"damn\", \"grown\", \"drinking\", \"plan\", \"men\", \"hand\", \"number\", \"young\", \"family\", \"left\", \"time\", \"times\", \"years\", \"mother\", \"friend\", \"father\", \"child\", \"lot\", \"called\", \"good\", \"told\", \"freezer\", \"committed\", \"opera\", \"hypocrite\", \"anxious\", \"eager\", \"disagree\", \"battery\", \"moral\", \"interior\", \"production\", \"horrible\", \"destroying\", \"murderous\", \"deceit\", \"outcast\", \"scandalous\", \"vomit\", \"fragile\", \"pneumonia\", \"battered\", \"assault\", \"haste\", \"tackle\", \"advance\", \"suspect\", \"excite\", \"challenge\", \"fitting\", \"divorce\", \"babe\", \"room\", \"angry\", \"man\", \"party\", \"young\", \"stay\", \"place\", \"hands\", \"love\", \"likes\", \"heart\", \"proud\", \"deceased\", \"blanket\", \"change\", \"scars\", \"class\", \"wrong\", \"plans\", \"listen\", \"bend\", \"lost\", \"care\", \"head\", \"crawl\", \"wall\", \"feed\", \"mind\", \"happy\", \"party\", \"birthday\", \"lovers\", \"naughty\", \"celebrate\", \"celebration\", \"joyful\", \"lonely\", \"wash\", \"wave\", \"washed\", \"embrace\", \"falls\", \"year\", \"swing\", \"separate\", \"boring\", \"blow\", \"protected\", \"wasting\", \"bubble\", \"prowl\", \"started\", \"lives\", \"wound\", \"cake\", \"reality\", \"wealth\", \"believer\", \"set\", \"strong\", \"night\", \"song\", \"live\", \"long\", \"boom\", \"health\", \"psycho\", \"smooth\", \"changing\", \"careful\", \"sink\", \"quarter\", \"lawyer\", \"important\", \"creation\", \"puff\", \"deuce\", \"leader\", \"matching\", \"wreck\", \"blink\", \"mall\", \"weird\", \"shock\", \"dropping\", \"plate\", \"socks\", \"poke\", \"armor\", \"crap\", \"sour\", \"toast\", \"cement\", \"greasy\", \"headed\", \"sue\", \"kid\", \"bath\", \"money\", \"fist\", \"mad\", \"private\", \"bother\", \"box\", \"drugs\", \"bills\", \"heavy\", \"clothes\", \"friends\", \"state\", \"bar\", \"stay\", \"pay\", \"weekend\", \"pick\", \"grab\", \"bit\", \"kick\", \"cash\", \"hair\", \"head\", \"face\", \"making\", \"working\", \"fast\", \"play\", \"man\", \"good\", \"street\", \"mother\", \"coming\", \"hate\", \"car\", \"bad\", \"day\", \"big\", \"real\", \"hit\", \"lady\", \"funky\", \"knee\", \"crawling\", \"dey\", \"lawn\", \"garden\", \"romance\", \"spiritual\", \"gypsy\", \"alley\", \"bark\", \"gambling\", \"ribbon\", \"argument\", \"forgiving\", \"glow\", \"coffee\", \"gay\", \"loves\", \"wounded\", \"dog\", \"beware\", \"ended\", \"scare\", \"revenge\", \"queen\", \"threat\", \"fixed\", \"morgue\", \"crave\", \"bite\", \"remember\", \"pretty\", \"ate\", \"hair\", \"asked\", \"kill\", \"wondering\", \"dawn\", \"till\", \"bus\", \"door\", \"window\", \"bed\", \"told\", \"called\", \"jail\", \"room\", \"playing\", \"met\", \"looked\", \"guy\", \"bye\", \"bum\", \"silence\", \"waking\", \"summertime\", \"someday\", \"hot\", \"kissing\", \"shattered\", \"talk\", \"unknown\", \"leather\", \"degrees\", \"blanket\", \"moment\", \"guy\", \"climb\", \"thumping\", \"heat\", \"bands\", \"candle\", \"fool\", \"pumping\", \"grey\", \"type\", \"stare\", \"code\", \"sunny\", \"cowboy\", \"hungry\", \"kisses\", \"knowing\", \"cool\", \"simple\", \"eye\", \"hold\", \"wish\", \"dancing\", \"day\"], \"Total\": [12272.0, 6583.0, 4028.0, 3383.0, 3749.0, 4658.0, 4631.0, 2129.0, 3693.0, 3596.0, 1984.0, 3028.0, 6001.0, 1895.0, 2051.0, 1578.0, 2029.0, 1777.0, 1520.0, 1451.0, 1392.0, 1771.0, 2203.0, 1548.0, 1375.0, 1536.0, 2572.0, 1118.0, 1210.0, 1031.0, 75.82298291379905, 156.92380299709365, 533.2689140041916, 21.380807709611993, 19.692616941633865, 19.12389986609724, 33.35311734251184, 51.7496048933329, 349.84440058136784, 90.71112956141272, 58.66723416102647, 1228.2005081969437, 171.69751556351102, 39.312638706457186, 47.44135489644347, 144.6532806313191, 63.037816161929776, 605.4163606758591, 40.06653922050126, 40.98953776890983, 91.63386662527016, 746.9857763237374, 443.7761931767157, 23.74978726859386, 99.85724958285019, 59.861361346249, 73.4784911989379, 32.376344019865, 3028.503519826822, 18.551726375575065, 634.3640527439333, 457.92725169535873, 373.1777441350036, 579.3987995442553, 652.1736800467596, 347.90309013470306, 1949.3653646268808, 459.67959946291853, 273.3654468002089, 1047.6713938258183, 906.4746195061604, 469.3965149920177, 126.65311693062215, 129.47051000564502, 169.9124401061699, 732.3557491880107, 1230.6359773501167, 869.403917885322, 2051.590469195878, 3637.9264152203828, 713.2146282314499, 614.5099603268604, 120.43722196202589, 41.68332120803792, 41.620961791196414, 27.719192642287567, 16.035927210728527, 15.242516590751094, 12.943187832594704, 167.67900898099467, 30.264069016871666, 578.776916288545, 193.8685879098033, 48.67488040122528, 48.6133701137128, 19.393038895876806, 118.74193715105845, 31.960167844611046, 157.09452802639643, 16.679861786768875, 85.29854527602386, 99.49681583621978, 106.1764428920095, 95.45814355439387, 210.55789139193553, 63.56441672089334, 37.023518432365144, 200.45922743314165, 133.16094009312656, 47.9045121065707, 347.90309013470306, 81.37529802735651, 129.68628722761994, 605.4163606758591, 301.54022314632437, 67.67359192099029, 60.23616348741106, 54.72197593723353, 54.18195602944133, 54.15532937612205, 40.122479261556535, 49.04638085403785, 21.540970982666703, 18.124827548703593, 70.25687979982743, 16.863553819333262, 15.423111440038117, 15.17570977556957, 13.817501699602438, 29.27862279909217, 10.829935424979608, 86.75837738322215, 326.316496767295, 148.83288141061556, 290.498831750292, 84.54131325106525, 18.729777034729373, 16.843236767793826, 17.993105469263995, 22.15203345828394, 72.2332695975763, 53.46424770609328, 97.6994321157368, 61.72672168580961, 116.39074968856805, 663.0098279054876, 88.62173574367883, 403.51813384366545, 147.22858947942768, 50.87201809713719, 195.0078760703653, 205.598927966596, 1170.0622665944054, 129.46434578013864, 110.51730545878576, 158.19426155502003, 398.9567106798463, 1370.3231513552098, 1246.7897047725437, 288.19211342914895, 2572.062345340919, 180.91566387283058, 225.56509099207875, 244.282659161761, 133.62631402340287, 948.8261579882196, 295.3372316102789, 1449.280287929176, 6001.180585218738, 409.5924901496557, 1065.290927546718, 220.28468102210513, 640.5410792501267, 10.251859675859558, 10.303533133056822, 10.377218899120422, 10.38836854359124, 10.466644507335815, 10.485772403480043, 10.622317020543704, 10.791360955218279, 10.829935424979608, 10.836189827517293, 10.868418141429991, 10.931360456592872, 10.995711435374371, 11.01968900472389, 11.372203241823508, 11.443460321181274, 11.560288147357912, 11.638274157219634, 11.686452581136745, 11.862012300575511, 11.910786253336376, 11.925928452058708, 11.943631890747675, 11.970537692586102, 12.076490252367137, 12.106441511361268, 12.11909937790943, 12.139053781417893, 12.255831771404967, 12.29182529902841, 12272.099927432791, 3637.9264152203828, 1346.3465173205532, 38.94532083336769, 44.279447841069896, 3028.503519826822, 906.4746195061604, 107.00525401918848, 1726.0954726452603, 3749.5784273864742, 45.754704795767054, 822.1706199747257, 504.73397037866516, 1047.6713938258183, 71.87612314557983, 1659.9357283265551, 87.69501958004089, 1278.0585203844207, 450.24846510116447, 815.3664579630431, 114.71458635750967, 1536.7281447514335, 96.15994138855999, 50.556000288979526, 47.45909478894436, 181.2690987748538, 704.4051148782246, 815.7220454295455, 3596.8456191606583, 834.5412912780527, 1031.1019027124519, 343.37386186210836, 338.25890523669705, 151.53801338024073, 83.17943443367652, 63.967345160752124, 42.512388406201985, 60.34301417788047, 54.496772456927054, 125.95775292219115, 47.9045121065707, 52.23449253818996, 13.538088822142079, 261.61669756866394, 26.065670018189945, 178.6628993182729, 887.3102870895455, 58.79739335703531, 20.675134924371292, 30.680554787626427, 33.11470430950272, 221.21634848070224, 216.49027884443913, 166.28286651951115, 90.98812026341544, 48.555183446445845, 294.46709562353396, 137.08134539713282, 86.77241291368101, 36.10169967376736, 114.8453279908922, 474.0389509487471, 739.9982964084998, 1949.3653646268808, 710.8121012282141, 280.9973388357054, 83.86955446276933, 74.50591525197478, 64.61608787537682, 53.0261406791728, 52.499089106733365, 51.86642317899174, 40.76577132157875, 35.0811088711433, 20.21087052535345, 30.06060565951578, 15.282188964718724, 241.7020051565399, 330.88596869941307, 24.66689537516043, 971.699429579695, 56.833460968249696, 114.11908143531993, 52.98029881945833, 20.646272141508323, 39.87589109650938, 15.85775381190024, 46.065575951230215, 161.37816292792053, 86.77241291368101, 2203.856134744334, 51.591985895125035, 85.89907096938157, 30.083113980753012, 1448.9025449133164, 1477.5484536184442, 502.674004836344, 123.7510206101633, 141.7418835247072, 527.5983725523822, 123.43176183931118, 68.3740786407577, 1201.2388505175686, 412.938312712633, 190.9475997041319, 1049.349637169047, 145.460207568123, 207.09556802040376, 574.9422528271888, 216.03843806663323, 6001.180585218738, 997.0480239825539, 445.78674414757216, 579.9182598713026, 1949.3653646268808, 251.94331918531492, 711.3946730649644, 3596.8456191606583, 625.712794758668, 1118.8535609903897, 136.62499173022437, 69.80136361881951, 66.99135302654022, 890.2288228455791, 640.5410792501267, 127.30987026137281, 104.5127591116237, 576.706748120154, 84.88501608017393, 26.5361379877593, 65.45074412269781, 209.07713503844923, 87.22576645085023, 48.27075248881071, 32.376344019865, 126.28069784708191, 278.2323243152346, 131.5811344832475, 99.59133601691087, 64.03592477620681, 35.756844851272504, 136.95252058826003, 128.16601080667286, 46.95921839723201, 98.02353154697093, 126.09811123430772, 151.50336203091538, 78.68886171863808, 174.4170553476857, 1163.5619689152313, 3596.8456191606583, 1700.3409329108827, 6001.180585218738, 2020.6217638052544, 409.5924901496557, 815.7220454295455, 815.3664579630431, 1189.084453675513, 1402.0835257837953, 175.7824651381478, 159.74015386639414, 106.19553985399142, 99.6902224018218, 91.47437494584484, 56.40840997260749, 55.37881548728534, 44.28103982578641, 18.27878735188979, 56.91108903142798, 73.1100347075235, 14.17684660580053, 13.766895254468585, 73.09397711134199, 1578.36911351908, 104.85026704971673, 132.60644667705748, 98.26578101554279, 20.675134924371292, 159.76804571655603, 77.08654097059333, 529.2095523113403, 61.42564830449295, 36.880543870484686, 466.908625921997, 32.57056319979881, 24.099330371946706, 12.076490252367137, 59.97314588832621, 144.33564807379798, 251.7629754945783, 71.87618516341102, 459.67959946291853, 366.3322832648489, 941.7457286676507, 3637.9264152203828, 589.2444003694304, 199.9730769665933, 693.0349274852093, 65.9928489000889, 3383.431117686354, 235.43951119017422, 76.47345220626724, 52.92748493455398, 101.6540153364524, 390.2558193913498, 10.791360955218279, 57.82217539130662, 58.994552166713596, 50.556000288979526, 133.62631402340287, 92.6066360380318, 79.61310767739312, 55.56537361169338, 56.53508536624849, 59.98700802138049, 231.84553302868179, 52.657260250840906, 555.8728627173487, 141.54060196326978, 39.401493532300826, 586.1199765726933, 1170.0622665944054, 39.037701590794775, 282.2234842451943, 154.5018525412523, 619.5645848672679, 6001.180585218738, 164.6130858063468, 170.3108107343171, 112.97461200959434, 101.28923538113094, 91.77552270157989, 89.26503257763392, 87.2663836116439, 52.616210294836705, 57.73900228274365, 486.72689978357823, 181.08262696930635, 137.97016383153297, 67.61452100008714, 120.64498938723611, 111.41205150880685, 638.7036005915114, 1448.9025449133164, 203.2620246873201, 10.251859675859558, 10.303533133056822, 10.377218899120422, 10.38836854359124, 10.466644507335815, 10.485772403480043, 10.622317020543704, 10.791360955218279, 10.829935424979608, 10.836189827517293, 10.868418141429991, 10.931360456592872, 10.995711435374371, 555.8728627173487, 3383.431117686354, 637.172276202258, 87.56413788284738, 98.26578101554279, 1777.2740131508795, 69.54589767601941, 52.00809594290045, 45.00077620746694, 78.97941050266651, 1029.8434105118101, 136.29763951376802, 890.2288228455791, 87.66616824784798, 86.93379365595496, 59.37212169549752, 57.40434934362478, 51.89113482351948, 26.349234070229627, 80.03551139311507, 71.58506193086018, 1210.5097592509871, 67.47052394410878, 622.6110315771184, 76.72396345783818, 268.40658439888824, 135.15079609652474, 342.0136466133913, 164.6775866494049, 11.925928452058708, 19.496260707464103, 64.62384024752905, 507.42695806702113, 589.2444003694304, 45.34517274949653, 439.5594885200981, 65.33396779762747, 514.0682946170182, 172.69957622360997, 143.24611795702256, 73.91913029025743, 87.41017753445294, 46.741557743715624, 54.24589334764215, 227.99095990357313, 732.3557491880107, 631.2957125160589, 965.7266081268193, 466.908625921997, 1567.229434991056, 636.4559384138272, 206.40602556919674, 159.71878697262557, 118.24408968981878, 81.99084882249177, 69.25564626028742, 45.5600766739039, 21.548185375986527, 14.297936633713094, 548.239133634165, 10.251859675859558, 10.303533133056822, 10.377218899120422, 10.38836854359124, 10.466644507335815, 10.485772403480043, 10.622317020543704, 10.791360955218279, 10.829935424979608, 10.836189827517293, 10.868418141429991, 10.931360456592872, 10.995711435374371, 11.01968900472389, 11.372203241823508, 11.443460321181274, 11.560288147357912, 11.638274157219634, 11.686452581136745, 11.862012300575511, 11.910786253336376, 87.41017753445294, 599.5833579984459, 710.8121012282141, 775.3931147903122, 81.97758962008997, 890.2288228455791, 62.72923105076831, 1031.1019027124519, 402.3895524527972, 555.8728627173487, 704.4051148782246, 556.8385738915258, 77.0018951826431, 90.98812026341544, 510.878958804878, 3383.431117686354, 1771.8667336804963, 574.9422528271888, 238.5357636129651, 1201.2388505175686, 183.29459609668277, 261.90979894573627, 1984.1760285319824, 90.06196594664422, 74.51406936277793, 71.65534649716606, 71.59760953405531, 62.586676869264245, 52.99411551606416, 37.261711689904494, 27.88350974689961, 26.498902031989413, 16.879250018749, 14.38072648956139, 53.81084059535052, 16.542063696790294, 375.3646793488284, 14.961511537192699, 89.31561616078484, 88.9164733781171, 409.75584091194264, 24.620319570638422, 234.80029143913538, 30.541994279625207, 560.7519828814267, 547.9955187737972, 106.392469777177, 997.0480239825539, 22.31754028026567, 67.48651881602875, 163.21020932585583, 144.6532806313191, 1189.084453675513, 637.7600629422337, 583.6574464065864, 1659.9357283265551, 579.9182598713026, 123.7510206101633, 263.2837986257305, 162.86346636965828, 134.90552004803413, 109.88679462149622, 63.735513678749676, 62.38329636014632, 115.67215268251299, 60.41785471252789, 56.47751088542167, 47.6757566658982, 42.3212920227886, 33.61484938817171, 33.27029484270667, 56.843692865051096, 22.764055660085546, 31.131922200641736, 50.56170597292699, 29.762553744691672, 65.46894777189866, 13.01937232268001, 83.39632464884981, 115.09937556938642, 457.92725169535873, 53.50531435085948, 61.720556015638465, 199.59717897945637, 193.70145005648848, 170.98546642005832, 200.45922743314165, 936.200186747339, 207.97906754515287, 134.96750504717315, 132.2337545812822, 144.84454004333287, 107.86479158641392, 41.26844603490875, 35.9313822828533, 514.7490716743127, 19.49528008459816, 267.1648497386921, 135.6625663007113, 66.59295627392316, 88.2538967856123, 104.9610951143724, 926.8814761656723, 792.5019741148244, 25.867491504209355, 112.77977283834299, 50.32979432917843, 39.32312751032291, 15.595556333268398, 244.4340836328257, 631.81192483288, 20.295522347570788, 62.53102023667323, 156.6495659807001, 132.65679677970425, 21.525730960219292, 53.50531435085948, 42.67685105000623, 50.58512134252794, 140.2900937629969, 317.16501596240556, 331.0632248189337, 1726.0954726452603, 457.67650295340076, 312.02003689785005, 131.5975764982564, 118.45119079367912, 87.69501958004089, 219.82214843394775, 56.863859990379204, 56.092265203007265, 46.27596180961823, 39.99245458729805, 39.64393261471043, 36.42871023290224, 28.850015901281584, 19.40614458056752, 160.20723902686524, 51.02216510644349, 122.63755749322897, 92.70078016839159, 34.601560153796726, 47.45909478894436, 53.47229427751248, 53.23875196046412, 43.566952788904295, 144.36562167311357, 23.30987131821761, 53.979135886078325, 427.1652437750041, 187.04282455268012, 322.4194059028614, 371.80978745478427, 62.18388794629204, 117.28524946187243, 1201.2388505175686, 836.3622076367325, 703.2316647758216, 215.04972368757097, 210.8861050308708, 152.15944140182478, 82.34775294815584, 61.02716333205108, 59.478035177924994, 113.52342643412416, 66.183164078216, 161.97513964168428, 49.51422862916749, 43.580406124517296, 448.25385373076386, 66.63636747390028, 35.80273902216004, 71.60412841279657, 21.671255395877765, 90.71211277096366, 29.368349995037136, 56.447234824304886, 828.1581058080869, 58.08391754592171, 102.72151973639362, 10.836189827517293, 100.83094297203884, 34.186930510806995, 117.36085052005453, 72.16135947467171, 151.55864558038556, 22.234349392181798, 129.13207182243414, 48.971534114023406, 84.88501608017393, 100.07203538861665, 836.3622076367325, 775.3931147903122, 158.58707271846438, 111.62946417944816, 102.35476600520559, 94.13903024847693, 87.8159665001162, 82.42889446879153, 45.42152456073022, 29.260135263738338, 82.32043065619008, 10.251859675859558, 10.303533133056822, 10.377218899120422, 10.38836854359124, 10.466644507335815, 10.485772403480043, 10.622317020543704, 10.791360955218279, 10.829935424979608, 10.836189827517293, 10.868418141429991, 10.931360456592872, 10.995711435374371, 11.01968900472389, 11.372203241823508, 11.443460321181274, 11.560288147357912, 11.638274157219634, 11.686452581136745, 11.862012300575511, 11.910786253336376, 267.9939138808679, 146.49220027810085, 35.41197855343366, 124.5415449351317, 2020.6217638052544, 908.1658698778798, 245.78964535750242, 788.2000652607472, 193.70145005648848, 25.220445102583305, 70.86537323211124, 199.64476297765498, 29.49218722659761, 6001.180585218738, 19.12389986609724, 441.9601370150464, 1114.8101126723866, 3693.6106207846556, 53.15351698175114, 107.26646823326546, 51.044231013320754, 556.7898855974107, 276.82456311267686, 172.14077117522163, 132.88897981357061, 112.78740636886424, 407.20105480654513, 78.87235124962942, 71.93636359983637, 55.721691081052725, 52.01260442761282, 50.229059677761974, 49.346473544887125, 29.154612065717203, 57.195109295489935, 103.66672796100119, 60.65041450370524, 63.425659242402595, 257.47848945424863, 254.51412879851148, 42.67685105000623, 56.192045241932085, 474.0389509487471, 30.208984048559564, 51.73095465552114, 129.68628722761994, 226.74184909603306, 226.96382969360144, 50.819948180316686, 263.61232333797096, 94.30990446547503, 523.7919455085492, 754.4991776839338, 876.4170545947999, 732.3557491880107, 164.26748942657326, 2051.590469195878, 212.5849437986187, 186.99950663093108, 183.29459609668277, 157.07969860901395, 102.93260520774263, 81.91752302501669, 255.00896811782397, 63.387608566226696, 45.50722471518343, 45.487098755532536, 42.47911237808718, 38.86651826393884, 39.581156554999694, 188.55000276567432, 643.0335191878655, 58.78465234622938, 155.95165673777012, 196.87277763444848, 123.29550992629916, 36.413243786396535, 207.59672996412007, 39.16270045146588, 68.70886233266135, 117.28524946187243, 43.79146134880711, 199.59717897945637, 54.24589334764215, 85.1730751971819, 226.8804130032618, 157.3011266389252, 531.9154469303705, 946.2030912127306, 276.7304998451244, 133.23619889307955, 102.17866558099792, 95.46016751953232, 91.547310916904, 68.24508279784469, 63.160691046959045, 55.67953076116787, 46.39907288786157, 45.621147204739934, 14.796075787186773, 128.9832197875262, 17.790511897422487, 392.6089669342939, 216.91134966617636, 586.1199765726933, 281.7455808665577, 828.1581058080869, 321.5635847986745, 10.251859675859558, 10.303533133056822, 10.377218899120422, 10.38836854359124, 10.466644507335815, 10.485772403480043, 10.622317020543704, 10.791360955218279, 10.829935424979608, 10.836189827517293, 10.868418141429991, 50.24776547234071, 42.83172681365585, 589.7500108849518, 1513.3781301234615, 2051.590469195878, 122.54556596373791, 2203.856134744334, 1984.1760285319824, 6583.455030020405, 87.8159665001162, 201.87243632855774, 1520.7190195465134, 120.6835440972986, 485.68276628752574, 64.27395553283706, 25.875375151160167, 23.54941950241759, 23.405228263567, 12.746973287169082, 19.021675568272638, 273.01453357109665, 118.96896259839501, 154.12976507347906, 71.3532196046446, 225.07470829666138, 41.20731725668477, 46.46534505882272, 14.607120918911514, 909.1775590470311, 106.45870659808332, 147.3872487001485, 192.66879131916195, 1449.280287929176, 70.19290434916476, 111.84755343420434, 49.46599083309484, 83.39632464884981, 58.79739335703531, 215.3141203206198, 346.73856193943396, 618.4608169651, 638.7036005915114, 215.06672941779416, 317.0556535325352, 159.02946644384795, 350.3920712784093, 231.48533398119315, 99.23009744948868, 1163.5619689152313, 1201.2388505175686, 4658.256935631074, 422.6200697222384, 1067.8552357288902, 212.5839896952015, 130.88845121533538, 129.8576048803981, 103.68201387216052, 35.60194052983949, 29.658418033295607, 18.64187454153844, 753.3686392884923, 728.619521640764, 36.131112481603594, 39.02995320494892, 496.5067358039437, 82.9304537744182, 97.74377854646654, 65.75452345296362, 57.14866717724894, 76.53657443921364, 14.131791837780185, 148.02233464971346, 119.43138959689985, 157.04513147642461, 81.81489366415546, 82.70305808087596, 664.6581710321526, 155.57479449456463, 96.60950525240368, 170.463306248353, 131.3069756552626, 1049.349637169047, 378.62205504408377, 599.5833579984459, 248.73726656139416, 732.3744189469477, 516.4184283230552, 56.05329690593213, 124.8148372259184, 34.64708889643466, 137.7952886451747, 35.95879992988556, 14.244071351153465, 12.939824550810211, 26.211367612676835, 85.73806614462715, 35.05732668052756, 46.74762076886406, 88.63881156626444, 50.556000288979526, 296.3552612938086, 143.526485068417, 69.09358591724961, 1726.0954726452603, 887.491559583226, 226.09817551368553, 1278.0585203844207, 157.3011266389252, 453.32724608096925, 35.88815821161584, 100.90438747068775, 948.8261579882196, 63.1974045609076, 30.88227749032747, 761.6821609454367, 246.5970550872938, 133.52907553914704, 583.9880621193083, 746.9857763237374, 291.82307563151716, 111.39536774925877, 260.717084499988, 401.9529862179718, 1477.5484536184442, 533.0302227193357, 1659.9357283265551, 6001.180585218738, 84.21516688583016, 57.617072776909794, 57.14726105689364, 38.75450065100642, 35.843044923005785, 1009.766902842293, 26.308841086365696, 44.06731885268574, 19.330974415694424, 90.0167911729706, 17.348053582191902, 16.987300534093603, 13.315347064317654, 60.530223598391785, 49.63250963036625, 10.38836854359124, 71.12114844655876, 56.02406272922352, 77.0018951826431, 83.5360980860637, 30.66537308512922, 56.84041743650255, 14.148111013184758, 133.66084040663733, 504.73397037866516, 79.1748690521796, 55.06403491640086, 55.560345261433326, 79.46933943272994, 16.072496680066777, 146.94776019447056, 416.689957518737, 472.98223397825296, 599.5833579984459, 291.56608727109017, 158.6536969233628, 300.18374565331817, 908.1658698778798, 453.4237593576224, 112.39079256701318, 412.26385204947746, 807.863867703226, 1149.8633614896773, 531.9154469303705, 107.00525401918848, 727.6048211236872, 387.5120608627331, 388.8260462655116, 3637.9264152203828, 1047.6713938258183, 141.62301447124636, 450.24846510116447, 163.15961477816012, 126.91685499895817, 110.15961698010793, 71.85480667795447, 61.68464719352254, 56.180337376558725, 46.762773563992994, 231.84553302868179, 17.248487997480105, 113.216300498228, 13.607000062793169, 116.2026271982606, 84.7039972525102, 119.31127094877966, 49.76727964948111, 18.68732251701271, 2051.590469195878, 296.69327659004733, 52.45142661003916, 467.1374890936522, 66.20434816225541, 54.52551979587406, 62.8062720353705, 304.810926231016, 249.13417187766854, 22.742038486561164, 167.742834086389, 118.91571511712786, 75.8129252886672, 238.59063560189438, 943.6496139740439, 324.86747208534405, 732.3557491880107, 295.8104136219249, 122.59217694818491, 159.0846477921328, 388.3051929083854, 372.13251141347973, 510.878958804878, 631.2957125160589, 879.6544372876705, 590.0644872403883, 54.08596336270256, 50.018708212993715, 45.45966685427106, 117.05638216778775, 24.257425361246003, 22.437470725230483, 18.546874900069916, 15.004912383868904, 14.305831964491517, 140.54132131905428, 373.996663779796, 27.44940664055471, 81.10476276841078, 243.25355863932688, 102.32976608194124, 59.31548749640356, 115.41570664940055, 1163.5619689152313, 11.970537692586102, 29.49218722659761, 90.06395641854184, 14.047822727735536, 51.409237428538155, 625.712794758668, 56.53508536624849, 62.23849307434983, 21.525730960219292, 563.8669670012985, 249.69373576042415, 1567.229434991056, 2020.6217638052544, 561.3724695642943, 344.20783434893167, 467.0411742010933, 216.91134966617636, 227.4885874480719, 80.3875794455829, 459.5339022161605, 535.4777864522306, 243.46355026775382, 607.0513483786004, 128.16601080667286, 185.22185923696904, 943.9504901832321, 822.1706199747257, 754.4991776839338, 586.1199765726933, 142.01655423608375, 83.63513893818025, 76.69075311179428, 63.20954853994253, 60.249458906869414, 60.33319330056859, 434.00191463325115, 48.198655573229345, 47.005515007203996, 46.59593404915241, 40.607968583864434, 39.66805126546584, 38.96363474883408, 50.83480046768138, 35.55640039429267, 34.55209154492839, 29.343340416303516, 27.10249371685065, 24.386924080888548, 22.642884231139824, 18.587565434942178, 16.562372422685065, 16.193760200924356, 15.299360492839513, 14.996617260751764, 15.618377855492504, 12.818591564948905, 48.388406034941546, 11.638274157219634, 13.265669276070275, 410.6618693480988, 39.508141767845544, 175.334967844841, 157.2779660559281, 89.56952962702421, 538.7460966164031, 71.36139354588715, 637.7600629422337, 63.854769226446436, 611.3764897670482, 139.4771925909144, 67.1336747455113, 113.9646192196527, 402.3895524527972, 190.739942579888, 74.04526196055615, 316.27357450316475, 602.1207500453651, 560.2125662874869, 121.30118792897778, 222.24486830265363, 131.3069756552626, 133.73728140316496, 257.5675104991517, 1278.0585203844207, 242.0859364614456, 197.03738881811296, 261.89057876006945, 869.3683776551916, 547.9955187737972, 1513.3781301234615, 1189.084453675513, 560.7519828814267, 1566.3708527363335, 627.9004431419421, 754.4991776839338, 548.239133634165, 412.26385204947746, 836.3622076367325, 1163.5619689152313, 984.6452138574246, 1451.5045671660114, 56.897631761729954, 43.10432439670052, 119.1520784496503, 56.11141233218007, 1117.8593679306312, 1029.8434105118101, 30.9487629831689, 69.63689128470877, 381.2916567645096, 664.6581710321526, 45.880908083314885, 69.33402451747884, 111.39536774925877, 324.7657755597119, 1149.8633614896773, 237.90032291685378, 28.754300594836522, 805.4091710910242, 45.11205400770227, 87.56413788284738, 234.80029143913538, 55.56507559225588, 28.277860545472677, 85.51731178570287, 81.44048927866916, 276.3459047441734, 62.72023163280278, 76.65868110880956, 92.6066360380318, 535.4777864522306, 943.9504901832321, 154.4644391816746, 1477.5484536184442, 1971.2756099002704, 1233.8958787884148, 733.0278273607236, 1448.9025449133164, 12272.099927432791, 44.122290252315835, 60.69080495094965, 64.6675021990465, 56.47168057542542, 71.87618516341102, 25.288294035800195, 143.24611795702256, 22.39739727919122, 76.80416647946613, 432.2850775172285, 29.943384662223163, 144.072080057253, 98.50232234017244, 807.863867703226, 69.33965018774765, 65.88702094407438, 321.5635847986745, 28.916362328448606, 350.3920712784093, 43.51910724158929, 191.81166036770168, 47.53475325764277, 197.4874628323205, 40.21705966906556, 47.44135489644347, 55.602996741916314, 43.566952788904295, 555.8728627173487, 129.1711933610087, 255.26489973067925, 304.72297209346596, 707.5317524196387, 710.8121012282141, 3028.503519826822, 535.4777864522306, 329.0023105185369, 2203.856134744334, 6001.180585218738, 772.8690726780854, 1700.3409329108827, 281.9839463631444, 1513.3781301234615, 324.21000542777614, 503.56127920043645, 3637.9264152203828, 887.491559583226, 3693.6106207846556, 1949.3653646268808, 343.366825444597, 169.56299132024418, 110.53659145827285, 57.65335126223673, 49.23311905526011, 46.621764389245584, 44.79958703947796, 44.51151502890443, 37.624140250514905, 35.664674606130944, 34.02959541133777, 30.453495714952236, 19.64804408796652, 16.844523266137912, 258.61459240034543, 210.54233264476363, 21.266814952484495, 1392.8567160238442, 98.71703798167265, 1091.2949102947496, 33.732997745253556, 81.02922427068428, 36.56032320753374, 40.06653922050126, 75.92410697283742, 255.26489973067925, 178.36990599458403, 55.602996741916314, 154.12976507347906, 406.81248698593737, 629.6846023228342, 162.40637488210567, 125.30134235396234, 72.49458492565084, 55.60184339257808, 47.0816094700304, 946.2030912127306, 64.50281316135684, 16.56606725598696, 121.70228158178904, 76.65868110880956, 876.4170545947999, 102.46373344952676, 3693.6106207846556, 97.38413858773657, 324.90171198273237, 65.45107270228453, 58.50762834170205, 74.11089199333746, 586.1199765726933, 62.04486038840931, 20.139578442846325, 943.9504901832321, 64.95627226824169, 25.708327981177387, 64.54959272223003, 59.787208172387544, 1049.349637169047, 115.09937556938642, 22.39739727919122, 198.19198768980385, 560.9102974114924, 1402.0835257837953, 6001.180585218738, 607.0513483786004, 177.50584099742895, 1189.084453675513, 342.0136466133913, 1513.3781301234615, 739.9982964084998, 216.49027884443913, 2051.590469195878, 2203.856134744334, 1659.9357283265551, 1230.6359773501167, 1392.8567160238442, 3637.9264152203828, 4028.883688496077, 1777.2740131508795, 66.58756697625763, 187.03185303219456, 16.998855252001142, 44.22299033539716, 17.083528968112347, 15.858486655489385, 147.009128203284, 26.94367624308477, 186.0284808735773, 131.63035908796618, 154.4644391816746, 12.076490252367137, 275.7381691142687, 101.14814774710659, 30.541994279625207, 255.26489973067925, 44.8549836206333, 153.13906672111912, 450.4894175270099, 78.38859157712216, 72.35351962830758, 114.830945429814, 388.3051929083854, 55.688254119533454, 108.81664997349124, 216.91134966617636, 126.56343098087815, 78.92196555214585, 540.0108735304466, 185.22185923696904, 360.18877134627985, 190.92927896535656, 1402.0835257837953, 742.2011578449548, 526.4460081822257, 527.8793389387073, 314.1945994996242, 1230.6359773501167, 329.0023105185369, 285.4458423783634, 1163.5619689152313, 3596.8456191606583, 1170.0622665944054, 618.4608169651, 1207.8447126061662, 869.403917885322, 289.29656173766824, 218.69031452333206, 171.42427732552468, 93.52650962742364, 54.63593595523197, 50.42745598984305, 35.24692310489739, 165.72768331332767, 25.641609065993798, 23.303329883745196, 22.356438352676697, 226.13647783492166, 892.823948942196, 42.43069453678402, 228.80923709729205, 40.42070873005096, 157.95341439021817, 79.33834937870223, 176.99185364083112, 49.16136716790204, 19.891180612459095, 79.24428565256459, 429.03984579003674, 76.79182725734954, 37.74572001235104, 26.561415288019013, 112.62241808261152, 58.29576749504344, 83.4229011597997, 78.68451705245762, 556.8385738915258, 167.88067703133234, 971.699429579695, 517.3054301953188, 3637.9264152203828, 122.15567774234763, 629.6846023228342, 507.42695806702113, 625.712794758668, 556.1258078485095, 583.8910125329332, 146.5237952226944, 137.12989348412182, 78.63308313420956, 60.19015979715661, 57.98865335094297, 42.40188878967468, 10.931360456592872, 368.29877647475763, 38.02199977133327, 727.347852050711, 20.93566214701465, 589.0764231850353, 175.7010890498992, 148.2996159934008, 269.738413222731, 90.70610775396942, 136.0116418841024, 318.8188862357613, 91.09224803640477, 88.44091815704301, 58.96136271987574, 30.77209904109441, 87.3806716947822, 281.1571982599239, 48.27075248881071, 98.02595576215192, 15.653532865433622, 106.81331088894844, 170.7925081975842, 223.73289839571405, 273.01453357109665, 129.13207182243414, 887.491559583226, 317.9588884976911, 1726.0954726452603, 152.25136435582417, 134.73258216021824, 89.76186654951997, 76.97035850340907, 67.88447943157477, 61.33635533068619, 48.95115284449012, 42.73105823778748, 31.840194224005934, 200.04613942955595, 23.64648079664386, 21.115822568495922, 20.544277727518423, 19.978171578855854, 63.708275049778635, 13.398272956267348, 13.285606415672401, 12.292530620231638, 406.81248698593737, 14.398561152277447, 54.22574147258842, 1566.3708527363335, 41.23806458518279, 83.80558896233865, 3596.8456191606583, 105.64731329204552, 14.04491036072847, 50.31185280159274, 47.53475325764277, 170.68855893334455, 739.9982964084998, 135.42392642813869, 238.5357636129651, 273.73835012043105, 134.89868335108736, 412.938312712633, 788.2000652607472, 84.94902783475808, 295.74334904379896, 245.78964535750242, 267.56324568080805, 241.83717360049556, 484.8966976794327, 295.3372316102789, 634.3640527439333, 836.3622076367325, 815.7220454295455, 1445.6215866970044, 295.1791497722153, 1189.084453675513, 908.1658698778798, 618.4608169651, 6001.180585218738, 53.15351698175114, 50.64554750167679, 50.08717360031205, 45.04118741871585, 45.51981216062876, 21.2870711783891, 19.51173193091792, 16.98505695609087, 16.883199682998093, 12.11909937790943, 1203.6425988127742, 17.941590599932795, 104.01944413059535, 41.77898648876925, 879.6544372876705, 144.36250041055735, 42.1061474821872, 1346.3465173205532, 177.87300947932917, 76.59868057855624, 20.205215195291466, 1114.8101126723866, 218.39813418387607, 92.74252545178274, 47.77948278587827, 182.27964728666655, 15.728328818442398, 44.0420434140823, 41.01145468657304, 152.16401337973605, 629.6846023228342, 579.9182598713026, 170.74521443314745, 197.4874628323205, 710.8121012282141, 146.29922535368934, 348.93251545624815, 385.1393634875053, 354.3284220001224, 198.19198768980385, 92.6066360380318, 340.7771046785982, 184.24458955246232, 555.8728627173487, 583.6574464065864, 6001.180585218738, 240.10249072467448, 2020.6217638052544, 3637.9264152203828, 1726.0954726452603, 4631.107089959584, 710.5303514345869, 567.8373661224988, 261.9627586532961, 218.80580458096503, 275.859576767593, 125.58541618188802, 101.2851295606079, 87.98667319875581, 83.32231523198571, 352.72128396722024, 73.1694511804594, 68.32632411912695, 67.72346045353287, 65.87341310270777, 65.48984564843971, 64.16747234350318, 63.077911116750236, 62.51765781209111, 61.09789767637144, 54.83939327742536, 53.924640840886234, 49.27250151983319, 47.61872721735405, 47.51993799676456, 46.77162512517963, 46.5884340312038, 46.161207378873684, 46.154074778029326, 64.9184824321937, 161.2672828809397, 340.7780620675975, 1774.2129434747465, 129.80614314085162, 474.93847098933156, 89.52880717323245, 2572.062345340919, 117.23783912388778, 486.72689978357823, 114.8453279908922, 186.47020661083454, 2029.9752720327483, 315.2412042018725, 1246.7897047725437, 118.33755439204994, 328.56663775901006, 211.75191400569543, 158.4925095967593, 207.68935019012238, 1091.2949102947496, 280.77275839235574, 362.0354862630207, 445.78674414757216, 742.2011578449548, 1700.3409329108827, 457.67650295340076, 1375.6095287635892, 1370.3231513552098, 631.81192483288, 631.2957125160589, 503.56127920043645, 2272.6597339632613, 948.8261579882196, 4658.256935631074, 1449.280287929176, 592.3580983165057, 230.14399062234494, 181.87401807889128, 112.57215015922561, 110.42081587755551, 78.97941050266651, 77.77108535404761, 70.66425161559955, 62.239294471697754, 40.774464828736676, 81.14954055798991, 143.89377384247595, 15.915692566139578, 14.474882832831883, 14.352299018984409, 12.481057663058717, 265.0386836652989, 127.84624509149013, 16.8532888417211, 41.347694444988505, 51.793434485572654, 161.99488492476289, 97.36468431348426, 29.97861829730986, 34.891811987355254, 68.06221126972571, 465.49959369929, 47.35067652525095, 37.56406999023941, 28.43927160262632, 79.42052184583363, 81.08479616417871, 287.77629591860267, 55.271709233004024, 58.94946733653764, 186.33992432179934, 74.54690038310787, 273.33302890898017, 457.67650295340076, 239.2390242306372, 1189.084453675513, 114.54037870141308, 125.42855461287452, 255.76993810467775, 401.39528120683957, 201.64088543041402, 643.0335191878655, 441.9601370150464, 157.1742725836674, 125.05275600276812, 64.15303196885846, 2129.598597531691, 15.037569136428411, 133.73199263120702, 81.53935679401151, 936.200186747339, 201.87243632855774, 350.2083395356868, 398.20882734794884, 204.3340358740117, 128.5990898840902, 53.0787970352095, 164.6130858063468, 36.10169967376736, 72.35351962830758, 230.27585265736923, 83.30829307281273, 11.686452581136745, 71.1123913890287, 61.01780404501563, 68.52336465484055, 387.5120608627331, 272.35793677883356, 118.97164752687182, 61.36349419761903, 69.09358591724961, 107.60433332017571, 251.7629754945783, 119.43138959689985, 295.1791497722153, 273.73835012043105, 244.282659161761, 1210.5097592509871, 943.6496139740439, 523.7919455085492, 1513.3781301234615, 262.33798050645004, 90.96906667674331, 35.042998856033684, 31.8471489250311, 56.502435026124175, 50.71228898444721, 13.092457083270842, 12.59980534456696, 59.29723177450839, 294.5385356670289, 123.05321389609206, 72.22373650601655, 97.14492893564324, 47.02624673145824, 47.921614055834624, 85.63670657888024, 44.167014112051746, 123.86185122477625, 1087.9415289885674, 155.13263770368053, 55.637399449152284, 55.05973713927192, 378.62205504408377, 358.7688277353234, 112.02706218367287, 203.2620246873201, 73.31464741605281, 519.0515230020851, 275.31990722867204, 197.16177540404797, 1370.3231513552098, 636.4559384138272, 140.6149129222978, 278.56610795068565, 398.20882734794884, 74.8624498494902, 663.0098279054876, 815.3664579630431, 629.6846023228342, 6001.180585218738, 10.251859675859558, 10.303533133056822, 10.377218899120422, 10.38836854359124, 10.466644507335815, 10.485772403480043, 10.622317020543704, 10.791360955218279, 10.829935424979608, 10.836189827517293, 10.868418141429991, 10.931360456592872, 10.995711435374371, 11.01968900472389, 11.372203241823508, 11.443460321181274, 11.560288147357912, 11.638274157219634, 11.686452581136745, 11.862012300575511, 11.910786253336376, 11.925928452058708, 11.943631890747675, 11.970537692586102, 12.076490252367137, 12.106441511361268, 12.11909937790943, 12.139053781417893, 12.255831771404967, 12.29182529902841, 58.016879437288615, 31.036874030182773, 81.83997991056074, 69.90019110719935, 64.4780592279801, 59.98700802138049, 328.56663775901006, 21.360387737194884, 41.99967863653722, 294.46709562353396, 526.4460081822257, 80.4905024325323, 56.11141233218007, 64.18779817044003, 156.6495659807001, 14.098250325190662, 134.90552004803413, 86.73123055602748, 113.15575386720184, 17.421934180843206, 178.18796461485167, 32.74463901115781, 83.5360980860637, 170.72550374995373, 14.398561152277447, 295.3372316102789, 70.73310792557541, 114.76082150992673, 251.5431318404595, 250.5409114616262, 889.9961245757864, 123.6343156333182, 111.67869513094918, 110.86756865873639, 68.7561647922786, 61.06094188842725, 54.83735853741962, 46.51978400706431, 40.81885586202146, 36.90039147829644, 31.608018131610542, 22.31992096769144, 17.2859808326943, 63.67329409862313, 44.32226093045705, 34.7852145815678, 304.8347710873754, 135.60663980131963, 121.56183273298487, 11.686452581136745, 1548.2963081363314, 21.24756641144812, 38.90378347338967, 41.4690487891544, 15.259429711384461, 145.99331242417435, 56.610477558407084, 366.3322832648489, 257.8042714497802, 372.3757990457795, 92.75156504244163, 484.8966976794327, 108.84358614114812, 250.51207519984635, 1179.5436714291382, 72.82481055450715, 197.65213806649882, 1230.6359773501167, 707.5317524196387, 661.3790403437138, 347.90309013470306, 618.4608169651, 2203.856134744334, 154.5018525412523, 63.70350370707908, 53.81349465856389, 188.88443595154197, 12.836699467192627, 10.251859675859558, 10.303533133056822, 10.377218899120422, 10.38836854359124, 10.466644507335815, 10.485772403480043, 10.622317020543704, 10.791360955218279, 10.829935424979608, 10.836189827517293, 10.868418141429991, 10.931360456592872, 10.995711435374371, 11.01968900472389, 11.372203241823508, 11.443460321181274, 11.560288147357912, 11.638274157219634, 11.686452581136745, 11.862012300575511, 11.910786253336376, 11.925928452058708, 11.943631890747675, 11.970537692586102, 12.076490252367137, 12.106441511361268, 49.46119415644161, 79.71875360453784, 86.27276293662023, 126.58921022226771, 154.4644391816746, 358.7688277353234, 66.06324485027118, 43.5179244596462, 117.71453230455795, 118.71428957595603, 92.41137332941081, 18.372800203580365, 219.8914426980241, 180.91566387283058, 560.9102974114924, 272.94740258610125, 112.77977283834299, 140.54132131905428, 122.00351794677574, 314.1945994996242, 398.9567106798463, 86.42511484832801, 41.88842766608881, 188.55000276567432, 207.59672996412007, 439.32203627952725, 272.821890934587, 52.66796044015065, 10.251859675859558, 10.303533133056822, 10.377218899120422, 10.38836854359124, 10.466644507335815, 10.485772403480043, 10.622317020543704, 10.791360955218279, 10.829935424979608, 10.836189827517293, 10.868418141429991, 10.931360456592872, 10.995711435374371, 11.01968900472389, 11.372203241823508, 11.443460321181274, 11.560288147357912, 11.638274157219634, 11.686452581136745, 11.862012300575511, 11.910786253336376, 11.925928452058708, 11.943631890747675, 11.970537692586102, 12.076490252367137, 12.106441511361268, 12.11909937790943, 12.139053781417893, 710.5303514345869, 461.5905688578705, 4631.107089959584, 41.5458422907362, 288.19211342914895, 114.830945429814, 362.0354862630207, 2572.062345340919, 1774.2129434747465, 517.3054301953188, 286.560505753945, 1375.6095287635892, 257.8042714497802, 567.8373661224988, 64.9184824321937, 2029.9752720327483, 576.6788998660119, 539.9182534875187, 87.7463175201722, 148.83288141061556, 41.61071715527002, 226.8804130032618, 888.8267746002177, 1513.3781301234615, 148.2996159934008, 101.7087189117841, 459.5339022161605, 251.7629754945783, 107.0826231806114, 75.45381936338129, 65.04230980210072, 1106.5964802957064, 46.72173513474862, 44.16393075729284, 38.05891536022407, 34.98213961102331, 26.280776274609845, 21.365942967362148, 667.7841456409556, 47.46212460869265, 1895.2864640823977, 436.17600609899466, 31.036874030182773, 48.57837919061584, 197.43325597477613, 10.791360955218279, 54.24589334764215, 69.04412018149992, 76.24650480049226, 1771.8667336804963, 67.92979502032078, 47.98544983970959, 117.41672904171307, 113.3865148797337, 353.0600235108485, 53.2820543126776, 142.9139605628825, 129.46434578013864, 286.560505753945, 815.3664579630431, 798.5733156634584, 203.6413624380595, 348.93251545624815, 6001.180585218738, 10.251859675859558, 10.303533133056822, 10.377218899120422, 10.38836854359124, 10.466644507335815, 10.485772403480043, 10.622317020543704, 10.791360955218279, 10.829935424979608, 10.836189827517293, 10.868418141429991, 10.931360456592872, 10.995711435374371, 11.01968900472389, 11.372203241823508, 11.443460321181274, 11.560288147357912, 11.638274157219634, 11.686452581136745, 11.862012300575511, 11.910786253336376, 11.925928452058708, 11.943631890747675, 11.970537692586102, 12.076490252367137, 12.106441511361268, 12.11909937790943, 12.139053781417893, 12.255831771404967, 12.29182529902841, 154.84782507635478, 533.0302227193357, 216.9474694370104, 841.7481928431537, 444.01047195749123, 711.3946730649644, 114.73811174016221, 150.75513644714107, 6001.180585218738, 1520.7190195465134, 304.72297209346596, 443.636451656272, 195.95019663889462, 394.24179281602034, 459.67959946291853, 46.34702018006145, 160.20723902686524, 3637.9264152203828, 1726.0954726452603, 296.3552612938086, 109.55152294451436, 330.88596869941307, 3693.6106207846556, 92.53540824019773, 53.50531435085948, 3596.8456191606583, 63.62482142536514, 204.1377628558792, 317.0556535325352, 822.1706199747257, 42.130568146727846, 10.251859675859558, 10.303533133056822, 10.377218899120422, 10.38836854359124, 10.466644507335815, 10.485772403480043, 10.622317020543704, 10.791360955218279, 10.829935424979608, 10.836189827517293, 10.868418141429991, 10.931360456592872, 10.995711435374371, 11.01968900472389, 11.372203241823508, 11.443460321181274, 11.560288147357912, 11.638274157219634, 11.686452581136745, 11.862012300575511, 11.910786253336376, 11.925928452058708, 11.943631890747675, 11.970537692586102, 12.076490252367137, 12.106441511361268, 12.11909937790943, 12.139053781417893, 12.255831771404967, 23.12041932441895, 14.38072648956139, 14.398561152277447, 142.01655423608375, 53.67606902719599, 56.192045241932085, 197.4874628323205, 55.224397224596075, 44.37356373262288, 42.47911237808718, 30.117264646570575, 24.888094327398694, 53.0261406791728, 133.16094009312656, 21.18276414890964, 53.191717010653235, 29.943384662223163, 31.157121092953773, 51.58733745097997, 96.15994138855999, 56.61891155130019, 42.79035329381284, 63.67329409862313, 16.56606725598696, 20.915404474281075, 71.87612314557983, 206.5692025938385, 84.88501608017393, 150.64229886239698, 337.1502068703532, 123.57924432136373, 33.78035066277919, 576.6788998660119, 96.60950525240368, 10.251859675859558, 10.303533133056822, 10.377218899120422, 10.38836854359124, 10.466644507335815, 10.485772403480043, 10.622317020543704, 10.791360955218279, 10.829935424979608, 10.836189827517293, 10.868418141429991, 10.931360456592872, 10.995711435374371, 11.01968900472389, 11.372203241823508, 11.443460321181274, 11.560288147357912, 11.638274157219634, 11.686452581136745, 11.862012300575511, 11.910786253336376, 11.925928452058708, 11.943631890747675, 11.970537692586102, 12.076490252367137, 272.94740258610125, 132.2337545812822, 6001.180585218738, 3693.6106207846556, 3596.8456191606583, 317.16501596240556, 3383.431117686354, 1346.3465173205532, 3637.9264152203828, 346.73856193943396, 457.67650295340076, 590.0644872403883, 99.17308114796798, 1179.5436714291382, 631.2957125160589, 888.8267746002177, 135.6625663007113, 76.79182725734954, 59.37212169549752, 1230.6359773501167, 75.93346463618269, 1971.2756099002704, 155.57479449456463, 792.5019741148244, 707.5317524196387, 281.53621720285713, 113.44322889220783, 834.5412912780527, 51.66630024809484, 44.08869767273434, 32.74463901115781, 44.48927929784775, 218.93162045893413, 16.731641601102773, 125.8384406462791, 83.28536510349407, 56.54119896803383, 574.9422528271888, 131.263736616946, 27.717762194324965, 1536.7281447514335, 218.31550261304605, 31.001484744295006, 271.2487416492499, 182.6398265373005, 50.218663966898774, 138.22514952835283, 174.60811467479303, 113.52886450926378, 27.859970046360694, 43.9192265797799, 314.81377355175334, 12.68964349487614, 137.505462966745, 60.17445084801284, 374.040793709787, 589.7500108849518, 242.0859364614456, 147.25884999407896, 246.45620163875992, 134.64353447740876, 197.65442897540316, 579.3987995442553, 535.4777864522306, 1513.3781301234615, 116.69062707526153, 104.21429562499989, 10.251859675859558, 10.303533133056822, 10.377218899120422, 10.38836854359124, 10.466644507335815, 10.485772403480043, 10.622317020543704, 10.791360955218279, 10.829935424979608, 10.836189827517293, 10.868418141429991, 10.931360456592872, 10.995711435374371, 11.01968900472389, 11.372203241823508, 11.443460321181274, 11.560288147357912, 11.638274157219634, 11.686452581136745, 11.862012300575511, 11.910786253336376, 11.925928452058708, 11.943631890747675, 11.970537692586102, 12.076490252367137, 12.106441511361268, 12.11909937790943, 12.139053781417893, 187.04282455268012, 589.0764231850353, 312.02003689785005, 445.78674414757216, 1448.9025449133164, 836.3622076367325, 427.1652437750041, 118.45119079367912, 457.92725169535873, 1201.2388505175686, 47.45909478894436, 1777.2740131508795, 137.92726605926254, 30.06060565951578, 1402.0835257837953, 15.187281778253578, 60.249458906869414, 28.850015901281584, 255.76993810467775, 54.08596336270256, 84.72974644501537, 324.7657755597119, 563.8669670012985, 372.13251141347973, 207.09556802040376, 1207.8447126061662, 84.94902783475808, 412.938312712633, 374.367332758046, 364.01614195553134, 47.557495691202426, 45.183215424565624, 38.13860326803619, 24.888094327398694, 24.355927656296164, 38.963495732969925, 18.48930915495304, 117.3060221262089, 10.868418141429991, 819.184597206629, 59.670774271400724, 94.97085985406994, 119.02250597824928, 1207.8447126061662, 65.45074412269781, 118.77276893170637, 67.58539995450506, 742.2033565430144, 69.92561413795517, 195.39299059172436, 47.751711091642136, 547.2813470205923, 10.485772403480043, 135.29893497905246, 278.2323243152346, 101.7087189117841, 286.8657366312116, 77.90510591926757, 230.27585265736923, 215.07119926087657, 629.6846023228342, 193.57976510179753, 388.8260462655116, 459.67959946291853, 106.99962247505727, 74.8412539406581, 47.4429015401398, 34.8274406349731, 28.05378537500004, 14.440328686802712, 14.430369600472849, 13.349334368095313, 10.995711435374371, 3749.5784273864742, 76.43132282526314, 13.663110457854827, 1086.4441167319233, 69.41118631598673, 227.93568103480834, 772.8690726780854, 58.40618913772578, 1233.8958787884148, 34.54717771657002, 82.6531059017953, 1700.3409329108827, 150.13216783868484, 181.04461874984597, 137.08134539713282, 49.16136716790204, 59.71008151231562, 138.70663726781734, 1047.6713938258183, 106.73309853707542, 57.94242244988422, 87.4023095742756, 560.9102974114924, 472.98223397825296, 661.3790403437138, 469.3965149920177, 906.4746195061604, 204.3340358740117, 235.07497301692513, 390.2558193913498, 602.1207500453651, 250.06960924711632, 1189.084453675513, 2020.6217638052544, 6583.455030020405, 82.71927391539153, 17.69203372769907, 15.187281778253578, 91.86709670459489, 62.740249243706565, 47.94024003337559, 68.63062617194943, 34.68499027802304, 74.24301327276291, 143.7073118678138, 164.45818904833686, 90.1951718159016, 75.57071371544203, 42.61514519890961, 164.6130858063468, 50.20259688508421, 340.7771046785982, 26.48380720856647, 35.63473333290844, 91.68869659464187, 178.54569849351623, 46.41918989530824, 92.1413774621771, 64.62384024752905, 143.3987524834944, 48.93368723708227, 127.30987026137281, 52.23449253818996, 130.84850368418915, 178.6628993182729, 815.7220454295455, 772.8690726780854, 867.9197627009701, 268.40658439888824, 704.4051148782246, 887.491559583226, 390.2558193913498, 1971.2756099002704, 1298.7379078432637, 174.40175746228124, 317.16501596240556, 731.1852271031293, 500.4657844866651, 267.9939138808679, 229.25922190258785, 112.91643259413402, 47.602757680793495, 60.54238879633906, 107.45316140046846, 1087.4498944443783, 82.78033169275417, 71.84316595897546, 62.79169707124789, 73.7975758839657, 83.25474482888526, 52.241095424311354, 87.73846915655963, 99.59133601691087, 210.54233264476363, 55.17707961181224, 13.280999865592193, 24.263814223283703, 65.99905968208894, 249.69373576042415, 147.03845068347619, 211.78781910266977, 118.40718998153672, 140.6149129222978, 244.4340836328257, 836.3622076367325, 19.721928902193035, 64.95267283330317, 560.7519828814267, 1170.0622665944054, 1392.8567160238442, 906.4746195061604, 965.7266081268193, 6001.180585218738, 1984.1760285319824, 320.10022620254716, 294.54397253518084, 211.71810288881102, 175.524933689771, 114.73811174016221, 92.60190509918598, 58.68336788558473, 52.70966806578989, 47.497866087390975, 12.29182529902841, 22.666528689624464, 221.46320543311498, 188.37611845596487, 53.341075995656766, 358.47958111878467, 71.88382772142101, 73.00898476110572, 72.84930386249852, 43.89922303166058, 85.73806614462715, 127.73759086180351, 46.79532404174297, 250.06960924711632, 61.42564830449295, 40.14218378383482, 99.61780913810875, 92.74252545178274, 75.64717657074702, 48.56616121257513, 398.20882734794884, 599.5833579984459, 707.5317524196387, 77.8799883573411, 62.32168450234391, 55.456789574116975, 43.361740170687256, 41.42860056423234, 41.1237661195633, 34.40786323568999, 30.874658014589183, 28.75268941163786, 18.864635438529792, 18.079638504674534, 213.93905371477422, 14.226369214685995, 74.25539350865367, 18.162133030303107, 236.58690366989617, 61.796769418703775, 48.72802596952889, 155.9426409347145, 91.1892664977354, 37.51349666976552, 187.77880450120102, 63.98721474312162, 1375.6095287635892, 154.8487249421453, 90.4210241554821, 160.02593545636844, 272.94740258610125, 195.95019663889462, 142.28172915584716, 459.20147355873513, 2029.9752720327483, 243.5778012815294, 108.47292135607336, 160.2052181889069, 301.5092851083987, 1567.229434991056, 1774.2129434747465, 280.77275839235574, 2572.062345340919, 805.4091710910242, 1114.8101126723866, 315.2412042018725, 1513.3781301234615, 78.38272548210998, 43.99066100170672, 40.516672470365606, 35.73462910850427, 35.33360780519959, 34.47160287975732, 121.83690337910632, 286.5433963025165, 76.83202666430209, 68.71857573379097, 106.53065991804063, 58.93621707746827, 168.6492008430059, 225.7415634545696, 467.69709905809697, 96.58524576834175, 92.06370242683828, 707.5317524196387, 261.7592340101578, 527.8793389387073, 74.75049014250699, 1027.2507584716502, 16.105468759147374, 1971.2756099002704, 40.788788712702214, 84.30580208245809, 212.99775225907595, 19.97890637696092, 14.131791837780185, 100.91378532552692, 68.14177841965294, 107.26646823326546, 443.636451656272, 182.07096760413216, 941.7457286676507, 246.45620163875992, 624.4649144720576, 6001.180585218738, 661.3790403437138, 943.9504901832321, 277.3070450218613, 231.48533398119315, 168.23813514425268, 416.363498835019, 1949.3653646268808, 1233.8958787884148, 350.3920712784093, 301.05078609310635, 815.7220454295455, 1149.8633614896773, 294.46709562353396, 295.9706701954923, 152.5168714833717, 65.59740905570999, 409.86663052049033, 863.1501478113282, 51.40477384700475, 59.98700802138049, 83.30826879648312, 16.122000715647683, 14.5532866710724, 62.18388794629204, 71.58012949680624, 33.56642263095275, 140.99121593303767, 159.76804571655603, 143.85346178497403, 135.60663980131963, 82.32043065619008, 64.09328574353647, 129.59082551059322, 115.83589361714373, 91.55361077050365, 201.87243632855774, 343.1055400363574, 547.9955187737972, 10.251859675859558, 10.303533133056822, 10.377218899120422, 10.38836854359124, 10.466644507335815, 221.21634848070224, 32.41955589106697, 627.9004431419421, 53.81084059535052, 1984.1760285319824, 235.39378317138474, 174.80738663285692, 78.75256227349311, 74.72596411017751, 145.2525543891053, 64.18779817044003, 55.32419651833763, 47.75621119144946, 42.95237286385903, 71.20030156081755, 31.278350019613967, 23.341598492488757, 22.56678821423669, 21.083433985128792, 18.771038251065274, 20.93920834834437, 13.201365954462402, 31.157121092953773, 12.448087257616995, 138.1190387856927, 15.552871425963547, 44.3778572470624, 68.03339694263389, 798.5733156634584, 80.22810768359422, 164.23032738067914, 18.23385451323435, 18.514637225952384, 122.73395863016731, 17.18420792376024, 251.5431318404595, 984.6452138574246, 143.85346178497403, 639.6178533036336, 162.01677828932048, 178.57935387059715, 96.81921564191073, 113.05610330203994, 111.04180065050603, 122.54556596373791, 65.63650574685536, 155.72374130981837, 624.4649144720576, 317.16501596240556, 114.25207423152786, 172.2218129056009, 85.98379997135402, 71.1539266728934, 69.79399636342806, 54.93271040841866, 44.862824396574794, 44.36770099083091, 98.66717440965427, 40.673481895700895, 29.28309782516817, 66.59906942503365, 23.692871980098943, 21.734294324275726, 22.582916652589446, 20.50094374839926, 40.79847284934547, 14.65572614376988, 20.90673096320042, 12.983887041649481, 12.689797292872429, 12.679501617213791, 47.860309665088046, 35.69310230315375, 34.45598742413454, 52.19563452854068, 29.09139457209816, 19.75971090509125, 55.10346501178715, 46.54378263734031, 704.4051148782246, 72.80806812159678, 822.1706199747257, 1445.6215866970044, 3637.9264152203828, 775.3931147903122, 560.2723175226912, 117.01586157069441, 1065.290927546718, 208.20473760552835, 170.72550374995373, 1659.9357283265551, 71.35668232576947, 329.0023105185369, 312.8697584932729, 251.94331918531492, 906.4746195061604, 619.5645848672679, 6001.180585218738, 321.5635847986745, 439.32203627952725, 3028.503519826822, 869.403917885322, 526.4460081822257, 941.7457286676507, 174.40175746228124, 788.2000652607472, 299.2234594736589, 1513.3781301234615, 965.7266081268193, 1201.2388505175686, 624.4649144720576, 1949.3653646268808, 1402.0835257837953, 997.0480239825539, 1170.0622665944054, 1971.2756099002704, 1230.6359773501167, 1726.0954726452603, 1027.2507584716502, 1087.4498944443783, 1771.8667336804963, 12272.099927432791, 3749.5784273864742, 510.32133103694264, 176.09460680714955, 70.81603738676272, 56.74758759903637, 41.5458422907362, 26.723333979768874, 799.513932620037, 12.464732729957301, 867.9197627009701, 77.53471583766246, 73.31042087391442, 130.5721310693611, 158.37123819962912, 109.31816574395845, 18.66571672774201, 393.68087956716016, 461.5905688578705, 244.23745431909984, 26.561415288019013, 75.64717657074702, 82.70305808087596, 13.853243873663224, 58.32348598501025, 39.944780761597066, 102.92314282776783, 29.49218722659761, 28.277860545472677, 1659.9357283265551, 88.10910294086712, 151.78266273079876, 201.64088543041402, 555.8728627173487, 436.17600609899466, 128.0423498574377, 1513.3781301234615, 273.73835012043105, 263.57616287841023, 260.0030173856209, 182.31301177914767, 141.66731867919006, 133.31623711260755, 99.52328170234544, 88.35574185222939, 85.73105080937957, 59.790871960896155, 55.34624661967389, 17.611106461927786, 108.6781422106541, 14.242108161953249, 36.40250809812088, 36.84929980588858, 54.58622012117085, 510.878958804878, 76.8832374218542, 43.433110985032584, 539.9182534875187, 182.1746299791272, 66.90788631428248, 41.141007472734046, 66.92472042898505, 637.172276202258, 304.92920743015225, 96.15994138855999, 64.95627226824169, 126.35062583955302, 117.41672904171307, 622.6110315771184, 1087.9415289885674, 347.90309013470306, 250.5409114616262, 946.2030912127306, 586.1199765726933, 710.8121012282141, 523.5438681029846, 345.09139401494747, 131.35114035625244, 57.21542747407131, 111.41205150880685, 41.81363192080174, 35.557276656515576, 31.98903763129267, 128.66775340421086, 17.549217621056087, 16.580669161088817, 15.95225661781352, 29.058177065694274, 55.34811193530985, 11.01968900472389, 37.64934288312214, 93.97729887534322, 869.3683776551916, 42.21625828169324, 56.875837368587085, 109.39458687401564, 72.55109224384849, 324.79362233934904, 106.9008161202581, 62.03117876601638, 92.53540824019773, 46.95921839723201, 377.5237726768695, 19.364037775838423, 152.14954421485044, 92.91765468526789, 343.1055400363574, 1179.5436714291382, 505.96675204025826, 146.49220027810085, 185.67013289641395, 281.7455808665577, 190.9475997041319, 350.2083395356868, 117.13478133038645, 87.32411452137772, 1114.8101126723866, 192.6213430322694, 195.8328384997717, 761.6821609454367, 1949.3653646268808, 320.64228878439053, 187.87188464149446, 157.90448358942197, 103.33858578303334, 75.72927596467639, 64.14821086712051, 62.46911935896114, 61.93550888538533, 57.96900323153961, 57.60014373197742, 56.46415716162532, 51.952851733434635, 39.54454484638956, 39.222146342132284, 32.2067970695352, 23.67075134782403, 18.596397687808114, 17.42476543198701, 16.09632376132593, 14.098250325190662, 13.834489583571191, 11.910786253336376, 115.1194624247734, 43.648049957026466, 101.54178811437168, 44.51123951382539, 243.38180550196515, 117.33335140040313, 4658.256935631074, 35.41197855343366, 91.63251984479206, 108.82943565780369, 555.8277806918815, 317.9588884976911, 291.65916573462516, 103.94802998741864, 95.0322907514205, 109.11776249558906, 219.8914426980241, 74.2220753389759, 639.6178533036336, 619.5645848672679, 137.92726605926254, 742.2011578449548, 178.54569849351623, 170.98546642005832, 199.64476297765498, 548.239133634165, 1179.5436714291382, 388.3051929083854, 828.1581058080869, 354.3284220001224, 1201.2388505175686, 6001.180585218738, 775.3931147903122, 589.7500108849518, 1567.229434991056, 761.6821609454367, 1210.5097592509871, 443.7761931767157, 710.8121012282141, 353.62945309009893, 3383.431117686354, 965.7266081268193, 64.78543480342498, 10.251859675859558, 10.303533133056822, 10.377218899120422, 10.38836854359124, 10.466644507335815, 10.485772403480043, 10.622317020543704, 10.791360955218279, 10.829935424979608, 10.836189827517293, 10.868418141429991, 10.931360456592872, 10.995711435374371, 11.01968900472389, 11.372203241823508, 11.443460321181274, 11.560288147357912, 11.638274157219634, 11.686452581136745, 11.862012300575511, 11.910786253336376, 11.925928452058708, 11.943631890747675, 11.970537692586102, 12.076490252367137, 12.106441511361268, 12.11909937790943, 12.139053781417893, 12.255831771404967, 500.4657844866651, 638.7036005915114, 66.183164078216, 4658.256935631074, 888.8267746002177, 828.1581058080869, 1230.6359773501167, 1189.084453675513, 1163.5619689152313, 12272.099927432791, 152.15944140182478, 3028.503519826822, 164.23032738067914, 14.131791837780185, 30.117264646570575, 1087.4498944443783, 61.02716333205108, 158.30421988128018, 1027.2507584716502, 129.70079919208985, 523.7919455085492, 90.71211277096366, 997.0480239825539, 887.491559583226, 2020.6217638052544, 73.09397711134199, 448.25385373076386, 157.82831399686893, 1971.2756099002704, 841.7481928431537, 888.8267746002177, 216.9474694370104, 126.45140060545542, 47.96911568140167, 63.62482142536514, 29.982150328324597, 14.853870274917266, 578.575817710188, 113.37710210618526, 143.64928510803293, 56.37174343486813, 76.80416647946613, 147.79522119906528, 394.24179281602034, 155.04899739496554, 45.07745995461167, 35.80273902216004, 631.2957125160589, 20.915404474281075, 55.56507559225588, 70.26594473756717, 16.998855252001142, 411.68488668298454, 412.26385204947746, 63.037816161929776, 97.75120456221552, 104.40728021419535, 46.18986956858854, 63.67329409862313, 531.9154469303705, 535.4777864522306, 3596.8456191606583, 943.9504901832321, 1726.0954726452603, 2203.856134744334, 389.46018912858653, 152.1727549114198, 148.40384180613026, 106.317638678542, 93.43796043991071, 89.44596468634448, 84.47867281393478, 69.54589767601941, 57.91516281237776, 50.9969631832719, 48.878276512540126, 48.292104925768484, 48.09365214213552, 45.03053088246561, 41.5007336085989, 60.67724544319095, 36.37236187069194, 99.17308114796798, 28.933548159168545, 64.45197855428651, 111.06748817867415, 80.4905024325323, 59.660584152269195, 24.10732927464369, 22.41446629207981, 22.318382054737047, 21.572643213582722, 96.36471707271448, 19.862603709263894, 19.40295000707877, 131.25188365371994, 50.68675602280171, 409.67082312713313, 42.79035329381284, 2272.6597339632613, 118.6150777067371, 523.7393279564227, 91.4190475420511, 126.45417128686037, 223.9002751906689, 183.1478921562191, 118.40718998153672, 221.32018959507658, 282.2234842451943, 733.0278273607236, 210.1929398891524, 227.99095990357313, 1230.6359773501167, 727.6048211236872, 141.54060196326978, 314.1945994996242, 203.6413624380595, 469.3965149920177, 331.0632248189337, 259.1510867317029, 547.9171430046516, 2020.6217638052544, 1513.3781301234615, 815.7220454295455, 348.93251545624815, 514.0682946170182, 1392.8567160238442, 4658.256935631074, 3383.431117686354, 742.2033565430144, 1567.229434991056, 1448.9025449133164, 805.4091710910242, 636.4559384138272, 1895.2864640823977, 3693.6106207846556, 1449.280287929176, 1700.3409329108827, 1370.3231513552098, 444.01047195749123, 154.84782507635478, 102.96281631084025, 94.77709400410578, 91.99756941223183, 71.51034382659557, 65.90829701530504, 204.1377628558792, 53.90190122548936, 52.295436746019114, 86.42511484832801, 34.605151566945345, 25.154020705282715, 17.985046360099506, 17.89917895582211, 17.353816837234127, 109.55152294451436, 81.84510148109354, 46.34702018006145, 304.72297209346596, 52.86903166600918, 629.4227197753241, 50.949746338140955, 34.132095275980134, 21.56752047239794, 58.675027113775826, 255.90711135566528, 33.50343986026173, 35.21729828929756, 20.495302769122016, 28.603832356284027, 187.27513839921411, 711.3946730649644, 533.0302227193357, 83.34019287660588, 547.9171430046516, 171.6013060588385, 627.9004431419421, 122.92547157159292, 207.09556802040376, 815.3664579630431, 109.53643493950469, 887.3102870895455, 295.1791497722153, 583.6574464065864, 965.7266081268193, 353.62945309009893, 170.91412963265776, 638.7036005915114, 517.3054301953188, 360.18877134627985, 320.64228878439053, 392.6089669342939, 324.50407389170135, 240.03705744403428, 174.06349031307062, 97.62298747747529, 108.3794108532776, 123.1737299977917, 1125.8758981455235, 129.1711933610087, 53.22988825364497, 1298.7379078432637, 60.5387402395505, 106.19668062182336, 42.77859256910966, 30.117264646570575, 356.76541548802993, 392.6089669342939, 110.08389293031806, 15.544171631194546, 276.3459047441734, 41.36629003037164, 52.95162415434784, 409.5924901496557, 89.95643326015607, 62.53102023667323, 285.4458423783634, 161.47293954270714, 52.45142661003916, 36.40250809812088, 44.05861919348777, 155.33414184154336, 106.53065991804063, 127.279749456554, 640.5410792501267, 170.74521443314745, 502.674004836344, 1548.2963081363314, 822.1706199747257, 406.81248698593737, 3693.6106207846556], \"loglift\": [30.0, 29.0, 28.0, 27.0, 26.0, 25.0, 24.0, 23.0, 22.0, 21.0, 20.0, 19.0, 18.0, 17.0, 16.0, 15.0, 14.0, 13.0, 12.0, 11.0, 10.0, 9.0, 8.0, 7.0, 6.0, 5.0, 4.0, 3.0, 2.0, 1.0, 3.6448, 3.6344, 3.6252, 3.613, 3.6086, 3.6069, 3.5762, 3.5575, 3.5544, 3.5441, 3.5413, 3.5396, 3.4868, 3.4148, 3.3983, 3.3495, 3.3352, 3.334, 3.3079, 3.272, 3.248, 3.2316, 3.2032, 3.2027, 3.1992, 3.1967, 3.1966, 3.1954, 3.1905, 3.1707, 3.1535, 3.1383, 3.1406, 3.0846, 3.0773, 3.0891, 2.8717, 2.9166, 2.9812, 2.6402, 2.6759, 2.7154, 3.0315, 2.951, 2.8022, 1.8713, 1.477, 1.6175, 0.7514, 0.2508, 4.9919, 4.9916, 4.9847, 4.9681, 4.968, 4.9551, 4.9263, 4.9227, 4.9096, 4.8758, 4.8154, 4.723, 4.7038, 4.6499, 4.6314, 4.6094, 4.5977, 4.5789, 4.5275, 4.5262, 4.4776, 4.4105, 4.3954, 4.3769, 4.2667, 4.0998, 3.9952, 3.9489, 3.909, 3.8502, 2.6632, 3.3735, 2.7873, 1.2802, 3.6071, 3.5951, 3.5931, 3.5914, 3.5912, 3.5912, 3.5842, 3.574, 3.5611, 3.5515, 3.5474, 3.5469, 3.5408, 3.5396, 3.5323, 3.5211, 3.5096, 3.5075, 3.505, 3.5036, 3.496, 3.4865, 3.4852, 3.482, 3.4617, 3.4479, 3.4424, 3.4315, 3.4281, 3.4223, 3.4174, 3.3377, 3.4055, 3.3065, 3.3241, 3.4086, 3.2585, 3.1803, 2.8893, 3.1885, 3.2076, 3.0764, 2.7742, 2.1722, 2.1774, 2.7733, 1.7361, 2.9591, 2.796, 2.6993, 3.0395, 1.6947, 2.4834, 1.2975, 0.0648, 2.1225, 1.2592, 2.5725, 1.5262, 2.896, 2.891, 2.8838, 2.8828, 2.8753, 2.8734, 2.8605, 2.8447, 2.8411, 2.8406, 2.8376, 2.8318, 2.826, 2.8238, 2.7923, 2.786, 2.7759, 2.7692, 2.765, 2.7501, 2.746, 2.7447, 2.7433, 2.741, 2.7322, 2.7297, 2.7287, 2.727, 2.7175, 2.7145, -4.1916, -2.9757, -1.9817, 1.5613, 1.4329, -2.7924, -1.5861, 0.5506, -2.2302, -3.0059, 1.4002, -1.4885, -1.0006, -1.7309, 0.9485, -2.1911, 0.7496, -1.9296, -0.8863, -1.4802, 0.481, -2.114, 0.6574, 1.3004, 1.3636, 0.0235, -1.3339, -1.4806, -2.9644, -1.5034, 5.0903, 5.0893, 5.0893, 5.0855, 5.0798, 5.076, 5.0676, 5.0015, 4.9728, 4.9541, 4.6766, 4.5156, 4.3641, 4.277, 4.1887, 4.1667, 4.0319, 3.8862, 3.8686, 3.8647, 3.7978, 3.6296, 3.5121, 3.4678, 2.9858, 2.8426, 2.8277, 2.6799, 2.6349, 2.6219, 2.2299, 1.5174, 1.1991, -0.3985, 0.5099, 3.7524, 3.7436, 3.7421, 3.7399, 3.7363, 3.7361, 3.7359, 3.7303, 3.726, 3.7033, 3.6861, 3.6857, 3.6536, 3.6088, 3.5534, 3.542, 3.5241, 3.52, 3.5177, 3.5085, 3.4978, 3.4828, 3.4762, 3.4697, 3.4668, 3.4516, 3.3808, 3.3785, 3.3753, 3.3458, 3.3184, 3.2774, 3.2876, 3.2521, 2.9808, 3.2445, 3.3435, 2.4322, 2.7494, 2.965, 2.2487, 3.0479, 2.8296, 2.259, 2.7531, 0.5041, 1.5778, 2.1624, 1.9664, 0.9303, 2.5785, 1.5571, -0.0287, 1.6227, 4.8884, 4.8817, 4.8744, 4.8737, 4.7354, 4.688, 4.6651, 4.5938, 4.5858, 4.0394, 3.9419, 3.6125, 3.2246, 3.1664, 3.148, 3.0076, 2.9927, 2.9484, 2.8336, 2.7124, 2.7022, 2.6969, 2.4125, 2.3823, 2.3042, 2.2734, 1.9355, 1.6642, 1.5985, 1.5842, 1.2929, 0.6856, 0.8634, 0.1883, 0.6255, 1.18, 0.7016, 0.6906, 0.226, 0.0305, 4.807, 4.8064, 4.8031, 4.8025, 4.8015, 4.7944, 4.794, 4.7892, 4.7544, 4.7463, 4.7427, 4.7368, 4.7345, 4.6818, 4.5875, 4.5856, 4.4758, 4.4495, 4.3919, 4.3541, 4.3394, 4.3235, 4.3218, 4.2955, 4.1759, 4.072, 4.0654, 4.033, 3.9496, 3.8578, 3.6897, 3.7206, 2.8868, 2.9695, 2.0063, 0.8249, 1.7485, 4.7114, 4.7013, 4.7008, 4.568, 4.5216, 4.4443, 4.4375, 4.237, 4.1614, 3.3461, 2.993, 2.9772, 2.9722, 2.7563, 2.4245, 2.0451, 1.9504, 1.7342, 1.4194, 1.3323, 1.3304, 1.3118, 1.2014, 1.1217, 0.9087, 0.882, 0.7659, 0.6713, 0.5593, 0.272, -1.2522, 0.072, 6.3776, 6.3745, 6.3734, 6.3724, 6.372, 6.3718, 6.3638, 5.7907, 4.4087, 3.1119, 2.9717, 2.9074, 2.9055, 2.0611, 1.9983, 1.5191, 1.4769, -0.1166, -0.1217, -0.1288, -0.1299, -0.1374, -0.1392, -0.1521, -0.1679, -0.1715, -0.1721, -0.175, -0.1808, -0.1867, -4.1097, -5.9158, -4.2462, -2.2616, -2.3769, -5.272, -2.0312, -1.7406, -1.5959, -2.1584, -4.7263, -2.704, -4.5807, 4.6281, 4.628, 4.6224, 4.6218, 4.6198, 4.5998, 4.5453, 4.5225, 4.5072, 4.4497, 4.39, 4.3566, 4.3345, 4.2854, 4.1973, 4.1878, 4.0962, 4.0539, 4.0537, 4.0425, 4.006, 3.8749, 3.8421, 3.5534, 3.5103, 3.4216, 3.3942, 3.3791, 3.3327, 3.3235, 3.3114, 3.1027, 2.9271, 2.3628, 1.6638, 2.0193, 0.8326, 1.5004, 6.2371, 6.2357, 6.2334, 6.2294, 6.2271, 6.2192, 6.1929, 6.1669, 5.4957, -0.2103, -0.2153, -0.2224, -0.2235, -0.231, -0.2328, -0.2458, -0.2616, -0.2651, -0.2657, -0.2687, -0.2745, -0.2803, -0.2825, -0.314, -0.3202, -0.3304, -0.3371, -0.3412, -0.3562, -0.3603, -2.2044, -4.2789, -4.4492, -4.5362, -2.2893, -4.6743, -2.0216, -4.8212, -3.8802, -4.2034, -4.4402, -4.2051, -2.2266, -2.3935, -4.1189, -6.0095, -5.3626, -4.2371, -3.3573, -4.9739, -3.0939, 4.5253, 4.5194, 4.5176, 4.5152, 4.5146, 4.5146, 4.5125, 4.5094, 4.501, 4.4913, 4.4892, 4.4657, 4.4543, 4.3044, 4.2215, 4.1937, 4.1588, 4.0902, 4.0679, 3.9427, 3.9289, 3.924, 3.9181, 3.9005, 3.8994, 3.8821, 3.7837, 3.6689, 3.4962, 3.4931, 3.0484, 2.3291, 2.135, 1.8737, 0.8648, 1.3735, 2.6863, 5.8742, 5.8718, 5.8704, 5.8687, 5.8617, 5.8614, 5.861, 5.8608, 5.8596, 5.8561, 5.8533, 5.8468, 5.8464, 5.8407, 5.8315, 5.6994, 5.5713, 5.2926, 5.0902, 4.9702, 3.3563, 2.8452, 2.8283, 2.4783, 2.2848, 2.1005, 1.8543, 1.3303, 1.3295, 0.6746, 4.8426, 4.8399, 4.8397, 4.839, 4.8379, 4.8218, 4.8182, 4.8111, 4.7928, 4.7463, 4.7155, 4.5991, 4.5724, 4.5273, 4.5022, 4.443, 4.4023, 4.3778, 4.2606, 4.2576, 4.1728, 4.1626, 4.0634, 4.0565, 3.7387, 3.5477, 3.5004, 3.2865, 3.2759, 3.256, 3.2292, 3.0745, 2.8735, 2.6831, 0.9652, 1.5998, 5.3118, 5.3072, 5.3063, 5.3032, 5.2979, 5.2967, 5.2964, 5.2924, 5.2888, 5.2886, 5.2862, 5.2785, 5.2601, 5.2528, 5.2433, 5.2269, 5.216, 5.1591, 4.963, 4.879, 4.7633, 4.7086, 4.6673, 4.6575, 4.5026, 4.4619, 4.3312, 4.3304, 4.3156, 3.7387, 3.691, 1.8433, 1.8176, 4.9815, 4.9782, 4.9779, 4.9761, 4.9703, 4.9658, 4.9654, 4.931, 4.9057, 4.8624, 4.8358, 4.7988, 4.7832, 4.7281, 4.6071, 4.5831, 4.5385, 4.5276, 4.292, 4.2754, 4.2565, 4.2153, 4.1389, 4.1204, 3.9983, 3.9581, 3.9372, 3.9353, 3.9132, 3.883, 3.8548, 3.8435, 3.4611, 3.3702, 2.1696, 1.4554, 6.5237, 6.5209, 6.52, 6.5191, 6.5183, 6.5176, 6.5071, 6.4941, 4.784, 0.0132, 0.0082, 0.0011, -0.0, -0.0075, -0.0093, -0.0223, -0.0381, -0.0416, -0.0422, -0.0452, -0.051, -0.0568, -0.059, -0.0905, -0.0967, -0.1069, -0.1136, -0.1178, -0.1327, -0.1368, -3.2503, -2.6463, -1.2264, -2.484, -5.2705, -4.4708, -3.1638, -4.3291, -2.9256, -0.887, -1.9201, -2.9559, -1.0435, -6.359, -0.6103, -3.7505, -4.6758, -5.8737, -1.6325, -2.3346, -1.592, 4.6908, 4.689, 4.6867, 4.6849, 4.6835, 4.6797, 4.6795, 4.6779, 4.6739, 4.6725, 4.6718, 4.6714, 4.6564, 4.655, 4.5221, 4.5072, 4.4061, 4.3975, 4.3897, 4.3681, 4.316, 4.2974, 4.2107, 4.2022, 4.1652, 4.0941, 4.0686, 3.9676, 3.9234, 3.8783, 3.6642, 3.3585, 2.4565, 1.7835, 3.0966, 0.5944, 5.3333, 5.3326, 5.3325, 5.3316, 5.3281, 5.3239, 5.322, 5.3217, 5.3151, 5.3151, 5.3135, 5.2569, 5.1138, 4.946, 4.9113, 4.901, 4.8213, 4.7527, 4.5573, 4.3996, 4.3548, 4.0088, 3.8488, 3.4948, 3.1844, 2.3506, 2.2538, 2.2376, 2.2117, 0.9702, 0.7485, -0.079, 6.139, 6.1349, 6.1324, 6.1318, 6.1313, 6.1274, 6.1262, 6.1239, 6.1201, 6.1197, 6.07, 5.0825, 4.1152, 3.2102, 2.6083, 2.3669, 1.6808, 1.1106, 0.5008, -0.4112, -0.4162, -0.4233, -0.4244, -0.4319, -0.4337, -0.4467, -0.4624, -0.466, -0.4666, -0.4696, -2.0005, -1.8409, -4.4633, -5.4058, -5.7101, -2.8922, -5.7817, -5.6767, -6.876, -2.5589, -3.3913, 4.3393, 4.3314, 4.3261, 4.3237, 4.299, 4.2949, 4.284, 4.255, 4.2079, 4.1373, 4.1079, 4.0604, 4.0331, 3.9603, 3.915, 3.9033, 3.8954, 3.8307, 3.8286, 3.8212, 3.6827, 3.6417, 3.6305, 3.6174, 3.5711, 3.5433, 3.5153, 3.4558, 3.4398, 3.401, 3.2144, 3.1407, 2.5379, 2.9071, 2.4132, 2.4226, 3.0849, 0.9705, 0.8029, -0.693, 4.7136, 4.7114, 4.7112, 4.7081, 4.708, 4.706, 4.6865, 4.6804, 4.6587, 4.6297, 4.5515, 4.5079, 4.5003, 4.3363, 4.2021, 3.9969, 3.8502, 3.829, 3.7777, 3.7665, 3.5178, 3.3124, 3.0832, 3.0408, 2.9496, 2.8456, 2.8455, 2.7069, 2.4933, 2.3878, 1.8042, 1.4264, 0.9528, 4.0694, 4.0619, 4.0603, 4.0549, 4.0467, 4.0432, 4.0018, 3.9991, 3.9979, 3.9899, 3.9749, 3.8975, 3.8243, 3.7159, 3.6982, 3.6905, 3.6813, 3.6537, 3.5763, 3.5734, 3.5287, 3.5261, 3.3835, 3.3816, 3.3755, 3.3688, 3.3625, 3.3623, 3.3383, 3.3256, 3.2819, 3.2981, 3.2763, 3.1266, 2.9365, 3.1154, 3.2414, 2.7992, 2.4758, 1.056, 1.8477, 0.6422, -0.6487, 4.0438, 4.038, 4.0378, 4.0285, 4.0268, 4.0256, 4.0159, 4.0022, 4.0009, 3.9997, 3.9944, 3.9931, 3.9749, 3.9702, 3.9572, 3.9508, 3.9477, 3.9196, 3.9072, 3.9069, 3.8928, 3.8917, 3.8859, 3.8577, 3.8484, 3.8478, 3.8426, 3.795, 3.7708, 3.7659, 3.7367, 3.7092, 3.6707, 3.6393, 3.661, 3.6962, 3.5927, 3.3919, 3.4356, 3.6634, 3.336, 3.0727, 2.8628, 3.1051, 3.6018, 2.6433, 2.943, 2.8514, 0.9237, 1.7523, 3.2564, 2.1765, 4.227, 4.2252, 4.2239, 4.2188, 4.2164, 4.2147, 4.2109, 4.1943, 4.1713, 4.1623, 4.154, 4.1211, 4.0416, 4.0016, 3.9838, 3.9575, 3.9536, 3.922, 3.8731, 3.8393, 3.7838, 3.7782, 3.7663, 3.7091, 3.6996, 3.6855, 3.6581, 3.5762, 3.5746, 3.5592, 3.4943, 3.2464, 2.8154, 3.0572, 3.3468, 3.2183, 2.5058, 2.5232, 2.1156, 1.8241, 1.4899, 3.9616, 3.9439, 3.9423, 3.9402, 3.9203, 3.9196, 3.9159, 3.9057, 3.8916, 3.8879, 3.834, 3.8192, 3.8047, 3.7912, 3.758, 3.7421, 3.7402, 3.7104, 3.6838, 3.6494, 3.6009, 3.5872, 3.5735, 3.5139, 3.4934, 3.4732, 3.445, 3.4359, 3.4299, 3.4104, 3.3939, 3.3165, 3.3406, 3.3506, 3.2128, 3.2307, 3.2179, 3.3966, 2.7253, 2.6578, 2.85, 2.4368, 3.1183, 2.7381, 1.3501, 1.4026, 1.4359, 1.6131, 3.2825, 3.2774, 3.2762, 3.2733, 3.2724, 3.2709, 3.2695, 3.2681, 3.2675, 3.2673, 3.2639, 3.2633, 3.2628, 3.2605, 3.2602, 3.2593, 3.2535, 3.2508, 3.2463, 3.2429, 3.2323, 3.2251, 3.2235, 3.2195, 3.2181, 3.2177, 3.2053, 3.1963, 3.1963, 3.193, 3.1444, 3.1709, 3.1214, 3.1202, 3.1381, 3.0478, 3.1488, 3.0192, 3.1454, 2.9793, 3.0557, 3.1149, 3.0383, 2.8352, 2.918, 3.0947, 2.7583, 2.5807, 2.5256, 2.9463, 2.7677, 2.9186, 2.9066, 2.6724, 2.0319, 2.5711, 2.6458, 2.4931, 1.8103, 2.042, 1.32, 1.3586, 1.87, 0.985, 1.6578, 1.4782, 1.7041, 1.93, 1.2785, 0.9648, 1.1073, 4.4555, 4.4377, 4.4318, 4.3994, 4.308, 4.302, 4.2706, 4.2557, 4.1385, 4.0315, 4.0057, 3.9357, 3.8819, 3.8687, 3.8667, 3.8331, 3.4958, 3.4431, 3.415, 3.2721, 2.8724, 2.8713, 2.6206, 2.4231, 2.2685, 2.0688, 2.0405, 2.0041, 1.9499, 1.9442, 1.9202, 0.9541, 1.5515, 0.2589, 0.0521, 0.3395, 0.6565, 0.0426, 3.4234, 3.3663, 3.3542, 3.1536, 2.9852, 2.8978, 2.8892, 2.7361, 2.6426, 2.4979, 2.4865, 2.4355, 2.378, 2.3236, 2.3085, 2.2151, 2.18, 2.1716, 2.1246, 2.1047, 2.1042, 2.0409, 1.9587, 1.9483, 1.9128, 1.8927, 1.8745, 1.8585, 1.7628, 1.7219, 1.6077, 1.5154, 1.3232, 1.2674, 0.8867, 1.2261, 1.3261, 0.4701, -0.0655, 0.8656, 0.4614, 1.3325, 0.2575, 1.2423, 0.9376, -0.5399, 0.4309, -0.9583, -0.4094, 5.1743, 5.1712, 5.1679, 5.1591, 5.156, 5.1548, 5.1539, 5.1537, 5.1493, 5.1478, 5.1463, 5.1426, 5.123, 5.1137, 4.9051, 4.8634, 4.7878, 4.6784, 4.6671, 4.4089, 3.6416, 3.3996, 3.3455, 3.2995, 3.0349, 2.9544, 2.2244, 1.9243, 1.4099, 0.9803, 0.7211, 3.561, 3.5591, 3.553, 3.5486, 3.5451, 3.5275, 3.5098, 3.5027, 3.4858, 3.4677, 3.4172, 3.3841, 3.3452, 3.3317, 3.3186, 3.2668, 3.2288, 3.1596, 3.1349, 3.1036, 3.043, 3.0385, 3.0186, 2.9938, 2.9827, 2.9605, 2.9569, 2.9054, 2.8904, 2.8155, 2.7346, 2.6881, 2.3259, 2.4464, 2.6657, 1.8078, 2.2353, 1.5189, 1.6795, 2.4286, 0.743, 0.6253, 0.8197, 0.9821, 0.8451, -0.3427, 3.9649, 3.9509, 3.9495, 3.9009, 3.7328, 3.6276, 3.5211, 3.4746, 3.4563, 3.4353, 3.3729, 3.2883, 3.2168, 3.1815, 3.1559, 3.135, 3.1065, 2.9455, 2.9397, 2.9201, 2.8917, 2.855, 2.8047, 2.7898, 2.7878, 2.7777, 2.743, 2.7192, 2.7063, 2.6883, 2.5454, 2.5876, 2.3982, 2.4691, 1.6211, 1.7551, 1.9039, 1.8965, 2.1047, 1.208, 1.9839, 2.0338, 0.9175, -0.1504, 0.8021, 1.3511, 0.6695, 0.9898, 4.8079, 4.8067, 4.8055, 4.8004, 4.7923, 4.7907, 4.7816, 4.7797, 4.7702, 4.7659, 4.764, 4.7127, 4.6546, 4.5828, 4.5478, 4.497, 4.3761, 4.355, 4.3338, 4.3284, 4.3137, 4.277, 4.2457, 4.2401, 4.1519, 4.0942, 4.0414, 4.0295, 4.0263, 4.0086, 3.881, 3.5826, 2.3646, 2.6981, 0.8976, 3.4151, 2.0313, 2.186, 1.826, 4.6363, 4.6343, 4.6334, 4.6329, 4.6272, 4.6231, 4.6225, 4.6157, 4.5407, 4.527, 4.4708, 4.3628, 4.3087, 4.2682, 4.2035, 4.0677, 4.0646, 4.0577, 4.0512, 4.0256, 3.9872, 3.9632, 3.7524, 3.7193, 3.7156, 3.6701, 3.5618, 3.5487, 3.5223, 3.4544, 3.3875, 3.1084, 2.9242, 2.9458, 1.6753, 2.3248, 0.9542, 3.5127, 3.5118, 3.5079, 3.5059, 3.5041, 3.5024, 3.498, 3.4949, 3.4863, 3.4835, 3.4746, 3.469, 3.4676, 3.4661, 3.4518, 3.4388, 3.4381, 3.4312, 3.4015, 3.3596, 3.3556, 3.355, 3.3501, 3.3146, 3.3079, 3.3052, 3.297, 3.2695, 3.2361, 3.1987, 3.0277, 3.1424, 3.0709, 3.0556, 3.1156, 2.8051, 2.586, 3.1139, 2.7606, 2.7961, 2.7689, 2.731, 2.4354, 2.5897, 2.1529, 2.0014, 1.9817, 1.6649, 2.5038, 1.4099, 1.5517, 1.6742, -0.3892, 4.173, 4.172, 4.1718, 4.1694, 4.1504, 4.1427, 4.138, 4.1296, 4.1292, 4.1031, 4.0928, 4.0075, 3.9798, 3.9287, 3.9085, 3.9003, 3.862, 3.8435, 3.8427, 3.8411, 3.8283, 3.7993, 3.7699, 3.7662, 3.7658, 3.6805, 3.632, 3.6105, 3.6076, 3.5219, 3.4432, 3.3893, 3.4445, 3.3645, 2.9833, 3.3887, 3.1262, 3.0487, 3.0741, 3.1803, 3.4406, 2.7279, 3.0547, 2.4144, 2.2227, 0.364, 2.7423, 0.7027, 0.0217, 0.7447, 2.3384, 2.3369, 2.3363, 2.3348, 2.334, 2.3309, 2.3305, 2.3285, 2.3269, 2.3263, 2.3246, 2.3245, 2.3235, 2.3233, 2.3229, 2.3228, 2.3225, 2.3222, 2.322, 2.3216, 2.3197, 2.3193, 2.3175, 2.3167, 2.3167, 2.3163, 2.3162, 2.316, 2.316, 2.3132, 2.2989, 2.2837, 2.1885, 2.2715, 2.2054, 2.2863, 2.0934, 2.2723, 2.1822, 2.27, 2.2145, 1.9314, 2.1223, 1.8872, 2.236, 2.078, 2.122, 2.1736, 2.1147, 1.6957, 2.0194, 1.9408, 1.7432, 1.4943, 1.0163, 1.6303, 1.0853, 1.0114, 1.4258, 1.4245, 1.5148, 0.3115, 0.8717, -0.5793, 0.4658, 4.5899, 4.5872, 4.586, 4.5824, 4.5822, 4.5784, 4.5782, 4.5769, 4.5749, 4.5659, 4.5528, 4.5287, 4.5242, 4.5172, 4.5166, 4.5048, 4.3931, 4.3892, 4.3873, 4.3651, 4.3591, 4.3545, 4.3528, 4.3326, 4.3276, 4.3265, 4.318, 4.3034, 4.2923, 4.2553, 4.1913, 4.1871, 4.0166, 4.2074, 4.102, 3.7057, 3.9927, 3.4736, 3.2594, 3.3542, 2.1795, 3.6787, 3.5964, 3.0528, 2.5443, 3.0848, 1.9503, 4.71, 4.7057, 4.704, 4.696, 4.6871, 4.6408, 4.4712, 4.3992, 4.2261, 4.0569, 3.9942, 3.7289, 3.6502, 3.3918, 3.3323, 3.2595, 3.2554, 3.187, 3.1677, 3.1245, 2.7894, 2.6656, 2.6236, 2.5461, 2.4255, 2.3893, 2.3658, 2.354, 2.3506, 2.3439, 2.2226, 2.1952, 1.9085, 1.6955, 1.7033, 0.5457, 0.4245, 0.8349, -0.1907, 4.412, 4.4044, 4.3858, 4.3821, 4.3558, 4.342, 4.3333, 4.3299, 4.3116, 4.3061, 4.3004, 4.2941, 4.2936, 4.2794, 4.2471, 4.2214, 4.2144, 4.1598, 4.0827, 4.0766, 4.0763, 4.0283, 4.0196, 3.988, 3.984, 3.9232, 3.9223, 3.8752, 3.8641, 3.8508, 3.37, 3.492, 3.7162, 3.3926, 3.0067, 3.8405, 2.0118, 1.5559, 1.7734, -0.4154, 2.896, 2.891, 2.8838, 2.8828, 2.8753, 2.8734, 2.8605, 2.8447, 2.8411, 2.8406, 2.8376, 2.8318, 2.826, 2.8238, 2.7923, 2.786, 2.7759, 2.7692, 2.765, 2.7501, 2.746, 2.7447, 2.7433, 2.741, 2.7322, 2.7297, 2.7287, 2.727, 2.7175, 2.7145, 1.1627, 1.7883, 0.8187, 0.9764, 1.0571, 1.1293, -0.5713, 2.1619, 1.4858, -0.4617, -1.0427, 0.8353, 1.1961, 1.0616, 0.1694, 2.5774, 0.3189, 0.7606, 0.4947, 2.3657, 0.0406, 1.7347, 0.7982, 0.0834, 2.5563, -0.4647, 0.9645, 0.4806, -0.3042, -0.3002, 4.2917, 4.2844, 4.2835, 4.2834, 4.2776, 4.2756, 4.2737, 4.2702, 4.267, 4.2643, 4.2594, 4.2429, 4.2308, 4.2154, 4.1996, 4.1905, 4.1291, 4.047, 4.0357, 4.0264, 4.0073, 3.9723, 3.9686, 3.965, 3.9311, 3.9231, 3.8951, 3.8793, 3.7804, 3.7657, 3.6998, 3.4353, 3.6287, 3.2133, 2.4566, 3.6569, 3.0344, 1.6926, 1.903, 1.9104, 2.3758, 1.7473, 0.5502, 2.9892, 7.2709, 7.2679, 7.2669, 7.2031, 0.81, 0.805, 0.7979, 0.7968, 0.7893, 0.7874, 0.7745, 0.7587, 0.7552, 0.7546, 0.7516, 0.7458, 0.74, 0.7378, 0.7063, 0.7, 0.6899, 0.6832, 0.679, 0.6641, 0.66, 0.6588, 0.6573, 0.655, 0.6462, 0.6437, -0.7637, -1.241, -1.32, -1.7035, -1.9025, -2.7452, -1.0531, -0.6357, -1.6308, -1.6393, -1.3888, 0.2266, -2.2557, -2.0606, -3.1921, -2.4718, -1.588, -1.808, -1.6666, -2.6125, -2.8514, -1.3218, -0.5975, -2.1019, -2.1981, -2.9478, 7.2503, 7.2342, 0.7971, 0.7921, 0.785, 0.7839, 0.7764, 0.7746, 0.7616, 0.7458, 0.7423, 0.7417, 0.7387, 0.7329, 0.7271, 0.7249, 0.6934, 0.6872, 0.677, 0.6703, 0.6662, 0.6512, 0.6471, 0.6459, 0.6444, 0.6421, 0.6333, 0.6308, 0.6298, 0.6282, -3.4414, -3.0101, -5.316, -0.6022, -2.539, -1.6189, -2.7672, -4.7279, -4.3565, -3.124, -2.5334, -4.1021, -2.4276, -3.2173, -1.0485, -4.4912, -3.2327, -3.1668, -1.3499, -1.8782, -0.6038, -2.2998, -3.6653, -4.1975, -1.8747, -1.4975, -3.0056, -2.4039, 4.3436, 4.3395, 4.3373, 4.3364, 4.3309, 4.3296, 4.3257, 4.3232, 4.313, 4.3035, 4.2967, 4.1963, 4.1492, 4.0959, 4.0922, 4.0625, 3.9332, 3.9242, 3.9173, 3.9111, 3.9065, 3.8433, 3.749, 3.6472, 3.6381, 3.6261, 3.5985, 3.3957, 3.316, 3.1961, 2.9045, 1.8629, 1.2676, 2.4144, 1.7353, -1.0598, 2.896, 2.891, 2.8838, 2.8828, 2.8753, 2.8734, 2.8605, 2.8447, 2.8411, 2.8406, 2.8376, 2.8318, 2.826, 2.8238, 2.7923, 2.786, 2.7759, 2.7692, 2.765, 2.7501, 2.746, 2.7447, 2.7433, 2.741, 2.7322, 2.7297, 2.7287, 2.727, 2.7175, 2.7145, 0.181, -1.0551, -0.1562, -1.512, -0.8724, -1.3438, 0.4808, 0.2078, -3.4763, -2.1035, -0.4959, -0.8715, -0.0544, -0.7535, -0.9071, 1.3873, 0.147, -2.9757, -2.2302, -0.4681, 0.5271, -0.5783, -2.9909, 0.6959, 1.2437, -2.9644, 1.0705, -0.0953, -0.5356, -1.4885, 8.5651, 2.3445, 2.3395, 2.3324, 2.3313, 2.3238, 2.322, 2.309, 2.2932, 2.2897, 2.2891, 2.2861, 2.2803, 2.2745, 2.2723, 2.2408, 2.2346, 2.2244, 2.2177, 2.2136, 2.1986, 2.1945, 2.1933, 2.1918, 2.1895, 2.1807, 2.1782, 2.1772, 2.1756, 2.166, 1.5313, 2.0061, 2.0049, -0.284, 0.689, 0.6432, -0.6137, 0.6606, 0.8793, 0.923, 1.2669, 1.4576, 0.7012, -0.2196, 1.6188, 0.6981, 1.2727, 1.2329, 0.7287, 0.106, 0.6356, 0.9157, 0.5182, 1.8646, 1.6315, 0.397, -0.6587, 0.2307, -0.3429, 6.1327, 6.1274, 6.1046, 6.02, 5.9794, -0.4412, -0.4463, -0.4534, -0.4545, -0.462, -0.4638, -0.4767, -0.4925, -0.4961, -0.4967, -0.4996, -0.5054, -0.5113, -0.5135, -0.545, -0.5512, -0.5614, -0.5681, -0.5722, -0.5871, -0.5912, -0.5925, -0.594, -0.5962, -0.605, -3.7182, -2.9983, -6.8135, -6.3281, -6.3016, -3.8732, -6.2404, -5.3189, -6.313, -3.9624, -4.2399, -4.494, -2.7106, -5.1867, -4.5616, -4.9037, -3.024, -2.4549, -2.1976, -5.2291, -2.4436, -5.7002, -3.1609, -4.789, -4.6756, 4.3477, 4.3422, 4.3355, 4.3311, 4.3275, 4.3191, 4.2982, 4.2273, 4.2048, 4.1874, 4.1074, 4.1051, 4.0858, 4.0611, 4.0432, 4.0024, 3.998, 3.9829, 3.9805, 3.9729, 3.9164, 3.8908, 3.8584, 3.8127, 3.7805, 3.7739, 3.7558, 3.7321, 3.7174, 3.6563, 3.5645, 3.4338, 3.3991, 3.471, 3.2324, 3.4396, 3.2927, 2.5032, 2.0602, 1.1111, 7.5775, 7.5765, 1.1373, 1.1323, 1.1251, 1.1241, 1.1166, 1.1147, 1.1018, 1.086, 1.0824, 1.0819, 1.0789, 1.0731, 1.0673, 1.0651, 1.0336, 1.0273, 1.0172, 1.0105, 1.0063, 0.9914, 0.9873, 0.986, 0.9846, 0.9823, 0.9735, 0.971, 0.97, 0.9683, -1.7666, -2.9138, -2.2783, -2.6351, -3.8138, -3.2643, -2.5924, -1.3097, -2.6619, -3.6263, -0.3951, -4.0181, -1.462, 0.0615, -3.781, 0.7443, -0.6337, 0.1027, -2.0795, -0.5258, -0.9747, -2.3183, -2.8701, -2.4545, -1.8684, -3.6318, -0.9773, -2.5585, 4.5009, 4.5008, 4.4813, 4.4804, 4.476, 4.461, 4.4601, 4.4516, 4.4458, 4.4269, 4.4032, 4.2974, 4.2299, 4.1928, 4.1921, 4.1779, 4.1547, 4.1386, 4.1285, 4.0475, 3.9126, 3.855, 3.8448, 3.8211, 3.759, 3.7482, 3.7013, 3.6915, 3.6444, 3.619, 3.576, 3.5182, 3.1278, 3.2139, 2.7564, 2.4499, 3.3789, 4.0306, 4.0225, 4.0143, 4.0069, 3.97, 3.9699, 3.9636, 3.9454, 3.939, 3.9111, 3.8772, 3.851, 3.8177, 3.7631, 3.6641, 3.6396, 3.5742, 3.4105, 3.3081, 3.2875, 3.2551, 3.2267, 3.0579, 3.0293, 2.9916, 2.9866, 2.7935, 2.7901, 2.7521, 2.7085, 2.194, 2.0505, 1.7742, 1.8376, 1.4379, 2.2488, 2.1534, 1.7861, 1.4893, 2.0607, 0.7914, 0.303, 4.1884, 4.1759, 4.1281, 4.1177, 4.0961, 3.9828, 3.6854, 3.5866, 3.4819, 3.1619, 3.1494, 3.0597, 2.9438, 2.8825, 2.8255, 2.5795, 2.5322, 2.5276, 2.2712, 2.1747, 2.1102, 2.0844, 2.0583, 2.0062, 1.9705, 1.9023, 1.8845, 1.8272, 1.8019, 1.7847, 1.7444, 1.5205, 1.5042, 1.4181, 1.5957, 1.2433, 0.9211, 1.2813, 0.1406, 0.1155, 1.597, 0.9789, 4.9639, 4.9633, 4.9615, 4.9608, 4.9561, 4.9433, 4.7781, 4.6459, 4.6212, 4.5272, 4.522, 4.4923, 4.318, 4.254, 4.009, 3.8193, 3.7005, 3.6358, 3.5308, 3.4784, 3.4688, 3.1167, 3.0478, 2.9776, 2.925, 2.7201, 2.573, 2.3874, 2.2565, 2.1954, 2.1206, 1.7947, 1.6576, 0.9646, 1.2143, 1.1572, -0.2141, 0.1263, 5.4611, 5.4608, 5.4594, 5.4584, 5.4553, 5.4531, 5.4465, 5.4444, 5.4422, 5.3761, 5.2576, 5.235, 5.2042, 4.8997, 4.8487, 4.7441, 4.5174, 4.1411, 3.664, 3.5642, 3.5051, 3.4163, 3.3581, 3.1748, 3.1156, 3.0484, 2.6412, 2.5229, 2.4324, 1.7154, 1.676, 0.5784, 4.3533, 4.3499, 4.3478, 4.3425, 4.3413, 4.3412, 4.3361, 4.3325, 4.3299, 4.3101, 4.3076, 4.2985, 4.2909, 4.2709, 4.2494, 4.2347, 4.2253, 4.13, 4.1262, 4.0949, 4.0866, 4.0507, 4.0495, 4.0295, 3.9946, 3.9317, 3.9134, 3.8855, 3.807, 3.779, 3.7715, 3.2585, 3.4703, 3.716, 3.5629, 3.2008, 2.3234, 2.2242, 3.0525, 1.5733, 2.1143, 1.8149, 2.7133, 1.1318, 3.805, 3.7944, 3.7923, 3.7888, 3.7885, 3.7877, 3.7176, 3.7082, 3.6903, 3.6678, 3.6473, 3.5801, 3.5726, 3.5712, 3.56, 3.5592, 3.549, 3.5409, 3.5085, 3.4509, 3.4298, 3.3941, 3.305, 3.3005, 3.2877, 3.2606, 3.2174, 3.2091, 3.2033, 3.1854, 3.1552, 3.1069, 2.9827, 3.0499, 2.7972, 2.989, 2.7078, 2.0873, 2.6024, 2.3503, 2.8254, 2.8566, 3.0158, 2.488, 1.445, 1.7001, 2.4627, 2.561, 1.6217, 1.2672, 2.4837, 5.5006, 5.4973, 5.4882, 5.4748, 5.4737, 5.4599, 5.1868, 5.065, 5.0097, 4.9616, 4.8335, 4.71, 3.6936, 3.4024, 3.272, 3.2585, 2.9518, 2.7404, 2.6536, 2.3661, 2.3442, 2.1814, 2.087, 1.49, 0.4853, -1.0515, -1.0565, -1.0637, -1.0647, -1.0722, -1.729, -2.1882, -5.1662, -2.7095, -6.317, 4.4441, 4.4363, 4.4352, 4.4345, 4.4323, 4.4322, 4.4295, 4.4265, 4.424, 4.4174, 4.4147, 4.403, 4.4014, 4.398, 4.3916, 4.3667, 4.3665, 4.3646, 4.3613, 4.3344, 4.3154, 4.2896, 4.2866, 4.2698, 4.2243, 4.2151, 4.1677, 4.1659, 4.1071, 4.099, 4.0837, 3.8899, 4.0126, 3.7498, 3.8348, 3.7789, 3.9193, 3.7812, 3.7854, 3.7425, 3.9679, 3.3414, 2.373, 2.7854, 3.526, 3.1428, 2.5289, 2.5264, 2.5261, 2.522, 2.5176, 2.5174, 2.5167, 2.5152, 2.5049, 2.4967, 2.4962, 2.4921, 2.4918, 2.4891, 2.4837, 2.4675, 2.4673, 2.4577, 2.4557, 2.4556, 2.4452, 2.4447, 2.4233, 2.4143, 2.4037, 2.3951, 2.3756, 2.3737, 2.3694, 2.3629, 2.3594, 2.3477, 2.1914, 2.1972, 2.2133, 2.3172, 2.1547, 2.2669, 2.2018, 1.8765, 2.321, 2.0053, 2.0036, 2.046, 1.7696, 1.8088, 1.1967, 1.9295, 1.8426, 1.2845, 1.6281, 1.7639, 1.5384, 2.0741, 1.5487, 1.8875, 1.1023, 1.2893, 1.1801, 1.4666, 0.8467, 0.9865, 1.1774, 1.061, 0.6885, 0.9976, 0.7078, 1.0749, 1.024, 0.6085, -1.2714, -0.2095, 4.8519, 4.8481, 4.8393, 4.8356, 4.8287, 4.8144, 4.779, 4.7671, 4.6477, 4.6103, 4.6074, 4.5584, 4.5175, 4.356, 4.2807, 4.2691, 4.1047, 4.0508, 3.9723, 3.8738, 3.8151, 3.7041, 3.6205, 3.4126, 3.4036, 3.3373, 3.2811, 3.1839, 3.1199, 2.9785, 2.5608, 2.0718, 2.0479, 2.6294, 0.3843, 1.8211, 4.9324, 4.9323, 4.9306, 4.929, 4.9285, 4.9258, 4.9245, 4.9241, 4.9188, 4.9174, 4.8755, 4.8336, 4.7819, 4.7396, 4.6506, 4.6282, 4.6117, 4.5454, 4.5093, 4.4241, 4.4122, 4.4001, 4.3615, 4.3309, 4.2063, 4.1191, 3.7095, 3.3406, 3.2873, 3.2788, 2.8415, 2.4549, 2.6942, 2.8529, 1.5391, 1.9066, 1.7212, 4.3724, 4.3713, 4.3664, 4.356, 4.3516, 4.3492, 4.3447, 4.3413, 4.3369, 4.3133, 4.3096, 4.307, 4.2952, 4.2862, 4.2753, 4.2232, 4.2058, 4.0723, 4.0503, 4.023, 3.9607, 3.9538, 3.9263, 3.9126, 3.8798, 3.8604, 3.8585, 3.796, 3.7333, 3.7289, 3.728, 3.6202, 3.4604, 3.4366, 3.6583, 3.5223, 3.2331, 3.3989, 3.0051, 3.5465, 3.7012, 2.0453, 3.1641, 3.0716, 1.9319, 0.9071, 2.5799, 3.0643, 3.3249, 3.3214, 3.3176, 3.3152, 3.3147, 3.3146, 3.3134, 3.3133, 3.3129, 3.3113, 3.3049, 3.3046, 3.2987, 3.2866, 3.274, 3.27, 3.2648, 3.2549, 3.2534, 3.2402, 3.2259, 3.2058, 3.1743, 3.1633, 3.1614, 3.132, 3.1012, 3.0931, 3.0816, 3.0675, 3.0609, 3.0242, 3.0245, 3.0662, 3.032, 3.0114, 2.8681, 3.0463, 2.4294, 2.4216, 2.8577, 2.2915, 2.6965, 2.7126, 2.6424, 2.1756, 1.6379, 2.252, 1.7344, 2.1974, 1.3793, 0.2578, 1.603, 1.7873, 0.9697, 1.4478, 1.0214, 1.8741, 1.4508, 2.0504, -0.0355, 1.0403, 8.3788, 2.117, 2.112, 2.1049, 2.1038, 2.0963, 2.0945, 2.0815, 2.0657, 2.0622, 2.0616, 2.0586, 2.0529, 2.047, 2.0448, 2.0133, 2.0071, 1.9969, 1.9902, 1.9861, 1.9711, 1.967, 1.9658, 1.9643, 1.962, 1.9532, 1.9507, 1.9497, 1.9481, 1.9385, -1.7711, -2.015, 0.2521, -4.0019, -2.3454, -2.2747, -2.6708, -2.6365, -2.6148, -4.9706, -0.5804, -3.5713, -0.6568, 1.7961, 1.0394, -2.5471, 0.3332, -0.62, -2.4902, -0.4207, -1.8166, -0.0632, -2.4603, -2.3439, -3.1667, 0.1527, -1.6609, -0.617, -3.1419, 4.8896, 4.8861, 4.886, 4.8815, 4.8689, 4.8657, 4.8555, 4.8183, 4.744, 4.5839, 4.5141, 4.417, 4.381, 4.1696, 3.9954, 3.9235, 3.9015, 3.6344, 3.6185, 3.4746, 3.3353, 2.9923, 2.9738, 2.8292, 2.4542, 2.4214, 2.3286, 2.3061, 2.2208, 2.0499, 1.6996, 1.62, 0.8991, 0.8453, 0.3069, -0.1596, 2.4864, 2.4822, 2.4821, 2.4793, 2.4779, 2.4774, 2.4767, 2.474, 2.471, 2.4685, 2.4676, 2.4673, 2.4672, 2.4656, 2.4637, 2.4616, 2.4601, 2.4533, 2.4525, 2.4512, 2.4481, 2.4473, 2.447, 2.445, 2.4416, 2.4414, 2.4397, 2.4367, 2.4353, 2.434, 2.4193, 2.4278, 2.3984, 2.4272, 2.3079, 2.3864, 2.2857, 2.3857, 2.3589, 2.3132, 2.2931, 2.3285, 2.2215, 2.1062, 1.8808, 2.1525, 2.1314, 1.6159, 1.7422, 2.2144, 1.9448, 2.0912, 1.7579, 1.8879, 1.9819, 1.6374, 0.9644, 1.1024, 1.3571, 1.7974, 1.5737, 0.8886, -0.0143, 0.1468, 1.1711, 0.6319, 0.6724, 1.0961, 1.266, 0.3272, -0.2439, 0.4675, 0.2999, 0.491, 3.9801, 3.9757, 3.9723, 3.9714, 3.9711, 3.9678, 3.9666, 3.9631, 3.963, 3.9624, 3.9543, 3.952, 3.9402, 3.923, 3.9227, 3.9207, 3.836, 3.832, 3.8314, 3.8224, 3.8023, 3.7846, 3.7654, 3.7533, 3.7353, 3.7225, 3.7153, 3.6993, 3.6917, 3.6307, 3.6282, 3.572, 3.3282, 3.2963, 3.5555, 3.1077, 3.3797, 3.0569, 3.4328, 3.2784, 2.7727, 3.4577, 2.4997, 2.8659, 2.481, 2.1166, 2.5603, 3.0952, 1.9811, 2.1137, 2.4315, 2.5097, 2.2704, 4.8249, 4.8238, 4.8222, 4.8175, 4.8055, 4.716, 4.5698, 4.4764, 4.3823, 4.2967, 4.1677, 4.1453, 4.1367, 4.1349, 4.1121, 4.0324, 4.02, 3.8502, 3.7846, 3.7246, 3.6882, 3.5714, 3.4955, 3.463, 3.4153, 3.1719, 2.9957, 2.9338, 2.9028, 2.7294, 2.6976, 2.5107, 1.8331, 2.2269, 1.375, 0.3877, 0.9071, 1.5139, -0.6881], \"logprob\": [30.0, 29.0, 28.0, 27.0, 26.0, 25.0, 24.0, 23.0, 22.0, 21.0, 20.0, 19.0, 18.0, 17.0, 16.0, 15.0, 14.0, 13.0, 12.0, 11.0, 10.0, 9.0, 8.0, 7.0, 6.0, 5.0, 4.0, 3.0, 2.0, 1.0, -5.1905, -4.4735, -3.2594, -6.4882, -6.5749, -6.6058, -6.0803, -5.6597, -3.7518, -5.1119, -5.5505, -2.5108, -4.5311, -6.0773, -5.9059, -4.8399, -5.6848, -3.4237, -6.1653, -6.1783, -5.3978, -3.316, -3.8651, -6.7934, -5.3607, -5.875, -5.6701, -6.4909, -1.9574, -7.0724, -3.5576, -3.8987, -4.101, -3.7171, -3.6061, -4.2227, -2.7167, -4.1166, -4.5717, -3.5692, -3.6782, -4.2968, -5.2907, -5.3492, -5.2262, -4.6961, -4.5714, -4.7784, -4.7859, -4.7137, -1.602, -1.7512, -3.3879, -4.4655, -4.467, -4.8864, -5.4625, -5.5169, -5.6935, -3.1658, -4.9383, -2.0798, -3.1927, -4.6286, -4.6484, -5.5894, -3.7891, -5.1203, -3.5793, -5.8233, -4.24, -4.1531, -4.1031, -4.2281, -3.5472, -4.9118, -5.5569, -3.9142, -4.3632, -5.4443, -4.6486, -5.3911, -5.5112, -5.4776, -3.8477, -5.3539, -5.4723, -5.5701, -5.5802, -5.5807, -5.8876, -5.697, -6.5326, -6.7149, -5.3641, -6.7916, -6.887, -6.9044, -7.0054, -6.2658, -7.2717, -5.1931, -3.8708, -4.6572, -3.9961, -5.24, -6.7484, -6.8577, -6.812, -6.6178, -5.4414, -5.7532, -5.1537, -5.6186, -4.9894, -3.3292, -5.2738, -3.8569, -4.8476, -5.8258, -4.6321, -4.6575, -3.2095, -5.1117, -5.2509, -5.0234, -4.4006, -3.7686, -3.858, -4.7267, -3.5751, -5.0066, -4.9491, -4.9661, -5.2291, -4.6137, -4.9922, -4.5873, -4.3992, -5.026, -4.9335, -5.1962, -5.1752, -7.9402, -7.9402, -7.9402, -7.9402, -7.9402, -7.9402, -7.9402, -7.9402, -7.9402, -7.9402, -7.9402, -7.9402, -7.9402, -7.9402, -7.9402, -7.9402, -7.9402, -7.9402, -7.9402, -7.9402, -7.9402, -7.9402, -7.9402, -7.9402, -7.9402, -7.9402, -7.9402, -7.9402, -7.9402, -7.9402, -7.9402, -7.9402, -7.9402, -7.9402, -7.9402, -7.9402, -7.9402, -7.9402, -7.9402, -7.9402, -7.9402, -7.9402, -7.9402, -7.9402, -7.9402, -7.9402, -7.9402, -7.9402, -7.9402, -7.9402, -7.9402, -7.9402, -7.9402, -7.9402, -7.9402, -7.9402, -7.9402, -7.9402, -7.9402, -7.9402, -1.135, -2.2355, -2.2506, -3.0574, -3.6629, -3.9293, -4.3463, -4.0621, -4.1927, -3.3736, -4.6179, -4.6924, -6.194, -3.3198, -5.7144, -3.8115, -2.3436, -5.2033, -6.2662, -5.8753, -5.8659, -4.1349, -4.2741, -4.5822, -5.6672, -6.4384, -4.6508, -5.5632, -6.0654, -6.9554, -6.1902, -5.485, -5.358, -5.987, -6.0874, -3.7729, -4.9908, -5.1107, -5.2553, -5.4566, -5.4668, -5.4791, -5.7255, -5.88, -6.4541, -6.0743, -6.7513, -4.0224, -3.7531, -6.4049, -2.7427, -5.5994, -4.9064, -5.6761, -6.6277, -5.9801, -6.9172, -5.8574, -4.6102, -5.2336, -2.0141, -5.8395, -5.332, -6.3844, -2.5394, -2.5472, -3.6664, -5.0578, -4.9576, -3.9145, -5.1035, -5.5952, -3.6404, -4.391, -4.9467, -3.9591, -5.1359, -5.0009, -4.5505, -5.0351, -3.9599, -4.6811, -4.9014, -4.8344, -4.6581, -5.056, -5.0394, -5.0046, -5.1021, -1.2552, -3.3647, -4.0437, -4.0854, -1.6368, -2.0133, -3.6519, -3.9206, -2.2206, -4.683, -5.9433, -5.3699, -4.5964, -5.5288, -6.1388, -6.6787, -5.3325, -4.5869, -5.4505, -5.8502, -6.3021, -6.89, -5.8315, -5.9281, -7.0102, -6.3051, -6.3911, -6.4789, -7.1997, -6.4181, -4.8116, -4.2903, -4.8617, -4.2757, -4.9271, -5.9686, -5.7581, -5.7694, -5.8567, -5.8874, -3.1874, -3.2837, -3.6953, -3.7592, -3.8461, -4.3367, -4.3555, -4.5839, -5.5035, -4.3759, -4.129, -5.7752, -5.8069, -4.1902, -1.2121, -3.9255, -3.8005, -4.1266, -5.7429, -3.7358, -4.4794, -2.5688, -4.7241, -5.2605, -2.8417, -5.6083, -5.9161, -6.6394, -5.1201, -4.3337, -3.9455, -5.1681, -4.1464, -4.2907, -4.3097, -4.1396, -5.0364, -3.1541, -1.9213, -4.2734, -0.469, -3.1806, -4.3824, -4.7573, -4.3051, -3.0355, -7.4388, -6.1133, -6.1091, -6.2684, -5.5123, -6.2108, -6.7414, -7.1957, -7.3946, -7.6502, -6.3853, -7.8694, -5.5314, -7.0097, -8.3682, -5.8815, -5.2169, -8.7333, -6.8497, -7.5641, -6.4627, -5.7162, -7.9881, -1.6484, -2.062, -2.1723, -2.272, -2.3, -2.323, -2.8369, -3.317, -2.5672, -4.8529, -5.2649, -6.0424, -5.4654, -6.3894, -4.7059, -4.366, -6.3722, -10.9529, -10.9529, -10.9529, -10.9529, -10.9529, -10.9529, -10.9529, -10.9529, -10.9529, -10.9529, -10.9529, -10.9529, -10.9529, -10.9529, -10.9529, -10.9529, -10.9529, -10.9529, -10.9529, -10.9529, -10.9529, -10.9529, -10.9529, -10.9529, -10.9529, -10.9529, -4.062, -4.0705, -4.4575, -4.4918, -4.5947, -5.2924, -4.2359, -4.3703, -1.5577, -4.5023, -2.3397, -4.4668, -3.2367, -3.9719, -3.1316, -3.8719, -6.5887, -6.1395, -4.9414, -2.8919, -2.7788, -5.4745, -3.2358, -5.4307, -3.4111, -4.5906, -4.8049, -5.4816, -5.3603, -5.9955, -5.8587, -4.6317, -3.6403, -4.3531, -4.627, -4.9983, -4.974, -5.2074, -1.5967, -1.8546, -2.1576, -2.5276, -2.6988, -3.1255, -3.9005, -4.3367, -1.3613, -11.0465, -11.0465, -11.0465, -11.0465, -11.0465, -11.0465, -11.0465, -11.0465, -11.0465, -11.0465, -11.0465, -11.0465, -11.0465, -11.0465, -11.0465, -11.0465, -11.0465, -11.0465, -11.0465, -11.0465, -11.0465, -10.8975, -11.0464, -11.0465, -11.0465, -11.0465, -11.0465, -11.0465, -11.0465, -11.0465, -11.0465, -11.0465, -11.0465, -11.0465, -11.0465, -11.0465, -11.0465, -11.0465, -11.0465, -11.0465, -11.0465, -11.0465, -3.0704, -1.0513, -4.1456, -4.3375, -4.3772, -4.378, -4.5146, -4.6841, -5.0448, -5.3444, -5.3973, -5.8719, -6.0435, -4.8738, -6.1363, -3.0421, -6.2994, -4.5813, -4.6081, -3.2054, -6.0312, -3.781, -5.8265, -2.9339, -2.958, -4.6145, -2.4752, -6.3894, -5.4555, -4.5756, -5.1409, -3.7537, -4.5708, -4.9206, -4.8844, -5.4273, -5.6592, -1.7163, -2.199, -2.3887, -2.5956, -3.1472, -3.169, -2.5519, -3.2016, -3.2702, -3.4431, -3.5651, -3.8019, -3.8126, -3.2826, -4.207, -4.026, -3.6692, -4.4778, -3.8919, -5.6271, -5.3838, -5.5727, -4.2087, -6.7056, -6.7563, -5.7669, -6.043, -6.6918, -6.5336, -5.6473, -2.9837, -3.4188, -3.4394, -3.349, -3.6449, -4.6218, -4.7638, -2.1089, -5.4007, -2.8295, -3.538, -4.366, -4.111, -3.9828, -1.8297, -2.0455, -5.5084, -4.0605, -4.9845, -5.2343, -6.2439, -3.5022, -2.6517, -6.0968, -5.2893, -4.562, -4.7755, -6.8079, -5.908, -6.154, -6.0109, -5.1455, -4.5308, -4.6783, -4.7449, -5.4377, -2.1088, -2.9767, -3.0829, -3.3866, -2.473, -3.8263, -3.8402, -4.0366, -4.1862, -4.1952, -4.2821, -4.5231, -4.938, -2.8344, -3.9881, -3.1276, -3.4183, -4.4606, -4.3408, -4.3056, -4.4256, -4.6808, -3.524, -5.3573, -4.6725, -2.6446, -3.6012, -3.0575, -2.9297, -5.2949, -4.7081, -4.2293, -4.6171, -1.6265, -2.8147, -2.8345, -3.1626, -3.7824, -4.0865, -4.1127, -3.5007, -4.0656, -3.2138, -4.4256, -4.5902, -2.2751, -4.2363, -4.9785, -4.3095, -5.5492, -4.1284, -5.4918, -4.855, -2.188, -4.8865, -4.3928, -6.6604, -4.5519, -5.6737, -4.4613, -4.9494, -4.2295, -6.179, -4.448, -5.429, -5.2613, -5.1876, -4.2651, -5.0549, -1.5737, -1.9276, -2.0152, -2.0998, -2.1701, -2.2342, -2.8406, -3.2934, -3.9691, -10.823, -10.823, -10.823, -10.823, -10.823, -10.823, -10.823, -10.823, -10.823, -10.823, -10.823, -10.823, -10.823, -10.823, -10.823, -10.823, -10.823, -10.823, -10.823, -10.823, -10.823, -10.823, -10.823, -10.823, -10.823, -10.823, -10.823, -10.823, -10.823, -10.823, -10.823, -10.823, -10.823, -10.823, -10.823, -10.823, -10.823, -10.823, -10.823, -10.823, -10.823, -10.823, -2.1507, -2.8514, -3.3287, -3.5893, -3.7547, -2.4747, -4.1164, -4.21, -4.4694, -4.5397, -4.5753, -4.5934, -5.1347, -4.4622, -4.0005, -4.5513, -4.6077, -3.2152, -3.2346, -5.0419, -4.8189, -2.705, -5.5448, -5.0154, -4.1334, -3.6457, -3.6703, -5.2678, -3.6658, -4.7388, -3.2384, -3.1791, -3.9313, -4.7839, -4.9656, -4.9429, -2.471, -2.5999, -2.6201, -2.7753, -3.2015, -3.4341, -2.3003, -3.6927, -4.0307, -4.0311, -4.1012, -4.2466, -4.3716, -2.9783, -1.7862, -4.1888, -3.2929, -3.1285, -3.7918, -5.1692, -3.4733, -5.4871, -5.085, -4.9043, -6.1998, -5.5168, -6.9163, -6.4814, -5.5275, -7.1354, -6.1387, -6.3903, -1.4017, -2.1366, -2.4045, -2.4732, -2.5155, -2.8132, -2.8918, -3.0202, -3.2063, -3.2236, -4.3994, -3.2215, -6.1699, -3.9807, -5.1759, -4.4233, -5.8419, -5.3339, -6.8897, -11.2474, -11.2474, -11.2474, -11.2474, -11.2474, -11.2474, -11.2474, -11.2474, -11.2474, -11.2474, -11.2474, -11.2472, -11.2473, -11.2473, -11.2474, -11.2474, -11.2474, -11.2474, -11.2474, -11.2474, -11.2474, -11.2474, -1.4974, -4.0392, -2.6521, -4.6768, -5.6114, -5.7097, -5.7267, -6.3634, -6.0102, -3.4169, -4.2769, -4.0655, -4.8629, -3.787, -5.5301, -5.4216, -6.5867, -2.5205, -4.6673, -4.3494, -4.22, -2.2432, -5.2819, -4.8292, -5.6913, -5.1967, -5.5743, -4.3358, -3.8753, -3.3354, -3.4899, -4.6521, -4.8667, -5.1875, -4.8914, -5.2965, -5.4814, -5.1339, -5.2697, -5.4103, -2.4036, -1.4788, -3.0932, -3.5812, -3.5892, -3.8164, -4.9048, -5.0935, -5.5795, -1.9094, -2.021, -5.0687, -4.9991, -2.6198, -4.5436, -4.5844, -5.1276, -5.2891, -5.0482, -6.7488, -4.6485, -5.0685, -5.0239, -5.7184, -5.7989, -3.8188, -5.271, -5.8861, -5.5319, -5.8984, -4.4035, -5.8008, -5.8147, -3.5778, -2.5055, -2.8564, -5.0825, -4.2902, -5.5753, -4.2361, -5.5822, -6.5095, -6.6135, -5.9226, -4.8149, -5.7824, -5.603, -4.981, -5.5501, -3.7908, -4.5435, -5.352, -2.1367, -2.8466, -4.2166, -2.6271, -4.7239, -3.6716, -6.2145, -5.187, -2.9461, -5.6791, -6.4079, -3.2462, -4.3578, -4.9931, -3.6673, -3.6112, -4.3722, -5.2092, -4.801, -4.6915, -4.8096, -5.0374, -5.107, -5.1127, -4.6865, -5.0719, -5.0802, -5.4779, -5.5578, -2.2206, -5.8779, -5.3757, -6.2011, -4.664, -6.3158, -6.3382, -6.5998, -5.0903, -5.3019, -6.8722, -4.9516, -5.2183, -4.9126, -4.8315, -5.8477, -5.2317, -6.6282, -4.4107, -3.0913, -4.9443, -5.3126, -5.3512, -5.0175, -6.6207, -4.4369, -3.4221, -3.3339, -3.1282, -3.8274, -4.4008, -3.8666, -2.9603, -3.6113, -4.7783, -3.806, -3.3966, -3.2535, -3.7821, -4.889, -3.9306, -4.261, -4.3492, -4.0409, -4.4571, -4.9541, -4.8774, -3.8419, -4.095, -4.2378, -4.6702, -4.8252, -4.9204, -5.1077, -3.5233, -6.1447, -4.2721, -6.3991, -4.2873, -4.6829, -4.3804, -5.2725, -6.2783, -1.5837, -3.549, -5.3307, -3.1777, -5.1871, -5.3868, -5.2574, -3.7349, -3.9461, -6.354, -4.3832, -4.809, -5.2608, -4.1298, -2.8196, -4.1339, -3.752, -4.4168, -5.008, -4.876, -4.6961, -4.7212, -4.8119, -4.8918, -4.8942, -2.8219, -5.2292, -5.309, -5.4067, -4.4808, -6.0554, -6.137, -6.3377, -6.5637, -6.6151, -4.3842, -3.4202, -6.0467, -4.9767, -3.9116, -4.7934, -5.3406, -4.7048, -2.4207, -7.0318, -6.1787, -5.076, -6.9477, -5.7099, -3.2314, -5.6556, -5.5877, -6.6586, -3.399, -4.233, -2.4128, -2.236, -3.4927, -3.9719, -3.8044, -4.5535, -4.5187, -5.3802, -4.3082, -4.2227, -4.8187, -4.3182, -5.1921, -5.2041, -4.9635, -5.0491, -5.1017, -5.177, -4.9252, -5.4599, -5.5477, -5.7439, -5.7927, -5.793, -3.8212, -6.0203, -6.0459, -6.0549, -6.1958, -6.2198, -6.2382, -5.9746, -6.3324, -6.3619, -6.5311, -6.6133, -6.7233, -6.801, -7.0089, -7.1315, -7.1555, -7.2163, -7.2378, -7.1975, -7.4075, -6.0881, -7.513, -7.3855, -4.0016, -6.3163, -4.8756, -4.9854, -5.5306, -3.8266, -5.7471, -3.6865, -5.8616, -3.7687, -5.1701, -5.8421, -5.3895, -4.3311, -4.9948, -5.7643, -4.6488, -4.1825, -4.3098, -5.4192, -4.9922, -5.3676, -5.3612, -4.94, -3.9787, -5.1032, -5.2345, -5.1027, -4.5856, -4.8154, -4.5216, -4.7241, -4.9645, -4.8221, -5.0635, -5.0595, -5.1529, -5.212, -5.1562, -5.1396, -5.1641, -1.4279, -4.6847, -4.9683, -3.9839, -4.8283, -1.8425, -1.9559, -5.4757, -4.7819, -3.1887, -2.6587, -5.402, -5.0428, -4.5819, -3.5139, -2.2832, -4.196, -6.3618, -3.0574, -6.0824, -5.8189, -4.8336, -6.5256, -7.3985, -6.4465, -6.695, -5.5015, -7.0209, -6.8744, -6.6911, -4.9603, -5.3595, -6.5723, -5.6066, -5.5251, -5.7063, -5.91, -5.8426, -0.3252, -6.0104, -5.7037, -5.8409, -6.1447, -5.9909, -7.0442, -5.4631, -7.4121, -6.3246, -4.6081, -7.3288, -5.8154, -6.25, -4.1608, -6.7095, -6.7957, -5.2189, -7.6746, -5.1999, -7.2862, -5.8663, -7.3436, -5.9297, -7.5566, -7.4115, -7.2709, -7.5309, -5.0803, -6.5807, -6.0137, -5.9289, -5.2787, -5.3298, -4.2611, -5.6545, -6.0415, -4.9956, -4.5295, -5.648, -5.2637, -6.1894, -5.5841, -6.1399, -6.0044, -5.5044, -5.9444, -5.9076, -5.9978, -2.1506, -2.8593, -3.2905, -3.9501, -4.1111, -4.1668, -4.2076, -4.2142, -4.3867, -4.4418, -4.4901, -4.6049, -5.0627, -5.226, -2.7032, -2.9506, -5.3187, -1.2462, -3.9043, -1.7597, -6.0036, -5.3693, -6.2192, -6.1736, -5.7991, -4.667, -5.7554, -7.2212, -6.716, -6.1751, -5.9974, -4.5126, -4.7739, -5.3272, -5.5969, -5.7667, -2.7838, -5.4872, -6.8537, -4.8763, -5.3566, -2.9707, -5.1501, -1.6041, -5.2534, -4.0615, -5.7156, -5.8658, -5.6985, -3.6552, -5.9322, -7.118, -3.2751, -5.9714, -6.9231, -6.0136, -6.1124, -3.2509, -5.5125, -7.1644, -5.059, -4.0995, -3.2299, -2.1381, -4.3087, -5.319, -4.275, -5.0936, -4.3227, -4.8775, -5.3575, -4.7944, -4.8404, -4.9295, -5.0663, -5.0795, -5.3072, -0.8975, -1.7299, -5.0157, -4.0315, -6.5977, -5.7468, -6.8045, -6.9254, -4.7169, -6.4346, -4.5649, -4.9953, -4.907, -7.4909, -4.3883, -5.4121, -6.6381, -4.6758, -6.4205, -5.2122, -4.1617, -5.947, -6.0774, -5.6304, -4.4141, -6.3662, -5.7311, -5.065, -5.6167, -6.107, -4.3267, -5.3545, -4.8788, -5.4427, -4.2969, -4.799, -4.9937, -4.9983, -5.309, -4.8404, -5.3837, -5.4758, -5.187, -5.1263, -5.2968, -5.3854, -5.3976, -5.4061, -2.6883, -2.9693, -3.2141, -3.8251, -4.3707, -4.4524, -4.8197, -3.2736, -5.1493, -5.2491, -5.2926, -3.0299, -1.7147, -4.833, -3.183, -4.9674, -3.7253, -4.435, -3.6538, -4.9401, -5.8598, -4.5141, -2.8565, -4.5824, -5.381, -5.79, -4.3983, -5.0686, -4.7135, -4.7897, -2.9605, -4.4578, -3.92, -4.2169, -4.0669, -4.9433, -4.6872, -4.7483, -4.8988, -2.2064, -2.1596, -3.5431, -3.6098, -4.1717, -4.4431, -4.481, -4.8008, -6.2313, -2.7278, -5.0547, -2.2114, -5.8135, -2.5169, -3.7914, -4.0967, -3.5016, -4.5984, -4.1997, -3.3734, -4.6647, -4.7182, -5.3344, -6.0178, -4.9778, -3.8547, -5.7251, -5.0297, -6.8907, -5.0382, -4.6358, -4.6448, -4.6299, -5.357, -4.7, -5.077, -4.7558, -4.6255, -4.7486, -5.1587, -5.3144, -5.4418, -5.5449, -5.7748, -5.9139, -6.2166, -4.3817, -6.5259, -6.6446, -6.6735, -6.703, -5.5576, -7.1298, -7.139, -7.2235, -3.7538, -7.1369, -5.8149, -2.4522, -6.0943, -5.4206, -1.668, -5.1984, -7.2244, -5.9759, -6.0661, -4.8252, -3.5294, -5.1128, -4.6183, -4.496, -5.1436, -4.3353, -3.9079, -5.6077, -4.7136, -4.8631, -4.8054, -4.9444, -4.5443, -4.8859, -4.5582, -4.4332, -4.4779, -4.2225, -4.9723, -4.6729, -4.8005, -5.0622, -4.8532, -5.0175, -5.0668, -5.0781, -5.1867, -5.1952, -5.9629, -6.0546, -6.2017, -6.2081, -6.5658, -1.9778, -6.269, -4.5393, -5.5026, -2.4757, -4.2911, -5.5615, -2.1151, -4.1399, -4.984, -6.3294, -2.3479, -4.0075, -4.8676, -5.5313, -4.2776, -6.7763, -5.768, -5.8422, -4.6168, -3.2753, -3.4115, -4.579, -4.5135, -3.6139, -4.7893, -4.1826, -4.1614, -4.2193, -4.6941, -5.1948, -4.6045, -4.8927, -4.4287, -4.5717, -4.1, -4.9404, -4.8499, -4.9428, -4.9653, -2.3847, -4.2607, -4.4856, -5.2607, -5.4415, -5.2129, -6.0002, -6.2173, -6.3596, -6.4147, -4.9734, -6.5464, -6.6159, -6.625, -6.653, -6.659, -6.6797, -6.6971, -6.7062, -6.7296, -6.8396, -6.8568, -6.9488, -6.9837, -6.9858, -7.0021, -7.0061, -7.0155, -7.0157, -6.6774, -5.7817, -5.0487, -3.4941, -6.0261, -4.7951, -6.3828, -3.2178, -6.1272, -4.7938, -6.1501, -5.7209, -3.6166, -5.288, -4.1481, -6.1541, -5.291, -5.6863, -5.9243, -5.713, -4.4729, -5.5067, -5.3312, -5.3207, -5.0598, -4.7088, -5.4072, -4.8517, -4.9295, -5.2893, -5.2914, -5.4271, -5.1235, -5.4367, -5.2966, -5.4191, -2.1896, -3.1378, -3.3744, -3.8577, -3.8772, -4.2161, -4.2317, -4.3289, -4.4578, -4.8897, -4.2146, -3.6659, -5.8722, -5.974, -5.9832, -6.1347, -3.1907, -3.9236, -5.9518, -5.0766, -4.8573, -3.7217, -4.2324, -5.4306, -5.2838, -4.6167, -2.7026, -5.0027, -5.2454, -5.5606, -4.5977, -4.5811, -3.4849, -4.944, -4.985, -4.2305, -4.8596, -4.0794, -3.7781, -4.332, -3.9032, -4.744, -4.7356, -4.5666, -4.6244, -4.7724, -4.7472, -2.3625, -3.4006, -3.6309, -4.3064, -0.8129, -5.8124, -3.7967, -4.3634, -2.0958, -3.7991, -3.311, -3.4478, -4.1938, -4.9152, -5.8597, -4.8006, -6.322, -5.6951, -4.5567, -5.6166, -7.9158, -6.2339, -6.4289, -6.3904, -4.7785, -5.1673, -6.019, -6.6929, -6.5777, -6.1413, -5.4126, -6.1858, -5.5677, -5.8561, -5.962, -5.5192, -5.8894, -6.0677, -6.0323, -3.1821, -4.2487, -5.2213, -5.3207, -4.7736, -4.8955, -6.2584, -6.3001, -4.7695, -3.1722, -4.0506, -4.5899, -4.2939, -5.0336, -5.047, -4.4922, -5.1613, -4.1848, -2.089, -4.0428, -5.0685, -5.1269, -3.2075, -3.293, -4.461, -3.926, -4.9467, -3.0364, -3.6816, -4.0288, -2.5709, -3.2158, -4.5015, -4.1415, -4.17, -5.0075, -4.6551, -4.9041, -4.9451, -4.8793, -7.9402, -7.9402, -7.9402, -7.9402, -7.9402, -7.9402, -7.9402, -7.9402, -7.9402, -7.9402, -7.9402, -7.9402, -7.9402, -7.9402, -7.9402, -7.9402, -7.9402, -7.9402, -7.9402, -7.9402, -7.9402, -7.9402, -7.9402, -7.9402, -7.9402, -7.9402, -7.9402, -7.9402, -7.9402, -7.9402, -7.9402, -7.9402, -7.9402, -7.9402, -7.9402, -7.9402, -7.9402, -7.9402, -7.9402, -7.9402, -7.9402, -7.9402, -7.9402, -7.9402, -7.9402, -7.9402, -7.9402, -7.9402, -7.9402, -7.9402, -7.9402, -7.9402, -7.9402, -7.9402, -7.9402, -7.9402, -7.9402, -7.9402, -7.9402, -7.9402, -2.0808, -4.062, -4.1646, -4.1719, -4.6555, -4.7762, -4.8856, -5.0536, -5.1875, -5.2912, -5.4509, -5.8153, -6.083, -4.7945, -5.1726, -5.424, -3.3148, -4.207, -4.3276, -6.6788, -1.8114, -6.1351, -5.534, -5.4737, -6.5074, -4.257, -5.2324, -3.3809, -3.831, -3.4781, -4.934, -3.5445, -4.845, -4.4269, -3.6342, -5.2187, -4.8428, -4.3558, -4.6989, -4.759, -4.936, -4.9891, -4.9156, -5.1342, -1.7385, -1.9103, -0.6557, -3.4083, -10.0262, -10.0262, -10.0262, -10.0262, -10.0262, -10.0262, -10.0262, -10.0262, -10.0262, -10.0262, -10.0262, -10.0262, -10.0262, -10.0262, -10.0262, -10.0262, -10.0262, -10.0262, -10.0262, -10.0262, -10.0262, -10.0262, -10.0262, -10.0262, -10.0262, -10.0262, -10.0262, -10.0262, -10.0262, -10.0262, -10.0262, -10.0262, -10.0262, -10.0262, -10.0262, -10.0262, -10.0262, -10.0262, -10.0262, -10.0262, -10.0262, -10.0262, -10.0262, -10.0262, -10.0262, -10.0262, -10.0262, -10.0262, -10.0262, -10.0262, -10.0262, -10.0262, -0.3046, -1.9655, -10.0391, -10.0391, -10.0391, -10.0391, -10.0391, -10.0391, -10.0391, -10.0391, -10.0391, -10.0391, -10.0391, -10.0391, -10.0391, -10.0391, -10.0391, -10.0391, -10.0391, -10.0391, -10.0391, -10.0391, -10.0391, -10.0391, -10.0391, -10.0391, -10.0391, -10.0391, -10.0391, -10.0391, -10.0391, -10.0391, -10.0391, -10.0391, -10.0391, -10.0391, -10.0391, -10.0391, -10.0391, -10.0391, -10.0391, -10.0391, -10.0391, -10.0391, -10.0391, -10.0391, -10.0391, -10.0391, -10.0391, -10.0391, -10.0391, -10.0391, -10.0391, -10.0391, -10.0391, -10.0391, -10.0391, -10.0391, -4.1465, -4.5006, -4.6514, -1.8182, -4.9886, -5.0462, -5.1988, -5.2856, -5.5818, -5.7984, -2.363, -5.1075, -1.4673, -2.9898, -5.6363, -5.218, -3.9451, -6.8607, -5.2529, -5.0179, -4.9232, -1.8406, -5.1962, -5.6456, -4.7598, -4.8068, -3.6986, -5.7924, -4.8855, -5.1042, -4.6013, -4.5971, -5.2133, -5.4329, -5.5735, -5.5237, -7.9402, -7.9402, -7.9402, -7.9402, -7.9402, -7.9402, -7.9402, -7.9402, -7.9402, -7.9402, -7.9402, -7.9402, -7.9402, -7.9402, -7.9402, -7.9402, -7.9402, -7.9402, -7.9402, -7.9402, -7.9402, -7.9402, -7.9402, -7.9402, -7.9402, -7.9402, -7.9402, -7.9402, -7.9402, -7.9402, -7.9402, -7.9402, -7.9402, -7.9402, -7.9402, -7.9402, -7.9402, -7.9402, -7.9402, -7.9402, -7.9402, -7.9402, -7.9402, -7.9402, -7.9402, -7.9402, -7.9402, -7.9402, -7.9402, -7.9402, -7.9402, -7.9402, -7.9402, -7.9402, -7.9402, -7.9402, -7.9402, -7.9402, -7.9402, -7.9402, -0.8578, -8.4917, -8.4917, -8.4917, -8.4917, -8.4917, -8.4917, -8.4917, -8.4917, -8.4917, -8.4917, -8.4917, -8.4917, -8.4917, -8.4917, -8.4917, -8.4917, -8.4917, -8.4917, -8.4917, -8.4917, -8.4917, -8.4917, -8.4917, -8.4917, -8.4917, -8.4917, -8.4917, -8.4917, -8.4917, -8.4917, -8.4917, -8.4917, -8.4917, -8.4917, -8.4917, -8.4917, -8.4917, -8.4917, -8.4917, -8.4917, -8.4917, -8.4917, -8.4917, -8.4917, -8.4917, -8.4917, -8.4917, -8.4917, -8.4917, -8.4917, -8.4917, -8.4917, -8.4917, -8.4917, -8.4917, -8.4917, -8.4917, -8.4917, -1.2104, -2.2195, -3.5392, -0.7864, -2.6136, -11.2775, -11.2775, -11.2775, -11.2775, -11.2775, -11.2775, -11.2775, -11.2775, -11.2775, -11.2775, -11.2775, -11.2775, -11.2775, -11.2775, -11.2775, -11.2775, -11.2775, -11.2775, -11.2775, -11.2775, -11.2775, -11.2775, -11.2775, -11.2775, -11.2775, -11.2726, -11.2775, -11.2775, -11.2775, -11.2775, -11.2775, -11.2775, -11.2775, -11.2775, -11.2775, -11.2775, -11.2775, -11.2775, -11.2775, -11.2775, -11.2775, -11.2775, -11.2775, -11.2775, -11.2775, -11.2775, -11.2775, -11.2775, -11.2775, -11.2775, -3.1757, -4.0902, -2.1013, -4.8878, -5.0499, -5.3558, -5.0703, -3.5477, -6.1416, -4.1413, -4.634, -5.0236, -2.7236, -4.2254, -5.7984, -1.8239, -3.7797, -5.7467, -3.5802, -3.9832, -5.3309, -4.344, -4.1427, -4.6189, -6.056, -5.6074, -3.6559, -6.8908, -4.5226, -5.4102, -3.6748, -3.3501, -4.2753, -4.7005, -4.4241, -4.8214, -4.5845, -4.2985, -4.8203, -4.7305, -0.8266, -0.9408, -9.6989, -9.6989, -9.6989, -9.6989, -9.6989, -9.6989, -9.6989, -9.6989, -9.6989, -9.6989, -9.6989, -9.6989, -9.6989, -9.6989, -9.6989, -9.6989, -9.6989, -9.6989, -9.6989, -9.6989, -9.6989, -9.6989, -9.6989, -9.6989, -9.6989, -9.6989, -9.6989, -9.6989, -9.6989, -9.6989, -9.6989, -9.6989, -9.6989, -9.6989, -9.6989, -9.6989, -9.6989, -9.6989, -9.6989, -9.6989, -9.6989, -9.6989, -9.6989, -9.6989, -9.6989, -9.6989, -9.6989, -9.6989, -9.6989, -9.6989, -9.6989, -9.6989, -9.6989, -9.6989, -9.6989, -9.6989, -2.7376, -2.7657, -4.8204, -4.8726, -5.0464, -5.4883, -5.5108, -5.0495, -5.8007, -3.972, -6.3746, -2.158, -4.8449, -4.4174, -4.1923, -1.8892, -4.8277, -4.2479, -4.8218, -2.5066, -5.0036, -4.0337, -5.4529, -3.0377, -7.0547, -4.508, -3.8339, -4.8501, -3.8603, -5.1892, -4.1484, -4.2745, -3.5907, -4.6841, -4.4442, -4.5833, -5.1119, -4.8177, -5.2817, -5.5989, -5.8227, -6.5237, -6.5244, -6.6086, -6.8208, -0.9953, -4.9162, -6.6718, -2.322, -5.1059, -3.9715, -2.8494, -5.4567, -2.4715, -6.2108, -5.4409, -2.4376, -4.897, -4.7382, -5.1852, -6.2393, -6.0826, -5.2447, -3.4158, -5.7033, -6.3521, -5.9846, -4.6401, -4.9541, -4.8952, -5.1747, -4.9162, -5.5951, -5.5504, -5.4108, -5.274, -5.5812, -5.2913, -5.2495, -0.183, -4.5723, -6.1625, -6.3255, -4.5472, -5.0419, -5.6083, -5.3483, -6.1354, -5.6944, -5.0465, -5.0013, -5.7179, -5.9561, -6.5859, -5.4806, -6.7154, -4.8049, -7.6159, -7.4157, -6.5351, -5.8944, -7.2676, -6.6342, -7.0246, -6.2958, -7.3887, -6.4899, -7.406, -6.5049, -6.2338, -4.9391, -5.0093, -4.9795, -5.9754, -5.363, -5.4542, -5.9156, -5.4366, -5.879, -6.4053, -6.4254, -1.6051, -1.9849, -2.6113, -2.768, -3.4809, -4.3575, -4.2823, -3.8407, -1.5509, -4.2203, -4.3672, -4.5316, -4.5444, -4.4878, -5.1988, -4.87, -4.8621, -4.1782, -5.6224, -7.0989, -6.5059, -5.8574, -4.5956, -5.1954, -4.8831, -5.6695, -5.6446, -5.2774, -4.1781, -7.9866, -6.8694, -5.0397, -4.4413, -4.96, -5.1398, -5.1336, -4.6781, -5.4445, -1.934, -2.0175, -2.349, -2.5375, -2.9658, -3.1823, -3.645, -3.7544, -3.8608, -5.2787, -4.7852, -2.5284, -2.721, -4.2873, -2.4331, -4.1445, -4.3557, -4.7342, -5.7178, -5.1482, -4.8086, -5.9016, -4.2838, -5.871, -6.3556, -5.514, -5.9927, -6.3147, -6.8483, -5.4613, -5.0914, -6.0235, -4.4552, -4.6815, -4.8003, -5.0516, -5.0984, -5.1059, -5.2893, -5.4012, -5.475, -5.9163, -5.9613, -3.4995, -6.2176, -4.5852, -6.015, -3.4627, -4.8146, -5.1474, -3.988, -4.5559, -5.4524, -3.8777, -4.9555, -1.9075, -4.1267, -4.7275, -4.1749, -3.6689, -4.0789, -4.4268, -3.2627, -2.2894, -4.1979, -4.7612, -4.5243, -4.2541, -3.4832, -3.4584, -4.4736, -3.7379, -4.358, -4.3324, -4.697, -4.7098, -4.9971, -5.5853, -5.6696, -5.7988, -5.8104, -5.8358, -4.6434, -3.7976, -5.1318, -5.2659, -4.8479, -5.5071, -4.4632, -4.1731, -3.4559, -5.0341, -5.0922, -3.061, -4.0878, -3.444, -5.4197, -2.8349, -7.0795, -2.2768, -6.1676, -5.4686, -4.585, -6.9599, -7.312, -5.364, -5.7869, -5.3815, -4.0859, -4.9094, -3.5187, -4.6675, -4.019, -2.3767, -4.0669, -3.9633, -4.7131, -4.8625, -5.0225, -4.6441, -4.1435, -4.3457, -4.842, -4.8954, -4.8379, -4.8491, -4.9948, -1.9728, -2.6391, -3.492, -1.673, -0.9294, -3.764, -3.8827, -3.6762, -5.3738, -5.5242, -4.2001, -4.1828, -5.9566, -4.8126, -4.818, -4.9364, -5.3021, -6.0126, -6.3497, -5.9332, -6.0673, -6.4654, -5.769, -5.8356, -6.3721, -11.8877, -11.8877, -11.8877, -11.8877, -11.8877, -9.4935, -11.8731, -11.8875, -11.8877, -11.8877, -3.2584, -3.5637, -4.3622, -4.4154, -3.7529, -4.5697, -4.721, -4.8711, -4.9796, -4.4808, -5.3061, -5.6105, -5.6458, -5.7172, -5.8398, -5.7553, -6.2168, -5.36, -6.2808, -3.9012, -6.1041, -5.0814, -4.6571, -2.211, -4.5545, -3.8473, -6.0927, -6.0793, -4.2466, -6.2207, -3.5524, -2.3815, -4.1823, -2.953, -4.2412, -4.1998, -4.6715, -4.6546, -4.6684, -4.6127, -5.0117, -4.7742, -4.3538, -4.6188, -4.8993, -4.8721, -6.1806, -6.3725, -6.3921, -6.6356, -6.8424, -6.8538, -6.0552, -6.9429, -7.2817, -6.4683, -7.5023, -7.5927, -7.5547, -7.6542, -6.9713, -8.0113, -7.6563, -8.1423, -8.1672, -8.1681, -6.8502, -7.144, -7.2007, -6.7944, -7.3895, -7.785, -6.7789, -6.9496, -4.2369, -6.5129, -4.0923, -3.5397, -2.7732, -4.3131, -4.622, -6.0842, -4.0379, -5.5583, -5.8218, -3.8726, -6.575, -5.3624, -5.4143, -5.5884, -4.5845, -4.9258, -3.2673, -5.461, -5.2359, -3.8634, -4.7677, -5.1336, -4.7776, -5.9283, -4.9452, -5.5749, -4.7393, -5.0015, -4.8924, -5.2602, -4.7417, -4.9315, -5.0814, -5.0379, -4.8887, -5.0508, -5.0022, -5.1541, -5.1481, -5.0754, -5.02, -5.1437, -2.0767, -3.1445, -4.0643, -4.2895, -4.6081, -5.0637, -1.7007, -5.8737, -1.7499, -4.2026, -4.2615, -3.7333, -3.5812, -4.1135, -5.9563, -2.919, -2.9243, -3.6148, -5.9119, -4.9638, -4.9333, -6.8311, -5.4771, -6.0636, -5.1261, -6.4423, -6.5405, -2.5652, -5.5652, -5.1627, -5.2964, -4.7714, -5.0377, -5.6819, -5.4573, -5.7304, -2.657, -2.6707, -3.0274, -3.2812, -3.3425, -3.6375, -3.7578, -3.7883, -4.154, -4.2327, -5.4196, -3.6417, -5.7256, -4.8294, -4.9062, -4.5357, -2.3158, -4.276, -4.8832, -2.4481, -3.5465, -4.5603, -5.0852, -4.6292, -2.5003, -3.3245, -4.8882, -5.6494, -5.0373, -5.1191, -3.8882, -3.7167, -4.6175, -4.7871, -4.7721, -4.8835, -4.8761, -2.5307, -2.9485, -3.9194, -4.7608, -4.0988, -5.0813, -5.2478, -5.357, -3.9695, -5.9854, -6.0458, -6.0871, -5.4992, -4.8639, -6.4887, -5.3122, -4.4148, -2.3236, -5.3706, -5.0998, -4.5081, -4.9256, -3.4542, -4.5792, -5.1562, -4.7757, -5.4559, -3.4341, -6.467, -4.4099, -4.904, -3.7054, -2.6304, -3.5007, -4.5184, -4.4174, -4.2895, -4.5128, -4.3, -4.8538, -4.9929, -4.1019, -4.7389, -4.8149, -4.5962, -4.6813, -4.8135, -4.8636, -4.7768, -5.2043, -5.5189, -5.6873, -5.7143, -5.723, -5.7904, -5.7969, -5.8172, -5.9021, -6.1814, -6.1898, -6.3928, -6.7129, -6.9667, -7.0358, -7.1203, -7.2627, -7.2831, -7.446, -5.1919, -6.1817, -5.3689, -6.2046, -4.5077, -5.2667, -1.6161, -6.5036, -5.5643, -5.4064, -3.7823, -4.3776, -4.4636, -5.4536, -5.5775, -5.4598, -4.9025, -5.8103, -4.2734, -4.3131, -5.3792, -4.2626, -5.2824, -5.3095, -5.2247, -4.6814, -4.4529, -4.9499, -4.71, -5.096, -4.6933, -4.2062, -4.9073, -4.9967, -4.837, -5.0804, -5.0435, -5.1942, -5.1464, -5.245, -5.0726, -5.2505, -0.6138, -8.7192, -8.7192, -8.7192, -8.7192, -8.7192, -8.7192, -8.7192, -8.7192, -8.7192, -8.7192, -8.7192, -8.7192, -8.7192, -8.7192, -8.7192, -8.7192, -8.7192, -8.7192, -8.7192, -8.7192, -8.7192, -8.7192, -8.7192, -8.7192, -8.7192, -8.7192, -8.7192, -8.7192, -8.7192, -8.7192, -8.7192, -8.7192, -8.7192, -8.7192, -8.7192, -8.7192, -8.7192, -8.7192, -8.7192, -8.7192, -8.7192, -8.7192, -8.7192, -8.7192, -8.7192, -8.7192, -8.7192, -8.7192, -8.7192, -8.7192, -8.7192, -8.7192, -8.7192, -8.7192, -8.7192, -8.7192, -8.7192, -8.7192, -1.5386, -1.4877, -2.898, -3.4423, -4.4242, -4.145, -4.9075, -5.6471, -2.0591, -3.849, -3.6822, -4.7148, -4.4414, -3.9982, -3.1913, -4.1964, -5.4538, -5.9512, -3.0974, -6.6486, -5.8108, -5.9191, -7.3567, -4.3142, -4.6878, -6.5985, -6.2526, -6.2093, -7.1101, -6.96, -5.1876, -5.2605, -4.0768, -5.4683, -5.4032, -5.6253, -4.7125, -5.6564, -5.6817, -6.018, -6.1485, -6.1926, -6.2505, -6.4477, -6.6337, -6.7634, -6.8068, -6.8191, -6.8233, -6.8907, -6.9742, -6.5965, -7.1098, -6.1136, -7.3462, -6.5466, -6.0055, -6.3282, -6.6281, -7.5361, -7.6124, -7.6169, -7.6525, -6.1588, -7.7395, -7.7642, -5.8672, -6.8102, -4.7499, -6.9802, -3.1271, -6.0014, -4.617, -6.2625, -5.9649, -5.4393, -5.6603, -6.061, -5.5426, -5.4148, -4.6857, -5.6631, -5.603, -4.4325, -4.8317, -5.9967, -5.4688, -5.7561, -5.2544, -5.4735, -5.6243, -5.2201, -4.5881, -4.7392, -5.1025, -5.5114, -5.3477, -5.036, -4.7316, -4.8903, -5.383, -5.1747, -5.2127, -5.3762, -5.4418, -5.2894, -5.1932, -5.4173, -5.4252, -5.4499, -3.0877, -4.1455, -4.557, -4.6407, -4.6708, -4.926, -5.0089, -3.8818, -5.2135, -5.2444, -4.7501, -5.6677, -5.9984, -6.3512, -6.3563, -6.3891, -4.6313, -4.9269, -5.4961, -3.6219, -5.3936, -2.9343, -5.4674, -5.8801, -6.3572, -5.3692, -3.9036, -5.9528, -5.9104, -6.5128, -6.1819, -4.3591, -3.2683, -3.5888, -5.1853, -3.7499, -4.6388, -3.6644, -4.9193, -4.5521, -3.6874, -5.0098, -3.8758, -4.6102, -4.3133, -4.1742, -4.7352, -4.9273, -4.7232, -4.8013, -4.8455, -4.8836, -4.9205, -2.5564, -2.8591, -3.1821, -3.7651, -3.6726, -3.6341, -1.5675, -3.8262, -4.8068, -1.6979, -4.8927, -4.3531, -5.271, -5.6237, -3.1745, -3.1585, -4.4424, -6.5698, -3.7574, -5.7166, -5.5061, -3.5771, -5.1688, -5.565, -4.0943, -4.9074, -6.2081, -6.6352, -6.4754, -5.3887, -5.7976, -5.8065, -4.8682, -5.7967, -5.5687, -5.4311, -5.5446, -5.6415, -5.6374]}, \"token.table\": {\"Topic\": [6, 36, 65, 60, 11, 6, 32, 32, 36, 46, 68, 3, 7, 13, 27, 38, 53, 68, 15, 26, 36, 37, 38, 58, 32, 57, 58, 61, 65, 68, 30, 61, 22, 27, 24, 27, 56, 60, 69, 30, 39, 6, 30, 33, 3, 6, 11, 28, 32, 35, 43, 60, 61, 64, 65, 11, 17, 26, 28, 32, 65, 6, 28, 68, 29, 61, 67, 36, 1, 32, 33, 40, 41, 52, 61, 68, 6, 38, 41, 11, 20, 28, 32, 36, 39, 52, 56, 68, 38, 62, 23, 25, 28, 28, 50, 69, 6, 38, 43, 3, 14, 38, 1, 30, 33, 35, 38, 54, 61, 22, 16, 68, 31, 15, 61, 23, 25, 32, 28, 58, 70, 1, 17, 25, 26, 28, 28, 32, 36, 40, 59, 61, 69, 25, 1, 33, 58, 61, 58, 61, 41, 39, 54, 60, 65, 53, 30, 32, 69, 22, 27, 28, 38, 68, 1, 13, 28, 30, 39, 52, 61, 65, 68, 70, 38, 64, 6, 27, 2, 25, 39, 53, 14, 28, 36, 65, 68, 69, 25, 32, 39, 52, 63, 69, 3, 5, 22, 38, 55, 68, 65, 25, 60, 68, 69, 46, 68, 15, 22, 27, 30, 33, 38, 41, 61, 68, 60, 61, 43, 68, 25, 38, 54, 60, 39, 12, 32, 39, 24, 30, 36, 56, 69, 32, 50, 55, 2, 32, 60, 64, 65, 54, 33, 38, 43, 46, 68, 60, 61, 38, 40, 23, 38, 41, 68, 38, 38, 68, 38, 60, 13, 3, 13, 27, 28, 29, 36, 38, 62, 38, 70, 31, 38, 57, 3, 38, 60, 65, 11, 13, 35, 68, 27, 61, 68, 6, 29, 65, 69, 38, 52, 62, 65, 44, 15, 68, 69, 5, 8, 22, 32, 55, 6, 28, 28, 38, 6, 50, 64, 68, 22, 28, 60, 23, 49, 39, 14, 60, 7, 13, 29, 38, 41, 52, 68, 1, 3, 25, 36, 10, 27, 6, 11, 13, 32, 36, 37, 43, 60, 61, 68, 69, 43, 39, 61, 30, 58, 61, 36, 52, 68, 3, 17, 29, 32, 36, 61, 43, 67, 23, 37, 41, 63, 6, 22, 58, 61, 31, 3, 17, 53, 69, 1, 6, 28, 39, 1, 3, 9, 11, 25, 27, 30, 33, 35, 36, 55, 58, 60, 61, 65, 69, 70, 3, 40, 68, 27, 60, 69, 3, 22, 24, 26, 38, 41, 61, 65, 68, 69, 70, 6, 11, 30, 54, 61, 68, 55, 60, 68, 34, 38, 3, 35, 36, 41, 55, 60, 25, 67, 1, 53, 68, 69, 3, 38, 57, 38, 36, 39, 61, 69, 24, 29, 3, 26, 27, 28, 32, 38, 60, 64, 68, 6, 19, 61, 28, 70, 24, 38, 68, 19, 28, 38, 1, 25, 64, 30, 37, 58, 65, 30, 61, 1, 6, 13, 35, 36, 61, 65, 68, 12, 38, 68, 58, 33, 38, 61, 65, 68, 11, 28, 64, 68, 65, 7, 64, 3, 6, 11, 26, 38, 39, 60, 61, 67, 25, 36, 38, 50, 53, 64, 11, 38, 50, 2, 6, 24, 27, 29, 34, 36, 38, 39, 65, 68, 9, 26, 3, 38, 26, 6, 28, 36, 53, 64, 70, 28, 38, 53, 65, 68, 14, 15, 28, 61, 69, 37, 38, 21, 56, 6, 15, 27, 37, 61, 65, 3, 22, 63, 14, 62, 68, 20, 38, 64, 68, 3, 68, 45, 9, 62, 17, 67, 15, 55, 64, 36, 65, 68, 45, 35, 38, 3, 6, 20, 22, 27, 38, 57, 62, 65, 68, 69, 61, 3, 37, 38, 28, 43, 68, 56, 1, 60, 68, 13, 46, 55, 30, 33, 43, 58, 65, 23, 29, 38, 65, 68, 35, 64, 68, 38, 57, 68, 39, 28, 34, 50, 7, 11, 24, 38, 60, 68, 3, 33, 37, 41, 43, 52, 61, 68, 9, 26, 32, 38, 68, 6, 8, 23, 54, 61, 69, 1, 17, 61, 62, 65, 8, 28, 32, 46, 56, 61, 64, 32, 35, 36, 58, 60, 64, 2, 32, 52, 61, 6, 23, 34, 36, 58, 17, 38, 5, 38, 1, 63, 69, 1, 2, 24, 26, 43, 63, 1, 23, 32, 61, 3, 16, 17, 22, 28, 30, 32, 33, 36, 38, 43, 46, 55, 68, 28, 38, 63, 68, 1, 14, 25, 28, 36, 60, 61, 64, 3, 5, 19, 24, 28, 38, 43, 61, 65, 68, 19, 36, 38, 58, 65, 53, 62, 26, 38, 67, 26, 35, 38, 60, 65, 8, 68, 8, 28, 59, 65, 28, 35, 62, 37, 65, 28, 38, 68, 34, 70, 15, 1, 13, 17, 28, 68, 2, 2, 28, 1, 36, 39, 58, 12, 17, 38, 65, 3, 33, 37, 38, 69, 2, 3, 5, 38, 68, 48, 3, 38, 61, 68, 19, 34, 68, 3, 22, 28, 38, 43, 65, 34, 3, 34, 13, 50, 3, 38, 41, 60, 62, 68, 39, 70, 57, 26, 35, 61, 22, 38, 67, 68, 20, 28, 36, 38, 61, 65, 68, 69, 1, 2, 36, 38, 41, 61, 65, 68, 36, 63, 36, 60, 70, 13, 24, 30, 55, 24, 65, 28, 3, 7, 11, 33, 37, 38, 39, 41, 43, 50, 60, 65, 68, 26, 38, 46, 60, 61, 68, 7, 55, 61, 65, 69, 8, 24, 30, 35, 37, 39, 43, 54, 57, 61, 65, 68, 69, 68, 32, 50, 65, 68, 70, 8, 22, 26, 28, 38, 52, 65, 68, 38, 62, 68, 7, 39, 40, 61, 64, 69, 11, 17, 24, 38, 60, 65, 68, 69, 3, 8, 11, 30, 32, 34, 36, 38, 43, 60, 61, 62, 65, 68, 69, 37, 41, 25, 27, 28, 30, 34, 36, 40, 61, 68, 28, 67, 67, 68, 22, 38, 38, 52, 20, 35, 36, 38, 50, 68, 24, 32, 38, 39, 68, 69, 70, 37, 15, 26, 26, 35, 35, 61, 3, 55, 60, 61, 68, 61, 68, 13, 15, 28, 35, 38, 52, 60, 65, 11, 23, 32, 38, 57, 61, 68, 26, 3, 26, 38, 41, 68, 3, 9, 36, 38, 68, 39, 27, 38, 63, 10, 3, 11, 33, 68, 3, 38, 41, 57, 65, 3, 57, 11, 35, 1, 8, 27, 61, 65, 58, 2, 27, 28, 32, 59, 63, 64, 3, 38, 60, 61, 68, 58, 16, 24, 27, 30, 54, 58, 61, 38, 53, 61, 6, 28, 38, 57, 61, 7, 52, 52, 62, 26, 36, 38, 52, 3, 22, 31, 38, 57, 17, 38, 28, 3, 8, 17, 26, 37, 38, 68, 3, 7, 14, 24, 26, 28, 32, 38, 60, 68, 3, 26, 28, 29, 30, 58, 61, 65, 68, 69, 1, 16, 28, 30, 17, 38, 39, 61, 68, 70, 17, 57, 61, 3, 5, 13, 15, 23, 28, 30, 32, 43, 53, 58, 61, 69, 9, 28, 40, 43, 53, 54, 61, 13, 61, 3, 9, 11, 32, 33, 36, 38, 53, 61, 68, 5, 6, 52, 61, 6, 23, 28, 60, 28, 37, 38, 57, 58, 63, 38, 49, 3, 24, 38, 3, 13, 22, 54, 61, 68, 38, 57, 26, 33, 26, 46, 70, 23, 60, 69, 27, 61, 3, 6, 14, 32, 36, 37, 40, 43, 58, 61, 64, 68, 24, 43, 53, 17, 43, 61, 1, 6, 10, 22, 23, 29, 38, 43, 46, 58, 61, 62, 68, 28, 35, 39, 61, 52, 68, 30, 55, 68, 58, 65, 68, 60, 28, 20, 69, 32, 53, 61, 24, 53, 29, 36, 38, 58, 61, 68, 23, 25, 60, 52, 36, 13, 2, 38, 25, 36, 53, 58, 61, 22, 33, 38, 40, 36, 69, 3, 7, 54, 70, 20, 38, 35, 7, 26, 34, 38, 43, 52, 63, 38, 40, 60, 65, 3, 38, 43, 46, 61, 65, 68, 34, 31, 10, 35, 38, 65, 68, 69, 33, 38, 68, 69, 26, 61, 8, 13, 17, 35, 68, 22, 41, 52, 28, 38, 70, 3, 38, 39, 68, 35, 61, 68, 13, 15, 68, 61, 69, 33, 41, 8, 17, 69, 3, 38, 54, 62, 64, 41, 68, 16, 3, 34, 38, 68, 2, 6, 25, 28, 36, 46, 50, 1, 2, 5, 38, 50, 64, 3, 13, 28, 40, 17, 26, 28, 39, 61, 65, 59, 69, 19, 28, 35, 41, 43, 58, 60, 61, 68, 52, 7, 17, 38, 43, 61, 68, 6, 36, 43, 50, 3, 8, 33, 16, 68, 6, 11, 19, 24, 50, 61, 64, 2, 34, 41, 2, 53, 3, 38, 22, 35, 38, 60, 23, 46, 55, 58, 64, 58, 3, 22, 27, 28, 38, 41, 58, 61, 68, 69, 33, 68, 69, 3, 33, 38, 65, 68, 13, 22, 36, 69, 17, 19, 23, 31, 36, 37, 70, 52, 69, 6, 17, 24, 43, 29, 52, 68, 1, 6, 36, 43, 53, 61, 6, 23, 28, 32, 36, 39, 53, 21, 6, 16, 28, 39, 69, 3, 6, 13, 24, 25, 26, 27, 28, 30, 32, 36, 41, 46, 50, 52, 61, 63, 65, 68, 69, 70, 1, 25, 5, 61, 6, 24, 27, 28, 37, 39, 57, 64, 68, 28, 35, 38, 53, 61, 65, 68, 70, 8, 24, 25, 28, 57, 60, 61, 68, 69, 6, 23, 58, 64, 6, 30, 68, 2, 26, 58, 61, 65, 20, 32, 36, 56, 38, 61, 10, 22, 38, 43, 1, 27, 30, 38, 50, 61, 68, 6, 64, 17, 29, 27, 65, 58, 70, 43, 37, 39, 36, 39, 25, 5, 38, 65, 1, 41, 3, 30, 33, 50, 65, 56, 22, 69, 25, 41, 16, 36, 41, 54, 58, 61, 65, 35, 68, 22, 35, 69, 9, 68, 3, 23, 28, 38, 40, 68, 69, 26, 40, 46, 68, 3, 38, 57, 6, 15, 24, 28, 50, 60, 61, 68, 6, 13, 24, 27, 28, 50, 58, 64, 65, 16, 26, 37, 38, 58, 65, 69, 3, 9, 61, 65, 63, 38, 6, 25, 30, 32, 53, 61, 65, 17, 27, 38, 61, 64, 3, 38, 52, 29, 36, 58, 61, 68, 3, 26, 27, 16, 37, 46, 68, 53, 64, 3, 68, 28, 32, 50, 63, 64, 6, 25, 3, 65, 32, 33, 46, 65, 68, 3, 38, 69, 57, 46, 53, 32, 3, 5, 6, 17, 27, 28, 32, 33, 36, 43, 46, 50, 53, 61, 62, 64, 68, 69, 38, 68, 22, 24, 38, 65, 67, 68, 34, 44, 17, 24, 26, 28, 39, 40, 61, 3, 36, 38, 57, 60, 61, 6, 1, 8, 25, 61, 19, 32, 36, 37, 61, 23, 25, 30, 36, 39, 56, 61, 69, 21, 22, 27, 33, 53, 61, 68, 29, 36, 5, 35, 3, 14, 26, 34, 65, 68, 35, 68, 59, 3, 11, 36, 37, 38, 54, 61, 65, 68, 37, 14, 11, 20, 29, 46, 7, 38, 64, 65, 38, 3, 15, 36, 38, 41, 43, 50, 58, 68, 3, 28, 38, 40, 61, 68, 5, 68, 6, 38, 57, 2, 3, 33, 59, 65, 41, 61, 35, 38, 68, 31, 55, 8, 58, 3, 35, 64, 68, 1, 6, 39, 64, 17, 23, 38, 68, 17, 38, 68, 22, 40, 3, 38, 57, 58, 65, 68, 13, 6, 28, 34, 43, 23, 24, 25, 28, 36, 37, 38, 50, 61, 68, 58, 68, 6, 34, 32, 43, 54, 65, 68, 56, 65, 25, 27, 28, 34, 37, 24, 33, 2, 3, 26, 38, 57, 65, 68, 69, 26, 36, 38, 57, 68, 36, 6, 30, 54, 61, 6, 27, 30, 67, 60, 36, 69, 6, 25, 37, 64, 28, 38, 61, 16, 24, 53, 22, 36, 39, 41, 27, 38, 39, 20, 25, 38, 39, 30, 39, 61, 68, 6, 25, 61, 39, 56, 3, 19, 24, 30, 35, 25, 27, 36, 43, 68, 1, 30, 20, 60, 57, 36, 38, 3, 32, 61, 25, 2, 13, 36, 56, 57, 70, 16, 3, 11, 13, 37, 61, 32, 5, 19, 40, 43, 53, 54, 61, 2, 5, 27, 27, 61, 26, 38, 64, 68, 6, 13, 24, 26, 33, 38, 39, 58, 65, 68, 70, 6, 22, 46, 65, 1, 5, 6, 13, 16, 22, 25, 27, 28, 30, 32, 43, 53, 58, 61, 64, 65, 68, 69, 2, 3, 22, 27, 28, 30, 32, 36, 38, 40, 50, 57, 58, 60, 61, 62, 68, 69, 70, 3, 38, 56, 58, 61, 65, 68, 1, 11, 39, 61, 65, 68, 32, 26, 39, 69, 70, 6, 15, 28, 30, 36, 50, 28, 30, 58, 3, 61, 68, 1, 38, 41, 52, 65, 68, 70, 1, 60, 1, 46, 63, 1, 23, 52, 63, 67, 2, 19, 32, 38, 52, 61, 68, 32, 37, 61, 65, 68, 24, 41, 52, 9, 36, 59, 61, 23, 25, 36, 61, 28, 52, 68, 11, 25, 28, 32, 36, 40, 53, 61, 68, 1, 38, 46, 65, 2, 3, 26, 65, 2, 19, 39, 11, 27, 40, 65, 28, 3, 25, 29, 30, 32, 33, 36, 38, 65, 68, 6, 28, 30, 61, 65, 37, 3, 38, 54, 61, 18, 19, 27, 37, 38, 59, 68, 38, 2, 28, 37, 46, 52, 61, 65, 68, 1, 30, 32, 36, 53, 58, 61, 68, 29, 37, 3, 29, 30, 32, 35, 36, 41, 43, 46, 53, 54, 58, 61, 67, 68, 9, 30, 32, 53, 54, 55, 58, 61, 3, 8, 28, 31, 32, 33, 34, 37, 41, 50, 52, 38, 57, 63, 68, 24, 25, 27, 30, 32, 36, 37, 41, 46, 50, 61, 3, 38, 53, 57, 17, 32, 68, 39, 28, 63, 3, 38, 57, 25, 28, 30, 33, 34, 35, 36, 37, 43, 61, 68, 50, 11, 23, 38, 40, 53, 57, 61, 65, 68, 6, 11, 23, 28, 30, 57, 61, 62, 68, 6, 58, 69, 37, 55, 3, 26, 33, 58, 69, 27, 30, 33, 38, 55, 65, 41, 52, 60, 68, 1, 7, 27, 28, 41, 52, 53, 57, 60, 61, 68, 24, 25, 35, 50, 26, 34, 22, 13, 28, 62, 68, 3, 23, 30, 32, 38, 41, 55, 61, 68, 49, 68, 6, 38, 69, 1, 6, 7, 58, 6, 28, 59, 61, 6, 27, 38, 53, 62, 36, 6, 15, 25, 39, 61, 15, 28, 69, 26, 38, 36, 2, 53, 57, 61, 64, 6, 20, 65, 11, 17, 22, 32, 33, 36, 37, 41, 43, 64, 65, 68, 69, 3, 15, 28, 33, 38, 39, 61, 67, 16, 30, 50, 13, 28, 30, 34, 39, 50, 69, 50, 68, 3, 38, 64, 69, 3, 34, 38, 68, 6, 16, 34, 50, 68, 7, 22, 34, 36, 38, 61, 65, 7, 8, 35, 38, 43, 20, 35, 1, 3, 7, 8, 22, 36, 37, 38, 61, 69, 70, 58, 62, 7, 30, 36, 38, 58, 61, 17, 28, 37, 68, 23, 28, 68, 70, 20, 60, 28, 1, 24, 28, 6, 27, 30, 36, 61, 14, 69, 11, 39, 61, 68, 6, 56, 68, 1, 28, 31, 61, 65, 69, 9, 25, 27, 61, 38, 57, 28, 3, 5, 3, 38, 5, 25, 29, 30, 34, 35, 36, 37, 67, 69, 36, 62, 5, 38, 40, 66, 13, 41, 3, 20, 27, 38, 68, 3, 19, 22, 24, 28, 32, 58, 61, 64, 65, 69, 7, 68, 24, 29, 30, 41, 50, 52, 60, 61, 65, 68, 69, 34, 62, 65, 28, 6, 29, 38, 62, 3, 38, 57, 68, 3, 38, 57, 38, 57, 38, 57, 43, 11, 22, 36, 63, 41, 69, 3, 19, 38, 52, 61, 63, 68, 11, 39, 55, 19, 32, 35, 60, 61, 14, 38, 53, 64, 68, 69, 3, 29, 31, 38, 60, 61, 3, 23, 33, 34, 38, 23, 38, 65, 3, 38, 3, 38, 69, 38, 39, 68, 69, 28, 39, 38, 69, 3, 43, 10, 9, 27, 36, 43, 62, 18, 18, 38, 57, 2, 25, 52, 30, 32, 55, 61, 68, 55, 33, 3, 24, 33, 38, 65, 11, 23, 33, 24, 26, 36, 38, 41, 60, 65, 69, 3, 17, 38, 52, 36, 37, 38, 59, 53, 19, 63, 69, 3, 22, 25, 27, 35, 38, 65, 19, 38, 41, 27, 28, 58, 61, 68, 69, 34, 9, 27, 33, 61, 65, 68, 1, 24, 30, 36, 39, 61, 69, 61, 65, 54, 3, 43, 46, 68, 69, 1, 28, 32, 6, 38, 52, 64, 68, 17, 28, 38, 64, 36, 60, 68, 68, 24, 27, 28, 35, 43, 62, 68, 28, 35, 61, 3, 68, 6, 19, 26, 28, 36, 38, 68, 15, 36, 38, 65, 70, 8, 27, 43, 41, 15, 17, 38, 68, 1, 3, 38, 39, 1, 13, 32, 36, 43, 1, 6, 13, 28, 30, 34, 41, 50, 65, 68, 70, 8, 24, 26, 28, 29, 32, 52, 61, 68, 1, 68, 28, 30, 35, 38, 54, 65, 28, 38, 68, 38, 27, 33, 36, 38, 61, 65, 68, 3, 33, 60, 61, 64, 20, 28, 38, 68, 24, 28, 35, 38, 3, 21, 27, 33, 65, 69, 70, 11, 61, 69, 69, 3, 24, 26, 36, 11, 24, 30, 34, 36, 43, 68, 69, 24, 27, 32, 38, 39, 61, 65, 68, 69, 15, 27, 28, 32, 38, 43, 61, 64, 65, 68, 3, 23, 33, 38, 61, 65, 68, 7, 22, 27, 28, 33, 60, 65, 69, 65, 3, 28, 36, 40, 52, 57, 61, 67, 69, 5, 6, 24, 30, 32, 38, 50, 58, 61, 64, 65, 68, 30, 36, 53, 65, 68, 3, 9, 25, 61, 69, 27, 25, 30, 67, 11, 26, 1, 3, 24, 36, 37, 38, 46, 52, 61, 62, 65, 68, 70, 38, 43, 57, 27, 28, 50, 29, 32, 11, 68, 8, 26, 27, 29, 30, 38, 57, 61, 68, 35, 38, 38, 1, 28, 27, 39, 50, 14, 23, 38, 7, 11, 13, 23, 24, 26, 27, 28, 35, 36, 37, 38, 53, 61, 68, 69, 32, 68, 16, 28, 41, 60, 31, 32, 53, 61, 39, 68, 1, 11, 13, 19, 26, 30, 32, 35, 57, 58, 61, 68, 11, 19, 24, 27, 28, 32, 36, 38, 50, 57, 58, 61, 65, 68, 38, 39, 65, 1, 30, 32, 39, 50, 52, 58, 61, 62, 70, 30, 61, 1, 53, 2, 61, 16, 28, 29, 33, 61, 3, 28, 29, 38, 50, 68, 69, 70, 39, 5, 13, 27, 43, 50, 54, 68, 6, 8, 15, 25, 28, 38, 61, 68, 69, 41, 63, 8, 11, 27, 61, 65, 68, 70, 1, 25, 19, 28, 19, 36, 1, 19, 22, 25, 52, 53, 61, 68, 19, 3, 6, 22, 24, 27, 29, 32, 33, 35, 36, 38, 61, 65, 68, 56, 6, 24, 28, 36, 50, 64, 6, 25, 34, 57, 7, 38, 68, 3, 33, 53, 68, 2, 3, 6, 28, 65, 3, 33, 34, 38, 41, 68, 33, 38, 22, 38, 38, 1, 13, 27, 30, 43, 53, 61, 68, 70, 1, 3, 22, 30, 36, 41, 57, 64, 68, 36, 43, 61, 26, 38, 57, 58, 64, 8, 25, 28, 38, 60, 14, 38, 3, 38, 3, 38, 38, 61, 65, 61, 62, 3, 15, 36, 38, 55, 10, 38, 52, 29, 34, 38, 68, 69, 9, 30, 46, 68, 13, 24, 38, 3, 8, 26, 27, 28, 30, 33, 36, 54, 61, 67, 14, 61, 6, 25, 40, 3, 6, 27, 30, 40, 43, 60, 61, 65, 68, 6, 36, 52, 64, 63, 5, 27, 36, 65, 38, 41, 68, 70, 13, 19, 26, 33, 58, 60, 68, 69, 16, 22, 36, 57, 59, 8, 30, 43, 2, 25, 53, 65, 67, 25, 27, 36, 61, 34, 69, 39, 41, 65, 27, 36, 52, 61, 64, 65, 70, 2, 52, 60, 24, 6, 37, 3, 27, 68, 1, 3, 30, 35, 61, 65, 68, 46, 61, 26, 65, 38, 68, 7, 23, 32, 38, 40, 43, 58, 68, 26, 46, 36, 38, 59, 61, 21, 25, 39, 61, 15, 53, 61, 68, 26, 32, 46, 22, 30, 38, 68, 1, 28, 31, 40, 65, 1, 25, 32, 36, 53, 60, 61, 68, 3, 61, 3, 2, 38, 62, 68, 37, 56, 3, 11, 36, 38, 69, 59, 63, 68, 38, 64, 22, 17, 38, 3, 27, 33, 68, 3, 26, 37, 38, 54, 65, 34, 38, 68, 63, 65, 68, 2, 37, 38, 68, 57, 63, 34, 53, 1, 13, 27, 29, 36, 39, 43, 62, 67, 38, 50, 65, 68, 40, 28, 50, 59, 68, 23, 22, 25, 28, 20, 20, 22, 25, 36, 61, 3, 15, 17, 24, 26, 38, 68, 37, 38, 68, 38, 61, 68, 46, 7, 19, 24, 28, 38, 61, 64, 65, 68, 6, 8, 24, 28, 38, 60, 65, 68, 69, 60, 18, 38, 68, 28, 36, 38, 68, 9, 22, 27, 28, 30, 36, 37, 52, 58, 61, 62, 65, 68, 69, 3, 33, 38, 58, 61, 65, 68, 11, 53, 65, 13, 28, 38, 55, 15, 19, 24, 28, 60, 30, 43, 56, 58, 68, 8, 58, 65, 70, 8, 30, 68, 70, 34, 65, 46, 69, 1, 3, 5, 11, 25, 27, 28, 30, 39, 43, 46, 58, 65, 68, 6, 34, 61, 65, 68, 16, 5, 3, 28, 36, 61, 65, 70, 41, 63, 68, 69, 7, 17, 27, 34, 37, 68, 43, 64, 55, 13, 19, 26, 27, 28, 59, 65, 52, 3, 38, 68, 28, 7, 32, 36, 60, 61, 65, 68, 69, 3, 15, 19, 24, 28, 32, 37, 39, 60, 61, 65, 68, 69, 21, 3, 36, 60, 63, 65, 68, 9, 34, 38, 69, 6, 8, 27, 38, 55, 68, 3, 13, 28, 36, 37, 38, 55, 65, 28, 30, 58, 68, 3, 26, 65, 6, 24, 28, 30, 43, 52, 60, 65, 68, 68, 2, 28, 39, 6, 11, 38, 57, 63, 22, 24, 30, 37, 58, 65, 11, 32, 28, 38, 64, 70, 3, 7, 11, 13, 22, 25, 26, 27, 30, 32, 33, 38, 41, 43, 46, 50, 61, 65, 69, 12, 1, 11, 28, 36, 46, 58, 60, 61, 65, 25, 1, 3, 6, 16, 22, 27, 28, 30, 36, 38, 46, 50, 53, 58, 61, 64, 65, 68, 19, 58, 7, 26, 36, 38, 64, 65, 68, 27, 43, 15, 38, 32, 46, 63, 69, 3, 50, 61, 5, 8, 39, 35, 61, 65, 68, 11, 25, 65, 1, 25, 28, 30, 32, 58, 61, 65, 1, 6, 8, 25, 26, 28, 30, 32, 33, 34, 36, 37, 40, 43, 46, 52, 58, 60, 61, 65, 67, 68, 32, 63, 28, 1, 2, 28, 36, 43, 68, 5, 28, 36, 40, 43, 17, 33, 58, 60, 68, 6, 28, 38, 53, 68, 38, 11, 36, 28, 36, 65, 68, 6, 1, 15, 33, 43, 58, 68, 70, 21, 28, 35, 38, 68, 11, 19, 24, 30, 32, 40, 52, 53, 61, 65, 68, 19, 36, 6, 8, 15, 24, 28, 32, 35, 36, 37, 38, 53, 61, 67, 68, 8, 24, 25, 28, 60, 61, 67, 1, 24, 26, 28, 32, 35, 37, 61, 68, 2, 65, 68, 27, 28, 29, 65, 68, 69, 13, 17, 38, 43, 53, 61, 64, 1, 1, 61, 67, 36, 60, 3, 6, 13, 24, 30, 32, 35, 36, 37, 38, 43, 61, 65, 67, 68, 32, 61, 50, 61, 24, 27, 28, 58, 61, 64, 65, 68, 69, 25, 26, 28, 36, 61, 8, 3, 22, 29, 30, 52, 53, 54, 61, 61, 32, 54, 58, 11, 22, 61, 6, 13, 25, 28, 32, 36, 58, 61, 3, 5, 11, 22, 24, 27, 28, 30, 37, 38, 52, 61, 63, 65, 68, 70, 11, 22, 38, 53, 65, 19, 26, 28, 32, 38, 68, 64, 1, 3, 30, 54, 61, 65, 68, 21, 27, 28, 30, 61, 65, 41, 69, 22, 60, 67, 30, 69, 9, 30, 3, 26, 28, 32, 33, 38, 53, 61, 29, 52, 68, 15, 38, 24, 38, 58, 61, 68, 69, 22, 30, 40, 68, 69, 25, 39, 64, 1, 6, 36, 65, 68, 69, 20, 3, 28, 29, 36, 38, 61, 68, 19, 63, 3, 60, 19, 39, 68, 29, 37, 38, 46, 65, 1, 3, 7, 22, 24, 29, 30, 36, 38, 54, 58, 61, 63, 68, 68, 70, 33, 38, 38, 53, 54, 3, 8, 11, 17, 20, 22, 24, 28, 33, 35, 38, 39, 60, 61, 65, 67, 68, 69, 3, 2, 38, 34, 28, 13, 38, 3, 26, 41, 68, 69, 26, 65, 21, 27, 62, 65, 6, 25, 59, 60, 68, 25, 68, 17, 63, 32, 69, 27, 32, 52, 57, 61, 3, 5, 24, 68, 8, 68, 46, 6, 7, 8, 11, 16, 28, 30, 33, 36, 38, 40, 46, 52, 53, 61, 68, 27, 39, 62, 29, 32, 53, 60, 68, 2, 36, 50, 61, 6, 36, 12, 28, 65, 69, 65, 27, 36, 38, 61, 7, 22, 28, 30, 52, 60, 61, 32, 36, 54, 58, 65, 68, 1, 13, 30, 38, 61, 9, 61, 68, 1, 3, 27, 28, 30, 33, 61, 65, 68, 69, 57, 58, 60, 68, 3, 15, 38, 52, 16, 36, 11, 28, 50, 56, 10, 64, 2, 6, 20, 65, 3, 24, 25, 27, 28, 29, 30, 32, 33, 34, 36, 39, 43, 46, 54, 58, 61, 65, 68, 69, 3, 26, 28, 30, 33, 41, 46, 68, 34, 61, 19, 17, 61, 7, 26, 58, 60, 61, 68, 69, 1, 3, 30, 55, 58, 61, 65, 68, 2, 50, 61, 69, 65, 8, 22, 1, 6, 13, 19, 28, 30, 32, 61, 70, 14, 26, 30, 38, 64, 68, 46, 62, 3, 27, 32, 38, 55, 65, 27, 46, 53, 6, 16, 28, 34, 36, 65, 9, 46, 68, 69, 29, 5, 13, 19, 23, 26, 28, 32, 36, 37, 61, 65, 68, 70, 3, 11, 27, 32, 36, 57, 65, 68, 69, 38, 57, 38, 38, 57, 24, 56, 36, 37, 68, 20, 15, 28, 32, 64, 28, 3, 22, 24, 38, 50, 61, 64, 68, 15, 33, 44, 13, 26, 27, 32, 33, 46, 61, 68, 69, 13, 3, 24, 36, 46, 62, 28, 13, 38, 60, 53, 3, 19, 32, 29, 24, 30, 61, 36, 3, 6, 13, 23, 39, 65, 68, 3, 46, 65, 37, 56, 60, 65, 6, 24, 67, 3, 28, 38, 57, 58, 61, 68, 69, 30, 35, 37, 61, 28, 46, 65, 69, 32, 57, 52, 3, 38, 50, 61, 3, 24, 28, 30, 37, 40, 41, 56, 61, 69, 3, 38, 1, 6, 7, 13, 19, 26, 27, 30, 32, 33, 36, 37, 50, 52, 61, 65, 67, 68, 69, 25, 58, 60, 6, 16, 19, 26, 61, 67, 17, 63, 22, 32, 36, 52, 36, 50, 1, 3, 7, 69, 11, 33, 64, 68, 69, 15, 26, 33, 38, 65, 46, 38, 57, 68, 8, 13, 25, 27, 30, 35, 38, 41, 68, 6, 24, 30, 58, 64, 8, 56, 58, 3, 30, 36, 28, 32, 61, 65, 68, 20, 56, 30, 54, 57, 6, 28, 33, 36, 39, 41, 52, 53, 60, 61, 63, 68, 27, 30, 32, 60, 38, 61, 19, 26, 28, 36, 38, 36, 38, 61, 36, 46, 36, 37, 17, 68, 9, 7, 16, 26, 33, 35, 38, 46, 65, 68, 1, 2, 35, 50, 53, 55, 56, 61, 65, 68, 64, 68, 26, 39, 65, 68, 20, 27, 38, 68, 69, 3, 24, 50, 62, 3, 22, 28, 38, 68, 69, 46, 57, 33, 6, 56, 26, 36, 38, 69, 37, 55, 58, 69, 23, 67, 68, 3, 16, 26, 28, 34, 38, 41, 65, 3, 23, 22, 36, 43, 36, 2, 37, 61, 3, 9, 61, 70, 3, 25, 27, 38, 46, 60, 61, 65, 68, 69, 28, 37, 43, 52, 61, 21, 22, 38, 68, 8, 28, 32, 52, 61, 62, 64, 65, 68, 30, 33, 41, 61, 68, 27, 9, 11, 36, 65, 36, 25, 69, 3, 30, 32, 33, 36, 38, 41, 57, 61, 65, 68, 26, 13, 13, 28, 33, 35, 38, 61, 65, 68, 58, 64, 65, 67, 68, 9, 24, 29, 37, 57, 3, 5, 24, 36, 41, 46, 53, 58, 61, 65, 68, 41, 3, 22, 24, 26, 27, 37, 38, 53, 61, 28, 46, 68, 69, 63, 68, 3, 38, 38, 12, 26, 56, 61, 15, 3, 7, 13, 17, 22, 28, 32, 33, 34, 35, 36, 37, 39, 53, 58, 61, 65, 68, 69, 39, 51, 26, 61, 65, 68, 6, 34, 37, 38, 41, 59, 69, 35, 16, 22, 61, 69, 6, 39, 68, 3, 26, 31, 32, 33, 36, 38, 54, 55, 60, 65, 68, 38, 54, 22, 27, 28, 50, 55, 60, 38, 54, 68, 44, 54, 3, 7, 11, 19, 25, 26, 30, 32, 34, 35, 38, 41, 54, 58, 61, 68, 69, 11, 30, 36, 61, 21, 25, 38, 65, 60, 28, 43, 53, 59, 28, 40, 43, 32, 38, 64, 65, 3, 17, 26, 28, 36, 38, 58, 61, 68, 25, 46, 68, 28, 68, 26, 31, 65, 18, 15, 28, 35, 55, 61, 65, 26, 38, 5, 8, 36, 38, 68, 25, 25, 30, 37, 65, 7, 26, 38, 54, 68, 3, 33, 43, 50, 68, 29, 58, 68, 19, 31, 32, 6, 8, 24, 28, 32, 61, 68, 7, 32, 57, 64, 28, 50, 52, 1, 38, 1, 25, 27, 40, 61, 28, 30, 31, 32, 68, 3, 13, 30, 53, 60, 3, 17, 38, 32, 65, 69, 30, 61, 2, 38, 17, 30, 35, 43, 53, 61, 68, 61, 69, 3, 24, 26, 27, 30, 35, 58, 65, 69, 6, 65, 15, 27, 30, 61, 14, 19, 53, 60, 39, 50, 31, 36, 61, 68, 6, 38, 5, 26, 38, 58, 61, 68, 3, 17, 27, 38, 31, 24, 28, 30, 31, 33, 36, 61, 56, 14, 53, 58, 60, 65, 70, 8, 38, 52, 20, 25, 38, 68, 43, 46, 67, 53, 60, 61, 60, 65, 13, 22, 61, 65, 33, 67, 68, 68, 3, 38, 41, 54, 68, 55, 1, 3, 24, 38, 68, 3, 36, 37, 68, 70, 28, 8, 17, 38, 53, 60, 61, 2, 38, 65, 68, 56, 68, 3, 38, 22, 38, 58, 61, 68, 68, 17, 24, 36, 60, 61, 68, 69, 70, 54, 68, 57, 13, 30, 52, 56, 61, 65, 68, 28, 30, 38, 39, 40, 61, 38, 41, 54, 68, 2, 11, 25, 68, 34, 11, 19, 15, 38, 1, 50, 36, 34, 39, 50, 64, 23, 14, 50, 15, 28, 65, 65, 13, 3, 38, 68, 3, 38, 38, 27, 38, 59, 32, 36, 60, 61, 68, 2, 6, 25, 30, 50, 61, 29, 38, 61, 68, 15, 1, 3, 24, 27, 36, 61, 63, 68, 69, 33, 41, 46, 68, 3, 7, 11, 22, 24, 30, 38, 46, 53, 56, 61, 65, 68, 70, 25, 38, 61, 67, 1, 28, 30, 53, 61, 17, 6, 24, 27, 30, 32, 58, 61, 68, 36, 61, 36, 53, 36, 53, 32, 38, 40, 53, 28, 30, 37, 38, 52, 57, 22, 24, 27, 28, 36, 38, 57, 58, 68, 58, 32, 61, 56, 1, 59, 43, 1, 33, 61, 1, 6, 28, 61, 70, 1, 6, 19, 24, 28, 32, 41, 61, 69, 27, 61, 30, 32, 25, 39, 50, 15, 3, 26, 38, 3, 38, 35, 36, 3, 6, 16, 34, 36, 37, 43, 61, 65, 1, 6, 13, 39, 25, 26, 46, 56, 61, 28, 41, 69, 50, 57, 33, 41, 65, 3, 29, 36, 61, 68, 52, 69, 39, 68, 28, 38, 41, 63, 14, 38, 57, 28, 38, 41, 58, 28, 50, 65, 10, 38, 26, 54, 62, 63, 64, 68, 69, 32, 41, 63, 23, 30, 41, 14, 2, 19, 23, 28, 39, 58, 22, 38, 64, 24, 28, 2, 28, 43, 64, 38, 65, 68, 29, 20, 27, 3, 11, 26, 54, 9, 28, 38, 43, 68, 22, 65, 28, 3, 26, 29, 38, 43, 58, 3, 11, 26, 28, 32, 38, 40, 41, 53, 7, 35, 36, 52, 22, 69, 2, 36, 38, 63, 65, 68, 3, 10, 17, 19, 22, 26, 32, 33, 36, 41, 46, 53, 60, 61, 65, 68, 69, 37, 13, 28, 31, 36, 65, 68, 13, 14, 60, 53, 7, 5, 26, 3, 54, 68, 38, 39, 54, 8, 68, 61, 34, 24, 37, 38, 57, 61, 68, 69, 70, 55, 19, 1, 3, 26, 28, 37, 46, 68, 23, 32, 69, 22, 16, 6, 25, 26, 56, 64, 65, 6, 27, 28, 32, 36, 46, 58, 61, 62, 28, 61, 58, 3, 28, 34, 53, 60, 61, 68, 3, 58, 6, 19, 13, 16, 59, 7, 25, 61, 69, 5, 14, 26, 65, 65, 15, 68, 31, 6, 8, 22, 23, 65, 6, 27, 16, 20, 61, 64, 65, 69, 35, 5, 22, 60, 61, 25, 27, 28, 46, 61, 68, 1, 13, 33, 25, 31, 38, 43, 69, 17, 3, 6, 38, 41, 46, 53, 56, 58, 60, 62, 68, 69, 3, 8, 11, 23, 24, 27, 38, 54, 65, 68, 23, 60, 24, 26, 36, 60, 68, 69, 13, 23, 28, 36, 37, 60, 61, 68, 6, 64, 6, 6, 22, 28, 64, 60, 6, 24, 53, 61, 12, 3, 10, 38, 41, 52, 68, 10, 38, 68, 19, 30, 55, 58, 65, 68, 5, 19, 40, 54, 61, 65, 24, 39, 19, 24, 30, 40, 69, 43, 6, 31, 3, 26, 38, 61, 65, 68, 30, 38, 64, 67, 68, 55, 60, 61, 9, 24, 61, 1, 28, 43, 50, 25, 38, 61, 67, 64, 2, 35, 3, 11, 20, 24, 25, 30, 32, 36, 38, 50, 61, 67, 68, 58, 68, 57, 68, 3, 36, 38, 68, 69, 21, 33, 54, 2, 36, 38, 54, 23, 25, 36, 53, 22, 38, 46, 32, 36, 53, 68, 19, 25, 29, 61, 30, 39, 58, 60, 61, 18, 41, 61, 70, 3, 38, 57, 6, 8, 33, 36, 54, 68, 37, 68, 1, 28, 46, 1, 23, 28, 30, 32, 23, 61, 1, 28, 36, 38, 40, 62, 6, 11, 13, 19, 38, 68, 60, 3, 38, 57, 68, 56, 6, 68, 26, 27, 38, 39, 41, 53, 27, 38, 28, 38, 41, 68, 22, 26, 27, 28, 33, 38, 68, 15, 34, 43, 3, 5, 26, 27, 32, 3, 38, 54, 68, 3, 6, 24, 27, 38, 41, 58, 61, 68, 6, 28, 38, 64, 3, 38, 64, 65, 68, 40, 28, 54, 3, 11, 13, 24, 38, 43, 57, 61, 68, 21, 3, 27, 36, 38, 61, 68, 25, 65, 6, 26, 27, 28, 35, 36, 41, 50, 22, 36, 58, 60, 65, 68, 3, 34, 38, 61, 63, 70, 25, 28, 65, 31, 24, 58, 59, 60, 70, 22, 24, 32, 37, 38, 61, 65, 70, 8, 22, 39, 53, 60, 61, 20, 32, 63, 1, 19, 30, 32, 55, 68, 6, 32, 37, 58, 60, 68, 61, 25, 31, 60, 61, 49, 27, 38, 39, 1, 6, 37, 19, 43, 68, 19, 13, 26, 32, 36, 37, 38, 58, 61, 64, 68, 69, 65, 25, 34, 40, 43, 58, 64, 68, 5, 38, 54, 3, 11, 36, 6, 23, 28, 34, 36, 3, 26, 50, 64, 10, 3, 36, 3, 6, 13, 33, 37, 50, 58, 61, 69, 16, 23, 32, 64, 63, 3, 16, 3, 58, 7, 36, 37, 61, 65, 68, 25, 38, 65, 3, 38, 3, 11, 28, 32, 38, 53, 54, 61, 68, 28, 36, 3, 38, 57, 3, 22, 37, 61, 65, 68, 11, 38, 55, 58, 68, 27, 38, 62, 16, 38, 65, 68, 9, 21, 24, 27, 32, 36, 60, 63, 64, 24, 55, 1, 22, 63, 32, 58, 62, 3, 6, 38, 40, 52, 61, 63, 68, 68, 15, 38, 41, 5, 61, 65, 15, 63, 36, 68, 3, 24, 31, 36, 38, 43, 61, 65, 69, 50, 60, 28, 39, 6, 28, 38, 40, 60, 2, 28, 60, 28, 32, 68, 39, 70, 27, 28, 65, 68, 20, 27, 29, 32, 41, 58, 63, 65, 67, 27, 39, 41, 60, 61, 25, 43, 61, 25, 28, 29, 32, 36, 39, 43, 58, 61, 8, 39, 61, 67, 1, 11, 19, 26, 28, 32, 38, 61, 68, 69, 68, 38, 64, 38, 58, 65, 13, 3, 24, 10, 3, 30, 32, 39, 41, 60, 68, 30, 33, 43, 61, 65, 28, 6, 36, 40, 43, 61, 30, 32, 33, 34, 35, 36, 38, 61, 63, 67, 68, 33, 54, 61, 68, 30, 32, 36, 38, 64, 65, 68, 58, 68, 65, 7, 13, 54, 60, 69, 7, 22, 32, 36, 41, 60, 60, 62, 63, 69, 37, 3, 25, 28, 38, 68, 8, 14, 27, 65, 40, 34, 38, 1, 32, 41, 70, 3, 28, 3, 11, 22, 30, 38, 68, 37, 38, 52, 24, 65, 36, 50, 70, 1, 17, 38, 11, 15, 28, 32, 61, 64, 65, 6, 11, 15, 28, 30, 32, 40, 43, 50, 57, 58, 61, 62, 68, 3, 7, 23, 35, 38, 43, 58, 68, 11, 26, 33, 34, 39, 43, 53, 61, 68, 70, 1, 6, 8, 22, 26, 28, 32, 33, 43, 52, 68, 1, 3, 11, 19, 24, 33, 38, 43, 52, 54, 56, 58, 61, 65, 68, 2, 3, 22, 27, 28, 32, 54, 58, 61, 65, 67, 68, 1, 30, 35, 38, 61, 3, 10, 28, 32, 36, 61, 69, 25, 61, 68, 16, 1, 3, 8, 13, 25, 32, 33, 43, 55, 61, 68, 11, 38, 52, 25, 30, 41, 60, 65, 26, 27, 37, 68, 34, 3, 28, 33, 38, 43, 61, 68, 27, 36, 38, 3, 27, 28, 52, 64, 25, 3, 27, 22, 28, 30, 32, 50, 65, 3, 14, 17, 22, 38, 6, 8, 27, 28, 50, 65, 22, 27, 28, 38, 65, 68, 13, 50, 65, 68, 16, 1, 59, 61, 65, 3, 22, 24, 30, 32, 36, 38, 39, 60, 61, 68, 69, 28, 36, 52, 61, 68, 60, 61, 38, 11, 27, 37, 3, 28, 32, 37, 52, 57, 61, 68, 3, 6, 23, 28, 38, 52, 61, 65, 68, 37, 38, 53, 37, 53, 18, 24, 32, 35, 39, 68, 11, 38, 41, 65, 28, 33, 58, 6, 27, 29, 30, 35, 50, 54, 58, 60, 61, 67, 68, 1, 28, 32, 28, 36, 54, 6, 27, 33, 38, 57, 61, 68, 33, 60, 61, 65, 68, 35, 37, 38, 57, 68, 69, 3, 28, 32, 38, 58, 65, 68, 62, 23, 25, 38, 57, 11, 30, 38, 1, 27, 50, 56, 61, 62, 22, 68, 19, 31, 24, 26, 27, 38, 65, 68, 23, 23, 70, 1, 6, 23, 24, 28, 32, 36, 64, 1, 6, 9, 23, 25, 63, 70, 36, 35, 15, 20, 26, 38, 36, 33, 38, 56, 5, 19, 28, 61, 1, 27, 30, 62, 65, 69, 36, 39, 43, 28, 61, 8, 33, 43, 68, 3, 33, 38, 21, 23, 36, 61, 68, 3, 13, 53, 61, 24, 50, 13, 33, 43, 26, 30, 41, 18, 35, 36, 61, 32, 38, 67, 68, 7, 6, 25, 3, 26, 36, 38, 60, 61, 62, 68, 68, 24, 63, 68, 11, 30, 32, 37, 36, 37, 61, 3, 24, 26, 33, 38, 43, 52, 54, 60, 61, 65, 68, 70, 26, 38, 41, 3, 13, 24, 28, 35, 38, 52, 58, 65, 1, 6, 27, 53, 65, 68, 65, 3, 7, 38, 68, 15, 23, 36, 41, 43, 54, 60, 61, 68, 3, 27, 65, 38, 36, 61, 37, 38, 65, 70, 6, 11, 8, 32, 37, 43, 65, 8, 6, 39, 61, 70, 1, 6, 27, 50, 61, 62, 65, 70, 24, 61, 68, 23, 22, 28, 39, 57, 68, 3, 32, 36, 55, 68, 3, 25, 26, 36, 38, 58, 61, 68, 8, 30, 61, 69, 13, 61, 3, 25, 35, 58, 65, 38, 31, 43, 37, 22, 35, 40, 61, 62, 2, 6, 11, 13, 24, 29, 30, 32, 33, 36, 41, 43, 58, 61, 62, 65, 68, 3, 11, 24, 27, 30, 33, 36, 55, 61, 65, 3, 35, 41, 58, 61, 65, 2, 3, 8, 28, 30, 36, 46, 53, 57, 58, 61, 65, 22, 26, 28, 32, 36, 58, 61, 3, 69, 3, 27, 39, 50, 59, 61, 68, 8, 39, 43, 46, 68, 3, 8, 19, 26, 28, 33, 34, 38, 61, 65, 68, 3, 26, 36, 38, 46, 3, 38, 3, 38, 32, 65, 70, 1, 5, 7, 16, 38, 1, 28, 41, 6, 22, 43, 68, 1, 15, 28, 36, 38, 39, 43, 68, 5, 6, 7, 27, 36, 38, 41, 43, 46, 61, 65, 68, 69, 1, 2, 3, 6, 7, 9, 13, 20, 22, 24, 26, 27, 30, 32, 33, 36, 37, 38, 39, 41, 43, 46, 54, 55, 58, 60, 61, 65, 67, 69, 6, 17, 32, 38, 46, 60, 61, 65, 67, 46, 11, 19, 61, 1, 32, 35, 38, 52, 61, 68, 38, 55, 38, 67, 68, 27, 32, 36, 50, 58, 61, 65, 3, 33, 34, 68, 55, 68, 3, 11, 27, 30, 36, 38, 46, 53, 55, 57, 60, 61, 65, 68, 69, 28, 19, 25, 33, 36, 43, 60, 70, 3, 6, 22, 38, 43, 54, 60, 68, 1, 33, 63, 19, 64, 1, 2, 30, 33, 41, 43, 53, 54, 58, 68, 1, 30, 58, 61, 68, 32, 53, 58, 11, 20, 23, 24, 27, 28, 61, 28, 38, 3, 7, 34, 38, 64, 65, 13, 46, 3, 27, 29, 40, 68, 11, 23, 61, 15, 26, 28, 36, 38, 46, 65, 68, 51, 7, 24, 61, 16, 38, 28, 16, 46, 3, 22, 36, 38, 38, 59, 65, 68, 6, 30, 37, 68, 69, 17, 24, 3, 26, 30, 38, 62, 65, 68, 69, 55, 12, 27, 62, 67, 28, 55, 38, 41, 26, 28, 32, 50, 61, 67, 68, 69, 27, 13, 17, 25, 30, 58, 60, 61, 65, 70, 34, 38, 28, 30, 38, 50, 58, 61, 65, 68, 8, 13, 36, 58, 60, 61, 65, 26, 32, 50, 65, 19, 22, 26, 27, 28, 43, 50, 58, 61, 68, 2, 19, 24, 27, 28, 58, 61, 65, 68, 69, 32, 36, 50, 58, 61, 64, 68, 1, 2, 10, 36, 41, 43, 50, 60, 68, 22, 31, 38, 3, 33, 38, 68, 70, 60, 41, 60, 20, 38, 68, 26, 38, 60, 1, 10, 22, 28, 36, 37, 3, 9, 29, 33, 43, 58, 61, 65, 68, 70, 8, 27, 8, 28, 43, 70, 3, 38, 36, 3, 26, 65, 68, 8, 43, 61, 2, 39, 68, 57, 34, 65, 39, 61, 39, 24, 23, 52, 58, 68, 5, 40, 43, 61, 28, 31, 61, 17, 28, 30, 67, 13, 38, 61, 25, 38, 53, 30, 50, 6, 8, 23, 61, 1, 25, 27, 28, 34, 60, 61, 1, 43, 58, 62, 38, 61, 23, 38, 62, 68, 70, 32, 36, 37, 46, 60, 61, 26, 36, 62, 34, 43, 13, 32, 35, 36, 61, 68, 70, 28, 32, 33, 38, 52, 61, 64, 65, 21, 32, 36, 50, 60, 64, 65, 69, 3, 19, 22, 32, 33, 36, 39, 41, 61, 68, 11, 17, 64, 68, 6, 27, 28, 50, 57, 61, 69, 3, 11, 26, 30, 37, 38, 61, 65, 68, 69, 24, 30, 33, 61, 68, 29, 33, 61, 65, 70, 2, 28, 38, 16, 36, 40, 43, 53, 61, 57, 46, 19, 28, 41, 68, 28, 17, 26, 67, 6, 27, 67, 2, 3, 14, 24, 32, 33, 35, 36, 61, 68, 26, 29, 58, 67, 22, 26, 27, 32, 35, 36, 38, 40, 41, 57, 61, 65, 68, 69, 1, 19, 27, 36, 64, 49, 64, 28, 28, 39, 67, 28, 34, 43, 50, 53, 64, 68, 14, 38, 39, 60, 67, 29, 61, 68, 11, 25, 52, 60, 61, 65, 68, 11, 6, 32, 23, 41, 50, 63, 21, 11, 3, 38, 3, 33, 36, 37, 38, 39, 68, 9, 26, 36, 54, 68, 19, 28, 32, 38, 3, 32, 68, 6, 16, 24, 38, 3, 34, 38, 68, 38, 57, 26, 43, 50, 65, 24, 28, 52, 6, 13, 28, 33, 36, 11, 2, 22, 26, 27, 28, 36, 38, 65, 68, 37, 57, 60, 1, 3, 6, 11, 28, 36, 50, 52, 65, 22, 64, 65, 68, 1, 35, 64, 25, 61, 31, 6, 8, 50, 53, 16, 27, 35, 36, 40, 43, 53, 58, 65, 69, 70, 23, 27, 52, 61, 24, 26, 65, 69, 65, 34, 17, 33, 37, 61, 41, 69, 3, 6, 14, 28, 32, 53, 5, 69, 8, 60, 3, 27, 30, 33, 43, 57, 60, 61, 67, 70, 22, 50, 60, 61, 55, 60, 38, 39, 61, 65, 30, 33, 60, 61, 65, 3, 22, 23, 28, 35, 38, 65, 68, 36, 41, 1, 30, 41, 53, 61, 65, 69, 32, 38, 32, 12, 6, 52, 65, 3, 11, 19, 30, 34, 52, 61, 65, 68, 1, 8, 19, 27, 30, 53, 54, 56, 58, 60, 61, 65, 20, 27, 65, 22, 24, 33, 35, 36, 37, 46, 62, 68, 26, 30, 6, 43, 14, 27, 50, 3, 9, 43, 69, 21, 8, 3, 20, 26, 35, 68, 8, 26, 33, 36, 38, 40, 61, 68, 30, 60, 69, 60, 65, 1, 58, 67, 13, 53, 64, 69, 28, 31, 36, 61, 43, 25, 34, 36, 38, 43, 46, 70, 38, 68, 14, 20, 22, 30, 32, 36, 38, 61, 68, 69, 1, 13, 33, 36, 38, 50, 58, 61, 65, 3, 60, 13, 38, 39, 60, 63, 65, 67, 68, 18, 1, 6, 26, 27, 50, 65, 68, 37, 15, 64, 65, 68, 22, 28, 38, 68, 17, 19, 21, 24, 35, 38, 65, 68, 36, 58], \"Freq\": [0.6554188141267573, 0.046815629580482666, 0.23407814790241332, 0.9589240488057971, 0.9768894616477624, 0.7567276010423847, 0.18918190026059617, 0.12503790253175445, 0.18755685379763168, 0.5001516101270178, 0.1667172033756726, 0.061270676885381556, 0.01225413537707631, 0.35536992593521305, 0.08577894763953418, 0.24508270754152622, 0.0551436091968434, 0.18381203065614468, 0.0958515271611968, 0.16556172873297628, 0.3834061086447872, 0.10456530235766924, 0.10456530235766924, 0.139420403143559, 0.9793834956475209, 0.5254767668042398, 0.07375112516550733, 0.22125337549652202, 0.046094453228442085, 0.12906446903963784, 0.9292355352711557, 0.06799284404423091, 0.1670768725149824, 0.7518459263174209, 0.2505739108882789, 0.18223557155511194, 0.15945612511072293, 0.11389723222194496, 0.2733533573326679, 0.6197796779441133, 0.35415981596806473, 0.23195576587804517, 0.7422584508097445, 0.01546371772520301, 0.007414590959087983, 0.033365659315895926, 0.011121886438631975, 0.1371699327431277, 0.037072954795439914, 0.5635089128906867, 0.04078025027498391, 0.011121886438631975, 0.15199911466130367, 0.0037072954795439915, 0.9764824704744234, 0.02556218693632731, 0.34934988812980655, 0.04260364489387885, 0.15337312161796385, 0.13633166366041233, 0.2897047852783762, 0.9019370768513519, 0.004137326040602532, 0.08688384685265317, 0.732370429798305, 0.20104286308188765, 0.05744081802339647, 0.95103798288072, 0.030398324093561826, 0.125935914101899, 0.03908355954886521, 0.21278826865493278, 0.05645403045947196, 0.39517821321630375, 0.01737047091060676, 0.11290806091894393, 0.11604338939716172, 0.23208677879432343, 0.651628263537908, 0.006220515541789945, 0.6531541318879441, 0.06376028430334693, 0.02021667551081732, 0.01555128885447486, 0.07153592873058436, 0.038878222136187156, 0.004665386656342458, 0.12596543972124638, 0.37501908456567423, 0.589315704317488, 0.8481793057209583, 0.07960258856280839, 0.07136783802182821, 0.9262827048126713, 0.011570710686991307, 0.9719396977072698, 0.7927475106005717, 0.0943747036429252, 0.0943747036429252, 0.07680861835850411, 0.3840430917925205, 0.4608517101510246, 0.17258476344640303, 0.32486543707558213, 0.1928888532636269, 0.020304089817223883, 0.17258476344640303, 0.08121635926889553, 0.030456134725835828, 0.9766695097362724, 0.5148033567487571, 0.4290027972906309, 0.9660421572277894, 0.7591732766515389, 0.22661888855269816, 0.9972528989787105, 0.6996370217179259, 0.2962427028895722, 0.8596673480438617, 0.07815157709489652, 0.055822555067783226, 0.06043833134470204, 0.9216845530067062, 0.35028348741365034, 0.6209570913241983, 0.9924058362759496, 0.16842319148842716, 0.08421159574421358, 0.009907246558142775, 0.5201304443024957, 0.03467536295349971, 0.10897971213957051, 0.0743043491860708, 0.8663535532297083, 0.8975418771265111, 0.00571682724284402, 0.01715048172853206, 0.07717716777839427, 0.5883969776363096, 0.3922646517575397, 0.9733995364223872, 0.08343721260501061, 0.6049197913863269, 0.20859303151252653, 0.08343721260501061, 0.9762417042456402, 0.44648044928375286, 0.4911284942121281, 0.9497642345472148, 0.20538875275664262, 0.08689524155088726, 0.41077750551328523, 0.2843844268938129, 0.9368949376867558, 0.5922110937035124, 0.026796882068032237, 0.09914846365171928, 0.08575002261770316, 0.06163282875647415, 0.018757817447622567, 0.010718752827212895, 0.06163282875647415, 0.018757817447622567, 0.018757817447622567, 0.14897214718386817, 0.8406285448232561, 0.6980660317756888, 0.2991711564752952, 0.6993960698562909, 0.10285236321416043, 0.04114094528566417, 0.14399330849982458, 0.991929925478755, 0.023309845897259568, 0.02913730737157446, 0.215616074549651, 0.18065130570376164, 0.5477813785855998, 0.10288829132123267, 0.39572419738935644, 0.007914483947787128, 0.06331587158229703, 0.1899476147468911, 0.23743451843361388, 0.23821178412295502, 0.0040102993960093435, 0.0024061796376056064, 0.6368355440862837, 0.0024061796376056064, 0.1154966226050691, 0.9235326506609711, 0.8478618514707837, 0.13044028484165904, 0.3359723445979662, 0.647946664581792, 0.485066500706342, 0.5115246734721425, 0.23228014924279547, 0.13936808954567728, 0.6039283880312682, 0.0735181610713882, 0.2940726442855528, 0.055138620803541157, 0.027569310401770578, 0.2665033338837822, 0.27569310401770575, 0.89053617141695, 0.10136184064908374, 0.7208657340446565, 0.2621329941980569, 0.9502509030303129, 0.39341036948072294, 0.5536886681580545, 0.04371226327563588, 0.9810061313621251, 0.9745600213465108, 0.05559656812363401, 0.938192087086324, 0.024911449894828547, 0.07473434968448564, 0.12455724947414273, 0.09964579957931419, 0.6476976972655422, 0.717855110357703, 0.27346861346960116, 0.99707115944366, 0.04570610066618976, 0.03656488053295181, 0.03656488053295181, 0.6581678495931326, 0.21024806306447288, 0.9997789868672651, 0.0005276247253125135, 0.05856634450968899, 0.009497245055625242, 0.8151802006078332, 0.11502219011812793, 0.9425232812174162, 0.9662149452234311, 0.9840172208265556, 0.9310015384125545, 0.03697618723866984, 0.12149318664134376, 0.6734948389900578, 0.1663928425740143, 0.9953385018763632, 0.9041930987141339, 0.08450402791720878, 0.47729773553306, 0.5133202061393287, 0.9908541856371879, 0.06814301593040185, 0.5451441274432148, 0.04684832345215127, 0.06388407743475173, 0.20442904779120555, 0.025553630973900694, 0.012776815486950347, 0.029812569469550812, 0.6527053787075483, 0.3384398259965065, 0.7617512924214127, 0.23587222760256943, 0.9737310871165739, 0.06126803427493792, 0.33259790034966297, 0.3938659346246009, 0.21006183179978716, 0.2149208022139305, 0.01754455528276984, 0.06579208231038688, 0.697396072490101, 0.5944874011618495, 0.032134454116856725, 0.35347899528542404, 0.4910686159844339, 0.2055636066911584, 0.28550500929327555, 0.9825126739937939, 0.22613597188210371, 0.4424399449867247, 0.00983199877748277, 0.30479196210196585, 0.9848830732193596, 0.9928315704818357, 0.9347901319100278, 0.04673950659550139, 0.3061360201922325, 0.18708312345080877, 0.4421964736110025, 0.034015113354692504, 0.034015113354692504, 0.42151364147189546, 0.5058163697662745, 0.7531313539718211, 0.18828283849295527, 0.06111687005814507, 0.4142365637274277, 0.23767671689278635, 0.27842129693154977, 0.04985783805066559, 0.13710905463933037, 0.7977254088106495, 0.13456232868635412, 0.8591287139205687, 0.9949174804033116, 0.9855440342058597, 0.008645123107068945, 0.0026837007284320267, 0.0008945669094773424, 0.856995099279294, 0.06888165202975535, 0.0053674014568640535, 0.020575038917978874, 0.043833778564389775, 0.6309006132572255, 0.0801143635882191, 0.13018584083085605, 0.1602287271764382, 0.9923034202663626, 0.99819598151828, 0.11479336109305215, 0.015420003728917452, 0.07024668365395728, 0.058253347420354824, 0.03769334244846489, 0.1387800335602571, 0.006853334990629979, 0.011993336233602464, 0.07881335239224475, 0.23986672467204925, 0.2227333871954743, 0.9890022255522386, 0.7908411611758915, 0.20541328861711466, 0.09775839731355768, 0.7603430902165597, 0.13034452975141023, 0.670990609932297, 0.08240235560572068, 0.23543530173063051, 0.008300927511339899, 0.004842207714948274, 0.0013834879185566497, 0.0027669758371132993, 0.15633413479690142, 0.8238670555004849, 0.9266051149892653, 0.06282068576198409, 0.05768152339352113, 0.8075413275092959, 0.12497663401929579, 0.9978140554437163, 0.11033320149531443, 0.011033320149531444, 0.36409956493453766, 0.5075327268784464, 0.9886675926388917, 0.28662103886441975, 0.6393853943898594, 0.04409554444067996, 0.02204777222033998, 0.07419548112974399, 0.16487884695498664, 0.7089790419064426, 0.049463654086495994, 0.014529141299018526, 0.48629890583185537, 0.02136638426326254, 0.017947762781140533, 0.001709310741061003, 0.005127932223183009, 0.014529141299018526, 0.04187811315599457, 0.008546553705305016, 0.004273276852652508, 0.036750180932811564, 0.05127932223183009, 0.012819830557957523, 0.2273383285611134, 0.0025639661115915047, 0.04700604537917758, 0.005982587593713511, 0.008921869136287904, 0.9748315961544046, 0.015495877973552674, 0.019627183094558423, 0.15701746475646738, 0.8047145068768953, 0.09866966465425919, 0.4974883092008453, 0.0020699929647746682, 0.007589974204173784, 0.15386947704825035, 0.0006899976549248894, 0.008969969514023563, 0.06623977487278938, 0.13247954974557877, 0.02690990854207069, 0.0041399859295493365, 0.015474165511824964, 0.5570699584256987, 0.10831915858277474, 0.10831915858277474, 0.015474165511824964, 0.1702158206300746, 0.10979063013003768, 0.0337817323477039, 0.8529887417795234, 0.9065322055190442, 0.08844216639210188, 0.08533945476061322, 0.16356728829117534, 0.05689296984040881, 0.49781348610357706, 0.09245107599066432, 0.09956269722071542, 0.9892901053946447, 0.9956327241821759, 0.3877318944370411, 0.11078054126772603, 0.48146927550973234, 0.01917355521941412, 0.021417947681960918, 0.8606633186935347, 0.11723508204862818, 0.9978461842882614, 0.2776663279732929, 0.021358948305637913, 0.03203842245845687, 0.6621273974747753, 0.43089763039378626, 0.5565761059253073, 0.011171536554681092, 0.022343073109362184, 0.013202725019168563, 0.11273095977905466, 0.012187130786924828, 0.16351067139124145, 0.5717795527532232, 0.042654957754236895, 0.049764117379943046, 0.983295104503318, 0.5512877331570942, 0.44544048839093214, 0.4648496523270471, 0.4980531989218362, 0.033694343067611175, 0.8086642336226683, 0.1432009580373475, 0.4919328117237803, 0.1574184997516097, 0.35419162444112184, 0.33209612440903186, 0.137419085962358, 0.5153215723588425, 0.05498646474026208, 0.01832882158008736, 0.19245262659091728, 0.7239884524134508, 0.22378562913495842, 0.7459520971165281, 0.9412306133180668, 0.08155100316351219, 0.0031365770447504687, 0.5394912516970806, 0.0031365770447504687, 0.30424797334079545, 0.03136577044750469, 0.034502347492255156, 0.9818694023073836, 0.9749951703380544, 0.9622691021393978, 0.9794420950536901, 0.010527679489902417, 0.8759029335598811, 0.008422143591921933, 0.0021055358979804833, 0.10317125900104368, 0.982826838793366, 0.22775155513941486, 0.7396174240133523, 0.03220729062577584, 0.9816592987364076, 0.7463203599542613, 0.24877345331808712, 0.03960109264858036, 0.03643300523669393, 0.10296284088630894, 0.09029049123876322, 0.40076305760363323, 0.022176611883205, 0.003168087411886429, 0.025344699295091432, 0.280375735951949, 0.01596832866037797, 0.12774662928302377, 0.4524359787107092, 0.09048719574214184, 0.03725943354088193, 0.2714615872264255, 0.036020734210290936, 0.16809675964802437, 0.7804492412229703, 0.0015981773241279034, 0.11826512198546485, 0.011187241268895323, 0.6248873337340102, 0.007990886620639516, 0.05114167437209291, 0.0015981773241279034, 0.07191797958575565, 0.02876719183430226, 0.07351615690988356, 0.006392709296511614, 0.03450573274150731, 0.9618473001695164, 0.015403933710934844, 0.9704478237888952, 0.9927759398153563, 0.2162838101400688, 0.19465542912606193, 0.06488514304202064, 0.3460540962241101, 0.15860812743605046, 0.007209460338002294, 0.005522603424875908, 0.02945388493267151, 0.8237883442106563, 0.01012477294560583, 0.13070161438872982, 0.03737946453103818, 0.20558705492071, 0.4859330389034963, 0.1868973226551909, 0.07475892906207636, 0.654767498515367, 0.3388307334974627, 0.9816232053874128, 0.9883549988658269, 0.2789152225757707, 0.2563004747993569, 0.01507649851760923, 0.12815023739967846, 0.12061198814087384, 0.18091798221131075, 0.8124417717144023, 0.16925870244050048, 0.9952895368853474, 0.9675655684540396, 0.0175921012446189, 0.9962507358406678, 0.04696319806159056, 0.1761119927309646, 0.422668782554315, 0.3522239854619292, 0.824807815542657, 0.16324321349281753, 0.9873175183817933, 0.9951339601242628, 0.9868616867383162, 0.698270598361938, 0.2793082393447752, 0.9635762885140753, 0.019426941300687003, 0.015541553040549601, 0.047448019618024646, 0.06326402615736619, 0.877788362933456, 0.9969874450625223, 0.5664208867792208, 0.4315587708794063, 0.013222825012914932, 0.07492934173985127, 0.0440760833763831, 0.0881521667527662, 0.01763043335055324, 0.40109235872508625, 0.00881521667527662, 0.01763043335055324, 0.1630815084926175, 0.10137499176568114, 0.06611412506457466, 0.9834417447360935, 0.15179368741235416, 0.702748552834973, 0.1349277221443148, 0.3858748272547221, 0.5144997696729628, 0.08268746298315474, 0.998153170372156, 0.06699411149551426, 0.08932548199401902, 0.8396595307437789, 0.9903355205101585, 0.0015119626267330664, 0.008063800675909689, 0.011861579811813152, 0.10675421830631837, 0.059307899059065756, 0.5693558309670312, 0.23723159623626303, 0.15346234266796638, 0.6379218950119386, 0.10080369567405634, 0.07823570410523775, 0.0270815898825823, 0.029137237959886386, 0.5615540406814467, 0.40527249162387424, 0.3251659749519326, 0.11310120867893309, 0.5372307412249322, 0.9950292396544814, 0.8238204361069673, 0.121547277458405, 0.04051575915280167, 0.03960308153937637, 0.09900770384844093, 0.09900770384844093, 0.534641600781581, 0.03300256794948031, 0.18481438051708973, 0.09480978142993776, 0.019712924851769238, 0.03848713899631137, 0.021590346266223453, 0.03097745333849452, 0.013141949901179492, 0.6796265520324252, 0.10044204567330041, 0.1729440293853674, 0.03458880587707348, 0.12106082056975717, 0.15564962644683067, 0.4842432822790287, 0.30959344447878656, 0.003969146724087007, 0.03175317379269606, 0.007938293448174014, 0.6112485955093991, 0.03175317379269606, 0.17488778039086214, 0.0680119145964464, 0.427503463177663, 0.2331837071878162, 0.08744389019543107, 0.036264269109632666, 0.18132134554816332, 0.005579118324558871, 0.0027895591622794356, 0.5411744774822106, 0.1701631088990456, 0.058580742407868154, 0.21804437316670477, 0.020766130777781406, 0.09863912119446168, 0.21804437316670477, 0.1401713827500245, 0.29591736358338505, 0.19661986361784098, 0.18433112214172592, 0.29492979542676145, 0.31950727837899157, 0.3422359761895931, 0.18334070153013915, 0.12222713435342611, 0.14667256122411132, 0.17111798809479656, 0.34644580121546736, 0.63746027423646, 0.06095154345812948, 0.9316878785742649, 0.443596404194993, 0.14008307500894515, 0.37355486669052046, 0.5633752776501975, 0.09772836449034036, 0.05748727322961198, 0.025869272953325393, 0.14659254673551056, 0.10635145547478217, 0.05249466257358858, 0.4199573005887086, 0.3499644171572572, 0.1749822085786286, 0.08728275779733341, 0.02989135541004569, 0.05978271082009138, 0.0035869626492054827, 0.1339132722370047, 0.015543504813223759, 0.05021747708887676, 0.013152196380420103, 0.21880472160153444, 0.20445687100471252, 0.019130467462429242, 0.009565233731214621, 0.06695663611850235, 0.08489144936452976, 0.0037042644642615963, 0.3056018183015817, 0.6000908432103786, 0.0889023471422783, 0.5917970572764378, 0.04804256553535658, 0.004367505957759689, 0.10918764894399223, 0.004367505957759689, 0.04804256553535658, 0.15723021447934882, 0.037123800640957355, 0.0021095312906219805, 0.027423906778085743, 0.6729404817084117, 0.006328593871865941, 0.042190625812439604, 0.09281937678736712, 0.03586203194057366, 0.03375250064995169, 0.06117640742803743, 0.025314375487463764, 0.9933730332016438, 0.01647709154005679, 0.06590836616022716, 0.4613585631215901, 0.44488147158153335, 0.8782773173806323, 0.07318977644838602, 0.4554126486097245, 0.3842544222644551, 0.15654809795959282, 0.0979542624257612, 0.13713596739606568, 0.41140790218819706, 0.2350902298218269, 0.11754511491091345, 0.6920008094093749, 0.2951179922481158, 0.6321664607401143, 0.16899499445527807, 0.10640425576813804, 0.08136796029328204, 0.2144408593984435, 0.03063440848549193, 0.7428844057731793, 0.17045451920783783, 0.8181816921976215, 0.7886594070087803, 0.10037483361929932, 0.10754446459210641, 0.9393267240837451, 0.9956795944131416, 0.9952924707437669, 0.029635548478238877, 0.3556265817388665, 0.044453322717358315, 0.4593510014127026, 0.08890664543471663, 0.9982969667427296, 0.6737299552240537, 0.3200217287314255, 0.14753138332258262, 0.029933903862552996, 0.04917712777419421, 0.7718670924558308, 0.9879151291062136, 0.46484467888471087, 0.22381410464819412, 0.2926799830014846, 0.06390567671721281, 0.10042320626990583, 0.10042320626990583, 0.13694073582259886, 0.5934098552312618, 0.007644771983543137, 0.007644771983543137, 0.44339677504550196, 0.25227747545692353, 0.28285656339109605, 0.9731651340947878, 0.3540872639807979, 0.5265913156637507, 0.01361874092233838, 0.09987076676381479, 0.23843762940685848, 0.5298613986819077, 0.2119445594727631, 0.12517037315649168, 0.4828000107464679, 0.1430518550359905, 0.09834815033724346, 0.08046666845774465, 0.07152592751799525, 0.964623206933937, 0.35291886230640923, 0.6302122541185878, 0.022477325229414917, 0.9440476596354265, 0.02166422079364261, 0.20581009753960483, 0.012998532476185567, 0.012998532476185567, 0.47228001330140895, 0.27080275992053265, 0.9905998917357399, 0.9953650076756715, 0.9655165623560615, 0.013734741571907934, 0.1236126741471714, 0.837819235886384, 0.1739109003938672, 0.30690158893035385, 0.08184042371476104, 0.4296622245024954, 0.005655637511308859, 0.10745711271486832, 0.0763511064026696, 0.011311275022617718, 0.10462929395921389, 0.2771262380541341, 0.17532476285057463, 0.2403645942306265, 0.7201655394863621, 0.02477633736765007, 0.0033035116490200095, 0.09415008199707027, 0.06772198880491019, 0.0346868723147101, 0.0016517558245100047, 0.051204430559810145, 0.8114017315785286, 0.17898567608349894, 0.5287845358318614, 0.13219613395796534, 0.3210477538979158, 0.029028568678426084, 0.9289141977096347, 0.021771426508819563, 0.007257142169606521, 0.9177169445127538, 0.055619208758348714, 0.9831589593097195, 0.0015712006749315527, 0.0047136020247946575, 0.043993618898083474, 0.012569605399452422, 0.015712006749315527, 0.1398368600689082, 0.0031424013498631055, 0.3975137707576828, 0.028281612148767947, 0.021996809449041737, 0.010998404724520868, 0.026710411473836394, 0.29381452621220033, 0.0442258299549033, 0.02653549797294198, 0.07960649391882595, 0.5130196274768782, 0.01769033198196132, 0.3095808096843231, 0.11045137498840432, 0.2811489545159383, 0.16065654543767902, 0.11045137498840432, 0.32131309087535803, 0.010140941514110264, 0.5802872088629762, 0.04845116501186015, 0.0518314788498969, 0.012394484072801434, 0.00450708511738234, 0.024788968145602868, 0.03831022349774989, 0.04394407989447781, 0.0664795054813895, 0.02591573942494845, 0.06760627676073509, 0.023662196866257285, 0.9838342099454686, 0.06412737452188332, 0.7008205929891534, 0.1419963292984559, 0.0778689547765726, 0.009161053503126189, 0.023248115122727852, 0.046496230245455704, 0.018598492098182283, 0.004649623024545571, 0.21853228215364182, 0.37196984196364563, 0.009299246049091141, 0.3022254965954621, 0.3897340399909822, 0.003858752871197844, 0.6019654479068637, 0.03277731854336332, 0.32777318543363315, 0.13110927417345328, 0.11472061490177161, 0.18027525198849825, 0.1966639112601799, 0.005612051308636205, 0.07856871832090687, 0.01122410261727241, 0.21887000103681198, 0.10101692355545168, 0.06173256439499825, 0.1234651287899965, 0.3872315402958981, 0.005387557796210453, 0.0017958525987368174, 0.003591705197473635, 0.025141936382315443, 0.0017958525987368174, 0.39508757172209985, 0.030529494178525896, 0.24782765862568082, 0.0017958525987368174, 0.003591705197473635, 0.023346083783578626, 0.012570968191157722, 0.025141936382315443, 0.19036037546610265, 0.02873364157978908, 0.05915725872519894, 0.92679705336145, 0.3277317348968571, 0.0283862132587829, 0.059352991359273334, 0.023225083575367827, 0.018063953891952752, 0.018063953891952752, 0.10064202882659391, 0.09548089914317884, 0.3277317348968571, 0.015717136450796115, 0.9744624599493591, 0.967242165169296, 0.9565714685803465, 0.616137844682856, 0.27383904208126936, 0.21786209679251134, 0.7541380273586931, 0.9668794411301345, 0.027050481526856643, 0.46662080633827707, 0.5004339082468479, 0.6844071327152256, 0.31208965251814286, 0.008730545606164153, 0.06984436484931322, 0.07857491045547738, 0.40160509788355103, 0.11349709288013399, 0.24445527697259628, 0.06984436484931322, 0.9076582060256628, 0.09466223152796889, 0.8949883708098877, 0.42996002105815534, 0.5622554121529724, 0.6892144788359167, 0.3089582146505833, 0.02942664316166041, 0.7089981836762556, 0.007356660790415102, 0.2197802411136512, 0.03402455615566985, 0.9885583101504961, 0.9846105326663733, 0.3092684885466447, 0.65719553816162, 0.0619711692582928, 0.0309855846291464, 0.07229969746800827, 0.10328528209715468, 0.5887261079537817, 0.13427086672630106, 0.027022948999323483, 0.3040081762423892, 0.14862621949627916, 0.10809179599729393, 0.027022948999323483, 0.17564916849560264, 0.21618359199458786, 0.9894733023598173, 0.7616780004533931, 0.006033093072898163, 0.09351294262992152, 0.09049639609347244, 0.04675647131496076, 0.15255645935859916, 0.16950717706511018, 0.27121148330417627, 0.016950717706511017, 0.37291578954324234, 0.9875991667140458, 0.1628253462509806, 0.054275115416993536, 0.7598516158379095, 0.9872717433764822, 0.702535727072715, 0.03076798804698022, 0.06666397410179048, 0.1948639242975414, 0.1827360417550247, 0.04919816508789126, 0.16867942315848433, 0.5552364345633443, 0.0351415464913509, 0.9394097800534847, 0.04270044454788567, 0.13150281495108934, 0.8416180156869717, 0.6309486725632023, 0.02478726927926866, 0.036054209860754416, 0.07210841972150883, 0.23209897597860654, 0.9573097054729217, 0.02331644076383108, 0.029145550954788848, 0.3001991748343251, 0.14572775477394423, 0.01748733057287331, 0.01165822038191554, 0.46924337037210045, 0.10492740430649937, 0.12961620531979334, 0.5431536222924673, 0.11727180481314635, 0.09875520405317588, 0.9774801974067113, 0.9751839541348567, 0.1376132921435187, 0.06880664607175935, 0.02293554869058645, 0.07454053324440596, 0.06880664607175935, 0.6249937018184808, 0.9117191725066823, 0.03418946896900059, 0.04558595862533412, 0.686852597288629, 0.08149098611898987, 0.05820784722784991, 0.1280572639012698, 0.03492470833670995, 0.27501597180096443, 0.7028185946024647, 0.9496067871726288, 0.02566504830196294, 0.008545082541675693, 0.010986534696440177, 0.1660187465239849, 0.8142242936139553, 0.17220938094957977, 0.010129963585269398, 0.5976678515308945, 0.17220938094957977, 0.030389890755808193, 0.9513454922246439, 0.044043772788177955, 0.9542199218887452, 0.1516068239873753, 0.12002206899000543, 0.018950852998421912, 0.0631695099947397, 0.012633901998947941, 0.1073881669910575, 0.5243069329563396, 0.04130067171756839, 0.015487751894088147, 0.015487751894088147, 0.020650335858784195, 0.22715369444662614, 0.21682852651723405, 0.005162583964696049, 0.22715369444662614, 0.061951007576352586, 0.16520268687027356, 0.02366380518620516, 0.30762946742066705, 0.17578826709752404, 0.0033805435980293085, 0.07437195915664478, 0.05070815397043963, 0.273824031440374, 0.006761087196058617, 0.060849784764527556, 0.016902717990146542, 0.11476588744286491, 0.5508762597257516, 0.11476588744286491, 0.20657859739715684, 0.044678356903161444, 0.9494150841921807, 0.054503886447747056, 0.4178631294327274, 0.07267184859699607, 0.44511507265660094, 0.7803546617448354, 0.1350613837635292, 0.07503410209084956, 0.012095938201855413, 0.0030239845504638533, 0.021167891853246974, 0.00907195365139156, 0.010583945926623487, 0.09374352106437946, 0.0030239845504638533, 0.01814390730278312, 0.09223152878914753, 0.10281547471577102, 0.29635048594545765, 0.3220543546244004, 0.01360793047708734, 0.012149702377566926, 0.12149702377566926, 0.23691919636255507, 0.07289821426540155, 0.08504791664296849, 0.2004700892298543, 0.2733683034952558, 0.024510721361866928, 0.9559181331128103, 0.010629873725864767, 0.017716456209774613, 0.017716456209774613, 0.021259747451729535, 0.08503898980691814, 0.04251949490345907, 0.035432912419549226, 0.06023595111323368, 0.02834632993563938, 0.6803119184553451, 0.08067080037250343, 0.7490860034589605, 0.09219520042571822, 0.057622000266073885, 0.5995215404632757, 0.03240656975477166, 0.33216733998640946, 0.03240656975477166, 0.04488829968533466, 0.01923784272228628, 0.08336398512990723, 0.7887515516137376, 0.01923784272228628, 0.03847568544457256, 0.10751217014252706, 0.8913105718267567, 0.013934710371027541, 0.6549313874382945, 0.32049833853363346, 0.08725175836415484, 0.0763452885686355, 0.05453234897759678, 0.11997116775071293, 0.0763452885686355, 0.5671364293670065, 0.23029026119561466, 0.7566680010713054, 0.7836474140174673, 0.20093523436345315, 0.7054145595520986, 0.11439155019763762, 0.1525220669301835, 0.0855274154876211, 0.0488728088500692, 0.8552741548762111, 0.9481632802113087, 0.9830208558528415, 0.008545180948739796, 0.07690662853865816, 0.005340738092962372, 0.02349924760903444, 0.014954066660294642, 0.002136295237184949, 0.6152530283092653, 0.027771838083404336, 0.00961332856733227, 0.10574661424065497, 0.03738516665073661, 0.07156589044569579, 0.9126604100412118, 0.9408635465330699, 0.9008778264122924, 0.49603847003580487, 0.05314697893240766, 0.4428914911033972, 0.008282130528466927, 0.6632606198213931, 0.007591952984428016, 0.0006901775440389105, 0.0020705326321167317, 0.01242319579270039, 0.07453917475620234, 0.002760710176155642, 0.0034508877201945526, 0.04279100773041245, 0.015183905968856031, 0.004141065264233463, 0.1628819003931829, 0.7649486573288521, 0.08742270369472596, 0.04371135184736298, 0.06556702777104446, 0.1950865563161653, 0.6828029471065786, 0.06370268979131616, 0.6211012254653326, 0.3025877765087518, 0.14820388610480714, 0.7544925110790183, 0.09431156388487728, 0.8836698982222422, 0.9604070370678707, 0.9262471043978627, 0.05145817246654793, 0.08560736582572882, 0.6677374534406848, 0.22257915114689494, 0.915633260905954, 0.03815138587108142, 0.08595233233493645, 0.012278904619276634, 0.08595233233493645, 0.12278904619276634, 0.4911561847710654, 0.18418356928914953, 0.022692553711809352, 0.9530872558959929, 0.9089968448260228, 0.9643164994588994, 0.9828916420997738, 0.9039877094829928, 0.6570678884448008, 0.3128894706880004, 0.6807866699170885, 0.048627619279792034, 0.1353116362568126, 0.008456977266050788, 0.12474041467424912, 0.1796733602841054, 0.31788363742572495, 0.2764205542832391, 0.22113644342659128, 0.8334166083047776, 0.06945138402539813, 0.12489440972881082, 0.8180583837237108, 0.00624472048644054, 0.04995776389152432, 0.5587364658624717, 0.4368303278561142, 0.9802266715827388, 0.1437647480336626, 0.1545471041361873, 0.010782356102524695, 0.14735886673450416, 0.02156471220504939, 0.4492648376051956, 0.0718823740168313, 0.24650673482784313, 0.014500396166343715, 0.10875297124757786, 0.6235170351527797, 0.015178181371307347, 0.17707878266525237, 0.28332605226440377, 0.005059393790435782, 0.18719757024612393, 0.10118787580871565, 0.22261332677917442, 0.9955182262454818, 0.9749534646814467, 0.9915497871463876, 0.21454153745017374, 0.40226538271907575, 0.093861922634451, 0.2681769218127172, 0.017878461454181146, 0.04541103009395527, 0.6054804012527369, 0.09082206018791054, 0.2421921605010948, 0.5603816133903472, 0.4292284698309043, 0.06784103717215494, 0.0508807778791162, 0.1017615557582324, 0.4070462230329296, 0.3392051858607747, 0.15848931925171567, 0.815087927580252, 0.9194502540645725, 0.7263051041038949, 0.11348517251623358, 0.1361822070194803, 0.010975621980170568, 0.482927367127505, 0.3256101187450602, 0.17560995168272908, 0.7164808017375722, 0.19106154713001927, 0.9409284216255621, 0.007371230157797457, 0.8771763887778974, 0.11056845236696185, 0.24472245232069953, 0.69920700663057, 0.6305771929718477, 0.31528859648592383, 0.8755851375074394, 0.10944814218842992, 0.9918008247428212, 0.018434883830975263, 0.08295697723938868, 0.06221773292954151, 0.8134392490417834, 0.02073924430984717, 0.9702365981770392, 0.9820313526743358, 0.9724271142139065, 0.6517543711209001, 0.014591515771363434, 0.20428122079908806, 0.12645980335181642, 0.04008977482539958, 0.04008977482539958, 0.08017954965079915, 0.1603590993015983, 0.04008977482539958, 0.028635553446713983, 0.6128008437596792, 0.8929444533612808, 0.09921605037347564, 0.019912915259138353, 0.2986937288870753, 0.6571262035515657, 0.9687041534890354, 0.3767982907889401, 0.018839914539447004, 0.3202785471705991, 0.24491888901281106, 0.04270724975631672, 0.062119636009187955, 0.5396643378298204, 0.050472204257465215, 0.2290661577838806, 0.0737670677609107, 0.9532188614590147, 0.01945344615222479, 0.12687947272320854, 0.5227434276196192, 0.05075178908928342, 0.06597732581606844, 0.015225536726785026, 0.03045107345357005, 0.05582696799821176, 0.005075178908928342, 0.11672911490535186, 0.9882774380126673, 0.42410311810506096, 0.2238322012221155, 0.1767096325437754, 0.02356128433917005, 0.08246449518709519, 0.05890321084792513, 0.024678798703122656, 0.14807279221873593, 0.7732690260311765, 0.041131331171871094, 0.3372832620666995, 0.6226767915077529, 0.02594486631282304, 0.5822826204307167, 0.41323282740244405, 0.05717665970240948, 0.006352962189156609, 0.006352962189156609, 0.03811777313493966, 0.552707710456625, 0.2700008930391559, 0.073059065175301, 0.1997830097186232, 0.10897255075561266, 0.6719973963262781, 0.8260620865642011, 0.13216993385027218, 0.8416839650933943, 0.1496327049054923, 0.034148906147622095, 0.6431377324468828, 0.2561167961071657, 0.05691484357937016, 0.04653190222449985, 0.2140467502326993, 0.7258976747021977, 0.7765161169635202, 0.21742451274978564, 0.9622566760645557, 0.12403872646851576, 0.019585062073976173, 0.2894236950932034, 0.050050714189050216, 0.17408944065756596, 0.019585062073976173, 0.008704472032878299, 0.041346242156171914, 0.2306685088712749, 0.039170124147952345, 0.3052708379671936, 0.035914216231434544, 0.6464558921658218, 0.04176765243806838, 0.10913483378979158, 0.42980261702399397, 0.35300403028302957, 0.0633251504706198, 0.9882084969444996, 0.9995271844849235, 0.4422388396078111, 0.5383777177834221, 0.9836333973921018, 0.0024581349687886247, 0.004916269937577249, 0.01474880981273175, 0.8898448587014822, 0.049162699375772494, 0.036872024531829375, 0.9291935573667949, 0.06819769228380146, 0.7886498810543785, 0.008762776456159761, 0.13144164684239643, 0.06133943519311833, 0.04209719151091754, 0.6903939407790477, 0.2610025873676888, 0.6006014974398212, 0.03625678331001545, 0.2553738650531523, 0.02995125577783885, 0.01103467318130905, 0.06463165720481015, 0.045979120820169805, 0.012539760223682675, 0.21317592380260547, 0.045979120820169805, 0.3511132862631149, 0.2884144851447015, 0.041799200745608917, 0.997360248163707, 0.3959524618697831, 0.009657377118775198, 0.08691639406897679, 0.004828688559387599, 0.4925262330575351, 0.005144018130412382, 0.009475822871812282, 0.002436640167037444, 0.0016244267780249626, 0.005685493723087369, 0.0008122133890124813, 0.003248853556049925, 0.029510419800786822, 0.01218320083518722, 0.8008424015663066, 0.009746560668149776, 0.0002707377963374938, 0.003519591352387419, 0.0008122133890124813, 0.005414755926749875, 0.020034596928974538, 0.004602542537737394, 0.0073099205011123315, 0.0649770711209985, 0.00785139609378732, 0.004061066945062406, 0.14074491991437155, 0.8444695194862294, 0.9979614985609836, 0.0009698362473867674, 0.023322357506852576, 0.004485068751317803, 0.004485068751317803, 0.08162825127398401, 0.6745543401981975, 0.0026910412507906815, 0.07804019627292977, 0.0977744987787281, 0.03229249500948818, 0.012761885969817822, 0.10634904974848186, 0.28501545332593137, 0.1488886696478746, 0.029777733929574918, 0.059555467859149835, 0.3275550732253241, 0.025523771939635644, 0.9953665133751329, 0.005568485820763271, 0.007424647761017695, 0.7851565007276213, 0.011136971641526543, 0.03341091492457963, 0.11322587835551985, 0.025986267163561935, 0.016705457462289814, 0.9691825912597481, 0.3538121745207788, 0.5660994792332461, 0.90746662593774, 0.19771994081220298, 0.5536158342741683, 0.15817595264976236, 0.10272699307743798, 0.029350569450696567, 0.5136349653871899, 0.2935056945069657, 0.04402585417604485, 0.8084655120053059, 0.17685183075116068, 0.41244012403858005, 0.5624183509617, 0.06268241933646254, 0.8984480104892965, 0.9858283524790772, 0.4986258985081655, 0.4986258985081655, 0.9948694209203254, 0.5566001988518973, 0.027600009860424657, 0.03526667926609817, 0.17020006080595204, 0.0015333338811347032, 0.09353336674921689, 0.11500004108510273, 0.031087820329262807, 0.963722430207147, 0.16155734569162547, 0.8077867284581274, 0.27214142344102965, 0.6531394162584712, 0.46752356257839955, 0.49089974070731957, 0.9799392745159392, 0.16929601744332387, 0.7981097965185269, 0.2006201341030036, 0.7738205172544425, 0.9805312766689764, 0.27178258684971335, 0.5435651736994267, 0.15099032602761853, 0.975957383319098, 0.9523956657929167, 0.03401149344335957, 0.08162758426406296, 0.5986022846031284, 0.18366206459414167, 0.08842988295273488, 0.9966082121509083, 0.6456424667033367, 0.32282123335166835, 0.8481697654773197, 0.07068081378977664, 0.9705367267668014, 0.9735070887019124, 0.04308562912258293, 0.1292568873677488, 0.04308562912258293, 0.5816559931548695, 0.19388533105162317, 0.9147992182408409, 0.9772599481756272, 0.8168063329197375, 0.17947762472227413, 0.9891565677375473, 0.7557510062958951, 0.22672530188876855, 0.04186504081444421, 0.24281723672377642, 0.050238048977333055, 0.10047609795466611, 0.08373008162888843, 0.2763092693753318, 0.20095219590933222, 0.029187124859881182, 0.11674849943952473, 0.08756137457964354, 0.7442716839269701, 0.19335121184541737, 0.6712049211205203, 0.1325836881225719, 0.003129747140840515, 0.003129747140840515, 0.5015419793196926, 0.28402455303127677, 0.009389241422521545, 0.0023473103556303863, 0.11267089707025854, 0.08293829923227365, 0.03696651917751989, 0.004107391019724432, 0.02053695509862216, 0.3285912815779546, 0.38198736483437223, 0.03285912815779546, 0.01642956407889773, 0.008214782039448865, 0.1766178138481506, 0.9920745832161365, 0.9276175397134809, 0.5979822850357971, 0.24687342042762267, 0.05486076009502726, 0.0822911401425409, 0.010972152019005452, 0.5612666977169238, 0.1421875634216207, 0.10476978357382578, 0.17960534326941563, 0.9914727417606832, 0.9757243334890644, 0.16938262449125832, 0.07259255335339643, 0.14518510670679285, 0.012098758892232737, 0.4839503556893095, 0.024197517784465473, 0.08469131224562916, 0.9957981820056799, 0.8663178883081338, 0.10695282571705356, 0.0026738206429263393, 0.018716744500484373, 0.9794780507946956, 0.38146927532705843, 0.47683659415882307, 0.1169353875979979, 0.2338707751959958, 0.05846769379899895, 0.4794350891517914, 0.10524184883819812, 0.13191429615127837, 0.5716286166555397, 0.26382859230255673, 0.9954590615256178, 0.14721080782017024, 0.5446799889346299, 0.2944216156403405, 0.9624369631080477, 0.984327352685109, 0.9582766186127396, 0.02038886422580297, 0.20052949519481167, 0.1485403668109716, 0.40105899038962334, 0.08169720174603438, 0.16339440349206877, 0.7917870781288417, 0.19354795243149464, 0.3263752370796008, 0.5711566648893014, 0.020991651117806594, 0.006997217039268865, 0.3568580690027121, 0.09096382151049524, 0.517794060905896, 0.00953254436405113, 0.1684082837649033, 0.8197988153083972, 0.9887007127774159, 0.8638467059371987, 0.1264165911127608, 0.977026922354494, 0.011270014723711664, 0.34598945201794806, 0.027048035336907993, 0.007889010306598164, 0.010143013251340496, 0.007889010306598164, 0.005635007361855832, 0.010143013251340496, 0.010143013251340496, 0.022540029447423327, 0.006762008834226998, 0.042826055950104316, 0.0011270014723711664, 0.1070651398752608, 0.005635007361855832, 0.023667030919794493, 0.12622416490557062, 0.22652729594660442, 0.8848598550885767, 0.1126185270112734, 0.0060870452753237735, 0.04869636220259019, 0.7700112273284574, 0.04869636220259019, 0.0060870452753237735, 0.11869738286881358, 0.9883604820872283, 0.9348197354521682, 0.06518533620523852, 0.1629633405130963, 0.2118523426670252, 0.06518533620523852, 0.3585193491288119, 0.09777800430785778, 0.9561829888071003, 0.15267956061271454, 0.006638241765770198, 0.3451885718200503, 0.13940307708117416, 0.21242373650464633, 0.13276483531540395, 0.9812153358871099, 0.01683556863682933, 0.00792262053497851, 0.9695306879679951, 0.004951637834361569, 0.9869834454651458, 0.46924197634849424, 0.03531928854235978, 0.36328411072141487, 0.12614031622271352, 0.023349547336896377, 0.6587907998624335, 0.038359970624901193, 0.08505906529869395, 0.021681722527118065, 0.023349547336896377, 0.1451007584507132, 0.0016678248097783128, 0.027661069875937423, 0.013830534937968712, 0.47945854451624864, 0.2858310553846867, 0.07837303131515604, 0.004610178312656237, 0.10142392287843721, 0.8554409522939748, 0.12475180554287131, 0.00513794515689825, 0.9933360636669951, 0.16375660801025435, 0.011696900572161027, 0.023393801144322053, 0.011696900572161027, 0.5380574263194072, 0.24563491201538154, 0.3366455317209096, 0.6528883039435823, 0.9908927949394674, 0.0205412860896333, 0.06162385826889989, 0.08509961379990938, 0.23182308586871866, 0.06749279715165227, 0.19074051368945205, 0.023475755531009484, 0.06162385826889989, 0.25529884139972814, 0.9872536178692626, 0.9765325213999382, 0.2580840527462439, 0.03686915039232056, 0.01843457519616028, 0.6452101318656098, 0.02876139399805496, 0.03697893514035638, 0.08217541142301417, 0.8422979670858952, 0.9846936075098611, 0.025323991794286165, 0.45583185229715095, 0.03640323820428636, 0.4020183697342929, 0.025323991794286165, 0.03482048871714348, 0.009496496922857312, 0.004748248461428656, 0.004748248461428656, 0.16329820077986446, 0.11664157198561748, 0.10108936238753514, 0.26438756316739964, 0.031104419196164662, 0.3188202967606878, 0.027010604535990794, 0.9633782284503383, 0.04688436607287221, 0.2031655863157796, 0.7345217351416647, 0.06240903323330373, 0.12481806646660747, 0.10921580815828154, 0.06240903323330373, 0.6240903323330373, 0.8174064930383886, 0.16348129860767774, 0.02730034149525, 0.14742184407435, 0.8244703131565501, 0.7314443516679168, 0.26597976424287884, 0.596520487259042, 0.37960394643757217, 0.08197080860129921, 0.2868978301045472, 0.09953598187300618, 0.5269551981512092, 0.010474077721316977, 0.45562238087728846, 0.15187412695909616, 0.37706679796741116, 0.37686843819895327, 0.06942313335243876, 0.19835180957839646, 0.3471156667621938, 0.4283425723540095, 0.5548983323676941, 0.009735058462591125, 0.9413999488081634, 0.9915815049870247, 0.10328747494593604, 0.042253967023337474, 0.0375590817985222, 0.5493015713033872, 0.0187795408992611, 0.24882891691520956, 0.9434353155394913, 0.10266063992396954, 0.8440985949304163, 0.03992358219265482, 0.005703368884664974, 0.030547108788243904, 0.09927810356179269, 0.17564587553240246, 0.4505698546265976, 0.007636777197060976, 0.03436549738677439, 0.007636777197060976, 0.030547108788243904, 0.1260068237515061, 0.03436549738677439, 0.28662481064465056, 0.6687912248375181, 0.2473979381901697, 0.742193814570509, 0.2371010863843707, 0.03486780682123099, 0.10460342046369296, 0.18828615683464733, 0.4323608045832642, 0.769736637470293, 0.22295819843967107, 0.6296143703206231, 0.0033312929646593815, 0.33646058943059753, 0.026650343717275052, 0.9225218993234291, 0.9875712639769701, 0.01161848545855259, 0.01959924024252687, 0.00653308008084229, 0.028310013683649923, 0.0653308008084229, 0.5509564201510331, 0.10452928129347663, 0.20905856258695327, 0.015243853521965344, 0.01180223052654762, 0.10622007473892858, 0.33046245474333336, 0.17703345789821429, 0.34226468526988096, 0.991512358434529, 0.47806291883539365, 0.13943501799365648, 0.19919288284808068, 0.15935430627846456, 0.9964507178614651, 0.9678909469585362, 0.3906038093391796, 0.5989258409867421, 0.9591298767737959, 0.17578762603016626, 0.7910443171357481, 0.47824593889442485, 0.43042134500498236, 0.047824593889442484, 0.015941531296480828, 0.780944126426321, 0.05264791863548232, 0.16671840901236068, 0.8670129285112073, 0.028900430950373576, 0.08670129285112073, 0.17731790928798152, 0.10911871340798862, 0.09547887423199004, 0.613792762919936, 0.07722986590345195, 0.11584479885517793, 0.7916061255103826, 0.6464272302945316, 0.051033728707463026, 0.11907870031741373, 0.15310118612238907, 0.27665997227214884, 0.06916499306803721, 0.3804074618742046, 0.2420774757381302, 0.022444868600803934, 0.8229785153628109, 0.1496324573386929, 0.9424660559171831, 0.9865362827763567, 0.948791706150145, 0.756791503207744, 0.015766489650161333, 0.094598937900968, 0.12613191720129066, 0.014768439025147299, 0.059073756100589195, 0.6867324146693494, 0.14030017073889933, 0.0886106341508838, 0.758831615972646, 0.21078655999240167, 0.005720582060415285, 0.9896606964518443, 0.9137960504061707, 0.24780196535742194, 0.6608052409531252, 0.1580868854807035, 0.09033536313183056, 0.7452667458376022, 0.901215713119299, 0.17095725190114586, 0.042739312975286464, 0.23506622136407554, 0.1282179389258594, 0.36328416028993493, 0.042739312975286464, 0.9848082773395025, 0.33176914654554474, 0.27456756955493355, 0.011440315398122233, 0.11440315398122232, 0.2631272541568113, 0.9658297140027374, 0.08753926338580414, 0.05835950892386942, 0.06565444753935311, 0.007294938615483678, 0.3720418693896676, 0.08024432477032047, 0.31368236046579817, 0.3131229051374174, 0.6679955309598238, 0.9330277739609304, 0.1012160557209713, 0.8603364736282559, 0.042333792417544334, 0.2822252827836289, 0.09877884897427011, 0.5644505655672578, 0.6186912332999048, 0.001989360878777829, 0.011936165272666974, 0.007957443515111316, 0.03779785669677875, 0.01790424790900046, 0.04177657845433441, 0.011936165272666974, 0.057691465484557045, 0.16113823118100415, 0.031829774060445265, 0.1745851192295289, 0.027566071457294037, 0.01837738097152936, 0.771850000804233, 0.4534809205298476, 0.0041038997333017885, 0.05950654613287593, 0.008207799466603577, 0.0015389623999881707, 0.005642862133289959, 0.0010259749333254471, 0.017954561333195326, 0.016415598933207154, 0.021032486133171668, 0.0030779247999763414, 0.0174415738665326, 0.009746761866591748, 0.09336371893261569, 0.18364951306525504, 0.031292235466426135, 0.025649373333136178, 0.022058461066497115, 0.02462339839981073, 0.0006607733917222789, 0.0059469605255005106, 0.003964640350333674, 0.0006607733917222789, 0.13942318565340084, 0.040967950286781296, 0.1288508113858444, 0.0013215467834445578, 0.026430935668891157, 0.007268507308945068, 0.038985630111614454, 0.03964640350333674, 0.026430935668891157, 0.013876241226167858, 0.23721764762829814, 0.011233147659278742, 0.24977234207102142, 0.01784088157650153, 0.007929280700667347, 0.4433310117278375, 0.035466480938227, 0.004433310117278375, 0.0177332404691135, 0.30589839809220787, 0.0886662023455675, 0.10196613269740262, 0.06439843765996504, 0.010733072943327508, 0.41322330831810905, 0.1878287765082314, 0.03219921882998252, 0.28979296946984273, 0.9891758374209151, 0.09259551625328552, 0.7901484053613698, 0.09259551625328552, 0.018519103250657105, 0.012576730443103003, 0.012576730443103003, 0.25991909582412875, 0.04192243481034335, 0.6372210091172189, 0.029345704367240343, 0.3005672238300595, 0.3673599402367394, 0.3005672238300595, 0.5195791120998488, 0.28742674286374614, 0.18793287033398787, 0.8842204450756166, 0.03175377288945584, 0.010584590963151948, 0.0008141993048578421, 0.0016283986097156843, 0.0675785423032009, 0.0016283986097156843, 0.9082194945618839, 0.07729527613292629, 0.9638664218030152, 0.01500181201249829, 0.02062749151718515, 0.3856687620719938, 0.027064474531367986, 0.08119342359410396, 0.02029835589852599, 0.48716054156462374, 0.9836068434991656, 0.2008918509389579, 0.006087631846635088, 0.14001553247260703, 0.09740210954616141, 0.4748352840375369, 0.06696395031298596, 0.02540016391910241, 0.32737989051287547, 0.11288961741823292, 0.32173540964196384, 0.2088457922237309, 0.147413638473023, 0.1158250016573752, 0.737068192365115, 0.03334055266245589, 0.016670276331227946, 0.7334921585740295, 0.20004331597473532, 0.42582621741649945, 0.21291310870824973, 0.10645655435412486, 0.24332926709514255, 0.11440728978392557, 0.5577355376966372, 0.31462004690579537, 0.3229142931751321, 0.00778106730542487, 0.05252220431161787, 0.02334320191627461, 0.02528846874263083, 0.005835800479068652, 0.03890533652712435, 0.12644234371315413, 0.4007249662293808, 0.6656927427220215, 0.098216962040954, 0.13095594938793864, 0.098216962040954, 0.039838623326698214, 0.9009657890807133, 0.00919352846000728, 0.04903215178670549, 0.10795281674945159, 0.5937404921219838, 0.29301478831994004, 0.8756641504946509, 0.009087080807019962, 0.015695866848489025, 0.09913179062203595, 0.9850283428335292, 0.012947964014213548, 0.019421946021320323, 0.05179185605685419, 0.012947964014213548, 0.019421946021320323, 0.4726006865187945, 0.13595362214924225, 0.1489015861634558, 0.045317874049747416, 0.07768778408528129, 0.12425769927479742, 0.6337142663014669, 0.02236638586946354, 0.21123808876715564, 0.004970307970991897, 0.9395374230863779, 0.07551784319563687, 0.6796605887607318, 0.15103568639127374, 0.037758921597818434, 0.170067137506493, 0.07288591607421128, 0.09718122143228171, 0.10932887411131692, 0.15791948482745777, 0.060738263395176066, 0.31583896965491554, 0.9748445189194699, 0.063359987487406, 0.2280959549546616, 0.0380159924924436, 0.0443519912411842, 0.2027519599596992, 0.25977594869836457, 0.10771197872859019, 0.0443519912411842, 0.015735102263516088, 0.010134472644298497, 0.0008000899456025129, 0.0008000899456025129, 0.8998344921542928, 0.007467506158956787, 0.06400719564820104, 0.0013334832426708549, 0.9483678461198647, 0.0503558148382229, 0.019450587697534126, 0.016208823081278436, 0.013777499619086671, 0.028365440392237266, 0.02188191115972589, 0.013777499619086671, 0.011346176156894906, 0.023502793467853736, 0.007293970386575297, 0.6248501297832838, 0.008914852694703141, 0.11994529080146044, 0.03241764616255687, 0.005673088078447453, 0.051868233860091, 0.5739824721879985, 0.02562421750839279, 0.038436326262589186, 0.10505929178441044, 0.05381085676762486, 0.017936952255874952, 0.005124843501678558, 0.17936952255874952, 0.0031761932761611602, 0.0031761932761611602, 0.07781673526594843, 0.01111667646656406, 0.0015880966380805801, 0.00476428991424174, 0.06193576888514263, 0.47325279814801285, 0.0714643487136261, 0.03970241595201451, 0.2525073654548122, 0.1951010454684134, 0.09104715455192626, 0.6763502909571665, 0.026013472729121787, 0.021388041450385455, 0.07218463989505092, 0.050796598444665456, 0.04010257771947273, 0.01336752590649091, 0.08020515543894546, 0.03742907253817455, 0.02940855699428, 0.005347010362596364, 0.4544958808206909, 0.1924923730534691, 0.6760782203739112, 0.04507188135826074, 0.02253594067913037, 0.2253594067913037, 0.3510113315439835, 0.11700377718132784, 0.4972660530206433, 0.9951943763703941, 0.433322691736492, 0.5528599860086277, 0.023809705989751538, 0.9047688276105585, 0.023809705989751538, 0.5142232443317839, 0.08919075544084473, 0.008808963500330344, 0.040741456189027844, 0.008808963500330344, 0.013213445250495516, 0.13984229556774422, 0.012112324812954224, 0.003303361312623879, 0.1585613430059462, 0.01101120437541293, 0.9945434473116109, 0.2953105103973482, 0.005790402164653886, 0.04053281515257721, 0.028952010823269432, 0.07527522814050053, 0.028952010823269432, 0.2142448800921938, 0.005790402164653886, 0.3011009125620021, 0.11200225173379087, 0.032941838745232606, 0.032941838745232606, 0.4611857424332565, 0.07906041298855826, 0.06588367749046521, 0.019765103247139565, 0.15153245822807, 0.046118574243325654, 0.979787977278289, 0.8968973053166222, 0.10120631071666164, 0.14865617592783556, 0.8258676440435309, 0.03599307379258144, 0.04925367992669039, 0.1269229444264714, 0.6933402635834108, 0.09282424293876265, 0.05742605463444962, 0.03828403642296641, 0.07656807284593282, 0.2488462367492817, 0.38284036422966417, 0.19142018211483208, 0.22006930683531498, 0.5220248673767937, 0.015353672569905696, 0.24054087026185592, 0.08026737965557428, 0.03440030556667469, 0.017200152783337346, 0.3440030556667469, 0.005733384261112449, 0.022933537044449795, 0.04586707408889959, 0.17200152783337344, 0.022933537044449795, 0.10320091670002407, 0.14333460652781121, 0.12598913788354338, 0.773933275570338, 0.08999224134538814, 0.9753066493182533, 0.7962365939491459, 0.20115450794504738, 0.9801792884493282, 0.008430631411568025, 0.0674450512925442, 0.008430631411568025, 0.9020775610377787, 0.020402826512760125, 0.06800942170920042, 0.04080565302552025, 0.013601884341840084, 0.15642166993116097, 0.03400471085460021, 0.13601884341840084, 0.12921790124748078, 0.39445464591336243, 0.9768992728770273, 0.9061661805006974, 0.08518541017417261, 0.141975683623621, 0.7382735548428293, 0.14110155377266295, 0.6067366812224507, 0.02116523306589944, 0.22576248603626073, 0.49151529493250645, 0.29490917695950386, 0.03276768632883376, 0.1638384316441688, 0.15889391144290568, 0.19294260675209976, 0.3631860832980701, 0.11349565103064692, 0.18159304164903506, 0.9873930884268118, 0.3635324393335877, 0.17107408909815894, 0.27799539478450824, 0.014256174091513245, 0.1639460020524023, 0.5563305070723714, 0.2781652535361857, 0.13908262676809285, 0.36458577747731774, 0.6285961680643409, 0.8948523570806219, 0.04836277594072647, 0.12896740250860392, 0.12896740250860392, 0.06448370125430196, 0.6125951619158687, 0.38447549694076416, 0.38447549694076416, 0.19223774847038208, 0.0016169173091792337, 0.01293533847343387, 0.39129398882137456, 0.0032338346183584674, 0.07276127891306551, 0.1584578962995649, 0.0032338346183584674, 0.019403007710150803, 0.07922894814978244, 0.027487594256046972, 0.050124436584556245, 0.12611955011598022, 0.054975188512093945, 0.054623734971479244, 0.03932908917946505, 0.11798726753839517, 0.00436989879771834, 0.49161361474331317, 0.2643788772619595, 0.010924746994295848, 0.01747959519087336, 0.6953356389698224, 0.10535388469239734, 0.16856621550783574, 0.04093137619477717, 0.4011274867088163, 0.024558825716866305, 0.24558825716866306, 0.01637255047791087, 0.20465688097388587, 0.05730392667268804, 0.49855045749853655, 0.48193210891525196, 0.010806674104730392, 0.3674269195608333, 0.5943670757601716, 0.010806674104730392, 0.004480166559979869, 0.8545917713161599, 0.13888516335937592, 0.0011200416399949672, 0.0480749821971684, 0.0043704529270153095, 0.7691997151546944, 0.030593170489107167, 0.14422494659150523, 0.055512330291712556, 0.0793033289881608, 0.09516399478579296, 0.07137299608934472, 0.2854919843573789, 0.04758199739289648, 0.36479531334553966, 0.019108335027462425, 0.1583262045132601, 0.02456785932102312, 0.13375834519223698, 0.6606024395208439, 0.9842791092901028, 0.011764292142909595, 0.02929741215620305, 0.2246134931975567, 0.024414510130169206, 0.017090157091118444, 0.009765804052067683, 0.009765804052067683, 0.03662176519525381, 0.04394611823430457, 0.3100642786531489, 0.0048829020260338415, 0.28564976852297974, 0.20460938323895714, 0.7775156563080372, 0.18343203678256748, 0.022929004597820934, 0.09171601839128374, 0.4127220827607768, 0.022929004597820934, 0.2636835528749408, 0.1162002051542052, 0.08202367422649778, 0.44429490206019634, 0.3486006154626156, 0.9777999611254908, 0.3443934489545641, 0.5165901734318461, 0.11479781631818803, 0.9673072410371817, 0.9760647853620664, 0.9792619065873975, 0.6492760844616204, 0.3212912582902864, 0.02811298510040006, 0.015961211645120675, 0.587017894948327, 0.005320403881706891, 0.1418774368455171, 0.24828551447965494, 0.9946982193802849, 0.9219873731564692, 0.03986333108463309, 0.36674264597862444, 0.35876997976169783, 0.2232346540739453, 0.3569011455356449, 0.2608123755837405, 0.3569011455356449, 0.9648285982667167, 0.42147351185109505, 0.11853942520812048, 0.27659199215228114, 0.02634209449069344, 0.1448815196988139, 0.6197492523190931, 0.07869831775480547, 0.07869831775480547, 0.20658308410636436, 0.1846986374048473, 0.7798386912649108, 0.9451573189806936, 0.94083578078185, 0.9959989328988004, 0.8990486262261989, 0.08068385107158195, 0.9898506431097158, 0.05234111858631518, 0.000830811406131987, 0.023262719371695637, 0.006646491249055896, 0.004154057030659935, 0.003323245624527948, 0.9047536212777338, 0.002492434218395961, 0.001661622812263974, 0.96477742859898, 0.029993080681833574, 0.012264016290026008, 0.24528032580052014, 0.7358409774015605, 0.9878763674920423, 0.0353967045681357, 0.9380126710555959, 0.04335328404043509, 0.3757284616837708, 0.05298734716053178, 0.33719220920338405, 0.1878642308418854, 0.00656441788500568, 0.031509205848027265, 0.007877301462006816, 0.45294483406539193, 0.022319020809019312, 0.02625767154002272, 0.015754602924013632, 0.18905523508816358, 0.08665031608207498, 0.1522944949321318, 0.00656441788500568, 0.37684458848581665, 0.5652668827287249, 0.06002500636083979, 0.021827275040305377, 0.02455568442034355, 0.016370456280229033, 0.005456818760076344, 0.005456818760076344, 0.001364204690019086, 0.23191479730324463, 0.00682102345009543, 0.5443176713176153, 0.08048807671112608, 0.4894317512464735, 0.41413455874701605, 0.07529719249945746, 0.9431283717336272, 0.4597236052952145, 0.14145341701391215, 0.14145341701391215, 0.21218012552086823, 0.003940934705076024, 0.6655253483197136, 0.330053281550117, 0.000492616838134503, 0.004105464433699322, 0.5829759495853037, 0.4064409789362329, 0.0808022113477961, 0.9022913600503898, 0.28569153657523155, 0.7138653662007058, 0.9256055618052043, 0.7789775243324234, 0.0048184176762830315, 0.08994379662394993, 0.12367272035793114, 0.9948997834630463, 0.9945247853759862, 0.06785318972787319, 0.007982728203279199, 0.07583591793115238, 0.04789636921967519, 0.20355956918361956, 0.12373228715082757, 0.4709809639934727, 0.21119022438184695, 0.7391657853364643, 0.021119022438184695, 0.016291121185441206, 0.005430373728480402, 0.8932964783350262, 0.04887336355632362, 0.035297429235122614, 0.4582325059587555, 0.10692091805704294, 0.09164650119175109, 0.19856741924879404, 0.13746975178762663, 0.95412181937815, 0.0027490277574828284, 0.004581712929138048, 0.46366934842877044, 0.5259806442650479, 0.0009163425858276095, 0.0009163425858276095, 0.08474966328359633, 0.028249887761198775, 0.05649977552239755, 0.621497530746373, 0.20339919188063119, 0.19739548567065052, 0.7641115574347762, 0.03183798155978234, 0.8915698505205422, 0.10327063905643345, 0.9900464582731663, 0.9680147310615589, 0.9862187758379781, 0.9841301189446774, 0.6875126629394938, 0.1266470694888541, 0.16283194648566957, 0.024645857342479826, 0.9611884363567132, 0.10788180082720845, 0.8630544066176676, 0.0574956924675627, 0.8911832332472218, 0.9854882996265824, 0.0530643932093716, 0.6190845874426687, 0.28301009711664854, 0.03537626213958107, 0.9729324948632352, 0.9826651263734646, 0.9907082216066583, 0.1183497461848848, 0.8749427664382554, 0.9271286297631034, 0.9251576596106916, 0.06608268997219226, 0.07978256364958079, 0.13677010911356707, 0.31913025459832317, 0.2963352364127287, 0.14816761820636434, 0.9873377570930792, 0.9997806617007584, 0.22913411698187502, 0.03950588223825431, 0.28444235211543106, 0.16592470540066812, 0.2686399992201293, 0.0028093695658590635, 0.9954532828360615, 0.0009364565219530211, 0.46229262535047194, 0.10543516016765149, 0.19059432799537002, 0.06488317548778554, 0.04460718314785256, 0.04055198467986596, 0.012165595403959787, 0.07704877089174532, 0.013965675194522544, 0.6703524093370822, 0.11172540155618035, 0.1815537775287931, 0.11147283675102315, 0.8360462756326736, 0.9805883876203482, 0.9967203838311034, 0.9695865663081544, 0.00912812504219115, 0.10953750050629381, 0.8671718790081594, 0.05279704874819485, 0.014399195113144051, 0.7079604263962491, 0.023998658521906753, 0.00479973170438135, 0.13199262187048713, 0.06239651215695755, 0.04173482132028675, 0.10433705330071687, 0.8346964264057349, 0.06536883948947707, 0.1081966998446517, 0.4327867993786068, 0.03155737078802341, 0.31557370788023414, 0.042827860355174635, 0.9916915074822217, 0.8618470122701978, 0.00029555796031213916, 0.00354669552374567, 0.0029555796031213916, 0.03458028135652028, 0.09605633710144522, 0.5048187384884026, 0.029264854405124795, 0.0036581068006405993, 0.04023917480704659, 0.13169184482306157, 0.27069990324740434, 0.014632427202562397, 0.9087982254826635, 0.9848954355551266, 0.9218239448250952, 0.1473178122598985, 0.024552968709983088, 0.1424072185179019, 0.6727513426535365, 0.009821187483993235, 0.4943210619716378, 0.33984573010550095, 0.16219909845944364, 0.11086561769553, 0.11086561769553, 0.47302663550092794, 0.243904358930166, 0.05912832943761599, 0.006358169711098627, 0.8456365715761174, 0.04450718797769039, 0.10173071537757804, 0.19806051300381464, 0.6246523871658769, 0.1675896648493816, 0.9276939843391375, 0.025401284438793897, 0.0076203853316381695, 0.23623194528078326, 0.01016051377551756, 0.0076203853316381695, 0.5562881292095864, 0.149867578188884, 0.8613295555881659, 0.10962376162031202, 0.015660537374330288, 0.8871402290294441, 0.10645682748353329, 0.04925085265476112, 0.01231271316369028, 0.3724595732016309, 0.19084705403719932, 0.00923453487276771, 0.1631434494188962, 0.19700341061904447, 0.335833317935918, 0.2238888786239453, 0.09595237655311942, 0.07996031379426619, 0.25587300414165176, 0.4564442177532353, 0.12448478665997327, 0.3734543599799198, 0.9165582841843528, 0.2744980474781385, 0.012767351045494812, 0.580914472570014, 0.12767351045494812, 0.06792159074102455, 0.7539296572253725, 0.1222588633338442, 0.05433727259281964, 0.18135584864070492, 0.7254233945628197, 0.9202785563615856, 0.008216772824657013, 0.0575174097725991, 0.007839939015517947, 0.023519817046553843, 0.09094329258000819, 0.763610060111448, 0.02665579265276102, 0.017247865834139484, 0.012543902424828716, 0.021951829243450252, 0.007839939015517947, 0.018815853637243075, 0.007839939015517947, 0.044547539538699825, 0.38379418679495236, 0.020560402864015306, 0.11650894956275339, 0.02741387048535374, 0.047974273349369045, 0.06853467621338434, 0.023987136674684523, 0.2570050358001913, 0.8386842379599506, 0.15725329461749074, 0.04480645609219488, 0.0560080701152436, 0.050407263103719235, 0.19042743839182824, 0.12321775425353591, 0.5320766660948142, 0.7110988453281449, 0.24444022808154983, 0.02222183891650453, 0.986741037672574, 0.007598120106963423, 0.12726851179163734, 0.02849295040111284, 0.0645840209091891, 0.45968626647128713, 0.03989013056155798, 0.26973326379720153, 0.0374178621377427, 0.10289912087879242, 0.056126793206614047, 0.15902591408540648, 0.6267491908071903, 0.9946550306525475, 0.7327726981629613, 0.24861930830529044, 0.017992186785251284, 0.017998165854397997, 0.5939394731951338, 0.013498624390798497, 0.3734619414787584, 0.01782944504467088, 0.05348833513401264, 0.007641190733430377, 0.10188254311240504, 0.1859356411801392, 0.18084151402451892, 0.4508302532723923, 0.6376095383492763, 0.04857977435042105, 0.3096960614839342, 0.9752284936004914, 0.9786663770780896, 0.7701671107454132, 0.08557412341615703, 0.11409883122154271, 0.03467677593697538, 0.0219011216444055, 0.0073003738814685, 0.005475280411101375, 0.029201495525874, 0.056577897581380876, 0.4270718720659073, 0.41612131124370455, 0.00249130980561951, 0.05231750591800971, 0.03986095688991216, 0.017439168639336568, 0.12954810989221452, 0.0498261961123902, 0.23418312172823394, 0.381170400259785, 0.09217846280792187, 0.002543356445942516, 0.016955709639616776, 0.06188834018460123, 0.049171557954888645, 0.011021211265750903, 0.1593836706123977, 0.06697505307648627, 0.4010025329769367, 0.18396944958984202, 0.045780416026965295, 0.026120049479499457, 0.026120049479499457, 0.35262066797324265, 0.33303063086361806, 0.15672029687699673, 0.03265006184937432, 0.06530012369874864, 0.027501758268906853, 0.03437719783613356, 0.7562983523949384, 0.09797501383298066, 0.04726864702468365, 0.0034377197836133566, 0.02836118821481019, 0.004297149729516695, 0.9903699598948159, 0.4011746078754841, 0.020468092238545108, 0.05321703982021728, 0.04912342137250826, 0.10234046119272554, 0.08596598740188945, 0.192400067042324, 0.004093618447709021, 0.08596598740188945, 0.23054353961750243, 0.21698215493411993, 0.02712276936676499, 0.018081846244509994, 0.07684784653916747, 0.07684784653916747, 0.013561384683382496, 0.07684784653916747, 0.13109338527269745, 0.03164323092789249, 0.02712276936676499, 0.07232738497803998, 0.004387202545297367, 0.008774405090594734, 0.7545988377911472, 0.04825922799827104, 0.1754881018118947, 0.17585043981363674, 0.07536447420584431, 0.03768223710292216, 0.20097193121558485, 0.4898690823379881, 0.9087203059750233, 0.8619028378105649, 0.1316796002210585, 0.9991111441051908, 0.1605366417403476, 0.7491709947882887, 0.0016931295920706423, 0.032733838780032415, 0.0033862591841412847, 0.0022575061227608564, 0.0005643765306902141, 0.08014146735801041, 0.6004966286543878, 0.004515012245521713, 0.14504476838738503, 0.0028218826534510705, 0.024268190819679205, 0.09312212756388533, 0.008465647960353212, 0.17124072044727692, 0.6918125106069988, 0.13014294753993047, 0.6419079848416722, 0.1750658140477288, 0.1556140569313145, 0.5624943924922208, 0.41826506108395906, 0.5869563974108556, 0.335403655663346, 0.011174444398005067, 0.004966419732446697, 0.031040123327791855, 0.3526158010037155, 0.022348888796010134, 0.042214567725796924, 0.1055364193144923, 0.18127432023430443, 0.24832098662233484, 0.5159604797679005, 0.47204894957488774, 0.9963248262529932, 0.6260335405562181, 0.3538450446622102, 0.9359343687693784, 0.39402210172562485, 0.5516309424158747, 0.9932877465079878, 0.7942617772872262, 0.17934943358098657, 0.013857120863268407, 0.004948971736881574, 0.005938766084257889, 0.0014846915210644722, 0.0004948971736881574, 0.0009897943473763148, 0.5236012097620706, 0.030188727594977604, 0.0019795886947526296, 0.0029693830421289443, 0.03068362476866576, 0.03464280215817102, 0.023755064337031555, 0.09353556582706175, 0.21775475642278927, 0.012867326515892093, 0.06095150619785611, 0.9295104695173056, 0.44461623192063365, 0.18525676330026403, 0.1296797343101848, 0.22230811596031683, 0.996679751189451, 0.009369164895485858, 0.28107494686457574, 0.6933182022659535, 0.9900851923238914, 0.9922932662150826, 0.05459179192029414, 0.008286254130758931, 0.004874267135740548, 0.016572508261517863, 0.755998832753359, 0.002437133567870274, 0.059466059056034686, 0.002924560281444329, 0.002924560281444329, 0.0019497068542962193, 0.051179804925275754, 0.03850671037235033, 0.021206119864987497, 0.263751115820782, 0.005301529966246874, 0.07952294949370312, 0.1630220464620914, 0.02783303232279609, 0.01855535488186406, 0.1073559818164992, 0.038436092255289836, 0.05566606464559218, 0.038436092255289836, 0.02783303232279609, 0.09145139191775858, 0.05964221212027734, 0.0986621460304565, 0.6659694857055815, 0.22198982856852714, 0.6234102049542808, 0.07693568736988741, 0.000330196083132564, 0.002971764748193076, 0.00165098041566282, 0.004292549080723332, 0.004292549080723332, 0.28462902366027015, 0.000660392166265128, 0.000330196083132564, 0.10312327903583313, 0.8593606586319428, 0.9749954887521665, 0.019117558602983656, 0.9740543438054401, 0.9267866022745195, 0.015395710928538689, 0.13240311398543272, 0.5542455934273928, 0.021553995299954165, 0.2709645123422809, 0.021711919362635338, 0.12303420972160026, 0.09046633067764724, 0.2858736049413653, 0.0361865322710589, 0.05066114517948246, 0.0361865322710589, 0.3510093630292713, 0.9977073018493958, 0.9858206004680526, 0.06325676851088076, 0.004518340607920055, 0.06325676851088076, 0.06325676851088076, 0.03614672486336044, 0.7635995627384892, 0.030283836234990473, 0.0025236530195825394, 0.6675062236795817, 0.04037844831332063, 0.041640274823111896, 0.09716064125392776, 0.03406931576436428, 0.055520366430815864, 0.030283836234990473, 0.8852752371353676, 0.10293898106225205, 0.04751848296300351, 0.5311887559792893, 0.06618645841275489, 0.21722735068801605, 0.013576709418001003, 0.12049329608475891, 0.0016970886772501254, 0.9294483535572683, 0.059964409906920535, 0.9930186676490363, 0.9779028221840195, 0.9616206818637371, 0.017484012397522494, 0.07972716925149483, 0.015431065016418354, 0.04886503921865812, 0.3009057678201579, 0.174885403519408, 0.061724260065673414, 0.20317568938284164, 0.11830483179254071, 0.9933103571506249, 0.014212731872563653, 0.6456641050678916, 0.008798357825872738, 0.04872936642021824, 0.014212731872563653, 0.014889528628400017, 0.0054143740466909155, 0.0020303902675090934, 0.017596715651745476, 0.009475154581709102, 0.1367129446789456, 0.011505544849218195, 0.025041479965945482, 0.045345382641036415, 0.9965628696499234, 0.05991204513098438, 0.44934033848238286, 0.0074890056413730475, 0.23215917488256446, 0.04493403384823828, 0.20220315231707228, 0.3259241762554282, 0.06861561605377435, 0.4631554083629769, 0.1372312321075487, 0.19131695100300666, 0.49742407260781735, 0.3061071216048107, 0.1403265421496662, 0.3316809178083019, 0.1913543756586357, 0.3316809178083019, 0.6301938154291735, 0.07002153504768595, 0.1655054464763486, 0.006365594095244177, 0.12094628780963937, 0.23717033436863738, 0.0043785292498825365, 0.005108284124862959, 0.2649010196178934, 0.3510120948655833, 0.13573440674635862, 0.6438950652720701, 0.2926795751236682, 0.0036250327493342126, 0.9932589733175743, 0.9967642740120374, 0.02648071934586687, 0.0006458712035577285, 0.009688068053365927, 0.017438522496058668, 0.7517940809411959, 0.0006458712035577285, 0.09623480933010155, 0.08460912766606243, 0.011625681664039112, 0.12978077704509922, 0.09517256983307275, 0.40664643474131085, 0.07210043169172178, 0.06344837988871517, 0.03749222447969532, 0.05191231081803968, 0.09228855256540387, 0.04902829355037081, 0.03532914905966881, 0.6712538321337074, 0.28263319247735047, 0.019101522889564883, 0.07640609155825953, 0.08786700529199847, 0.7334984789592915, 0.08022639613617251, 0.9930763279969452, 0.35822488484404835, 0.3980276498267204, 0.21891520740469622, 0.9940789295596224, 0.9858259897030317, 0.9820305163004646, 0.18890029961629595, 0.8028262733692578, 0.05970768526877186, 0.9382636256521293, 0.07639209324218803, 0.14187103030692064, 0.7748340885993358, 0.924222458305946, 0.9974107861917946, 0.02710116119728193, 0.08130348359184579, 0.17615754778233253, 0.17615754778233253, 0.5284726433469976, 0.13970873611102244, 0.8546887385615491, 0.0041090804738536015, 0.03785667862326966, 0.025237785748846442, 0.8454658225863558, 0.0063094464372116105, 0.06940391080932772, 0.7584331336783396, 0.10461146671425374, 0.026152866678563435, 0.09153503337497203, 0.9796807586040355, 0.19741021849443843, 0.79927064073358, 0.03552397574432733, 0.008880993936081832, 0.011418420774962355, 0.010149707355522094, 0.11672163458850407, 0.03171783548600654, 0.010149707355522094, 0.3933011600264811, 0.00761228051664157, 0.3704643184765564, 0.003806140258320785, 0.5711875447862753, 0.4031912080844296, 0.07792016009175386, 0.8571217610092924, 0.03896008004587693, 0.06724291178865166, 0.05043218384148875, 0.025216091920744376, 0.12608045960372188, 0.09245900370939604, 0.16810727947162918, 0.03362145589432583, 0.31099846702251394, 0.08405363973581459, 0.03362145589432583, 0.931451625331325, 0.03326612947611875, 0.9200970987562933, 0.940305836307187, 0.9927980358267667, 0.10297561753658643, 0.061785370521951856, 0.49428296417561485, 0.3089268526097593, 0.06839119669124268, 0.005329184157759169, 0.15276994585576287, 0.7727317028750795, 0.01762395358502698, 0.5375305843433229, 0.09693174471764839, 0.0396538955663107, 0.013217965188770235, 0.01762395358502698, 0.0881197679251349, 0.1850515126427833, 0.9425291947929939, 0.02496766078921838, 0.031209575986522978, 0.028963674585924568, 0.9697038251367545, 0.3339075376000525, 0.570425376733423, 0.06956407033334426, 0.8886025800455929, 0.005963775705003979, 0.005963775705003979, 0.08349285987005571, 0.011927551410007958, 0.9222936696727924, 0.029022532069406158, 0.058045064138812316, 0.8996984941515909, 0.8013067042898561, 0.18854275395055436, 0.23150025981743635, 0.021045478165221485, 0.736591735782752, 0.2703848587443466, 0.1351924293721733, 0.012875469464016505, 0.1223169599081568, 0.09012828624811553, 0.23819618508430535, 0.1223169599081568, 0.5995253514589908, 0.17985760543769724, 0.11990507029179816, 0.9813234266703068, 0.6783999373690939, 0.29074283030104026, 0.19061530391898585, 0.7797898796685784, 0.017328663992635076, 0.08210293202311747, 0.06068477584317378, 0.016063617134957766, 0.007139385393314562, 0.7210779247247708, 0.03569692696657281, 0.07674839297813155, 0.6584503677364703, 0.33935518952571925, 0.09164212385062302, 0.8706001765809187, 0.981805854261277, 0.867284393582836, 0.018358194584431064, 0.022029833501317275, 0.05140294483640698, 0.19092522367808304, 0.09913425075592774, 0.10647752858970017, 0.03671638916886213, 0.4736414202783214, 0.19331843774489382, 0.7732737509795753, 0.9917809317432478, 0.31013520518871474, 0.6202704103774295, 0.9807674971832431, 0.9907217490190366, 0.9066638043317483, 0.04029616908141104, 0.04029616908141104, 0.7240778110897708, 0.09527339619602247, 0.17149211315284044, 0.980450538207755, 0.3872991129096672, 0.5577107225899207, 0.030983929032773375, 0.7287687968128513, 0.07007392277046648, 0.08408870732455978, 0.09810349187865307, 0.6988374974415796, 0.049916964102969974, 0.14975089230890992, 0.07487544615445496, 0.9716632844489033, 0.3598456560155717, 0.10022226493802396, 0.0076359820905161115, 0.015271964181032223, 0.2863493283943542, 0.023862444032862848, 0.1937630455468463, 0.01240847089708868, 0.9077286418132372, 0.9464094380262317, 0.9233665398350083, 0.6703436253491946, 0.2578244712881518, 0.28874103686317887, 0.5774820737263577, 0.5008080557356323, 0.48689672085408686, 0.410335095536408, 0.564210756362561, 0.08191247868207217, 0.4973257634268668, 0.4095623934103609, 0.9900544020565156, 0.6446694552837589, 0.3223347276418794, 0.4131369754908267, 0.5164212193635334, 0.9399609246386029, 0.8260593051184821, 0.13767655085308037, 0.021595723185579743, 0.29154226300532654, 0.253749747430562, 0.42651553291519995, 0.5051251494388797, 0.056125016604319955, 0.22450006641727982, 0.028062508302159977, 0.1403125415107999, 0.9862295836630605, 0.4448143206708138, 0.16521674767773084, 0.3812694177178404, 0.9846942175108204, 0.7906928995156366, 0.1694341927533507, 0.9880666297460843, 0.046364575143357546, 0.6491040520070056, 0.28977859464598466, 0.9716706816905994, 0.9901269557173612, 0.6102352665974535, 0.3661411599584721, 0.2925993896230971, 0.05455242857379777, 0.00991862337705414, 0.02975587013116242, 0.12398279221317675, 0.22316902598371816, 0.16365728572139332, 0.0991862337705414, 0.9425153001127834, 0.09620191937461779, 0.02886057581238534, 0.7696153549969423, 0.10582211131207957, 0.9978275483813289, 0.02794071502887175, 0.013970357514435875, 0.447051440461948, 0.4889625130052556, 0.9933958054964284, 0.7901220448338022, 0.008405553668444704, 0.1933277343742282, 0.988799429094841, 0.9929370743914354, 0.41334957441468284, 0.2740182571962504, 0.13004256273720358, 0.18113071238396214, 0.03926742394027608, 0.11478170074849932, 0.05437027930192073, 0.018123426433973577, 0.015102855361644647, 0.20841940399069614, 0.5467233640915362, 0.7481167179347489, 0.03463503323771985, 0.2147372060738631, 0.053701652053392, 0.029291810210941092, 0.912928084907664, 0.9839748956445109, 0.0124392657137484, 0.00995141257099872, 0.2015161045627241, 0.0373177971412452, 0.23385819541846994, 0.022390678284747122, 0.0124392657137484, 0.22888248913297057, 0.24132175484671897, 0.012740873314197572, 0.007963045821373483, 0.022296528299845752, 0.19589092720578766, 0.29622530455509355, 0.03822261994259272, 0.00955565498564818, 0.01911130997129636, 0.39655968190439944, 0.9904439645928014, 0.9962981048303565, 0.4070766400757726, 0.5621534553427336, 0.5880984533475111, 0.07588367139967885, 0.309858324882022, 0.025294557133226283, 0.03238150520967719, 0.008994862558243664, 0.046773285302867056, 0.01978869762813606, 0.1852941686998195, 0.026984587674730994, 0.1691034160949809, 0.014391780093189864, 0.03597945023297466, 0.14931471846684483, 0.06116506539605692, 0.04317534027956959, 0.07555684548924678, 0.12772704832706003, 0.010879886559182778, 0.4460753489264939, 0.15957166953468074, 0.003626628853060926, 0.03263965967754833, 0.13418526756325427, 0.2103444734775337, 0.08683777368479789, 0.5210266421087874, 0.34735109473919157, 0.7139723440812772, 0.15185232691280895, 0.09857080869778827, 0.03196891092901241, 0.21088716197580576, 0.7263891134722199, 0.046863813772401286, 0.8341566317095472, 0.14895654137670486, 0.11872258695490942, 0.09186866847701325, 0.007066820652077942, 0.7575631739027554, 0.022613826086649413, 0.9887420897748138, 0.8448272081412197, 0.02816090693804066, 0.12203059673150951, 0.007741664174342586, 0.17805827600987947, 0.10064163426645362, 0.7044914398651754, 0.6032824412887613, 0.3519147574184441, 0.9736452182282114, 0.9906488930146049, 0.0033959651684766353, 0.06112737303257944, 0.1052749202227757, 0.04075158202171962, 0.023771756179336447, 0.006791930336953271, 0.18677808426621495, 0.016979825842383178, 0.006791930336953271, 0.1052749202227757, 0.07810719887496262, 0.26488528314117754, 0.023771756179336447, 0.07471123370648598, 0.012661961172039451, 0.645760019774012, 0.21525333992467066, 0.04431686410213808, 0.07597176703223671, 0.9805273472366614, 0.9962782791015772, 0.3142683747476554, 0.03142683747476554, 0.102137221792988, 0.4242623059093348, 0.01571341873738277, 0.102137221792988, 0.8963173508082073, 0.02376599036233883, 0.0746931125673506, 0.9977242159333847, 0.07802380628889292, 0.015604761257778585, 0.42913093458891105, 0.2028618963511216, 0.03120952251555717, 0.2262690382377895, 0.07226985456477987, 0.9214406457009433, 0.9918839749620142, 0.5328510726755274, 0.009124162203348073, 0.010948994644017686, 0.007299329762678458, 0.2864986931851295, 0.007299329762678458, 0.14416176281289955, 0.9701456484907393, 0.8290733962920654, 0.051177370141485524, 0.11259021431126814, 0.9361402880494876, 0.7386769816524585, 0.03814763755012696, 0.02947771992509811, 0.01560585172505194, 0.03988162107513274, 0.02947771992509811, 0.08669917625028856, 0.020807802300069254, 0.050826927106185374, 0.019548818117763603, 0.023458581741316323, 0.07037574522394897, 0.003909763623552721, 0.015639054494210883, 0.0938343269652653, 0.21503699929539966, 0.003909763623552721, 0.12511243595368707, 0.04691716348263265, 0.16030030856566155, 0.168119835812767, 0.9698469645882174, 0.06587086248713617, 0.06587086248713617, 0.0823385781089202, 0.5928377623842255, 0.14820944059605637, 0.038424669784162764, 0.8239908374737416, 0.021236877254477874, 0.1529055162322407, 0.9788793656165605, 0.2899754773642413, 0.054370402005795244, 0.19935814068791588, 0.19935814068791588, 0.23560507535844605, 0.9841982173935603, 0.02853311354831761, 0.5332125594341853, 0.24253146516069968, 0.012483237177388954, 0.02853311354831761, 0.10343253661265134, 0.04279967032247642, 0.008916597983849254, 0.09717358140756016, 0.34010753492646056, 0.15964231231242026, 0.39563529573078066, 0.055020108221453576, 0.641901262583625, 0.29344057718108574, 0.043910058991067535, 0.01197547063392751, 0.2594685304017627, 0.03592641190178253, 0.3393050012946128, 0.031934588357140026, 0.019959117723212516, 0.05987735316963755, 0.19160753014284015, 0.9771148404811081, 0.7190567231289787, 0.14381134462579576, 0.12326686682211065, 0.7774120940638654, 0.20062247588744914, 0.3374453012632022, 0.6373966801638263, 0.01874696118128901, 0.14555123868507056, 0.031393404422270114, 0.259709072947871, 0.14555123868507056, 0.256855127091301, 0.15696702211135058, 0.9120951278919386, 0.0749667228404333, 0.2354122544472686, 0.12241437231257968, 0.1318308624904704, 0.5084904696061002, 0.032808316447684525, 0.007845466976620212, 0.00285289708240735, 0.0035661213530091876, 0.0007132242706018375, 0.007845466976620212, 0.0035661213530091876, 0.016404158223842263, 0.004279345623611025, 0.41509652549026943, 0.09628527653124806, 0.12196135027291422, 0.007132242706018375, 0.0171173824944441, 0.00285289708240735, 0.029955419365277174, 0.2111143840981439, 0.0021396728118055126, 0.015690933953240425, 0.99549967172773, 0.09630090561344813, 0.048150452806724066, 0.01699427746119673, 0.12745708095897545, 0.47017500975977616, 0.031156175345527337, 0.014161897884330607, 0.1302894605358416, 0.059479971114188554, 0.9855706883835124, 0.01831442596992349, 0.009157212984961745, 0.2663916504716144, 0.030801534585780416, 0.029136586770332824, 0.009157212984961745, 0.06909533434107498, 0.027471638954885236, 0.00166494781544759, 0.01831442596992349, 0.01165463470813313, 0.007492265169514155, 0.005827317354066565, 0.017481952062199695, 0.25640196357892886, 0.00332989563089518, 0.14235303822076895, 0.07658759951058915, 0.1041232458302051, 0.8850475895567433, 0.15045846533892157, 0.01583773319357069, 0.07918866596785346, 0.09502639916142415, 0.20589053151641898, 0.0871075325646388, 0.36426786345212586, 0.06768607776365672, 0.9024810368487564, 0.4434475667031663, 0.4927195185590737, 0.16181680545069624, 0.48545041635208874, 0.18736682736396407, 0.15330013147960697, 0.25321007153492553, 0.6294078921011006, 0.10851860208639666, 0.054712051717688136, 0.9301048792006983, 0.9800882307195609, 0.7575467480195213, 0.16085838388073317, 0.03712116551093843, 0.041245739456598256, 0.75595677525018, 0.09123616253019413, 0.14337111254744792, 0.03749252139782961, 0.5381279541806132, 0.028670751657163818, 0.013232654610998686, 0.0044108848703328955, 0.14114831585065266, 0.2183388010814783, 0.017643539481331582, 0.03298582387426616, 0.00412322798428327, 0.01841708499646527, 0.043706216633402656, 0.0027488186561888464, 0.0178673212652275, 0.01841708499646527, 0.020066376190178578, 0.003848346118664385, 0.020066376190178578, 0.007146928506091001, 0.01539338447465754, 0.0013744093280944232, 0.007421810371709885, 0.005497637312377693, 0.00027488186561888466, 0.01127015649037427, 0.00027488186561888466, 0.7047971034468202, 0.021715667383891888, 0.000824645596856654, 0.041232279842832696, 0.0920148228207352, 0.901745263643205, 0.9808644648177133, 0.04468928917932506, 0.0006384184168475009, 0.09959327302821014, 0.8484580759903286, 0.0051073473347800075, 0.0006384184168475009, 0.12089490329236845, 0.19782802356933019, 0.6044745164618422, 0.06594267452311006, 0.9988807540299558, 0.9923800889964961, 0.3567050683893238, 0.022294066774332738, 0.044588133548665476, 0.5573516693583185, 0.49498073186978253, 0.09624625341912438, 0.061872591483722816, 0.061872591483722816, 0.2749892954832125, 0.9772507381306493, 0.14240033924262552, 0.7832018658344403, 0.5552204373336218, 0.03084557985186788, 0.12338231940747152, 0.2776102186668109, 0.9806483997132411, 0.10741836634523727, 0.005370918317261864, 0.061765560648511436, 0.590801014898805, 0.08593469307618982, 0.13695841709017753, 0.008056377475892796, 0.98638466494601, 0.009362129042509309, 0.3089502584028072, 0.2246910970202234, 0.4493821940404468, 0.013364084843274374, 0.35701198081318686, 0.0076366199104425, 0.017182394798495624, 0.0992760588357525, 0.021000704753716876, 0.015273239820885, 0.03245563461938062, 0.19473380771628374, 0.07827535408203562, 0.16227817309690312, 0.8243966741059191, 0.14839140133906545, 0.0005793422298173861, 0.004055395608721702, 0.020856320273425898, 0.6065713146188032, 0.009848817906895563, 0.0005793422298173861, 0.0249117158821476, 0.0028967111490869305, 0.031863822639956234, 0.05793422298173861, 0.016800924664704196, 0.15989845542959855, 0.010428160136712949, 0.05272014291338213, 0.009702524196858141, 0.03395883468900349, 0.4875518408921216, 0.25711689121674075, 0.0024256310492145354, 0.11885592141151223, 0.08732271777172328, 0.013369515030813095, 0.017826020041084127, 0.00371375417522586, 0.00371375417522586, 0.002971003340180688, 0.012626764195767925, 0.7048705424578682, 0.1455791636688537, 0.0928438543806465, 0.5628320819048196, 0.2814160409524098, 0.1507585933673624, 0.031887637337008765, 0.031887637337008765, 0.0797190933425219, 0.0797190933425219, 0.6218089280716709, 0.12755054934803506, 0.03299052971114101, 0.3431015089958665, 0.12536401290233584, 0.05278484753782562, 0.03958863565336921, 0.40248446247592035, 0.9787569974090972, 0.9354183561086312, 0.05703660434790224, 0.07777718774713942, 0.8641909749682157, 0.16452911795597383, 0.7678025504612113, 0.005898751644924458, 0.7373439556155573, 0.0022687506326632533, 0.0054450015183918074, 0.05082001417165687, 0.05263501467778747, 0.0054450015183918074, 0.00726000202452241, 0.0018150005061306025, 0.0009075002530653012, 0.023595006579697833, 0.008621252404120362, 0.039022510881807956, 0.006352501771457109, 0.05082001417165687, 0.4056204550533234, 0.5858962128548004, 0.5743006892460768, 0.3948317238566778, 0.006237480425873768, 0.03742488255524261, 0.05613732383286391, 0.17464945192446552, 0.040543622768179494, 0.16529323128565485, 0.24014299639614006, 0.04989984340699014, 0.23078677575732942, 0.16765117331236284, 0.5113360786027067, 0.20956396664045354, 0.07544302799056328, 0.03353023466247257, 0.9955486735407149, 0.025553477139517628, 0.017035651426345083, 0.009937463332034633, 0.024133839520655537, 0.014196376188620904, 0.014196376188620904, 0.052526591897897344, 0.8418451079852196, 0.9837826705165802, 0.17276393147621988, 0.044298443968261506, 0.7796526138414025, 0.8299920724847086, 0.014821287008655511, 0.1333915830778996, 0.11333456090574154, 0.47440041865854643, 0.016047371455680217, 0.054159878662920734, 0.003008882147940041, 0.01103256787578015, 0.07121021083458097, 0.2557549825749035, 0.03517103881152619, 0.009847890867227331, 0.019695781734454663, 0.00562736620984419, 0.01125473241968838, 0.002813683104922095, 0.0042205246573831425, 0.11254732419688379, 0.29825040912174205, 0.20821254976423503, 0.012661573972149428, 0.009847890867227331, 0.040798405021370374, 0.15193888766579314, 0.07596944383289657, 0.002813683104922095, 0.1617429610513784, 0.0606536103942669, 0.2223965714456453, 0.1819608311828007, 0.34370379223417913, 0.46280082226499997, 0.1820855694157377, 0.16691177196442622, 0.11759693024766392, 0.041727942991106555, 0.026554145539795078, 0.9897135239740754, 0.0009778277614229211, 0.00016297129357048686, 0.9740794216708, 0.00016297129357048686, 0.02208261027880097, 0.00016297129357048686, 0.0022001124632015727, 0.003109804863713293, 0.07463531672911904, 0.027988243773419637, 0.27988243773419635, 0.541106046286113, 0.07152551186540575, 0.7090706483706636, 0.2836282593482654, 0.9862404706294036, 0.012353742847132403, 0.9885220677785612, 0.1443934459476988, 0.8532339987818565, 0.9855203149405143, 0.014429287188001674, 0.006643185772452837, 0.04151991107783023, 0.49159574716150994, 0.004982389329339628, 0.0531454861796227, 0.28067459888613233, 0.07805743282632083, 0.04151991107783023, 0.3477740648574747, 0.06955481297149493, 0.521661097286212, 0.5129666315868721, 0.4488458026385131, 0.5793943259487765, 0.08845714899981322, 0.11057143624976651, 0.035382859599925286, 0.07961143409983189, 0.10614857879977585, 0.029910569051571734, 0.05234349584025053, 0.7851524376037581, 0.029910569051571734, 0.0897317071547152, 0.9442682736454063, 0.011109038513475368, 0.022218077026950736, 0.12405040777378042, 0.0785652582567276, 0.4548514951705282, 0.08270027184918695, 0.23983078836264216, 0.01654005436983739, 0.9931264280580178, 0.055371056653612465, 0.009546733905795253, 0.007637387124636202, 0.011456080686954303, 0.019093467811590506, 0.08019256480868012, 0.8152910755549145, 0.9970213513446737, 0.9652999393735485, 0.014044884334455023, 0.9690970190773966, 0.4453402878313312, 0.04241336074584107, 0.49835698876363255, 0.014483492546088605, 0.02896698509217721, 0.2317358807374177, 0.6372736720278986, 0.07241746273044303, 0.014710893333379268, 0.015936801111160873, 0.014710893333379268, 0.0220663400000689, 0.007355446666689634, 0.009807262222252845, 0.031873602222321745, 0.21453386111178097, 0.012259077777816057, 0.06987674333355152, 0.11155760777812611, 0.133623947778195, 0.015936801111160873, 0.32241374555656227, 0.9680046126303802, 0.02016676276313292, 0.7236055218632834, 0.2713520706987313, 0.4324637221969827, 0.02883091481313218, 0.4901255518232471, 0.01438306236126995, 0.0015027080078938754, 0.0038641063060128223, 0.00042934514511253584, 0.00042934514511253584, 0.0064401771766880375, 0.004293451451125359, 0.00021467257255626792, 0.004508124023681627, 0.004078778878569091, 0.05409748828417951, 0.00042934514511253584, 0.007298867466913109, 0.018032496094726506, 0.7942885184581913, 0.0012880354353376074, 0.08179025014393808, 0.0021467257255626793, 0.9225268674113501, 0.9850805516145531, 0.9828530922697373, 0.9440710881128491, 0.9639066062854349, 0.9916532194587997, 0.974174205072154, 0.2769976217121272, 0.5144241546082362, 0.026380725877345447, 0.14509399232539996, 0.013190362938672723, 0.09555291319387563, 0.9034093611057332, 0.9847039078447715, 0.20635917507584398, 0.7867443549766552, 0.9740692638440656, 0.21549707330879161, 0.02085455548149596, 0.10427277740747981, 0.6464912199263748, 0.9638383836114177, 0.8998729829017078, 0.08436309214703511, 0.998248564680013, 0.986772697320531, 0.9456951877029861, 0.04650959939522883, 0.12487708156411152, 0.014408894026628252, 0.024014823377713754, 0.07204447013314126, 0.7588684187357546, 0.1955636083353949, 0.2933454125030924, 0.3911272166707898, 0.09778180416769745, 0.4168532370563249, 0.5669204023966018, 0.9807323290504385, 0.025751158738452757, 0.01872811544614746, 0.004682028861536865, 0.030433187599989624, 0.4260646263998547, 0.05852536076921081, 0.025751158738452757, 0.03745623089229492, 0.007023043292305298, 0.03511521646152649, 0.007023043292305298, 0.004682028861536865, 0.03745623089229492, 0.02809217316922119, 0.023410144307684327, 0.2294194142153064, 0.23959065144800726, 0.7453931378382448, 0.9868260902239822, 0.07826902202352767, 0.9000937532705682, 0.7923794840448137, 0.08644139825943423, 0.11525519767924564, 0.035233330459969556, 0.026424997844977163, 0.5813499525894976, 0.34352497198470316, 0.7497916558515082, 0.24166838494387452, 0.4742456057022293, 0.20429041476403723, 0.3155557299480218, 0.003648043120786379, 0.9942719575222843, 0.18799919540099072, 0.07519967816039629, 0.37599839080198144, 0.3383985517217833, 0.9885193701487596, 0.3022317779042863, 0.2789831796039566, 0.06974579490098914, 0.06974579490098914, 0.0325480376204616, 0.24643514198349498, 0.07654446984658737, 0.08350305801445895, 0.35488799656145054, 0.1391717633574316, 0.25050917404337686, 0.09046164618233053, 0.29871936314852693, 0.04595682509977338, 0.2527625380487536, 0.29871936314852693, 0.06893523764966007, 0.05399045853564942, 0.14397455609506513, 0.773863239010975, 0.14436874255030013, 0.05830276141454429, 0.05275011747030198, 0.005552643944242313, 0.05275011747030198, 0.20822414790908675, 0.1027239129684828, 0.13603977663393668, 0.02498689774909041, 0.2110004698812079, 0.6525031158522098, 0.06635624906971625, 0.07741562391466897, 0.19906874720914877, 0.28373882297021796, 0.6295455134651712, 0.07980154396037381, 0.996347617330891, 0.913260197686045, 0.07338698017120004, 0.013702908669434171, 0.09135272446289447, 0.8815537910669317, 0.004567636223144724, 0.008975689671426187, 0.9783501741854543, 0.021214531643211427, 0.22275258225372, 0.6735613796719628, 0.07955449366204285, 0.025871572571518887, 0.004565571630268039, 0.0207987152045544, 0.0025364286834822438, 0.0035510001568751413, 0.01217485768071477, 0.002029142946785795, 0.007609286050446732, 0.011160286207321873, 0.004565571630268039, 0.011160286207321873, 0.014711286364197013, 0.02029142946785795, 0.0010145714733928975, 0.017247715047679257, 0.5955534548816308, 0.15675129263920268, 0.03297357288526917, 0.03906100172562656, 0.015218572100893463, 0.10284273404221826, 0.02127780704321757, 0.08511122817287028, 0.12057423991156624, 0.12057423991156624, 0.010638903521608786, 0.04255561408643514, 0.4964821643417433, 0.5804834963328527, 0.40381460614459314, 0.988939707821459, 0.9951186931581645, 0.9552580242468145, 0.07141142427260681, 0.07141142427260681, 0.11221795242838215, 0.12241958446732597, 0.1632261126231013, 0.27544406505148344, 0.1632261126231013, 0.2502504640000417, 0.03777365494340252, 0.023608534339626574, 0.13220779230190882, 0.11804267169813286, 0.3588497219623239, 0.014165120603775944, 0.05193877554717846, 0.5462605303041744, 0.018836570010488773, 0.31080340517306476, 0.11301942006293264, 0.9679293969821309, 0.9312772062880723, 0.05271380412951353, 0.03643850955176504, 0.04204443409819043, 0.03643850955176504, 0.02802962273212695, 0.0560592454642539, 0.02242369818570156, 0.002802962273212695, 0.2830991895944822, 0.4877154355390089, 0.9687794970418879, 0.01364040535269198, 0.006600196138399345, 0.1315639096920936, 0.0127603792009054, 0.8342647918936772, 0.9898898332105164, 0.9937839844899492, 0.0909103861312785, 0.181820772262557, 0.10606211715315825, 0.2575794273719557, 0.1515173102187975, 0.181820772262557, 0.8013308652962028, 0.07817862100450759, 0.10749560388119793, 0.36567205161484273, 0.014530015295954017, 0.04843338431984672, 0.029060030591908034, 0.4891771816304519, 0.05085505353583906, 0.2780001533123881, 0.6486670243955721, 0.24395833798234695, 0.6830833463505714, 0.9842237412360331, 0.020270316935594106, 0.018918962473221165, 0.0040540633871188215, 0.0013513544623729404, 0.002702708924745881, 0.009459481236610582, 0.15135169978576932, 0.612163571454942, 0.010810835698983523, 0.0013513544623729404, 0.12162190161356463, 0.043243342795934094, 0.0013513544623729404, 0.024246609431641298, 0.022332403423880143, 0.5659669096280482, 0.0044664806847760285, 0.0006380686692537184, 0.12952793985850483, 0.09443416304955031, 0.156326823967161, 0.0025522746770148736, 0.7265662137881894, 0.26711993153977553, 0.9963172614067153, 0.8057322349185826, 0.19033044919336597, 0.8397670164212345, 0.15162460018716734, 0.07180643314089107, 0.7659352868361713, 0.14361286628178213, 0.9972484232036074, 0.0512230435047008, 0.44393304370740694, 0.0512230435047008, 0.4353958697899568, 0.9716076704461664, 0.03952828900189999, 0.04743394680227999, 0.009882072250474997, 0.15613674155750495, 0.0019764144500949996, 0.013834901150664996, 0.3913300611188099, 0.3379668709662449, 0.01058848491102304, 0.00529424245551152, 0.9794348542696312, 0.0314252483040523, 0.005237541384008717, 0.10475082768017434, 0.026187706920043585, 0.22521427951237483, 0.05761295522409589, 0.07332557937612204, 0.4609036417927671, 0.01571262415202615, 0.9812410206985563, 0.9781854307954648, 0.03897509207817744, 0.12609588613527994, 0.772623884137988, 0.05960896435485961, 0.9150709277392577, 0.9683142561707876, 0.30213506305631427, 0.6957057373007236, 0.9094454741535812, 0.031948260081435136, 0.10725487313053222, 0.8603210036215032, 0.974380194744798, 0.6881861221074442, 0.06769043824007648, 0.2369165338402677, 0.9805693474163566, 0.9982084541137246, 0.0931513818097718, 0.07452110544781744, 0.0931513818097718, 0.16767248725758924, 0.2235633163434523, 0.3167146981532241, 0.6565514195263481, 0.31668950824212083, 0.023172403042106403, 0.65773494632421, 0.06469524062205344, 0.10782540103675574, 0.1617381015551336, 0.016023735995264275, 0.9694360277134887, 0.9797970909483035, 0.19568219923571611, 0.12271595545290671, 0.0795995386721557, 0.3117648597992765, 0.006633294889346309, 0.006633294889346309, 0.26533179557385234, 0.006633294889346309, 0.22279895325486468, 0.0050636125739741975, 0.43547068136178096, 0.32913481730832284, 0.3190567672229396, 0.375360902615223, 0.1876804513076115, 0.09384022565380574, 0.21325657990308594, 0.7463980296608008, 0.9738129432921606, 0.05161314266336142, 0.09585297923195693, 0.6894041198606132, 0.15852608103746724, 0.06529237479027956, 0.07784860071148716, 0.005022490368483043, 0.007533735552724565, 0.012556225921207607, 0.3741755324519867, 0.24359078287142757, 0.022601206658173695, 0.01757871628969065, 0.17076467252842345, 0.00021593108960231948, 0.9995450137691368, 0.0022241710785092968, 0.02279775355472029, 0.015013154779937752, 0.0002780213848136621, 0.0008340641544409862, 0.0033362566177639447, 0.008340641544409862, 0.009174705698850849, 0.0066725132355278894, 0.01640326170400606, 0.8093202511925703, 0.0016681283088819724, 0.0027802138481366205, 0.009730748468478172, 0.026412031557297898, 0.010008769853291834, 0.018349411397701697, 0.01890545416732902, 0.017793368628074374, 0.8746241813420004, 0.017849473088612254, 0.08924736544306126, 0.16438216506101946, 0.37218603410042145, 0.015507751420850894, 0.058929455399233395, 0.3597798329637407, 0.02481240227336143, 0.07021432421580864, 0.8425718905897037, 0.6011720604649188, 0.11271976133717228, 0.05635988066858614, 0.2160462092295802, 0.8487304230222243, 0.1212472032888892, 0.6177349730324305, 0.1235469946064861, 0.15443374325810763, 0.06177349730324305, 0.09537949480546076, 0.036684421079023366, 0.08070572637385141, 0.6896671162856394, 0.08804261058965608, 0.9941693346322877, 0.17769528005328397, 0.3090352696578852, 0.17254469222565255, 0.3399387966236737, 0.9721769432943231, 0.10650829337808507, 0.7295818096398827, 0.15976244006712761, 0.9169881258841429, 0.668381665524976, 0.0668381665524976, 0.2005144996574928, 0.1299878826809385, 0.38996364804281547, 0.1624848533511731, 0.032496970670234625, 0.22747879469164237, 0.32766249608427467, 0.122873436031603, 0.006826302001755722, 0.05461041601404577, 0.491493744126412, 0.618634089324223, 0.09767906673540364, 0.2767573557503103, 0.9748864160718658, 0.23140963707919088, 0.7573406304409883, 0.08553276781898025, 0.024437933662565785, 0.28103623711950654, 0.5009776400825986, 0.08553276781898025, 0.9651802428232898, 0.993566987211418, 0.02177058023757016, 0.9143643699779467, 0.054426450593925396, 0.0973049241400442, 0.01883321112387952, 0.006277737041293174, 0.06591623893357833, 0.003138868520646587, 0.00470830278096988, 0.02824981668581928, 0.03609698798743575, 0.03609698798743575, 0.10201322692101407, 0.4818163179192511, 0.117707569524247, 0.07332933851762727, 0.057033929958154546, 0.14665867703525454, 0.7088502723370637, 0.38821634757176654, 0.4852704344647082, 0.9603969326323191, 0.41601349506629426, 0.1141997829593749, 0.08972840089665171, 0.375227858295089, 0.8483055971351429, 0.036882852049354035, 0.09220713012338509, 0.6155359565027934, 0.26380112421548285, 0.021968456206963995, 0.9666120731064157, 0.6460170278212417, 0.32300851391062085, 0.9849552047435921, 0.0228883569010082, 0.0686650707030246, 0.0686650707030246, 0.0343325353515123, 0.4005462457676435, 0.14877431985655332, 0.0915534276040328, 0.114441784505041, 0.0228883569010082, 0.3728730984041666, 0.0022063496946992107, 0.0011031748473496054, 0.029785720878439344, 0.07391271477242356, 0.02316667179434171, 0.0011031748473496054, 0.4622302610394846, 0.01654762271024408, 0.015444447862894475, 0.9291704685727127, 0.034413721058248616, 0.992892758543609, 0.6106925410280465, 0.16963681695223515, 0.20356418034268217, 0.21831244894400792, 0.13098746936640474, 0.3056374285216111, 0.10187914284053702, 0.21831244894400792, 0.09107628506922687, 0.318766997742294, 0.5692267816826679, 0.988476658439586, 0.012616081610383691, 0.164009060934988, 0.037848244831151075, 0.3500962646881474, 0.39740657072708624, 0.03154020402595922, 0.7410704226820791, 0.22643818470841307, 0.9911760257516672, 0.9400881558350256, 0.9913121534490011, 0.10438283872880441, 0.3051190670534283, 0.2328540248565637, 0.35329576185133804, 0.2617290291290922, 0.061583300971551104, 0.030791650485775552, 0.6312288349583988, 0.0033752358566711263, 0.9956945777179823, 0.0011250786188903754, 0.04572230364448748, 0.368467976429105, 0.01344773636602573, 0.07530732364974409, 0.04034320909807719, 0.33350386187743813, 0.010758189092820584, 0.110271438201411, 0.9379399585634101, 0.9932121496810004, 0.16091275272667038, 0.804563763633352, 0.018930912085490637, 0.9032331400277046, 0.544741371074008, 0.010475795597577078, 0.43998341509823724, 0.15369757325607564, 0.025616262209345937, 0.6916390796523403, 0.07684878662803782, 0.054974896865341565, 0.2432639186291364, 0.001374372421633539, 0.09483169709271419, 0.006871862108167696, 0.013743724216335391, 0.04672866233554033, 0.04397991749227325, 0.474158485463571, 0.019241213902869547, 0.8644581503599088, 0.060877334532387944, 0.012175466906477589, 0.019480747050364143, 0.0413965874820238, 0.34888259165904223, 0.0310117859252482, 0.28685901980854583, 0.3256237522151061, 0.7982923570968424, 0.022808353059909782, 0.005068522902202174, 0.00696921899052799, 0.04688383684537011, 0.002534261451101087, 0.02090765697158397, 0.003167826813876359, 0.09313410832796495, 0.11854020094428071, 0.1367771549357085, 0.10638223161666217, 0.5866220200575942, 0.0455923849785695, 0.9705139058188259, 0.025379748592022612, 0.07613924577606784, 0.3553164802883166, 0.5075949718404523, 0.9736121514179562, 0.7990696661950316, 0.18160674231705265, 0.04661596739670562, 0.004439615942543392, 0.05549519928179241, 0.3418504275758412, 0.015538655798901875, 0.08435270290832446, 0.07547347102323768, 0.013318847827630178, 0.19534310147190928, 0.022198079712716964, 0.13984790219011686, 0.9889008493252041, 0.9661391913392338, 0.0031827408924041552, 0.09229948587972049, 0.1559543037278036, 0.012730963569616621, 0.060472076955678945, 0.06683755874048726, 0.025461927139233242, 0.5792588424175562, 0.4940966256551332, 0.07458062274039746, 0.19577413469354335, 0.0559354670552981, 0.177128979008444, 0.09718525998832168, 0.3239508666277389, 0.08638689776739705, 0.4751279377206838, 0.021596724441849263, 0.44319401939413805, 0.517059689293161, 0.007179624307900581, 0.028718497231602323, 0.35898121539502903, 0.017949060769751453, 0.014359248615801162, 0.035898121539502906, 0.3051340330857747, 0.0035898121539502904, 0.2261581656988683, 0.9893472945019116, 0.18410761263327263, 0.02301345157915908, 0.27999699421310215, 0.02301345157915908, 0.11890283315898857, 0.0383557526319318, 0.23013451579159078, 0.06904035473747723, 0.03068460210554544, 0.05246142115584786, 0.6426524091591362, 0.19673032933442947, 0.09180748702273375, 0.5590529112648277, 0.41321302136965526, 0.053926569502988436, 0.9321592728373714, 0.9829114328983541, 0.9092221019743023, 0.9881036952505401, 0.7941224810590184, 0.13235374684316972, 0.9919826333162559, 0.0336393263542873, 0.009250814747429007, 0.11100977696914809, 0.0008409831588571825, 0.012614747382857738, 0.1446491033234354, 0.1724015475657224, 0.00672786527085746, 0.004204915794285912, 0.0058868821120002775, 0.12110157487543427, 0.01345573054171492, 0.08998519799771852, 0.03868522530743039, 0.025229494765715475, 0.11941960855771991, 0.05466390532571686, 0.02102457897142956, 0.01345573054171492, 0.9057782298713493, 0.9883480896961645, 0.03506227709455854, 0.24543593966190974, 0.5008896727794077, 0.2103736625673512, 0.014185280882674843, 0.1560380897094233, 0.09220432573738649, 0.3333541007428588, 0.1915012919161104, 0.12057488750273616, 0.08511168529604907, 0.9917604144842959, 0.9837570954181399, 0.10023068540037831, 0.45489311066325544, 0.43176295249393737, 0.012423826038832433, 0.012423826038832433, 0.9566346049900973, 0.009333336193482126, 0.009333336193482126, 0.6073848015142983, 0.06605130229233504, 0.005025642565721145, 0.0007179489379601635, 0.06605130229233504, 0.002871795751840654, 0.017948723449004087, 0.008615387255521962, 0.004307693627760981, 0.20174365156680593, 0.879083884254384, 0.10852887459930666, 0.016019624953018105, 0.5767064983086518, 0.10012265595636316, 0.024029437429527158, 0.1481815308154175, 0.13216190586239937, 0.6141378582875827, 0.32227036127962266, 0.05472515568899252, 0.9889565931834154, 0.9608844444708691, 0.04832734887503648, 0.003866187910002918, 0.011598563730008756, 0.04639425492003502, 0.007732375820005836, 0.02319712746001751, 0.013531657685010214, 0.056059724695042314, 0.12178491916509193, 0.02319712746001751, 0.2087741471401576, 0.011598563730008756, 0.013531657685010214, 0.05799281865004378, 0.0521935367850394, 0.14498204662510944, 0.15464751640011673, 0.3367314238153297, 0.16836571190766486, 0.13775376428808944, 0.3367314238153297, 0.11241947457901774, 0.1686292118685266, 0.3372584237370532, 0.2810486864475444, 0.9748839662580286, 0.1032397825099989, 0.7816726390042774, 0.029497080717142545, 0.081116971972142, 0.9593213182385063, 0.17113833185172256, 0.7701224933327515, 0.06463075031402517, 0.32853964742962793, 0.4254857729006657, 0.1723486675040671, 0.019930192104346052, 0.0265735894724614, 0.07307737104926885, 0.039860384208692104, 0.016608493420288375, 0.3354915670898252, 0.28566608682896005, 0.15944153683476842, 0.043182082892749774, 0.8083373015473039, 0.06315135168338311, 0.1136724330300896, 0.9045906203652012, 0.9540666963964196, 0.9836884447636715, 0.9670173740925481, 0.9870466024584099, 0.9943611287210312, 0.5032031465168469, 0.15137005220425476, 0.016364329968027544, 0.07773056734813083, 0.0818216498401377, 0.16773438217228231, 0.6743196753725935, 0.32324530470241786, 0.29020366841366346, 0.6771418929652148, 0.4917890976404066, 0.3524488533089581, 0.147536729292122, 0.9418800808220185, 0.9311480949137343, 0.1271590912859656, 0.5722159107868451, 0.2543181825719312, 0.1291978524639061, 0.015199747348694838, 0.5471909045530141, 0.022799621023042258, 0.2887951996252019, 0.07837608552566437, 0.30479588815536146, 0.21771134868240102, 0.1654606249986248, 0.22641980262969708, 0.04103846914462408, 0.9028463211817298, 0.0492461629735489, 0.9985813578553727, 0.9522716298793051, 0.989614298382485, 0.025569745182553366, 0.015981090739095854, 0.06712058110420259, 0.14702603479968185, 0.05113949036510673, 0.5849079210509083, 0.10547519887803264, 0.08518029338060232, 0.21295073345150578, 0.10647536672575289, 0.5962620536642163, 0.2184460811533523, 0.04200886176026005, 0.730954194628525, 0.7885504768955686, 0.20349689726337253, 0.0836397542952158, 0.5575983619681054, 0.13939959049202635, 0.09293306032801757, 0.12081297842642283, 0.44961605425762513, 0.21581570604366007, 0.03596928434061001, 0.05395392651091502, 0.2338003482139651, 0.02239250072909563, 0.6493825211437733, 0.1343550043745738, 0.12315875401002596, 0.0671775021872869, 0.27240209277510974, 0.5107539239533307, 0.1702513079844436, 0.5445706158039622, 0.2333874067731266, 0.15559160451541776, 0.056033235301692595, 0.8965317648270815, 0.37813802125736135, 0.5942168905472821, 0.3252484019442746, 0.015488019140203554, 0.18585622968244264, 0.04646405742061066, 0.14713618183193375, 0.18585622968244264, 0.09292811484122132, 0.9609743882689044, 0.03003044963340326, 0.05440592064752358, 0.10881184129504716, 0.05440592064752358, 0.06753838425209824, 0.06566231802287328, 0.01876066229224951, 0.060034119335198435, 0.06566231802287328, 0.5027857494322869, 0.9714454263447193, 0.9396804935570469, 0.04395824912439912, 0.4747490905435105, 0.0747290235114785, 0.4044158919444719, 0.9618189484429791, 0.694048416143022, 0.16016501910992817, 0.1423689058754917, 0.14304055189778164, 0.8502966140590353, 0.9821519104903053, 0.054693197254107144, 0.032815918352464286, 0.8969684349673572, 0.990465410463025, 0.9835022810707463, 0.1984570069708768, 0.030069243480435878, 0.31272013219653316, 0.012027697392174352, 0.20447085566696396, 0.2465677965395742, 0.46141679682493736, 0.46141679682493736, 0.7118540854203936, 0.28474163416815745, 0.9498636290980325, 0.015669996165631292, 0.047009988496893876, 0.15669996165631292, 0.10968997315941904, 0.3604099118095197, 0.04309248945548605, 0.266389934815732, 0.9935000786588432, 0.03240411508109631, 0.16202057540548157, 0.19442469048657787, 0.38884938097315574, 0.19442469048657787, 0.03240411508109631, 0.8011424516464971, 0.1907482027729755, 0.9443286383737617, 0.1141775096330783, 0.3882035327524662, 0.20551951733954094, 0.2740260231193879, 0.4781165007971346, 0.2390582503985673, 0.2390582503985673, 0.9002565164517997, 0.23109323039108084, 0.7446337423712606, 0.7915712163117433, 0.20093730875605792, 0.010077587603993157, 0.28217245291180837, 0.644965606655562, 0.05038793801996578, 0.7647573796752938, 0.11765498148850674, 0.9905403944463635, 0.9732439717060455, 0.011559546083782317, 0.3101811532481588, 0.5818304862170433, 0.019265910139637195, 0.07513704954458506, 0.9983790330285733, 0.01809671337622181, 0.669578394920207, 0.009048356688110906, 0.05429014012866543, 0.23525727389088355, 0.5224751393163279, 0.07781544628115522, 0.10004843093291385, 0.03334947697763795, 0.2667958158211036, 0.9660451770837614, 0.9710702406531924, 0.19985603293000503, 0.009992801646500252, 0.04996400823250126, 0.3297624543345083, 0.39971206586001007, 0.4844273435951907, 0.11398290437533899, 0.056991452187669496, 0.3371994254437112, 0.3835144412926629, 0.602665550602756, 0.4337384479840418, 0.5621250285873182, 0.1743457448180976, 0.27895319170895616, 0.06102101068633416, 0.16562845757719272, 0.31382234067257564, 0.992150540948332, 0.023446007296221906, 0.11723003648110954, 0.019538339413518256, 0.015630671530814603, 0.007815335765407301, 0.027353675178925556, 0.7659029050099156, 0.019538339413518256, 0.8128753171173572, 0.1753260487900182, 0.954166331952335, 0.007828549084520296, 0.07045694176068266, 0.03914274542260148, 0.14091388352136533, 0.25051357070464947, 0.02348564725356089, 0.45405584690217715, 0.1687469618951863, 0.15468471507058743, 0.15468471507058743, 0.04218674047379657, 0.12656022142138973, 0.3374939237903726, 0.22163035253344027, 0.18341822278629538, 0.09170911139314769, 0.49675768671288334, 0.7479293141984443, 0.030948799208211492, 0.09800453082600305, 0.1134789304301088, 0.9749778157703564, 0.009823157265396421, 0.9872273051723403, 0.7808633661810033, 0.21023244474103933, 0.6315846045423588, 0.33684512242259135, 0.8956378213198535, 0.11867119935955213, 0.830698395516865, 0.983773970899253, 0.014379156700110885, 0.9934220618727425, 0.9778258533797192, 0.987103774706233, 0.9020647747475636, 0.014972029456391098, 0.07860315464605326, 0.9688404012500597, 0.9479094143535788, 0.023475689577731978, 0.9478309667009287, 0.026410150774948477, 0.6572027127319332, 0.3343662924425625, 0.987311764657033, 0.4766668219581389, 0.3277084400962205, 0.14895838186191843, 0.06349769511194558, 0.2740426841673441, 0.03676182348586323, 0.5213494967086059, 0.10360150255106912, 0.4090338799798019, 0.09439243384149275, 0.1101245061484082, 0.015732072306915458, 0.12585657845532366, 0.23598108460373188, 0.03965037079768156, 0.27755259558377093, 0.3965037079768156, 0.23790222478608936, 0.969263537719938, 0.013117798828491196, 0.02951504736410519, 0.07870679297094718, 0.06558899414245598, 0.022956147949859593, 0.20988478125585913, 0.4427257104615779, 0.11806018945642076, 0.013117798828491196, 0.0009036717699777777, 0.0045183588498888885, 0.9831948857358221, 0.009940389469755555, 0.027053398003687845, 0.017643520437187726, 0.001176234695812515, 0.0017643520437187724, 0.0052930561311563176, 0.050578091919938145, 0.26641715860153464, 0.012938581653937666, 0.4687295262812872, 0.0005881173479062575, 0.007645525522781347, 0.02117222452462527, 0.11174229610218893, 0.005881173479062575, 0.5746725695459914, 0.12451239006829816, 0.22029115165929675, 0.07662300927279886, 0.423747666474631, 0.011770768513184196, 0.04708307405273678, 0.11770768513184195, 0.3884353609350784, 0.9751498990593159, 0.04853006341487482, 0.4985361059891686, 0.07720691906911903, 0.008823647893613604, 0.030882767627647613, 0.04411823946806802, 0.2338266691807605, 0.05955962328189182, 0.1821833579741029, 0.7988039541941434, 0.9417928825277224, 0.047089644126386124, 0.947157039945927, 0.9887594889668051, 0.2745922861409571, 0.3661230481879428, 0.08008941679111248, 0.2631509408850839, 0.07490392719823977, 0.08738791506461306, 0.037451963599119883, 0.318341690592519, 0.031209969665933236, 0.4494235631894386, 0.019635403884094738, 0.0357007343347177, 0.048195991351868896, 0.465894583068066, 0.060691248369020095, 0.108887239720889, 0.05890621165228421, 0.09282190927026603, 0.10710220300415312, 0.9625667070395547, 0.010135082979554275, 0.9729679660372104, 0.9684645603944594, 0.343565004456245, 0.549704007129992, 0.9847301445628854, 0.6348001305917701, 0.050115799783560795, 0.3006947987013648, 0.10237797918679827, 0.6581441519151318, 0.014625425598114038, 0.1901305327754825, 0.029250851196228077, 0.004217068406029575, 0.11104946802544546, 0.0056227578747061, 0.009839826280735674, 0.012651205218088725, 0.03795361565426617, 0.015462584155441774, 0.2825435832039815, 0.5201051034103142, 0.8384217853416259, 0.14795678564852222, 0.9062328312246153, 0.08238480283860139, 0.14431179443551811, 0.07215589721775906, 0.7215589721775906, 0.9740788629972145, 0.7594635577026128, 0.07064777280954537, 0.1589574888214771, 0.9221745225269673, 0.03415461194544323, 0.9669380579570773, 0.986970815140944, 0.1531913005872589, 0.0597186426018128, 0.033754015383633325, 0.007789388165453844, 0.0649115680454487, 0.31936491478360757, 0.010385850887271791, 0.31157552661815374, 0.03635047810545127, 0.06512455207715433, 0.7597864409001338, 0.10854092012859054, 0.04341636805143621, 0.5521101144048326, 0.040153462865806004, 0.11042202288096652, 0.09034529144806351, 0.20076731432903003, 0.1704302578439232, 0.034086051568784644, 0.7669361602976544, 0.9872779635567394, 0.9738219475450807, 0.05392056475863394, 0.7189408634484525, 0.21568225903453575, 0.1597307625903518, 0.38251314199268455, 0.012610323362396194, 0.03783097008718858, 0.40773378871747695, 0.997208525011906, 0.945229701365415, 0.7672134776826559, 0.2001426463519972, 0.01930250793856834, 0.18015674075997118, 0.7169502948611098, 0.08364420106712947, 0.7317791061047557, 0.23733376414208296, 0.9787925420678544, 0.06901062909417298, 0.30873176173708966, 0.5775100013670265, 0.0435856604805303, 0.12380352959896596, 0.7781936146220717, 0.07074487405655197, 0.029579444924226005, 0.9465422375752321, 0.11940205982000127, 0.001957410816721332, 0.007829643266885329, 0.7222845913701715, 0.01761669735049199, 0.08025384348557461, 0.04697785960131197, 0.5850089402155993, 0.20013463744217874, 0.20013463744217874, 0.04063282738979961, 0.06501252382367938, 0.8939222025755915, 0.9664358727858305, 0.038078708119263636, 0.015231483247705454, 0.09900464111008545, 0.6930324877705981, 0.12185186598164363, 0.02284722487155818, 0.6552234359692509, 0.31547795065186157, 0.9968373768981901, 0.061998322445952915, 0.9093087292073094, 0.9975428220462736, 0.984021472500138, 0.2813145395347957, 0.7032863488369892, 0.21459168798259665, 0.05722445012869244, 0.7153056266086555, 0.9989634430369386, 0.9909396521553068, 0.979633456172923, 0.1676560956981739, 0.7376868210719653, 0.014902764062059903, 0.07451382031029952, 0.012944828603048601, 0.0388344858091458, 0.5113207298204198, 0.2718414006640206, 0.1553379432365832, 0.8937172721185137, 0.05257160424226551, 0.9786085737588474, 0.8444862089151062, 0.13844036211723051, 0.8302233050897353, 0.14759525423817516, 0.008739192685155108, 0.012623278323001823, 0.7385046048895879, 0.012391016860563556, 0.03469484720957795, 0.0892153213960576, 0.032216643837465246, 0.05204227081436693, 0.014869220232676266, 0.017347423604788977, 0.007434610116338133, 0.16573182698683683, 0.33146365397367367, 0.08286591349341842, 0.3728966107203829, 0.014695958053179966, 0.9797305368786644, 0.33793693532449604, 0.04505825804326614, 0.27034954825959684, 0.04505825804326614, 0.00750970967387769, 0.2853689676073522, 0.003131342923615547, 0.012525371694462188, 0.0015656714618077735, 0.003131342923615547, 0.3240939925942091, 0.015656714618077733, 0.034444772159771014, 0.014091043156269962, 0.10959700232654415, 0.0015656714618077735, 0.017222386079885507, 0.01878805754169328, 0.023485071927116602, 0.025050743388924376, 0.042273129468809886, 0.21606266172947275, 0.13464774571546853, 0.9782943711500368, 0.07404735827109173, 0.3949192441124892, 0.17277716929921402, 0.04936490551406115, 0.13575349016366817, 0.16043594292069874, 0.9906261699995713, 0.8351556268332204, 0.12848548105126467, 0.898921224767566, 0.999237111074988, 0.9848775158900037, 0.9553906033665023, 0.4579555503099896, 0.3636705840696976, 0.17510065158911367, 0.42925996702139363, 0.5499893327461606, 0.9913046393984645, 0.49124112167943207, 0.49124112167943207, 0.9456415830014974, 0.9836783214352304, 0.019899819473493584, 0.03979963894698717, 0.03979963894698717, 0.05969945842048075, 0.5439283989421579, 0.18573164841927345, 0.07959927789397434, 0.03316636578915597, 0.9945074318400902, 0.9870482918401928, 0.01364172053403248, 0.007957670311518946, 0.06479817253665428, 0.048882831913616386, 0.7525682494607918, 0.004547240178010827, 0.10686014418325442, 0.39196946322475407, 0.3005099218056448, 0.3005099218056448, 0.9943360621167414, 0.960780652848592, 0.4323998330459463, 0.20590468240283158, 0.02059046824028316, 0.04118093648056632, 0.16472374592226527, 0.08236187296113263, 0.03489664416137824, 0.18146254963916686, 0.013958657664551295, 0.06979328832275648, 0.01744832208068912, 0.23380751588123422, 0.03489664416137824, 0.3908424146074363, 0.013958657664551295, 0.9752683558644919, 0.9707560999493465, 0.9823593084623529, 0.06075850293677596, 0.17122850827636862, 0.13256400640751118, 0.4418800213583706, 0.08285250400469449, 0.06075850293677596, 0.03866450186885743, 0.40042231787148075, 0.550580687073286, 0.9896320605452205, 0.9727138851439439, 0.27338271313435447, 0.20905736886744755, 0.5146027541352555, 0.11186669340199487, 0.19576671345349103, 0.41950010025748075, 0.2517000601544884, 0.964424760336887, 0.9738389517834956, 0.9789902049066153, 0.9221002394014586, 0.9895808639858612, 0.094416384280186, 0.8497474585216741, 0.9813632224751412, 0.35352770465604927, 0.03213888224145902, 0.14141108186241969, 0.15426663475900332, 0.3149610459662984, 0.29978696332777804, 0.6883996935674903, 0.19610309144183502, 0.1619982059736898, 0.1619982059736898, 0.06820977093629044, 0.30694396921330697, 0.09378843503739936, 0.9919488959484264, 0.9114559613788894, 0.06628770628210105, 0.9073886502257522, 0.04775729738030275, 0.8123091055123689, 0.045568559577523135, 0.015849933766095003, 0.0019812417207618754, 0.0970808443173319, 0.02575614236990438, 0.7327866989077453, 0.22813170815052447, 0.03456541032583704, 0.9799244786945874, 0.986663645244001, 0.8738615523042885, 0.18546406412917008, 0.7882222725489728, 0.9831687518152818, 0.2959176055930648, 0.05198552530688976, 0.01199665968620533, 0.019994432810342216, 0.003998886562068443, 0.1359621431103271, 0.1199665968620533, 0.015995546248273772, 0.02399331937241066, 0.015995546248273772, 0.12796436998619018, 0.17595100873101152, 0.021417466812169425, 0.5290114302605848, 0.07281938716137605, 0.027842706855820253, 0.010708733406084713, 0.03212620021825414, 0.1670562411349215, 0.00856698672486777, 0.03855144026190497, 0.09209510729232853, 0.802632357771036, 0.16606186712504192, 0.06403919973641008, 0.7313950706737361, 0.04718677875314426, 0.053927747146450586, 0.06066871553975691, 0.04044581035983794, 0.022424604637804973, 0.018687170531504146, 0.22050861227174892, 0.47091669739390446, 0.033636906956707464, 0.014949736425203317, 0.033636906956707464, 0.18313427120874062, 0.2605631206489483, 0.7343142491015816, 0.9160991290135952, 0.8643461103054846, 0.0030221891968723238, 0.11182100028427597, 0.018133135181233943, 0.9778272351360505, 0.09325116796450197, 0.20648472906425436, 0.45293424439900953, 0.23978871762300505, 0.9877068540092097, 0.17711129294997008, 0.009839516274998338, 0.009839516274998338, 0.6100500090498969, 0.12299395343747922, 0.06395685578748919, 0.554218097557321, 0.3463863109733256, 0.0865965777433314, 0.025242777367766332, 0.07212222105076095, 0.014424444210152189, 0.3714294384114189, 0.018030555262690238, 0.49764332525025057, 0.3973964391651312, 0.10634552597376751, 0.044777063567902106, 0.08955412713580421, 0.2742595143534004, 0.08395699418981645, 0.9812090106367917, 0.9871327170854176, 0.04341937041150201, 0.6078711857610282, 0.05789249388200268, 0.1013118642935047, 0.17367748164600805, 0.992174730002361, 0.28212969423985373, 0.658302619892992, 0.009681985382557, 0.0532509196040635, 0.31466452493310254, 0.135547795355798, 0.029045956147671, 0.45505331298017904, 0.06157756379558375, 0.17857493500719288, 0.6404066634740709, 0.01231551275911675, 0.10776073664227155, 0.49246442451139477, 0.3483284953861085, 0.14413592912528628, 0.17802041198978846, 0.6725215564058675, 0.11868027465985898, 0.5929367314560245, 0.32342003533964975, 0.982624868604781, 0.9772592084186951, 0.022184036123750014, 0.1331042167425001, 0.4214966863512503, 0.37712861410375026, 0.9805414673773658, 0.9353996063267573, 0.9896003565811379, 0.02255997653245599, 0.02255997653245599, 0.009399990221856664, 0.007519992177485331, 0.3853995990961232, 0.03571996284305532, 0.0639199335086253, 0.03383996479868399, 0.14663984746096395, 0.0018799980443713327, 0.06579993155299664, 0.04135995697616932, 0.1597998337715633, 0.6822697737870587, 0.30769029013926175, 0.8809537939901863, 0.05505961212438664, 0.32505214285572936, 0.3961572991054202, 0.006771919642827695, 0.10496475446382927, 0.16252607142786468, 0.9877956808924513, 0.93566949780408, 0.05881351129054218, 0.9184835008475547, 0.18772668643176876, 0.5397142234913351, 0.258124193843682, 0.02118299777194114, 0.45190395246807774, 0.5013309472692737, 0.02118299777194114, 0.966169566777434, 0.05390963567343504, 0.9449161141649309, 0.029293117425360338, 0.7264693121489363, 0.07030348182086481, 0.16404145758201788, 0.7456933602762824, 0.007767639169544608, 0.031070556678178433, 0.21361007716247674, 0.07028826822251068, 0.13471918075981212, 0.04100148979646456, 0.03514413411125534, 0.7145973935955252, 0.968703724181922, 0.018786438085966185, 0.31936944746142515, 0.6387388949228503, 0.9003386800683307, 0.09406523523101962, 0.9685958136060278, 0.05543533982290712, 0.12195774761039567, 0.19956722336246563, 0.03326120389374427, 0.28826376707911705, 0.29935083504369847, 0.5608189267065938, 0.41451833713096065, 0.6831011405363476, 0.2927576316584347, 0.9512656604497935, 0.0013273714193152968, 0.9172136507468701, 0.07566017090097192, 0.0026547428386305937, 0.0013273714193152968, 0.6029148247036802, 0.38586548781035535, 0.1570843105508679, 0.05844997601892759, 0.6283372422034716, 0.05844997601892759, 0.04749060551537867, 0.04749060551537867, 0.6222170905770794, 0.008080741436065967, 0.16161482872131933, 0.0727266729245937, 0.0242422243081979, 0.10504963866885757, 0.9902849816817735, 0.15357326027322404, 0.7822516447334855, 0.06104051104530677, 0.00272155144787992, 0.8949037048931601, 0.01551542749238833, 0.9619565045280765, 0.07844098043576038, 0.5432764200550811, 0.24113338430252265, 0.037767879469069815, 0.0900618664262434, 0.01162088599048302, 0.87518744555395, 0.11384552137287154, 0.06968275409491093, 0.27315639605205083, 0.6522305783283663, 0.0027873101637964372, 0.09344640618832137, 0.03398051134120777, 0.15291230103543496, 0.22936845155315247, 0.2208733237178505, 0.07645615051771748, 0.18689281237664274, 0.10417775283807094, 0.5599554215046314, 0.32555547761897174, 0.13395520646374237, 0.20786152727132437, 0.08314461090852975, 0.24943383272558922, 0.31872100848269735, 0.4366770985419028, 0.19848959024631943, 0.2646527869950926, 0.0926284754482824, 0.06412854557677396, 0.024938878835412095, 0.026720227323655817, 0.53618589496136, 0.19951103068329676, 0.026720227323655817, 0.005344045464731164, 0.007125393952974885, 0.10509956080637954, 0.0275667800186644, 0.09648373006532539, 0.20675085013998298, 0.6616027204479455, 0.030638375289683578, 0.6127675057936716, 0.2706389817255383, 0.025531979408069647, 0.051063958816139295, 0.9925288498914966, 0.9792583527175033, 0.016128961103582407, 0.031031293449916272, 0.003878911681239534, 0.007757823362479068, 0.007757823362479068, 0.06594149858107208, 0.5973523989108882, 0.08921496866850928, 0.10860952707470695, 0.07757823362479067, 0.9940215511365399, 0.0021411388443654247, 0.47319168460475886, 0.010705694221827124, 0.1306094695062909, 0.14345630257248346, 0.241948689413293, 0.7466170464282929, 0.1866542616070732, 0.0040685196422554516, 0.10578151069864174, 0.03254815713804361, 0.18715190354375075, 0.06916483391834267, 0.4841538374283987, 0.10578151069864174, 0.008137039284510903, 0.1468775555464015, 0.043199281043059264, 0.3801536731789215, 0.0993583463990363, 0.0043199281043059265, 0.31967467971863855, 0.08319472624961217, 0.051996703906007614, 0.14559077093682132, 0.4159736312480609, 0.29118154187364265, 0.9938902160863382, 0.728149921158351, 0.1769336257020292, 0.0884668128510146, 0.9860987982531295, 0.2700808476379292, 0.40897956928029283, 0.04629957388078787, 0.2623642519911313, 0.007716595646797978, 0.005856679517021158, 0.06442347468723274, 0.017570038551063472, 0.47439104087871375, 0.02342671806808463, 0.32211737343616365, 0.017570038551063472, 0.07613683372127505, 0.018864428505513953, 0.23894942773651007, 0.23266128490133875, 0.04401699984619922, 0.1068984281979124, 0.3584241416047651, 0.004227422249142386, 0.9606817061176073, 0.03381937799313909, 0.09849132466775279, 0.009233561687601824, 0.030778538958672746, 0.7786970356544205, 0.006155707791734549, 0.07386849350081459, 0.033451971770170244, 0.551957534207809, 0.25088978827627684, 0.10035591531051075, 0.05017795765525537, 0.982496495687242, 0.9886237154368751, 0.7550081632525641, 0.012583469387542736, 0.07550081632525642, 0.1384181632629701, 0.9953127701618127, 0.9568038745590141, 0.025628675211402163, 0.008542891737134054, 0.09499800478522004, 0.16624650837413507, 0.7124850358891502, 0.7386623323722511, 0.051077714472549274, 0.20823991284962398, 0.9805315569417008, 0.01881050374612993, 0.1800433929986722, 0.01881050374612993, 0.1128630224767796, 0.02418493338788134, 0.06449315570101691, 0.010748859283502818, 0.1692945337151694, 0.021497718567005636, 0.32246577850508457, 0.05105708159663839, 0.9821006564080335, 0.03997620393209791, 0.0428316470701049, 0.48828077659919583, 0.014277215690034966, 0.057108862760139864, 0.2541344392826224, 0.09994050983024476, 0.5551886998576154, 0.3254554447441194, 0.09572218963062336, 0.2995193287472815, 0.2781250909796185, 0.42788475535325926, 0.8068338584279259, 0.006174748916540249, 0.08747560965098687, 0.08644648483156349, 0.010291248194233748, 0.5744759271132585, 0.2987274820988944, 0.11489518542265169, 0.9690819823124293, 0.9913731767495553, 0.8577090692725903, 0.09028516518658845, 0.11380914271374547, 0.16726495217020165, 0.043109523755206616, 0.036211999954373554, 0.4483390470541488, 0.01896819045229091, 0.013795047601666116, 0.08104590465978843, 0.07587276180916364, 0.9826125417244013, 0.013647396412838906, 0.10624355416819675, 0.849948433345574, 0.9846558715505236, 0.05879797522785124, 0.9211682785696694, 0.21346083954179002, 0.7826897449865634, 0.0876216074626134, 0.1606396136814579, 0.0292072024875378, 0.2336576199003024, 0.02190540186565335, 0.46001343917872034, 0.6762119766588965, 0.24913072824275137, 0.07118020806935753, 0.8905651690820909, 0.059371011272139396, 0.003565632524896881, 0.0017828162624484406, 0.003565632524896881, 0.4350071680374195, 0.07844391554773138, 0.15688783109546275, 0.021393795149381285, 0.008914081312242203, 0.28881623451664734, 0.32617071499123224, 0.667167371572975, 0.12975543210981078, 0.8217844033621349, 0.9402842869676077, 0.07913287339358466, 0.058308433026851854, 0.23323373210740742, 0.3623452623811508, 0.058308433026851854, 0.20824440366732805, 0.2840942516171326, 0.18939616774475504, 0.040584893088161794, 0.3382074424013483, 0.13528297696053931, 0.13716601236860368, 0.5658098010204902, 0.29147777628328286, 0.3742458453961418, 0.0962346459590079, 0.17643018425818113, 0.3475139992964174, 0.02217975929777524, 0.02217975929777524, 0.04435951859555048, 0.09554357851349334, 0.6483314256272762, 0.04947792458734476, 0.03241657128136381, 0.04777178925674667, 0.03241657128136381, 0.3479802103136118, 0.6402835869770458, 0.14655713442406432, 0.10991785081804824, 0.7327856721203215, 0.7906831760967744, 0.18483502817846675, 0.010268612676581485, 0.01570257548457461, 0.2041334812994699, 0.5518333670293363, 0.008972900276899776, 0.04037805124604899, 0.017945800553799553, 0.004486450138449888, 0.15702575484574607, 0.9876065844302095, 0.5594671988952219, 0.3305942538926311, 0.10172130889004034, 0.4220110203314798, 0.4987402967553852, 0.03836463821195271, 0.9233004051180842, 0.996142285594581, 0.016761485228635076, 0.9554046580321993, 0.26910369062737216, 0.05606326888070254, 0.05045694199263229, 0.11773286464947533, 0.14015817220175636, 0.22425307552281015, 0.005606326888070254, 0.02803163444035127, 0.10091388398526457, 0.13228797038590984, 0.8525224758203078, 0.24613851218867228, 0.7032528919676351, 0.06528183975556696, 0.15504436941947156, 0.26112735902226786, 0.01632045993889174, 0.48961379816675227, 0.11210543407978434, 0.8688171141183286, 0.9814949538028079, 0.016117370459694216, 0.6285774479280744, 0.3384647796535785, 0.09742337104036015, 0.8930475678699681, 0.0503753158310048, 0.14213035538033497, 0.7628262111552155, 0.043178842140861255, 0.002118755189810618, 0.07309705404846632, 0.029662572657348656, 0.5890139427673519, 0.02436568468282211, 0.22988493809445207, 0.019068796708295564, 0.013771908733769019, 0.018009419113390254, 0.8139654815639326, 0.008221873551150833, 0.04522030453132958, 0.03699843098017875, 0.09044060906265916, 0.6354828145897028, 0.14952536813875358, 0.2055973811907862, 0.30351432325651423, 0.042613758852633805, 0.5365854941239807, 0.025220387892375108, 0.0043483427400646734, 0.0026090056440388042, 0.003478674192051739, 0.07827016932116412, 0.0026090056440388042, 0.03910947870562697, 0.813477157077041, 0.1251503318580063, 0.007821895741125394, 0.1665857066531748, 0.1802402727722875, 0.054618264476450754, 0.24168582030829458, 0.13108383474348181, 0.09285104960996628, 0.03413641529778172, 0.006827283059556344, 0.08056194010276485, 0.00955819628337888, 0.9734551205472044, 0.4666461563614076, 0.5257984860410226, 0.13573996426483328, 0.7805047945227913, 0.05090248659931248, 0.9965262890147735, 0.27808901899577665, 0.7059182789892792, 0.9882885846133017, 0.14247177610346623, 0.0833981128410534, 0.0034749213683772247, 0.5629372616771104, 0.0069498427367544495, 0.09382287694618507, 0.10772256241969397, 0.12363698231579132, 0.553678659935935, 0.06450625164302155, 0.11826146134553951, 0.1397635452265467, 0.9928420018247037, 0.30009017203304855, 0.07202164128793165, 0.204061316982473, 0.13203967569454136, 0.2760829582704047, 0.11103913943834061, 0.08944819565866327, 0.08944819565866327, 0.018506523239723436, 0.04009746701940078, 0.09870145727852499, 0.1480521859177875, 0.12337682159815623, 0.033928625939492967, 0.018506523239723436, 0.2251626994166351, 0.4350054942183422, 0.02965946551488697, 0.13841083906947252, 0.39545954019849294, 0.2450320273016839, 0.2241782377440938, 0.052134473893975304, 0.052134473893975304, 0.04170757911518024, 0.15118997429252837, 0.23460513252288887, 0.6209071061232123, 0.31045355306160616, 0.9318898043067431, 0.8011947525403135, 0.007854850515101113, 0.09425820618121335, 0.023564551545303337, 0.0628388041208089, 0.019264885204828112, 0.01284325680321874, 0.19907048044989048, 0.33392467688368727, 0.09632442602414056, 0.3275030484820779, 0.9844921530049576, 0.006884560510524179, 0.9756759183883783, 0.9832677288744155, 0.947687659947095, 0.2535111418792385, 0.09053969352829946, 0.2535111418792385, 0.34405083540753795, 0.018107938705659892, 0.9442942478828218, 0.9884599082003648, 0.7923731555413706, 0.1854490364032995, 0.9820268515224944, 0.9714731828816466, 0.0241359796989229, 0.16806447237366748, 0.7333722430850944, 0.0458357651928184, 0.030557176795212266, 0.9720236814320684, 0.9751309334467182, 0.2016189717192772, 0.10856406169499543, 0.031018303341427262, 0.09305491002428179, 0.2016189717192772, 0.3567104884264135, 0.216290432256108, 0.40854859426153733, 0.33645178350950133, 0.48571547239992574, 0.48571547239992574, 0.7751652508962135, 0.11925619244557131, 0.07950412829704753, 0.08995091175023337, 0.31482819112581684, 0.5397054705014003, 0.012946639142732311, 0.7077496064693664, 0.0442343504043354, 0.0021577731904553854, 0.14241303057005544, 0.03883991742819694, 0.05070766997570156, 0.46057761479518955, 0.020849192439288417, 0.020849192439288417, 0.11182748671981968, 0.04738452827111003, 0.01705843017759961, 0.01705843017759961, 0.032221479224354824, 0.01705843017759961, 0.005686143392533204, 0.05686143392533204, 0.06444295844870965, 0.01705843017759961, 0.10993210558897529, 0.018126642301090238, 0.006042214100363413, 0.6847842647078534, 0.018126642301090238, 0.06243621237042193, 0.006042214100363413, 0.016112570934302434, 0.18730863711126577, 0.012385976285958616, 0.03096494071489654, 0.10528079843064825, 0.03715792885787585, 0.09289482214468962, 0.16101769171746202, 0.03715792885787585, 0.17959665614639994, 0.1486317154315034, 0.19198263243235855, 0.4742433648452255, 0.10442055739711387, 0.1457536947001381, 0.013052569674639233, 0.010877141395532695, 0.04785942214034386, 0.010877141395532695, 0.04568399386123732, 0.002175428279106539, 0.1283502684672858, 0.017403426232852313, 0.12882389611542247, 0.05060938775963025, 0.012652346939907563, 0.0011502133581734147, 0.004600853432693659, 0.05060938775963025, 0.03220597402885562, 0.0391072541778961, 0.011502133581734148, 0.008051493507213904, 0.003450640074520244, 0.04830896104328342, 0.40142446200252174, 0.023004267163468296, 0.18173371059139953, 0.024290422902263204, 0.15788774886471083, 0.04372276122407377, 0.009716169160905282, 0.07530031099701594, 0.014574253741357924, 0.021861380612036886, 0.060726057255658016, 0.15788774886471083, 0.034006592063168486, 0.12631019909176866, 0.26962369421512156, 0.058818494425770716, 0.022056935409664018, 0.5514233852416005, 0.08822774163865607, 0.26468322491596824, 0.038656386408545455, 0.038656386408545455, 0.0828351137325974, 0.055223409155064934, 0.33686279584589607, 0.23193831845127272, 0.21537129570475325, 0.17602874777579286, 0.10466574192074171, 0.7136300585505116, 0.9877486179416564, 0.1121371409091666, 0.03250351910410626, 0.0008125879776026565, 0.0040629398880132825, 0.0040629398880132825, 0.07557068191704706, 0.06338186225300721, 0.07394550596184174, 0.001625175955205313, 0.21371063810949867, 0.4176702204877655, 0.7029185379873824, 0.2145751326487799, 0.0739914250513034, 0.18259117380244932, 0.04057581640054429, 0.5680614296076201, 0.010143954100136073, 0.18766315085251736, 0.09138538610754669, 0.07833033094932573, 0.7049729785439316, 0.10444044126576765, 0.9716928811532638, 0.056905863889088554, 0.029591049222326048, 0.040972222000143756, 0.07511574033359689, 0.015933641888944795, 0.49621913311285215, 0.2822530848898792, 0.5722277037976865, 0.27367411920758916, 0.13683705960379458, 0.08985290395797733, 0.08985290395797733, 0.24388645360022418, 0.41075613237932496, 0.14119742050539294, 0.9764795394806238, 0.9076456152402688, 0.053390918543545225, 0.020653822659360863, 0.4874302147609164, 0.024784587191233037, 0.004130764531872173, 0.3841611014641121, 0.07435376157369912, 0.22782778593663175, 0.0839365527134959, 0.09592748881542389, 0.4556555718732635, 0.13190029712120785, 0.03738673276097919, 0.04486407931317503, 0.04486407931317503, 0.6804385362498212, 0.022432039656587514, 0.1570242775961126, 0.5970665764921856, 0.05427877968110779, 0.12212725428249252, 0.02035454238041542, 0.09498786444193863, 0.1017727119020771, 0.6298045555839819, 0.05623254960571267, 0.044986039684570135, 0.25866972818627826, 0.9275412705120433, 0.00243981804210335, 0.9710475807571334, 0.017078726294723453, 0.0048796360842067, 0.05758981319224289, 0.015886845018549763, 0.011915133763912322, 0.08142008072006754, 0.05758981319224289, 0.017872700645868482, 0.4388740936374372, 0.021844411900505924, 0.013900989391231043, 0.07943422509274882, 0.19659970710455332, 0.007943422509274881, 0.11881407123262609, 0.051658291840272215, 0.27378894675344273, 0.5217487475867494, 0.025829145920136107, 0.38955912999492265, 0.5982515210636312, 0.9893174322651564, 0.1135278840945256, 0.31787807546467167, 0.567639420472628, 0.0013473396356730772, 0.022904773806442312, 0.006736698178365386, 0.012126056721057694, 0.6332496287663463, 0.00943137744971154, 0.045809547612884624, 0.26812058749894235, 0.005481641236873948, 0.007308854982498597, 0.005481641236873948, 0.023753778693120443, 0.348997825414308, 0.5061382075380279, 0.051161984877490185, 0.047507557386240885, 0.0036544274912492986, 0.6488140555837573, 0.23022434230391386, 0.08371794265596869, 0.6928904178789691, 0.24746086352820326, 0.9879005525607126, 0.474703038968744, 0.0949406077937488, 0.0474703038968744, 0.03164686926458293, 0.34811556191041226, 0.1736518111033809, 0.2003674743500549, 0.5610289281801537, 0.053431326493347975, 0.9335438623642113, 0.5938313634579275, 0.3711446021612047, 0.04668727747911953, 0.27078620937889325, 0.0784346261649208, 0.1083144837515573, 0.005602473297494343, 0.10084451935489817, 0.007469964396659124, 0.04295229528078996, 0.02240989318997737, 0.1979540565114668, 0.037349821983295624, 0.08030211726408558, 0.5290039568209061, 0.08685139589596964, 0.37898790936423116, 0.6743820436035399, 0.20435819503137576, 0.10217909751568788, 0.021982257179044964, 0.03663709529840827, 0.018318547649204136, 0.0036637095298408273, 0.6191669105430998, 0.15387580025331474, 0.1502120907234739, 0.0503977632628328, 0.5095773841019762, 0.055997514736480895, 0.055997514736480895, 0.3247855854715892, 0.0051033375681824025, 0.0051033375681824025, 0.11227342650001285, 0.5715738076364291, 0.20413350272729608, 0.09186007622728323, 0.4336310064949091, 0.005013075219594325, 0.08271574112330636, 0.18799032073478716, 0.0401046017567546, 0.04511767697634892, 0.200523008783773, 0.8824898406014744, 0.05812124060667975, 0.006457915622964417, 0.23894287804968342, 0.6909969716571926, 0.2862206710013672, 0.48866943829501724, 0.21641075124493622, 0.21150822443500483, 0.1454119042990658, 0.05287705610875121, 0.05287705610875121, 0.13219264027187802, 0.37013939276125846, 0.03945803908027354, 0.9469929379265649, 0.9755309041091582, 0.9834111757409164, 0.9970359625978595, 0.05017639914245106, 0.10035279828490212, 0.1128968980705149, 0.3261465944259319, 0.3888670933539957, 0.9985327963183436, 0.009226844768087775, 0.9780455454173043, 0.008576740946211551, 0.2210893221690089, 0.0543193593260065, 0.00952971216245728, 0.07814363973214969, 0.543193593260065, 0.07433175486716678, 0.008576740946211551, 0.17091660213856788, 0.11394440142571191, 0.03798146714190397, 0.07596293428380795, 0.5887127406995115, 0.8241190392468758, 0.13735317320781265, 0.9782126713678793, 0.9829509172258284, 0.9906698967658532, 0.5963386471512631, 0.01923673055326655, 0.37832236754757553, 0.9945626948695522, 0.02709253660564434, 0.17158606516908081, 0.7947144070989006, 0.06099227878218399, 0.024396911512873595, 0.3903505842059775, 0.5123351417703456, 0.09147610492680315, 0.027442831478040944, 0.027442831478040944, 0.6037422925169008, 0.1372141573902047, 0.09147610492680315, 0.22038660984075387, 0.7640069141146134, 0.9755994057996371, 0.6867989904376374, 0.30407894233116767, 0.49683309261347086, 0.49683309261347086, 0.7059632011277324, 0.23532106704257746, 0.4181345430151004, 0.2787563620100669, 0.29142710573779723, 0.988464660657918, 0.10559457279196069, 0.19945641527370353, 0.052797286395980345, 0.6335674367517642, 0.5359228992745518, 0.05024277180698923, 0.35169940264892463, 0.05024277180698923, 0.9885653857776888, 0.009557952624922405, 0.5566106733030471, 0.4256434560552713, 0.9807638008470239, 0.6343994188578862, 0.07552374034022455, 0.2567807171567635, 0.9867640163904366, 0.31941671206000266, 0.12776668482400108, 0.44718339688400377, 0.18058807519195968, 0.23863424221794674, 0.38052487272591506, 0.18703764930595826, 0.9954254948358316, 0.8108032930702745, 0.1621606586140549, 0.023429748074291035, 0.07028924422287311, 0.15619832049527357, 0.015619832049527356, 0.07809916024763679, 0.05466941217334575, 0.1093388243466915, 0.49202470956011174, 0.9209928856331654, 0.08967552751280398, 0.5828909288332259, 0.31386434629481397, 0.6432491866287596, 0.04093403914910289, 0.2631473945299471, 0.04970561896676779, 0.10742573372170852, 0.021485146744341703, 0.8379207230293264, 0.006159826360412565, 0.0015399565901031411, 0.017709500786186123, 0.014629587605979842, 0.14706585435484998, 0.019249457376289265, 0.02232937055649555, 0.016939522491134555, 0.007699782950515707, 0.06929804655464136, 0.02540928373670183, 0.06390819848928037, 0.5874934391243484, 0.39768194247383504, 0.5744294724622062, 0.008837376499418556, 0.14755073816350056, 0.01053933844025004, 0.4911331713156518, 0.01053933844025004, 0.002107867688050008, 0.23081151184147586, 0.02424047841257509, 0.007377536908175028, 0.07482930292577528, 0.09550167001650539, 0.05457238286657451, 0.04092928714993088, 0.05457238286657451, 0.6275824029656069, 0.12278786144979265, 0.9832841143107254, 0.10166623109386187, 0.038124836660198204, 0.4702063188091112, 0.381248366601982, 0.1387290457192651, 0.015764664286280122, 0.10404678428944882, 0.12611731429024098, 0.11035265000396086, 0.04098812714432832, 0.18917597143536147, 0.06621159000237652, 0.2049406357216416, 0.8262223978067577, 0.04860131751804457, 0.09720263503608914, 0.9887861063171808, 0.12703375365782596, 0.8529409174168313, 0.512604776040873, 0.28258981243278897, 0.15115269037102666, 0.04600299272161681, 0.09778576439258921, 0.8940412744465298, 0.3879845398370853, 0.11085272566773866, 0.25634692810664567, 0.04849806747963566, 0.19399226991854265, 0.9838820987110575, 0.10564495572034867, 0.8187484068327022, 0.06414158025878312, 0.0037730341328695953, 0.5609262571058814, 0.003451853889882347, 0.04142224667858817, 0.1570593519896468, 0.1760445483839997, 0.010355561669647042, 0.037970392788705815, 0.010355561669647042, 0.501558199054472, 0.05572868878383022, 0.44582951027064177, 0.9830924797670796, 0.5190254182596019, 0.07266355855634428, 0.01038050836519204, 0.025951270912980096, 0.3685080469643174, 0.02416032841500515, 0.0966413136600206, 0.08456114945251803, 0.6402487029976365, 0.1449619704900309, 0.15991170560419926, 0.15324871787069097, 0.0777348568909302, 0.035535934578710945, 0.06885087324625246, 0.0777348568909302, 0.3997792640104982, 0.028872946845202644, 0.9751021130525642, 0.2883724249139661, 0.22766244072155217, 0.4705023774912078, 0.5686359984009326, 0.4061685702863804, 0.5878847885241056, 0.2654963561076606, 0.01896402543626147, 0.012642683624174313, 0.10746281080548167, 0.9870066410105862, 0.969744118350736, 0.9673303726682497, 0.9420044949724101, 0.1502073583983318, 0.250345597330553, 0.0751036791991659, 0.250345597330553, 0.2253110375974977, 0.0060243296347873565, 0.0060243296347873565, 0.0030121648173936783, 0.025904617429585632, 0.032531380027851726, 0.0012048659269574713, 0.019880287794798276, 0.06385789412874597, 0.025904617429585632, 0.015060824086968391, 0.022290019648713216, 0.022290019648713216, 0.001807298890436207, 0.5144777508108402, 0.1879590846053655, 0.010241360379138505, 0.04096544151655402, 0.10616655377337739, 0.011986546393768414, 0.3887065759122043, 0.05137091311615035, 0.04109673049292028, 0.027397820328613518, 0.04794618557507366, 0.005137091311615035, 0.3150749337790555, 0.005137091311615035, 0.07914888431585729, 0.5088142563162255, 0.04522793389477559, 0.011306983473693898, 0.2939815703160414, 0.056534917368469495, 0.0138041507428889, 0.03822687898030772, 0.060525891718820564, 0.006371146496717954, 0.004247430997811969, 0.003185573248358977, 0.02123715498905985, 0.00955671974507693, 0.0138041507428889, 0.3599697770645644, 0.36740278131073534, 0.10300020169694026, 0.0059439555671641775, 0.011887911134328355, 0.1069912002089552, 0.06538351123880595, 0.029719777835820888, 0.44579666753731334, 0.33286151176119394, 0.20893377006050853, 0.7461920359303876, 0.05179741626400333, 0.09496192981733945, 0.06906322168533778, 0.04316451355333611, 0.04316451355333611, 0.11222773523867388, 0.5784044816147038, 0.06295602048178053, 0.6673338171068736, 0.15109444915627326, 0.037773612289068316, 0.06295602048178053, 0.024073589324247267, 0.005555443690210908, 0.005555443690210908, 0.016666331070632725, 0.1333306485650618, 0.2425877078058763, 0.0018518145634036358, 0.3536965816100945, 0.007407258253614543, 0.048147178648494535, 0.15925605245271268, 0.20560239844366718, 0.08656943092364934, 0.08656943092364934, 0.584343658734633, 0.032463536596368504, 0.031004428862929357, 0.9611372947508101, 0.8892294900027882, 0.05557684312517426, 0.19299838365008162, 0.32166397275013603, 0.38599676730016325, 0.11908754842003307, 0.8733086884135758, 0.9852017763225729, 0.9061412411784824, 0.08629916582652213, 0.08505888260319525, 0.02126472065079881, 0.8718535466827512, 0.14015936005016635, 0.20484829545793545, 0.5498559509660372, 0.08625191387702545, 0.04124589855058589, 0.03299671884046872, 0.018560654347763654, 0.3382163681148043, 0.12373769565175768, 0.002062294927529295, 0.42483275507103474, 0.01649835942023436, 0.007358654432498072, 0.06009567786540092, 0.014717308864996144, 0.012264424054163453, 0.006132212027081726, 0.13981443421746337, 0.05764279305456823, 0.0404725993787394, 0.08339808356831148, 0.25019425070493445, 0.01594375127041249, 0.014717308864996144, 0.29802550451617194, 0.006165453526116708, 0.0014997049117581181, 0.02882766108157272, 0.0386590599475426, 0.009164863349632945, 0.0024995081862635303, 0.0024995081862635303, 0.0004999016372527061, 0.0014997049117581181, 0.008831595591464474, 0.0064987212842851794, 0.0003332677581684707, 0.029660830476993895, 0.28894314633206414, 0.004832382493442825, 0.019996065490108243, 0.021662404280950596, 0.014163879722160006, 0.00016663387908423535, 0.007998426196043297, 0.0008331693954211768, 0.004499114735274355, 0.0006665355163369414, 0.005665551888864002, 0.1771318134665422, 0.003166043702600472, 0.2607820207668283, 0.04632421838541743, 0.0011664371535896475, 0.005498918009779767, 0.005158673611748166, 0.02966237326755195, 0.023214031252866744, 0.02708303646167787, 0.021924362849929706, 0.0038690052088111242, 0.7093176216153728, 0.17797423960531172, 0.0012896684029370415, 0.984552475787402, 0.23196942874742144, 0.6185851433264572, 0.1353155001026625, 0.03201056226090178, 0.12804224904360711, 0.38057001799072115, 0.0071134582802003955, 0.03912402054110217, 0.2596412272273144, 0.1493826238842083, 0.6776598216311099, 0.22588660721036996, 0.987369525431791, 0.04150896844310451, 0.9443290320806276, 0.2174445380157123, 0.3261668070235685, 0.06753959135336518, 0.026356913698874218, 0.019767685274155664, 0.2981625862185146, 0.044477291866850246, 0.015194063237823702, 0.5090011184670941, 0.015194063237823702, 0.45582189713471105, 0.20606817848126985, 0.7418454425325715, 0.00828391796671863, 0.050738997546151604, 0.03831312059607366, 0.041419589833593146, 0.007248428220878801, 0.20813343891380556, 0.009319407712558458, 0.0010354897458398288, 0.021745284662636404, 0.00828391796671863, 0.012425876950077944, 0.2857951698517927, 0.10147799509230321, 0.049703507800311776, 0.15428797213013448, 0.9843516107332961, 0.03772729573234798, 0.6722318148672913, 0.017148770787430902, 0.11318188719704395, 0.10289262472458541, 0.034297541574861805, 0.020578524944917083, 0.33096852854082504, 0.12193577367293554, 0.04645172330397544, 0.01161293082599386, 0.017419396238990793, 0.017419396238990793, 0.27290387441085573, 0.168387496976911, 0.006189253834021017, 0.9857793379277111, 0.007314572712933929, 0.6289519690386928, 0.3641300873381906, 0.8863550624744533, 0.10227173797782153, 0.07504505232564546, 0.0038816406375333855, 0.006469401062555643, 0.034934765737800466, 0.6831687522058758, 0.06857565126308982, 0.053049088712956265, 0.07504505232564546, 0.21800787602043237, 0.009909448910019653, 0.5351102411410613, 0.10900393801021618, 0.11891338692023584, 0.052334564575635796, 0.8766039566418996, 0.06541820571954475, 0.09535850327653121, 0.012714467103537495, 0.044500634862381226, 0.502221450589731, 0.044500634862381226, 0.02542893420707499, 0.2733610427260561, 0.8858933484056043, 0.07593371557762323, 0.001123306698612096, 0.8570830110410294, 0.001123306698612096, 0.04493226794448384, 0.04043904115003546, 0.05391872153338061, 0.7990954893894628, 0.1858361603231309, 0.06650107307212814, 0.06650107307212814, 0.3103383410032647, 0.0443340487147521, 0.48767453586227305, 0.46311434551174285, 0.044106128143975507, 0.48516740958373056, 0.022965056031799543, 0.590530012246274, 0.01312288916102831, 0.03936866748308493, 0.19028189283491048, 0.01312288916102831, 0.01312288916102831, 0.11482528015899772, 0.9940815548551633, 0.10931363956191228, 0.14054610800817294, 0.7339630084871254, 0.6545445725286391, 0.3366229230147287, 0.9909930065390368, 0.9967308609152431, 0.9719245414390313, 0.12129545772659922, 0.464965921285297, 0.08086363848439948, 0.3234545539375979, 0.16805054530902716, 0.6481949604776762, 0.012003610379216226, 0.16805054530902716, 0.014421762978214453, 0.28843525956428906, 0.05768705191285781, 0.317278785520718, 0.317278785520718, 0.8684372389610421, 0.1211772891573547, 0.016377504470604008, 0.016377504470604008, 0.028660632823557016, 0.14330316411778507, 0.4462869968239592, 0.008188752235302004, 0.1637750447060401, 0.1719637969413421, 0.9962912818934024, 0.9931880594797589, 0.7120529867334184, 0.2034437104952624, 0.03390728508254373, 0.8619846509085446, 0.05070497946520851, 0.21798479300137535, 0.7750570417826679, 0.5860296036454199, 0.012041704184494928, 0.012041704184494928, 0.03211121115865314, 0.04816681673797971, 0.008027802789663285, 0.29301480182270995, 0.008027802789663285, 0.9799215305564579, 0.016091820069833392, 0.014853987756769285, 0.3738253585453603, 0.3193607367705396, 0.04703762789643607, 0.012378323130641071, 0.16091820069833393, 0.03961063401805143, 0.014853987756769285, 0.46171979686900905, 0.5238743849090679, 0.10178468396991197, 0.3816925648871699, 0.13648400805056377, 0.01156644136021727, 0.04626576544086908, 0.2405819802925192, 0.002313288272043454, 0.07633851297743398, 0.6122338468474714, 0.0018896106384181214, 0.0056688319152543645, 0.022675327661017458, 0.0056688319152543645, 0.32123380853108063, 0.028344159576271823, 0.2023993990161189, 0.6611713701193217, 0.10794634614193008, 0.01349329326774126, 0.005856598664336791, 0.014966863253305132, 0.009110264588968341, 0.022124928287494544, 0.008459531404042032, 0.009760997773894652, 0.7053947724601202, 0.014966863253305132, 0.09891144410879914, 0.1099739082525464, 0.026419222700303682, 0.007205242554628277, 0.004803495036418851, 0.06004368795523564, 0.22336251919347658, 0.2641922270030368, 0.19934504401138234, 0.06244543547344507, 0.10567689080121473, 0.04563320284597909, 0.008115032150546063, 0.04869019290327638, 0.3246012860218425, 0.4382117361294874, 0.08115032150546063, 0.05680522505382244, 0.040575160752730315, 0.15945476463203212, 0.05798355077528441, 0.036239719234552756, 0.35514924849861695, 0.014495887693821102, 0.036239719234552756, 0.1304629892443899, 0.043487663081463304, 0.16670270847894267, 0.7591006185224638, 0.025952157898203893, 0.2141053026601821, 0.042039498281056735, 0.1436349524602772, 0.2872699049205544, 0.28026332187371156, 0.24172711511607622, 0.9486120721181857, 0.2327718576117369, 0.6983155728352107, 0.2553450064658576, 0.4085520103453722, 0.3064140077590291, 0.9274282902544003, 0.04416325191687621, 0.01766530076675048, 0.30668492896327854, 0.03315512745548957, 0.05802147304710675, 0.40615031132974727, 0.14919807354970308, 0.04973269118323436, 0.03228073471030416, 0.011298257148606456, 0.011298257148606456, 0.012912293884121663, 0.0064561469420608315, 0.01614036735515208, 0.48098294718353196, 0.4018951471432868, 0.00807018367757604, 0.014526330619636872, 0.10929197994275386, 0.837905179561113, 0.9300398146074181, 0.412958708771863, 0.049555045052623564, 0.5120687988771102, 0.8256012159730604, 0.1572573744710591, 0.9726605915610235, 0.19098353520861513, 0.19098353520861513, 0.11936470950538446, 0.4774588380215378, 0.1922421753438195, 0.5355317741720685, 0.2609000951094693, 0.5978999974145554, 0.23447058722139427, 0.164129411054976, 0.9590830960340001, 0.13479741444037688, 0.8537169581223869, 0.8981074423976297, 0.9299064564183324, 0.8813355644175627, 0.9273696063559559, 0.9655681331773694, 0.6806203711299301, 0.11836876019650959, 0.17755314029476438, 0.08309858059618992, 0.2215962149231731, 0.4154929029809496, 0.2215962149231731, 0.6564493389121484, 0.1641123347280371, 0.1641123347280371, 0.8890253178268699, 0.06173786929353263, 0.018521360788059788, 0.024695147717413053, 0.40327024783991394, 0.358462442524368, 0.13442341594663798, 0.5004968514232002, 0.20710214541649663, 0.2761361938886622, 0.059766998591106006, 0.8367379802754841, 0.20361001049786312, 0.7164055924924814, 0.060328891999366856, 0.015082222999841714, 0.1048853630765616, 0.01631550092302069, 0.020977072615312318, 0.20743994030697738, 0.5687117464595784, 0.03030021599989557, 0.05127728861520789, 0.24625683579514587, 0.012628555681802352, 0.025257111363604704, 0.7135133960218328, 0.9515333752743901, 0.9691734987324774, 0.16928031834456825, 0.4352922471717469, 0.3506520879994628, 0.012091451310326302, 0.012091451310326302, 0.002504466353647681, 0.030053596243772168, 0.022540197182829128, 0.045080394365658256, 0.8364917621183253, 0.06261165884119202, 0.0012507599420099693, 0.06879179681054831, 0.9280638769713971, 0.25704440820878094, 0.7197243429845865, 0.5564289199455187, 0.009761910876237168, 0.07077385385271948, 0.04148812122400797, 0.16107152945791328, 0.1561905740197947, 0.9936184346169591, 0.0008279209980911373, 0.002483762994273412, 0.037256444914101176, 0.084447941805296, 0.7219471103354717, 0.10680180875375671, 0.012418814971367058, 0.03311683992364549, 0.010647904363834124, 0.010647904363834124, 0.20231018291284836, 0.13487345527523226, 0.024845110182279626, 0.31943713091502374, 0.2378031974589621, 0.056788823273782, 0.004296459174338159, 0.025778755046028952, 0.025778755046028952, 0.07089157637657963, 0.008592918348676318, 0.03866813256904343, 0.7604732738578541, 0.006444688761507238, 0.04081636215621251, 0.017185836697352637, 0.9924010794453272, 0.8187325037933357, 0.0223087875693007, 0.15616151298510492, 0.09106803269376769, 0.005059335149653761, 0.20237340598615045, 0.3490941253261095, 0.21755141143511172, 0.12142404359169026, 0.015178005448961283, 0.018200039377910537, 0.45045097460328576, 0.004550009844477634, 0.0068250147667164515, 0.018200039377910537, 0.013650029533432903, 0.3389757334135837, 0.04777510336701516, 0.06825014766716452, 0.03185006891134344, 0.49551859193957015, 0.09910371838791403, 0.24775929596978508, 0.10901409022670544, 0.039641487355165615, 0.6530434001963632, 0.07081193496105144, 0.11801989160175239, 0.14949186269555303, 0.0026226642578167196, 0.7636793858925157, 0.17277814160464158, 0.062200130977670964, 0.01957578913806763, 0.29363683707101446, 0.34747025720070046, 0.01957578913806763, 0.16639420767357488, 0.15171236582002415, 0.9726735601915433, 0.9360691466110944, 0.839227799615021, 0.07717037237839273, 0.009646296547299092, 0.057877779283794555, 0.9683893279623574, 0.1146616006098359, 0.1411219699813365, 0.732070219278183, 0.12417568756034297, 0.2306119911834941, 0.6208784378017148, 0.35418673866574857, 0.01496563684503163, 0.009977091230021086, 0.10475945791522141, 0.019954182460042172, 0.019954182460042172, 0.009977091230021086, 0.10475945791522141, 0.23446164390549554, 0.11972509476025305, 0.26995374054868654, 0.16197224432921192, 0.34194140469500295, 0.21596299243894926, 0.0021194307403754335, 0.4779316319546603, 0.0021194307403754335, 0.0010597153701877168, 0.0031791461105631505, 0.0052985768509385845, 0.1896890512636013, 0.013776299812440319, 0.02649288425469292, 0.03391089184600694, 0.048746907028634975, 0.0021194307403754335, 0.17909189756172414, 0.013776299812440319, 0.1399088261970645, 0.16143326099661287, 0.06457330439864514, 0.08609773919819352, 0.5273486525889354, 0.9965884438244005, 0.9989611794997137, 0.9872105997805778, 0.1879577749356314, 0.11834378421873087, 0.6891785080973152, 0.34240502688205887, 0.0790165446650905, 0.2765579063278168, 0.05267769644339367, 0.11852481699763576, 0.0790165446650905, 0.03950827233254525, 0.9951238981189439, 0.12989861318162943, 0.15154838204523435, 0.6494930659081471, 0.06494930659081471, 0.5884800699883893, 0.13077334888630873, 0.26154669777261746, 0.06623307552559332, 0.04880331880833192, 0.4218001125577259, 0.055775221495236484, 0.0034859513434522802, 0.07320497821249788, 0.32419347494106204, 0.9487941825317023, 0.7749583019315521, 0.19373957548288803, 0.07999682167289815, 0.2327180266847946, 0.5308879983746877, 0.14544876667799664, 0.9817557141584418, 0.9892585654360088, 0.011340398727885486, 0.9866146893260374, 0.027137838957144986, 0.13026162699429594, 0.016282703374286993, 0.32022649969431083, 0.05970324570571897, 0.016282703374286993, 0.42335028773146177, 0.028260442194798722, 0.14130221097399362, 0.04239066329219808, 0.014130221097399361, 0.7630319392595655, 0.08618181550775375, 0.3102545358279135, 0.22407272032015976, 0.344727262031015, 0.3475743059798967, 0.5958416673941086, 0.9677347501926507, 0.062341711937338236, 0.5264411230264118, 0.17317142204816177, 0.23551313398550003, 0.22039463179609717, 0.2918739718380746, 0.09530578672263662, 0.38717975856071124, 0.11327452981516763, 0.8738320871455789, 0.5213776828313411, 0.0840931746502163, 0.24387020648562727, 0.1429583969053677, 0.27102899364677857, 0.3925247494194724, 0.3271039578495603, 0.10339077589831162, 0.5263530409368592, 0.1785840674607201, 0.0657941301171074, 0.11278993734361269, 0.9755358372722198, 0.009899056471910165, 0.6005427592958834, 0.002199790327091148, 0.007699266144819018, 0.08689171792010035, 0.007699266144819018, 0.19578133911111217, 0.054994758177278696, 0.03189695974282165, 0.9768836596371967, 0.9348456793056684, 0.06076496915486845, 0.12034895379118025, 0.15737940111154342, 0.36567566728858614, 0.018515223660181577, 0.10646253604604407, 0.10646253604604407, 0.07868970055577171, 0.03240164140531776, 0.004628805915045394, 0.01371463842024262, 0.08571649012651637, 0.7371618150880408, 0.16114700143785077, 0.0017981542771206968, 0.996177469524866, 0.9649791479796533, 0.0957934517927163, 0.88129975649299, 0.9960193433281529, 0.22437035957204857, 0.00521791533888485, 0.7670335548160729, 0.0017393051129616166, 0.023714412096524366, 0.010163319469939015, 0.05420437050634141, 0.3624917277611582, 0.060979916819634085, 0.05420437050634141, 0.016938865783231692, 0.05081659734969507, 0.02032663893987803, 0.3286139961946948, 0.016938865783231692, 0.4910798489049737, 0.143231622597284, 0.24553992445248685, 0.11253913204072313, 0.6748656970922431, 0.11472716850568133, 0.18896239518582808, 0.020245970912767294, 0.9625297397027809, 0.9968434151972542, 0.3267204160430471, 0.16336020802152354, 0.020420026002690442, 0.46966059806188015, 0.893802263848419, 0.0843209682875867, 0.07819329996776957, 0.14769845549467583, 0.052128866645179704, 0.14769845549467583, 0.5126005220109338, 0.052128866645179704, 0.8807861059650469, 0.09174855270469238, 0.11266880174416208, 0.8562828932556318, 0.012162925501165937, 0.077842723207462, 0.0036488776503497814, 0.004865170200466375, 0.018244388251748907, 0.006081462750582968, 0.01581180315151572, 0.8343766893799833, 0.007297755300699563, 0.0194606808018655, 0.03047300117375757, 0.7465885287570604, 0.015236500586878785, 0.1980745076294242, 0.06429680877645698, 0.9001553228703978, 0.076912649953551, 0.111096049932907, 0.803309899514866, 0.9182333077855076, 0.021888069458489687, 0.0641007748427198, 0.4971718634142657, 0.009380601196495579, 0.40649271851480845, 0.07862651715170259, 0.006290121372136207, 0.018870364116408623, 0.009435182058204311, 0.09749688126811122, 0.047175910291021556, 0.7359442005399363, 0.0031450606860681037, 0.09692104477891239, 0.8861352665500561, 0.04881006290470519, 0.12202515726176297, 0.03254004193647013, 0.016270020968235065, 0.13016016774588052, 0.05694507338882272, 0.5775857443723448, 0.8295618082457504, 0.15615281096390596, 0.9913403960704955, 0.9894786310835297, 0.06282497383690785, 0.5235414486408988, 0.3978915009670831, 0.10050707631750204, 0.5498328292663347, 0.017736542879559183, 0.05912180959853061, 0.07291689850485442, 0.011824361919706122, 0.13006798111676734, 0.05123890165205986, 0.007882907946470749, 0.014412338934380141, 0.01761508091979795, 0.012810967941671237, 0.04964250077397604, 0.06085209772293838, 0.03683153283230481, 0.0032027419854178093, 0.0016013709927089046, 0.32988242449803434, 0.12490693743129455, 0.3410920214469967, 0.0064054839708356185, 0.9781091510215765, 0.13787427087881382, 0.8567901118897716, 0.022927069406356606, 0.011463534703178303, 0.017195302054767454, 0.011463534703178303, 0.008597651027383727, 0.34390604109534906, 0.07164709189486439, 0.008597651027383727, 0.5015296432640507, 0.8264072803001696, 0.16528145606003392, 0.2652580737004241, 0.7234311100920657, 0.9817089947043445, 0.2903086763177112, 0.6773869114079928, 0.1246576952637335, 0.006560931329670184, 0.8496406071922888, 0.019682793989010555, 0.9461968295758416, 0.9750319150408348, 0.17843309957638093, 0.4541933443762423, 0.10543774065877054, 0.05677416804703029, 0.194654290446961, 0.32570317314892816, 0.031775919331602745, 0.059579848746755155, 0.015887959665801372, 0.12710367732641098, 0.08341178824545721, 0.32173118323247785, 0.031775919331602745, 0.05401132022172584, 0.7561584831041618, 0.10802264044345168, 0.9307663539735188, 0.03209539151632823, 0.713857216823712, 0.1744984307791296, 0.079317468535968, 0.018914664568046646, 0.018914664568046646, 0.09457332284023323, 0.8322452409940525, 0.2075119458063861, 0.2075119458063861, 0.08893369105987975, 0.44466845529939875, 0.993922787778337, 0.07192269648482705, 0.45551041107057133, 0.20378097337367665, 0.10788404472724057, 0.04794846432321803, 0.04794846432321803, 0.05993558040402255, 0.016480642664246346, 0.9723579171905344, 0.025050454247725753, 0.050100908495451506, 0.025050454247725753, 0.11523208953953845, 0.1202421803890836, 0.00501009084954515, 0.0701412718936321, 0.19539354313226087, 0.2304641790790769, 0.1603229071854448, 0.0009734721456792166, 0.016549026476546682, 0.004867360728396083, 0.0019469442913584332, 0.037965413681489445, 0.007787777165433733, 0.6541732818964335, 0.23071289852597432, 0.04380624655556475, 0.986806471716927, 0.9841651761606905, 0.0050730288783293305, 0.1674099529848679, 0.030438173269975985, 0.0050730288783293305, 0.010146057756658661, 0.13697177971489194, 0.4083788247055111, 0.2333593284031492, 0.956933375311494, 0.04239084279538401, 0.12038999353889057, 0.005086901135446081, 0.020347604541784324, 0.400169555988425, 0.21364984768873538, 0.1966935105705818, 0.9782983883804496, 0.19768658717425663, 0.03953731743485133, 0.11861195230455399, 0.6128284202401956, 0.6842172590845665, 0.04442969214834848, 0.19993361466756815, 0.06664453822252271, 0.48420705803358477, 0.003622496693518091, 0.006037494489196818, 0.003622496693518091, 0.008452492284875546, 0.16784234679967153, 0.20285981483701307, 0.12074988978393636, 0.13096895422956842, 0.8585742555049485], \"Term\": [\"abandoned\", \"abandoned\", \"abandoned\", \"accident\", \"ace\", \"achieve\", \"achieve\", \"aching\", \"aching\", \"aching\", \"aching\", \"acting\", \"acting\", \"acting\", \"acting\", \"acting\", \"acting\", \"acting\", \"action\", \"action\", \"action\", \"action\", \"action\", \"action\", \"add\", \"admit\", \"admit\", \"admit\", \"admit\", \"admit\", \"adore\", \"adore\", \"advance\", \"advance\", \"advice\", \"advice\", \"advice\", \"advice\", \"advice\", \"affair\", \"affair\", \"affection\", \"affection\", \"affection\", \"afraid\", \"afraid\", \"afraid\", \"afraid\", \"afraid\", \"afraid\", \"afraid\", \"afraid\", \"afraid\", \"afraid\", \"afternoon\", \"age\", \"age\", \"age\", \"age\", \"age\", \"age\", \"ago\", \"ago\", \"ago\", \"agree\", \"agree\", \"agree\", \"agreed\", \"ahead\", \"ahead\", \"ahead\", \"ahead\", \"ahead\", \"ahead\", \"ahead\", \"ahead\", \"aim\", \"aim\", \"aim\", \"air\", \"air\", \"air\", \"air\", \"air\", \"air\", \"air\", \"air\", \"air\", \"alarm\", \"alarm\", \"alive\", \"alive\", \"alive\", \"allegiance\", \"alley\", \"alley\", \"allow\", \"allow\", \"allow\", \"amaze\", \"amaze\", \"amaze\", \"amazing\", \"amazing\", \"amazing\", \"amazing\", \"amazing\", \"amazing\", \"amazing\", \"ambition\", \"ambulance\", \"ambulance\", \"amen\", \"american\", \"american\", \"angel\", \"angels\", \"angels\", \"anger\", \"anger\", \"anger\", \"angry\", \"angry\", \"animal\", \"animal\", \"animals\", \"answer\", \"answer\", \"answer\", \"answer\", \"answer\", \"answer\", \"answer\", \"anxious\", \"apart\", \"apart\", \"apart\", \"apart\", \"apologize\", \"apologize\", \"appeal\", \"appetite\", \"appetite\", \"appetite\", \"appetite\", \"applause\", \"argue\", \"argue\", \"argument\", \"arm\", \"arm\", \"arm\", \"arm\", \"armor\", \"arms\", \"arms\", \"arms\", \"arms\", \"arms\", \"arms\", \"arms\", \"arms\", \"arms\", \"arms\", \"army\", \"army\", \"arrive\", \"arrive\", \"art\", \"art\", \"art\", \"art\", \"ashes\", \"asked\", \"asked\", \"asked\", \"asked\", \"asked\", \"asleep\", \"asleep\", \"asleep\", \"asleep\", \"asleep\", \"asleep\", \"ass\", \"ass\", \"ass\", \"ass\", \"ass\", \"ass\", \"assault\", \"astray\", \"astray\", \"ate\", \"ate\", \"attack\", \"attack\", \"attempt\", \"attempt\", \"attempt\", \"attention\", \"attention\", \"attention\", \"attention\", \"attention\", \"attention\", \"attitude\", \"attitude\", \"aunt\", \"aunt\", \"authority\", \"automatic\", \"automatic\", \"automatic\", \"autumn\", \"avoid\", \"awake\", \"awake\", \"awful\", \"awful\", \"awful\", \"awful\", \"awful\", \"awhile\", \"awhile\", \"babe\", \"babies\", \"babies\", \"babies\", \"babies\", \"babies\", \"baby\", \"bad\", \"bad\", \"bad\", \"bad\", \"bad\", \"badge\", \"badly\", \"bail\", \"bait\", \"ball\", \"ball\", \"ball\", \"ball\", \"ballin\", \"balling\", \"balling\", \"balls\", \"balls\", \"banana\", \"band\", \"band\", \"band\", \"band\", \"band\", \"band\", \"band\", \"band\", \"bands\", \"bands\", \"bang\", \"bang\", \"bangin\", \"bank\", \"bank\", \"bank\", \"bank\", \"bar\", \"bar\", \"bar\", \"bar\", \"bare\", \"bare\", \"bare\", \"barely\", \"barely\", \"barely\", \"bark\", \"bars\", \"bars\", \"bars\", \"bars\", \"basketball\", \"bass\", \"bath\", \"bath\", \"bathroom\", \"bathroom\", \"bathroom\", \"bathroom\", \"bathroom\", \"battered\", \"battered\", \"battery\", \"battery\", \"battle\", \"battle\", \"battle\", \"battle\", \"bay\", \"bay\", \"bay\", \"beach\", \"beach\", \"bear\", \"beast\", \"beast\", \"beat\", \"beat\", \"beat\", \"beat\", \"beat\", \"beat\", \"beat\", \"beating\", \"beating\", \"beating\", \"beating\", \"beats\", \"beautiful\", \"bed\", \"bed\", \"bed\", \"bed\", \"bed\", \"bed\", \"bed\", \"bed\", \"bed\", \"bed\", \"bed\", \"bee\", \"beg\", \"beg\", \"begging\", \"begging\", \"begging\", \"begun\", \"begun\", \"begun\", \"believe\", \"believe\", \"believe\", \"believe\", \"believe\", \"believe\", \"believer\", \"believer\", \"bell\", \"bell\", \"bell\", \"bells\", \"belong\", \"belong\", \"belong\", \"belong\", \"belongs\", \"bend\", \"bend\", \"bend\", \"bend\", \"beneath\", \"beneath\", \"beneath\", \"beneath\", \"best\", \"best\", \"best\", \"best\", \"best\", \"best\", \"best\", \"best\", \"best\", \"best\", \"best\", \"best\", \"best\", \"best\", \"best\", \"best\", \"best\", \"better\", \"better\", \"better\", \"beware\", \"beware\", \"beware\", \"big\", \"big\", \"big\", \"big\", \"big\", \"big\", \"big\", \"big\", \"big\", \"big\", \"big\", \"biggest\", \"biggest\", \"biggest\", \"biggest\", \"biggest\", \"biggest\", \"bills\", \"bills\", \"bills\", \"bird\", \"bird\", \"birds\", \"birds\", \"birds\", \"birds\", \"birds\", \"birds\", \"birth\", \"birthday\", \"bit\", \"bit\", \"bit\", \"bit\", \"bitch\", \"bitch\", \"bitch\", \"bitches\", \"bite\", \"bite\", \"bite\", \"bite\", \"bitter\", \"bitter\", \"black\", \"black\", \"black\", \"black\", \"black\", \"black\", \"black\", \"black\", \"black\", \"blade\", \"blame\", \"blame\", \"blanket\", \"blanket\", \"blast\", \"blast\", \"blast\", \"blazing\", \"blazing\", \"blazing\", \"bleeding\", \"bleeding\", \"bleeding\", \"bless\", \"bless\", \"bless\", \"bless\", \"blessing\", \"blessing\", \"blessings\", \"blind\", \"blind\", \"blind\", \"blind\", \"blind\", \"blind\", \"blind\", \"blinded\", \"bling\", \"blink\", \"bliss\", \"block\", \"block\", \"block\", \"block\", \"block\", \"blonde\", \"blood\", \"blood\", \"blood\", \"blooded\", \"bloody\", \"bloody\", \"blow\", \"blow\", \"blow\", \"blow\", \"blow\", \"blow\", \"blow\", \"blow\", \"blow\", \"blowing\", \"blowing\", \"blowing\", \"blowing\", \"blowing\", \"blowing\", \"blows\", \"blows\", \"blows\", \"blue\", \"blue\", \"blue\", \"blue\", \"blue\", \"blue\", \"blue\", \"blue\", \"blue\", \"blue\", \"blue\", \"blues\", \"blues\", \"blunt\", \"blunt\", \"boat\", \"bodies\", \"bodies\", \"bodies\", \"bodies\", \"bodies\", \"bodies\", \"body\", \"body\", \"body\", \"body\", \"body\", \"bold\", \"bold\", \"bold\", \"bold\", \"bold\", \"bomb\", \"bomb\", \"bombs\", \"bon\", \"bones\", \"bones\", \"bones\", \"bones\", \"bones\", \"bones\", \"boo\", \"boo\", \"boogie\", \"books\", \"books\", \"boom\", \"boots\", \"boots\", \"boots\", \"boots\", \"booty\", \"booty\", \"booze\", \"bop\", \"border\", \"boring\", \"boring\", \"born\", \"born\", \"born\", \"bother\", \"bother\", \"bother\", \"bottle\", \"bottles\", \"bottles\", \"bought\", \"bought\", \"bought\", \"bought\", \"bought\", \"bought\", \"bought\", \"bought\", \"bought\", \"bought\", \"bought\", \"boulevard\", \"bounce\", \"bounce\", \"bounce\", \"bound\", \"bound\", \"bound\", \"bow\", \"box\", \"box\", \"box\", \"boy\", \"boy\", \"boy\", \"boyfriend\", \"boyfriend\", \"boyfriend\", \"boyfriend\", \"boyfriend\", \"boys\", \"boys\", \"boys\", \"boys\", \"boys\", \"brain\", \"brain\", \"brain\", \"brains\", \"brains\", \"brains\", \"brand\", \"brave\", \"brave\", \"brave\", \"bread\", \"bread\", \"bread\", \"bread\", \"bread\", \"bread\", \"break\", \"break\", \"break\", \"break\", \"break\", \"break\", \"break\", \"break\", \"breakfast\", \"breakfast\", \"breakfast\", \"breakfast\", \"breakfast\", \"breaking\", \"breaking\", \"breaking\", \"breaking\", \"breaking\", \"breaking\", \"breaks\", \"breaks\", \"breaks\", \"breaks\", \"breaks\", \"breath\", \"breath\", \"breath\", \"breath\", \"breath\", \"breath\", \"breath\", \"breathe\", \"breathe\", \"breathe\", \"breathe\", \"breathe\", \"breathe\", \"breathing\", \"breathing\", \"breathing\", \"breathing\", \"breeze\", \"breeze\", \"breeze\", \"breeze\", \"breeze\", \"brick\", \"brick\", \"bricks\", \"bricks\", \"bride\", \"bride\", \"bride\", \"bright\", \"bright\", \"bright\", \"bright\", \"bright\", \"bright\", \"brighter\", \"brighter\", \"brighter\", \"brighter\", \"bring\", \"bring\", \"bring\", \"bring\", \"bring\", \"bring\", \"bring\", \"bring\", \"bring\", \"bring\", \"bring\", \"bring\", \"bring\", \"bring\", \"broke\", \"broke\", \"broke\", \"broke\", \"broken\", \"broken\", \"broken\", \"broken\", \"broken\", \"broken\", \"broken\", \"broken\", \"brother\", \"brother\", \"brother\", \"brother\", \"brother\", \"brother\", \"brother\", \"brother\", \"brother\", \"brother\", \"brothers\", \"brown\", \"brown\", \"brown\", \"brown\", \"bruise\", \"bruise\", \"bubble\", \"bubble\", \"bubble\", \"bucks\", \"bucks\", \"bucks\", \"bucks\", \"bucks\", \"buddy\", \"buddy\", \"build\", \"build\", \"build\", \"build\", \"building\", \"building\", \"building\", \"built\", \"built\", \"bullet\", \"bullet\", \"bullet\", \"bully\", \"bum\", \"bump\", \"buried\", \"buried\", \"buried\", \"buried\", \"buried\", \"burn\", \"burned\", \"burned\", \"burning\", \"burning\", \"burning\", \"burning\", \"burns\", \"bury\", \"bury\", \"bury\", \"bus\", \"bus\", \"bus\", \"bus\", \"bus\", \"business\", \"business\", \"business\", \"business\", \"business\", \"buss\", \"bust\", \"bust\", \"bust\", \"bust\", \"busted\", \"busted\", \"busted\", \"busy\", \"busy\", \"busy\", \"busy\", \"busy\", \"busy\", \"butcher\", \"butter\", \"butter\", \"butterfly\", \"butterfly\", \"buy\", \"buy\", \"buy\", \"buy\", \"buy\", \"buy\", \"buzz\", \"bye\", \"cable\", \"cage\", \"cage\", \"cage\", \"cake\", \"cake\", \"cake\", \"cake\", \"called\", \"called\", \"called\", \"called\", \"called\", \"called\", \"called\", \"called\", \"calling\", \"calling\", \"calling\", \"calling\", \"calling\", \"calling\", \"calling\", \"calling\", \"camera\", \"camera\", \"candle\", \"candle\", \"candle\", \"candy\", \"candy\", \"candy\", \"candy\", \"cane\", \"cane\", \"captain\", \"car\", \"car\", \"car\", \"car\", \"car\", \"car\", \"car\", \"car\", \"car\", \"car\", \"car\", \"car\", \"car\", \"card\", \"card\", \"card\", \"card\", \"card\", \"card\", \"cards\", \"cards\", \"cards\", \"cards\", \"cards\", \"care\", \"care\", \"care\", \"care\", \"care\", \"care\", \"care\", \"care\", \"care\", \"care\", \"care\", \"care\", \"care\", \"careful\", \"carry\", \"carry\", \"carry\", \"carry\", \"carry\", \"cars\", \"cars\", \"cars\", \"cars\", \"cars\", \"cars\", \"cars\", \"cars\", \"cash\", \"cash\", \"cash\", \"cast\", \"cast\", \"cast\", \"cast\", \"cast\", \"cast\", \"cat\", \"cat\", \"cat\", \"cat\", \"cat\", \"cat\", \"cat\", \"cat\", \"catch\", \"catch\", \"catch\", \"catch\", \"catch\", \"catch\", \"catch\", \"catch\", \"catch\", \"catch\", \"catch\", \"catch\", \"catch\", \"catch\", \"catch\", \"catching\", \"catching\", \"caught\", \"caught\", \"caught\", \"caught\", \"caught\", \"caught\", \"caught\", \"caught\", \"caught\", \"celebrate\", \"celebrate\", \"celebration\", \"cement\", \"cemetery\", \"cemetery\", \"center\", \"center\", \"century\", \"chain\", \"chain\", \"chain\", \"chains\", \"chains\", \"chair\", \"chair\", \"chair\", \"chair\", \"chair\", \"chair\", \"chair\", \"challenge\", \"champagne\", \"champagne\", \"champion\", \"champion\", \"chance\", \"chance\", \"change\", \"change\", \"change\", \"change\", \"change\", \"changes\", \"changing\", \"chaos\", \"chaos\", \"charge\", \"charge\", \"charge\", \"charge\", \"charge\", \"charge\", \"chase\", \"chase\", \"chase\", \"chase\", \"chase\", \"chase\", \"chase\", \"cheap\", \"check\", \"check\", \"check\", \"check\", \"check\", \"checking\", \"checking\", \"checking\", \"checking\", \"checking\", \"cheek\", \"cheer\", \"cheer\", \"cheer\", \"cherry\", \"chick\", \"chick\", \"chick\", \"chick\", \"chicken\", \"chicken\", \"chicken\", \"chicken\", \"chicken\", \"chickens\", \"chickens\", \"chief\", \"chief\", \"child\", \"child\", \"child\", \"child\", \"child\", \"childhood\", \"children\", \"children\", \"children\", \"children\", \"children\", \"children\", \"children\", \"chill\", \"chill\", \"chill\", \"chill\", \"chill\", \"choices\", \"choir\", \"choose\", \"choose\", \"choose\", \"choose\", \"choose\", \"choose\", \"chrome\", \"chrome\", \"chrome\", \"circle\", \"circle\", \"circle\", \"circle\", \"circle\", \"circles\", \"circles\", \"cities\", \"cities\", \"city\", \"city\", \"city\", \"city\", \"claim\", \"claim\", \"claim\", \"claim\", \"claim\", \"clap\", \"clap\", \"clash\", \"class\", \"class\", \"class\", \"class\", \"class\", \"class\", \"class\", \"clean\", \"clean\", \"clean\", \"clean\", \"clean\", \"clean\", \"clean\", \"clean\", \"clean\", \"clean\", \"clear\", \"clear\", \"clear\", \"clear\", \"clear\", \"clear\", \"clear\", \"clear\", \"clear\", \"clear\", \"clearly\", \"clearly\", \"clearly\", \"clearly\", \"click\", \"click\", \"climb\", \"climb\", \"climb\", \"climb\", \"climbing\", \"climbing\", \"climbing\", \"close\", \"close\", \"close\", \"close\", \"close\", \"close\", \"close\", \"close\", \"close\", \"close\", \"close\", \"close\", \"close\", \"closer\", \"closer\", \"closer\", \"closer\", \"closer\", \"closer\", \"closer\", \"closing\", \"closing\", \"clothes\", \"clothes\", \"clothes\", \"clothes\", \"clothes\", \"clothes\", \"clothes\", \"clothes\", \"clothes\", \"clothes\", \"cloud\", \"cloud\", \"cloud\", \"cloud\", \"clouds\", \"clouds\", \"clouds\", \"clouds\", \"clown\", \"clown\", \"clown\", \"clown\", \"clown\", \"clown\", \"club\", \"club\", \"coast\", \"coast\", \"coast\", \"coat\", \"coat\", \"coat\", \"coat\", \"coat\", \"coat\", \"cock\", \"cock\", \"cocky\", \"cocky\", \"code\", \"code\", \"code\", \"coffee\", \"coffee\", \"coffee\", \"coffin\", \"coin\", \"cold\", \"cold\", \"cold\", \"cold\", \"cold\", \"cold\", \"cold\", \"cold\", \"cold\", \"cold\", \"cold\", \"cold\", \"collision\", \"coma\", \"combat\", \"comfort\", \"comfort\", \"comfort\", \"coming\", \"coming\", \"coming\", \"coming\", \"coming\", \"coming\", \"coming\", \"coming\", \"coming\", \"coming\", \"coming\", \"coming\", \"coming\", \"command\", \"command\", \"command\", \"command\", \"committed\", \"committed\", \"common\", \"common\", \"common\", \"company\", \"company\", \"company\", \"compass\", \"compassion\", \"complain\", \"complain\", \"complete\", \"complete\", \"complete\", \"concerned\", \"concerned\", \"confused\", \"confused\", \"confused\", \"confused\", \"confused\", \"confused\", \"confusion\", \"confusion\", \"congregation\", \"constant\", \"constantly\", \"content\", \"continue\", \"continue\", \"control\", \"control\", \"control\", \"control\", \"control\", \"conversation\", \"conversation\", \"conversation\", \"conversation\", \"convince\", \"convince\", \"cool\", \"cool\", \"cool\", \"cool\", \"cop\", \"cop\", \"corn\", \"corner\", \"corner\", \"corner\", \"corner\", \"corner\", \"corner\", \"corner\", \"cost\", \"cost\", \"cost\", \"cost\", \"count\", \"count\", \"count\", \"count\", \"count\", \"count\", \"count\", \"country\", \"county\", \"coupe\", \"couple\", \"couple\", \"couple\", \"couple\", \"couple\", \"court\", \"court\", \"court\", \"court\", \"cover\", \"cover\", \"covered\", \"covered\", \"covered\", \"covered\", \"covered\", \"cow\", \"cow\", \"coward\", \"cowboy\", \"cowboy\", \"cowboy\", \"crack\", \"crack\", \"crack\", \"crack\", \"cracked\", \"cracked\", \"crap\", \"crash\", \"crash\", \"crash\", \"crave\", \"crave\", \"craving\", \"craving\", \"crawl\", \"crawl\", \"crawling\", \"crazy\", \"crazy\", \"crazy\", \"crazy\", \"crazy\", \"create\", \"creation\", \"creatures\", \"crew\", \"crew\", \"crew\", \"crew\", \"cried\", \"cried\", \"cried\", \"cried\", \"cried\", \"cried\", \"cried\", \"cries\", \"cries\", \"criminal\", \"criminal\", \"criminal\", \"crippled\", \"crooked\", \"crooked\", \"crooked\", \"crooked\", \"cross\", \"cross\", \"cross\", \"cross\", \"cross\", \"cross\", \"crossed\", \"crossed\", \"crowd\", \"crowd\", \"crowd\", \"crowd\", \"crowd\", \"crowd\", \"crowd\", \"crowd\", \"crowd\", \"crowded\", \"crown\", \"crown\", \"crown\", \"crown\", \"crown\", \"crown\", \"cruel\", \"cruel\", \"cruel\", \"cruel\", \"crush\", \"crush\", \"crush\", \"cryin\", \"cryin\", \"crying\", \"crying\", \"crying\", \"crying\", \"crying\", \"crying\", \"crying\", \"crystal\", \"crystal\", \"crystal\", \"culture\", \"culture\", \"cum\", \"cum\", \"cup\", \"cup\", \"cup\", \"cup\", \"cure\", \"cure\", \"cure\", \"curse\", \"curse\", \"cursed\", \"cut\", \"cut\", \"cut\", \"cut\", \"cut\", \"cut\", \"cut\", \"cut\", \"cut\", \"cut\", \"cute\", \"cute\", \"cute\", \"damn\", \"damn\", \"damn\", \"damn\", \"damn\", \"damned\", \"dance\", \"danced\", \"danced\", \"dancer\", \"dancing\", \"dancing\", \"dancing\", \"dancing\", \"dancing\", \"dancing\", \"danger\", \"danger\", \"dangerous\", \"dangerous\", \"dangerous\", \"dangerous\", \"dare\", \"dare\", \"dare\", \"dark\", \"dark\", \"dark\", \"dark\", \"dark\", \"dark\", \"darkness\", \"darkness\", \"darkness\", \"darkness\", \"darkness\", \"darkness\", \"darkness\", \"darling\", \"dawn\", \"dawn\", \"dawn\", \"dawn\", \"dawn\", \"day\", \"day\", \"day\", \"day\", \"day\", \"day\", \"day\", \"day\", \"day\", \"day\", \"day\", \"day\", \"day\", \"day\", \"day\", \"day\", \"day\", \"day\", \"day\", \"day\", \"day\", \"daylight\", \"daylight\", \"days\", \"days\", \"dead\", \"dead\", \"dead\", \"dead\", \"dead\", \"dead\", \"dead\", \"dead\", \"dead\", \"deal\", \"deal\", \"deal\", \"deal\", \"deal\", \"deal\", \"deal\", \"deal\", \"dear\", \"death\", \"death\", \"death\", \"death\", \"death\", \"death\", \"death\", \"death\", \"decay\", \"deceased\", \"deceased\", \"deceit\", \"deceive\", \"deceive\", \"deceive\", \"decide\", \"decide\", \"decide\", \"decide\", \"decide\", \"decided\", \"decided\", \"decision\", \"decision\", \"decisions\", \"decisions\", \"deck\", \"dedicated\", \"dedicated\", \"dee\", \"deep\", \"deep\", \"deep\", \"deep\", \"deep\", \"deep\", \"deep\", \"deeper\", \"deeper\", \"defeated\", \"defeated\", \"defense\", \"defense\", \"degrees\", \"degrees\", \"delicious\", \"deliver\", \"deliver\", \"demon\", \"demon\", \"demons\", \"den\", \"den\", \"den\", \"denied\", \"depression\", \"deserve\", \"deserve\", \"deserve\", \"deserve\", \"deserve\", \"desire\", \"desperate\", \"desperate\", \"despise\", \"despise\", \"destination\", \"destined\", \"destroy\", \"destroy\", \"destroy\", \"destroy\", \"destroy\", \"destroying\", \"deuce\", \"devil\", \"devil\", \"dey\", \"dial\", \"dial\", \"diamond\", \"diamond\", \"diamond\", \"diamond\", \"diamond\", \"diamond\", \"diamond\", \"dice\", \"dice\", \"dice\", \"dice\", \"dick\", \"dick\", \"dick\", \"die\", \"die\", \"die\", \"die\", \"die\", \"die\", \"die\", \"die\", \"died\", \"died\", \"died\", \"died\", \"died\", \"died\", \"died\", \"died\", \"died\", \"dies\", \"difficult\", \"dig\", \"dig\", \"dig\", \"dig\", \"dig\", \"dime\", \"dime\", \"dime\", \"dime\", \"ding\", \"dip\", \"direction\", \"direction\", \"direction\", \"direction\", \"direction\", \"direction\", \"direction\", \"dirt\", \"dirty\", \"dirty\", \"dirty\", \"dirty\", \"dis\", \"disagree\", \"disagree\", \"disappear\", \"disappear\", \"disappear\", \"disappear\", \"disappear\", \"disaster\", \"disaster\", \"disaster\", \"disco\", \"disease\", \"disease\", \"disease\", \"disgrace\", \"disgusting\", \"diss\", \"diss\", \"distance\", \"distance\", \"distance\", \"distance\", \"distance\", \"distant\", \"distant\", \"divorce\", \"divorce\", \"doctor\", \"doctor\", \"doctor\", \"doctor\", \"doctor\", \"dog\", \"dog\", \"dog\", \"dogg\", \"doll\", \"doll\", \"doom\", \"door\", \"door\", \"door\", \"door\", \"door\", \"door\", \"door\", \"door\", \"door\", \"door\", \"door\", \"door\", \"door\", \"door\", \"door\", \"door\", \"door\", \"door\", \"dope\", \"dope\", \"double\", \"double\", \"double\", \"double\", \"double\", \"double\", \"downtown\", \"draft\", \"drag\", \"drag\", \"drag\", \"drag\", \"drag\", \"drag\", \"dragon\", \"drama\", \"drama\", \"drama\", \"drama\", \"drama\", \"drama\", \"drawn\", \"dream\", \"dream\", \"dream\", \"dream\", \"dreamed\", \"dreaming\", \"dreaming\", \"dreaming\", \"dreaming\", \"dreams\", \"dreams\", \"dreams\", \"dreams\", \"dreams\", \"dreams\", \"dreams\", \"dreams\", \"dress\", \"dress\", \"dress\", \"dress\", \"dress\", \"dress\", \"dress\", \"drift\", \"drift\", \"drink\", \"drink\", \"drinking\", \"drinking\", \"drinking\", \"drinking\", \"drinking\", \"drinking\", \"drinks\", \"drinks\", \"drip\", \"drive\", \"drive\", \"drive\", \"drive\", \"drive\", \"drive\", \"drive\", \"drive\", \"drive\", \"driven\", \"driver\", \"drives\", \"drives\", \"drives\", \"drives\", \"driving\", \"driving\", \"driving\", \"driving\", \"dro\", \"drop\", \"drop\", \"drop\", \"drop\", \"drop\", \"drop\", \"drop\", \"drop\", \"drop\", \"dropped\", \"dropped\", \"dropped\", \"dropped\", \"dropped\", \"dropped\", \"dropping\", \"dropping\", \"drops\", \"drops\", \"drops\", \"drove\", \"drove\", \"drove\", \"drove\", \"drove\", \"drown\", \"drown\", \"drugs\", \"drugs\", \"drugs\", \"drum\", \"drum\", \"drums\", \"drums\", \"drunk\", \"drunk\", \"drunk\", \"drunk\", \"dry\", \"dry\", \"dry\", \"dry\", \"dude\", \"dude\", \"dude\", \"dude\", \"dudes\", \"dudes\", \"dudes\", \"dull\", \"dum\", \"dumb\", \"dumb\", \"dumb\", \"dumb\", \"dumb\", \"dumb\", \"dungeon\", \"dust\", \"dust\", \"dust\", \"dust\", \"dying\", \"dying\", \"dying\", \"dying\", \"dying\", \"dying\", \"dying\", \"dying\", \"dying\", \"dying\", \"eager\", \"eager\", \"eagle\", \"eagle\", \"ear\", \"ear\", \"ear\", \"ear\", \"ear\", \"early\", \"early\", \"earth\", \"earth\", \"earth\", \"earth\", \"earthquake\", \"easy\", \"easy\", \"eat\", \"eat\", \"eat\", \"eat\", \"eat\", \"eat\", \"eat\", \"eat\", \"eating\", \"eating\", \"eating\", \"eating\", \"eating\", \"echo\", \"ecstasy\", \"ecstasy\", \"ecstasy\", \"ecstasy\", \"edge\", \"electric\", \"embrace\", \"embrace\", \"emergency\", \"ended\", \"ended\", \"endless\", \"endless\", \"endless\", \"endless\", \"enemy\", \"enemy\", \"enemy\", \"engine\", \"engine\", \"engine\", \"enjoy\", \"enjoy\", \"enjoy\", \"enjoy\", \"enter\", \"enter\", \"enter\", \"equal\", \"equal\", \"equal\", \"equal\", \"erase\", \"erase\", \"erase\", \"erase\", \"escape\", \"escape\", \"escape\", \"escaped\", \"est\", \"esteem\", \"eternity\", \"eternity\", \"eternity\", \"eternity\", \"evening\", \"evening\", \"evening\", \"evening\", \"evening\", \"everlasting\", \"everlasting\", \"evil\", \"evil\", \"exchange\", \"excite\", \"excite\", \"excited\", \"excited\", \"excited\", \"exhausted\", \"exist\", \"exist\", \"exist\", \"exist\", \"exist\", \"exist\", \"exit\", \"expect\", \"expect\", \"expect\", \"expect\", \"expect\", \"expecting\", \"explain\", \"explain\", \"explain\", \"explain\", \"explain\", \"explain\", \"explain\", \"explode\", \"explode\", \"explore\", \"expose\", \"expose\", \"extra\", \"extra\", \"extra\", \"extra\", \"eye\", \"eye\", \"eye\", \"eye\", \"eye\", \"eye\", \"eye\", \"eye\", \"eye\", \"eye\", \"eye\", \"eyed\", \"eyed\", \"eyed\", \"eyed\", \"eyes\", \"eyes\", \"eyes\", \"eyes\", \"eyes\", \"eyes\", \"eyes\", \"eyes\", \"eyes\", \"eyes\", \"eyes\", \"eyes\", \"eyes\", \"eyes\", \"eyes\", \"eyes\", \"eyes\", \"eyes\", \"eyes\", \"face\", \"face\", \"face\", \"face\", \"face\", \"face\", \"face\", \"face\", \"face\", \"face\", \"face\", \"face\", \"face\", \"face\", \"face\", \"face\", \"face\", \"face\", \"face\", \"fact\", \"fact\", \"fact\", \"fact\", \"fact\", \"fact\", \"fact\", \"fade\", \"fade\", \"fade\", \"fade\", \"fade\", \"fade\", \"fades\", \"fair\", \"fair\", \"fair\", \"fair\", \"faith\", \"faith\", \"faith\", \"faith\", \"faith\", \"faith\", \"faithful\", \"faithful\", \"faithful\", \"fake\", \"fake\", \"fake\", \"fall\", \"fall\", \"fall\", \"fall\", \"fall\", \"fall\", \"fall\", \"fallen\", \"fallen\", \"falling\", \"falling\", \"falling\", \"falls\", \"falls\", \"falls\", \"falls\", \"falls\", \"false\", \"fame\", \"fame\", \"fame\", \"fame\", \"fame\", \"fame\", \"family\", \"family\", \"family\", \"family\", \"family\", \"famous\", \"famous\", \"famous\", \"fancy\", \"fancy\", \"fancy\", \"fancy\", \"fantasy\", \"fantasy\", \"fantasy\", \"fantasy\", \"fashion\", \"fashion\", \"fashion\", \"fast\", \"fast\", \"fast\", \"fast\", \"fast\", \"fast\", \"fast\", \"fast\", \"fast\", \"faster\", \"faster\", \"faster\", \"faster\", \"fat\", \"fat\", \"fat\", \"fat\", \"fate\", \"fate\", \"fate\", \"father\", \"father\", \"father\", \"father\", \"fathers\", \"favorite\", \"favorite\", \"favorite\", \"favorite\", \"favorite\", \"favorite\", \"favorite\", \"favorite\", \"favorite\", \"favorite\", \"fear\", \"fear\", \"fear\", \"fear\", \"fear\", \"fearing\", \"feat\", \"feat\", \"feat\", \"feat\", \"fed\", \"fed\", \"fed\", \"fed\", \"fed\", \"fed\", \"fed\", \"feds\", \"feed\", \"feed\", \"feed\", \"feed\", \"feed\", \"feed\", \"feed\", \"feed\", \"feel\", \"feel\", \"feel\", \"feel\", \"feel\", \"feel\", \"feel\", \"feel\", \"feelin\", \"feelin\", \"feeling\", \"feeling\", \"feeling\", \"feeling\", \"feeling\", \"feeling\", \"feeling\", \"feeling\", \"feeling\", \"feeling\", \"feeling\", \"feeling\", \"feeling\", \"feeling\", \"feeling\", \"feels\", \"feels\", \"feels\", \"feels\", \"feels\", \"feels\", \"feels\", \"feels\", \"feet\", \"feet\", \"feet\", \"feet\", \"feet\", \"feet\", \"feet\", \"feet\", \"feet\", \"feet\", \"feet\", \"fellas\", \"fellas\", \"fellas\", \"fellas\", \"felt\", \"felt\", \"felt\", \"felt\", \"felt\", \"felt\", \"felt\", \"felt\", \"felt\", \"felt\", \"felt\", \"female\", \"female\", \"female\", \"female\", \"fence\", \"fence\", \"fence\", \"fever\", \"fields\", \"fields\", \"fiend\", \"fiend\", \"fiend\", \"fight\", \"fight\", \"fight\", \"fight\", \"fight\", \"fight\", \"fight\", \"fight\", \"fight\", \"fight\", \"fight\", \"fighting\", \"figure\", \"figure\", \"figure\", \"figure\", \"figure\", \"figure\", \"figure\", \"figure\", \"figure\", \"filled\", \"filled\", \"filled\", \"filled\", \"filled\", \"filled\", \"filled\", \"filled\", \"filled\", \"final\", \"finally\", \"finally\", \"finding\", \"finding\", \"fine\", \"fine\", \"fine\", \"fine\", \"fine\", \"finest\", \"finest\", \"finest\", \"finest\", \"finest\", \"finest\", \"finger\", \"finger\", \"finger\", \"finger\", \"fingers\", \"fingers\", \"fingers\", \"fingers\", \"fingers\", \"fingers\", \"fingers\", \"fingers\", \"fingers\", \"fingers\", \"fingers\", \"fires\", \"fires\", \"fires\", \"fireworks\", \"fish\", \"fish\", \"fishing\", \"fist\", \"fist\", \"fist\", \"fist\", \"fit\", \"fit\", \"fit\", \"fit\", \"fit\", \"fit\", \"fit\", \"fit\", \"fit\", \"fits\", \"fitting\", \"fixed\", \"fixed\", \"fixed\", \"flame\", \"flame\", \"flame\", \"flame\", \"flames\", \"flames\", \"flames\", \"flames\", \"flash\", \"flash\", \"flash\", \"flash\", \"flash\", \"flashing\", \"flesh\", \"flesh\", \"flesh\", \"flesh\", \"flesh\", \"flew\", \"flew\", \"flew\", \"flip\", \"flip\", \"flirt\", \"floating\", \"floating\", \"floating\", \"floating\", \"floating\", \"flood\", \"flood\", \"flood\", \"floor\", \"floor\", \"floor\", \"floor\", \"floor\", \"floor\", \"floor\", \"floor\", \"floor\", \"floor\", \"floor\", \"floor\", \"floor\", \"flow\", \"flow\", \"flow\", \"flow\", \"flow\", \"flow\", \"flow\", \"flow\", \"flower\", \"flower\", \"flower\", \"flowers\", \"flowers\", \"flowers\", \"flowers\", \"flowers\", \"flowers\", \"flowers\", \"flowing\", \"flowing\", \"flows\", \"flows\", \"flows\", \"flows\", \"fly\", \"fly\", \"fly\", \"fly\", \"flying\", \"flying\", \"flying\", \"flying\", \"flying\", \"folks\", \"folks\", \"folks\", \"folks\", \"folks\", \"folks\", \"folks\", \"follow\", \"follow\", \"follow\", \"follow\", \"follow\", \"food\", \"food\", \"fool\", \"fool\", \"fool\", \"fool\", \"fool\", \"fool\", \"fool\", \"fool\", \"fool\", \"fool\", \"fool\", \"foolish\", \"foolish\", \"fools\", \"fools\", \"fools\", \"fools\", \"fools\", \"fools\", \"foot\", \"foot\", \"foot\", \"foot\", \"football\", \"forced\", \"forced\", \"forced\", \"forces\", \"foreign\", \"forest\", \"forever\", \"forever\", \"forever\", \"forget\", \"forget\", \"forget\", \"forget\", \"forget\", \"forgive\", \"forgiving\", \"forgot\", \"forgot\", \"forgot\", \"forgot\", \"form\", \"form\", \"form\", \"forsaken\", \"fortune\", \"fortune\", \"fortune\", \"fortune\", \"fortune\", \"fought\", \"fought\", \"fought\", \"fought\", \"foul\", \"foul\", \"fragile\", \"fraud\", \"freak\", \"freaks\", \"freaks\", \"freaky\", \"free\", \"free\", \"free\", \"free\", \"free\", \"free\", \"free\", \"free\", \"free\", \"freedom\", \"freedom\", \"freeze\", \"freeze\", \"freeze\", \"freezer\", \"french\", \"french\", \"fresh\", \"fresh\", \"fresh\", \"fresh\", \"fresh\", \"friend\", \"friend\", \"friend\", \"friend\", \"friend\", \"friend\", \"friend\", \"friend\", \"friend\", \"friend\", \"friend\", \"friendly\", \"friendly\", \"friends\", \"friends\", \"friends\", \"friends\", \"friends\", \"friends\", \"friends\", \"friends\", \"friends\", \"friends\", \"friends\", \"fright\", \"fright\", \"fright\", \"frightened\", \"fruit\", \"fruit\", \"fruit\", \"fruit\", \"fuck\", \"fuck\", \"fuck\", \"fuck\", \"fucked\", \"fucked\", \"fucked\", \"fucker\", \"fucker\", \"fucking\", \"fucking\", \"fulfill\", \"fun\", \"fun\", \"fun\", \"fun\", \"funk\", \"funky\", \"funny\", \"funny\", \"funny\", \"funny\", \"funny\", \"funny\", \"funny\", \"fuse\", \"fuse\", \"fuse\", \"future\", \"future\", \"future\", \"future\", \"future\", \"gain\", \"gain\", \"gain\", \"gain\", \"gain\", \"gambling\", \"game\", \"game\", \"game\", \"game\", \"game\", \"game\", \"games\", \"games\", \"games\", \"games\", \"games\", \"gang\", \"gang\", \"gang\", \"gangsta\", \"gangsta\", \"gangstas\", \"gangster\", \"garden\", \"gat\", \"gate\", \"gate\", \"gate\", \"gates\", \"gates\", \"gay\", \"gay\", \"general\", \"general\", \"generation\", \"gentle\", \"gentle\", \"gentle\", \"gentle\", \"gentleman\", \"gga\", \"ggas\", \"ghetto\", \"ghetto\", \"ghostly\", \"ghosts\", \"ghosts\", \"gift\", \"gift\", \"gift\", \"gift\", \"gift\", \"gifts\", \"girl\", \"girlfriend\", \"girlfriend\", \"girlfriend\", \"girlfriend\", \"girlfriend\", \"girls\", \"girls\", \"girls\", \"glass\", \"glass\", \"glass\", \"glass\", \"glass\", \"glass\", \"glass\", \"glass\", \"glasses\", \"glasses\", \"glasses\", \"glasses\", \"glitter\", \"glitter\", \"glock\", \"glory\", \"glove\", \"glow\", \"glow\", \"glow\", \"god\", \"god\", \"god\", \"god\", \"god\", \"god\", \"god\", \"goddamn\", \"goddamn\", \"goddamn\", \"gold\", \"gold\", \"gold\", \"gold\", \"gold\", \"gold\", \"golden\", \"good\", \"good\", \"good\", \"good\", \"good\", \"good\", \"goodbye\", \"goodbye\", \"goodbye\", \"goodbye\", \"goodbye\", \"goodbye\", \"goodbye\", \"goodness\", \"gorgeous\", \"gospel\", \"grab\", \"grab\", \"grab\", \"grab\", \"grab\", \"grace\", \"grace\", \"grace\", \"grass\", \"grass\", \"grass\", \"grass\", \"grass\", \"grave\", \"grave\", \"grave\", \"grave\", \"gray\", \"gray\", \"gray\", \"greasy\", \"great\", \"great\", \"great\", \"great\", \"great\", \"great\", \"great\", \"greed\", \"greed\", \"greed\", \"greedy\", \"greedy\", \"green\", \"green\", \"green\", \"green\", \"green\", \"green\", \"green\", \"grey\", \"grey\", \"grey\", \"grey\", \"grey\", \"grief\", \"grief\", \"grief\", \"grim\", \"grind\", \"grind\", \"grind\", \"grind\", \"grip\", \"grip\", \"grip\", \"grip\", \"groan\", \"groan\", \"groove\", \"groove\", \"groove\", \"ground\", \"ground\", \"ground\", \"ground\", \"ground\", \"ground\", \"ground\", \"ground\", \"ground\", \"ground\", \"ground\", \"grow\", \"grow\", \"grow\", \"grow\", \"grow\", \"grow\", \"grow\", \"grow\", \"grow\", \"growing\", \"growing\", \"grown\", \"grown\", \"grown\", \"grown\", \"grown\", \"grown\", \"guard\", \"guard\", \"guard\", \"gucci\", \"guess\", \"guess\", \"guess\", \"guess\", \"guess\", \"guess\", \"guess\", \"guilty\", \"guilty\", \"guilty\", \"guilty\", \"guilty\", \"guitar\", \"gun\", \"gun\", \"gun\", \"guns\", \"guns\", \"guns\", \"guns\", \"guy\", \"guy\", \"guy\", \"guy\", \"guy\", \"guy\", \"guy\", \"guys\", \"guys\", \"guys\", \"gypsy\", \"haffi\", \"hail\", \"hail\", \"hail\", \"hair\", \"hair\", \"hair\", \"hair\", \"hair\", \"hair\", \"hair\", \"hair\", \"half\", \"half\", \"half\", \"half\", \"half\", \"half\", \"half\", \"half\", \"half\", \"hand\", \"hand\", \"hand\", \"hand\", \"hand\", \"hand\", \"hand\", \"hand\", \"hand\", \"hand\", \"handle\", \"handle\", \"handle\", \"handle\", \"handle\", \"handle\", \"handle\", \"hands\", \"hands\", \"hands\", \"hands\", \"hands\", \"hands\", \"hands\", \"hands\", \"handsome\", \"hang\", \"hang\", \"hang\", \"hang\", \"hang\", \"hang\", \"hang\", \"hang\", \"hang\", \"hanging\", \"hanging\", \"hanging\", \"hanging\", \"hanging\", \"hanging\", \"hanging\", \"hanging\", \"hanging\", \"hanging\", \"hanging\", \"hanging\", \"happen\", \"happen\", \"happen\", \"happen\", \"happen\", \"happening\", \"happening\", \"happening\", \"happening\", \"happening\", \"happily\", \"happiness\", \"happiness\", \"happy\", \"harbor\", \"harbor\", \"hard\", \"hard\", \"hard\", \"hard\", \"hard\", \"hard\", \"hard\", \"hard\", \"hard\", \"hard\", \"hard\", \"hard\", \"hard\", \"harder\", \"harder\", \"harder\", \"harm\", \"harm\", \"harm\", \"harmony\", \"harmony\", \"haste\", \"haste\", \"hate\", \"hate\", \"hate\", \"hate\", \"hate\", \"hate\", \"hate\", \"hate\", \"hate\", \"hater\", \"hater\", \"haters\", \"hatred\", \"hatred\", \"haunt\", \"haunted\", \"haunted\", \"haven\", \"haze\", \"haze\", \"head\", \"head\", \"head\", \"head\", \"head\", \"head\", \"head\", \"head\", \"head\", \"head\", \"head\", \"head\", \"head\", \"head\", \"head\", \"head\", \"headed\", \"headed\", \"heading\", \"heading\", \"heading\", \"heading\", \"heads\", \"heal\", \"heal\", \"heal\", \"healing\", \"health\", \"hear\", \"hear\", \"hear\", \"hear\", \"hear\", \"hear\", \"hear\", \"hear\", \"hear\", \"hear\", \"hear\", \"hear\", \"heard\", \"heard\", \"heard\", \"heard\", \"heard\", \"heard\", \"heard\", \"heard\", \"heard\", \"heard\", \"heard\", \"heard\", \"heard\", \"heard\", \"hearing\", \"hearing\", \"hearing\", \"heart\", \"heart\", \"heart\", \"heart\", \"heart\", \"heart\", \"heart\", \"heart\", \"heart\", \"heart\", \"heartache\", \"heartache\", \"heartbeat\", \"heartbeat\", \"heartbreak\", \"heartless\", \"hearts\", \"hearts\", \"hearts\", \"hearts\", \"hearts\", \"heat\", \"heat\", \"heat\", \"heat\", \"heat\", \"heat\", \"heat\", \"heat\", \"heaven\", \"heavens\", \"heavy\", \"heavy\", \"heavy\", \"heavy\", \"heavy\", \"heavy\", \"hell\", \"hell\", \"hell\", \"hell\", \"hell\", \"hell\", \"hell\", \"hell\", \"hell\", \"hello\", \"hello\", \"help\", \"help\", \"help\", \"help\", \"help\", \"help\", \"help\", \"helpless\", \"helpless\", \"hero\", \"heroes\", \"hidden\", \"hidden\", \"hide\", \"hide\", \"hide\", \"hide\", \"hide\", \"hide\", \"hide\", \"hide\", \"hiding\", \"high\", \"high\", \"high\", \"high\", \"high\", \"high\", \"high\", \"high\", \"high\", \"high\", \"high\", \"high\", \"high\", \"high\", \"higher\", \"highway\", \"highway\", \"highway\", \"highway\", \"highway\", \"highway\", \"hills\", \"hills\", \"hills\", \"hills\", \"hip\", \"hip\", \"hip\", \"hips\", \"hips\", \"hips\", \"hips\", \"history\", \"history\", \"history\", \"history\", \"history\", \"hit\", \"hit\", \"hit\", \"hit\", \"hit\", \"hit\", \"hobby\", \"hobby\", \"hoe\", \"hoe\", \"hoes\", \"hold\", \"hold\", \"hold\", \"hold\", \"hold\", \"hold\", \"hold\", \"hold\", \"hold\", \"holding\", \"holding\", \"holding\", \"holding\", \"holding\", \"holding\", \"holding\", \"holding\", \"holding\", \"holds\", \"holds\", \"holds\", \"hole\", \"hole\", \"hole\", \"hole\", \"hole\", \"holiday\", \"hollow\", \"hollow\", \"hollow\", \"holy\", \"homeless\", \"homey\", \"homie\", \"homie\", \"homies\", \"homies\", \"honest\", \"honest\", \"honest\", \"honesty\", \"honey\", \"honor\", \"honor\", \"honor\", \"honor\", \"honor\", \"hood\", \"hood\", \"hood\", \"hook\", \"hook\", \"hook\", \"hook\", \"hook\", \"hooked\", \"hooked\", \"hooked\", \"hooked\", \"hooker\", \"hop\", \"hop\", \"hope\", \"hope\", \"hope\", \"hope\", \"hope\", \"hope\", \"hope\", \"hope\", \"hope\", \"hope\", \"hope\", \"hopeless\", \"hopeless\", \"hopes\", \"hopes\", \"hopes\", \"hoping\", \"hoping\", \"hoping\", \"hoping\", \"hoping\", \"hoping\", \"hoping\", \"hoping\", \"hoping\", \"hoping\", \"horizon\", \"horizon\", \"horrible\", \"horror\", \"horse\", \"horses\", \"horses\", \"horses\", \"horses\", \"hot\", \"hot\", \"hot\", \"hot\", \"hour\", \"hour\", \"hour\", \"hour\", \"hour\", \"hour\", \"hour\", \"hour\", \"hours\", \"hours\", \"hours\", \"house\", \"house\", \"hug\", \"hug\", \"hug\", \"human\", \"human\", \"human\", \"human\", \"human\", \"humanity\", \"humble\", \"humble\", \"humble\", \"humming\", \"humming\", \"hung\", \"hung\", \"hung\", \"hungry\", \"hungry\", \"hungry\", \"hungry\", \"hungry\", \"hungry\", \"hungry\", \"hunter\", \"hunter\", \"hunter\", \"hunting\", \"hurricane\", \"hurricane\", \"hurry\", \"hurry\", \"hurry\", \"hurt\", \"hurt\", \"hurt\", \"hurt\", \"hurt\", \"hurt\", \"hurt\", \"hurts\", \"hurts\", \"husband\", \"husband\", \"hype\", \"hypocrite\", \"ice\", \"ice\", \"ice\", \"ice\", \"ice\", \"ice\", \"ice\", \"ice\", \"idiot\", \"idiot\", \"ignite\", \"ignorant\", \"ignorant\", \"ignore\", \"ill\", \"illusion\", \"illusion\", \"illusion\", \"imagine\", \"imagine\", \"imagine\", \"important\", \"impossible\", \"impossible\", \"impossible\", \"inch\", \"inch\", \"inch\", \"inch\", \"innocence\", \"innocence\", \"innocence\", \"innocence\", \"insecure\", \"inside\", \"inside\", \"inside\", \"inside\", \"inside\", \"inside\", \"inside\", \"inside\", \"inspiration\", \"inspired\", \"interior\", \"invade\", \"invade\", \"invitation\", \"invitation\", \"island\", \"island\", \"jab\", \"jab\", \"jail\", \"jail\", \"jail\", \"jam\", \"jar\", \"jar\", \"jaws\", \"jaws\", \"jazz\", \"jealousy\", \"jealousy\", \"jeans\", \"jeans\", \"jeans\", \"jeans\", \"jelly\", \"jelly\", \"jelly\", \"jelly\", \"jelly\", \"jerk\", \"jet\", \"jet\", \"jet\", \"jingle\", \"john\", \"john\", \"join\", \"joint\", \"joint\", \"joint\", \"joker\", \"jokes\", \"journey\", \"journey\", \"joy\", \"joy\", \"joy\", \"joy\", \"joy\", \"joy\", \"joy\", \"joy\", \"joyful\", \"judge\", \"judge\", \"judge\", \"judge\", \"jump\", \"jumped\", \"jumped\", \"jumped\", \"jumped\", \"jumping\", \"jungle\", \"jungle\", \"jungle\", \"justice\", \"keeping\", \"key\", \"key\", \"key\", \"key\", \"kick\", \"kick\", \"kick\", \"kick\", \"kick\", \"kick\", \"kick\", \"kicking\", \"kicking\", \"kicking\", \"kid\", \"kid\", \"kid\", \"kidding\", \"kids\", \"kids\", \"kids\", \"kids\", \"kids\", \"kids\", \"kids\", \"kids\", \"kids\", \"kill\", \"kill\", \"kill\", \"kill\", \"kill\", \"kill\", \"kill\", \"kill\", \"kill\", \"killa\", \"killer\", \"killers\", \"killers\", \"killing\", \"killing\", \"killing\", \"killing\", \"kind\", \"kind\", \"kind\", \"kind\", \"kind\", \"kind\", \"kind\", \"kind\", \"kind\", \"kind\", \"kind\", \"kind\", \"kind\", \"kind\", \"kinda\", \"kinda\", \"kinda\", \"kinda\", \"kinda\", \"kinda\", \"kinda\", \"kinds\", \"kinds\", \"kinds\", \"king\", \"king\", \"king\", \"king\", \"kingdom\", \"kingdom\", \"kingdom\", \"kings\", \"kings\", \"kiss\", \"kiss\", \"kiss\", \"kiss\", \"kiss\", \"kissed\", \"kisses\", \"kisses\", \"kisses\", \"kissing\", \"kissing\", \"kissing\", \"kissing\", \"kite\", \"kite\", \"kitty\", \"knee\", \"knees\", \"knees\", \"knees\", \"knees\", \"knees\", \"knees\", \"knees\", \"knees\", \"knees\", \"knees\", \"knees\", \"knees\", \"knees\", \"knees\", \"knife\", \"knife\", \"knife\", \"knife\", \"knife\", \"knight\", \"knock\", \"knowing\", \"knowing\", \"knowing\", \"knowing\", \"knowing\", \"knowing\", \"ladies\", \"ladies\", \"ladies\", \"lady\", \"laid\", \"laid\", \"laid\", \"laid\", \"laid\", \"laid\", \"lake\", \"lake\", \"lamb\", \"land\", \"land\", \"land\", \"land\", \"land\", \"land\", \"land\", \"language\", \"lap\", \"lap\", \"lap\", \"larger\", \"late\", \"late\", \"late\", \"late\", \"late\", \"late\", \"late\", \"late\", \"laugh\", \"laugh\", \"laugh\", \"laugh\", \"laugh\", \"laugh\", \"laugh\", \"laugh\", \"laugh\", \"laugh\", \"laugh\", \"laugh\", \"laugh\", \"laughed\", \"laughing\", \"laughing\", \"laughing\", \"laughing\", \"laughing\", \"laughing\", \"law\", \"law\", \"law\", \"lawn\", \"laws\", \"laws\", \"laws\", \"laws\", \"laws\", \"lawyer\", \"lay\", \"lay\", \"lay\", \"lay\", \"lay\", \"lay\", \"lay\", \"lay\", \"laying\", \"laying\", \"laying\", \"laying\", \"lazy\", \"lazy\", \"lazy\", \"lead\", \"lead\", \"lead\", \"lead\", \"lead\", \"lead\", \"lead\", \"lead\", \"lead\", \"leader\", \"leading\", \"leading\", \"leading\", \"leads\", \"leads\", \"lean\", \"lean\", \"lean\", \"learn\", \"learn\", \"learn\", \"learn\", \"learn\", \"learn\", \"learning\", \"learning\", \"leather\", \"leather\", \"leather\", \"leather\", \"leave\", \"leave\", \"leave\", \"leave\", \"leave\", \"leave\", \"leave\", \"leave\", \"leave\", \"leave\", \"leave\", \"leave\", \"leave\", \"leave\", \"leave\", \"leave\", \"leave\", \"leave\", \"leave\", \"leaves\", \"leaving\", \"leaving\", \"leaving\", \"leaving\", \"leaving\", \"leaving\", \"leaving\", \"leaving\", \"leaving\", \"led\", \"left\", \"left\", \"left\", \"left\", \"left\", \"left\", \"left\", \"left\", \"left\", \"left\", \"left\", \"left\", \"left\", \"left\", \"left\", \"left\", \"left\", \"left\", \"legend\", \"legend\", \"legs\", \"legs\", \"legs\", \"legs\", \"legs\", \"legs\", \"legs\", \"lend\", \"lend\", \"lethal\", \"lethal\", \"letter\", \"letter\", \"letter\", \"letter\", \"letting\", \"letting\", \"letting\", \"liar\", \"liar\", \"liberty\", \"lie\", \"lie\", \"lie\", \"lie\", \"lied\", \"lied\", \"lied\", \"lies\", \"lies\", \"lies\", \"lies\", \"lies\", \"lies\", \"lies\", \"lies\", \"life\", \"life\", \"life\", \"life\", \"life\", \"life\", \"life\", \"life\", \"life\", \"life\", \"life\", \"life\", \"life\", \"life\", \"life\", \"life\", \"life\", \"life\", \"life\", \"life\", \"life\", \"life\", \"lift\", \"lift\", \"lifted\", \"light\", \"light\", \"light\", \"light\", \"light\", \"light\", \"lightning\", \"lightning\", \"lightning\", \"lightning\", \"lights\", \"likes\", \"limit\", \"limit\", \"limit\", \"limit\", \"lines\", \"lines\", \"lines\", \"lines\", \"lines\", \"ling\", \"linger\", \"linger\", \"lion\", \"lion\", \"lion\", \"lion\", \"lions\", \"lips\", \"lips\", \"lips\", \"lips\", \"lips\", \"lips\", \"lips\", \"lipstick\", \"liquor\", \"liquor\", \"liquor\", \"liquor\", \"listen\", \"listen\", \"listen\", \"listen\", \"listen\", \"listen\", \"listen\", \"listen\", \"listen\", \"listen\", \"listen\", \"listened\", \"listened\", \"live\", \"live\", \"live\", \"live\", \"live\", \"live\", \"live\", \"live\", \"live\", \"live\", \"live\", \"live\", \"live\", \"live\", \"lives\", \"lives\", \"lives\", \"lives\", \"lives\", \"lives\", \"lives\", \"living\", \"living\", \"living\", \"living\", \"living\", \"living\", \"living\", \"living\", \"living\", \"load\", \"load\", \"load\", \"local\", \"local\", \"local\", \"local\", \"local\", \"local\", \"lock\", \"lock\", \"lock\", \"lock\", \"lock\", \"lock\", \"lone\", \"loneliness\", \"lonely\", \"lonely\", \"lonely\", \"lonesome\", \"lonesome\", \"long\", \"long\", \"long\", \"long\", \"long\", \"long\", \"long\", \"long\", \"long\", \"long\", \"long\", \"long\", \"long\", \"long\", \"long\", \"longer\", \"longer\", \"longing\", \"longing\", \"looked\", \"looked\", \"looked\", \"looked\", \"looked\", \"looked\", \"looked\", \"looked\", \"looked\", \"loose\", \"loose\", \"loose\", \"loose\", \"loose\", \"lord\", \"lose\", \"lose\", \"lose\", \"lose\", \"lose\", \"lose\", \"lose\", \"lose\", \"loser\", \"losing\", \"losing\", \"losing\", \"loss\", \"loss\", \"loss\", \"lost\", \"lost\", \"lost\", \"lost\", \"lost\", \"lost\", \"lost\", \"lost\", \"lot\", \"lot\", \"lot\", \"lot\", \"lot\", \"lot\", \"lot\", \"lot\", \"lot\", \"lot\", \"lot\", \"lot\", \"lot\", \"lot\", \"lot\", \"lot\", \"lotta\", \"lotta\", \"lotta\", \"lotta\", \"lotta\", \"loud\", \"loud\", \"loud\", \"loud\", \"loud\", \"loud\", \"louder\", \"love\", \"love\", \"love\", \"love\", \"love\", \"love\", \"love\", \"loved\", \"loved\", \"loved\", \"loved\", \"loved\", \"loved\", \"lovely\", \"lovely\", \"lover\", \"lover\", \"lovers\", \"loves\", \"loves\", \"loving\", \"loving\", \"low\", \"low\", \"low\", \"low\", \"low\", \"low\", \"low\", \"low\", \"lower\", \"lower\", \"lower\", \"loyalty\", \"loyalty\", \"luck\", \"luck\", \"luck\", \"luck\", \"luck\", \"luck\", \"lucky\", \"lucky\", \"lucky\", \"lucky\", \"lucky\", \"lust\", \"lust\", \"lust\", \"lying\", \"lying\", \"lying\", \"lying\", \"lying\", \"lying\", \"machine\", \"mad\", \"mad\", \"mad\", \"mad\", \"mad\", \"mad\", \"mad\", \"magic\", \"magical\", \"mail\", \"mail\", \"main\", \"main\", \"main\", \"makin\", \"makin\", \"makin\", \"makin\", \"makin\", \"making\", \"making\", \"making\", \"making\", \"making\", \"making\", \"making\", \"making\", \"making\", \"making\", \"making\", \"making\", \"making\", \"making\", \"mall\", \"mall\", \"mami\", \"mami\", \"mamma\", \"mamma\", \"mamma\", \"man\", \"man\", \"man\", \"man\", \"man\", \"man\", \"man\", \"man\", \"man\", \"man\", \"man\", \"man\", \"man\", \"man\", \"man\", \"man\", \"man\", \"man\", \"manage\", \"manager\", \"mane\", \"maniac\", \"march\", \"marching\", \"marijuana\", \"mark\", \"mark\", \"mark\", \"mark\", \"mark\", \"married\", \"married\", \"marry\", \"mash\", \"mash\", \"mask\", \"master\", \"master\", \"master\", \"master\", \"matching\", \"material\", \"material\", \"matter\", \"matters\", \"meaning\", \"meaning\", \"meant\", \"meant\", \"meant\", \"meant\", \"meant\", \"measure\", \"measure\", \"measure\", \"measure\", \"meat\", \"meat\", \"medicine\", \"meet\", \"meet\", \"meet\", \"meet\", \"meet\", \"meet\", \"meet\", \"meet\", \"meet\", \"meet\", \"meet\", \"meet\", \"meet\", \"meet\", \"meet\", \"meet\", \"meets\", \"meets\", \"mellow\", \"melody\", \"melody\", \"melt\", \"melt\", \"melt\", \"memories\", \"memories\", \"memories\", \"memories\", \"memory\", \"memory\", \"men\", \"men\", \"men\", \"men\", \"mental\", \"mention\", \"mention\", \"mention\", \"mention\", \"merry\", \"mess\", \"mess\", \"mess\", \"mess\", \"mess\", \"mess\", \"message\", \"message\", \"message\", \"message\", \"message\", \"message\", \"messed\", \"messed\", \"messed\", \"messed\", \"messed\", \"messing\", \"messing\", \"messing\", \"met\", \"met\", \"met\", \"met\", \"met\", \"met\", \"met\", \"met\", \"met\", \"met\", \"metal\", \"metal\", \"metal\", \"metal\", \"microphone\", \"microphone\", \"microphone\", \"middle\", \"midnight\", \"midnight\", \"mighty\", \"mighty\", \"mighty\", \"mighty\", \"mile\", \"mile\", \"miles\", \"miles\", \"miles\", \"miles\", \"mind\", \"mind\", \"mind\", \"mind\", \"mind\", \"mind\", \"mind\", \"mind\", \"mind\", \"mind\", \"mind\", \"mind\", \"mind\", \"mind\", \"mind\", \"mind\", \"mind\", \"mind\", \"mind\", \"mind\", \"minute\", \"minute\", \"minute\", \"minute\", \"minute\", \"minute\", \"minute\", \"minute\", \"miracle\", \"miracle\", \"miracles\", \"mirror\", \"miserable\", \"missed\", \"missed\", \"missed\", \"missed\", \"missed\", \"missed\", \"missed\", \"missing\", \"missing\", \"missing\", \"missing\", \"missing\", \"missing\", \"missing\", \"missing\", \"mistake\", \"mistake\", \"mistake\", \"mistake\", \"mobile\", \"modern\", \"modern\", \"moment\", \"moment\", \"moment\", \"moment\", \"moment\", \"moment\", \"moment\", \"moment\", \"moment\", \"moments\", \"money\", \"money\", \"money\", \"money\", \"money\", \"monkey\", \"monster\", \"months\", \"months\", \"months\", \"months\", \"months\", \"months\", \"mood\", \"mood\", \"mood\", \"moon\", \"moon\", \"moon\", \"moon\", \"moon\", \"moon\", \"moral\", \"moral\", \"morgue\", \"morgue\", \"mornin\", \"morning\", \"morning\", \"morning\", \"morning\", \"morning\", \"morning\", \"morning\", \"morning\", \"morning\", \"morning\", \"morning\", \"morning\", \"morning\", \"mother\", \"mother\", \"mother\", \"mother\", \"mother\", \"mother\", \"mother\", \"mother\", \"mother\", \"motherfucker\", \"motherfucker\", \"motherfuckers\", \"motherfucking\", \"motherfucking\", \"motion\", \"motion\", \"motor\", \"motor\", \"motor\", \"mountain\", \"mountains\", \"mountains\", \"mountains\", \"mountains\", \"mourn\", \"mouth\", \"mouth\", \"mouth\", \"mouth\", \"mouth\", \"mouth\", \"mouth\", \"mouth\", \"moves\", \"moves\", \"moves\", \"movie\", \"movie\", \"movie\", \"movie\", \"movie\", \"movie\", \"movie\", \"movie\", \"movie\", \"movies\", \"movin\", \"moving\", \"moving\", \"moving\", \"moving\", \"muddy\", \"mum\", \"murder\", \"murder\", \"murderous\", \"music\", \"music\", \"music\", \"musical\", \"mystery\", \"mystery\", \"mystery\", \"mystic\", \"nah\", \"nails\", \"nails\", \"nails\", \"nails\", \"nails\", \"nails\", \"nasty\", \"nasty\", \"nasty\", \"nation\", \"nation\", \"nation\", \"nation\", \"nature\", \"nature\", \"naughty\", \"neck\", \"neck\", \"neck\", \"neck\", \"neck\", \"neck\", \"neck\", \"neck\", \"needed\", \"needed\", \"needed\", \"needed\", \"needle\", \"needle\", \"needle\", \"needle\", \"neighbor\", \"neighbor\", \"neon\", \"news\", \"news\", \"news\", \"news\", \"nice\", \"nice\", \"nice\", \"nice\", \"nice\", \"nice\", \"nice\", \"nice\", \"nice\", \"nice\", \"nigga\", \"nigga\", \"night\", \"night\", \"night\", \"night\", \"night\", \"night\", \"night\", \"night\", \"night\", \"night\", \"night\", \"night\", \"night\", \"night\", \"night\", \"night\", \"night\", \"night\", \"night\", \"nightmare\", \"nightmare\", \"nightmare\", \"nights\", \"nights\", \"nights\", \"nights\", \"nights\", \"nights\", \"noble\", \"noble\", \"noise\", \"noise\", \"noise\", \"noise\", \"noon\", \"noon\", \"noose\", \"noose\", \"noose\", \"noose\", \"nose\", \"nose\", \"nose\", \"nose\", \"nose\", \"note\", \"number\", \"number\", \"number\", \"number\", \"nurse\", \"nuts\", \"nuts\", \"nuts\", \"obey\", \"obscene\", \"obscene\", \"obscene\", \"obvious\", \"obvious\", \"obvious\", \"obvious\", \"obvious\", \"ocean\", \"ocean\", \"ocean\", \"ocean\", \"ocean\", \"offer\", \"offer\", \"offer\", \"official\", \"ohhh\", \"ohhh\", \"older\", \"older\", \"older\", \"older\", \"older\", \"ole\", \"ooo\", \"oooh\", \"oooh\", \"oooh\", \"open\", \"open\", \"open\", \"open\", \"open\", \"open\", \"open\", \"open\", \"open\", \"open\", \"open\", \"open\", \"opened\", \"opened\", \"opened\", \"opened\", \"opera\", \"opera\", \"opportunity\", \"order\", \"order\", \"order\", \"order\", \"ordinary\", \"ordinary\", \"ordinary\", \"outcast\", \"outcast\", \"outlaw\", \"outlaw\", \"outrageous\", \"outrageous\", \"overnight\", \"packed\", \"packed\", \"packed\", \"packed\", \"packed\", \"packed\", \"packed\", \"packed\", \"packed\", \"pain\", \"pain\", \"pain\", \"pain\", \"pain\", \"pain\", \"pain\", \"pain\", \"pain\", \"pain\", \"painful\", \"painful\", \"paint\", \"painted\", \"painted\", \"painted\", \"pair\", \"pair\", \"pair\", \"pair\", \"pair\", \"pan\", \"pan\", \"pan\", \"panic\", \"paper\", \"paper\", \"paper\", \"paper\", \"paper\", \"paper\", \"papers\", \"papers\", \"papi\", \"parade\", \"paradise\", \"park\", \"park\", \"park\", \"park\", \"parking\", \"parking\", \"parking\", \"parking\", \"party\", \"party\", \"party\", \"pass\", \"pass\", \"pass\", \"pass\", \"pass\", \"pass\", \"pass\", \"pass\", \"passenger\", \"passing\", \"passion\", \"passion\", \"passion\", \"passionate\", \"path\", \"path\", \"path\", \"patient\", \"patient\", \"patient\", \"patient\", \"pay\", \"pay\", \"pay\", \"pay\", \"pay\", \"pay\", \"pay\", \"pay\", \"pay\", \"pay\", \"peace\", \"peace\", \"peace\", \"peace\", \"peace\", \"pen\", \"pen\", \"pen\", \"pen\", \"people\", \"people\", \"people\", \"people\", \"people\", \"people\", \"people\", \"people\", \"people\", \"perfect\", \"perfect\", \"perfect\", \"perfect\", \"perfect\", \"perfection\", \"perfume\", \"perfume\", \"perfume\", \"perfume\", \"personal\", \"pet\", \"pet\", \"phone\", \"phone\", \"phone\", \"phone\", \"phone\", \"phone\", \"phone\", \"phone\", \"phone\", \"phone\", \"phone\", \"physical\", \"piano\", \"pick\", \"pick\", \"pick\", \"pick\", \"pick\", \"pick\", \"pick\", \"pick\", \"picked\", \"picked\", \"picked\", \"picked\", \"picked\", \"picking\", \"picking\", \"picking\", \"picking\", \"picking\", \"picnic\", \"picnic\", \"picture\", \"picture\", \"picture\", \"picture\", \"picture\", \"picture\", \"picture\", \"picture\", \"picture\", \"pie\", \"piece\", \"piece\", \"piece\", \"piece\", \"piece\", \"piece\", \"piece\", \"piece\", \"piece\", \"pill\", \"pill\", \"pill\", \"pill\", \"pilot\", \"pilot\", \"pimp\", \"pimp\", \"pimping\", \"pine\", \"pink\", \"pirate\", \"pirate\", \"pity\", \"place\", \"place\", \"place\", \"place\", \"place\", \"place\", \"place\", \"place\", \"place\", \"place\", \"place\", \"place\", \"place\", \"place\", \"place\", \"place\", \"place\", \"place\", \"place\", \"plague\", \"plain\", \"plan\", \"plan\", \"plan\", \"plan\", \"plane\", \"plane\", \"plane\", \"plane\", \"plane\", \"plane\", \"plane\", \"planet\", \"planned\", \"plans\", \"plans\", \"plans\", \"plate\", \"plate\", \"plate\", \"play\", \"play\", \"play\", \"play\", \"play\", \"play\", \"play\", \"play\", \"play\", \"play\", \"play\", \"play\", \"playa\", \"playa\", \"played\", \"played\", \"played\", \"played\", \"played\", \"played\", \"player\", \"player\", \"player\", \"players\", \"playground\", \"playing\", \"playing\", \"playing\", \"playing\", \"playing\", \"playing\", \"playing\", \"playing\", \"playing\", \"playing\", \"playing\", \"playing\", \"playing\", \"playing\", \"playing\", \"playing\", \"playing\", \"plays\", \"plays\", \"plays\", \"plays\", \"plea\", \"plea\", \"plea\", \"plea\", \"pleased\", \"pleasure\", \"pleasure\", \"pleasure\", \"pleasure\", \"pledge\", \"pneumonia\", \"pneumonia\", \"pocket\", \"pocket\", \"pocket\", \"pocket\", \"point\", \"point\", \"point\", \"point\", \"point\", \"point\", \"point\", \"point\", \"point\", \"poison\", \"poison\", \"poison\", \"poisoned\", \"poke\", \"pole\", \"politics\", \"pon\", \"pool\", \"poor\", \"poor\", \"poor\", \"poor\", \"poor\", \"poor\", \"pop\", \"pop\", \"porn\", \"porn\", \"position\", \"position\", \"position\", \"possess\", \"possessed\", \"possession\", \"possession\", \"possession\", \"pound\", \"pound\", \"pound\", \"pound\", \"pound\", \"pour\", \"pour\", \"pour\", \"pour\", \"pour\", \"pouring\", \"pouring\", \"pouring\", \"power\", \"powerful\", \"praise\", \"pray\", \"pray\", \"pray\", \"pray\", \"pray\", \"pray\", \"pray\", \"prayed\", \"prayed\", \"prayed\", \"prayed\", \"prayer\", \"prayer\", \"prayer\", \"prayers\", \"prayers\", \"praying\", \"praying\", \"praying\", \"praying\", \"praying\", \"preacher\", \"preacher\", \"preacher\", \"preacher\", \"preacher\", \"precious\", \"precious\", \"precious\", \"precious\", \"precious\", \"prefer\", \"prefer\", \"prefer\", \"prepare\", \"prepare\", \"prepare\", \"prepared\", \"prepared\", \"president\", \"president\", \"pretend\", \"pretend\", \"pretend\", \"pretend\", \"pretend\", \"pretend\", \"pretend\", \"pretending\", \"pretending\", \"pretty\", \"pretty\", \"pretty\", \"pretty\", \"pretty\", \"pretty\", \"pretty\", \"pretty\", \"pretty\", \"prey\", \"prick\", \"pride\", \"pride\", \"pride\", \"pride\", \"priest\", \"prince\", \"prince\", \"prince\", \"prison\", \"prison\", \"prisoner\", \"private\", \"private\", \"private\", \"prize\", \"pro\", \"problem\", \"problem\", \"problem\", \"problem\", \"problem\", \"problem\", \"production\", \"production\", \"professional\", \"professional\", \"progress\", \"promise\", \"promise\", \"promise\", \"promise\", \"promise\", \"promise\", \"promise\", \"promised\", \"promises\", \"promises\", \"promises\", \"promises\", \"promises\", \"promises\", \"proof\", \"proof\", \"prophet\", \"protect\", \"protect\", \"protect\", \"protect\", \"protected\", \"protected\", \"protected\", \"protecting\", \"protection\", \"protection\", \"proud\", \"proud\", \"prove\", \"prove\", \"prove\", \"prove\", \"prowl\", \"prowl\", \"psycho\", \"puff\", \"pull\", \"pull\", \"pull\", \"pull\", \"pull\", \"pum\", \"pump\", \"pump\", \"pump\", \"pump\", \"pump\", \"pumping\", \"pumping\", \"pumping\", \"pumping\", \"pumping\", \"punishment\", \"puppy\", \"pure\", \"pure\", \"pure\", \"pure\", \"pure\", \"push\", \"push\", \"push\", \"push\", \"pushing\", \"pushing\", \"pussy\", \"pussy\", \"putting\", \"putting\", \"putting\", \"putting\", \"putting\", \"quarter\", \"queen\", \"queen\", \"queen\", \"queen\", \"queen\", \"queen\", \"queen\", \"queen\", \"queens\", \"queens\", \"quest\", \"question\", \"question\", \"question\", \"question\", \"question\", \"question\", \"question\", \"questions\", \"questions\", \"questions\", \"questions\", \"questions\", \"questions\", \"quit\", \"quit\", \"quit\", \"quit\", \"race\", \"race\", \"race\", \"race\", \"rack\", \"radio\", \"radio\", \"rag\", \"rag\", \"raging\", \"raging\", \"rags\", \"rail\", \"rail\", \"rain\", \"rain\", \"raining\", \"rains\", \"rainy\", \"raise\", \"raise\", \"raise\", \"rang\", \"ransom\", \"rap\", \"rap\", \"rap\", \"rapper\", \"rapper\", \"raw\", \"razor\", \"razor\", \"razor\", \"reach\", \"reach\", \"reach\", \"reach\", \"reach\", \"reaching\", \"reaching\", \"reaching\", \"reaching\", \"reaching\", \"reaching\", \"react\", \"react\", \"react\", \"react\", \"reaction\", \"read\", \"read\", \"read\", \"read\", \"read\", \"read\", \"read\", \"read\", \"read\", \"ready\", \"ready\", \"ready\", \"ready\", \"real\", \"real\", \"real\", \"real\", \"real\", \"real\", \"real\", \"real\", \"real\", \"real\", \"real\", \"real\", \"real\", \"real\", \"reality\", \"reality\", \"reality\", \"reality\", \"realize\", \"realize\", \"realize\", \"realize\", \"realize\", \"rear\", \"reason\", \"reason\", \"reason\", \"reason\", \"reason\", \"reason\", \"reason\", \"reason\", \"reasons\", \"reasons\", \"recall\", \"recall\", \"receiving\", \"reckless\", \"recognize\", \"recognize\", \"recognize\", \"recognize\", \"record\", \"record\", \"record\", \"record\", \"record\", \"record\", \"red\", \"red\", \"red\", \"red\", \"red\", \"red\", \"red\", \"red\", \"red\", \"reel\", \"regret\", \"regret\", \"regrets\", \"rejoice\", \"rejoice\", \"release\", \"remain\", \"remain\", \"remain\", \"remains\", \"remains\", \"remains\", \"remains\", \"remains\", \"remember\", \"remember\", \"remember\", \"remember\", \"remember\", \"remember\", \"remember\", \"remember\", \"remember\", \"remind\", \"remind\", \"remix\", \"remix\", \"remorse\", \"remorse\", \"remorse\", \"repent\", \"represent\", \"represent\", \"represent\", \"representing\", \"representing\", \"rescue\", \"resist\", \"rest\", \"rest\", \"rest\", \"rest\", \"rest\", \"rest\", \"rest\", \"rest\", \"rest\", \"restless\", \"restless\", \"restless\", \"restless\", \"return\", \"return\", \"return\", \"return\", \"return\", \"revenge\", \"revenge\", \"revenge\", \"revolution\", \"revolver\", \"rewind\", \"rewind\", \"rewind\", \"rhyme\", \"rhyme\", \"rhyme\", \"rhyme\", \"rhyme\", \"rhythm\", \"ribbon\", \"riddle\", \"riddle\", \"ride\", \"ride\", \"ride\", \"ride\", \"rider\", \"rider\", \"ridiculous\", \"riding\", \"riding\", \"riding\", \"riding\", \"rights\", \"rights\", \"rights\", \"rims\", \"rims\", \"ring\", \"ring\", \"ring\", \"ring\", \"ring\", \"ring\", \"ring\", \"ringing\", \"ringing\", \"ringing\", \"rings\", \"rings\", \"rings\", \"riot\", \"rising\", \"rising\", \"rising\", \"rising\", \"rising\", \"rising\", \"risk\", \"risk\", \"river\", \"rivers\", \"rivers\", \"road\", \"roads\", \"roar\", \"roar\", \"rob\", \"rob\", \"rob\", \"rock\", \"rocket\", \"rockin\", \"rocking\", \"rocking\", \"rocking\", \"rocking\", \"rocks\", \"rocks\", \"rocks\", \"rocks\", \"rocks\", \"rod\", \"rod\", \"rode\", \"role\", \"role\", \"roll\", \"roll\", \"roll\", \"roll\", \"rolling\", \"rolling\", \"rolling\", \"rolling\", \"rolling\", \"rolling\", \"rolling\", \"rolling\", \"rolling\", \"rolls\", \"rolls\", \"rolls\", \"rolls\", \"romance\", \"romance\", \"roof\", \"roof\", \"roof\", \"roof\", \"roof\", \"roof\", \"room\", \"room\", \"room\", \"room\", \"room\", \"room\", \"room\", \"room\", \"room\", \"room\", \"room\", \"room\", \"room\", \"room\", \"room\", \"room\", \"room\", \"roots\", \"rose\", \"rose\", \"rose\", \"rose\", \"rose\", \"rose\", \"roses\", \"rot\", \"rot\", \"rotting\", \"round\", \"rounds\", \"routine\", \"rub\", \"rub\", \"rub\", \"rubber\", \"rubber\", \"ruff\", \"ruin\", \"ruin\", \"ruined\", \"rule\", \"rules\", \"rules\", \"rules\", \"rules\", \"rules\", \"rules\", \"rules\", \"rules\", \"rum\", \"runaway\", \"running\", \"running\", \"running\", \"running\", \"running\", \"running\", \"running\", \"runs\", \"runs\", \"runs\", \"runway\", \"rushing\", \"sacrifice\", \"sacrifice\", \"sacrifice\", \"sacrifice\", \"sacrifice\", \"sacrifice\", \"sad\", \"sad\", \"sad\", \"sad\", \"sad\", \"sad\", \"sad\", \"sad\", \"sad\", \"saddle\", \"sadly\", \"sadness\", \"safe\", \"safe\", \"safe\", \"safe\", \"safe\", \"safe\", \"safe\", \"sag\", \"sag\", \"sail\", \"sailing\", \"sailor\", \"sailor\", \"sailor\", \"saint\", \"saint\", \"saint\", \"saint\", \"saints\", \"sake\", \"sale\", \"saloon\", \"salt\", \"salute\", \"salute\", \"salvation\", \"sand\", \"sand\", \"sand\", \"sand\", \"sand\", \"sang\", \"sang\", \"sat\", \"sat\", \"sat\", \"sat\", \"sat\", \"sat\", \"satisfied\", \"satisfy\", \"satisfy\", \"savage\", \"savage\", \"save\", \"save\", \"save\", \"save\", \"save\", \"save\", \"saved\", \"saved\", \"saved\", \"saving\", \"savior\", \"scandalous\", \"scare\", \"scare\", \"scars\", \"scene\", \"scene\", \"scene\", \"scene\", \"scene\", \"scene\", \"scene\", \"scene\", \"scene\", \"scene\", \"scene\", \"scene\", \"school\", \"school\", \"school\", \"school\", \"school\", \"school\", \"school\", \"school\", \"school\", \"school\", \"science\", \"science\", \"scream\", \"scream\", \"scream\", \"scream\", \"scream\", \"scream\", \"screaming\", \"screaming\", \"screaming\", \"screaming\", \"screaming\", \"screaming\", \"screaming\", \"screaming\", \"screams\", \"screams\", \"scum\", \"sea\", \"sea\", \"sea\", \"sea\", \"seal\", \"searching\", \"searching\", \"searching\", \"searching\", \"seasons\", \"seat\", \"seat\", \"seat\", \"seat\", \"seat\", \"seat\", \"seats\", \"seats\", \"seats\", \"second\", \"second\", \"second\", \"second\", \"second\", \"second\", \"secret\", \"secret\", \"secret\", \"secret\", \"secret\", \"secret\", \"seeds\", \"seek\", \"sees\", \"sees\", \"sees\", \"sees\", \"sees\", \"seh\", \"seize\", \"seize\", \"sell\", \"sell\", \"sell\", \"sell\", \"sell\", \"sell\", \"send\", \"send\", \"send\", \"send\", \"send\", \"sending\", \"sending\", \"sending\", \"sensation\", \"sensation\", \"sensation\", \"senseless\", \"senseless\", \"senses\", \"sentence\", \"separate\", \"separate\", \"separate\", \"separate\", \"serial\", \"servant\", \"serve\", \"set\", \"set\", \"set\", \"set\", \"set\", \"set\", \"set\", \"set\", \"set\", \"set\", \"set\", \"set\", \"set\", \"settle\", \"settle\", \"sewer\", \"sewer\", \"sex\", \"sex\", \"sex\", \"sex\", \"sex\", \"sexual\", \"sexy\", \"sexy\", \"shack\", \"shades\", \"shades\", \"shades\", \"shadows\", \"shadows\", \"shadows\", \"shadows\", \"shady\", \"shake\", \"shake\", \"shaking\", \"shaking\", \"shaking\", \"shaking\", \"shame\", \"shame\", \"shame\", \"shame\", \"share\", \"share\", \"share\", \"share\", \"share\", \"shark\", \"shattered\", \"shattered\", \"shattered\", \"shawty\", \"shawty\", \"sheep\", \"sheets\", \"sheets\", \"sheets\", \"sheets\", \"sheets\", \"sheets\", \"shelf\", \"shelf\", \"shelter\", \"shelter\", \"sheriff\", \"shine\", \"shine\", \"shine\", \"shine\", \"shine\", \"shines\", \"shines\", \"shining\", \"shining\", \"shining\", \"shining\", \"shining\", \"shining\", \"ship\", \"ship\", \"ship\", \"ship\", \"ship\", \"ship\", \"ships\", \"shit\", \"shit\", \"shit\", \"shit\", \"shiver\", \"shock\", \"shock\", \"shoes\", \"shoes\", \"shoes\", \"shoes\", \"shoes\", \"shoes\", \"shook\", \"shook\", \"shoot\", \"shoot\", \"shoot\", \"shoot\", \"shooting\", \"shooting\", \"shooting\", \"shooting\", \"shooting\", \"shooting\", \"shooting\", \"shore\", \"shore\", \"shore\", \"short\", \"short\", \"short\", \"short\", \"short\", \"shorty\", \"shorty\", \"shorty\", \"shorty\", \"shot\", \"shot\", \"shot\", \"shot\", \"shot\", \"shot\", \"shot\", \"shot\", \"shot\", \"shotgun\", \"shotgun\", \"shotgun\", \"shotgun\", \"shots\", \"shots\", \"shots\", \"shots\", \"shots\", \"shoulder\", \"shout\", \"shout\", \"shut\", \"shut\", \"shut\", \"shut\", \"shut\", \"shut\", \"shut\", \"shut\", \"shut\", \"shy\", \"sick\", \"sick\", \"sick\", \"sick\", \"sick\", \"sick\", \"sickness\", \"sickness\", \"sight\", \"sight\", \"sight\", \"sight\", \"sight\", \"sight\", \"sight\", \"sight\", \"sign\", \"sign\", \"sign\", \"sign\", \"sign\", \"sign\", \"signs\", \"signs\", \"signs\", \"signs\", \"signs\", \"silence\", \"silent\", \"silent\", \"silent\", \"silly\", \"silver\", \"silver\", \"silver\", \"silver\", \"silver\", \"simple\", \"simple\", \"simple\", \"simple\", \"simple\", \"simple\", \"simple\", \"simple\", \"sin\", \"sin\", \"sin\", \"sin\", \"sin\", \"sin\", \"sing\", \"sing\", \"sing\", \"singing\", \"singing\", \"singing\", \"singing\", \"singing\", \"singing\", \"sings\", \"sings\", \"sings\", \"sings\", \"sings\", \"sink\", \"sinner\", \"sins\", \"sins\", \"sins\", \"sins\", \"sipping\", \"sir\", \"sir\", \"sir\", \"sirens\", \"sirens\", \"sirens\", \"sister\", \"sister\", \"sister\", \"sisters\", \"sitting\", \"sitting\", \"sitting\", \"sitting\", \"sitting\", \"sitting\", \"sitting\", \"sitting\", \"sitting\", \"sitting\", \"sitting\", \"sixteen\", \"skin\", \"skin\", \"skin\", \"skin\", \"skin\", \"skin\", \"skin\", \"skip\", \"skip\", \"skip\", \"skirt\", \"skirt\", \"skirt\", \"sky\", \"sky\", \"sky\", \"sky\", \"sky\", \"slam\", \"slam\", \"slam\", \"slaughter\", \"slave\", \"slay\", \"slay\", \"sleep\", \"sleep\", \"sleep\", \"sleep\", \"sleep\", \"sleep\", \"sleep\", \"sleep\", \"sleep\", \"sleeping\", \"sleeping\", \"sleeve\", \"sleeve\", \"sleigh\", \"slept\", \"slept\", \"slide\", \"slide\", \"slip\", \"slip\", \"slip\", \"slip\", \"slip\", \"slip\", \"slipping\", \"slipping\", \"slipping\", \"sloppy\", \"sloppy\", \"slow\", \"slow\", \"slow\", \"slow\", \"slow\", \"slow\", \"slow\", \"slow\", \"slow\", \"slowly\", \"slowly\", \"slug\", \"slug\", \"slut\", \"small\", \"small\", \"small\", \"small\", \"small\", \"small\", \"smart\", \"smart\", \"smart\", \"smart\", \"smart\", \"smash\", \"smash\", \"smash\", \"smell\", \"smell\", \"smell\", \"smell\", \"smile\", \"smile\", \"smile\", \"smile\", \"smile\", \"smile\", \"smile\", \"smile\", \"smile\", \"smiled\", \"smiled\", \"smiles\", \"smiles\", \"smiles\", \"smiling\", \"smiling\", \"smiling\", \"smoke\", \"smoke\", \"smoke\", \"smoke\", \"smoke\", \"smoke\", \"smoke\", \"smoke\", \"smooth\", \"snakes\", \"snakes\", \"snakes\", \"sneak\", \"sneak\", \"sneak\", \"sneaking\", \"snow\", \"socks\", \"socks\", \"soft\", \"soft\", \"soft\", \"soft\", \"soft\", \"soft\", \"soft\", \"soft\", \"soft\", \"softly\", \"softly\", \"soil\", \"soil\", \"soldier\", \"soldier\", \"soldier\", \"soldier\", \"soldier\", \"soldiers\", \"soldiers\", \"solid\", \"solo\", \"solo\", \"solo\", \"someday\", \"someday\", \"son\", \"son\", \"son\", \"son\", \"song\", \"song\", \"song\", \"song\", \"song\", \"song\", \"song\", \"song\", \"song\", \"songs\", \"songs\", \"songs\", \"songs\", \"songs\", \"sorrow\", \"sorrow\", \"sorrow\", \"soul\", \"soul\", \"soul\", \"soul\", \"soul\", \"soul\", \"soul\", \"soul\", \"soul\", \"souls\", \"souls\", \"souls\", \"souls\", \"sound\", \"sound\", \"sound\", \"sound\", \"sound\", \"sound\", \"sound\", \"sound\", \"sound\", \"sound\", \"sour\", \"south\", \"south\", \"southern\", \"southern\", \"southern\", \"space\", \"spanish\", \"spanish\", \"sparks\", \"speak\", \"speak\", \"speak\", \"speak\", \"speak\", \"speak\", \"speak\", \"special\", \"special\", \"special\", \"special\", \"special\", \"speed\", \"spell\", \"spell\", \"spell\", \"spell\", \"spell\", \"spend\", \"spend\", \"spend\", \"spend\", \"spend\", \"spend\", \"spend\", \"spend\", \"spend\", \"spend\", \"spend\", \"spending\", \"spending\", \"spending\", \"spending\", \"spent\", \"spent\", \"spent\", \"spent\", \"spent\", \"spent\", \"spent\", \"spider\", \"spider\", \"spike\", \"spin\", \"spin\", \"spin\", \"spin\", \"spin\", \"spinning\", \"spinning\", \"spinning\", \"spinning\", \"spinning\", \"spinning\", \"spirit\", \"spirit\", \"spirits\", \"spiritual\", \"spite\", \"spitting\", \"spitting\", \"spitting\", \"spitting\", \"spitting\", \"spoil\", \"spoken\", \"spoon\", \"spoon\", \"spray\", \"spread\", \"spread\", \"spring\", \"spring\", \"spring\", \"spring\", \"squad\", \"square\", \"squeeze\", \"squeeze\", \"squeeze\", \"squeeze\", \"squeeze\", \"squeeze\", \"stab\", \"stab\", \"stab\", \"stain\", \"stain\", \"stairs\", \"stairs\", \"stairs\", \"stall\", \"stall\", \"stall\", \"stand\", \"stand\", \"stand\", \"stand\", \"stand\", \"stand\", \"stand\", \"standing\", \"standing\", \"standing\", \"standing\", \"standing\", \"standing\", \"standing\", \"standing\", \"standing\", \"standing\", \"standing\", \"standing\", \"standing\", \"standing\", \"star\", \"star\", \"star\", \"star\", \"star\", \"star\", \"star\", \"star\", \"stare\", \"stare\", \"stare\", \"stare\", \"stare\", \"stare\", \"stare\", \"stare\", \"stare\", \"stare\", \"stars\", \"stars\", \"stars\", \"stars\", \"stars\", \"stars\", \"stars\", \"stars\", \"stars\", \"stars\", \"stars\", \"start\", \"start\", \"start\", \"start\", \"start\", \"start\", \"start\", \"start\", \"start\", \"start\", \"start\", \"start\", \"start\", \"start\", \"start\", \"started\", \"started\", \"started\", \"started\", \"started\", \"started\", \"started\", \"started\", \"started\", \"started\", \"started\", \"started\", \"starting\", \"starting\", \"starting\", \"starting\", \"starting\", \"starts\", \"starts\", \"starts\", \"starts\", \"starts\", \"starts\", \"starts\", \"state\", \"state\", \"state\", \"station\", \"stay\", \"stay\", \"stay\", \"stay\", \"stay\", \"stay\", \"stay\", \"stay\", \"stay\", \"stay\", \"stay\", \"steady\", \"steady\", \"steady\", \"steal\", \"steal\", \"steal\", \"steal\", \"steal\", \"stealing\", \"stealing\", \"stealing\", \"stealing\", \"steam\", \"step\", \"step\", \"step\", \"step\", \"step\", \"step\", \"step\", \"stepping\", \"stepping\", \"stepping\", \"steps\", \"steps\", \"steps\", \"steps\", \"steps\", \"sting\", \"stink\", \"stink\", \"stone\", \"stone\", \"stone\", \"stone\", \"stone\", \"stone\", \"stones\", \"stones\", \"stones\", \"stones\", \"stones\", \"stood\", \"stood\", \"stood\", \"stood\", \"stood\", \"stood\", \"stopped\", \"stopped\", \"stopped\", \"stopped\", \"stopped\", \"stopped\", \"stops\", \"stops\", \"stops\", \"stops\", \"stormy\", \"story\", \"story\", \"story\", \"story\", \"straight\", \"straight\", \"straight\", \"straight\", \"straight\", \"straight\", \"straight\", \"straight\", \"straight\", \"straight\", \"straight\", \"straight\", \"strange\", \"strange\", \"strange\", \"strange\", \"strange\", \"strangers\", \"strangers\", \"strapped\", \"stream\", \"stream\", \"stream\", \"street\", \"street\", \"street\", \"street\", \"street\", \"street\", \"street\", \"street\", \"streets\", \"streets\", \"streets\", \"streets\", \"streets\", \"streets\", \"streets\", \"streets\", \"streets\", \"stressed\", \"stressed\", \"stressed\", \"strife\", \"strife\", \"strike\", \"string\", \"string\", \"string\", \"string\", \"string\", \"strip\", \"strip\", \"strip\", \"strip\", \"stripped\", \"stroke\", \"stroke\", \"strong\", \"strong\", \"strong\", \"strong\", \"strong\", \"strong\", \"strong\", \"strong\", \"strong\", \"strong\", \"strong\", \"strong\", \"stronger\", \"stronger\", \"stronger\", \"struck\", \"struck\", \"struck\", \"stuck\", \"stuck\", \"stuck\", \"stuck\", \"stuck\", \"stuck\", \"stuck\", \"stuff\", \"stuff\", \"stuff\", \"stuff\", \"stuff\", \"stupid\", \"stupid\", \"stupid\", \"stupid\", \"stupid\", \"stupid\", \"style\", \"style\", \"style\", \"style\", \"style\", \"style\", \"style\", \"successful\", \"suck\", \"suck\", \"suck\", \"suck\", \"sucker\", \"sucker\", \"sucker\", \"suddenly\", \"suddenly\", \"suddenly\", \"suddenly\", \"suddenly\", \"suddenly\", \"sue\", \"sue\", \"suffer\", \"suffering\", \"sugar\", \"suit\", \"suit\", \"suit\", \"suit\", \"suit\", \"summer\", \"summertime\", \"summertime\", \"sun\", \"sun\", \"sun\", \"sun\", \"sun\", \"sun\", \"sun\", \"sun\", \"sunlight\", \"sunlight\", \"sunlight\", \"sunlight\", \"sunlight\", \"sunny\", \"sunny\", \"sunrise\", \"sunset\", \"sunshine\", \"super\", \"super\", \"super\", \"superstar\", \"supposed\", \"supposed\", \"supposed\", \"surely\", \"surely\", \"surely\", \"surely\", \"surprise\", \"surprise\", \"surprise\", \"surprise\", \"surprise\", \"surprise\", \"surrender\", \"surrender\", \"surround\", \"survive\", \"survive\", \"suspect\", \"suspect\", \"suspicious\", \"suspicious\", \"swag\", \"swag\", \"swag\", \"swallow\", \"sweat\", \"sweat\", \"sweat\", \"sweat\", \"sweating\", \"sweating\", \"sweating\", \"sweating\", \"sweet\", \"sweet\", \"sweetheart\", \"sweetheart\", \"swell\", \"swim\", \"swim\", \"swim\", \"swimming\", \"swine\", \"swine\", \"swine\", \"swing\", \"swing\", \"swing\", \"swing\", \"sword\", \"sympathy\", \"sympathy\", \"table\", \"table\", \"table\", \"table\", \"table\", \"table\", \"table\", \"table\", \"tackle\", \"tail\", \"tail\", \"tail\", \"takes\", \"takes\", \"takes\", \"takes\", \"tales\", \"tales\", \"tales\", \"talk\", \"talk\", \"talk\", \"talk\", \"talk\", \"talk\", \"talk\", \"talk\", \"talk\", \"talk\", \"talk\", \"talk\", \"talk\", \"talkin\", \"talkin\", \"talkin\", \"talking\", \"talking\", \"talking\", \"talking\", \"talking\", \"talking\", \"talking\", \"talking\", \"talking\", \"tall\", \"tall\", \"tall\", \"tall\", \"tall\", \"tall\", \"tan\", \"tape\", \"tape\", \"tape\", \"tape\", \"taste\", \"taste\", \"taste\", \"taste\", \"taste\", \"taste\", \"taste\", \"taste\", \"taste\", \"tastes\", \"tastes\", \"tastes\", \"tat\", \"tattoo\", \"tattoo\", \"taught\", \"taught\", \"taught\", \"taught\", \"tea\", \"tea\", \"teach\", \"teach\", \"teach\", \"teach\", \"teach\", \"teacher\", \"tear\", \"tear\", \"tear\", \"tear\", \"tears\", \"tears\", \"tears\", \"tears\", \"tears\", \"tears\", \"tears\", \"tears\", \"tease\", \"tease\", \"tease\", \"teenage\", \"teeth\", \"teeth\", \"teeth\", \"teeth\", \"teeth\", \"telephone\", \"telephone\", \"telephone\", \"telephone\", \"telephone\", \"telling\", \"telling\", \"telling\", \"telling\", \"telling\", \"telling\", \"telling\", \"telling\", \"temple\", \"tender\", \"tender\", \"tender\", \"tension\", \"tension\", \"test\", \"test\", \"test\", \"test\", \"test\", \"thangs\", \"thankful\", \"thee\", \"therapy\", \"thief\", \"thief\", \"thief\", \"thief\", \"thief\", \"things\", \"things\", \"things\", \"things\", \"things\", \"things\", \"things\", \"things\", \"things\", \"things\", \"things\", \"things\", \"things\", \"things\", \"things\", \"things\", \"things\", \"thinking\", \"thinking\", \"thinking\", \"thinking\", \"thinking\", \"thinking\", \"thinking\", \"thinking\", \"thinking\", \"thinking\", \"thinks\", \"thinks\", \"thinks\", \"thinks\", \"thinks\", \"thinks\", \"thought\", \"thought\", \"thought\", \"thought\", \"thought\", \"thought\", \"thought\", \"thought\", \"thought\", \"thought\", \"thought\", \"thought\", \"thoughts\", \"thoughts\", \"thoughts\", \"thoughts\", \"thoughts\", \"thoughts\", \"thoughts\", \"threat\", \"threat\", \"threw\", \"threw\", \"threw\", \"threw\", \"threw\", \"threw\", \"threw\", \"thrill\", \"thrill\", \"thrill\", \"thrill\", \"thrill\", \"throw\", \"throw\", \"throw\", \"throw\", \"throw\", \"throw\", \"throw\", \"throw\", \"throw\", \"throw\", \"throw\", \"throwing\", \"throwing\", \"throwing\", \"throwing\", \"throwing\", \"thug\", \"thug\", \"thump\", \"thump\", \"thumping\", \"thumping\", \"thumping\", \"thunder\", \"thunder\", \"tick\", \"ticket\", \"ticket\", \"ticking\", \"ticking\", \"ticking\", \"tied\", \"tied\", \"tied\", \"tied\", \"tight\", \"tight\", \"tight\", \"tight\", \"tight\", \"tight\", \"tight\", \"tight\", \"till\", \"till\", \"till\", \"till\", \"till\", \"till\", \"till\", \"till\", \"till\", \"till\", \"till\", \"till\", \"till\", \"time\", \"time\", \"time\", \"time\", \"time\", \"time\", \"time\", \"time\", \"time\", \"time\", \"time\", \"time\", \"time\", \"time\", \"time\", \"time\", \"time\", \"time\", \"time\", \"time\", \"time\", \"time\", \"time\", \"time\", \"time\", \"time\", \"time\", \"time\", \"time\", \"time\", \"times\", \"times\", \"times\", \"times\", \"times\", \"times\", \"times\", \"times\", \"times\", \"tin\", \"tiny\", \"tiny\", \"tiny\", \"tired\", \"tired\", \"tired\", \"tired\", \"tired\", \"tired\", \"tired\", \"title\", \"title\", \"titties\", \"toast\", \"toast\", \"today\", \"today\", \"today\", \"today\", \"today\", \"today\", \"today\", \"toes\", \"toes\", \"toes\", \"toes\", \"toilet\", \"toilet\", \"told\", \"told\", \"told\", \"told\", \"told\", \"told\", \"told\", \"told\", \"told\", \"told\", \"told\", \"told\", \"told\", \"told\", \"told\", \"tomb\", \"tomorrow\", \"tomorrow\", \"tomorrow\", \"tomorrow\", \"tomorrow\", \"tomorrow\", \"tomorrow\", \"tongue\", \"tongue\", \"tongue\", \"tongue\", \"tongue\", \"tongue\", \"tongue\", \"tongue\", \"tonight\", \"tonight\", \"tonight\", \"torture\", \"torture\", \"total\", \"total\", \"touch\", \"touch\", \"touch\", \"touch\", \"touch\", \"touch\", \"touch\", \"touch\", \"touched\", \"touched\", \"touched\", \"touched\", \"touched\", \"touching\", \"touching\", \"touching\", \"tough\", \"tough\", \"tough\", \"tough\", \"tough\", \"tough\", \"tough\", \"tower\", \"tower\", \"town\", \"town\", \"town\", \"town\", \"town\", \"town\", \"toy\", \"toy\", \"toys\", \"toys\", \"toys\", \"toys\", \"toys\", \"trace\", \"trace\", \"trace\", \"track\", \"track\", \"track\", \"track\", \"track\", \"track\", \"track\", \"track\", \"tracks\", \"trade\", \"trade\", \"trade\", \"traffic\", \"traffic\", \"trail\", \"train\", \"tramp\", \"trapped\", \"trapped\", \"trapped\", \"trapped\", \"trash\", \"trash\", \"trash\", \"trash\", \"travel\", \"travel\", \"travel\", \"travel\", \"travel\", \"traveling\", \"traveling\", \"treat\", \"treat\", \"treat\", \"treat\", \"treat\", \"treat\", \"treat\", \"treat\", \"tree\", \"trees\", \"trembling\", \"trembling\", \"trembling\", \"tribe\", \"tribe\", \"trigger\", \"trigger\", \"trouble\", \"trouble\", \"trouble\", \"trouble\", \"trouble\", \"trouble\", \"trouble\", \"trouble\", \"troubles\", \"true\", \"true\", \"true\", \"true\", \"true\", \"true\", \"true\", \"true\", \"true\", \"trunk\", \"trunk\", \"trust\", \"trust\", \"trust\", \"trust\", \"trust\", \"trust\", \"trust\", \"trust\", \"truth\", \"truth\", \"truth\", \"truth\", \"truth\", \"truth\", \"truth\", \"tune\", \"tune\", \"tune\", \"tune\", \"turn\", \"turn\", \"turn\", \"turn\", \"turn\", \"turn\", \"turn\", \"turn\", \"turn\", \"turn\", \"turned\", \"turned\", \"turned\", \"turned\", \"turned\", \"turned\", \"turned\", \"turned\", \"turned\", \"turned\", \"turning\", \"turning\", \"turning\", \"turning\", \"turning\", \"turning\", \"turning\", \"turns\", \"turns\", \"turns\", \"turns\", \"turns\", \"turns\", \"turns\", \"turns\", \"turns\", \"twist\", \"twist\", \"twist\", \"type\", \"type\", \"type\", \"type\", \"type\", \"ultimate\", \"unable\", \"unable\", \"uncle\", \"uncle\", \"uncle\", \"underground\", \"underground\", \"underground\", \"underneath\", \"underneath\", \"underneath\", \"underneath\", \"underneath\", \"underneath\", \"understand\", \"understand\", \"understand\", \"understand\", \"understand\", \"understand\", \"understand\", \"understand\", \"understand\", \"understand\", \"unfold\", \"unfold\", \"unity\", \"unknown\", \"unknown\", \"unknown\", \"uptown\", \"uptown\", \"usual\", \"usually\", \"usually\", \"usually\", \"usually\", \"vain\", \"vain\", \"vain\", \"valley\", \"valley\", \"valley\", \"vampire\", \"van\", \"van\", \"vanish\", \"velvet\", \"vengeance\", \"verdict\", \"versus\", \"vibe\", \"vibe\", \"vibe\", \"vicious\", \"vicious\", \"vicious\", \"vicious\", \"victory\", \"victory\", \"victory\", \"view\", \"view\", \"view\", \"view\", \"villain\", \"villain\", \"villain\", \"violence\", \"violence\", \"violence\", \"virtue\", \"virtue\", \"vision\", \"vision\", \"vision\", \"vision\", \"voice\", \"voice\", \"voice\", \"voice\", \"voice\", \"voice\", \"voice\", \"voices\", \"voices\", \"voices\", \"voices\", \"vomit\", \"vow\", \"waist\", \"waist\", \"waist\", \"waist\", \"waist\", \"wait\", \"wait\", \"wait\", \"wait\", \"wait\", \"wait\", \"waiting\", \"waiting\", \"waiting\", \"waits\", \"waits\", \"wake\", \"wake\", \"wake\", \"wake\", \"wake\", \"wake\", \"waking\", \"walk\", \"walk\", \"walk\", \"walk\", \"walk\", \"walk\", \"walk\", \"walk\", \"walked\", \"walked\", \"walked\", \"walked\", \"walked\", \"walked\", \"walked\", \"walked\", \"walking\", \"walking\", \"walking\", \"walking\", \"walking\", \"walking\", \"walking\", \"walking\", \"walking\", \"walking\", \"walks\", \"wall\", \"wall\", \"wall\", \"walls\", \"walls\", \"walls\", \"walls\", \"walls\", \"walls\", \"walls\", \"wanted\", \"wanted\", \"wanted\", \"wanted\", \"wanted\", \"wanted\", \"wanted\", \"wanted\", \"wanted\", \"wanted\", \"wanting\", \"wanting\", \"wanting\", \"wanting\", \"wanting\", \"wants\", \"wants\", \"wants\", \"wants\", \"wants\", \"war\", \"war\", \"war\", \"warm\", \"warm\", \"warm\", \"warm\", \"warm\", \"warm\", \"warn\", \"warned\", \"warning\", \"warning\", \"warning\", \"warning\", \"warrior\", \"wash\", \"wash\", \"wash\", \"washed\", \"washed\", \"washed\", \"waste\", \"waste\", \"waste\", \"waste\", \"waste\", \"waste\", \"waste\", \"waste\", \"waste\", \"waste\", \"wasting\", \"wasting\", \"wasting\", \"wasting\", \"watch\", \"watch\", \"watch\", \"watch\", \"watch\", \"watch\", \"watch\", \"watch\", \"watch\", \"watch\", \"watch\", \"watch\", \"watch\", \"watch\", \"watched\", \"watched\", \"watched\", \"watched\", \"watched\", \"watching\", \"water\", \"waters\", \"wave\", \"wave\", \"wave\", \"waves\", \"waves\", \"waves\", \"waves\", \"waves\", \"waves\", \"waves\", \"ways\", \"wealth\", \"wealth\", \"wealth\", \"wealth\", \"weapons\", \"weapons\", \"weapons\", \"wear\", \"wear\", \"wear\", \"wear\", \"wear\", \"wear\", \"wear\", \"wears\", \"weary\", \"weary\", \"weather\", \"weather\", \"weather\", \"weather\", \"wedding\", \"wee\", \"weed\", \"weed\", \"week\", \"week\", \"week\", \"week\", \"week\", \"week\", \"week\", \"weekend\", \"weekend\", \"weekend\", \"weekend\", \"weekend\", \"weeks\", \"weeks\", \"weeks\", \"weeks\", \"weigh\", \"weigh\", \"weird\", \"west\", \"west\", \"west\", \"west\", \"wet\", \"wet\", \"wet\", \"wet\", \"whack\", \"whack\", \"wheel\", \"wheel\", \"wheel\", \"wheel\", \"wheels\", \"wheels\", \"wheels\", \"whisper\", \"whisper\", \"whisper\", \"whisper\", \"whisper\", \"whistle\", \"white\", \"white\", \"white\", \"white\", \"white\", \"white\", \"white\", \"white\", \"white\", \"whoo\", \"wicked\", \"wicked\", \"wide\", \"wide\", \"wide\", \"wide\", \"wide\", \"wide\", \"wide\", \"wide\", \"wide\", \"wife\", \"wife\", \"wife\", \"wife\", \"wild\", \"wild\", \"wilderness\", \"willing\", \"willing\", \"win\", \"wind\", \"wind\", \"wind\", \"wind\", \"window\", \"window\", \"window\", \"window\", \"window\", \"window\", \"window\", \"window\", \"window\", \"window\", \"window\", \"windows\", \"windows\", \"windows\", \"windows\", \"wine\", \"wine\", \"wine\", \"wine\", \"wing\", \"wings\", \"winner\", \"winner\", \"winner\", \"winner\", \"winning\", \"winning\", \"winter\", \"winter\", \"winter\", \"winter\", \"winter\", \"winter\", \"wipe\", \"wipe\", \"wisdom\", \"wisdom\", \"wish\", \"wish\", \"wish\", \"wish\", \"wish\", \"wish\", \"wish\", \"wish\", \"wish\", \"wish\", \"wishing\", \"wishing\", \"wishing\", \"wishing\", \"witch\", \"witch\", \"witness\", \"witness\", \"witness\", \"wizard\", \"woman\", \"woman\", \"woman\", \"woman\", \"woman\", \"women\", \"women\", \"women\", \"women\", \"women\", \"women\", \"women\", \"women\", \"wonderful\", \"wonderful\", \"wondering\", \"wondering\", \"wondering\", \"wondering\", \"wondering\", \"wondering\", \"wondering\", \"wont\", \"wont\", \"woo\", \"wood\", \"woods\", \"woods\", \"woods\", \"word\", \"word\", \"word\", \"word\", \"word\", \"word\", \"word\", \"word\", \"word\", \"words\", \"words\", \"words\", \"words\", \"words\", \"words\", \"words\", \"words\", \"words\", \"words\", \"words\", \"words\", \"wore\", \"worked\", \"worked\", \"working\", \"working\", \"working\", \"working\", \"working\", \"working\", \"working\", \"working\", \"working\", \"works\", \"works\", \"worlds\", \"worlds\", \"worm\", \"worn\", \"worn\", \"worry\", \"worry\", \"worry\", \"worry\", \"worrying\", \"worship\", \"worst\", \"worst\", \"worst\", \"worst\", \"worst\", \"worth\", \"worth\", \"worth\", \"worth\", \"worth\", \"worth\", \"worth\", \"worth\", \"worthless\", \"worthless\", \"worthless\", \"worthy\", \"worthy\", \"wound\", \"wound\", \"wound\", \"wounded\", \"wounded\", \"wounded\", \"wounded\", \"wounds\", \"wounds\", \"wounds\", \"wounds\", \"wow\", \"wrapped\", \"wrapped\", \"wrapped\", \"wrapped\", \"wrapped\", \"wrapped\", \"wrapped\", \"wreck\", \"wreck\", \"write\", \"write\", \"write\", \"write\", \"write\", \"write\", \"write\", \"write\", \"write\", \"write\", \"wrong\", \"wrong\", \"wrong\", \"wrong\", \"wrong\", \"wrong\", \"wrong\", \"wrong\", \"wrong\", \"xzibit\", \"yay\", \"year\", \"year\", \"year\", \"year\", \"year\", \"year\", \"year\", \"year\", \"yearning\", \"years\", \"years\", \"years\", \"years\", \"years\", \"years\", \"years\", \"yeh\", \"yell\", \"yell\", \"yell\", \"yell\", \"yellow\", \"yellow\", \"yellow\", \"yellow\", \"young\", \"young\", \"young\", \"young\", \"young\", \"young\", \"young\", \"young\", \"youth\", \"youth\"]}, \"R\": 30, \"lambda.step\": 0.01, \"plot.opts\": {\"xlab\": \"PC1\", \"ylab\": \"PC2\"}, \"topic.order\": [1, 2, 3, 4, 5, 6, 7, 8, 9, 10, 11, 12, 13, 14, 15, 16, 17, 18, 19, 20, 21, 22, 23, 24, 25, 26, 27, 28, 29, 30, 31, 32, 33, 34, 35, 36, 37, 38, 39, 40, 41, 42, 43, 44, 45, 46, 47, 48, 49, 50, 51, 52, 53, 54, 55, 56, 57, 58, 59, 60, 61, 62, 63, 64, 65, 66, 67, 68, 69, 70]};\n",
       "\n",
       "function LDAvis_load_lib(url, callback){\n",
       "  var s = document.createElement('script');\n",
       "  s.src = url;\n",
       "  s.async = true;\n",
       "  s.onreadystatechange = s.onload = callback;\n",
       "  s.onerror = function(){console.warn(\"failed to load library \" + url);};\n",
       "  document.getElementsByTagName(\"head\")[0].appendChild(s);\n",
       "}\n",
       "\n",
       "if(typeof(LDAvis) !== \"undefined\"){\n",
       "   // already loaded: just create the visualization\n",
       "   !function(LDAvis){\n",
       "       new LDAvis(\"#\" + \"ldavis_el1658052925410089440173675\", ldavis_el1658052925410089440173675_data);\n",
       "   }(LDAvis);\n",
       "}else if(typeof define === \"function\" && define.amd){\n",
       "   // require.js is available: use it to load d3/LDAvis\n",
       "   require.config({paths: {d3: \"https://cdnjs.cloudflare.com/ajax/libs/d3/3.5.5/d3.min\"}});\n",
       "   require([\"d3\"], function(d3){\n",
       "      window.d3 = d3;\n",
       "      LDAvis_load_lib(\"https://cdn.rawgit.com/bmabey/pyLDAvis/files/ldavis.v1.0.0.js\", function(){\n",
       "        new LDAvis(\"#\" + \"ldavis_el1658052925410089440173675\", ldavis_el1658052925410089440173675_data);\n",
       "      });\n",
       "    });\n",
       "}else{\n",
       "    // require.js not available: dynamically load d3 & LDAvis\n",
       "    LDAvis_load_lib(\"https://cdnjs.cloudflare.com/ajax/libs/d3/3.5.5/d3.min.js\", function(){\n",
       "         LDAvis_load_lib(\"https://cdn.rawgit.com/bmabey/pyLDAvis/files/ldavis.v1.0.0.js\", function(){\n",
       "                 new LDAvis(\"#\" + \"ldavis_el1658052925410089440173675\", ldavis_el1658052925410089440173675_data);\n",
       "            })\n",
       "         });\n",
       "}\n",
       "</script>"
      ],
      "text/plain": [
       "PreparedData(topic_coordinates=              x         y  topics  cluster      Freq\n",
       "topic                                               \n",
       "0     -0.041780  0.394317       1        1  2.566101\n",
       "1      0.070248 -0.512770       2        1  0.678308\n",
       "2     -0.172363 -0.079433       3        1  2.703727\n",
       "3      0.045582  0.002235       4        1  0.012891\n",
       "4      0.090687  0.522788       5        1  0.614342\n",
       "...         ...       ...     ...      ...       ...\n",
       "65     0.001226  0.009993      66        1  0.022602\n",
       "66    -0.476048 -0.202657      67        1  0.751526\n",
       "67    -0.108608  0.015386      68        1  8.298486\n",
       "68    -0.166375 -0.236002      69        1  1.864008\n",
       "69    -0.471821  0.145926      70        1  0.800134\n",
       "\n",
       "[70 rows x 5 columns], topic_info=     Category          Freq     Term         Total  loglift  logprob\n",
       "1442  Default  12272.000000     love  12272.000000  30.0000  30.0000\n",
       "92    Default   6583.000000     baby   6583.000000  29.0000  29.0000\n",
       "1009  Default   4028.000000     girl   4028.000000  28.0000  28.0000\n",
       "1026  Default   3383.000000     good   3383.000000  27.0000  27.0000\n",
       "845   Default   3749.000000     feel   3749.000000  26.0000  26.0000\n",
       "...       ...           ...      ...           ...      ...      ...\n",
       "794   Topic70     15.908071      eye    502.674005   1.3750  -5.5687\n",
       "1168  Topic70     18.254659     hold   1548.296308   0.3877  -5.4311\n",
       "2746  Topic70     16.296158     wish    822.170620   0.9071  -5.5446\n",
       "568   Topic70     14.791866  dancing    406.812487   1.5139  -5.6415\n",
       "580   Topic70     14.852236      day   3693.610621  -0.6881  -5.6374\n",
       "\n",
       "[3214 rows x 6 columns], token_table=      Topic      Freq       Term\n",
       "term                            \n",
       "0         6  0.655419  abandoned\n",
       "0        36  0.046816  abandoned\n",
       "0        65  0.234078  abandoned\n",
       "2        60  0.958924   accident\n",
       "4        11  0.976889        ace\n",
       "...     ...       ...        ...\n",
       "2805     38  0.167842      young\n",
       "2805     65  0.202860      young\n",
       "2805     68  0.120750      young\n",
       "2806     36  0.130969      youth\n",
       "2806     58  0.858574      youth\n",
       "\n",
       "[7577 rows x 3 columns], R=30, lambda_step=0.01, plot_opts={'xlab': 'PC1', 'ylab': 'PC2'}, topic_order=[1, 2, 3, 4, 5, 6, 7, 8, 9, 10, 11, 12, 13, 14, 15, 16, 17, 18, 19, 20, 21, 22, 23, 24, 25, 26, 27, 28, 29, 30, 31, 32, 33, 34, 35, 36, 37, 38, 39, 40, 41, 42, 43, 44, 45, 46, 47, 48, 49, 50, 51, 52, 53, 54, 55, 56, 57, 58, 59, 60, 61, 62, 63, 64, 65, 66, 67, 68, 69, 70])"
      ]
     },
     "execution_count": 40,
     "metadata": {},
     "output_type": "execute_result"
    }
   ],
   "source": [
    "import pyLDAvis\n",
    "import pyLDAvis.sklearn\n",
    "pyLDAvis.enable_notebook()\n",
    "\n",
    "pyLDAvis.sklearn.prepare(topic_model, lyrics_vectorized, vectorizer, sort_topics=False, mds='mmds')"
   ]
  },
  {
   "cell_type": "code",
   "execution_count": 184,
   "metadata": {},
   "outputs": [],
   "source": [
    "labels = [\n",
    "    (1, \"love\"),\n",
    "    (2, \"history\", \"war\", \"people\"),\n",
    "    (11, \"father\"),\n",
    "    (16, \"travel\"),\n",
    "    (11, \"love\"),\n",
    "    (25, \"dreams\", \"life\"),\n",
    "    (27, \"mother\"),\n",
    "    (28, \"death\"),\n",
    "    (29, \"rock and roll\"),\n",
    "    (30, \"love\"),\n",
    "    (32, \"time\"),\n",
    "    (38, \"anger\", \"rap\", \"race\"),\n",
    "    (44, \"game\"),\n",
    "    (45, \"drinking\"),\n",
    "    (46, \"sickness\"),\n",
    "    (49, \"enjoyment\"),\n",
    "    (52, \"city\"),\n",
    "    (57, \"anger\"),\n",
    "    (58, \"time\"),\n",
    "    (60, \"race\"),\n",
    "    (61, \"life\", \"heartbreak\", \"time\"),\n",
    "    (65, \"family\", \"people\"),\n",
    "    (67, \"party\"),\n",
    "    (68, \"money\")\n",
    "]\n",
    "\n",
    "\n",
    "labels_dict = {}\n",
    "for label in labels:\n",
    "    labels_dict[label[0]-1] = []\n",
    "    for i in range(1, len(label)):\n",
    "        labels_dict[label[0]-1].append(label[i])"
   ]
  },
  {
   "cell_type": "code",
   "execution_count": 185,
   "metadata": {},
   "outputs": [
    {
     "name": "stdout",
     "output_type": "stream",
     "text": [
      "0-indexed topics:\n"
     ]
    },
    {
     "data": {
      "text/plain": [
       "{0: ['love'],\n",
       " 1: ['history', 'war', 'people'],\n",
       " 10: ['love'],\n",
       " 15: ['travel'],\n",
       " 24: ['dreams', 'life'],\n",
       " 26: ['mother'],\n",
       " 27: ['death'],\n",
       " 28: ['rock and roll'],\n",
       " 29: ['love'],\n",
       " 31: ['time'],\n",
       " 37: ['anger', 'rap', 'race'],\n",
       " 43: ['game'],\n",
       " 44: ['drinking'],\n",
       " 45: ['sickness'],\n",
       " 48: ['enjoyment'],\n",
       " 51: ['city'],\n",
       " 56: ['anger'],\n",
       " 57: ['time'],\n",
       " 59: ['race'],\n",
       " 60: ['life', 'heartbreak', 'time'],\n",
       " 64: ['family', 'people'],\n",
       " 66: ['party'],\n",
       " 67: ['money']}"
      ]
     },
     "execution_count": 185,
     "metadata": {},
     "output_type": "execute_result"
    }
   ],
   "source": [
    "set_of_labels = set()\n",
    "for label in labels_dict:\n",
    "    set_of_labels.update(labels_dict[label])\n",
    "# print(set_of_labels)\n",
    "\n",
    "print(\"0-indexed topics:\")\n",
    "labels_dict"
   ]
  },
  {
   "cell_type": "code",
   "execution_count": 404,
   "metadata": {},
   "outputs": [
    {
     "name": "stdout",
     "output_type": "stream",
     "text": [
      "Number of labelled topics: 24\n",
      "Number of labels: 23\n"
     ]
    }
   ],
   "source": [
    "print(\"Number of labelled topics:\", len(labels))\n",
    "print(\"Number of labels:\", len(set_of_labels))"
   ]
  },
  {
   "cell_type": "code",
   "execution_count": 186,
   "metadata": {},
   "outputs": [],
   "source": [
    "df['topics'] = None\n",
    "df['relevancies'] = None\n",
    "df['joy'] = int(0)\n",
    "df['trust'] = int(0)\n",
    "df['sadness'] = int(0)\n",
    "df['anger'] = int(0)\n",
    "df['fear'] = int(0)\n",
    "df['anticipation'] = int(0)\n",
    "df['surprise'] = int(0)\n",
    "df['disgust'] = int(0)\n",
    "\n",
    "for label in set_of_labels:\n",
    "    df[label] = int(0)"
   ]
  },
  {
   "cell_type": "code",
   "execution_count": 147,
   "metadata": {},
   "outputs": [
    {
     "data": {
      "text/plain": [
       "<module 'display_utils' from '/Users/huzefaraja/projects/nlp/mireal/display_utils.py'>"
      ]
     },
     "execution_count": 147,
     "metadata": {},
     "output_type": "execute_result"
    }
   ],
   "source": [
    "import importlib\n",
    "importlib.reload(display_utils)"
   ]
  },
  {
   "cell_type": "code",
   "execution_count": 111,
   "metadata": {},
   "outputs": [
    {
     "data": {
      "text/html": [
       "<div>\n",
       "<style scoped>\n",
       "    .dataframe tbody tr th:only-of-type {\n",
       "        vertical-align: middle;\n",
       "    }\n",
       "\n",
       "    .dataframe tbody tr th {\n",
       "        vertical-align: top;\n",
       "    }\n",
       "\n",
       "    .dataframe thead th {\n",
       "        text-align: right;\n",
       "    }\n",
       "</style>\n",
       "<table border=\"1\" class=\"dataframe\">\n",
       "  <thead>\n",
       "    <tr style=\"text-align: right;\">\n",
       "      <th></th>\n",
       "      <th>song</th>\n",
       "      <th>artist</th>\n",
       "      <th>topics</th>\n",
       "    </tr>\n",
       "  </thead>\n",
       "  <tbody>\n",
       "    <tr>\n",
       "      <td>0</td>\n",
       "      <td>Cassandra</td>\n",
       "      <td>ABBA</td>\n",
       "      <td>NaN</td>\n",
       "    </tr>\n",
       "  </tbody>\n",
       "</table>\n",
       "</div>"
      ],
      "text/plain": [
       "        song artist topics\n",
       "0  Cassandra   ABBA    NaN"
      ]
     },
     "metadata": {},
     "output_type": "display_data"
    },
    {
     "data": {
      "text/html": [
       "<div>\n",
       "<style scoped>\n",
       "    .dataframe tbody tr th:only-of-type {\n",
       "        vertical-align: middle;\n",
       "    }\n",
       "\n",
       "    .dataframe tbody tr th {\n",
       "        vertical-align: top;\n",
       "    }\n",
       "\n",
       "    .dataframe thead th {\n",
       "        text-align: right;\n",
       "    }\n",
       "</style>\n",
       "<table border=\"1\" class=\"dataframe\">\n",
       "  <thead>\n",
       "    <tr style=\"text-align: right;\">\n",
       "      <th></th>\n",
       "      <th>song</th>\n",
       "      <th>artist</th>\n",
       "      <th>joy</th>\n",
       "      <th>trust</th>\n",
       "      <th>sadness</th>\n",
       "      <th>disgust</th>\n",
       "      <th>anger</th>\n",
       "      <th>fear</th>\n",
       "      <th>anticipation</th>\n",
       "      <th>surprise</th>\n",
       "    </tr>\n",
       "  </thead>\n",
       "  <tbody>\n",
       "    <tr>\n",
       "      <td>0</td>\n",
       "      <td>Cassandra</td>\n",
       "      <td>ABBA</td>\n",
       "      <td>0</td>\n",
       "      <td>0</td>\n",
       "      <td>0</td>\n",
       "      <td>0</td>\n",
       "      <td>0</td>\n",
       "      <td>0</td>\n",
       "      <td>0</td>\n",
       "      <td>0</td>\n",
       "    </tr>\n",
       "  </tbody>\n",
       "</table>\n",
       "</div>"
      ],
      "text/plain": [
       "        song artist  joy  trust  sadness  disgust  anger  fear  anticipation  \\\n",
       "0  Cassandra   ABBA    0      0        0        0      0     0             0   \n",
       "\n",
       "   surprise  \n",
       "0         0  "
      ]
     },
     "metadata": {},
     "output_type": "display_data"
    }
   ],
   "source": [
    "display_utils.display_song_topics(['Cassandra','ABBA' 'Dance'], df)\n",
    "display_utils.display_song_emotions(['Cassandra','ABBA' 'Dance'], df\n",
    "\n",
    "# The reason it's NaN is because addition was performed on the topics (to go from indexes to numbers, but None caused NaN)"
   ]
  },
  {
   "cell_type": "markdown",
   "metadata": {},
   "source": [
    "The next step is to transform the lyrics and then assign topics to the song:"
   ]
  },
  {
   "cell_type": "code",
   "execution_count": 187,
   "metadata": {},
   "outputs": [],
   "source": [
    "lyrics_transformed = topic_model.transform(lyrics_vectorized)"
   ]
  },
  {
   "cell_type": "code",
   "execution_count": 188,
   "metadata": {},
   "outputs": [
    {
     "name": "stdout",
     "output_type": "stream",
     "text": [
      "Number of songs in topic 1 = 453 (10%) ... processing time: 1s 663ms\n",
      "Number of songs in topic 2 = 67 (1%) ... processing time: 713ms\n",
      "Number of songs in topic 3 = 416 (9%) ... processing time: 1s 581ms\n",
      "Number of songs in topic 4 = 10 (0%) ... processing time: 605ms\n",
      "Number of songs in topic 5 = 58 (1%) ... processing time: 731ms\n",
      "Number of songs in topic 6 = 380 (8%) ... processing time: 1s 482ms\n",
      "Number of songs in topic 7 = 73 (2%) ... processing time: 748ms\n",
      "Number of songs in topic 8 = 83 (2%) ... processing time: 754ms\n",
      "Number of songs in topic 9 = 94 (2%) ... processing time: 814ms\n",
      "Number of songs in topic 10 = 18 (0%) ... processing time: 608ms\n",
      "Number of songs in topic 11 = 105 (2%) ... processing time: 807ms\n",
      "Number of songs in topic 12 = 19 (0%) ... processing time: 595ms\n",
      "Number of songs in topic 13 = 119 (3%) ... processing time: 858ms\n",
      "Number of songs in topic 14 = 26 (1%) ... processing time: 629ms\n",
      "Number of songs in topic 15 = 82 (2%) ... processing time: 777ms\n",
      "Number of songs in topic 16 = 49 (1%) ... processing time: 666ms\n",
      "Number of songs in topic 17 = 59 (1%) ... processing time: 695ms\n",
      "Number of songs in topic 18 = 19 (0%) ... processing time: 605ms\n",
      "Number of songs in topic 19 = 108 (2%) ... processing time: 818ms\n",
      "Number of songs in topic 20 = 41 (1%) ... processing time: 667ms\n",
      "Number of songs in topic 21 = 26 (1%) ... processing time: 660ms\n",
      "Number of songs in topic 22 = 167 (4%) ... processing time: 960ms\n",
      "Number of songs in topic 23 = 105 (2%) ... processing time: 829ms\n",
      "Number of songs in topic 24 = 210 (4%) ... processing time: 1s 156ms\n",
      "Number of songs in topic 25 = 253 (5%) ... processing time: 1s 192ms\n",
      "Number of songs in topic 26 = 169 (4%) ... processing time: 951ms\n",
      "Number of songs in topic 27 = 254 (5%) ... processing time: 1s 177ms\n",
      "Number of songs in topic 28 = 738 (16%) ... processing time: 2s 529ms\n",
      "Number of songs in topic 29 = 147 (3%) ... processing time: 855ms\n",
      "Number of songs in topic 30 = 502 (11%) ... processing time: 1s 686ms\n",
      "Number of songs in topic 31 = 61 (1%) ... processing time: 670ms\n",
      "Number of songs in topic 32 = 472 (10%) ... processing time: 1s 625ms\n",
      "Number of songs in topic 33 = 276 (6%) ... processing time: 1s 157ms\n",
      "Number of songs in topic 34 = 96 (2%) ... processing time: 752ms\n",
      "Number of songs in topic 35 = 108 (2%) ... processing time: 773ms\n",
      "Number of songs in topic 36 = 531 (11%) ... processing time: 1s 771ms\n",
      "Number of songs in topic 37 = 194 (4%) ... processing time: 966ms\n",
      "Number of songs in topic 38 = 1271 (27%) ... processing time: 3s 541ms\n",
      "Number of songs in topic 39 = 116 (2%) ... processing time: 787ms\n",
      "Number of songs in topic 40 = 93 (2%) ... processing time: 737ms\n",
      "Number of songs in topic 41 = 134 (3%) ... processing time: 845ms\n",
      "Number of songs in topic 42 = 10 (0%) ... processing time: 562ms\n",
      "Number of songs in topic 43 = 158 (3%) ... processing time: 893ms\n",
      "Number of songs in topic 44 = 14 (0%) ... processing time: 571ms\n",
      "Number of songs in topic 45 = 12 (0%) ... processing time: 574ms\n",
      "Number of songs in topic 46 = 149 (3%) ... processing time: 884ms\n",
      "Number of songs in topic 47 = 10 (0%) ... processing time: 589ms\n",
      "Number of songs in topic 48 = 10 (0%) ... processing time: 592ms\n",
      "Number of songs in topic 49 = 19 (0%) ... processing time: 597ms\n",
      "Number of songs in topic 50 = 177 (4%) ... processing time: 936ms\n",
      "Number of songs in topic 51 = 11 (0%) ... processing time: 559ms\n",
      "Number of songs in topic 52 = 114 (2%) ... processing time: 795ms\n",
      "Number of songs in topic 53 = 219 (5%) ... processing time: 1s 15ms\n",
      "Number of songs in topic 54 = 230 (5%) ... processing time: 1s 60ms\n",
      "Number of songs in topic 55 = 54 (1%) ... processing time: 662ms\n",
      "Number of songs in topic 56 = 50 (1%) ... processing time: 643ms\n",
      "Number of songs in topic 57 = 173 (4%) ... processing time: 925ms\n",
      "Number of songs in topic 58 = 347 (7%) ... processing time: 1s 323ms\n",
      "Number of songs in topic 59 = 41 (1%) ... processing time: 623ms\n",
      "Number of songs in topic 60 = 136 (3%) ... processing time: 833ms\n",
      "Number of songs in topic 61 = 1572 (33%) ... processing time: 4s 284ms\n",
      "Number of songs in topic 62 = 80 (2%) ... processing time: 710ms\n",
      "Number of songs in topic 63 = 73 (2%) ... processing time: 688ms\n",
      "Number of songs in topic 64 = 155 (3%) ... processing time: 878ms\n",
      "Number of songs in topic 65 = 645 (14%) ... processing time: 2s 27ms\n",
      "Number of songs in topic 66 = 11 (0%) ... processing time: 569ms\n",
      "Number of songs in topic 67 = 80 (2%) ... processing time: 708ms\n",
      "Number of songs in topic 68 = 1649 (35%) ... processing time: 4s 463ms\n",
      "Number of songs in topic 69 = 293 (6%) ... processing time: 1s 205ms\n",
      "Number of songs in topic 70 = 88 (2%) ... processing time: 725ms\n"
     ]
    }
   ],
   "source": [
    "dict_t2s = {}\n",
    "\n",
    "for t in range(n_topics):\n",
    "    last = now()\n",
    "    df_song_topics = data_utils.get_songs_for_topic(topic_model, lyrics_transformed, t, 0, df)\n",
    "    df_song_topics['searched_topic'] = t\n",
    "    print(\"Number of songs in topic {0} = {1} ({2}%) ... processing time: \".format(t+1,len(df_song_topics),\n",
    "                                                                                   round(len(df_song_topics)/len(df)*100)), end='')\n",
    "    dict_t2s[t+1] = len(df_song_topics)\n",
    "    display_utils.print_time(now() - last)"
   ]
  },
  {
   "cell_type": "markdown",
   "metadata": {},
   "source": [
    "Let's look at that information as a graph."
   ]
  },
  {
   "cell_type": "code",
   "execution_count": 189,
   "metadata": {},
   "outputs": [
    {
     "data": {
      "text/plain": [
       "<matplotlib.axes._subplots.AxesSubplot at 0x14aa98b50>"
      ]
     },
     "execution_count": 189,
     "metadata": {},
     "output_type": "execute_result"
    },
    {
     "data": {
      "image/png": "[encoded data removed]",
      "text/plain": [
       "<Figure size 1152x576 with 1 Axes>"
      ]
     },
     "metadata": {
      "needs_background": "light"
     },
     "output_type": "display_data"
    }
   ],
   "source": [
    "t2s = pd.Series(dict_t2s)\n",
    "t2s.sort_values(inplace=True)\n",
    "t2s.plot(kind='bar', figsize=(16,8))"
   ]
  },
  {
   "cell_type": "markdown",
   "metadata": {},
   "source": [
    "Depending on how emotions are assigned to the topics, we could be looking at some label imbalances.\n",
    "Anyway, let's not get ahead of ourselves, let's look at what topics are assigned to some of the songs:"
   ]
  },
  {
   "cell_type": "code",
   "execution_count": 199,
   "metadata": {},
   "outputs": [
    {
     "data": {
      "text/html": [
       "<div>\n",
       "<style scoped>\n",
       "    .dataframe tbody tr th:only-of-type {\n",
       "        vertical-align: middle;\n",
       "    }\n",
       "\n",
       "    .dataframe tbody tr th {\n",
       "        vertical-align: top;\n",
       "    }\n",
       "\n",
       "    .dataframe thead th {\n",
       "        text-align: right;\n",
       "    }\n",
       "</style>\n",
       "<table border=\"1\" class=\"dataframe\">\n",
       "  <thead>\n",
       "    <tr style=\"text-align: right;\">\n",
       "      <th></th>\n",
       "      <th>song</th>\n",
       "      <th>artist</th>\n",
       "      <th>topics</th>\n",
       "    </tr>\n",
       "  </thead>\n",
       "  <tbody>\n",
       "    <tr>\n",
       "      <td>2345</td>\n",
       "      <td>Marvins Room</td>\n",
       "      <td>Drake</td>\n",
       "      <td>[38, 65, 68]</td>\n",
       "    </tr>\n",
       "    <tr>\n",
       "      <td>2447</td>\n",
       "      <td>Love The Way You Lie</td>\n",
       "      <td>Eminem</td>\n",
       "      <td>[30, 61]</td>\n",
       "    </tr>\n",
       "  </tbody>\n",
       "</table>\n",
       "</div>"
      ],
      "text/plain": [
       "                      song  artist        topics\n",
       "2345          Marvins Room   Drake  [38, 65, 68]\n",
       "2447  Love The Way You Lie  Eminem      [30, 61]"
      ]
     },
     "metadata": {},
     "output_type": "display_data"
    },
    {
     "data": {
      "text/html": [
       "<div>\n",
       "<style scoped>\n",
       "    .dataframe tbody tr th:only-of-type {\n",
       "        vertical-align: middle;\n",
       "    }\n",
       "\n",
       "    .dataframe tbody tr th {\n",
       "        vertical-align: top;\n",
       "    }\n",
       "\n",
       "    .dataframe thead th {\n",
       "        text-align: right;\n",
       "    }\n",
       "</style>\n",
       "<table border=\"1\" class=\"dataframe\">\n",
       "  <thead>\n",
       "    <tr style=\"text-align: right;\">\n",
       "      <th></th>\n",
       "      <th>song</th>\n",
       "      <th>artist</th>\n",
       "      <th>joy</th>\n",
       "      <th>trust</th>\n",
       "      <th>sadness</th>\n",
       "      <th>disgust</th>\n",
       "      <th>anger</th>\n",
       "      <th>fear</th>\n",
       "      <th>anticipation</th>\n",
       "      <th>surprise</th>\n",
       "    </tr>\n",
       "  </thead>\n",
       "  <tbody>\n",
       "    <tr>\n",
       "      <td>2345</td>\n",
       "      <td>Marvins Room</td>\n",
       "      <td>Drake</td>\n",
       "      <td>0</td>\n",
       "      <td>0</td>\n",
       "      <td>0</td>\n",
       "      <td>0</td>\n",
       "      <td>0</td>\n",
       "      <td>0</td>\n",
       "      <td>0</td>\n",
       "      <td>0</td>\n",
       "    </tr>\n",
       "    <tr>\n",
       "      <td>2447</td>\n",
       "      <td>Love The Way You Lie</td>\n",
       "      <td>Eminem</td>\n",
       "      <td>0</td>\n",
       "      <td>0</td>\n",
       "      <td>0</td>\n",
       "      <td>0</td>\n",
       "      <td>0</td>\n",
       "      <td>0</td>\n",
       "      <td>0</td>\n",
       "      <td>0</td>\n",
       "    </tr>\n",
       "  </tbody>\n",
       "</table>\n",
       "</div>"
      ],
      "text/plain": [
       "                      song  artist  joy  trust  sadness  disgust  anger  fear  \\\n",
       "2345          Marvins Room   Drake    0      0        0        0      0     0   \n",
       "2447  Love The Way You Lie  Eminem    0      0        0        0      0     0   \n",
       "\n",
       "      anticipation  surprise  \n",
       "2345             0         0  \n",
       "2447             0         0  "
      ]
     },
     "metadata": {},
     "output_type": "display_data"
    }
   ],
   "source": [
    "display_utils.display_song_topics(['Love The Way You Lie', 'Marvins Room'], df)\n",
    "display_utils.display_song_emotions(['Love The Way You Lie', 'Marvins Room'], df)"
   ]
  },
  {
   "cell_type": "markdown",
   "metadata": {},
   "source": [
    "# Emotion Annotation"
   ]
  },
  {
   "cell_type": "code",
   "execution_count": null,
   "metadata": {},
   "outputs": [],
   "source": [
    "from nltk import PorterStemmer\n",
    "ps = PorterStemmer()\n",
    "\n",
    "df_w2e['stem'] = df_w2e['word'].apply(lambda x: ps.stem(x))\n",
    "df_w2e_stemmed = df_w2e[['stem', 'anger', 'anticipation', 'disgust', 'fear', 'joy', 'sadness', 'surprise', 'trust']]\n",
    "df_w2e_stemmed = df_w2e_stemmed.groupby('stem').sum()\n",
    "\n",
    "words_w2e_stemmed = df_w2e_stemmed.index.tolist()"
   ]
  },
  {
   "cell_type": "code",
   "execution_count": 200,
   "metadata": {},
   "outputs": [
    {
     "name": "stdout",
     "output_type": "stream",
     "text": [
      "145 words matched out of 262 words for Topic 1, (55%)\n",
      "127 words matched out of 289 words for Topic 2, (44%)\n",
      "65 words matched out of 224 words for Topic 3, (29%)\n",
      "130 words matched out of 250 words for Topic 4, (52%)\n",
      "99 words matched out of 286 words for Topic 5, (35%)\n",
      "108 words matched out of 242 words for Topic 6, (45%)\n",
      "81 words matched out of 248 words for Topic 7, (33%)\n",
      "127 words matched out of 291 words for Topic 8, (44%)\n",
      "92 words matched out of 236 words for Topic 9, (39%)\n",
      "80 words matched out of 262 words for Topic 10, (31%)\n",
      "93 words matched out of 260 words for Topic 11, (36%)\n",
      "109 words matched out of 240 words for Topic 12, (45%)\n",
      "98 words matched out of 257 words for Topic 13, (38%)\n",
      "124 words matched out of 296 words for Topic 14, (42%)\n",
      "118 words matched out of 285 words for Topic 15, (41%)\n",
      "85 words matched out of 287 words for Topic 16, (30%)\n",
      "111 words matched out of 289 words for Topic 17, (38%)\n",
      "97 words matched out of 277 words for Topic 18, (35%)\n",
      "138 words matched out of 278 words for Topic 19, (50%)\n",
      "99 words matched out of 291 words for Topic 20, (34%)\n",
      "114 words matched out of 328 words for Topic 21, (35%)\n",
      "109 words matched out of 295 words for Topic 22, (37%)\n",
      "99 words matched out of 271 words for Topic 23, (37%)\n",
      "104 words matched out of 256 words for Topic 24, (41%)\n",
      "124 words matched out of 252 words for Topic 25, (49%)\n",
      "70 words matched out of 282 words for Topic 26, (25%)\n",
      "98 words matched out of 272 words for Topic 27, (36%)\n",
      "128 words matched out of 272 words for Topic 28, (47%)\n",
      "107 words matched out of 251 words for Topic 29, (43%)\n",
      "91 words matched out of 202 words for Topic 30, (45%)\n",
      "122 words matched out of 281 words for Topic 31, (43%)\n",
      "95 words matched out of 247 words for Topic 32, (38%)\n",
      "60 words matched out of 203 words for Topic 33, (30%)\n",
      "99 words matched out of 268 words for Topic 34, (37%)\n",
      "98 words matched out of 281 words for Topic 35, (35%)\n",
      "107 words matched out of 282 words for Topic 36, (38%)\n",
      "90 words matched out of 246 words for Topic 37, (37%)\n",
      "54 words matched out of 191 words for Topic 38, (28%)\n",
      "135 words matched out of 294 words for Topic 39, (46%)\n",
      "99 words matched out of 269 words for Topic 40, (37%)\n",
      "84 words matched out of 269 words for Topic 41, (31%)\n",
      "134 words matched out of 335 words for Topic 42, (40%)\n",
      "97 words matched out of 262 words for Topic 43, (37%)\n",
      "91 words matched out of 301 words for Topic 44, (30%)\n",
      "109 words matched out of 340 words for Topic 45, (32%)\n",
      "99 words matched out of 234 words for Topic 46, (42%)\n",
      "103 words matched out of 296 words for Topic 47, (35%)\n",
      "125 words matched out of 320 words for Topic 48, (39%)\n",
      "72 words matched out of 262 words for Topic 49, (27%)\n",
      "125 words matched out of 297 words for Topic 50, (42%)\n",
      "110 words matched out of 252 words for Topic 51, (44%)\n",
      "94 words matched out of 266 words for Topic 52, (35%)\n",
      "103 words matched out of 237 words for Topic 53, (43%)\n",
      "83 words matched out of 250 words for Topic 54, (33%)\n",
      "98 words matched out of 290 words for Topic 55, (34%)\n",
      "144 words matched out of 303 words for Topic 56, (48%)\n",
      "81 words matched out of 265 words for Topic 57, (31%)\n",
      "110 words matched out of 279 words for Topic 58, (39%)\n",
      "131 words matched out of 308 words for Topic 59, (43%)\n",
      "117 words matched out of 307 words for Topic 60, (38%)\n",
      "88 words matched out of 153 words for Topic 61, (58%)\n",
      "94 words matched out of 277 words for Topic 62, (34%)\n",
      "79 words matched out of 260 words for Topic 63, (30%)\n",
      "107 words matched out of 280 words for Topic 64, (38%)\n",
      "62 words matched out of 203 words for Topic 65, (31%)\n",
      "85 words matched out of 211 words for Topic 66, (40%)\n",
      "98 words matched out of 251 words for Topic 67, (39%)\n",
      "66 words matched out of 202 words for Topic 68, (33%)\n",
      "84 words matched out of 264 words for Topic 69, (32%)\n",
      "102 words matched out of 284 words for Topic 70, (36%)\n",
      "7104 words matched out of 18651 words in total.\n",
      "That's about 38% matches.\n"
     ]
    }
   ],
   "source": [
    "df_t2e = pd.DataFrame()\n",
    "\n",
    "words_top = data_utils.get_top_words_for_each_topic(topic_model, vectorizer.get_feature_names(), 50)\n",
    "word_count = 0\n",
    "matched_word_count = 0\n",
    "\n",
    "for t in range(len(words_top)):\n",
    "    wordset = set(words_top[t])\n",
    "    t_word_count = 0\n",
    "    t_matched_word_count =  0\n",
    "    for word in words_top[t]:\n",
    "        wordset.update(data_utils.get_similar_words(w2v_model, word, 0.6))\n",
    "    for word in wordset:\n",
    "        word_count +=  1\n",
    "        t_word_count +=  1\n",
    "        word = ps.stem(word)\n",
    "        if word in words_w2e_stemmed:\n",
    "            word_i = words_w2e_stemmed.index(word)\n",
    "            matched_word_count +=  1\n",
    "            t_matched_word_count +=  1\n",
    "        \n",
    "            df_temp = df_w2e_stemmed.loc[words_w2e_stemmed[word_i:word_i+1]][\n",
    "                ['anger', 'anticipation', 'fear', 'joy', 'sadness', 'trust']] \n",
    "            # dropping 'surprise' and 'disgust' because they are difficult to manually identify\n",
    "            # also because they are less relevant\n",
    "            df_temp['topic'] = t\n",
    "            df_t2e=df_t2e.append(df_temp)\n",
    "    print(\"{0} words matched out of {1} words for Topic {2}, ({3}%)\".format(t_matched_word_count, t_word_count, t+1,\n",
    "                                                                            round(t_matched_word_count/t_word_count*100)))\n",
    "\n",
    "print(\"{0} words matched out of {1} words in total.\\nThat's about {2}% matches.\".format(\n",
    "    matched_word_count, word_count, round(matched_word_count/word_count*100)))"
   ]
  },
  {
   "cell_type": "code",
   "execution_count": 201,
   "metadata": {},
   "outputs": [],
   "source": [
    "top_word = data_utils.get_top_words_for_each_topic(topic_model, vectorizer.get_feature_names(), 5)"
   ]
  },
  {
   "cell_type": "code",
   "execution_count": 423,
   "metadata": {},
   "outputs": [],
   "source": [
    "def get_prominent_emotions(row, threshold=0.9):\n",
    "    prominent = max(row)\n",
    "    match_count = sum(row)\n",
    "    row = (row/prominent)\n",
    "    row['prominent_emotions'] = [index for index, value in row.iteritems() if value >= threshold]\n",
    "    row['match_count'] = match_count\n",
    "    return row"
   ]
  },
  {
   "cell_type": "code",
   "execution_count": 424,
   "metadata": {},
   "outputs": [
    {
     "data": {
      "text/html": [
       "<div>\n",
       "<style scoped>\n",
       "    .dataframe tbody tr th:only-of-type {\n",
       "        vertical-align: middle;\n",
       "    }\n",
       "\n",
       "    .dataframe tbody tr th {\n",
       "        vertical-align: top;\n",
       "    }\n",
       "\n",
       "    .dataframe thead th {\n",
       "        text-align: right;\n",
       "    }\n",
       "</style>\n",
       "<table border=\"1\" class=\"dataframe\">\n",
       "  <thead>\n",
       "    <tr style=\"text-align: right;\">\n",
       "      <th></th>\n",
       "      <th>anger</th>\n",
       "      <th>anticipation</th>\n",
       "      <th>fear</th>\n",
       "      <th>joy</th>\n",
       "      <th>sadness</th>\n",
       "      <th>trust</th>\n",
       "      <th>prominent_emotions</th>\n",
       "      <th>match_count</th>\n",
       "    </tr>\n",
       "    <tr>\n",
       "      <th>topic</th>\n",
       "      <th></th>\n",
       "      <th></th>\n",
       "      <th></th>\n",
       "      <th></th>\n",
       "      <th></th>\n",
       "      <th></th>\n",
       "      <th></th>\n",
       "      <th></th>\n",
       "    </tr>\n",
       "  </thead>\n",
       "  <tbody>\n",
       "    <tr>\n",
       "      <td>1</td>\n",
       "      <td>0.626506</td>\n",
       "      <td>0.626506</td>\n",
       "      <td>0.831325</td>\n",
       "      <td>0.674699</td>\n",
       "      <td>1.000000</td>\n",
       "      <td>0.746988</td>\n",
       "      <td>[sadness]</td>\n",
       "      <td>374.0</td>\n",
       "    </tr>\n",
       "    <tr>\n",
       "      <td>2</td>\n",
       "      <td>0.645161</td>\n",
       "      <td>0.725806</td>\n",
       "      <td>0.838710</td>\n",
       "      <td>0.516129</td>\n",
       "      <td>0.854839</td>\n",
       "      <td>1.000000</td>\n",
       "      <td>[trust]</td>\n",
       "      <td>284.0</td>\n",
       "    </tr>\n",
       "    <tr>\n",
       "      <td>3</td>\n",
       "      <td>1.000000</td>\n",
       "      <td>0.538462</td>\n",
       "      <td>0.884615</td>\n",
       "      <td>0.384615</td>\n",
       "      <td>0.807692</td>\n",
       "      <td>0.884615</td>\n",
       "      <td>[anger]</td>\n",
       "      <td>117.0</td>\n",
       "    </tr>\n",
       "    <tr>\n",
       "      <td>4</td>\n",
       "      <td>0.666667</td>\n",
       "      <td>0.666667</td>\n",
       "      <td>1.000000</td>\n",
       "      <td>0.750000</td>\n",
       "      <td>0.861111</td>\n",
       "      <td>0.916667</td>\n",
       "      <td>[fear, trust]</td>\n",
       "      <td>350.0</td>\n",
       "    </tr>\n",
       "    <tr>\n",
       "      <td>5</td>\n",
       "      <td>1.000000</td>\n",
       "      <td>0.642857</td>\n",
       "      <td>1.000000</td>\n",
       "      <td>0.595238</td>\n",
       "      <td>0.833333</td>\n",
       "      <td>0.880952</td>\n",
       "      <td>[anger, fear]</td>\n",
       "      <td>208.0</td>\n",
       "    </tr>\n",
       "    <tr>\n",
       "      <td>...</td>\n",
       "      <td>...</td>\n",
       "      <td>...</td>\n",
       "      <td>...</td>\n",
       "      <td>...</td>\n",
       "      <td>...</td>\n",
       "      <td>...</td>\n",
       "      <td>...</td>\n",
       "      <td>...</td>\n",
       "    </tr>\n",
       "    <tr>\n",
       "      <td>66</td>\n",
       "      <td>0.880952</td>\n",
       "      <td>0.761905</td>\n",
       "      <td>1.000000</td>\n",
       "      <td>0.833333</td>\n",
       "      <td>0.976190</td>\n",
       "      <td>0.738095</td>\n",
       "      <td>[fear, sadness]</td>\n",
       "      <td>218.0</td>\n",
       "    </tr>\n",
       "    <tr>\n",
       "      <td>67</td>\n",
       "      <td>0.592593</td>\n",
       "      <td>0.981481</td>\n",
       "      <td>0.685185</td>\n",
       "      <td>0.888889</td>\n",
       "      <td>0.833333</td>\n",
       "      <td>1.000000</td>\n",
       "      <td>[anticipation, trust]</td>\n",
       "      <td>269.0</td>\n",
       "    </tr>\n",
       "    <tr>\n",
       "      <td>68</td>\n",
       "      <td>1.000000</td>\n",
       "      <td>0.545455</td>\n",
       "      <td>0.818182</td>\n",
       "      <td>0.484848</td>\n",
       "      <td>0.757576</td>\n",
       "      <td>0.818182</td>\n",
       "      <td>[anger]</td>\n",
       "      <td>146.0</td>\n",
       "    </tr>\n",
       "    <tr>\n",
       "      <td>69</td>\n",
       "      <td>0.385965</td>\n",
       "      <td>0.614035</td>\n",
       "      <td>0.473684</td>\n",
       "      <td>1.000000</td>\n",
       "      <td>0.403509</td>\n",
       "      <td>0.877193</td>\n",
       "      <td>[joy]</td>\n",
       "      <td>214.0</td>\n",
       "    </tr>\n",
       "    <tr>\n",
       "      <td>70</td>\n",
       "      <td>0.530612</td>\n",
       "      <td>0.632653</td>\n",
       "      <td>0.551020</td>\n",
       "      <td>0.714286</td>\n",
       "      <td>0.857143</td>\n",
       "      <td>1.000000</td>\n",
       "      <td>[trust]</td>\n",
       "      <td>210.0</td>\n",
       "    </tr>\n",
       "  </tbody>\n",
       "</table>\n",
       "<p>70 rows × 8 columns</p>\n",
       "</div>"
      ],
      "text/plain": [
       "          anger  anticipation      fear       joy   sadness     trust  \\\n",
       "topic                                                                   \n",
       "1      0.626506      0.626506  0.831325  0.674699  1.000000  0.746988   \n",
       "2      0.645161      0.725806  0.838710  0.516129  0.854839  1.000000   \n",
       "3      1.000000      0.538462  0.884615  0.384615  0.807692  0.884615   \n",
       "4      0.666667      0.666667  1.000000  0.750000  0.861111  0.916667   \n",
       "5      1.000000      0.642857  1.000000  0.595238  0.833333  0.880952   \n",
       "...         ...           ...       ...       ...       ...       ...   \n",
       "66     0.880952      0.761905  1.000000  0.833333  0.976190  0.738095   \n",
       "67     0.592593      0.981481  0.685185  0.888889  0.833333  1.000000   \n",
       "68     1.000000      0.545455  0.818182  0.484848  0.757576  0.818182   \n",
       "69     0.385965      0.614035  0.473684  1.000000  0.403509  0.877193   \n",
       "70     0.530612      0.632653  0.551020  0.714286  0.857143  1.000000   \n",
       "\n",
       "          prominent_emotions  match_count  \n",
       "topic                                      \n",
       "1                  [sadness]        374.0  \n",
       "2                    [trust]        284.0  \n",
       "3                    [anger]        117.0  \n",
       "4              [fear, trust]        350.0  \n",
       "5              [anger, fear]        208.0  \n",
       "...                      ...          ...  \n",
       "66           [fear, sadness]        218.0  \n",
       "67     [anticipation, trust]        269.0  \n",
       "68                   [anger]        146.0  \n",
       "69                     [joy]        214.0  \n",
       "70                   [trust]        210.0  \n",
       "\n",
       "[70 rows x 8 columns]"
      ]
     },
     "metadata": {},
     "output_type": "display_data"
    }
   ],
   "source": [
    "df_t2e_grouped = df_t2e.groupby('topic').sum()\n",
    "df_t2e_assigned = df_t2e_grouped.apply(get_prominent_emotions, axis=1)\n",
    "df_t2e_assigned.index = df_t2e_assigned.index + 1\n",
    "display(df_t2e_assigned)"
   ]
  },
  {
   "cell_type": "markdown",
   "metadata": {},
   "source": [
    "The graph below shows the number of topics an emotion is present in:"
   ]
  },
  {
   "cell_type": "code",
   "execution_count": 425,
   "metadata": {},
   "outputs": [
    {
     "data": {
      "text/plain": [
       "<BarContainer object of 6 artists>"
      ]
     },
     "execution_count": 425,
     "metadata": {},
     "output_type": "execute_result"
    },
    {
     "data": {
      "image/png": "[encoded data removed]",
      "text/plain": [
       "<Figure size 864x576 with 1 Axes>"
      ]
     },
     "metadata": {
      "needs_background": "light"
     },
     "output_type": "display_data"
    }
   ],
   "source": [
    "from collections import Counter\n",
    "\n",
    "flattened_emotions = ([emotion for emotions in df_t2e_assigned.prominent_emotions.values for emotion in emotions])\n",
    "flattened_emotions_count = Counter(flattened_emotions)\n",
    "\n",
    "plt.figure(figsize=(12,8))\n",
    "plt.bar(flattened_emotions_count.keys(), flattened_emotions_count.values())"
   ]
  },
  {
   "cell_type": "code",
   "execution_count": 426,
   "metadata": {
    "scrolled": false
   },
   "outputs": [],
   "source": [
    "def assign_prominent_emotions(row):\n",
    "    keywords = []\n",
    "    global df_t2e_assigned\n",
    "    topics = row['topics']\n",
    "#     print(topics)\n",
    "    for topic in topics:\n",
    "#         print(topic)\n",
    "        keywords.append(top_word[int(topic)])\n",
    "        emotions = df_t2e_assigned.at[topic+1, 'prominent_emotions']\n",
    "        for emotion in emotions:\n",
    "            row[emotion] = int(1)\n",
    "    row['topic_keywords']= keywords\n",
    "    return row\n",
    "\n",
    "def assign_prominent_topics(row):\n",
    "    keywords = []\n",
    "    global df_t2e_assigned\n",
    "    topics = row['topics']\n",
    "    for topic in topics:\n",
    "        if topic in labels_dict:\n",
    "            for label in labels_dict[topic]:\n",
    "                row[label] = 1\n",
    "    return row\n",
    "\n",
    "\n",
    "# df_t2e_assigned.index = df_t2e_assigned.index - 1\n",
    "df = df.apply(assign_prominent_emotions, axis=1).fillna(int(0))\n",
    "df = df.apply(assign_prominent_topics, axis=1).fillna(int(0))\n",
    "df.to_csv('labeled_data.csv', encoding='utf-8', index=True)"
   ]
  },
  {
   "cell_type": "code",
   "execution_count": 226,
   "metadata": {},
   "outputs": [
    {
     "data": {
      "text/plain": [
       "<module 'display_utils' from '/Users/huzefaraja/projects/nlp/mireal/display_utils.py'>"
      ]
     },
     "execution_count": 226,
     "metadata": {},
     "output_type": "execute_result"
    }
   ],
   "source": [
    "importlib.reload(display_utils)"
   ]
  },
  {
   "cell_type": "code",
   "execution_count": 427,
   "metadata": {},
   "outputs": [
    {
     "data": {
      "text/html": [
       "<div>\n",
       "<style scoped>\n",
       "    .dataframe tbody tr th:only-of-type {\n",
       "        vertical-align: middle;\n",
       "    }\n",
       "\n",
       "    .dataframe tbody tr th {\n",
       "        vertical-align: top;\n",
       "    }\n",
       "\n",
       "    .dataframe thead th {\n",
       "        text-align: right;\n",
       "    }\n",
       "</style>\n",
       "<table border=\"1\" class=\"dataframe\">\n",
       "  <thead>\n",
       "    <tr style=\"text-align: right;\">\n",
       "      <th></th>\n",
       "      <th>song</th>\n",
       "      <th>artist</th>\n",
       "      <th>topics</th>\n",
       "    </tr>\n",
       "  </thead>\n",
       "  <tbody>\n",
       "    <tr>\n",
       "      <td>2345</td>\n",
       "      <td>Marvins Room</td>\n",
       "      <td>Drake</td>\n",
       "      <td>[38, 65, 68]</td>\n",
       "    </tr>\n",
       "    <tr>\n",
       "      <td>2447</td>\n",
       "      <td>Love The Way You Lie</td>\n",
       "      <td>Eminem</td>\n",
       "      <td>[30, 61]</td>\n",
       "    </tr>\n",
       "  </tbody>\n",
       "</table>\n",
       "</div>"
      ],
      "text/plain": [
       "                      song  artist        topics\n",
       "2345          Marvins Room   Drake  [38, 65, 68]\n",
       "2447  Love The Way You Lie  Eminem      [30, 61]"
      ]
     },
     "metadata": {},
     "output_type": "display_data"
    },
    {
     "data": {
      "text/html": [
       "<div>\n",
       "<style scoped>\n",
       "    .dataframe tbody tr th:only-of-type {\n",
       "        vertical-align: middle;\n",
       "    }\n",
       "\n",
       "    .dataframe tbody tr th {\n",
       "        vertical-align: top;\n",
       "    }\n",
       "\n",
       "    .dataframe thead th {\n",
       "        text-align: right;\n",
       "    }\n",
       "</style>\n",
       "<table border=\"1\" class=\"dataframe\">\n",
       "  <thead>\n",
       "    <tr style=\"text-align: right;\">\n",
       "      <th></th>\n",
       "      <th>Drake - Marvins Room</th>\n",
       "      <th>Eminem - Love The Way You Lie</th>\n",
       "    </tr>\n",
       "  </thead>\n",
       "  <tbody>\n",
       "    <tr>\n",
       "      <td>song</td>\n",
       "      <td>Marvins Room</td>\n",
       "      <td>Love The Way You Lie</td>\n",
       "    </tr>\n",
       "    <tr>\n",
       "      <td>artist</td>\n",
       "      <td>Drake</td>\n",
       "      <td>Eminem</td>\n",
       "    </tr>\n",
       "    <tr>\n",
       "      <td>topics</td>\n",
       "      <td>[38, 65, 68]</td>\n",
       "      <td>[30, 61]</td>\n",
       "    </tr>\n",
       "    <tr>\n",
       "      <td>anger</td>\n",
       "      <td>1</td>\n",
       "      <td>0</td>\n",
       "    </tr>\n",
       "    <tr>\n",
       "      <td>city</td>\n",
       "      <td>0</td>\n",
       "      <td>0</td>\n",
       "    </tr>\n",
       "    <tr>\n",
       "      <td>death</td>\n",
       "      <td>0</td>\n",
       "      <td>0</td>\n",
       "    </tr>\n",
       "    <tr>\n",
       "      <td>dreams</td>\n",
       "      <td>0</td>\n",
       "      <td>0</td>\n",
       "    </tr>\n",
       "    <tr>\n",
       "      <td>drinking</td>\n",
       "      <td>0</td>\n",
       "      <td>0</td>\n",
       "    </tr>\n",
       "    <tr>\n",
       "      <td>enjoyment</td>\n",
       "      <td>0</td>\n",
       "      <td>0</td>\n",
       "    </tr>\n",
       "    <tr>\n",
       "      <td>family</td>\n",
       "      <td>1</td>\n",
       "      <td>0</td>\n",
       "    </tr>\n",
       "    <tr>\n",
       "      <td>game</td>\n",
       "      <td>0</td>\n",
       "      <td>0</td>\n",
       "    </tr>\n",
       "    <tr>\n",
       "      <td>heartbreak</td>\n",
       "      <td>0</td>\n",
       "      <td>1</td>\n",
       "    </tr>\n",
       "    <tr>\n",
       "      <td>history</td>\n",
       "      <td>0</td>\n",
       "      <td>0</td>\n",
       "    </tr>\n",
       "    <tr>\n",
       "      <td>life</td>\n",
       "      <td>0</td>\n",
       "      <td>1</td>\n",
       "    </tr>\n",
       "    <tr>\n",
       "      <td>love</td>\n",
       "      <td>0</td>\n",
       "      <td>1</td>\n",
       "    </tr>\n",
       "    <tr>\n",
       "      <td>money</td>\n",
       "      <td>1</td>\n",
       "      <td>0</td>\n",
       "    </tr>\n",
       "    <tr>\n",
       "      <td>mother</td>\n",
       "      <td>0</td>\n",
       "      <td>0</td>\n",
       "    </tr>\n",
       "    <tr>\n",
       "      <td>party</td>\n",
       "      <td>0</td>\n",
       "      <td>0</td>\n",
       "    </tr>\n",
       "    <tr>\n",
       "      <td>people</td>\n",
       "      <td>1</td>\n",
       "      <td>0</td>\n",
       "    </tr>\n",
       "    <tr>\n",
       "      <td>race</td>\n",
       "      <td>1</td>\n",
       "      <td>0</td>\n",
       "    </tr>\n",
       "    <tr>\n",
       "      <td>rap</td>\n",
       "      <td>1</td>\n",
       "      <td>0</td>\n",
       "    </tr>\n",
       "    <tr>\n",
       "      <td>rock and roll</td>\n",
       "      <td>0</td>\n",
       "      <td>0</td>\n",
       "    </tr>\n",
       "    <tr>\n",
       "      <td>sickness</td>\n",
       "      <td>0</td>\n",
       "      <td>0</td>\n",
       "    </tr>\n",
       "    <tr>\n",
       "      <td>time</td>\n",
       "      <td>0</td>\n",
       "      <td>1</td>\n",
       "    </tr>\n",
       "    <tr>\n",
       "      <td>travel</td>\n",
       "      <td>0</td>\n",
       "      <td>0</td>\n",
       "    </tr>\n",
       "    <tr>\n",
       "      <td>war</td>\n",
       "      <td>0</td>\n",
       "      <td>0</td>\n",
       "    </tr>\n",
       "  </tbody>\n",
       "</table>\n",
       "</div>"
      ],
      "text/plain": [
       "              Drake - Marvins Room Eminem - Love The Way You Lie\n",
       "song                  Marvins Room          Love The Way You Lie\n",
       "artist                       Drake                        Eminem\n",
       "topics                [38, 65, 68]                      [30, 61]\n",
       "anger                            1                             0\n",
       "city                             0                             0\n",
       "death                            0                             0\n",
       "dreams                           0                             0\n",
       "drinking                         0                             0\n",
       "enjoyment                        0                             0\n",
       "family                           1                             0\n",
       "game                             0                             0\n",
       "heartbreak                       0                             1\n",
       "history                          0                             0\n",
       "life                             0                             1\n",
       "love                             0                             1\n",
       "money                            1                             0\n",
       "mother                           0                             0\n",
       "party                            0                             0\n",
       "people                           1                             0\n",
       "race                             1                             0\n",
       "rap                              1                             0\n",
       "rock and roll                    0                             0\n",
       "sickness                         0                             0\n",
       "time                             0                             1\n",
       "travel                           0                             0\n",
       "war                              0                             0"
      ]
     },
     "metadata": {},
     "output_type": "display_data"
    },
    {
     "data": {
      "text/html": [
       "<div>\n",
       "<style scoped>\n",
       "    .dataframe tbody tr th:only-of-type {\n",
       "        vertical-align: middle;\n",
       "    }\n",
       "\n",
       "    .dataframe tbody tr th {\n",
       "        vertical-align: top;\n",
       "    }\n",
       "\n",
       "    .dataframe thead th {\n",
       "        text-align: right;\n",
       "    }\n",
       "</style>\n",
       "<table border=\"1\" class=\"dataframe\">\n",
       "  <thead>\n",
       "    <tr style=\"text-align: right;\">\n",
       "      <th></th>\n",
       "      <th>song</th>\n",
       "      <th>artist</th>\n",
       "      <th>joy</th>\n",
       "      <th>trust</th>\n",
       "      <th>sadness</th>\n",
       "      <th>disgust</th>\n",
       "      <th>anger</th>\n",
       "      <th>fear</th>\n",
       "      <th>anticipation</th>\n",
       "      <th>surprise</th>\n",
       "    </tr>\n",
       "  </thead>\n",
       "  <tbody>\n",
       "    <tr>\n",
       "      <td>2345</td>\n",
       "      <td>Marvins Room</td>\n",
       "      <td>Drake</td>\n",
       "      <td>0</td>\n",
       "      <td>1</td>\n",
       "      <td>0</td>\n",
       "      <td>0</td>\n",
       "      <td>1</td>\n",
       "      <td>1</td>\n",
       "      <td>0</td>\n",
       "      <td>0</td>\n",
       "    </tr>\n",
       "    <tr>\n",
       "      <td>2447</td>\n",
       "      <td>Love The Way You Lie</td>\n",
       "      <td>Eminem</td>\n",
       "      <td>1</td>\n",
       "      <td>1</td>\n",
       "      <td>1</td>\n",
       "      <td>0</td>\n",
       "      <td>0</td>\n",
       "      <td>0</td>\n",
       "      <td>0</td>\n",
       "      <td>0</td>\n",
       "    </tr>\n",
       "  </tbody>\n",
       "</table>\n",
       "</div>"
      ],
      "text/plain": [
       "                      song  artist  joy  trust  sadness  disgust  anger  fear  \\\n",
       "2345          Marvins Room   Drake    0      1        0        0      1     1   \n",
       "2447  Love The Way You Lie  Eminem    1      1        1        0      0     0   \n",
       "\n",
       "      anticipation  surprise  \n",
       "2345             0         0  \n",
       "2447             0         0  "
      ]
     },
     "metadata": {},
     "output_type": "display_data"
    }
   ],
   "source": [
    "display_utils.display_song_topics(['Love The Way You Lie', 'Marvins Room'], df)\n",
    "temp = display_utils.display_song_topics(['Love The Way You Lie', 'Marvins Room'], df, set_of_labels, True)\n",
    "display_utils.display_song_emotions(['Love The Way You Lie', 'Marvins Room'], df)"
   ]
  },
  {
   "cell_type": "code",
   "execution_count": 428,
   "metadata": {},
   "outputs": [
    {
     "data": {
      "text/plain": [
       "<matplotlib.axes._subplots.AxesSubplot at 0x16c29b4d0>"
      ]
     },
     "execution_count": 428,
     "metadata": {},
     "output_type": "execute_result"
    },
    {
     "data": {
      "image/png": "[encoded data removed]",
      "text/plain": [
       "<Figure size 864x576 with 1 Axes>"
      ]
     },
     "metadata": {
      "needs_background": "light"
     },
     "output_type": "display_data"
    }
   ],
   "source": [
    "df[ ['anger', 'anticipation', 'fear', 'joy', 'sadness', 'trust']].sum().plot(kind='bar', figsize=(12,8))"
   ]
  },
  {
   "cell_type": "code",
   "execution_count": 461,
   "metadata": {},
   "outputs": [
    {
     "data": {
      "text/html": [
       "<div>\n",
       "<style scoped>\n",
       "    .dataframe tbody tr th:only-of-type {\n",
       "        vertical-align: middle;\n",
       "    }\n",
       "\n",
       "    .dataframe tbody tr th {\n",
       "        vertical-align: top;\n",
       "    }\n",
       "\n",
       "    .dataframe thead th {\n",
       "        text-align: right;\n",
       "    }\n",
       "</style>\n",
       "<table border=\"1\" class=\"dataframe\">\n",
       "  <thead>\n",
       "    <tr style=\"text-align: right;\">\n",
       "      <th></th>\n",
       "      <th>Drake - Marvins Room</th>\n",
       "      <th>Eminem - Love The Way You Lie</th>\n",
       "    </tr>\n",
       "  </thead>\n",
       "  <tbody>\n",
       "    <tr>\n",
       "      <td>song</td>\n",
       "      <td>Marvins Room</td>\n",
       "      <td>Love The Way You Lie</td>\n",
       "    </tr>\n",
       "    <tr>\n",
       "      <td>artist</td>\n",
       "      <td>Drake</td>\n",
       "      <td>Eminem</td>\n",
       "    </tr>\n",
       "    <tr>\n",
       "      <td>topics</td>\n",
       "      <td>[38, 65, 68]</td>\n",
       "      <td>[30, 61]</td>\n",
       "    </tr>\n",
       "    <tr>\n",
       "      <td>anger</td>\n",
       "      <td>1</td>\n",
       "      <td>0</td>\n",
       "    </tr>\n",
       "    <tr>\n",
       "      <td>city</td>\n",
       "      <td>0</td>\n",
       "      <td>0</td>\n",
       "    </tr>\n",
       "    <tr>\n",
       "      <td>death</td>\n",
       "      <td>0</td>\n",
       "      <td>0</td>\n",
       "    </tr>\n",
       "    <tr>\n",
       "      <td>dreams</td>\n",
       "      <td>0</td>\n",
       "      <td>0</td>\n",
       "    </tr>\n",
       "    <tr>\n",
       "      <td>drinking</td>\n",
       "      <td>0</td>\n",
       "      <td>0</td>\n",
       "    </tr>\n",
       "    <tr>\n",
       "      <td>enjoyment</td>\n",
       "      <td>0</td>\n",
       "      <td>0</td>\n",
       "    </tr>\n",
       "    <tr>\n",
       "      <td>family</td>\n",
       "      <td>1</td>\n",
       "      <td>0</td>\n",
       "    </tr>\n",
       "    <tr>\n",
       "      <td>game</td>\n",
       "      <td>0</td>\n",
       "      <td>0</td>\n",
       "    </tr>\n",
       "    <tr>\n",
       "      <td>heartbreak</td>\n",
       "      <td>0</td>\n",
       "      <td>1</td>\n",
       "    </tr>\n",
       "    <tr>\n",
       "      <td>history</td>\n",
       "      <td>0</td>\n",
       "      <td>0</td>\n",
       "    </tr>\n",
       "    <tr>\n",
       "      <td>life</td>\n",
       "      <td>0</td>\n",
       "      <td>1</td>\n",
       "    </tr>\n",
       "    <tr>\n",
       "      <td>love</td>\n",
       "      <td>0</td>\n",
       "      <td>1</td>\n",
       "    </tr>\n",
       "    <tr>\n",
       "      <td>money</td>\n",
       "      <td>1</td>\n",
       "      <td>0</td>\n",
       "    </tr>\n",
       "    <tr>\n",
       "      <td>mother</td>\n",
       "      <td>0</td>\n",
       "      <td>0</td>\n",
       "    </tr>\n",
       "    <tr>\n",
       "      <td>party</td>\n",
       "      <td>0</td>\n",
       "      <td>0</td>\n",
       "    </tr>\n",
       "    <tr>\n",
       "      <td>people</td>\n",
       "      <td>1</td>\n",
       "      <td>0</td>\n",
       "    </tr>\n",
       "    <tr>\n",
       "      <td>race</td>\n",
       "      <td>1</td>\n",
       "      <td>0</td>\n",
       "    </tr>\n",
       "    <tr>\n",
       "      <td>rap</td>\n",
       "      <td>1</td>\n",
       "      <td>0</td>\n",
       "    </tr>\n",
       "    <tr>\n",
       "      <td>rock and roll</td>\n",
       "      <td>0</td>\n",
       "      <td>0</td>\n",
       "    </tr>\n",
       "    <tr>\n",
       "      <td>sickness</td>\n",
       "      <td>0</td>\n",
       "      <td>0</td>\n",
       "    </tr>\n",
       "    <tr>\n",
       "      <td>time</td>\n",
       "      <td>0</td>\n",
       "      <td>1</td>\n",
       "    </tr>\n",
       "    <tr>\n",
       "      <td>travel</td>\n",
       "      <td>0</td>\n",
       "      <td>0</td>\n",
       "    </tr>\n",
       "    <tr>\n",
       "      <td>war</td>\n",
       "      <td>0</td>\n",
       "      <td>0</td>\n",
       "    </tr>\n",
       "  </tbody>\n",
       "</table>\n",
       "</div>"
      ],
      "text/plain": [
       "              Drake - Marvins Room Eminem - Love The Way You Lie\n",
       "song                  Marvins Room          Love The Way You Lie\n",
       "artist                       Drake                        Eminem\n",
       "topics                [38, 65, 68]                      [30, 61]\n",
       "anger                            1                             0\n",
       "city                             0                             0\n",
       "death                            0                             0\n",
       "dreams                           0                             0\n",
       "drinking                         0                             0\n",
       "enjoyment                        0                             0\n",
       "family                           1                             0\n",
       "game                             0                             0\n",
       "heartbreak                       0                             1\n",
       "history                          0                             0\n",
       "life                             0                             1\n",
       "love                             0                             1\n",
       "money                            1                             0\n",
       "mother                           0                             0\n",
       "party                            0                             0\n",
       "people                           1                             0\n",
       "race                             1                             0\n",
       "rap                              1                             0\n",
       "rock and roll                    0                             0\n",
       "sickness                         0                             0\n",
       "time                             0                             1\n",
       "travel                           0                             0\n",
       "war                              0                             0"
      ]
     },
     "execution_count": 461,
     "metadata": {},
     "output_type": "execute_result"
    }
   ],
   "source": [
    "temp"
   ]
  },
  {
   "cell_type": "markdown",
   "metadata": {},
   "source": [
    "# Classification\n"
   ]
  },
  {
   "cell_type": "markdown",
   "metadata": {},
   "source": [
    "# Benchmark Classifiers"
   ]
  },
  {
   "cell_type": "code",
   "execution_count": 229,
   "metadata": {},
   "outputs": [],
   "source": [
    "from sklearn.multiclass import OneVsRestClassifier\n",
    "from sklearn.svm import SVC\n",
    "from sklearn.neural_network import MLPClassifier\n",
    "from sklearn.linear_model import Perceptron\n",
    "from sklearn.metrics import fbeta_score\n",
    "from sklearn.model_selection import train_test_split\n",
    "\n",
    "def fscore(y_true, y_pred):\n",
    "    return fbeta_score(y_true, y_pred, average='weighted', beta=0.5)"
   ]
  },
  {
   "cell_type": "code",
   "execution_count": 230,
   "metadata": {},
   "outputs": [
    {
     "name": "stdout",
     "output_type": "stream",
     "text": [
      "Input shape: (3799, 2808), output shape: (3799, 29)\n"
     ]
    }
   ],
   "source": [
    "x, y = lyrics_vectorized.toarray(), df[['trust','anger','anticipation','fear','joy','sadness',*list(sorted(set_of_labels))]]\n",
    "x_train, x_test, y_train, y_test = train_test_split(x, y, test_size=0.20, random_state=4)\n",
    "print(\"Input shape: {}, output shape: {}\".format(x_train.shape, y_train.shape))"
   ]
  },
  {
   "cell_type": "code",
   "execution_count": 231,
   "metadata": {},
   "outputs": [],
   "source": [
    "classifiers = {\n",
    "    'OneVsRestClassifier_SVC' : OneVsRestClassifier(SVC(kernel='linear', random_state=4),n_jobs=-1),\n",
    "    'OneVsRestClassifier_Perceptron' : OneVsRestClassifier(Perceptron(random_state=4),n_jobs=-1),\n",
    "    'MLPClassifier' : MLPClassifier(random_state=4)\n",
    "}"
   ]
  },
  {
   "cell_type": "code",
   "execution_count": 232,
   "metadata": {},
   "outputs": [
    {
     "name": "stdout",
     "output_type": "stream",
     "text": [
      "\n",
      "OneVsRestClassifier_SVC:\n",
      "Time taken for training = 2m 34s 331ms\n",
      "Time taken for prediction = 58s 762ms\n",
      "F-Score = 0.7179013743932848\n",
      "\n",
      "\n",
      "OneVsRestClassifier_Perceptron:\n",
      "Time taken for training = 3s 823ms\n",
      "Time taken for prediction = 154ms\n",
      "F-Score = 0.7294592913350766\n",
      "\n",
      "\n",
      "MLPClassifier:\n",
      "Time taken for training = 43s 968ms\n",
      "Time taken for prediction = 21ms\n",
      "F-Score = 0.761742606830127\n",
      "\n"
     ]
    }
   ],
   "source": [
    "for clf_name, clf in classifiers.items():\n",
    "    print()\n",
    "    print(clf_name + \":\")\n",
    "    \n",
    "    last = now()\n",
    "    clf.fit(x_train, y_train)\n",
    "    print('Time taken for training = ', end='')\n",
    "    display_utils.print_time(now()-last)\n",
    "\n",
    "    last = now()\n",
    "    y_pred = clf.predict(x_test)\n",
    "    print('Time taken for prediction = ', end='')\n",
    "    display_utils.print_time(now()-last)\n",
    "    \n",
    "    print('F-Score = ', end='')\n",
    "    print(fscore(y_test, y_pred))\n",
    "    \n",
    "    print()"
   ]
  },
  {
   "cell_type": "code",
   "execution_count": 233,
   "metadata": {},
   "outputs": [
    {
     "name": "stdout",
     "output_type": "stream",
     "text": [
      "Requirement already satisfied: tensorflow in /Users/huzefaraja/.virtualenvs/nlp/lib/python3.7/site-packages (2.0.0)\n",
      "Requirement already satisfied: protobuf>=3.6.1 in /Users/huzefaraja/.virtualenvs/nlp/lib/python3.7/site-packages (from tensorflow) (3.9.1)\n",
      "Requirement already satisfied: astor>=0.6.0 in /Users/huzefaraja/.virtualenvs/nlp/lib/python3.7/site-packages (from tensorflow) (0.8.0)\n",
      "Requirement already satisfied: google-pasta>=0.1.6 in /Users/huzefaraja/.virtualenvs/nlp/lib/python3.7/site-packages (from tensorflow) (0.1.8)\n",
      "Requirement already satisfied: keras-applications>=1.0.8 in /Users/huzefaraja/.virtualenvs/nlp/lib/python3.7/site-packages (from tensorflow) (1.0.8)\n",
      "Requirement already satisfied: wheel>=0.26 in /Users/huzefaraja/.virtualenvs/nlp/lib/python3.7/site-packages (from tensorflow) (0.33.6)\n",
      "Requirement already satisfied: tensorflow-estimator<2.1.0,>=2.0.0 in /Users/huzefaraja/.virtualenvs/nlp/lib/python3.7/site-packages (from tensorflow) (2.0.1)\n",
      "Requirement already satisfied: wrapt>=1.11.1 in /Users/huzefaraja/.virtualenvs/nlp/lib/python3.7/site-packages (from tensorflow) (1.11.2)\n",
      "Requirement already satisfied: grpcio>=1.8.6 in /Users/huzefaraja/.virtualenvs/nlp/lib/python3.7/site-packages (from tensorflow) (1.25.0)\n",
      "Requirement already satisfied: keras-preprocessing>=1.0.5 in /Users/huzefaraja/.virtualenvs/nlp/lib/python3.7/site-packages (from tensorflow) (1.1.0)\n",
      "Requirement already satisfied: numpy<2.0,>=1.16.0 in /Users/huzefaraja/.virtualenvs/nlp/lib/python3.7/site-packages (from tensorflow) (1.17.2)\n",
      "Requirement already satisfied: opt-einsum>=2.3.2 in /Users/huzefaraja/.virtualenvs/nlp/lib/python3.7/site-packages (from tensorflow) (3.1.0)\n",
      "Requirement already satisfied: tensorboard<2.1.0,>=2.0.0 in /Users/huzefaraja/.virtualenvs/nlp/lib/python3.7/site-packages (from tensorflow) (2.0.2)\n",
      "Requirement already satisfied: gast==0.2.2 in /Users/huzefaraja/.virtualenvs/nlp/lib/python3.7/site-packages (from tensorflow) (0.2.2)\n",
      "Requirement already satisfied: termcolor>=1.1.0 in /Users/huzefaraja/.virtualenvs/nlp/lib/python3.7/site-packages (from tensorflow) (1.1.0)\n",
      "Requirement already satisfied: six>=1.10.0 in /Users/huzefaraja/.virtualenvs/nlp/lib/python3.7/site-packages (from tensorflow) (1.12.0)\n",
      "Requirement already satisfied: absl-py>=0.7.0 in /Users/huzefaraja/.virtualenvs/nlp/lib/python3.7/site-packages (from tensorflow) (0.8.1)\n",
      "Requirement already satisfied: setuptools in /Users/huzefaraja/.virtualenvs/nlp/lib/python3.7/site-packages (from protobuf>=3.6.1->tensorflow) (41.2.0)\n",
      "Requirement already satisfied: h5py in /Users/huzefaraja/.virtualenvs/nlp/lib/python3.7/site-packages (from keras-applications>=1.0.8->tensorflow) (2.10.0)\n",
      "Requirement already satisfied: markdown>=2.6.8 in /Users/huzefaraja/.virtualenvs/nlp/lib/python3.7/site-packages (from tensorboard<2.1.0,>=2.0.0->tensorflow) (3.1.1)\n",
      "Requirement already satisfied: requests<3,>=2.21.0 in /Users/huzefaraja/.virtualenvs/nlp/lib/python3.7/site-packages (from tensorboard<2.1.0,>=2.0.0->tensorflow) (2.22.0)\n",
      "Requirement already satisfied: google-auth<2,>=1.6.3 in /Users/huzefaraja/.virtualenvs/nlp/lib/python3.7/site-packages (from tensorboard<2.1.0,>=2.0.0->tensorflow) (1.7.1)\n",
      "Requirement already satisfied: werkzeug>=0.11.15 in /Users/huzefaraja/.virtualenvs/nlp/lib/python3.7/site-packages (from tensorboard<2.1.0,>=2.0.0->tensorflow) (0.16.0)\n",
      "Requirement already satisfied: google-auth-oauthlib<0.5,>=0.4.1 in /Users/huzefaraja/.virtualenvs/nlp/lib/python3.7/site-packages (from tensorboard<2.1.0,>=2.0.0->tensorflow) (0.4.1)\n",
      "Requirement already satisfied: urllib3!=1.25.0,!=1.25.1,<1.26,>=1.21.1 in /Users/huzefaraja/.virtualenvs/nlp/lib/python3.7/site-packages (from requests<3,>=2.21.0->tensorboard<2.1.0,>=2.0.0->tensorflow) (1.25.3)\n",
      "Requirement already satisfied: chardet<3.1.0,>=3.0.2 in /Users/huzefaraja/.virtualenvs/nlp/lib/python3.7/site-packages (from requests<3,>=2.21.0->tensorboard<2.1.0,>=2.0.0->tensorflow) (3.0.4)\n",
      "Requirement already satisfied: idna<2.9,>=2.5 in /Users/huzefaraja/.virtualenvs/nlp/lib/python3.7/site-packages (from requests<3,>=2.21.0->tensorboard<2.1.0,>=2.0.0->tensorflow) (2.8)\n",
      "Requirement already satisfied: certifi>=2017.4.17 in /Users/huzefaraja/.virtualenvs/nlp/lib/python3.7/site-packages (from requests<3,>=2.21.0->tensorboard<2.1.0,>=2.0.0->tensorflow) (2019.9.11)\n",
      "Requirement already satisfied: rsa<4.1,>=3.1.4 in /Users/huzefaraja/.virtualenvs/nlp/lib/python3.7/site-packages (from google-auth<2,>=1.6.3->tensorboard<2.1.0,>=2.0.0->tensorflow) (4.0)\n",
      "Requirement already satisfied: cachetools<3.2,>=2.0.0 in /Users/huzefaraja/.virtualenvs/nlp/lib/python3.7/site-packages (from google-auth<2,>=1.6.3->tensorboard<2.1.0,>=2.0.0->tensorflow) (3.1.1)\n",
      "Requirement already satisfied: pyasn1-modules>=0.2.1 in /Users/huzefaraja/.virtualenvs/nlp/lib/python3.7/site-packages (from google-auth<2,>=1.6.3->tensorboard<2.1.0,>=2.0.0->tensorflow) (0.2.7)\n",
      "Requirement already satisfied: requests-oauthlib>=0.7.0 in /Users/huzefaraja/.virtualenvs/nlp/lib/python3.7/site-packages (from google-auth-oauthlib<0.5,>=0.4.1->tensorboard<2.1.0,>=2.0.0->tensorflow) (1.3.0)\n",
      "Requirement already satisfied: pyasn1>=0.1.3 in /Users/huzefaraja/.virtualenvs/nlp/lib/python3.7/site-packages (from rsa<4.1,>=3.1.4->google-auth<2,>=1.6.3->tensorboard<2.1.0,>=2.0.0->tensorflow) (0.4.8)\n",
      "Requirement already satisfied: oauthlib>=3.0.0 in /Users/huzefaraja/.virtualenvs/nlp/lib/python3.7/site-packages (from requests-oauthlib>=0.7.0->google-auth-oauthlib<0.5,>=0.4.1->tensorboard<2.1.0,>=2.0.0->tensorflow) (3.1.0)\n",
      "\u001b[33mWARNING: You are using pip version 19.2.3, however version 19.3.1 is available.\n",
      "You should consider upgrading via the 'pip install --upgrade pip' command.\u001b[0m\n"
     ]
    }
   ],
   "source": [
    "# !pip install keras\n",
    "!pip install tensorflow"
   ]
  },
  {
   "cell_type": "markdown",
   "metadata": {},
   "source": [
    "# The Final Model"
   ]
  },
  {
   "cell_type": "code",
   "execution_count": 234,
   "metadata": {},
   "outputs": [
    {
     "name": "stderr",
     "output_type": "stream",
     "text": [
      "Using TensorFlow backend.\n",
      "/Users/huzefaraja/.virtualenvs/nlp/lib/python3.7/site-packages/google/protobuf/descriptor.py:47: DeprecationWarning: Using or importing the ABCs from 'collections' instead of from 'collections.abc' is deprecated, and in 3.8 it will stop working\n",
      "  from google.protobuf.pyext import _message\n"
     ]
    }
   ],
   "source": [
    "from keras.callbacks import Callback, ModelCheckpoint\n",
    "\n",
    "class F1BetaCallback(Callback):\n",
    "    def __init__(self, test_data):\n",
    "        self.test_data = test_data\n",
    "        self.df = pd.DataFrame()\n",
    "\n",
    "    def on_epoch_end(self, epoch, logs={}):\n",
    "        x_test, y_test = self.test_data\n",
    "        y_pred = model.predict(x_test)\n",
    "        y_pred[y_pred>=0.5] = 1\n",
    "        y_pred[y_pred<0.5] = 0\n",
    "        logs['f1_score']=fscore(y_test, y_pred)\n",
    "        self.df = self.df.append({'epoch':epoch, 'f1_score':logs['f1_score']}, ignore_index=True)"
   ]
  },
  {
   "cell_type": "code",
   "execution_count": 247,
   "metadata": {
    "scrolled": false
   },
   "outputs": [
    {
     "name": "stdout",
     "output_type": "stream",
     "text": [
      "Epoch 1/20\n",
      "3799/3799 [==============================] - 1s 136us/step - loss: 0.4585\n",
      "\n",
      "Epoch 00001: f1_score improved from -inf to 0.60647, saving model to weights.best\n",
      "Epoch 2/20\n",
      "3799/3799 [==============================] - 0s 74us/step - loss: 0.3117\n",
      "\n",
      "Epoch 00002: f1_score improved from 0.60647 to 0.66261, saving model to weights.best\n",
      "Epoch 3/20\n",
      "3799/3799 [==============================] - 0s 72us/step - loss: 0.2516\n",
      "\n",
      "Epoch 00003: f1_score improved from 0.66261 to 0.74257, saving model to weights.best\n",
      "Epoch 4/20\n",
      "3799/3799 [==============================] - 0s 71us/step - loss: 0.2035\n",
      "\n",
      "Epoch 00004: f1_score improved from 0.74257 to 0.76560, saving model to weights.best\n",
      "Epoch 5/20\n",
      "3799/3799 [==============================] - 0s 70us/step - loss: 0.1624\n",
      "\n",
      "Epoch 00005: f1_score improved from 0.76560 to 0.77355, saving model to weights.best\n",
      "Epoch 6/20\n",
      "3799/3799 [==============================] - 0s 71us/step - loss: 0.1289\n",
      "\n",
      "Epoch 00006: f1_score improved from 0.77355 to 0.79015, saving model to weights.best\n",
      "Epoch 7/20\n",
      "3799/3799 [==============================] - 0s 85us/step - loss: 0.1023\n",
      "\n",
      "Epoch 00007: f1_score did not improve from 0.79015\n",
      "Epoch 8/20\n",
      "3799/3799 [==============================] - 0s 98us/step - loss: 0.0806\n",
      "\n",
      "Epoch 00008: f1_score improved from 0.79015 to 0.79293, saving model to weights.best\n",
      "Epoch 9/20\n",
      "3799/3799 [==============================] - 0s 71us/step - loss: 0.0666\n",
      "\n",
      "Epoch 00009: f1_score did not improve from 0.79293\n",
      "Epoch 10/20\n",
      "3799/3799 [==============================] - 0s 72us/step - loss: 0.0538\n",
      "\n",
      "Epoch 00010: f1_score improved from 0.79293 to 0.79319, saving model to weights.best\n",
      "Epoch 11/20\n",
      "3799/3799 [==============================] - 0s 72us/step - loss: 0.0447\n",
      "\n",
      "Epoch 00011: f1_score did not improve from 0.79319\n",
      "Epoch 12/20\n",
      "3799/3799 [==============================] - 0s 84us/step - loss: 0.0370\n",
      "\n",
      "Epoch 00012: f1_score improved from 0.79319 to 0.79361, saving model to weights.best\n",
      "Epoch 13/20\n",
      "3799/3799 [==============================] - 0s 74us/step - loss: 0.0326\n",
      "\n",
      "Epoch 00013: f1_score improved from 0.79361 to 0.79583, saving model to weights.best\n",
      "Epoch 14/20\n",
      "3799/3799 [==============================] - 0s 74us/step - loss: 0.0280\n",
      "\n",
      "Epoch 00014: f1_score did not improve from 0.79583\n",
      "Epoch 15/20\n",
      "3799/3799 [==============================] - 0s 77us/step - loss: 0.0249\n",
      "\n",
      "Epoch 00015: f1_score did not improve from 0.79583\n",
      "Epoch 16/20\n",
      "3799/3799 [==============================] - 0s 72us/step - loss: 0.0218\n",
      "\n",
      "Epoch 00016: f1_score did not improve from 0.79583\n",
      "Epoch 17/20\n",
      "3799/3799 [==============================] - 0s 71us/step - loss: 0.0197\n",
      "\n",
      "Epoch 00017: f1_score did not improve from 0.79583\n",
      "Epoch 18/20\n",
      "3799/3799 [==============================] - 0s 70us/step - loss: 0.0178\n",
      "\n",
      "Epoch 00018: f1_score did not improve from 0.79583\n",
      "Epoch 19/20\n",
      "3799/3799 [==============================] - 0s 69us/step - loss: 0.0164\n",
      "\n",
      "Epoch 00019: f1_score did not improve from 0.79583\n",
      "Epoch 20/20\n",
      "3799/3799 [==============================] - 0s 70us/step - loss: 0.0155\n",
      "\n",
      "Epoch 00020: f1_score did not improve from 0.79583\n",
      "Total time taken for training: 8s 118ms\n"
     ]
    },
    {
     "data": {
      "text/html": [
       "<div>\n",
       "<style scoped>\n",
       "    .dataframe tbody tr th:only-of-type {\n",
       "        vertical-align: middle;\n",
       "    }\n",
       "\n",
       "    .dataframe tbody tr th {\n",
       "        vertical-align: top;\n",
       "    }\n",
       "\n",
       "    .dataframe thead th {\n",
       "        text-align: right;\n",
       "    }\n",
       "</style>\n",
       "<table border=\"1\" class=\"dataframe\">\n",
       "  <thead>\n",
       "    <tr style=\"text-align: right;\">\n",
       "      <th></th>\n",
       "      <th>epoch</th>\n",
       "      <th>f1_score</th>\n",
       "    </tr>\n",
       "  </thead>\n",
       "  <tbody>\n",
       "    <tr>\n",
       "      <td>count</td>\n",
       "      <td>20.00000</td>\n",
       "      <td>20.000000</td>\n",
       "    </tr>\n",
       "    <tr>\n",
       "      <td>mean</td>\n",
       "      <td>9.50000</td>\n",
       "      <td>0.770886</td>\n",
       "    </tr>\n",
       "    <tr>\n",
       "      <td>std</td>\n",
       "      <td>5.91608</td>\n",
       "      <td>0.049096</td>\n",
       "    </tr>\n",
       "    <tr>\n",
       "      <td>min</td>\n",
       "      <td>0.00000</td>\n",
       "      <td>0.606472</td>\n",
       "    </tr>\n",
       "    <tr>\n",
       "      <td>25%</td>\n",
       "      <td>4.75000</td>\n",
       "      <td>0.784948</td>\n",
       "    </tr>\n",
       "    <tr>\n",
       "      <td>50%</td>\n",
       "      <td>9.50000</td>\n",
       "      <td>0.789745</td>\n",
       "    </tr>\n",
       "    <tr>\n",
       "      <td>75%</td>\n",
       "      <td>14.25000</td>\n",
       "      <td>0.792153</td>\n",
       "    </tr>\n",
       "    <tr>\n",
       "      <td>max</td>\n",
       "      <td>19.00000</td>\n",
       "      <td>0.795833</td>\n",
       "    </tr>\n",
       "  </tbody>\n",
       "</table>\n",
       "</div>"
      ],
      "text/plain": [
       "          epoch   f1_score\n",
       "count  20.00000  20.000000\n",
       "mean    9.50000   0.770886\n",
       "std     5.91608   0.049096\n",
       "min     0.00000   0.606472\n",
       "25%     4.75000   0.784948\n",
       "50%     9.50000   0.789745\n",
       "75%    14.25000   0.792153\n",
       "max    19.00000   0.795833"
      ]
     },
     "metadata": {},
     "output_type": "display_data"
    },
    {
     "data": {
      "text/html": [
       "<div>\n",
       "<style scoped>\n",
       "    .dataframe tbody tr th:only-of-type {\n",
       "        vertical-align: middle;\n",
       "    }\n",
       "\n",
       "    .dataframe tbody tr th {\n",
       "        vertical-align: top;\n",
       "    }\n",
       "\n",
       "    .dataframe thead th {\n",
       "        text-align: right;\n",
       "    }\n",
       "</style>\n",
       "<table border=\"1\" class=\"dataframe\">\n",
       "  <thead>\n",
       "    <tr style=\"text-align: right;\">\n",
       "      <th></th>\n",
       "      <th>loss</th>\n",
       "      <th>f1_score</th>\n",
       "    </tr>\n",
       "  </thead>\n",
       "  <tbody>\n",
       "    <tr>\n",
       "      <td>0</td>\n",
       "      <td>0.458503</td>\n",
       "      <td>0.606472</td>\n",
       "    </tr>\n",
       "    <tr>\n",
       "      <td>1</td>\n",
       "      <td>0.311684</td>\n",
       "      <td>0.662613</td>\n",
       "    </tr>\n",
       "    <tr>\n",
       "      <td>2</td>\n",
       "      <td>0.251626</td>\n",
       "      <td>0.742573</td>\n",
       "    </tr>\n",
       "    <tr>\n",
       "      <td>3</td>\n",
       "      <td>0.203473</td>\n",
       "      <td>0.765599</td>\n",
       "    </tr>\n",
       "    <tr>\n",
       "      <td>4</td>\n",
       "      <td>0.162431</td>\n",
       "      <td>0.773551</td>\n",
       "    </tr>\n",
       "    <tr>\n",
       "      <td>5</td>\n",
       "      <td>0.128872</td>\n",
       "      <td>0.790148</td>\n",
       "    </tr>\n",
       "    <tr>\n",
       "      <td>6</td>\n",
       "      <td>0.102343</td>\n",
       "      <td>0.789429</td>\n",
       "    </tr>\n",
       "    <tr>\n",
       "      <td>7</td>\n",
       "      <td>0.080635</td>\n",
       "      <td>0.792925</td>\n",
       "    </tr>\n",
       "    <tr>\n",
       "      <td>8</td>\n",
       "      <td>0.066597</td>\n",
       "      <td>0.790788</td>\n",
       "    </tr>\n",
       "    <tr>\n",
       "      <td>9</td>\n",
       "      <td>0.053752</td>\n",
       "      <td>0.793189</td>\n",
       "    </tr>\n",
       "    <tr>\n",
       "      <td>10</td>\n",
       "      <td>0.044730</td>\n",
       "      <td>0.789653</td>\n",
       "    </tr>\n",
       "    <tr>\n",
       "      <td>11</td>\n",
       "      <td>0.037008</td>\n",
       "      <td>0.793615</td>\n",
       "    </tr>\n",
       "    <tr>\n",
       "      <td>12</td>\n",
       "      <td>0.032638</td>\n",
       "      <td>0.795833</td>\n",
       "    </tr>\n",
       "    <tr>\n",
       "      <td>13</td>\n",
       "      <td>0.028034</td>\n",
       "      <td>0.788747</td>\n",
       "    </tr>\n",
       "    <tr>\n",
       "      <td>14</td>\n",
       "      <td>0.024907</td>\n",
       "      <td>0.789620</td>\n",
       "    </tr>\n",
       "    <tr>\n",
       "      <td>15</td>\n",
       "      <td>0.021767</td>\n",
       "      <td>0.788946</td>\n",
       "    </tr>\n",
       "    <tr>\n",
       "      <td>16</td>\n",
       "      <td>0.019700</td>\n",
       "      <td>0.789836</td>\n",
       "    </tr>\n",
       "    <tr>\n",
       "      <td>17</td>\n",
       "      <td>0.017796</td>\n",
       "      <td>0.792140</td>\n",
       "    </tr>\n",
       "    <tr>\n",
       "      <td>18</td>\n",
       "      <td>0.016379</td>\n",
       "      <td>0.789848</td>\n",
       "    </tr>\n",
       "    <tr>\n",
       "      <td>19</td>\n",
       "      <td>0.015540</td>\n",
       "      <td>0.792190</td>\n",
       "    </tr>\n",
       "  </tbody>\n",
       "</table>\n",
       "</div>"
      ],
      "text/plain": [
       "        loss  f1_score\n",
       "0   0.458503  0.606472\n",
       "1   0.311684  0.662613\n",
       "2   0.251626  0.742573\n",
       "3   0.203473  0.765599\n",
       "4   0.162431  0.773551\n",
       "5   0.128872  0.790148\n",
       "6   0.102343  0.789429\n",
       "7   0.080635  0.792925\n",
       "8   0.066597  0.790788\n",
       "9   0.053752  0.793189\n",
       "10  0.044730  0.789653\n",
       "11  0.037008  0.793615\n",
       "12  0.032638  0.795833\n",
       "13  0.028034  0.788747\n",
       "14  0.024907  0.789620\n",
       "15  0.021767  0.788946\n",
       "16  0.019700  0.789836\n",
       "17  0.017796  0.792140\n",
       "18  0.016379  0.789848\n",
       "19  0.015540  0.792190"
      ]
     },
     "execution_count": 247,
     "metadata": {},
     "output_type": "execute_result"
    }
   ],
   "source": [
    "\n",
    "from keras import Sequential\n",
    "from keras.layers import Dense, Dropout, Activation, Flatten\n",
    "from keras.initializers import TruncatedNormal\n",
    "from keras.regularizers import l1_l2\n",
    "from keras.optimizers import SGD, Adam\n",
    "\n",
    "model = Sequential()\n",
    "input_dim = x_train.shape[1]\n",
    "output_dim = y_train.shape[1]\n",
    "\n",
    "model.add(Dense(256, activation='relu', input_dim=input_dim))\n",
    "model.add(Dropout(0.2))\n",
    "model.add(Dense(512, activation='relu'))\n",
    "model.add(Dropout(0.2))\n",
    "model.add(Dense(output_dim, activation='sigmoid'))\n",
    "\n",
    "model.compile(loss='binary_crossentropy', optimizer='adam')\n",
    "\n",
    "filepath=\"weights.best\"\n",
    "checkpoint = ModelCheckpoint(filepath, monitor='f1_score', verbose=1, save_best_only=True, mode='max')\n",
    "f1test = F1BetaCallback((x_test, y_test))\n",
    "last = now()\n",
    "model_hist = model.fit(x_train, y_train, \n",
    "                       epochs=20, \n",
    "                       batch_size=256, verbose=1,\n",
    "                       callbacks=[f1test, checkpoint], \n",
    "                       shuffle=True)\n",
    "print(\"Total time taken for training: \",  end='')\n",
    "display_utils.print_time(now() - last)\n",
    "display(f1test.df.describe())\n",
    "model.save_weights('weights.last')\n",
    "pd.DataFrame(model_hist.history)"
   ]
  },
  {
   "cell_type": "code",
   "execution_count": 248,
   "metadata": {},
   "outputs": [
    {
     "name": "stdout",
     "output_type": "stream",
     "text": [
      "F-score with final weights: 0.7921903618070505\n",
      "F-score with the best weights: 0.7958325290407414\n"
     ]
    }
   ],
   "source": [
    "print(\"F-score with final weights: \", end='')\n",
    "model.load_weights('weights.last')\n",
    "preds = model.predict(x_test)\n",
    "preds[preds>=0.5] = 1\n",
    "preds[preds<0.5] = 0\n",
    "print(fscore(y_test, preds))\n",
    "\n",
    "print(\"F-score with the best weights: \", end='')\n",
    "model.load_weights('weights.best')\n",
    "preds = model.predict(x_test)\n",
    "preds[preds>=0.5] = 1\n",
    "preds[preds<0.5] = 0\n",
    "print(fscore(y_test, preds))"
   ]
  },
  {
   "cell_type": "code",
   "execution_count": 249,
   "metadata": {},
   "outputs": [
    {
     "name": "stdout",
     "output_type": "stream",
     "text": [
      "F-scores for each epoch: \n"
     ]
    },
    {
     "data": {
      "text/html": [
       "<div>\n",
       "<style scoped>\n",
       "    .dataframe tbody tr th:only-of-type {\n",
       "        vertical-align: middle;\n",
       "    }\n",
       "\n",
       "    .dataframe tbody tr th {\n",
       "        vertical-align: top;\n",
       "    }\n",
       "\n",
       "    .dataframe thead th {\n",
       "        text-align: right;\n",
       "    }\n",
       "</style>\n",
       "<table border=\"1\" class=\"dataframe\">\n",
       "  <thead>\n",
       "    <tr style=\"text-align: right;\">\n",
       "      <th></th>\n",
       "      <th>f1_score</th>\n",
       "    </tr>\n",
       "    <tr>\n",
       "      <th>epoch</th>\n",
       "      <th></th>\n",
       "    </tr>\n",
       "  </thead>\n",
       "  <tbody>\n",
       "    <tr>\n",
       "      <td>0</td>\n",
       "      <td>0.606472</td>\n",
       "    </tr>\n",
       "    <tr>\n",
       "      <td>1</td>\n",
       "      <td>0.662613</td>\n",
       "    </tr>\n",
       "    <tr>\n",
       "      <td>2</td>\n",
       "      <td>0.742573</td>\n",
       "    </tr>\n",
       "    <tr>\n",
       "      <td>3</td>\n",
       "      <td>0.765599</td>\n",
       "    </tr>\n",
       "    <tr>\n",
       "      <td>4</td>\n",
       "      <td>0.773551</td>\n",
       "    </tr>\n",
       "    <tr>\n",
       "      <td>5</td>\n",
       "      <td>0.790148</td>\n",
       "    </tr>\n",
       "    <tr>\n",
       "      <td>6</td>\n",
       "      <td>0.789429</td>\n",
       "    </tr>\n",
       "    <tr>\n",
       "      <td>7</td>\n",
       "      <td>0.792925</td>\n",
       "    </tr>\n",
       "    <tr>\n",
       "      <td>8</td>\n",
       "      <td>0.790788</td>\n",
       "    </tr>\n",
       "    <tr>\n",
       "      <td>9</td>\n",
       "      <td>0.793189</td>\n",
       "    </tr>\n",
       "    <tr>\n",
       "      <td>10</td>\n",
       "      <td>0.789653</td>\n",
       "    </tr>\n",
       "    <tr>\n",
       "      <td>11</td>\n",
       "      <td>0.793615</td>\n",
       "    </tr>\n",
       "    <tr>\n",
       "      <td>12</td>\n",
       "      <td>0.795833</td>\n",
       "    </tr>\n",
       "    <tr>\n",
       "      <td>13</td>\n",
       "      <td>0.788747</td>\n",
       "    </tr>\n",
       "    <tr>\n",
       "      <td>14</td>\n",
       "      <td>0.789620</td>\n",
       "    </tr>\n",
       "    <tr>\n",
       "      <td>15</td>\n",
       "      <td>0.788946</td>\n",
       "    </tr>\n",
       "    <tr>\n",
       "      <td>16</td>\n",
       "      <td>0.789836</td>\n",
       "    </tr>\n",
       "    <tr>\n",
       "      <td>17</td>\n",
       "      <td>0.792140</td>\n",
       "    </tr>\n",
       "    <tr>\n",
       "      <td>18</td>\n",
       "      <td>0.789848</td>\n",
       "    </tr>\n",
       "    <tr>\n",
       "      <td>19</td>\n",
       "      <td>0.792190</td>\n",
       "    </tr>\n",
       "  </tbody>\n",
       "</table>\n",
       "</div>"
      ],
      "text/plain": [
       "       f1_score\n",
       "epoch          \n",
       "0      0.606472\n",
       "1      0.662613\n",
       "2      0.742573\n",
       "3      0.765599\n",
       "4      0.773551\n",
       "5      0.790148\n",
       "6      0.789429\n",
       "7      0.792925\n",
       "8      0.790788\n",
       "9      0.793189\n",
       "10     0.789653\n",
       "11     0.793615\n",
       "12     0.795833\n",
       "13     0.788747\n",
       "14     0.789620\n",
       "15     0.788946\n",
       "16     0.789836\n",
       "17     0.792140\n",
       "18     0.789848\n",
       "19     0.792190"
      ]
     },
     "execution_count": 249,
     "metadata": {},
     "output_type": "execute_result"
    }
   ],
   "source": [
    "print(\"F-scores for each epoch: \")\n",
    "f1test.df.epoch = f1test.df.epoch.astype(int)\n",
    "f1test.df.set_index('epoch')"
   ]
  },
  {
   "cell_type": "markdown",
   "metadata": {},
   "source": [
    "## Lyrics Genius API"
   ]
  },
  {
   "cell_type": "code",
   "execution_count": 238,
   "metadata": {},
   "outputs": [
    {
     "name": "stdout",
     "output_type": "stream",
     "text": [
      "Requirement already satisfied: lyricsgenius in /Users/huzefaraja/.virtualenvs/nlp/lib/python3.7/site-packages (1.7.0)\n",
      "Requirement already satisfied: beautifulsoup4==4.6.0 in /Users/huzefaraja/.virtualenvs/nlp/lib/python3.7/site-packages (from lyricsgenius) (4.6.0)\n",
      "Requirement already satisfied: requests>=2.20.0 in /Users/huzefaraja/.virtualenvs/nlp/lib/python3.7/site-packages (from lyricsgenius) (2.22.0)\n",
      "Requirement already satisfied: certifi>=2017.4.17 in /Users/huzefaraja/.virtualenvs/nlp/lib/python3.7/site-packages (from requests>=2.20.0->lyricsgenius) (2019.9.11)\n",
      "Requirement already satisfied: idna<2.9,>=2.5 in /Users/huzefaraja/.virtualenvs/nlp/lib/python3.7/site-packages (from requests>=2.20.0->lyricsgenius) (2.8)\n",
      "Requirement already satisfied: chardet<3.1.0,>=3.0.2 in /Users/huzefaraja/.virtualenvs/nlp/lib/python3.7/site-packages (from requests>=2.20.0->lyricsgenius) (3.0.4)\n",
      "Requirement already satisfied: urllib3!=1.25.0,!=1.25.1,<1.26,>=1.21.1 in /Users/huzefaraja/.virtualenvs/nlp/lib/python3.7/site-packages (from requests>=2.20.0->lyricsgenius) (1.25.3)\n",
      "\u001b[33mWARNING: You are using pip version 19.2.3, however version 19.3.1 is available.\n",
      "You should consider upgrading via the 'pip install --upgrade pip' command.\u001b[0m\n"
     ]
    }
   ],
   "source": [
    "!pip install lyricsgenius"
   ]
  },
  {
   "cell_type": "code",
   "execution_count": 289,
   "metadata": {},
   "outputs": [],
   "source": [
    "import lyricsgenius\n",
    "genius = lyricsgenius.Genius(\"dU0w3p_pSek4AvwkaiqKGwl05lMqIl1jVWhax3S66imLphoiO4UqLDJjsZwyXzZy\", verbose=False)\n",
    "ACCESS_TOKEN = \"dU0w3p_pSek4AvwkaiqKGwl05lMqIl1jVWhax3S66imLphoiO4UqLDJjsZwyXzZy\""
   ]
  },
  {
   "cell_type": "code",
   "execution_count": 242,
   "metadata": {},
   "outputs": [],
   "source": [
    "import spacy\n",
    "nlp = spacy.load(\"en_core_web_lg\")"
   ]
  },
  {
   "cell_type": "code",
   "execution_count": 241,
   "metadata": {},
   "outputs": [],
   "source": [
    "import re\n",
    "\n",
    "def clean_song(song):\n",
    "    return '\\n'.join(line.strip() for line in re.sub(' +', ' ', re.sub('[^a-zA-Z0-9 \\',?!;\\n]', ' ', song)).splitlines())"
   ]
  },
  {
   "cell_type": "code",
   "execution_count": 79,
   "metadata": {},
   "outputs": [],
   "source": [
    "df = pd.read_csv(\"labeled_data.csv\")"
   ]
  },
  {
   "cell_type": "code",
   "execution_count": 292,
   "metadata": {},
   "outputs": [],
   "source": [
    "import requests\n",
    "import json\n",
    "def search_song(query, lyrics=\"\"):\n",
    "    response = requests.get(\"http://api.genius.com/search?q={}&access_token={}\".format(query, ACCESS_TOKEN))\n",
    "    response_json = json.loads(response.content)\n",
    "    underscored_line = ''.join([\"_\" for _ in range(117)])\n",
    "    first = None\n",
    "    output = None\n",
    "    try:\n",
    "        first = response_json['response']['hits'][0]\n",
    "    except e as Exception:\n",
    "        first = None\n",
    "    if first is not None:\n",
    "        if first['type'] == 'song':\n",
    "            song_output = {}\n",
    "            song_text = \"\"\n",
    "            song_id = first['result']['id']\n",
    "            title = first['result']['title']\n",
    "            artist = first['result']['primary_artist']['name']\n",
    "            annotation_count = first['result']['annotation_count']\n",
    "            \n",
    "            song_lyrics = genius.search_song(query)\n",
    "            if song_lyrics is not None:\n",
    "                output = song_lyrics.lyrics\n",
    "            else:\n",
    "                output = lyrics\n",
    "            \n",
    "            output += \"\\n\"\n",
    "            \n",
    "            song_response = requests.get(\"http://api.genius.com/songs/{}?access_token={}&text_format=plain\".format(song_id, ACCESS_TOKEN))\n",
    "            song_response_json = json.loads(song_response.content)\n",
    "            song_description = song_response_json['response']['song']['description']['plain']\n",
    "            \n",
    "            output += song_description\n",
    "            output += \"\\n\"\n",
    "            \n",
    "            \n",
    "            referent_response = requests.get(\"http://api.genius.com/referents?song_id={}&access_token={}&text_format=plain\".format(song_id, ACCESS_TOKEN))\n",
    "            referent_response_json = json.loads(referent_response.content)\n",
    "            \n",
    "            for referent in referent_response_json['response']['referents']:\n",
    "                output += referent['fragment']\n",
    "                output += \"\\n\"\n",
    "                        \n",
    "                for annotation in referent['annotations']:\n",
    "                    if 'plain' in annotation['body']:\n",
    "                        output += annotation['body']['plain']\n",
    "                        output += \"\\n\"\n",
    "#             return song_response_json, referent_response_json\n",
    "        else:\n",
    "            output = lyrics\n",
    "    else:\n",
    "        output = lyrics\n",
    "    output = re.sub(\"\\n+\", \"\\n\", output)\n",
    "    return output"
   ]
  },
  {
   "cell_type": "code",
   "execution_count": 325,
   "metadata": {},
   "outputs": [],
   "source": [
    "if \"Unnamed: 0\" in df.columns:\n",
    "    df = df.drop(columns=[\"Unnamed: 0\"])"
   ]
  },
  {
   "cell_type": "code",
   "execution_count": 356,
   "metadata": {},
   "outputs": [],
   "source": [
    "df_sample = df.sample(400, random_state=42)\n",
    "df_sample = pd.concat([df_sample, df[df.song==\"Love The Way You Lie\"], df[df.song==\"Marvins Room\"]])\n",
    "songs = {}"
   ]
  },
  {
   "cell_type": "code",
   "execution_count": 370,
   "metadata": {},
   "outputs": [],
   "source": [
    "cleaned_songs = {}"
   ]
  },
  {
   "cell_type": "code",
   "execution_count": 369,
   "metadata": {},
   "outputs": [],
   "source": [
    "def get_cleaned_song(songs, cleaned_songs, song):\n",
    "    if song not in cleaned_songs:\n",
    "        cleaned_songs[song] = clean_song(songs[song])\n",
    "    return cleaned_songs[song]"
   ]
  },
  {
   "cell_type": "code",
   "execution_count": 358,
   "metadata": {
    "scrolled": false
   },
   "outputs": [
    {
     "name": "stdout",
     "output_type": "stream",
     "text": [
      "Total songs:  402\n",
      "Completed 100 songs\n",
      "Completed 200 songs\n",
      "Completed 300 songs\n",
      "Completed 400 songs\n"
     ]
    }
   ],
   "source": [
    "songs_to_skip = len(songs)\n",
    "total_songs = len(df_sample)\n",
    "print(\"Total songs: \", total_songs)\n",
    "songs_downloaded = 0\n",
    "for index, song in df_sample.iterrows():\n",
    "    if songs_downloaded >= songs_to_skip:\n",
    "        title = song['song']\n",
    "        artist = song['artist']\n",
    "        cleaned_lyrics = song['cleaned_lyrics']\n",
    "        query = artist + \" \" + title\n",
    "        try:\n",
    "            text = search_song(query, cleaned_lyrics)\n",
    "            songs[query] = text\n",
    "        except Exception as e:\n",
    "            print(\"Exception while getting\", query)\n",
    "            songs[query] = cleaned_lyrics # fall back to cleaned lyrics in case we can't get from genius\n",
    "    songs_downloaded += 1\n",
    "    if songs_downloaded % 100 == 0:\n",
    "        print(\"Completed {} songs\".format(songs_downloaded))"
   ]
  },
  {
   "cell_type": "code",
   "execution_count": 359,
   "metadata": {
    "scrolled": false
   },
   "outputs": [
    {
     "data": {
      "text/plain": [
       "402"
      ]
     },
     "execution_count": 359,
     "metadata": {},
     "output_type": "execute_result"
    }
   ],
   "source": [
    "len(songs)"
   ]
  },
  {
   "cell_type": "markdown",
   "metadata": {},
   "source": [
    "## Bootstrapping"
   ]
  },
  {
   "cell_type": "code",
   "execution_count": 360,
   "metadata": {},
   "outputs": [],
   "source": [
    "feature_names = vectorizer.get_feature_names()\n",
    "n_top_words = 5"
   ]
  },
  {
   "cell_type": "code",
   "execution_count": 361,
   "metadata": {},
   "outputs": [],
   "source": [
    "def get_top_words(model, feature_names, n_top_words):\n",
    "    words = []\n",
    "    for topic_idx, topic in enumerate(model.components_):\n",
    "        message = \" \".join([feature_names[i]\n",
    "                             for i in topic.argsort()[:-n_top_words - 1:-1]])\n",
    "        words.extend(message.split())\n",
    "    return words"
   ]
  },
  {
   "cell_type": "markdown",
   "metadata": {},
   "source": [
    "### Non-Restrictive Bootstrapping"
   ]
  },
  {
   "cell_type": "code",
   "execution_count": 254,
   "metadata": {},
   "outputs": [],
   "source": [
    "seeds = set(get_top_words(topic_model, feature_names, n_top_words))\n",
    "extraction_patterns_to_avoid = set(['CCONJ', 'SPACE', 'PUNCT', 'PART'])\n",
    "extraction_patterns = []\n",
    "extraction_patterns_details = {}"
   ]
  },
  {
   "cell_type": "code",
   "execution_count": 364,
   "metadata": {},
   "outputs": [],
   "source": [
    "for song in songs:\n",
    "    analyzed_song = nlp(get_cleaned_song(songs, cleaned_songs, song))\n",
    "    for sent in analyzed_song.sents:\n",
    "        for token in sent:\n",
    "            if token.text in seeds or token.lemma_ in seeds:\n",
    "                pattern = []\n",
    "                i = 0\n",
    "                _pattern_seeds = []\n",
    "                _pattern_seed_indexes = []\n",
    "                for _token in sent:\n",
    "                    if _token.pos_ not in extraction_patterns_to_avoid:\n",
    "                        if _token.text in seeds or _token.lemma_ in seeds:\n",
    "                            pattern.append(str(_token.pos_).lower())\n",
    "                            _pattern_seeds.append(_token.lemma_)\n",
    "                            _pattern_seed_indexes.append(i)\n",
    "                        else:\n",
    "                            pattern.append(str(_token.pos_).lower())\n",
    "                        i+=1\n",
    "                pattern = ','.join(pattern)\n",
    "                if pattern in extraction_patterns_details:\n",
    "                    for i in range(len(_pattern_seeds)):\n",
    "                        _seed = _pattern_seeds[i]\n",
    "                        _seed_index = _pattern_seed_indexes[i]\n",
    "                        if _seed in extraction_patterns_details[pattern]:\n",
    "                            extraction_patterns_details[pattern][_seed].add(_seed_index)\n",
    "                        else:\n",
    "                            extraction_patterns_details[pattern][_seed] = set([_seed_index])\n",
    "                else:\n",
    "                    extraction_patterns_details[pattern] = {}\n",
    "                    for i in range(len(_pattern_seeds)):\n",
    "                        _seed = _pattern_seeds[i]\n",
    "                        _seed_index = _pattern_seed_indexes[i]\n",
    "                        if _seed in extraction_patterns_details[pattern]:\n",
    "                            extraction_patterns_details[pattern][_seed].add(_seed_index)\n",
    "                        else:\n",
    "                            extraction_patterns_details[pattern][_seed] = set([_seed_index])\n",
    "                extraction_patterns.append(pattern)\n",
    "                break"
   ]
  },
  {
   "cell_type": "code",
   "execution_count": 368,
   "metadata": {},
   "outputs": [
    {
     "data": {
      "text/plain": [
       "14655"
      ]
     },
     "execution_count": 368,
     "metadata": {},
     "output_type": "execute_result"
    }
   ],
   "source": [
    "extraction_patterns = set(extraction_patterns)\n",
    "len(extraction_patterns)"
   ]
  },
  {
   "cell_type": "code",
   "execution_count": 373,
   "metadata": {
    "scrolled": false
   },
   "outputs": [],
   "source": [
    "extraction_pattern_details = extraction_patterns_details  # fixing typo, do not wish to search pattern again"
   ]
  },
  {
   "cell_type": "code",
   "execution_count": 374,
   "metadata": {},
   "outputs": [],
   "source": [
    "extraction_patterns_for_line = []\n",
    "extraction_pattern_details_for_line = {}"
   ]
  },
  {
   "cell_type": "code",
   "execution_count": 375,
   "metadata": {},
   "outputs": [],
   "source": [
    "for song in songs:\n",
    "    for line in get_cleaned_song(songs, cleaned_songs, song).splitlines():\n",
    "        analyzed_line = nlp(line)\n",
    "        for sent in analyzed_line.sents:\n",
    "            for token in sent:\n",
    "                if token.text in seeds or token.lemma_ in seeds:\n",
    "                    pattern = []\n",
    "                    i = 0\n",
    "                    _pattern_seeds = []\n",
    "                    _pattern_seed_indexes = []\n",
    "                    for _token in sent:\n",
    "                        if _token.pos_ not in extraction_patterns_to_avoid:\n",
    "                            if _token.text in seeds or _token.lemma_ in seeds:\n",
    "                                pattern.append(str(_token.pos_).lower())\n",
    "                                _pattern_seeds.append(_token.lemma_)\n",
    "                                _pattern_seed_indexes.append(i)\n",
    "                            else:\n",
    "                                pattern.append(str(_token.pos_).lower())\n",
    "                            i+=1\n",
    "                    pattern = ','.join(pattern)\n",
    "                    if pattern in extraction_pattern_details_for_line:\n",
    "                        for i in range(len(_pattern_seeds)):\n",
    "                            _seed = _pattern_seeds[i]\n",
    "                            _seed_index = _pattern_seed_indexes[i]\n",
    "                            if _seed in extraction_pattern_details_for_line[pattern]:\n",
    "                                extraction_pattern_details_for_line[pattern][_seed].add(_seed_index)\n",
    "                            else:\n",
    "                                extraction_pattern_details_for_line[pattern][_seed] = set([_seed_index])\n",
    "                    else:\n",
    "                        extraction_pattern_details_for_line[pattern] = {}\n",
    "                        for i in range(len(_pattern_seeds)):\n",
    "                            _seed = _pattern_seeds[i]\n",
    "                            _seed_index = _pattern_seed_indexes[i]\n",
    "                            if _seed in extraction_pattern_details_for_line[pattern]:\n",
    "                                extraction_pattern_details_for_line[pattern][_seed].add(_seed_index)\n",
    "                            else:\n",
    "                                extraction_pattern_details_for_line[pattern][_seed] = set([_seed_index])\n",
    "                    extraction_patterns_for_line.append(pattern)\n",
    "                    break"
   ]
  },
  {
   "cell_type": "code",
   "execution_count": 376,
   "metadata": {
    "scrolled": false
   },
   "outputs": [
    {
     "data": {
      "text/plain": [
       "14790"
      ]
     },
     "execution_count": 376,
     "metadata": {},
     "output_type": "execute_result"
    }
   ],
   "source": [
    "extraction_patterns_for_line = set(extraction_patterns_for_line)\n",
    "len(extraction_patterns_for_line)"
   ]
  },
  {
   "cell_type": "code",
   "execution_count": 378,
   "metadata": {},
   "outputs": [],
   "source": [
    "seeds_to_augments = {}"
   ]
  },
  {
   "cell_type": "code",
   "execution_count": 385,
   "metadata": {
    "scrolled": false
   },
   "outputs": [],
   "source": [
    "for song in songs:\n",
    "    analyzed_song = nlp(get_cleaned_song(songs, cleaned_songs, song))\n",
    "    for sent in analyzed_song.sents:\n",
    "        pattern = []\n",
    "        tokens = []\n",
    "        for token in sent:\n",
    "            if token.pos_ not in extraction_patterns_to_avoid:\n",
    "                pattern.append(str(token.pos_).lower())\n",
    "                tokens.append(token.lemma_)\n",
    "        pattern = \",\".join(pattern)\n",
    "        if pattern in extraction_patterns:\n",
    "            for seed in extraction_pattern_details[pattern]:\n",
    "                seed = seed.lower()\n",
    "                if seed in seeds_to_augments:\n",
    "                    for index in extraction_pattern_details[pattern][seed]:\n",
    "                        seeds_to_augments[seed].add(tokens[index])\n",
    "                else:\n",
    "                    seeds_to_augments[seed] = set()\n",
    "                    for index in extraction_pattern_details[pattern][seed]:\n",
    "                        seeds_to_augments[seed].add(tokens[index])"
   ]
  },
  {
   "cell_type": "code",
   "execution_count": 389,
   "metadata": {
    "scrolled": false
   },
   "outputs": [
    {
     "data": {
      "text/plain": [
       "1084"
      ]
     },
     "execution_count": 389,
     "metadata": {},
     "output_type": "execute_result"
    }
   ],
   "source": [
    "# number of words that could be in place of \"love\"\n",
    "len(seeds_to_augments['love'])"
   ]
  },
  {
   "cell_type": "code",
   "execution_count": 392,
   "metadata": {},
   "outputs": [
    {
     "data": {
      "text/plain": [
       "424"
      ]
     },
     "execution_count": 392,
     "metadata": {},
     "output_type": "execute_result"
    }
   ],
   "source": [
    "# number of words that could be in place of \"night\"\n",
    "len(seeds_to_augments['night'])"
   ]
  },
  {
   "cell_type": "code",
   "execution_count": 393,
   "metadata": {},
   "outputs": [
    {
     "data": {
      "text/plain": [
       "55"
      ]
     },
     "execution_count": 393,
     "metadata": {},
     "output_type": "execute_result"
    }
   ],
   "source": [
    "# number of words that could be in place of \"night\"\n",
    "len(seeds_to_augments['happy'])"
   ]
  },
  {
   "cell_type": "code",
   "execution_count": 394,
   "metadata": {},
   "outputs": [
    {
     "data": {
      "text/plain": [
       "{'alive',\n",
       " 'alone',\n",
       " 'anti',\n",
       " 'believable',\n",
       " 'big',\n",
       " 'chorus',\n",
       " 'common',\n",
       " 'cool',\n",
       " 'creative',\n",
       " 'd',\n",
       " 'damn',\n",
       " 'dead',\n",
       " 'drunk',\n",
       " 'dypegdes3o',\n",
       " 'fabolous',\n",
       " 'faithless',\n",
       " 'funny',\n",
       " 'happy',\n",
       " 'hard',\n",
       " 'harsh',\n",
       " 'high',\n",
       " 'hot',\n",
       " 'hush',\n",
       " 'instrumental',\n",
       " 'ironic',\n",
       " 'kuchi',\n",
       " 'low',\n",
       " 'mad',\n",
       " 'magnificent',\n",
       " 'nice',\n",
       " 'other',\n",
       " 'outtie',\n",
       " 'personal',\n",
       " 'private',\n",
       " 'puffy',\n",
       " 'ready',\n",
       " 'right',\n",
       " 'safe',\n",
       " 'senseless',\n",
       " 'serene',\n",
       " 'sexy',\n",
       " 'silly',\n",
       " 'single',\n",
       " 'sober',\n",
       " 'square',\n",
       " 'sweet',\n",
       " 'tall',\n",
       " 'true',\n",
       " 'un',\n",
       " 'unforgettable',\n",
       " 'wet',\n",
       " 'xxxscr3w3dupxxx',\n",
       " 'yearly',\n",
       " 'young',\n",
       " 'zoom'}"
      ]
     },
     "execution_count": 394,
     "metadata": {},
     "output_type": "execute_result"
    }
   ],
   "source": [
    "seeds_to_augments['happy']"
   ]
  },
  {
   "cell_type": "code",
   "execution_count": 395,
   "metadata": {},
   "outputs": [],
   "source": [
    "for song in songs:\n",
    "    lines = get_cleaned_song(songs, cleaned_songs, song)\n",
    "    for line in lines.splitlines():\n",
    "        analyzed_line = nlp(line)\n",
    "        for sent in analyzed_song.sents:\n",
    "            pattern = []\n",
    "            tokens = []\n",
    "            for token in sent:\n",
    "                if token.pos_ not in extraction_patterns_to_avoid:\n",
    "                    pattern.append(str(token.pos_).lower())\n",
    "                    tokens.append(token.lemma_)\n",
    "            pattern = \",\".join(pattern)\n",
    "            if pattern in extraction_patterns:\n",
    "                for seed in extraction_pattern_details[pattern]:\n",
    "                    seed = seed.lower()\n",
    "                    if seed in seeds_to_augments:\n",
    "                        for index in extraction_pattern_details[pattern][seed]:\n",
    "                            seeds_to_augments[seed].add(tokens[index])\n",
    "                    else:\n",
    "                        seeds_to_augments[seed] = set()\n",
    "                        for index in extraction_pattern_details[pattern][seed]:\n",
    "                            seeds_to_augments[seed].add(tokens[index])"
   ]
  },
  {
   "cell_type": "markdown",
   "metadata": {},
   "source": [
    "### Restrictive Bootstrapping"
   ]
  },
  {
   "cell_type": "code",
   "execution_count": 490,
   "metadata": {},
   "outputs": [],
   "source": [
    "r_extraction_pattern_details = {}\n",
    "r_extraction_patterns = []"
   ]
  },
  {
   "cell_type": "code",
   "execution_count": 491,
   "metadata": {},
   "outputs": [],
   "source": [
    "for song in songs:\n",
    "    analyzed_song = nlp(get_cleaned_song(songs, cleaned_songs, song))\n",
    "    for sent in analyzed_song.sents:\n",
    "        for token in sent:\n",
    "            if token.text in seeds or token.lemma_ in seeds:\n",
    "                pre_tokens = []\n",
    "                post_tokens = []\n",
    "                is_pre_complete = False\n",
    "                seed_token = None\n",
    "                for _token in sent:\n",
    "                    if _token.pos_ not in extraction_patterns_to_avoid:\n",
    "                        if not is_pre_complete:\n",
    "                            if _token.text in seeds or _token.lemma_ in seeds:\n",
    "                                is_pre_complete = True\n",
    "                                seed_token = _token.lemma_\n",
    "                                continue\n",
    "                        if is_pre_complete:\n",
    "                            post_tokens.append(_token.lemma_)\n",
    "                        else:\n",
    "                            pre_tokens.append(_token.lemma_)\n",
    "                            \n",
    "                pattern_start = ','.join(pre_tokens)\n",
    "                pattern_end = \",\".join(post_tokens)\n",
    "\n",
    "                if pattern_start in r_extraction_pattern_details:\n",
    "#                     if seed_token in r_extraction_pattern_details[pattern_start]:\n",
    "#                         r_extraction_pattern_details[pattern_start][seed_token].add(pattern_end)\n",
    "#                     else:\n",
    "#                         r_extraction_pattern_details[pattern_start][seed_token] = set()\n",
    "#                         r_extraction_pattern_details[pattern_start][seed_token].add(pattern_end)\n",
    "                    \n",
    "                    if pattern_end in r_extraction_pattern_details[pattern_start]:\n",
    "                        r_extraction_pattern_details[pattern_start][pattern_end].add(seed_token)\n",
    "                    else:\n",
    "                        r_extraction_pattern_details[pattern_start][pattern_end] = set()\n",
    "                        r_extraction_pattern_details[pattern_start][pattern_end].add(seed_token)\n",
    "                else:\n",
    "                    r_extraction_pattern_details[pattern_start] = {\n",
    "#                         seed_token: set([pattern_end]), \n",
    "                        pattern_end: set([seed_token])}\n",
    "                break"
   ]
  },
  {
   "cell_type": "code",
   "execution_count": 493,
   "metadata": {},
   "outputs": [
    {
     "data": {
      "text/plain": [
       "10907"
      ]
     },
     "execution_count": 493,
     "metadata": {},
     "output_type": "execute_result"
    }
   ],
   "source": [
    "len(r_extraction_pattern_details)"
   ]
  },
  {
   "cell_type": "code",
   "execution_count": 549,
   "metadata": {},
   "outputs": [],
   "source": [
    "r_seeds_to_augments = {}"
   ]
  },
  {
   "cell_type": "code",
   "execution_count": 550,
   "metadata": {},
   "outputs": [],
   "source": [
    "for song in songs:\n",
    "    analyzed_song = nlp(get_cleaned_song(songs, cleaned_songs, song))\n",
    "    for sent in analyzed_song.sents:\n",
    "        pre_tokens = []\n",
    "        is_pre_complete = False\n",
    "        for i in range(len(sent)):\n",
    "            token = sent[i]\n",
    "            if token.pos_ not in extraction_patterns_to_avoid:\n",
    "                pre_tokens.append(token.lemma_)\n",
    "                pattern = \",\".join(pre_tokens)\n",
    "                if i < len(sent) - 2:\n",
    "                    word = sent[i+1].lemma_.lower()\n",
    "                    if pattern in r_extraction_pattern_details:\n",
    "                        post_tokens = []\n",
    "                        for j in range(i+2, len(sent)):\n",
    "                            _token = sent[j]\n",
    "                            if _token.pos_ not in extraction_patterns_to_avoid:\n",
    "                                post_tokens.append(token.lemma_)\n",
    "                                post_pattern = \",\".join(post_tokens)\n",
    "                                if post_pattern in r_extraction_pattern_details[pattern]:\n",
    "                                    for seed in r_extraction_pattern_details[pattern][post_pattern]:\n",
    "                                        if seed in r_seeds_to_augments:\n",
    "                                            r_seeds_to_augments[seed].add(word)\n",
    "                                        else:\n",
    "                                            r_seeds_to_augments[seed] = set()\n",
    "                                            r_seeds_to_augments[seed].add(word)"
   ]
  },
  {
   "cell_type": "code",
   "execution_count": 551,
   "metadata": {},
   "outputs": [
    {
     "data": {
      "text/plain": [
       "dict_keys(['smell', 'watch', 'love', 'lose', 'hear', 'play', 'meet', 'open', 'believe', 'hold', 'shake', 'leave', 'feel', 'hell', 'body', 'pool', 'hit', 'fit', 'save', 'tear', 'mirror', 'help', 'round', 'young', 'kiss', 'check', 'suppose', 'catch'])"
      ]
     },
     "execution_count": 551,
     "metadata": {},
     "output_type": "execute_result"
    }
   ],
   "source": [
    "r_seeds_to_augments.keys()"
   ]
  },
  {
   "cell_type": "code",
   "execution_count": 552,
   "metadata": {},
   "outputs": [
    {
     "data": {
      "text/plain": [
       "{'be', 'mirror', 'speak'}"
      ]
     },
     "execution_count": 552,
     "metadata": {},
     "output_type": "execute_result"
    }
   ],
   "source": [
    "r_seeds_to_augments['mirror']"
   ]
  },
  {
   "cell_type": "code",
   "execution_count": 553,
   "metadata": {
    "scrolled": false
   },
   "outputs": [
    {
     "data": {
      "text/plain": [
       "['woman',\n",
       " 'slang',\n",
       " 'satisfy',\n",
       " 'mouth',\n",
       " 'count',\n",
       " 'rain',\n",
       " 'must',\n",
       " 'mobile',\n",
       " 'wail',\n",
       " 'already']"
      ]
     },
     "execution_count": 553,
     "metadata": {},
     "output_type": "execute_result"
    }
   ],
   "source": [
    "[word for word in r_seeds_to_augments['watch'] if len(word)>3][:10]"
   ]
  },
  {
   "cell_type": "code",
   "execution_count": 554,
   "metadata": {},
   "outputs": [
    {
     "data": {
      "text/plain": [
       "['life',\n",
       " 'find',\n",
       " 'fail',\n",
       " 'throw',\n",
       " 'momma',\n",
       " 'clear',\n",
       " 'change',\n",
       " 'leave',\n",
       " 'just',\n",
       " 'would',\n",
       " 'irritate',\n",
       " 'love',\n",
       " 'have',\n",
       " 'make',\n",
       " 'forget',\n",
       " 'sound',\n",
       " 'take',\n",
       " 'choose',\n",
       " 'like',\n",
       " 'ever',\n",
       " 'tell',\n",
       " 'plan',\n",
       " 'keep',\n",
       " 'fight',\n",
       " 'will']"
      ]
     },
     "execution_count": 554,
     "metadata": {},
     "output_type": "execute_result"
    }
   ],
   "source": [
    "[word for word in r_seeds_to_augments['feel'] if len(word)>3][:25]"
   ]
  },
  {
   "cell_type": "code",
   "execution_count": 555,
   "metadata": {},
   "outputs": [
    {
     "data": {
      "text/plain": [
       "['mirror', 'speak']"
      ]
     },
     "execution_count": 555,
     "metadata": {},
     "output_type": "execute_result"
    }
   ],
   "source": [
    "[word for word in r_seeds_to_augments['mirror'] if len(word)>3][:10]"
   ]
  },
  {
   "cell_type": "code",
   "execution_count": 556,
   "metadata": {},
   "outputs": [
    {
     "data": {
      "text/plain": [
       "['catch']"
      ]
     },
     "execution_count": 556,
     "metadata": {},
     "output_type": "execute_result"
    }
   ],
   "source": [
    "[word for word in r_seeds_to_augments['catch'] if len(word)>3][:10]"
   ]
  },
  {
   "cell_type": "code",
   "execution_count": 557,
   "metadata": {},
   "outputs": [
    {
     "data": {
      "text/plain": [
       "['like',\n",
       " 'hate',\n",
       " 'free',\n",
       " 'body',\n",
       " 'sorry',\n",
       " 'really',\n",
       " 'stand',\n",
       " 'thirty',\n",
       " 'sittin',\n",
       " 'reproduce',\n",
       " 'just',\n",
       " 'hold',\n",
       " 'gettin',\n",
       " 'solo',\n",
       " 'only',\n",
       " 'digital',\n",
       " 'bounce',\n",
       " 'freedom',\n",
       " 'reminisce']"
      ]
     },
     "execution_count": 557,
     "metadata": {},
     "output_type": "execute_result"
    }
   ],
   "source": [
    "[word for word in r_seeds_to_augments['body'] if len(word)>3][:25]"
   ]
  },
  {
   "cell_type": "code",
   "execution_count": 558,
   "metadata": {},
   "outputs": [
    {
     "data": {
      "text/plain": [
       "['fit']"
      ]
     },
     "execution_count": 558,
     "metadata": {},
     "output_type": "execute_result"
    }
   ],
   "source": [
    "[word for word in r_seeds_to_augments['fit'] if len(word)>=3][:10]"
   ]
  },
  {
   "cell_type": "code",
   "execution_count": null,
   "metadata": {},
   "outputs": [],
   "source": []
  }
 ],
 "metadata": {
  "kernelspec": {
   "display_name": "Python 3",
   "language": "python",
   "name": "python3"
  },
  "language_info": {
   "codemirror_mode": {
    "name": "ipython",
    "version": 3
   },
   "file_extension": ".py",
   "mimetype": "text/x-python",
   "name": "python",
   "nbconvert_exporter": "python",
   "pygments_lexer": "ipython3",
   "version": "3.7.4"
  }
 },
 "nbformat": 4,
 "nbformat_minor": 2
}
